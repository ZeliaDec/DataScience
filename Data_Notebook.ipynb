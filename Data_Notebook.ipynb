{
 "cells": [
  {
   "cell_type": "markdown",
   "id": "bf9a33c6",
   "metadata": {
    "id": "bf9a33c6",
    "jp-MarkdownHeadingCollapsed": true
   },
   "source": [
    "# What is the impact of agricultural corn field expansion rate on deforestation rate in countries?\n"
   ]
  },
  {
   "cell_type": "markdown",
   "id": "dbde686a",
   "metadata": {
    "id": "dbde686a"
   },
   "source": [
    "By Platypus"
   ]
  },
  {
   "cell_type": "markdown",
   "id": "cb088830",
   "metadata": {},
   "source": [
    "## Table of Contents\n",
    "1. [Building our table](#Getting-the-Data)\n",
    "    - [Environment setup](#Environment-up)\n",
    "    - [Variable X: Cornfield data](#Cornfield-Data)\n",
    "    - [Variable Y: Forest area](#Forest-Area)\n",
    "    - [Heterogeneity Variable: Land available for corn expansion other than forests](#Heterogeneity-variable)\n",
    "    - [Confounders](#Confounders)\n",
    "        - [Average Temperature](#Average-Temperature)\n",
    "        - [GDP](#GDP)\n",
    "    "
   ]
  },
  {
   "cell_type": "code",
   "execution_count": 525,
   "id": "2ce92134",
   "metadata": {
    "id": "2ce92134"
   },
   "outputs": [],
   "source": [
    "# CSV files\n",
    "filepath = 'https://raw.githubusercontent.com/ZeliaDec/DataScience/main/Data/'\n",
    "csv_cornland = filepath + 'FAOSTAT_data_en_10-2-2024.csv'\n",
    "csv_landcover = filepath + \"FAOSTAT_data_en_11-18-2024.csv\""
   ]
  },
  {
   "cell_type": "markdown",
   "id": "5a174328",
   "metadata": {
    "id": "5a174328"
   },
   "source": [
    "## Getting the Data"
   ]
  },
  {
   "cell_type": "markdown",
   "id": "00745d2b",
   "metadata": {},
   "source": [
    "### Environment setup"
   ]
  },
  {
   "cell_type": "markdown",
   "id": "7643e095",
   "metadata": {
    "id": "7643e095"
   },
   "source": [
    "#### Installing packages"
   ]
  },
  {
   "cell_type": "code",
   "execution_count": 526,
   "id": "ff0f13c3",
   "metadata": {
    "colab": {
     "base_uri": "https://localhost:8080/"
    },
    "id": "ff0f13c3",
    "outputId": "69806d95-7c95-45e3-b302-87e3cd6e8af5",
    "scrolled": true
   },
   "outputs": [
    {
     "name": "stdout",
     "output_type": "stream",
     "text": [
      "Defaulting to user installation because normal site-packages is not writeable\n",
      "Requirement already satisfied: wbdata in /Users/zeliadecaillet/Library/Python/3.9/lib/python/site-packages (1.0.0)\n",
      "Requirement already satisfied: appdirs<2.0,>=1.4 in /Users/zeliadecaillet/Library/Python/3.9/lib/python/site-packages (from wbdata) (1.4.4)\n",
      "Requirement already satisfied: backoff<3.0.0,>=2.2.1 in /Users/zeliadecaillet/Library/Python/3.9/lib/python/site-packages (from wbdata) (2.2.1)\n",
      "Requirement already satisfied: cachetools<6.0.0,>=5.3.2 in /Users/zeliadecaillet/Library/Python/3.9/lib/python/site-packages (from wbdata) (5.5.0)\n",
      "Requirement already satisfied: dateparser<2.0.0,>=1.2.0 in /Users/zeliadecaillet/Library/Python/3.9/lib/python/site-packages (from wbdata) (1.2.0)\n",
      "Requirement already satisfied: decorator<6.0.0,>=5.1.1 in /Users/zeliadecaillet/Library/Python/3.9/lib/python/site-packages (from wbdata) (5.1.1)\n",
      "Requirement already satisfied: requests<3.0,>=2.0 in /Users/zeliadecaillet/Library/Python/3.9/lib/python/site-packages (from wbdata) (2.32.3)\n",
      "Requirement already satisfied: shelved-cache<0.4.0,>=0.3.1 in /Users/zeliadecaillet/Library/Python/3.9/lib/python/site-packages (from wbdata) (0.3.1)\n",
      "Requirement already satisfied: tabulate<0.9.0,>=0.8.5 in /Users/zeliadecaillet/Library/Python/3.9/lib/python/site-packages (from wbdata) (0.8.10)\n",
      "Requirement already satisfied: python-dateutil in /Users/zeliadecaillet/Library/Python/3.9/lib/python/site-packages (from dateparser<2.0.0,>=1.2.0->wbdata) (2.9.0.post0)\n",
      "Requirement already satisfied: pytz in /Users/zeliadecaillet/Library/Python/3.9/lib/python/site-packages (from dateparser<2.0.0,>=1.2.0->wbdata) (2024.2)\n",
      "Requirement already satisfied: regex!=2019.02.19,!=2021.8.27 in /Users/zeliadecaillet/Library/Python/3.9/lib/python/site-packages (from dateparser<2.0.0,>=1.2.0->wbdata) (2024.11.6)\n",
      "Requirement already satisfied: tzlocal in /Users/zeliadecaillet/Library/Python/3.9/lib/python/site-packages (from dateparser<2.0.0,>=1.2.0->wbdata) (5.2)\n",
      "Requirement already satisfied: charset-normalizer<4,>=2 in /Users/zeliadecaillet/Library/Python/3.9/lib/python/site-packages (from requests<3.0,>=2.0->wbdata) (3.4.0)\n",
      "Requirement already satisfied: idna<4,>=2.5 in /Users/zeliadecaillet/Library/Python/3.9/lib/python/site-packages (from requests<3.0,>=2.0->wbdata) (3.10)\n",
      "Requirement already satisfied: urllib3<3,>=1.21.1 in /Users/zeliadecaillet/Library/Python/3.9/lib/python/site-packages (from requests<3.0,>=2.0->wbdata) (2.2.3)\n",
      "Requirement already satisfied: certifi>=2017.4.17 in /Users/zeliadecaillet/Library/Python/3.9/lib/python/site-packages (from requests<3.0,>=2.0->wbdata) (2024.8.30)\n",
      "Requirement already satisfied: six>=1.5 in /Applications/Xcode.app/Contents/Developer/Library/Frameworks/Python3.framework/Versions/3.9/lib/python3.9/site-packages (from python-dateutil->dateparser<2.0.0,>=1.2.0->wbdata) (1.15.0)\n",
      "Note: you may need to restart the kernel to use updated packages.\n"
     ]
    }
   ],
   "source": [
    "pip install wbdata"
   ]
  },
  {
   "cell_type": "code",
   "execution_count": 527,
   "id": "c63153d5",
   "metadata": {
    "colab": {
     "base_uri": "https://localhost:8080/"
    },
    "id": "c63153d5",
    "outputId": "e59e1482-f8f1-4c96-fc4f-e1d45a266198",
    "scrolled": true
   },
   "outputs": [
    {
     "name": "stdout",
     "output_type": "stream",
     "text": [
      "Defaulting to user installation because normal site-packages is not writeable\n",
      "Requirement already satisfied: pycountry in /Users/zeliadecaillet/Library/Python/3.9/lib/python/site-packages (24.6.1)\n",
      "Note: you may need to restart the kernel to use updated packages.\n"
     ]
    }
   ],
   "source": [
    "pip install pycountry"
   ]
  },
  {
   "cell_type": "markdown",
   "id": "aeb82b64",
   "metadata": {
    "id": "aeb82b64"
   },
   "source": [
    "#### Import libraries"
   ]
  },
  {
   "cell_type": "code",
   "execution_count": 528,
   "id": "c3cc96f3",
   "metadata": {
    "id": "c3cc96f3"
   },
   "outputs": [],
   "source": [
    "import pandas as pd\n",
    "import re\n",
    "import matplotlib.pyplot as plt\n",
    "import seaborn as sns\n",
    "import wbdata\n",
    "import numpy as np\n",
    "import pycountry\n",
    "import plotly.express as px"
   ]
  },
  {
   "cell_type": "markdown",
   "id": "08b17fb4",
   "metadata": {},
   "source": [
    "#### Functions \n",
    "The functions below to map country reference (country name or M49) with standardize country names (ISO3)"
   ]
  },
  {
   "cell_type": "markdown",
   "id": "9e7004ce",
   "metadata": {},
   "source": [
    "##### From Country Name to ISO3"
   ]
  },
  {
   "cell_type": "code",
   "execution_count": 529,
   "id": "71e6fbf1",
   "metadata": {
    "id": "71e6fbf1"
   },
   "outputs": [],
   "source": [
    "# Function to get ISO-3 country code from country name\n",
    "def get_iso3(country_name):\n",
    "    try:\n",
    "        return pycountry.countries.lookup(country_name).alpha_3\n",
    "    except LookupError:\n",
    "        return None"
   ]
  },
  {
   "cell_type": "code",
   "execution_count": 530,
   "id": "cc764387",
   "metadata": {},
   "outputs": [
    {
     "data": {
      "text/plain": [
       "'Palestine, State of'"
      ]
     },
     "execution_count": 530,
     "metadata": {},
     "output_type": "execute_result"
    }
   ],
   "source": [
    "# Lookup the country by ISO3 code\n",
    "country = pycountry.countries.get(alpha_3='PSE')\n",
    "\n",
    "# Display the country name\n",
    "country.name"
   ]
  },
  {
   "cell_type": "markdown",
   "id": "2b6f1545",
   "metadata": {},
   "source": [
    "##### From M49 to ISO3\n",
    "M49 is a 3-digit numerical and alphabetical code assigned to countries"
   ]
  },
  {
   "cell_type": "code",
   "execution_count": 531,
   "id": "d6d04c6c",
   "metadata": {},
   "outputs": [],
   "source": [
    "def m49_to_iso3(m49_code):\n",
    "    for country in pycountry.countries:\n",
    "        if hasattr(country, 'numeric') and int(country.numeric) == m49_code:\n",
    "            return country.alpha_3\n",
    "    return None"
   ]
  },
  {
   "cell_type": "markdown",
   "id": "e8708b81",
   "metadata": {},
   "source": [
    "# <hr>"
   ]
  },
  {
   "cell_type": "markdown",
   "id": "f52c5abc",
   "metadata": {
    "id": "f52c5abc"
   },
   "source": [
    "### Cornfield Data"
   ]
  },
  {
   "cell_type": "markdown",
   "id": "9babf4cf",
   "metadata": {},
   "source": [
    "<p style=\"font-family: 'Trebuchet', sans-serif; font-size:16px;text-align:justify;line-height: 1.6;\">Import of the csv file with that contains the data for the size of the cornfield (in ha) in countries  </p>"
   ]
  },
  {
   "cell_type": "code",
   "execution_count": 532,
   "id": "685f1d11",
   "metadata": {
    "colab": {
     "base_uri": "https://localhost:8080/",
     "height": 521
    },
    "id": "685f1d11",
    "outputId": "30add930-7d7e-4ecd-a24a-356bf45afd10"
   },
   "outputs": [
    {
     "data": {
      "text/html": [
       "<div>\n",
       "<style scoped>\n",
       "    .dataframe tbody tr th:only-of-type {\n",
       "        vertical-align: middle;\n",
       "    }\n",
       "\n",
       "    .dataframe tbody tr th {\n",
       "        vertical-align: top;\n",
       "    }\n",
       "\n",
       "    .dataframe thead th {\n",
       "        text-align: right;\n",
       "    }\n",
       "</style>\n",
       "<table border=\"1\" class=\"dataframe\">\n",
       "  <thead>\n",
       "    <tr style=\"text-align: right;\">\n",
       "      <th></th>\n",
       "      <th>Domain Code</th>\n",
       "      <th>Domain</th>\n",
       "      <th>Area Code (M49)</th>\n",
       "      <th>Area</th>\n",
       "      <th>Element Code</th>\n",
       "      <th>Element</th>\n",
       "      <th>Item Code (CPC)</th>\n",
       "      <th>Item</th>\n",
       "      <th>Year Code</th>\n",
       "      <th>Year</th>\n",
       "      <th>Unit</th>\n",
       "      <th>Value</th>\n",
       "      <th>Flag</th>\n",
       "      <th>Flag Description</th>\n",
       "      <th>Note</th>\n",
       "    </tr>\n",
       "  </thead>\n",
       "  <tbody>\n",
       "    <tr>\n",
       "      <th>0</th>\n",
       "      <td>QCL</td>\n",
       "      <td>Crops and livestock products</td>\n",
       "      <td>4</td>\n",
       "      <td>Afghanistan</td>\n",
       "      <td>5312</td>\n",
       "      <td>Area harvested</td>\n",
       "      <td>112</td>\n",
       "      <td>Maize (corn)</td>\n",
       "      <td>1961</td>\n",
       "      <td>1961</td>\n",
       "      <td>ha</td>\n",
       "      <td>500000</td>\n",
       "      <td>A</td>\n",
       "      <td>Official figure</td>\n",
       "      <td>NaN</td>\n",
       "    </tr>\n",
       "    <tr>\n",
       "      <th>1</th>\n",
       "      <td>QCL</td>\n",
       "      <td>Crops and livestock products</td>\n",
       "      <td>4</td>\n",
       "      <td>Afghanistan</td>\n",
       "      <td>5312</td>\n",
       "      <td>Area harvested</td>\n",
       "      <td>112</td>\n",
       "      <td>Maize (corn)</td>\n",
       "      <td>1962</td>\n",
       "      <td>1962</td>\n",
       "      <td>ha</td>\n",
       "      <td>500000</td>\n",
       "      <td>A</td>\n",
       "      <td>Official figure</td>\n",
       "      <td>NaN</td>\n",
       "    </tr>\n",
       "    <tr>\n",
       "      <th>2</th>\n",
       "      <td>QCL</td>\n",
       "      <td>Crops and livestock products</td>\n",
       "      <td>4</td>\n",
       "      <td>Afghanistan</td>\n",
       "      <td>5312</td>\n",
       "      <td>Area harvested</td>\n",
       "      <td>112</td>\n",
       "      <td>Maize (corn)</td>\n",
       "      <td>1963</td>\n",
       "      <td>1963</td>\n",
       "      <td>ha</td>\n",
       "      <td>500000</td>\n",
       "      <td>A</td>\n",
       "      <td>Official figure</td>\n",
       "      <td>NaN</td>\n",
       "    </tr>\n",
       "    <tr>\n",
       "      <th>3</th>\n",
       "      <td>QCL</td>\n",
       "      <td>Crops and livestock products</td>\n",
       "      <td>4</td>\n",
       "      <td>Afghanistan</td>\n",
       "      <td>5312</td>\n",
       "      <td>Area harvested</td>\n",
       "      <td>112</td>\n",
       "      <td>Maize (corn)</td>\n",
       "      <td>1964</td>\n",
       "      <td>1964</td>\n",
       "      <td>ha</td>\n",
       "      <td>505000</td>\n",
       "      <td>A</td>\n",
       "      <td>Official figure</td>\n",
       "      <td>NaN</td>\n",
       "    </tr>\n",
       "    <tr>\n",
       "      <th>4</th>\n",
       "      <td>QCL</td>\n",
       "      <td>Crops and livestock products</td>\n",
       "      <td>4</td>\n",
       "      <td>Afghanistan</td>\n",
       "      <td>5312</td>\n",
       "      <td>Area harvested</td>\n",
       "      <td>112</td>\n",
       "      <td>Maize (corn)</td>\n",
       "      <td>1965</td>\n",
       "      <td>1965</td>\n",
       "      <td>ha</td>\n",
       "      <td>500000</td>\n",
       "      <td>A</td>\n",
       "      <td>Official figure</td>\n",
       "      <td>NaN</td>\n",
       "    </tr>\n",
       "  </tbody>\n",
       "</table>\n",
       "</div>"
      ],
      "text/plain": [
       "  Domain Code                        Domain  Area Code (M49)         Area  \\\n",
       "0         QCL  Crops and livestock products                4  Afghanistan   \n",
       "1         QCL  Crops and livestock products                4  Afghanistan   \n",
       "2         QCL  Crops and livestock products                4  Afghanistan   \n",
       "3         QCL  Crops and livestock products                4  Afghanistan   \n",
       "4         QCL  Crops and livestock products                4  Afghanistan   \n",
       "\n",
       "   Element Code         Element  Item Code (CPC)          Item  Year Code  \\\n",
       "0          5312  Area harvested              112  Maize (corn)       1961   \n",
       "1          5312  Area harvested              112  Maize (corn)       1962   \n",
       "2          5312  Area harvested              112  Maize (corn)       1963   \n",
       "3          5312  Area harvested              112  Maize (corn)       1964   \n",
       "4          5312  Area harvested              112  Maize (corn)       1965   \n",
       "\n",
       "   Year Unit   Value Flag Flag Description Note  \n",
       "0  1961   ha  500000    A  Official figure  NaN  \n",
       "1  1962   ha  500000    A  Official figure  NaN  \n",
       "2  1963   ha  500000    A  Official figure  NaN  \n",
       "3  1964   ha  505000    A  Official figure  NaN  \n",
       "4  1965   ha  500000    A  Official figure  NaN  "
      ]
     },
     "execution_count": 532,
     "metadata": {},
     "output_type": "execute_result"
    }
   ],
   "source": [
    "corn_df = pd.read_csv(csv_cornland)\n",
    "corn_df.head()"
   ]
  },
  {
   "cell_type": "markdown",
   "id": "97d02e4e",
   "metadata": {},
   "source": [
    "<p style=\"font-family: 'Trebuchet', sans-serif; font-size:16px;text-align:justify;line-height: 1.6;\"> The heterogeneity variable that is build some steps further, need the data of cornfield in 1992.</p>"
   ]
  },
  {
   "cell_type": "code",
   "execution_count": 533,
   "id": "7efd76fb",
   "metadata": {},
   "outputs": [
    {
     "name": "stdout",
     "output_type": "stream",
     "text": [
      "List of countries with no data in 1992:  []\n"
     ]
    },
    {
     "data": {
      "text/html": [
       "<div>\n",
       "<style scoped>\n",
       "    .dataframe tbody tr th:only-of-type {\n",
       "        vertical-align: middle;\n",
       "    }\n",
       "\n",
       "    .dataframe tbody tr th {\n",
       "        vertical-align: top;\n",
       "    }\n",
       "\n",
       "    .dataframe thead th {\n",
       "        text-align: right;\n",
       "    }\n",
       "</style>\n",
       "<table border=\"1\" class=\"dataframe\">\n",
       "  <thead>\n",
       "    <tr style=\"text-align: right;\">\n",
       "      <th></th>\n",
       "      <th>country</th>\n",
       "      <th>corn1992</th>\n",
       "    </tr>\n",
       "  </thead>\n",
       "  <tbody>\n",
       "    <tr>\n",
       "      <th>31</th>\n",
       "      <td>Afghanistan</td>\n",
       "      <td>2000.00</td>\n",
       "    </tr>\n",
       "    <tr>\n",
       "      <th>93</th>\n",
       "      <td>Albania</td>\n",
       "      <td>627.36</td>\n",
       "    </tr>\n",
       "    <tr>\n",
       "      <th>155</th>\n",
       "      <td>Algeria</td>\n",
       "      <td>2.90</td>\n",
       "    </tr>\n",
       "    <tr>\n",
       "      <th>217</th>\n",
       "      <td>Angola</td>\n",
       "      <td>8470.00</td>\n",
       "    </tr>\n",
       "    <tr>\n",
       "      <th>274</th>\n",
       "      <td>Antigua and Barbuda</td>\n",
       "      <td>0.30</td>\n",
       "    </tr>\n",
       "  </tbody>\n",
       "</table>\n",
       "</div>"
      ],
      "text/plain": [
       "                 country  corn1992\n",
       "31           Afghanistan   2000.00\n",
       "93               Albania    627.36\n",
       "155              Algeria      2.90\n",
       "217               Angola   8470.00\n",
       "274  Antigua and Barbuda      0.30"
      ]
     },
     "execution_count": 533,
     "metadata": {},
     "output_type": "execute_result"
    }
   ],
   "source": [
    "# Filter the data for the year 1992\n",
    "data_1992 = corn_df[corn_df[\"Year\"] == 1992]\n",
    "\n",
    "# Find countries with missing values in the \"Value\" column\n",
    "countries_no_value_1992 = data_1992[data_1992[\"Value\"].isnull()][\"Area\"].unique()\n",
    "\n",
    "# Convert to list\n",
    "countries_no_value_1992_list = countries_no_value_1992.tolist()\n",
    "\n",
    "# Keep the relevant columns\n",
    "data_1992 = data_1992[[\"Area\", \"Value\"]]\n",
    "\n",
    "# Rename the columns\n",
    "data_1992.rename(columns={\"Area\": \"country\", \"Value\": \"corn1992\"}, inplace=True)\n",
    "\n",
    "# Convert ha in sq km \n",
    "data_1992[\"corn1992\"] = data_1992[\"corn1992\"]*0.01\n",
    "\n",
    "# Drop rows with missing values\n",
    "data_1992 = data_1992.dropna()\n",
    "\n",
    "print(\"List of countries with no data in 1992: \", countries_no_value_1992_list)\n",
    "\n",
    "data_1992.head()"
   ]
  },
  {
   "cell_type": "markdown",
   "id": "aaeafdf3",
   "metadata": {},
   "source": [
    "<p style=\"font-family: 'Trebuchet', sans-serif; font-size:16px;text-align:justify;line-height: 1.6;\"> Getting the data from year 2000 to 2021 to construct the x variable.</p>"
   ]
  },
  {
   "cell_type": "code",
   "execution_count": 534,
   "id": "462e6a9d",
   "metadata": {
    "colab": {
     "base_uri": "https://localhost:8080/",
     "height": 521
    },
    "id": "462e6a9d",
    "outputId": "c121aaa2-cbad-4153-a9b3-be363e8afc4c"
   },
   "outputs": [
    {
     "data": {
      "text/html": [
       "<div>\n",
       "<style scoped>\n",
       "    .dataframe tbody tr th:only-of-type {\n",
       "        vertical-align: middle;\n",
       "    }\n",
       "\n",
       "    .dataframe tbody tr th {\n",
       "        vertical-align: top;\n",
       "    }\n",
       "\n",
       "    .dataframe thead th {\n",
       "        text-align: right;\n",
       "    }\n",
       "</style>\n",
       "<table border=\"1\" class=\"dataframe\">\n",
       "  <thead>\n",
       "    <tr style=\"text-align: right;\">\n",
       "      <th></th>\n",
       "      <th>Domain Code</th>\n",
       "      <th>Domain</th>\n",
       "      <th>Area Code (M49)</th>\n",
       "      <th>Area</th>\n",
       "      <th>Element Code</th>\n",
       "      <th>Element</th>\n",
       "      <th>Item Code (CPC)</th>\n",
       "      <th>Item</th>\n",
       "      <th>Year Code</th>\n",
       "      <th>Year</th>\n",
       "      <th>Unit</th>\n",
       "      <th>Value</th>\n",
       "      <th>Flag</th>\n",
       "      <th>Flag Description</th>\n",
       "      <th>Note</th>\n",
       "    </tr>\n",
       "  </thead>\n",
       "  <tbody>\n",
       "    <tr>\n",
       "      <th>39</th>\n",
       "      <td>QCL</td>\n",
       "      <td>Crops and livestock products</td>\n",
       "      <td>4</td>\n",
       "      <td>Afghanistan</td>\n",
       "      <td>5312</td>\n",
       "      <td>Area harvested</td>\n",
       "      <td>112</td>\n",
       "      <td>Maize (corn)</td>\n",
       "      <td>2000</td>\n",
       "      <td>2000</td>\n",
       "      <td>ha</td>\n",
       "      <td>96000</td>\n",
       "      <td>A</td>\n",
       "      <td>Official figure</td>\n",
       "      <td>NaN</td>\n",
       "    </tr>\n",
       "    <tr>\n",
       "      <th>40</th>\n",
       "      <td>QCL</td>\n",
       "      <td>Crops and livestock products</td>\n",
       "      <td>4</td>\n",
       "      <td>Afghanistan</td>\n",
       "      <td>5312</td>\n",
       "      <td>Area harvested</td>\n",
       "      <td>112</td>\n",
       "      <td>Maize (corn)</td>\n",
       "      <td>2001</td>\n",
       "      <td>2001</td>\n",
       "      <td>ha</td>\n",
       "      <td>80000</td>\n",
       "      <td>A</td>\n",
       "      <td>Official figure</td>\n",
       "      <td>NaN</td>\n",
       "    </tr>\n",
       "    <tr>\n",
       "      <th>41</th>\n",
       "      <td>QCL</td>\n",
       "      <td>Crops and livestock products</td>\n",
       "      <td>4</td>\n",
       "      <td>Afghanistan</td>\n",
       "      <td>5312</td>\n",
       "      <td>Area harvested</td>\n",
       "      <td>112</td>\n",
       "      <td>Maize (corn)</td>\n",
       "      <td>2002</td>\n",
       "      <td>2002</td>\n",
       "      <td>ha</td>\n",
       "      <td>100000</td>\n",
       "      <td>A</td>\n",
       "      <td>Official figure</td>\n",
       "      <td>NaN</td>\n",
       "    </tr>\n",
       "    <tr>\n",
       "      <th>42</th>\n",
       "      <td>QCL</td>\n",
       "      <td>Crops and livestock products</td>\n",
       "      <td>4</td>\n",
       "      <td>Afghanistan</td>\n",
       "      <td>5312</td>\n",
       "      <td>Area harvested</td>\n",
       "      <td>112</td>\n",
       "      <td>Maize (corn)</td>\n",
       "      <td>2003</td>\n",
       "      <td>2003</td>\n",
       "      <td>ha</td>\n",
       "      <td>250000</td>\n",
       "      <td>A</td>\n",
       "      <td>Official figure</td>\n",
       "      <td>NaN</td>\n",
       "    </tr>\n",
       "    <tr>\n",
       "      <th>43</th>\n",
       "      <td>QCL</td>\n",
       "      <td>Crops and livestock products</td>\n",
       "      <td>4</td>\n",
       "      <td>Afghanistan</td>\n",
       "      <td>5312</td>\n",
       "      <td>Area harvested</td>\n",
       "      <td>112</td>\n",
       "      <td>Maize (corn)</td>\n",
       "      <td>2004</td>\n",
       "      <td>2004</td>\n",
       "      <td>ha</td>\n",
       "      <td>250000</td>\n",
       "      <td>A</td>\n",
       "      <td>Official figure</td>\n",
       "      <td>NaN</td>\n",
       "    </tr>\n",
       "  </tbody>\n",
       "</table>\n",
       "</div>"
      ],
      "text/plain": [
       "   Domain Code                        Domain  Area Code (M49)         Area  \\\n",
       "39         QCL  Crops and livestock products                4  Afghanistan   \n",
       "40         QCL  Crops and livestock products                4  Afghanistan   \n",
       "41         QCL  Crops and livestock products                4  Afghanistan   \n",
       "42         QCL  Crops and livestock products                4  Afghanistan   \n",
       "43         QCL  Crops and livestock products                4  Afghanistan   \n",
       "\n",
       "    Element Code         Element  Item Code (CPC)          Item  Year Code  \\\n",
       "39          5312  Area harvested              112  Maize (corn)       2000   \n",
       "40          5312  Area harvested              112  Maize (corn)       2001   \n",
       "41          5312  Area harvested              112  Maize (corn)       2002   \n",
       "42          5312  Area harvested              112  Maize (corn)       2003   \n",
       "43          5312  Area harvested              112  Maize (corn)       2004   \n",
       "\n",
       "    Year Unit   Value Flag Flag Description Note  \n",
       "39  2000   ha   96000    A  Official figure  NaN  \n",
       "40  2001   ha   80000    A  Official figure  NaN  \n",
       "41  2002   ha  100000    A  Official figure  NaN  \n",
       "42  2003   ha  250000    A  Official figure  NaN  \n",
       "43  2004   ha  250000    A  Official figure  NaN  "
      ]
     },
     "execution_count": 534,
     "metadata": {},
     "output_type": "execute_result"
    }
   ],
   "source": [
    "# Filter the data between 2000 and 2021\n",
    "corn_field_data = corn_df\n",
    "corn_field_data = corn_field_data[(corn_field_data['Year'] >= 2000) & (corn_field_data['Year'] <= 2021)]\n",
    "corn_field_data.head()"
   ]
  },
  {
   "cell_type": "code",
   "execution_count": 535,
   "id": "c519f167",
   "metadata": {
    "colab": {
     "base_uri": "https://localhost:8080/"
    },
    "id": "c519f167",
    "outputId": "3e9390e8-bf48-4149-ba08-efe582c07c1d"
   },
   "outputs": [
    {
     "name": "stdout",
     "output_type": "stream",
     "text": [
      "Values hold in the column 'Note': \n",
      " [nan 'Unofficial figure']\n",
      "Values hold in the column 'Flag Description': \n",
      " ['Official figure' 'Estimated value' 'Imputed value'\n",
      " 'Figure from international organizations'\n",
      " 'Missing value (data cannot exist, not applicable)']\n"
     ]
    }
   ],
   "source": [
    "print(\"Values hold in the column 'Note': \\n\", corn_field_data[\"Note\"].unique())\n",
    "\n",
    "print(\"Values hold in the column 'Flag Description': \\n\",corn_field_data[\"Flag Description\"].unique())\n",
    "\n",
    "# Keep only the rows with official figures\n",
    "corn_field_data = corn_field_data[(corn_field_data[\"Flag Description\"] == \"Official figure\") & (corn_field_data[\"Note\"] != \"Unofficial figure\")]"
   ]
  },
  {
   "cell_type": "code",
   "execution_count": 536,
   "id": "e953b13f",
   "metadata": {
    "colab": {
     "base_uri": "https://localhost:8080/"
    },
    "id": "e953b13f",
    "outputId": "b7c1be87-2113-4167-d77f-dfbeeb243e51"
   },
   "outputs": [
    {
     "name": "stdout",
     "output_type": "stream",
     "text": [
      "Number of countries in the cornfield dataset:  162\n"
     ]
    }
   ],
   "source": [
    "# Number of countries in the cornfield dataset\n",
    "print(\"Number of countries in the cornfield dataset: \", corn_field_data[\"Area\"].nunique())"
   ]
  },
  {
   "cell_type": "code",
   "execution_count": 537,
   "id": "666f2b02",
   "metadata": {
    "colab": {
     "base_uri": "https://localhost:8080/",
     "height": 444
    },
    "id": "666f2b02",
    "outputId": "08e354ed-9cf3-4e84-9e00-84eb2ee9c5ad"
   },
   "outputs": [
    {
     "data": {
      "text/html": [
       "<div>\n",
       "<style scoped>\n",
       "    .dataframe tbody tr th:only-of-type {\n",
       "        vertical-align: middle;\n",
       "    }\n",
       "\n",
       "    .dataframe tbody tr th {\n",
       "        vertical-align: top;\n",
       "    }\n",
       "\n",
       "    .dataframe thead th {\n",
       "        text-align: right;\n",
       "    }\n",
       "</style>\n",
       "<table border=\"1\" class=\"dataframe\">\n",
       "  <thead>\n",
       "    <tr style=\"text-align: right;\">\n",
       "      <th></th>\n",
       "      <th>Area</th>\n",
       "      <th>Value</th>\n",
       "      <th>Year</th>\n",
       "    </tr>\n",
       "  </thead>\n",
       "  <tbody>\n",
       "    <tr>\n",
       "      <th>39</th>\n",
       "      <td>Afghanistan</td>\n",
       "      <td>96000</td>\n",
       "      <td>2000</td>\n",
       "    </tr>\n",
       "    <tr>\n",
       "      <th>40</th>\n",
       "      <td>Afghanistan</td>\n",
       "      <td>80000</td>\n",
       "      <td>2001</td>\n",
       "    </tr>\n",
       "    <tr>\n",
       "      <th>41</th>\n",
       "      <td>Afghanistan</td>\n",
       "      <td>100000</td>\n",
       "      <td>2002</td>\n",
       "    </tr>\n",
       "    <tr>\n",
       "      <th>42</th>\n",
       "      <td>Afghanistan</td>\n",
       "      <td>250000</td>\n",
       "      <td>2003</td>\n",
       "    </tr>\n",
       "    <tr>\n",
       "      <th>43</th>\n",
       "      <td>Afghanistan</td>\n",
       "      <td>250000</td>\n",
       "      <td>2004</td>\n",
       "    </tr>\n",
       "  </tbody>\n",
       "</table>\n",
       "</div>"
      ],
      "text/plain": [
       "           Area   Value  Year\n",
       "39  Afghanistan   96000  2000\n",
       "40  Afghanistan   80000  2001\n",
       "41  Afghanistan  100000  2002\n",
       "42  Afghanistan  250000  2003\n",
       "43  Afghanistan  250000  2004"
      ]
     },
     "execution_count": 537,
     "metadata": {},
     "output_type": "execute_result"
    }
   ],
   "source": [
    "# Keep only the relevant columns\n",
    "df_corn = corn_field_data\n",
    "df_corn = df_corn[[\"Area\",\"Value\",\"Year\"]]\n",
    "\n",
    "# Countries with 0 values\n",
    "areas_to_exclude = df_corn[df_corn[\"Value\"] == 0][\"Area\"].unique()\n",
    "# Exclude these countries\n",
    "df_corn = df_corn[~df_corn['Area'].isin(areas_to_exclude)]\n",
    "\n",
    "# Number of observations per country\n",
    "value_counts_per_area = df_corn.groupby(\"Area\")[\"Value\"].count()\n",
    "\n",
    "# List the countries with a number of observations different from 22 (2000-2021)\n",
    "areas_not_equal_to_22 = value_counts_per_area[value_counts_per_area != 22].index\n",
    "# Exclude these countries\n",
    "df_corn = df_corn[~df_corn[\"Area\"].isin(areas_not_equal_to_22)]\n",
    "\n",
    "df_corn.head()"
   ]
  },
  {
   "cell_type": "code",
   "execution_count": 538,
   "id": "0d8737a8",
   "metadata": {
    "colab": {
     "base_uri": "https://localhost:8080/"
    },
    "id": "0d8737a8",
    "outputId": "50753379-1ece-4814-b027-46fa1e34bac7"
   },
   "outputs": [],
   "source": [
    "# Reverting to previous data before dropping and then manually resolving country mismatches\n",
    "country_mapping_corn = {\n",
    "    'Bolivia (Plurinational State of)':'Bolivia, Plurinational State of',\n",
    "    'China, Taiwan Province of':'Taiwan, Province of China',\n",
    "    'China': 'China_',\n",
    "    'China, mainland':'China',\n",
    "    'Democratic Republic of the Congo':'Congo, The Democratic Republic of the',\n",
    "    'Iran (Islamic Republic of)':'Iran, Islamic Republic of',\n",
    "    'Micronesia (Federated States of)': 'Micronesia, Federated States of',\n",
    "    'Netherlands (Kingdom of the)':'Netherlands',\n",
    "    'Republic of Korea': 'Korea, Republic of',\n",
    "    'Venezuela (Bolivarian Republic of)':'Venezuela, Bolivarian Republic of',\n",
    "    # You can add more mappings if necessary\n",
    "}\n"
   ]
  },
  {
   "cell_type": "code",
   "execution_count": 539,
   "id": "19a32aaf",
   "metadata": {
    "colab": {
     "base_uri": "https://localhost:8080/"
    },
    "id": "19a32aaf",
    "outputId": "89c53bb5-bd15-4519-e078-56c6efa48c59"
   },
   "outputs": [
    {
     "data": {
      "text/html": [
       "<div>\n",
       "<style scoped>\n",
       "    .dataframe tbody tr th:only-of-type {\n",
       "        vertical-align: middle;\n",
       "    }\n",
       "\n",
       "    .dataframe tbody tr th {\n",
       "        vertical-align: top;\n",
       "    }\n",
       "\n",
       "    .dataframe thead th {\n",
       "        text-align: right;\n",
       "    }\n",
       "</style>\n",
       "<table border=\"1\" class=\"dataframe\">\n",
       "  <thead>\n",
       "    <tr style=\"text-align: right;\">\n",
       "      <th></th>\n",
       "      <th>country</th>\n",
       "      <th>year</th>\n",
       "      <th>iso3</th>\n",
       "      <th>corn</th>\n",
       "    </tr>\n",
       "  </thead>\n",
       "  <tbody>\n",
       "    <tr>\n",
       "      <th>0</th>\n",
       "      <td>Afghanistan</td>\n",
       "      <td>2000</td>\n",
       "      <td>AFG</td>\n",
       "      <td>960.0</td>\n",
       "    </tr>\n",
       "    <tr>\n",
       "      <th>1</th>\n",
       "      <td>Afghanistan</td>\n",
       "      <td>2001</td>\n",
       "      <td>AFG</td>\n",
       "      <td>800.0</td>\n",
       "    </tr>\n",
       "    <tr>\n",
       "      <th>2</th>\n",
       "      <td>Afghanistan</td>\n",
       "      <td>2002</td>\n",
       "      <td>AFG</td>\n",
       "      <td>1000.0</td>\n",
       "    </tr>\n",
       "    <tr>\n",
       "      <th>3</th>\n",
       "      <td>Afghanistan</td>\n",
       "      <td>2003</td>\n",
       "      <td>AFG</td>\n",
       "      <td>2500.0</td>\n",
       "    </tr>\n",
       "    <tr>\n",
       "      <th>4</th>\n",
       "      <td>Afghanistan</td>\n",
       "      <td>2004</td>\n",
       "      <td>AFG</td>\n",
       "      <td>2500.0</td>\n",
       "    </tr>\n",
       "  </tbody>\n",
       "</table>\n",
       "</div>"
      ],
      "text/plain": [
       "       country  year iso3    corn\n",
       "0  Afghanistan  2000  AFG   960.0\n",
       "1  Afghanistan  2001  AFG   800.0\n",
       "2  Afghanistan  2002  AFG  1000.0\n",
       "3  Afghanistan  2003  AFG  2500.0\n",
       "4  Afghanistan  2004  AFG  2500.0"
      ]
     },
     "execution_count": 539,
     "metadata": {},
     "output_type": "execute_result"
    }
   ],
   "source": [
    "# Replace the country names, so that they match the ISO-3 codes\n",
    "df_corn['Area'] = df_corn['Area'].replace(country_mapping_corn)\n",
    "\n",
    "# Get the ISO-3 code for each country\n",
    "df_corn['iso3'] = df_corn['Area'].apply(get_iso3)\n",
    "\n",
    "# Print the countries with missing ISO-3 codes\n",
    "# Note: China mainland was converted into China and China was dropped\n",
    "#print(df_corn[df_corn['iso3'].isnull()][\"Area\"].unique())\n",
    "\n",
    "# Drop rows with missing values, here missing values for ISO-3 codes\n",
    "df_corn = df_corn.dropna()\n",
    "\n",
    "df_corn = df_corn.reset_index()\n",
    "df_corn.drop('index', axis=1, inplace=True)\n",
    "\n",
    "# Rename the columns\n",
    "df_corn.rename(columns={'Area':'country', 'Value':'corn_ha', 'Year': 'year'}, inplace=True)\n",
    "# Convert ha in sq km\n",
    "df_corn['corn'] = df_corn['corn_ha']*0.01\n",
    "# Drop the column corn in hectares\n",
    "df_corn.drop('corn_ha', axis=1, inplace=True)\n",
    "\n",
    "df_corn.head()"
   ]
  },
  {
   "cell_type": "code",
   "execution_count": 540,
   "id": "455b355a",
   "metadata": {
    "colab": {
     "background_save": true
    },
    "id": "455b355a",
    "outputId": "89fbd887-9067-455f-e6b4-8d6ad17fa110"
   },
   "outputs": [
    {
     "name": "stdout",
     "output_type": "stream",
     "text": [
      "Number of countries in the database 78\n"
     ]
    }
   ],
   "source": [
    "df_corn = pd.merge(df_corn, data_1992, on='country', how='left')\n",
    "df_corn = df_corn.dropna()\n",
    "\n",
    "last_df = df_corn\n",
    "print(\"Number of countries in the database\", last_df['country'].nunique())"
   ]
  },
  {
   "cell_type": "markdown",
   "id": "6ae6f2d5",
   "metadata": {},
   "source": [
    "# <hr>"
   ]
  },
  {
   "cell_type": "markdown",
   "id": "d832b102",
   "metadata": {},
   "source": [
    "## Forest area \n",
    " \n",
    "<p style=\"font-family: 'Trebuchet', sans-serif; font-size:16px; text-align:justify; line-height: 1.6;\">\n",
    "  For both the variable Y and the heterogeneity variable, we will use a \n",
    "  <a href=\"https://www.fao.org/faostat/en/#data/LC\">database about Global Land Cover</a>\n",
    "  provided by FAO, where we have data for 247 countries, and for 14 classes of land cover:\n",
    "</p>\n",
    "<div style=\"column-count: 2; font-size: 14px; line-height: 1.8; font-family: 'Trebuchet', sans-serif;\">\n",
    "  <ol>\n",
    "    <li>Artificial surfaces (including urban and associated areas)</li>\n",
    "    <li>Herbaceous crops</li>\n",
    "    <li>Woody crops</li>\n",
    "    <li>Multiple or layered crops (Not mapped)</li>\n",
    "    <li>Grassland</li>\n",
    "    <li>Tree-covered areas</li>\n",
    "    <li>Mangroves</li>\n",
    "    <li>Shrub-covered areas</li>\n",
    "    <li>Shrubs and/or herbaceous vegetation, aquatic or regularly flooded</li>\n",
    "    <li>Sparsely natural vegetated areas (Not mapped)</li>\n",
    "    <li>Terrestrial barren land</li>\n",
    "    <li>Permanent snow and glaciers</li>\n",
    "    <li>Inland water bodies</li>\n",
    "    <li>Coastal water bodies and intertidal areas</li>\n",
    "  </ol>\n",
    "</div>"
   ]
  },
  {
   "cell_type": "code",
   "execution_count": 541,
   "id": "444844cc",
   "metadata": {
    "colab": {
     "background_save": true
    },
    "id": "444844cc",
    "outputId": "a8143cee-b422-4121-a414-27f170bf3229"
   },
   "outputs": [
    {
     "name": "stdout",
     "output_type": "stream",
     "text": [
      "Number of unique countries: 237\n",
      "List of countries with no ISO3 code: ['Belgium-Luxembourg' 'Channel Islands' 'China' 'Czechoslovakia'\n",
      " 'Ethiopia PDR' 'Johnston Island' 'Midway Island'\n",
      " 'Netherlands Antilles (former)' 'Serbia and Montenegro' 'Sudan (former)'\n",
      " 'Wake Island']\n"
     ]
    }
   ],
   "source": [
    "# Load the landcover data\n",
    "landcover_data = pd.read_csv(csv_landcover)\n",
    "\n",
    "# Get the ISO-3 code for each country\n",
    "# Note: the function m49_to_iso3 runs for a long time\n",
    "landcover_data['iso3']=landcover_data['Area Code (M49)'].apply(m49_to_iso3)\n",
    "\n",
    "# Convert 'Value' from 1000 hectares to square km\n",
    "landcover_data['Value_sq_km'] = landcover_data['Value'] * 10\n",
    "\n",
    "print(\"Number of unique countries:\", len(landcover_data['iso3'].unique()))\n",
    "\n",
    "print(\"List of countries with no ISO3 code:\", landcover_data[landcover_data['iso3'].isnull()]['Area'].unique())"
   ]
  },
  {
   "cell_type": "code",
   "execution_count": 542,
   "id": "26ec992b",
   "metadata": {
    "colab": {
     "background_save": true
    },
    "id": "26ec992b",
    "outputId": "b13056e5-9bd6-4f0c-ae6a-e73b576cd742",
    "scrolled": true
   },
   "outputs": [
    {
     "name": "stdout",
     "output_type": "stream",
     "text": [
      "Number of countries with forest data 236\n"
     ]
    },
    {
     "name": "stderr",
     "output_type": "stream",
     "text": [
      "/var/folders/z1/yry6nb4j25bg_5n5f28yn9zw0000gn/T/ipykernel_43648/4211720846.py:5: SettingWithCopyWarning: \n",
      "A value is trying to be set on a copy of a slice from a DataFrame\n",
      "\n",
      "See the caveats in the documentation: https://pandas.pydata.org/pandas-docs/stable/user_guide/indexing.html#returning-a-view-versus-a-copy\n",
      "  forests.rename(columns={'Area': 'country', 'Value_sq_km': 'forest', 'Year': 'year'}, inplace=True)\n"
     ]
    }
   ],
   "source": [
    "# Filter the data to have only the forest area (Tree-covered areas)\n",
    "forests = landcover_data[landcover_data['Item']=='Tree-covered areas']\n",
    "\n",
    "# Rename the columns\n",
    "forests.rename(columns={'Area': 'country', 'Value_sq_km': 'forest', 'Year': 'year'}, inplace=True)\n",
    "\n",
    "# Keep only the relevant columns\n",
    "forests = forests[['country','iso3', 'year', 'Element','forest']]\n",
    "forests = forests.dropna()\n",
    "\n",
    "# Data from high resolution satellite imagery\n",
    "forests = forests[forests['Element']=='Area from CCI_LC']\n",
    "# Keep only the relevant columns\n",
    "forests = forests[['country','iso3','year', 'forest']]\n",
    "\n",
    "print(\"Number of countries with forest data\", forests['country'].nunique())"
   ]
  },
  {
   "cell_type": "markdown",
   "id": "19ce3d07",
   "metadata": {},
   "source": [
    "# <hr>"
   ]
  },
  {
   "cell_type": "markdown",
   "id": "e48a3662",
   "metadata": {},
   "source": [
    "## Heterogeneity variable\n",
    "### Land available for corn expansion other than forests\n",
    "\n",
    "<style>\n",
    "    body {\n",
    "      font-family: 'Trebuchet', sans-serif;\n",
    "      line-height: 1.6;\n",
    "      font-size: 14px;\n",
    "    }\n",
    "    p {\n",
    "      text-align: justify;\n",
    "    }\n",
    "    ul {\n",
    "      margin-left: 20px;\n",
    "    }\n",
    "    li {\n",
    "      margin-bottom: 10px;\n",
    "    }\n",
    "  </style>\n",
    "</head>\n",
    "<body>\n",
    "  <h4>Why?</h4>\n",
    "  <ul>\n",
    "    <li><strong>Direct Relevance to Corn Expansion:</strong>\n",
    "      <p>This variable captures the potential for agricultural growth, specifically for corn, by estimating land areas that could feasibly be converted to cornfields. Unlike general measures of land availability, it focuses on lands that are ecologically and practically suitable for corn cultivation.</p>\n",
    "    </li>\n",
    "    <li><strong>Variation Across Countries:</strong>\n",
    "      <p>The variable inherently reflects differences between countries, such as urbanization levels, existing cropland distribution, and natural geographic constraints, making it an ideal heterogeneity factor. Countries with more available land for corn expansion may exhibit stronger links between corn expansion and deforestation, while those with limited availability may rely on intensification rather than land clearing.</p>\n",
    "    </li>\n",
    "    <li><strong>Focus on Agricultural Pressure:</strong>\n",
    "      <p>This variable aligns directly with the agricultural pressures driving deforestation, providing a more targeted perspective than broader variables like general cropland area.</p>\n",
    "    </li>\n",
    "  </ul>\n",
    "\n",
    "  <h4>How is it constructed?</h4>\n",
    "  <p>To compute the land available for corn expansion, we will compute the sum of land categories that seem suitable for corn expansion, so potentially convertible lands other than forests:</p>\n",
    "  <ul>\n",
    "    <li><strong>Herbaceous crops:</strong> Represents existing cropland already used for agricultural purposes. These lands are highly suitable for corn expansion and may involve crop rotation or intensification strategies.</li>\n",
    "    <li><strong>Grassland:</strong> Grasslands are often used as pastures but can be converted into cropland. These areas are considered moderately suitable for corn expansion, especially in regions with high land-use pressure.</li>\n",
    "    <li><strong>Shrub-covered areas:</strong> Shrublands, while less fertile than grasslands, can still be converted for agricultural use with proper inputs and management. These areas are often targeted in marginal expansions for crops like corn.</li>\n",
    "  </ul>\n",
    "\n",
    "  <p>The reasoning behind this approach is that we might see a stronger relationship between corn expansion and deforestation in countries where there is little land available for corn expansion other than forests, specifically in countries where there is low regulation and high forest covers. In these regions, clearing forests can be economically cheaper, as the sale of timber from deforestation provides an additional revenue stream, offsetting the costs of converting forests to farmland. In highly regulated or land-constrained regions, converting existing croplands rather than forests is more likely because there are strong regulations protecting forests, infrastructure for existing croplands is already in place, and incentives encourage intensification (e.g., improving yields) over land expansion.</p>\n",
    "\n",
    "  <p>We will create a dummy variable that splits our dataset into two groups:</p>\n",
    "  <ul>\n",
    "    <li><strong>Group 0:</strong> Countries with land suitable and available for corn expansion lower than its median.</li>\n",
    "    <li><strong>Group 1:</strong> Countries with land suitable and available for corn expansion higher than its median.</li>\n",
    "  </ul>\n",
    "</body>"
   ]
  },
  {
   "cell_type": "code",
   "execution_count": 543,
   "id": "1655daf1",
   "metadata": {},
   "outputs": [
    {
     "data": {
      "text/html": [
       "<div>\n",
       "<style scoped>\n",
       "    .dataframe tbody tr th:only-of-type {\n",
       "        vertical-align: middle;\n",
       "    }\n",
       "\n",
       "    .dataframe tbody tr th {\n",
       "        vertical-align: top;\n",
       "    }\n",
       "\n",
       "    .dataframe thead th {\n",
       "        text-align: right;\n",
       "    }\n",
       "</style>\n",
       "<table border=\"1\" class=\"dataframe\">\n",
       "  <thead>\n",
       "    <tr style=\"text-align: right;\">\n",
       "      <th>Item</th>\n",
       "      <th>Area</th>\n",
       "      <th>Year</th>\n",
       "      <th>iso3</th>\n",
       "      <th>Grassland</th>\n",
       "      <th>Herbaceous crops</th>\n",
       "      <th>Shrub-covered areas</th>\n",
       "      <th>Total Suitable Land</th>\n",
       "    </tr>\n",
       "  </thead>\n",
       "  <tbody>\n",
       "    <tr>\n",
       "      <th>0</th>\n",
       "      <td>Afghanistan</td>\n",
       "      <td>1992</td>\n",
       "      <td>AFG</td>\n",
       "      <td>24035.39</td>\n",
       "      <td>5763.35</td>\n",
       "      <td>3350.55</td>\n",
       "      <td>33149.29</td>\n",
       "    </tr>\n",
       "    <tr>\n",
       "      <th>1</th>\n",
       "      <td>Afghanistan</td>\n",
       "      <td>1993</td>\n",
       "      <td>AFG</td>\n",
       "      <td>24035.41</td>\n",
       "      <td>5769.19</td>\n",
       "      <td>3350.55</td>\n",
       "      <td>33155.15</td>\n",
       "    </tr>\n",
       "    <tr>\n",
       "      <th>2</th>\n",
       "      <td>Afghanistan</td>\n",
       "      <td>1994</td>\n",
       "      <td>AFG</td>\n",
       "      <td>24035.44</td>\n",
       "      <td>5767.49</td>\n",
       "      <td>3350.54</td>\n",
       "      <td>33153.47</td>\n",
       "    </tr>\n",
       "    <tr>\n",
       "      <th>3</th>\n",
       "      <td>Afghanistan</td>\n",
       "      <td>1995</td>\n",
       "      <td>AFG</td>\n",
       "      <td>24045.96</td>\n",
       "      <td>5771.52</td>\n",
       "      <td>3312.12</td>\n",
       "      <td>33129.60</td>\n",
       "    </tr>\n",
       "    <tr>\n",
       "      <th>4</th>\n",
       "      <td>Afghanistan</td>\n",
       "      <td>1996</td>\n",
       "      <td>AFG</td>\n",
       "      <td>24044.98</td>\n",
       "      <td>5785.10</td>\n",
       "      <td>3306.66</td>\n",
       "      <td>33136.74</td>\n",
       "    </tr>\n",
       "  </tbody>\n",
       "</table>\n",
       "</div>"
      ],
      "text/plain": [
       "Item         Area  Year iso3  Grassland  Herbaceous crops  \\\n",
       "0     Afghanistan  1992  AFG   24035.39           5763.35   \n",
       "1     Afghanistan  1993  AFG   24035.41           5769.19   \n",
       "2     Afghanistan  1994  AFG   24035.44           5767.49   \n",
       "3     Afghanistan  1995  AFG   24045.96           5771.52   \n",
       "4     Afghanistan  1996  AFG   24044.98           5785.10   \n",
       "\n",
       "Item  Shrub-covered areas  Total Suitable Land  \n",
       "0                 3350.55             33149.29  \n",
       "1                 3350.55             33155.15  \n",
       "2                 3350.54             33153.47  \n",
       "3                 3312.12             33129.60  \n",
       "4                 3306.66             33136.74  "
      ]
     },
     "execution_count": 543,
     "metadata": {},
     "output_type": "execute_result"
    }
   ],
   "source": [
    "# Select the data with the categories 'Herbaceous crops', 'Grassland', 'Shrub-covered areas'\n",
    "suitable_categories = ['Herbaceous crops', 'Grassland', 'Shrub-covered areas']\n",
    "suitable_land = landcover_data[landcover_data['Item'].isin(suitable_categories)]\n",
    "\n",
    "# Pivot the data to have categories as columns\n",
    "pivoted_suitable_land = suitable_land.pivot_table(index=['Area', 'Year', 'iso3'], columns='Item', values='Value', aggfunc='sum').reset_index()\n",
    "\n",
    "# Fill NaN values with 0\n",
    "pivoted_suitable_land = pivoted_suitable_land.fillna(0)\n",
    "\n",
    "# Sum the suitable categories for each country and year\n",
    "pivoted_suitable_land['Total Suitable Land'] = pivoted_suitable_land['Herbaceous crops'] + pivoted_suitable_land['Grassland'] + pivoted_suitable_land['Shrub-covered areas']\n",
    "\n",
    "# Display the updated DataFrame\n",
    "pivoted_suitable_land.head()"
   ]
  },
  {
   "cell_type": "code",
   "execution_count": 544,
   "id": "dd85f7b0",
   "metadata": {
    "colab": {
     "background_save": true
    },
    "id": "dd85f7b0",
    "outputId": "22f9ec0f-55a5-427b-f9c3-03595643a66d"
   },
   "outputs": [
    {
     "name": "stdout",
     "output_type": "stream",
     "text": [
      "The number of countries that have some data in 1992:  226\n"
     ]
    },
    {
     "data": {
      "text/html": [
       "<div>\n",
       "<style scoped>\n",
       "    .dataframe tbody tr th:only-of-type {\n",
       "        vertical-align: middle;\n",
       "    }\n",
       "\n",
       "    .dataframe tbody tr th {\n",
       "        vertical-align: top;\n",
       "    }\n",
       "\n",
       "    .dataframe thead th {\n",
       "        text-align: right;\n",
       "    }\n",
       "</style>\n",
       "<table border=\"1\" class=\"dataframe\">\n",
       "  <thead>\n",
       "    <tr style=\"text-align: right;\">\n",
       "      <th>Item</th>\n",
       "      <th>country</th>\n",
       "      <th>iso3</th>\n",
       "      <th>Total Suitable Land</th>\n",
       "    </tr>\n",
       "  </thead>\n",
       "  <tbody>\n",
       "    <tr>\n",
       "      <th>0</th>\n",
       "      <td>Afghanistan</td>\n",
       "      <td>AFG</td>\n",
       "      <td>33149.29</td>\n",
       "    </tr>\n",
       "    <tr>\n",
       "      <th>1</th>\n",
       "      <td>Albania</td>\n",
       "      <td>ALB</td>\n",
       "      <td>1710.49</td>\n",
       "    </tr>\n",
       "    <tr>\n",
       "      <th>2</th>\n",
       "      <td>Algeria</td>\n",
       "      <td>DZA</td>\n",
       "      <td>11258.87</td>\n",
       "    </tr>\n",
       "    <tr>\n",
       "      <th>3</th>\n",
       "      <td>American Samoa</td>\n",
       "      <td>ASM</td>\n",
       "      <td>5.14</td>\n",
       "    </tr>\n",
       "    <tr>\n",
       "      <th>4</th>\n",
       "      <td>Andorra</td>\n",
       "      <td>AND</td>\n",
       "      <td>11.56</td>\n",
       "    </tr>\n",
       "  </tbody>\n",
       "</table>\n",
       "</div>"
      ],
      "text/plain": [
       "Item         country iso3  Total Suitable Land\n",
       "0        Afghanistan  AFG             33149.29\n",
       "1            Albania  ALB              1710.49\n",
       "2            Algeria  DZA             11258.87\n",
       "3     American Samoa  ASM                 5.14\n",
       "4            Andorra  AND                11.56"
      ]
     },
     "execution_count": 544,
     "metadata": {},
     "output_type": "execute_result"
    }
   ],
   "source": [
    "# Keep only the data from 1992\n",
    "pivoted_suitable_land = pivoted_suitable_land[pivoted_suitable_land[\"Year\"]==1992]\n",
    "# keep only the relevant columns\n",
    "pivoted_suitable_land = pivoted_suitable_land[[\"Area\", \"iso3\", \"Total Suitable Land\"]]\n",
    "\n",
    "pivoted_suitable_land = pivoted_suitable_land.dropna()\n",
    "pivoted_suitable_land.reset_index(drop = True, inplace = True)\n",
    "pivoted_suitable_land.rename(columns={'Area': 'country'}, inplace=True)\n",
    "\n",
    "print(\"The number of countries that have some data in 1992: \", pivoted_suitable_land[\"country\"].nunique())\n",
    "# The heterogeneity variable takes data from 1992. This data are before the period of interest (2000-2021) for forest and corn data.\n",
    "# The data from 1992 were chosen, as it is the earliest data that we have and as it is before the period of interest, there is no correlation between the heterogeneity variable and the other variables.\n",
    "\n",
    "pivoted_suitable_land.head()"
   ]
  },
  {
   "cell_type": "code",
   "execution_count": 545,
   "id": "f6e9fe29",
   "metadata": {
    "colab": {
     "background_save": true
    },
    "id": "f6e9fe29",
    "outputId": "875f2b05-61a1-4b8e-9d65-d46ae039caa3",
    "scrolled": true
   },
   "outputs": [
    {
     "name": "stdout",
     "output_type": "stream",
     "text": [
      "Number of countries in the database with forest and land suitability: 78\n"
     ]
    },
    {
     "data": {
      "text/html": [
       "<div>\n",
       "<style scoped>\n",
       "    .dataframe tbody tr th:only-of-type {\n",
       "        vertical-align: middle;\n",
       "    }\n",
       "\n",
       "    .dataframe tbody tr th {\n",
       "        vertical-align: top;\n",
       "    }\n",
       "\n",
       "    .dataframe thead th {\n",
       "        text-align: right;\n",
       "    }\n",
       "</style>\n",
       "<table border=\"1\" class=\"dataframe\">\n",
       "  <thead>\n",
       "    <tr style=\"text-align: right;\">\n",
       "      <th></th>\n",
       "      <th>country</th>\n",
       "      <th>year</th>\n",
       "      <th>iso3</th>\n",
       "      <th>corn</th>\n",
       "      <th>forest</th>\n",
       "      <th>suitability</th>\n",
       "    </tr>\n",
       "  </thead>\n",
       "  <tbody>\n",
       "    <tr>\n",
       "      <th>0</th>\n",
       "      <td>Afghanistan</td>\n",
       "      <td>2000.0</td>\n",
       "      <td>AFG</td>\n",
       "      <td>960.0</td>\n",
       "      <td>12281.1</td>\n",
       "      <td>31149.29</td>\n",
       "    </tr>\n",
       "    <tr>\n",
       "      <th>1</th>\n",
       "      <td>Afghanistan</td>\n",
       "      <td>2001.0</td>\n",
       "      <td>AFG</td>\n",
       "      <td>800.0</td>\n",
       "      <td>11975.3</td>\n",
       "      <td>31149.29</td>\n",
       "    </tr>\n",
       "    <tr>\n",
       "      <th>2</th>\n",
       "      <td>Afghanistan</td>\n",
       "      <td>2002.0</td>\n",
       "      <td>AFG</td>\n",
       "      <td>1000.0</td>\n",
       "      <td>11851.1</td>\n",
       "      <td>31149.29</td>\n",
       "    </tr>\n",
       "    <tr>\n",
       "      <th>3</th>\n",
       "      <td>Afghanistan</td>\n",
       "      <td>2003.0</td>\n",
       "      <td>AFG</td>\n",
       "      <td>2500.0</td>\n",
       "      <td>11735.3</td>\n",
       "      <td>31149.29</td>\n",
       "    </tr>\n",
       "    <tr>\n",
       "      <th>4</th>\n",
       "      <td>Afghanistan</td>\n",
       "      <td>2004.0</td>\n",
       "      <td>AFG</td>\n",
       "      <td>2500.0</td>\n",
       "      <td>11667.1</td>\n",
       "      <td>31149.29</td>\n",
       "    </tr>\n",
       "  </tbody>\n",
       "</table>\n",
       "</div>"
      ],
      "text/plain": [
       "       country    year iso3    corn   forest  suitability\n",
       "0  Afghanistan  2000.0  AFG   960.0  12281.1     31149.29\n",
       "1  Afghanistan  2001.0  AFG   800.0  11975.3     31149.29\n",
       "2  Afghanistan  2002.0  AFG  1000.0  11851.1     31149.29\n",
       "3  Afghanistan  2003.0  AFG  2500.0  11735.3     31149.29\n",
       "4  Afghanistan  2004.0  AFG  2500.0  11667.1     31149.29"
      ]
     },
     "execution_count": 545,
     "metadata": {},
     "output_type": "execute_result"
    }
   ],
   "source": [
    "# Merge of the data\n",
    "df_final = pd.merge(last_df, pivoted_suitable_land, on=['iso3'], how='outer')\n",
    "df_final1 = pd.merge(df_final,forests,on=['iso3', 'year'], how='outer')\n",
    "\n",
    "# Substract the area of corn from the total suitable land to get the area suitable for corn expansion\n",
    "df_final1['Total Size Land suitable for corn expansion (sq km)'] = (df_final1['Total Suitable Land']-df_final1['corn1992'])\n",
    "# Replace negative values with 0\n",
    "df_final1['Total Size Land suitable for corn expansion (sq km)'] = df_final1['Total Size Land suitable for corn expansion (sq km)'].clip(lower=0)\n",
    "\n",
    "df_final1 = df_final1.drop(['Total Suitable Land',\"country_y\", \"country\", \"corn1992\"], axis=1)\n",
    "df_final1.rename(columns={'Total Size Land suitable for corn expansion (sq km)': 'suitability', \"country_x\":\"country\"}, inplace=True)\n",
    "df_final1 = df_final1.dropna()\n",
    "\n",
    "print(\"Number of countries in the database with forest and land suitability:\", df_final1['country'].nunique())\n",
    "\n",
    "last_df=df_final1\n",
    "last_df.reset_index(drop = True, inplace = True)\n",
    "last_df.head()"
   ]
  },
  {
   "cell_type": "markdown",
   "id": "e3351d5b",
   "metadata": {},
   "source": [
    "# <hr>"
   ]
  },
  {
   "cell_type": "markdown",
   "id": "437dd745",
   "metadata": {},
   "source": [
    "## Confounder's data"
   ]
  },
  {
   "cell_type": "markdown",
   "id": "70210239",
   "metadata": {},
   "source": [
    "### Average Temperature\n",
    "<p style=\"font-family: 'Trebuchet', sans-serif; font-size:16px; text-align:justify; line-height: 1.6;\"> in degrees Celsius (ºC) </p>\n",
    "\n",
    "<p style=\"font-family: 'Trebuchet', sans-serif; font-size:16px; text-align:justify; line-height: 1.6;\"> Source: <a href=\"https://ourworldindata.org/grapher/monthly-average-surface-temperatures-by-year\" >https://ourworldindata.org/grapher/monthly-average-surface-temperatures-by-year</a>\n"
   ]
  },
  {
   "cell_type": "code",
   "execution_count": 546,
   "id": "a2236a2d",
   "metadata": {},
   "outputs": [
    {
     "data": {
      "text/html": [
       "<div>\n",
       "<style scoped>\n",
       "    .dataframe tbody tr th:only-of-type {\n",
       "        vertical-align: middle;\n",
       "    }\n",
       "\n",
       "    .dataframe tbody tr th {\n",
       "        vertical-align: top;\n",
       "    }\n",
       "\n",
       "    .dataframe thead th {\n",
       "        text-align: right;\n",
       "    }\n",
       "</style>\n",
       "<table border=\"1\" class=\"dataframe\">\n",
       "  <thead>\n",
       "    <tr style=\"text-align: right;\">\n",
       "      <th></th>\n",
       "      <th>iso3</th>\n",
       "      <th>year</th>\n",
       "      <th>Average_Temperature</th>\n",
       "    </tr>\n",
       "  </thead>\n",
       "  <tbody>\n",
       "    <tr>\n",
       "      <th>585</th>\n",
       "      <td>AFG</td>\n",
       "      <td>2021</td>\n",
       "      <td>13.982914</td>\n",
       "    </tr>\n",
       "    <tr>\n",
       "      <th>586</th>\n",
       "      <td>ALB</td>\n",
       "      <td>2021</td>\n",
       "      <td>13.125356</td>\n",
       "    </tr>\n",
       "    <tr>\n",
       "      <th>587</th>\n",
       "      <td>DZA</td>\n",
       "      <td>2021</td>\n",
       "      <td>25.220117</td>\n",
       "    </tr>\n",
       "    <tr>\n",
       "      <th>588</th>\n",
       "      <td>ASM</td>\n",
       "      <td>2021</td>\n",
       "      <td>26.756304</td>\n",
       "    </tr>\n",
       "    <tr>\n",
       "      <th>589</th>\n",
       "      <td>AND</td>\n",
       "      <td>2021</td>\n",
       "      <td>5.152789</td>\n",
       "    </tr>\n",
       "  </tbody>\n",
       "</table>\n",
       "</div>"
      ],
      "text/plain": [
       "    iso3  year  Average_Temperature\n",
       "585  AFG  2021            13.982914\n",
       "586  ALB  2021            13.125356\n",
       "587  DZA  2021            25.220117\n",
       "588  ASM  2021            26.756304\n",
       "589  AND  2021             5.152789"
      ]
     },
     "execution_count": 546,
     "metadata": {},
     "output_type": "execute_result"
    }
   ],
   "source": [
    "avg_temp_df = pd.read_csv(filepath + \"monthly-average-surface-temperatures-by-year.csv\")\n",
    "avg_temp_df = avg_temp_df.drop([\"Year\"], axis = 1)\n",
    "\n",
    "# Calculate the average temperature for each country across all years\n",
    "avg_temp_df = (avg_temp_df.groupby(by = [\"Entity\",\"Code\"]).mean().reset_index())\n",
    "# Transform the DataFrame so that each row represents a single year's temperature for a country\n",
    "avg_temp_df = pd.melt(\n",
    "    avg_temp_df,\n",
    "    id_vars=[\"Entity\", \"Code\"],  # Keep these columns fixed\n",
    "    var_name=\"Reported_Year\",    # Name for the variable column (years)\n",
    "    value_name=\"Temperature\"     # Rename the values column (temperature)\n",
    ")\n",
    "\n",
    "# Convert Reported_Year to integer\n",
    "avg_temp_df[\"Reported_Year\"] = avg_temp_df[\"Reported_Year\"].astype(int)\n",
    "\n",
    "# Include only data between 2000 and 2021\n",
    "avg_temp_df = (avg_temp_df\n",
    "               .query(\"2000 <= Reported_Year <= 2021\")\n",
    "               .rename(columns = {\"Temperature\":\"Average_Temperature\",\n",
    "                                  \"Code\":\"iso3\",\n",
    "                                  \"Reported_Year\" : \"year\"}))\n",
    "\n",
    "avg_temp_df = avg_temp_df.drop([\"Entity\"], axis = 1)\n",
    "\n",
    "avg_temp_df.head()"
   ]
  },
  {
   "cell_type": "code",
   "execution_count": 547,
   "id": "2d3ccfb0",
   "metadata": {},
   "outputs": [
    {
     "data": {
      "text/html": [
       "<div>\n",
       "<style scoped>\n",
       "    .dataframe tbody tr th:only-of-type {\n",
       "        vertical-align: middle;\n",
       "    }\n",
       "\n",
       "    .dataframe tbody tr th {\n",
       "        vertical-align: top;\n",
       "    }\n",
       "\n",
       "    .dataframe thead th {\n",
       "        text-align: right;\n",
       "    }\n",
       "</style>\n",
       "<table border=\"1\" class=\"dataframe\">\n",
       "  <thead>\n",
       "    <tr style=\"text-align: right;\">\n",
       "      <th></th>\n",
       "      <th>country</th>\n",
       "      <th>year</th>\n",
       "      <th>iso3</th>\n",
       "      <th>corn</th>\n",
       "      <th>forest</th>\n",
       "      <th>suitability</th>\n",
       "      <th>Average_Temperature</th>\n",
       "    </tr>\n",
       "  </thead>\n",
       "  <tbody>\n",
       "    <tr>\n",
       "      <th>0</th>\n",
       "      <td>Afghanistan</td>\n",
       "      <td>2000.0</td>\n",
       "      <td>AFG</td>\n",
       "      <td>960.0</td>\n",
       "      <td>12281.1</td>\n",
       "      <td>31149.29</td>\n",
       "      <td>12.586175</td>\n",
       "    </tr>\n",
       "    <tr>\n",
       "      <th>1</th>\n",
       "      <td>Afghanistan</td>\n",
       "      <td>2001.0</td>\n",
       "      <td>AFG</td>\n",
       "      <td>800.0</td>\n",
       "      <td>11975.3</td>\n",
       "      <td>31149.29</td>\n",
       "      <td>13.413867</td>\n",
       "    </tr>\n",
       "    <tr>\n",
       "      <th>2</th>\n",
       "      <td>Afghanistan</td>\n",
       "      <td>2002.0</td>\n",
       "      <td>AFG</td>\n",
       "      <td>1000.0</td>\n",
       "      <td>11851.1</td>\n",
       "      <td>31149.29</td>\n",
       "      <td>13.051083</td>\n",
       "    </tr>\n",
       "    <tr>\n",
       "      <th>3</th>\n",
       "      <td>Afghanistan</td>\n",
       "      <td>2003.0</td>\n",
       "      <td>AFG</td>\n",
       "      <td>2500.0</td>\n",
       "      <td>11735.3</td>\n",
       "      <td>31149.29</td>\n",
       "      <td>12.485457</td>\n",
       "    </tr>\n",
       "    <tr>\n",
       "      <th>4</th>\n",
       "      <td>Afghanistan</td>\n",
       "      <td>2004.0</td>\n",
       "      <td>AFG</td>\n",
       "      <td>2500.0</td>\n",
       "      <td>11667.1</td>\n",
       "      <td>31149.29</td>\n",
       "      <td>13.233360</td>\n",
       "    </tr>\n",
       "  </tbody>\n",
       "</table>\n",
       "</div>"
      ],
      "text/plain": [
       "       country    year iso3    corn   forest  suitability  Average_Temperature\n",
       "0  Afghanistan  2000.0  AFG   960.0  12281.1     31149.29            12.586175\n",
       "1  Afghanistan  2001.0  AFG   800.0  11975.3     31149.29            13.413867\n",
       "2  Afghanistan  2002.0  AFG  1000.0  11851.1     31149.29            13.051083\n",
       "3  Afghanistan  2003.0  AFG  2500.0  11735.3     31149.29            12.485457\n",
       "4  Afghanistan  2004.0  AFG  2500.0  11667.1     31149.29            13.233360"
      ]
     },
     "execution_count": 547,
     "metadata": {},
     "output_type": "execute_result"
    }
   ],
   "source": [
    "last_df = pd.merge(last_df,avg_temp_df,on = [\"iso3\",\"year\"],how = \"left\")\n",
    "last_df.head()"
   ]
  },
  {
   "cell_type": "markdown",
   "id": "0c975e20",
   "metadata": {
    "id": "0c975e20"
   },
   "source": [
    "### GDP\n",
    "<p style=\"font-family: 'Trebuchet', sans-serif; font-size:16px; text-align:justify; line-height: 1.6;\"> In million USD </p>"
   ]
  },
  {
   "cell_type": "code",
   "execution_count": 548,
   "id": "4b789bf1",
   "metadata": {
    "colab": {
     "background_save": true
    },
    "id": "4b789bf1",
    "outputId": "60e9c902-6605-4b96-c9f1-631de406b998",
    "scrolled": true
   },
   "outputs": [
    {
     "data": {
      "text/html": [
       "<div>\n",
       "<style scoped>\n",
       "    .dataframe tbody tr th:only-of-type {\n",
       "        vertical-align: middle;\n",
       "    }\n",
       "\n",
       "    .dataframe tbody tr th {\n",
       "        vertical-align: top;\n",
       "    }\n",
       "\n",
       "    .dataframe thead th {\n",
       "        text-align: right;\n",
       "    }\n",
       "</style>\n",
       "<table border=\"1\" class=\"dataframe\">\n",
       "  <thead>\n",
       "    <tr style=\"text-align: right;\">\n",
       "      <th></th>\n",
       "      <th>Domain Code</th>\n",
       "      <th>Domain</th>\n",
       "      <th>Area Code (M49)</th>\n",
       "      <th>Area</th>\n",
       "      <th>Element Code</th>\n",
       "      <th>Element</th>\n",
       "      <th>Item Code</th>\n",
       "      <th>Item</th>\n",
       "      <th>Year Code</th>\n",
       "      <th>Year</th>\n",
       "      <th>Unit</th>\n",
       "      <th>Value</th>\n",
       "      <th>Flag</th>\n",
       "      <th>Flag Description</th>\n",
       "    </tr>\n",
       "  </thead>\n",
       "  <tbody>\n",
       "    <tr>\n",
       "      <th>30</th>\n",
       "      <td>MK</td>\n",
       "      <td>Macro Indicators</td>\n",
       "      <td>4</td>\n",
       "      <td>Afghanistan</td>\n",
       "      <td>6110</td>\n",
       "      <td>Value US$</td>\n",
       "      <td>22008</td>\n",
       "      <td>Gross Domestic Product</td>\n",
       "      <td>2000</td>\n",
       "      <td>2000</td>\n",
       "      <td>million USD</td>\n",
       "      <td>3531.869351</td>\n",
       "      <td>X</td>\n",
       "      <td>Figure from international organizations</td>\n",
       "    </tr>\n",
       "    <tr>\n",
       "      <th>31</th>\n",
       "      <td>MK</td>\n",
       "      <td>Macro Indicators</td>\n",
       "      <td>4</td>\n",
       "      <td>Afghanistan</td>\n",
       "      <td>6110</td>\n",
       "      <td>Value US$</td>\n",
       "      <td>22008</td>\n",
       "      <td>Gross Domestic Product</td>\n",
       "      <td>2001</td>\n",
       "      <td>2001</td>\n",
       "      <td>million USD</td>\n",
       "      <td>3620.525250</td>\n",
       "      <td>X</td>\n",
       "      <td>Figure from international organizations</td>\n",
       "    </tr>\n",
       "    <tr>\n",
       "      <th>32</th>\n",
       "      <td>MK</td>\n",
       "      <td>Macro Indicators</td>\n",
       "      <td>4</td>\n",
       "      <td>Afghanistan</td>\n",
       "      <td>6110</td>\n",
       "      <td>Value US$</td>\n",
       "      <td>22008</td>\n",
       "      <td>Gross Domestic Product</td>\n",
       "      <td>2002</td>\n",
       "      <td>2002</td>\n",
       "      <td>million USD</td>\n",
       "      <td>4285.191376</td>\n",
       "      <td>X</td>\n",
       "      <td>Figure from international organizations</td>\n",
       "    </tr>\n",
       "    <tr>\n",
       "      <th>33</th>\n",
       "      <td>MK</td>\n",
       "      <td>Macro Indicators</td>\n",
       "      <td>4</td>\n",
       "      <td>Afghanistan</td>\n",
       "      <td>6110</td>\n",
       "      <td>Value US$</td>\n",
       "      <td>22008</td>\n",
       "      <td>Gross Domestic Product</td>\n",
       "      <td>2003</td>\n",
       "      <td>2003</td>\n",
       "      <td>million USD</td>\n",
       "      <td>4898.791114</td>\n",
       "      <td>X</td>\n",
       "      <td>Figure from international organizations</td>\n",
       "    </tr>\n",
       "    <tr>\n",
       "      <th>34</th>\n",
       "      <td>MK</td>\n",
       "      <td>Macro Indicators</td>\n",
       "      <td>4</td>\n",
       "      <td>Afghanistan</td>\n",
       "      <td>6110</td>\n",
       "      <td>Value US$</td>\n",
       "      <td>22008</td>\n",
       "      <td>Gross Domestic Product</td>\n",
       "      <td>2004</td>\n",
       "      <td>2004</td>\n",
       "      <td>million USD</td>\n",
       "      <td>5504.073142</td>\n",
       "      <td>X</td>\n",
       "      <td>Figure from international organizations</td>\n",
       "    </tr>\n",
       "  </tbody>\n",
       "</table>\n",
       "</div>"
      ],
      "text/plain": [
       "   Domain Code            Domain  Area Code (M49)         Area  Element Code  \\\n",
       "30          MK  Macro Indicators                4  Afghanistan          6110   \n",
       "31          MK  Macro Indicators                4  Afghanistan          6110   \n",
       "32          MK  Macro Indicators                4  Afghanistan          6110   \n",
       "33          MK  Macro Indicators                4  Afghanistan          6110   \n",
       "34          MK  Macro Indicators                4  Afghanistan          6110   \n",
       "\n",
       "      Element  Item Code                    Item  Year Code  Year  \\\n",
       "30  Value US$      22008  Gross Domestic Product       2000  2000   \n",
       "31  Value US$      22008  Gross Domestic Product       2001  2001   \n",
       "32  Value US$      22008  Gross Domestic Product       2002  2002   \n",
       "33  Value US$      22008  Gross Domestic Product       2003  2003   \n",
       "34  Value US$      22008  Gross Domestic Product       2004  2004   \n",
       "\n",
       "           Unit        Value Flag                         Flag Description  \n",
       "30  million USD  3531.869351    X  Figure from international organizations  \n",
       "31  million USD  3620.525250    X  Figure from international organizations  \n",
       "32  million USD  4285.191376    X  Figure from international organizations  \n",
       "33  million USD  4898.791114    X  Figure from international organizations  \n",
       "34  million USD  5504.073142    X  Figure from international organizations  "
      ]
     },
     "execution_count": 548,
     "metadata": {},
     "output_type": "execute_result"
    }
   ],
   "source": [
    "gdp_data = pd.read_csv(filepath + \"FAOSTAT_GDP.csv\")\n",
    "\n",
    "# Filter the data for the years 2000-2021\n",
    "gdp_data = gdp_data[gdp_data['Year'] >= 2000]\n",
    "gdp_data = gdp_data[gdp_data['Year'] <= 2021]\n",
    "\n",
    "gdp_data.drop('Note', axis=1, inplace=True)\n",
    "gdp_data = gdp_data.dropna()\n",
    "\n",
    "gdp_data.head()"
   ]
  },
  {
   "cell_type": "code",
   "execution_count": 549,
   "id": "226091c9",
   "metadata": {
    "colab": {
     "background_save": true
    },
    "id": "226091c9",
    "outputId": "39297fd3-9609-4696-b223-cca79b756dbc"
   },
   "outputs": [
    {
     "data": {
      "text/html": [
       "<div>\n",
       "<style scoped>\n",
       "    .dataframe tbody tr th:only-of-type {\n",
       "        vertical-align: middle;\n",
       "    }\n",
       "\n",
       "    .dataframe tbody tr th {\n",
       "        vertical-align: top;\n",
       "    }\n",
       "\n",
       "    .dataframe thead th {\n",
       "        text-align: right;\n",
       "    }\n",
       "</style>\n",
       "<table border=\"1\" class=\"dataframe\">\n",
       "  <thead>\n",
       "    <tr style=\"text-align: right;\">\n",
       "      <th></th>\n",
       "      <th>Area</th>\n",
       "      <th>Year</th>\n",
       "      <th>Value</th>\n",
       "    </tr>\n",
       "  </thead>\n",
       "  <tbody>\n",
       "    <tr>\n",
       "      <th>30</th>\n",
       "      <td>Afghanistan</td>\n",
       "      <td>2000</td>\n",
       "      <td>3531.869351</td>\n",
       "    </tr>\n",
       "    <tr>\n",
       "      <th>31</th>\n",
       "      <td>Afghanistan</td>\n",
       "      <td>2001</td>\n",
       "      <td>3620.525250</td>\n",
       "    </tr>\n",
       "    <tr>\n",
       "      <th>32</th>\n",
       "      <td>Afghanistan</td>\n",
       "      <td>2002</td>\n",
       "      <td>4285.191376</td>\n",
       "    </tr>\n",
       "    <tr>\n",
       "      <th>33</th>\n",
       "      <td>Afghanistan</td>\n",
       "      <td>2003</td>\n",
       "      <td>4898.791114</td>\n",
       "    </tr>\n",
       "    <tr>\n",
       "      <th>34</th>\n",
       "      <td>Afghanistan</td>\n",
       "      <td>2004</td>\n",
       "      <td>5504.073142</td>\n",
       "    </tr>\n",
       "  </tbody>\n",
       "</table>\n",
       "</div>"
      ],
      "text/plain": [
       "           Area  Year        Value\n",
       "30  Afghanistan  2000  3531.869351\n",
       "31  Afghanistan  2001  3620.525250\n",
       "32  Afghanistan  2002  4285.191376\n",
       "33  Afghanistan  2003  4898.791114\n",
       "34  Afghanistan  2004  5504.073142"
      ]
     },
     "execution_count": 549,
     "metadata": {},
     "output_type": "execute_result"
    }
   ],
   "source": [
    "# Number of observations per country\n",
    "value_counts_per_area = gdp_data.groupby(\"Area\")[\"Value\"].count()\n",
    "# List the countries with a number of observations different from 22 (2000-2021)\n",
    "area_not_equal_to_22 = value_counts_per_area[value_counts_per_area !=22].index\n",
    "\n",
    "gdp_data = gdp_data[~gdp_data[\"Area\"].isin(area_not_equal_to_22)]\n",
    "# Keep only the relevant columns\n",
    "gdp_data = gdp_data[['Area', 'Year', 'Value']]\n",
    "\n",
    "gdp_data.head()"
   ]
  },
  {
   "cell_type": "code",
   "execution_count": 550,
   "id": "ad99edbc",
   "metadata": {
    "colab": {
     "background_save": true
    },
    "id": "ad99edbc",
    "outputId": "1b6024cd-bd32-449a-b472-2933f4291e26"
   },
   "outputs": [],
   "source": [
    "country_mapping_temp = {\n",
    "    'Bolivia (Plurinational State of)':'Bolivia, Plurinational State of',\n",
    "    'China, Taiwan Province of':'Taiwan, Province of China',\n",
    "    'China': 'China_',\n",
    "    'China, mainland':'China',\n",
    "    'Democratic Republic of the Congo':'Congo, The Democratic Republic of the',\n",
    "    'Iran (Islamic Republic of)':'Iran, Islamic Republic of',\n",
    "    'Micronesia (Federated States of)': 'Micronesia, Federated States of',\n",
    "    'Netherlands (Kingdom of the)':'Netherlands',\n",
    "    'Republic of Korea': 'Korea, Republic of',\n",
    "    'Venezuela (Bolivarian Republic of)':'Venezuela, Bolivarian Republic of',\n",
    "    'China, Hong Kong SAR': 'Hong Kong',\n",
    "    'Palestine': 'Palestine, State of',\n",
    "    # You can add more mappings if necessary\n",
    "}"
   ]
  },
  {
   "cell_type": "code",
   "execution_count": 551,
   "id": "c1b59dc5",
   "metadata": {
    "colab": {
     "background_save": true
    },
    "id": "c1b59dc5",
    "outputId": "d12ce3b5-9681-4d39-ccf1-7f257256baf7"
   },
   "outputs": [
    {
     "data": {
      "text/html": [
       "<div>\n",
       "<style scoped>\n",
       "    .dataframe tbody tr th:only-of-type {\n",
       "        vertical-align: middle;\n",
       "    }\n",
       "\n",
       "    .dataframe tbody tr th {\n",
       "        vertical-align: top;\n",
       "    }\n",
       "\n",
       "    .dataframe thead th {\n",
       "        text-align: right;\n",
       "    }\n",
       "</style>\n",
       "<table border=\"1\" class=\"dataframe\">\n",
       "  <thead>\n",
       "    <tr style=\"text-align: right;\">\n",
       "      <th></th>\n",
       "      <th>country</th>\n",
       "      <th>year</th>\n",
       "      <th>gdp</th>\n",
       "      <th>iso3</th>\n",
       "    </tr>\n",
       "  </thead>\n",
       "  <tbody>\n",
       "    <tr>\n",
       "      <th>0</th>\n",
       "      <td>Afghanistan</td>\n",
       "      <td>2000</td>\n",
       "      <td>3531.869351</td>\n",
       "      <td>AFG</td>\n",
       "    </tr>\n",
       "    <tr>\n",
       "      <th>1</th>\n",
       "      <td>Afghanistan</td>\n",
       "      <td>2001</td>\n",
       "      <td>3620.525250</td>\n",
       "      <td>AFG</td>\n",
       "    </tr>\n",
       "    <tr>\n",
       "      <th>2</th>\n",
       "      <td>Afghanistan</td>\n",
       "      <td>2002</td>\n",
       "      <td>4285.191376</td>\n",
       "      <td>AFG</td>\n",
       "    </tr>\n",
       "    <tr>\n",
       "      <th>3</th>\n",
       "      <td>Afghanistan</td>\n",
       "      <td>2003</td>\n",
       "      <td>4898.791114</td>\n",
       "      <td>AFG</td>\n",
       "    </tr>\n",
       "    <tr>\n",
       "      <th>4</th>\n",
       "      <td>Afghanistan</td>\n",
       "      <td>2004</td>\n",
       "      <td>5504.073142</td>\n",
       "      <td>AFG</td>\n",
       "    </tr>\n",
       "  </tbody>\n",
       "</table>\n",
       "</div>"
      ],
      "text/plain": [
       "       country  year          gdp iso3\n",
       "0  Afghanistan  2000  3531.869351  AFG\n",
       "1  Afghanistan  2001  3620.525250  AFG\n",
       "2  Afghanistan  2002  4285.191376  AFG\n",
       "3  Afghanistan  2003  4898.791114  AFG\n",
       "4  Afghanistan  2004  5504.073142  AFG"
      ]
     },
     "execution_count": 551,
     "metadata": {},
     "output_type": "execute_result"
    }
   ],
   "source": [
    "# Replace the country names, so that they match the ISO-3 codes\n",
    "gdp_data['Area'] = gdp_data['Area'].replace(country_mapping_temp)\n",
    "# Get the ISO-3 code for each country\n",
    "gdp_data['iso3'] = gdp_data['Area'].apply(get_iso3)\n",
    "\n",
    "#print(\"Countries without ISO-3 codes: \",gdp_data[gdp_data['iso3'].isnull()][\"Area\"].unique())\n",
    "\n",
    "gdp_data = gdp_data.dropna()\n",
    "gdp_data.reset_index(drop = True, inplace = True)\n",
    "gdp_data.rename(columns={'Area':'country', 'Year': 'year', 'Value':'gdp'}, inplace=True)\n",
    "\n",
    "gdp_data.head()"
   ]
  },
  {
   "cell_type": "code",
   "execution_count": 552,
   "id": "7afa7ff3",
   "metadata": {
    "colab": {
     "background_save": true
    },
    "id": "7afa7ff3",
    "outputId": "b009e4a5-a24f-45fe-c679-f1dee15b88ed"
   },
   "outputs": [
    {
     "data": {
      "text/html": [
       "<div>\n",
       "<style scoped>\n",
       "    .dataframe tbody tr th:only-of-type {\n",
       "        vertical-align: middle;\n",
       "    }\n",
       "\n",
       "    .dataframe tbody tr th {\n",
       "        vertical-align: top;\n",
       "    }\n",
       "\n",
       "    .dataframe thead th {\n",
       "        text-align: right;\n",
       "    }\n",
       "</style>\n",
       "<table border=\"1\" class=\"dataframe\">\n",
       "  <thead>\n",
       "    <tr style=\"text-align: right;\">\n",
       "      <th></th>\n",
       "      <th>country</th>\n",
       "      <th>year</th>\n",
       "      <th>iso3</th>\n",
       "      <th>corn</th>\n",
       "      <th>forest</th>\n",
       "      <th>suitability</th>\n",
       "      <th>Average_Temperature</th>\n",
       "      <th>gdp</th>\n",
       "    </tr>\n",
       "  </thead>\n",
       "  <tbody>\n",
       "    <tr>\n",
       "      <th>0</th>\n",
       "      <td>Afghanistan</td>\n",
       "      <td>2000.0</td>\n",
       "      <td>AFG</td>\n",
       "      <td>960.0</td>\n",
       "      <td>12281.1</td>\n",
       "      <td>31149.29</td>\n",
       "      <td>12.586175</td>\n",
       "      <td>3531.869351</td>\n",
       "    </tr>\n",
       "    <tr>\n",
       "      <th>1</th>\n",
       "      <td>Afghanistan</td>\n",
       "      <td>2001.0</td>\n",
       "      <td>AFG</td>\n",
       "      <td>800.0</td>\n",
       "      <td>11975.3</td>\n",
       "      <td>31149.29</td>\n",
       "      <td>13.413867</td>\n",
       "      <td>3620.525250</td>\n",
       "    </tr>\n",
       "    <tr>\n",
       "      <th>2</th>\n",
       "      <td>Afghanistan</td>\n",
       "      <td>2002.0</td>\n",
       "      <td>AFG</td>\n",
       "      <td>1000.0</td>\n",
       "      <td>11851.1</td>\n",
       "      <td>31149.29</td>\n",
       "      <td>13.051083</td>\n",
       "      <td>4285.191376</td>\n",
       "    </tr>\n",
       "    <tr>\n",
       "      <th>3</th>\n",
       "      <td>Afghanistan</td>\n",
       "      <td>2003.0</td>\n",
       "      <td>AFG</td>\n",
       "      <td>2500.0</td>\n",
       "      <td>11735.3</td>\n",
       "      <td>31149.29</td>\n",
       "      <td>12.485457</td>\n",
       "      <td>4898.791114</td>\n",
       "    </tr>\n",
       "    <tr>\n",
       "      <th>4</th>\n",
       "      <td>Afghanistan</td>\n",
       "      <td>2004.0</td>\n",
       "      <td>AFG</td>\n",
       "      <td>2500.0</td>\n",
       "      <td>11667.1</td>\n",
       "      <td>31149.29</td>\n",
       "      <td>13.233360</td>\n",
       "      <td>5504.073142</td>\n",
       "    </tr>\n",
       "  </tbody>\n",
       "</table>\n",
       "</div>"
      ],
      "text/plain": [
       "       country    year iso3    corn   forest  suitability  \\\n",
       "0  Afghanistan  2000.0  AFG   960.0  12281.1     31149.29   \n",
       "1  Afghanistan  2001.0  AFG   800.0  11975.3     31149.29   \n",
       "2  Afghanistan  2002.0  AFG  1000.0  11851.1     31149.29   \n",
       "3  Afghanistan  2003.0  AFG  2500.0  11735.3     31149.29   \n",
       "4  Afghanistan  2004.0  AFG  2500.0  11667.1     31149.29   \n",
       "\n",
       "   Average_Temperature          gdp  \n",
       "0            12.586175  3531.869351  \n",
       "1            13.413867  3620.525250  \n",
       "2            13.051083  4285.191376  \n",
       "3            12.485457  4898.791114  \n",
       "4            13.233360  5504.073142  "
      ]
     },
     "execution_count": 552,
     "metadata": {},
     "output_type": "execute_result"
    }
   ],
   "source": [
    "# Merge the data\n",
    "last_df = pd.merge(last_df,gdp_data, on=['iso3','year'], how='outer')\n",
    "\n",
    "last_df.drop([\"country_y\"], axis=1, inplace=True)\n",
    "last_df.rename(columns={'country_x':'country'}, inplace=True)\n",
    "last_df = last_df.dropna()\n",
    "last_df.reset_index(drop = True, inplace = True)\n",
    "\n",
    "last_df.head()"
   ]
  },
  {
   "cell_type": "code",
   "execution_count": 553,
   "id": "67d146d7",
   "metadata": {
    "colab": {
     "background_save": true
    },
    "id": "67d146d7",
    "outputId": "b8d012f9-25cd-48ae-cab0-31c93dceb04c"
   },
   "outputs": [
    {
     "name": "stdout",
     "output_type": "stream",
     "text": [
      "Number of countries in the database 78\n"
     ]
    }
   ],
   "source": [
    "print(\"Number of countries in the database\", last_df[\"country\"].nunique())"
   ]
  },
  {
   "cell_type": "markdown",
   "id": "6dcc64ba",
   "metadata": {},
   "source": [
    "### Cattle"
   ]
  },
  {
   "cell_type": "code",
   "execution_count": 554,
   "id": "ad931055",
   "metadata": {},
   "outputs": [
    {
     "data": {
      "text/html": [
       "<div>\n",
       "<style scoped>\n",
       "    .dataframe tbody tr th:only-of-type {\n",
       "        vertical-align: middle;\n",
       "    }\n",
       "\n",
       "    .dataframe tbody tr th {\n",
       "        vertical-align: top;\n",
       "    }\n",
       "\n",
       "    .dataframe thead th {\n",
       "        text-align: right;\n",
       "    }\n",
       "</style>\n",
       "<table border=\"1\" class=\"dataframe\">\n",
       "  <thead>\n",
       "    <tr style=\"text-align: right;\">\n",
       "      <th></th>\n",
       "      <th>country</th>\n",
       "      <th>year</th>\n",
       "      <th>Number of Cattle</th>\n",
       "    </tr>\n",
       "  </thead>\n",
       "  <tbody>\n",
       "    <tr>\n",
       "      <th>0</th>\n",
       "      <td>Afghanistan</td>\n",
       "      <td>2000</td>\n",
       "      <td>700000</td>\n",
       "    </tr>\n",
       "    <tr>\n",
       "      <th>1</th>\n",
       "      <td>Afghanistan</td>\n",
       "      <td>2001</td>\n",
       "      <td>600000</td>\n",
       "    </tr>\n",
       "    <tr>\n",
       "      <th>2</th>\n",
       "      <td>Afghanistan</td>\n",
       "      <td>2002</td>\n",
       "      <td>833000</td>\n",
       "    </tr>\n",
       "    <tr>\n",
       "      <th>3</th>\n",
       "      <td>Afghanistan</td>\n",
       "      <td>2003</td>\n",
       "      <td>761000</td>\n",
       "    </tr>\n",
       "    <tr>\n",
       "      <th>4</th>\n",
       "      <td>Afghanistan</td>\n",
       "      <td>2004</td>\n",
       "      <td>829000</td>\n",
       "    </tr>\n",
       "  </tbody>\n",
       "</table>\n",
       "</div>"
      ],
      "text/plain": [
       "       country  year  Number of Cattle\n",
       "0  Afghanistan  2000            700000\n",
       "1  Afghanistan  2001            600000\n",
       "2  Afghanistan  2002            833000\n",
       "3  Afghanistan  2003            761000\n",
       "4  Afghanistan  2004            829000"
      ]
     },
     "execution_count": 554,
     "metadata": {},
     "output_type": "execute_result"
    }
   ],
   "source": [
    "cattle = pd.read_csv(filepath + 'cattle.csv', delimiter=';')\n",
    "cattle = cattle.dropna()\n",
    "\n",
    "cattle.head()"
   ]
  },
  {
   "cell_type": "code",
   "execution_count": 555,
   "id": "5b229b29",
   "metadata": {},
   "outputs": [
    {
     "data": {
      "text/html": [
       "<div>\n",
       "<style scoped>\n",
       "    .dataframe tbody tr th:only-of-type {\n",
       "        vertical-align: middle;\n",
       "    }\n",
       "\n",
       "    .dataframe tbody tr th {\n",
       "        vertical-align: top;\n",
       "    }\n",
       "\n",
       "    .dataframe thead th {\n",
       "        text-align: right;\n",
       "    }\n",
       "</style>\n",
       "<table border=\"1\" class=\"dataframe\">\n",
       "  <thead>\n",
       "    <tr style=\"text-align: right;\">\n",
       "      <th></th>\n",
       "      <th>country</th>\n",
       "      <th>year</th>\n",
       "      <th>Number of Cattle</th>\n",
       "    </tr>\n",
       "  </thead>\n",
       "  <tbody>\n",
       "    <tr>\n",
       "      <th>0</th>\n",
       "      <td>Afghanistan</td>\n",
       "      <td>2000</td>\n",
       "      <td>700000</td>\n",
       "    </tr>\n",
       "    <tr>\n",
       "      <th>1</th>\n",
       "      <td>Afghanistan</td>\n",
       "      <td>2001</td>\n",
       "      <td>600000</td>\n",
       "    </tr>\n",
       "    <tr>\n",
       "      <th>2</th>\n",
       "      <td>Afghanistan</td>\n",
       "      <td>2002</td>\n",
       "      <td>833000</td>\n",
       "    </tr>\n",
       "    <tr>\n",
       "      <th>3</th>\n",
       "      <td>Afghanistan</td>\n",
       "      <td>2003</td>\n",
       "      <td>761000</td>\n",
       "    </tr>\n",
       "    <tr>\n",
       "      <th>4</th>\n",
       "      <td>Afghanistan</td>\n",
       "      <td>2004</td>\n",
       "      <td>829000</td>\n",
       "    </tr>\n",
       "  </tbody>\n",
       "</table>\n",
       "</div>"
      ],
      "text/plain": [
       "       country  year  Number of Cattle\n",
       "0  Afghanistan  2000            700000\n",
       "1  Afghanistan  2001            600000\n",
       "2  Afghanistan  2002            833000\n",
       "3  Afghanistan  2003            761000\n",
       "4  Afghanistan  2004            829000"
      ]
     },
     "execution_count": 555,
     "metadata": {},
     "output_type": "execute_result"
    }
   ],
   "source": [
    "# Number of observations per country\n",
    "value_counts_per_area = cattle.groupby(\"country\")[\"Number of Cattle\"].count()\n",
    "\n",
    "# List the countries with a number of observations different from 22 (2000-2021)\n",
    "areas_not_equal_to_22 = value_counts_per_area[value_counts_per_area < 22].index\n",
    "cattle = cattle[~cattle[\"country\"].isin(areas_not_equal_to_22)]\n",
    "\n",
    "cattle.head()"
   ]
  },
  {
   "cell_type": "code",
   "execution_count": 556,
   "id": "6aa71693",
   "metadata": {},
   "outputs": [],
   "source": [
    "country_mapping_cattle = {\n",
    "    'Bolivia (Plurinational State of)':'Bolivia, Plurinational State of',\n",
    "    'China Hong Kong SAR': 'Hong Kong',\n",
    "    'China Macao SAR': 'Macao',\n",
    "    'China': 'China_',\n",
    "    'China mainland':'China',\n",
    "    'China Taiwan Province of':'Taiwan, Province of China',\n",
    "    'Democratic Republic of the Congo':'Congo, The Democratic Republic of the',\n",
    "    'Iran (Islamic Republic of)':'Iran, Islamic Republic of',\n",
    "    'Micronesia (Federated States of)': 'Micronesia, Federated States of',\n",
    "    'Netherlands (Kingdom of the)':'Netherlands',\n",
    "    'Palestine':'Palestine, State of',\n",
    "    'Republic of Korea': 'Korea, Republic of',\n",
    "    'Venezuela (Bolivarian Republic of)':'Venezuela, Bolivarian Republic of',\n",
    "}"
   ]
  },
  {
   "cell_type": "code",
   "execution_count": 557,
   "id": "de041618",
   "metadata": {},
   "outputs": [
    {
     "data": {
      "text/html": [
       "<div>\n",
       "<style scoped>\n",
       "    .dataframe tbody tr th:only-of-type {\n",
       "        vertical-align: middle;\n",
       "    }\n",
       "\n",
       "    .dataframe tbody tr th {\n",
       "        vertical-align: top;\n",
       "    }\n",
       "\n",
       "    .dataframe thead th {\n",
       "        text-align: right;\n",
       "    }\n",
       "</style>\n",
       "<table border=\"1\" class=\"dataframe\">\n",
       "  <thead>\n",
       "    <tr style=\"text-align: right;\">\n",
       "      <th></th>\n",
       "      <th>country</th>\n",
       "      <th>year</th>\n",
       "      <th>cattle</th>\n",
       "      <th>iso3</th>\n",
       "    </tr>\n",
       "  </thead>\n",
       "  <tbody>\n",
       "    <tr>\n",
       "      <th>0</th>\n",
       "      <td>Afghanistan</td>\n",
       "      <td>2000</td>\n",
       "      <td>700000</td>\n",
       "      <td>AFG</td>\n",
       "    </tr>\n",
       "    <tr>\n",
       "      <th>1</th>\n",
       "      <td>Afghanistan</td>\n",
       "      <td>2001</td>\n",
       "      <td>600000</td>\n",
       "      <td>AFG</td>\n",
       "    </tr>\n",
       "    <tr>\n",
       "      <th>2</th>\n",
       "      <td>Afghanistan</td>\n",
       "      <td>2002</td>\n",
       "      <td>833000</td>\n",
       "      <td>AFG</td>\n",
       "    </tr>\n",
       "    <tr>\n",
       "      <th>3</th>\n",
       "      <td>Afghanistan</td>\n",
       "      <td>2003</td>\n",
       "      <td>761000</td>\n",
       "      <td>AFG</td>\n",
       "    </tr>\n",
       "    <tr>\n",
       "      <th>4</th>\n",
       "      <td>Afghanistan</td>\n",
       "      <td>2004</td>\n",
       "      <td>829000</td>\n",
       "      <td>AFG</td>\n",
       "    </tr>\n",
       "  </tbody>\n",
       "</table>\n",
       "</div>"
      ],
      "text/plain": [
       "       country  year  cattle iso3\n",
       "0  Afghanistan  2000  700000  AFG\n",
       "1  Afghanistan  2001  600000  AFG\n",
       "2  Afghanistan  2002  833000  AFG\n",
       "3  Afghanistan  2003  761000  AFG\n",
       "4  Afghanistan  2004  829000  AFG"
      ]
     },
     "execution_count": 557,
     "metadata": {},
     "output_type": "execute_result"
    }
   ],
   "source": [
    "# Replace the country names, so that they match the ISO-3 codes\n",
    "cattle['country'] = cattle['country'].replace(country_mapping_cattle)\n",
    "# Get the ISO-3 code for each country\n",
    "cattle['iso3'] = cattle['country'].apply(get_iso3)\n",
    "\n",
    "cattle = cattle.dropna()\n",
    "cattle.reset_index(drop = True, inplace = True)\n",
    "cattle.rename(columns={'Number of Cattle':'cattle'}, inplace=True)\n",
    "\n",
    "cattle.head()"
   ]
  },
  {
   "cell_type": "code",
   "execution_count": 558,
   "id": "f31e9fc7",
   "metadata": {},
   "outputs": [
    {
     "data": {
      "text/html": [
       "<div>\n",
       "<style scoped>\n",
       "    .dataframe tbody tr th:only-of-type {\n",
       "        vertical-align: middle;\n",
       "    }\n",
       "\n",
       "    .dataframe tbody tr th {\n",
       "        vertical-align: top;\n",
       "    }\n",
       "\n",
       "    .dataframe thead th {\n",
       "        text-align: right;\n",
       "    }\n",
       "</style>\n",
       "<table border=\"1\" class=\"dataframe\">\n",
       "  <thead>\n",
       "    <tr style=\"text-align: right;\">\n",
       "      <th></th>\n",
       "      <th>country</th>\n",
       "      <th>year</th>\n",
       "      <th>iso3</th>\n",
       "      <th>corn</th>\n",
       "      <th>forest</th>\n",
       "      <th>suitability</th>\n",
       "      <th>Average_Temperature</th>\n",
       "      <th>gdp</th>\n",
       "      <th>cattle</th>\n",
       "    </tr>\n",
       "  </thead>\n",
       "  <tbody>\n",
       "    <tr>\n",
       "      <th>0</th>\n",
       "      <td>Afghanistan</td>\n",
       "      <td>2000.0</td>\n",
       "      <td>AFG</td>\n",
       "      <td>960.0</td>\n",
       "      <td>12281.1</td>\n",
       "      <td>31149.29</td>\n",
       "      <td>12.586175</td>\n",
       "      <td>3531.869351</td>\n",
       "      <td>700000.0</td>\n",
       "    </tr>\n",
       "    <tr>\n",
       "      <th>1</th>\n",
       "      <td>Afghanistan</td>\n",
       "      <td>2001.0</td>\n",
       "      <td>AFG</td>\n",
       "      <td>800.0</td>\n",
       "      <td>11975.3</td>\n",
       "      <td>31149.29</td>\n",
       "      <td>13.413867</td>\n",
       "      <td>3620.525250</td>\n",
       "      <td>600000.0</td>\n",
       "    </tr>\n",
       "    <tr>\n",
       "      <th>2</th>\n",
       "      <td>Afghanistan</td>\n",
       "      <td>2002.0</td>\n",
       "      <td>AFG</td>\n",
       "      <td>1000.0</td>\n",
       "      <td>11851.1</td>\n",
       "      <td>31149.29</td>\n",
       "      <td>13.051083</td>\n",
       "      <td>4285.191376</td>\n",
       "      <td>833000.0</td>\n",
       "    </tr>\n",
       "    <tr>\n",
       "      <th>3</th>\n",
       "      <td>Afghanistan</td>\n",
       "      <td>2003.0</td>\n",
       "      <td>AFG</td>\n",
       "      <td>2500.0</td>\n",
       "      <td>11735.3</td>\n",
       "      <td>31149.29</td>\n",
       "      <td>12.485457</td>\n",
       "      <td>4898.791114</td>\n",
       "      <td>761000.0</td>\n",
       "    </tr>\n",
       "    <tr>\n",
       "      <th>4</th>\n",
       "      <td>Afghanistan</td>\n",
       "      <td>2004.0</td>\n",
       "      <td>AFG</td>\n",
       "      <td>2500.0</td>\n",
       "      <td>11667.1</td>\n",
       "      <td>31149.29</td>\n",
       "      <td>13.233360</td>\n",
       "      <td>5504.073142</td>\n",
       "      <td>829000.0</td>\n",
       "    </tr>\n",
       "  </tbody>\n",
       "</table>\n",
       "</div>"
      ],
      "text/plain": [
       "       country    year iso3    corn   forest  suitability  \\\n",
       "0  Afghanistan  2000.0  AFG   960.0  12281.1     31149.29   \n",
       "1  Afghanistan  2001.0  AFG   800.0  11975.3     31149.29   \n",
       "2  Afghanistan  2002.0  AFG  1000.0  11851.1     31149.29   \n",
       "3  Afghanistan  2003.0  AFG  2500.0  11735.3     31149.29   \n",
       "4  Afghanistan  2004.0  AFG  2500.0  11667.1     31149.29   \n",
       "\n",
       "   Average_Temperature          gdp    cattle  \n",
       "0            12.586175  3531.869351  700000.0  \n",
       "1            13.413867  3620.525250  600000.0  \n",
       "2            13.051083  4285.191376  833000.0  \n",
       "3            12.485457  4898.791114  761000.0  \n",
       "4            13.233360  5504.073142  829000.0  "
      ]
     },
     "execution_count": 558,
     "metadata": {},
     "output_type": "execute_result"
    }
   ],
   "source": [
    "last_df = pd.merge(last_df,cattle, on=['iso3','year'], how='outer')\n",
    "last_df.drop([\"country_y\"], axis=1, inplace=True)\n",
    "last_df.rename(columns={'country_x':'country'}, inplace=True)\n",
    "last_df = last_df.dropna()\n",
    "last_df.head()"
   ]
  },
  {
   "cell_type": "code",
   "execution_count": 559,
   "id": "cae0bab1",
   "metadata": {},
   "outputs": [
    {
     "name": "stdout",
     "output_type": "stream",
     "text": [
      "Final number of countries in the database:  77\n"
     ]
    }
   ],
   "source": [
    "print(\"Final number of countries in the database: \", last_df['country'].nunique())"
   ]
  },
  {
   "cell_type": "code",
   "execution_count": null,
   "id": "e10cd696",
   "metadata": {},
   "outputs": [],
   "source": [
    "# Uncomment the line below to save the data to a csv file\n",
    "#last_df.to_csv('./Data/Database.csv', index=False) #save the data to a csv file"
   ]
  }
 ],
 "metadata": {
  "colab": {
   "provenance": []
  },
  "kernelspec": {
   "display_name": "Python 3",
   "language": "python",
   "name": "python3"
  },
  "language_info": {
   "codemirror_mode": {
    "name": "ipython",
    "version": 3
   },
   "file_extension": ".py",
   "mimetype": "text/x-python",
   "name": "python",
   "nbconvert_exporter": "python",
   "pygments_lexer": "ipython3",
   "version": "3.9.6"
  }
 },
 "nbformat": 4,
 "nbformat_minor": 5
}
