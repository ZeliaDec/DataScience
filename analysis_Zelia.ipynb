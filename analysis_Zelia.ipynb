{
 "cells": [
  {
   "cell_type": "code",
   "execution_count": 1,
   "metadata": {},
   "outputs": [
    {
     "name": "stdout",
     "output_type": "stream",
     "text": [
      "Requirement already satisfied: wbdata in /Users/zeliadecaillet/anaconda3/lib/python3.11/site-packages (1.0.0)\n",
      "Requirement already satisfied: appdirs<2.0,>=1.4 in /Users/zeliadecaillet/anaconda3/lib/python3.11/site-packages (from wbdata) (1.4.4)\n",
      "Requirement already satisfied: backoff<3.0.0,>=2.2.1 in /Users/zeliadecaillet/anaconda3/lib/python3.11/site-packages (from wbdata) (2.2.1)\n",
      "Requirement already satisfied: cachetools<6.0.0,>=5.3.2 in /Users/zeliadecaillet/anaconda3/lib/python3.11/site-packages (from wbdata) (5.5.0)\n",
      "Requirement already satisfied: dateparser<2.0.0,>=1.2.0 in /Users/zeliadecaillet/anaconda3/lib/python3.11/site-packages (from wbdata) (1.2.0)\n",
      "Requirement already satisfied: decorator<6.0.0,>=5.1.1 in /Users/zeliadecaillet/anaconda3/lib/python3.11/site-packages (from wbdata) (5.1.1)\n",
      "Requirement already satisfied: requests<3.0,>=2.0 in /Users/zeliadecaillet/anaconda3/lib/python3.11/site-packages (from wbdata) (2.31.0)\n",
      "Requirement already satisfied: shelved-cache<0.4.0,>=0.3.1 in /Users/zeliadecaillet/anaconda3/lib/python3.11/site-packages (from wbdata) (0.3.1)\n",
      "Requirement already satisfied: tabulate<0.9.0,>=0.8.5 in /Users/zeliadecaillet/anaconda3/lib/python3.11/site-packages (from wbdata) (0.8.10)\n",
      "Requirement already satisfied: python-dateutil in /Users/zeliadecaillet/anaconda3/lib/python3.11/site-packages (from dateparser<2.0.0,>=1.2.0->wbdata) (2.8.2)\n",
      "Requirement already satisfied: pytz in /Users/zeliadecaillet/anaconda3/lib/python3.11/site-packages (from dateparser<2.0.0,>=1.2.0->wbdata) (2023.3.post1)\n",
      "Requirement already satisfied: regex!=2019.02.19,!=2021.8.27 in /Users/zeliadecaillet/anaconda3/lib/python3.11/site-packages (from dateparser<2.0.0,>=1.2.0->wbdata) (2022.7.9)\n",
      "Requirement already satisfied: tzlocal in /Users/zeliadecaillet/anaconda3/lib/python3.11/site-packages (from dateparser<2.0.0,>=1.2.0->wbdata) (5.2)\n",
      "Requirement already satisfied: charset-normalizer<4,>=2 in /Users/zeliadecaillet/anaconda3/lib/python3.11/site-packages (from requests<3.0,>=2.0->wbdata) (2.0.4)\n",
      "Requirement already satisfied: idna<4,>=2.5 in /Users/zeliadecaillet/anaconda3/lib/python3.11/site-packages (from requests<3.0,>=2.0->wbdata) (3.4)\n",
      "Requirement already satisfied: urllib3<3,>=1.21.1 in /Users/zeliadecaillet/anaconda3/lib/python3.11/site-packages (from requests<3.0,>=2.0->wbdata) (1.26.16)\n",
      "Requirement already satisfied: certifi>=2017.4.17 in /Users/zeliadecaillet/anaconda3/lib/python3.11/site-packages (from requests<3.0,>=2.0->wbdata) (2024.8.30)\n",
      "Requirement already satisfied: six>=1.5 in /Users/zeliadecaillet/anaconda3/lib/python3.11/site-packages (from python-dateutil->dateparser<2.0.0,>=1.2.0->wbdata) (1.16.0)\n",
      "Note: you may need to restart the kernel to use updated packages.\n"
     ]
    }
   ],
   "source": [
    "pip install wbdata"
   ]
  },
  {
   "cell_type": "code",
   "execution_count": 2,
   "metadata": {},
   "outputs": [
    {
     "name": "stdout",
     "output_type": "stream",
     "text": [
      "Requirement already satisfied: pycountry in /Users/zeliadecaillet/anaconda3/lib/python3.11/site-packages (24.6.1)\n",
      "Note: you may need to restart the kernel to use updated packages.\n"
     ]
    }
   ],
   "source": [
    "pip install pycountry"
   ]
  },
  {
   "cell_type": "code",
   "execution_count": 3,
   "metadata": {
    "scrolled": true
   },
   "outputs": [],
   "source": [
    "#Importing libraries\n",
    "import pandas as pd\n",
    "import re\n",
    "import matplotlib.pyplot as plt\n",
    "import seaborn as sns\n",
    "import wbdata\n",
    "import numpy as np\n",
    "import pycountry\n",
    "import plotly.express as px"
   ]
  },
  {
   "cell_type": "markdown",
   "metadata": {},
   "source": [
    "# **Deforestation Data**"
   ]
  },
  {
   "cell_type": "code",
   "execution_count": 4,
   "metadata": {},
   "outputs": [
    {
     "data": {
      "text/html": [
       "<div>\n",
       "<style scoped>\n",
       "    .dataframe tbody tr th:only-of-type {\n",
       "        vertical-align: middle;\n",
       "    }\n",
       "\n",
       "    .dataframe tbody tr th {\n",
       "        vertical-align: top;\n",
       "    }\n",
       "\n",
       "    .dataframe thead th {\n",
       "        text-align: right;\n",
       "    }\n",
       "</style>\n",
       "<table border=\"1\" class=\"dataframe\">\n",
       "  <thead>\n",
       "    <tr style=\"text-align: right;\">\n",
       "      <th></th>\n",
       "      <th>Country Name</th>\n",
       "      <th>Country Code</th>\n",
       "      <th>Indicator Name</th>\n",
       "      <th>Indicator Code</th>\n",
       "      <th>1960</th>\n",
       "      <th>1961</th>\n",
       "      <th>1962</th>\n",
       "      <th>1963</th>\n",
       "      <th>1964</th>\n",
       "      <th>1965</th>\n",
       "      <th>...</th>\n",
       "      <th>2014</th>\n",
       "      <th>2015</th>\n",
       "      <th>2016</th>\n",
       "      <th>2017</th>\n",
       "      <th>2018</th>\n",
       "      <th>2019</th>\n",
       "      <th>2020</th>\n",
       "      <th>2021</th>\n",
       "      <th>2022</th>\n",
       "      <th>2023</th>\n",
       "    </tr>\n",
       "  </thead>\n",
       "  <tbody>\n",
       "    <tr>\n",
       "      <th>0</th>\n",
       "      <td>Aruba</td>\n",
       "      <td>ABW</td>\n",
       "      <td>Forest area (% of land area)</td>\n",
       "      <td>AG.LND.FRST.ZS</td>\n",
       "      <td>NaN</td>\n",
       "      <td>NaN</td>\n",
       "      <td>NaN</td>\n",
       "      <td>NaN</td>\n",
       "      <td>NaN</td>\n",
       "      <td>NaN</td>\n",
       "      <td>...</td>\n",
       "      <td>2.333333</td>\n",
       "      <td>2.333333</td>\n",
       "      <td>2.333333</td>\n",
       "      <td>2.333333</td>\n",
       "      <td>2.333333</td>\n",
       "      <td>2.333333</td>\n",
       "      <td>2.333333</td>\n",
       "      <td>2.333333</td>\n",
       "      <td>NaN</td>\n",
       "      <td>NaN</td>\n",
       "    </tr>\n",
       "    <tr>\n",
       "      <th>1</th>\n",
       "      <td>Africa Eastern and Southern</td>\n",
       "      <td>AFE</td>\n",
       "      <td>Forest area (% of land area)</td>\n",
       "      <td>AG.LND.FRST.ZS</td>\n",
       "      <td>NaN</td>\n",
       "      <td>NaN</td>\n",
       "      <td>NaN</td>\n",
       "      <td>NaN</td>\n",
       "      <td>NaN</td>\n",
       "      <td>NaN</td>\n",
       "      <td>...</td>\n",
       "      <td>31.470634</td>\n",
       "      <td>31.260420</td>\n",
       "      <td>31.039682</td>\n",
       "      <td>30.824316</td>\n",
       "      <td>30.611512</td>\n",
       "      <td>30.391626</td>\n",
       "      <td>30.174253</td>\n",
       "      <td>29.955194</td>\n",
       "      <td>NaN</td>\n",
       "      <td>NaN</td>\n",
       "    </tr>\n",
       "    <tr>\n",
       "      <th>2</th>\n",
       "      <td>Afghanistan</td>\n",
       "      <td>AFG</td>\n",
       "      <td>Forest area (% of land area)</td>\n",
       "      <td>AG.LND.FRST.ZS</td>\n",
       "      <td>NaN</td>\n",
       "      <td>NaN</td>\n",
       "      <td>NaN</td>\n",
       "      <td>NaN</td>\n",
       "      <td>NaN</td>\n",
       "      <td>NaN</td>\n",
       "      <td>...</td>\n",
       "      <td>1.852782</td>\n",
       "      <td>1.852782</td>\n",
       "      <td>1.852782</td>\n",
       "      <td>1.852782</td>\n",
       "      <td>1.852782</td>\n",
       "      <td>1.852782</td>\n",
       "      <td>1.852782</td>\n",
       "      <td>1.852782</td>\n",
       "      <td>NaN</td>\n",
       "      <td>NaN</td>\n",
       "    </tr>\n",
       "    <tr>\n",
       "      <th>3</th>\n",
       "      <td>Africa Western and Central</td>\n",
       "      <td>AFW</td>\n",
       "      <td>Forest area (% of land area)</td>\n",
       "      <td>AG.LND.FRST.ZS</td>\n",
       "      <td>NaN</td>\n",
       "      <td>NaN</td>\n",
       "      <td>NaN</td>\n",
       "      <td>NaN</td>\n",
       "      <td>NaN</td>\n",
       "      <td>NaN</td>\n",
       "      <td>...</td>\n",
       "      <td>20.322187</td>\n",
       "      <td>20.234231</td>\n",
       "      <td>20.152610</td>\n",
       "      <td>20.071327</td>\n",
       "      <td>19.986100</td>\n",
       "      <td>19.901215</td>\n",
       "      <td>19.816777</td>\n",
       "      <td>19.732037</td>\n",
       "      <td>NaN</td>\n",
       "      <td>NaN</td>\n",
       "    </tr>\n",
       "    <tr>\n",
       "      <th>4</th>\n",
       "      <td>Angola</td>\n",
       "      <td>AGO</td>\n",
       "      <td>Forest area (% of land area)</td>\n",
       "      <td>AG.LND.FRST.ZS</td>\n",
       "      <td>NaN</td>\n",
       "      <td>NaN</td>\n",
       "      <td>NaN</td>\n",
       "      <td>NaN</td>\n",
       "      <td>NaN</td>\n",
       "      <td>NaN</td>\n",
       "      <td>...</td>\n",
       "      <td>56.098301</td>\n",
       "      <td>55.653076</td>\n",
       "      <td>55.207845</td>\n",
       "      <td>54.762629</td>\n",
       "      <td>54.317406</td>\n",
       "      <td>53.872175</td>\n",
       "      <td>53.426951</td>\n",
       "      <td>52.981722</td>\n",
       "      <td>NaN</td>\n",
       "      <td>NaN</td>\n",
       "    </tr>\n",
       "  </tbody>\n",
       "</table>\n",
       "<p>5 rows × 68 columns</p>\n",
       "</div>"
      ],
      "text/plain": [
       "                  Country Name Country Code                Indicator Name  \\\n",
       "0                        Aruba          ABW  Forest area (% of land area)   \n",
       "1  Africa Eastern and Southern          AFE  Forest area (% of land area)   \n",
       "2                  Afghanistan          AFG  Forest area (% of land area)   \n",
       "3   Africa Western and Central          AFW  Forest area (% of land area)   \n",
       "4                       Angola          AGO  Forest area (% of land area)   \n",
       "\n",
       "   Indicator Code  1960  1961  1962  1963  1964  1965  ...       2014  \\\n",
       "0  AG.LND.FRST.ZS   NaN   NaN   NaN   NaN   NaN   NaN  ...   2.333333   \n",
       "1  AG.LND.FRST.ZS   NaN   NaN   NaN   NaN   NaN   NaN  ...  31.470634   \n",
       "2  AG.LND.FRST.ZS   NaN   NaN   NaN   NaN   NaN   NaN  ...   1.852782   \n",
       "3  AG.LND.FRST.ZS   NaN   NaN   NaN   NaN   NaN   NaN  ...  20.322187   \n",
       "4  AG.LND.FRST.ZS   NaN   NaN   NaN   NaN   NaN   NaN  ...  56.098301   \n",
       "\n",
       "        2015       2016       2017       2018       2019       2020  \\\n",
       "0   2.333333   2.333333   2.333333   2.333333   2.333333   2.333333   \n",
       "1  31.260420  31.039682  30.824316  30.611512  30.391626  30.174253   \n",
       "2   1.852782   1.852782   1.852782   1.852782   1.852782   1.852782   \n",
       "3  20.234231  20.152610  20.071327  19.986100  19.901215  19.816777   \n",
       "4  55.653076  55.207845  54.762629  54.317406  53.872175  53.426951   \n",
       "\n",
       "        2021  2022  2023  \n",
       "0   2.333333   NaN   NaN  \n",
       "1  29.955194   NaN   NaN  \n",
       "2   1.852782   NaN   NaN  \n",
       "3  19.732037   NaN   NaN  \n",
       "4  52.981722   NaN   NaN  \n",
       "\n",
       "[5 rows x 68 columns]"
      ]
     },
     "execution_count": 4,
     "metadata": {},
     "output_type": "execute_result"
    }
   ],
   "source": [
    "deforest_data = pd.read_excel(\"./Data/Deforest.xlsx\")\n",
    "deforest_data.head()"
   ]
  },
  {
   "cell_type": "code",
   "execution_count": 5,
   "metadata": {},
   "outputs": [
    {
     "data": {
      "text/plain": [
       "array([0, 4])"
      ]
     },
     "execution_count": 5,
     "metadata": {},
     "output_type": "execute_result"
    }
   ],
   "source": [
    "# Count the number of zero values in each column\n",
    "zero_counts = (deforest_data == 0).sum()\n",
    "#If there are values in a column that are equal to zero, it is equal to 4\n",
    "zero_counts.unique()"
   ]
  },
  {
   "cell_type": "code",
   "execution_count": 6,
   "metadata": {},
   "outputs": [
    {
     "data": {
      "text/html": [
       "<div>\n",
       "<style scoped>\n",
       "    .dataframe tbody tr th:only-of-type {\n",
       "        vertical-align: middle;\n",
       "    }\n",
       "\n",
       "    .dataframe tbody tr th {\n",
       "        vertical-align: top;\n",
       "    }\n",
       "\n",
       "    .dataframe thead th {\n",
       "        text-align: right;\n",
       "    }\n",
       "</style>\n",
       "<table border=\"1\" class=\"dataframe\">\n",
       "  <thead>\n",
       "    <tr style=\"text-align: right;\">\n",
       "      <th></th>\n",
       "      <th>Country Name</th>\n",
       "      <th>Country Code</th>\n",
       "      <th>Indicator Name</th>\n",
       "      <th>Indicator Code</th>\n",
       "      <th>1960</th>\n",
       "      <th>1961</th>\n",
       "      <th>1962</th>\n",
       "      <th>1963</th>\n",
       "      <th>1964</th>\n",
       "      <th>1965</th>\n",
       "      <th>...</th>\n",
       "      <th>2014</th>\n",
       "      <th>2015</th>\n",
       "      <th>2016</th>\n",
       "      <th>2017</th>\n",
       "      <th>2018</th>\n",
       "      <th>2019</th>\n",
       "      <th>2020</th>\n",
       "      <th>2021</th>\n",
       "      <th>2022</th>\n",
       "      <th>2023</th>\n",
       "    </tr>\n",
       "  </thead>\n",
       "  <tbody>\n",
       "    <tr>\n",
       "      <th>0</th>\n",
       "      <td>Aruba</td>\n",
       "      <td>ABW</td>\n",
       "      <td>Forest area (% of land area)</td>\n",
       "      <td>AG.LND.FRST.ZS</td>\n",
       "      <td>NaN</td>\n",
       "      <td>NaN</td>\n",
       "      <td>NaN</td>\n",
       "      <td>NaN</td>\n",
       "      <td>NaN</td>\n",
       "      <td>NaN</td>\n",
       "      <td>...</td>\n",
       "      <td>2.333333</td>\n",
       "      <td>2.333333</td>\n",
       "      <td>2.333333</td>\n",
       "      <td>2.333333</td>\n",
       "      <td>2.333333</td>\n",
       "      <td>2.333333</td>\n",
       "      <td>2.333333</td>\n",
       "      <td>2.333333</td>\n",
       "      <td>NaN</td>\n",
       "      <td>NaN</td>\n",
       "    </tr>\n",
       "    <tr>\n",
       "      <th>1</th>\n",
       "      <td>Africa Eastern and Southern</td>\n",
       "      <td>AFE</td>\n",
       "      <td>Forest area (% of land area)</td>\n",
       "      <td>AG.LND.FRST.ZS</td>\n",
       "      <td>NaN</td>\n",
       "      <td>NaN</td>\n",
       "      <td>NaN</td>\n",
       "      <td>NaN</td>\n",
       "      <td>NaN</td>\n",
       "      <td>NaN</td>\n",
       "      <td>...</td>\n",
       "      <td>31.470634</td>\n",
       "      <td>31.260420</td>\n",
       "      <td>31.039682</td>\n",
       "      <td>30.824316</td>\n",
       "      <td>30.611512</td>\n",
       "      <td>30.391626</td>\n",
       "      <td>30.174253</td>\n",
       "      <td>29.955194</td>\n",
       "      <td>NaN</td>\n",
       "      <td>NaN</td>\n",
       "    </tr>\n",
       "    <tr>\n",
       "      <th>2</th>\n",
       "      <td>Afghanistan</td>\n",
       "      <td>AFG</td>\n",
       "      <td>Forest area (% of land area)</td>\n",
       "      <td>AG.LND.FRST.ZS</td>\n",
       "      <td>NaN</td>\n",
       "      <td>NaN</td>\n",
       "      <td>NaN</td>\n",
       "      <td>NaN</td>\n",
       "      <td>NaN</td>\n",
       "      <td>NaN</td>\n",
       "      <td>...</td>\n",
       "      <td>1.852782</td>\n",
       "      <td>1.852782</td>\n",
       "      <td>1.852782</td>\n",
       "      <td>1.852782</td>\n",
       "      <td>1.852782</td>\n",
       "      <td>1.852782</td>\n",
       "      <td>1.852782</td>\n",
       "      <td>1.852782</td>\n",
       "      <td>NaN</td>\n",
       "      <td>NaN</td>\n",
       "    </tr>\n",
       "    <tr>\n",
       "      <th>3</th>\n",
       "      <td>Africa Western and Central</td>\n",
       "      <td>AFW</td>\n",
       "      <td>Forest area (% of land area)</td>\n",
       "      <td>AG.LND.FRST.ZS</td>\n",
       "      <td>NaN</td>\n",
       "      <td>NaN</td>\n",
       "      <td>NaN</td>\n",
       "      <td>NaN</td>\n",
       "      <td>NaN</td>\n",
       "      <td>NaN</td>\n",
       "      <td>...</td>\n",
       "      <td>20.322187</td>\n",
       "      <td>20.234231</td>\n",
       "      <td>20.152610</td>\n",
       "      <td>20.071327</td>\n",
       "      <td>19.986100</td>\n",
       "      <td>19.901215</td>\n",
       "      <td>19.816777</td>\n",
       "      <td>19.732037</td>\n",
       "      <td>NaN</td>\n",
       "      <td>NaN</td>\n",
       "    </tr>\n",
       "    <tr>\n",
       "      <th>4</th>\n",
       "      <td>Angola</td>\n",
       "      <td>AGO</td>\n",
       "      <td>Forest area (% of land area)</td>\n",
       "      <td>AG.LND.FRST.ZS</td>\n",
       "      <td>NaN</td>\n",
       "      <td>NaN</td>\n",
       "      <td>NaN</td>\n",
       "      <td>NaN</td>\n",
       "      <td>NaN</td>\n",
       "      <td>NaN</td>\n",
       "      <td>...</td>\n",
       "      <td>56.098301</td>\n",
       "      <td>55.653076</td>\n",
       "      <td>55.207845</td>\n",
       "      <td>54.762629</td>\n",
       "      <td>54.317406</td>\n",
       "      <td>53.872175</td>\n",
       "      <td>53.426951</td>\n",
       "      <td>52.981722</td>\n",
       "      <td>NaN</td>\n",
       "      <td>NaN</td>\n",
       "    </tr>\n",
       "    <tr>\n",
       "      <th>...</th>\n",
       "      <td>...</td>\n",
       "      <td>...</td>\n",
       "      <td>...</td>\n",
       "      <td>...</td>\n",
       "      <td>...</td>\n",
       "      <td>...</td>\n",
       "      <td>...</td>\n",
       "      <td>...</td>\n",
       "      <td>...</td>\n",
       "      <td>...</td>\n",
       "      <td>...</td>\n",
       "      <td>...</td>\n",
       "      <td>...</td>\n",
       "      <td>...</td>\n",
       "      <td>...</td>\n",
       "      <td>...</td>\n",
       "      <td>...</td>\n",
       "      <td>...</td>\n",
       "      <td>...</td>\n",
       "      <td>...</td>\n",
       "      <td>...</td>\n",
       "    </tr>\n",
       "    <tr>\n",
       "      <th>257</th>\n",
       "      <td>Kosovo</td>\n",
       "      <td>XKX</td>\n",
       "      <td>Forest area (% of land area)</td>\n",
       "      <td>AG.LND.FRST.ZS</td>\n",
       "      <td>NaN</td>\n",
       "      <td>NaN</td>\n",
       "      <td>NaN</td>\n",
       "      <td>NaN</td>\n",
       "      <td>NaN</td>\n",
       "      <td>NaN</td>\n",
       "      <td>...</td>\n",
       "      <td>NaN</td>\n",
       "      <td>NaN</td>\n",
       "      <td>NaN</td>\n",
       "      <td>NaN</td>\n",
       "      <td>NaN</td>\n",
       "      <td>NaN</td>\n",
       "      <td>NaN</td>\n",
       "      <td>NaN</td>\n",
       "      <td>NaN</td>\n",
       "      <td>NaN</td>\n",
       "    </tr>\n",
       "    <tr>\n",
       "      <th>258</th>\n",
       "      <td>Yemen, Rep.</td>\n",
       "      <td>YEM</td>\n",
       "      <td>Forest area (% of land area)</td>\n",
       "      <td>AG.LND.FRST.ZS</td>\n",
       "      <td>NaN</td>\n",
       "      <td>NaN</td>\n",
       "      <td>NaN</td>\n",
       "      <td>NaN</td>\n",
       "      <td>NaN</td>\n",
       "      <td>NaN</td>\n",
       "      <td>...</td>\n",
       "      <td>1.039832</td>\n",
       "      <td>1.039832</td>\n",
       "      <td>1.039832</td>\n",
       "      <td>1.039832</td>\n",
       "      <td>1.039832</td>\n",
       "      <td>1.039832</td>\n",
       "      <td>1.039832</td>\n",
       "      <td>1.039832</td>\n",
       "      <td>NaN</td>\n",
       "      <td>NaN</td>\n",
       "    </tr>\n",
       "    <tr>\n",
       "      <th>259</th>\n",
       "      <td>South Africa</td>\n",
       "      <td>ZAF</td>\n",
       "      <td>Forest area (% of land area)</td>\n",
       "      <td>AG.LND.FRST.ZS</td>\n",
       "      <td>NaN</td>\n",
       "      <td>NaN</td>\n",
       "      <td>NaN</td>\n",
       "      <td>NaN</td>\n",
       "      <td>NaN</td>\n",
       "      <td>NaN</td>\n",
       "      <td>...</td>\n",
       "      <td>14.235127</td>\n",
       "      <td>14.205121</td>\n",
       "      <td>14.175115</td>\n",
       "      <td>14.145109</td>\n",
       "      <td>14.115103</td>\n",
       "      <td>14.085097</td>\n",
       "      <td>14.055091</td>\n",
       "      <td>14.025085</td>\n",
       "      <td>NaN</td>\n",
       "      <td>NaN</td>\n",
       "    </tr>\n",
       "    <tr>\n",
       "      <th>260</th>\n",
       "      <td>Zambia</td>\n",
       "      <td>ZMB</td>\n",
       "      <td>Forest area (% of land area)</td>\n",
       "      <td>AG.LND.FRST.ZS</td>\n",
       "      <td>NaN</td>\n",
       "      <td>NaN</td>\n",
       "      <td>NaN</td>\n",
       "      <td>NaN</td>\n",
       "      <td>NaN</td>\n",
       "      <td>NaN</td>\n",
       "      <td>...</td>\n",
       "      <td>61.802392</td>\n",
       "      <td>61.549254</td>\n",
       "      <td>61.295955</td>\n",
       "      <td>61.042885</td>\n",
       "      <td>60.789707</td>\n",
       "      <td>60.536515</td>\n",
       "      <td>60.283337</td>\n",
       "      <td>60.030150</td>\n",
       "      <td>NaN</td>\n",
       "      <td>NaN</td>\n",
       "    </tr>\n",
       "    <tr>\n",
       "      <th>261</th>\n",
       "      <td>Zimbabwe</td>\n",
       "      <td>ZWE</td>\n",
       "      <td>Forest area (% of land area)</td>\n",
       "      <td>AG.LND.FRST.ZS</td>\n",
       "      <td>NaN</td>\n",
       "      <td>NaN</td>\n",
       "      <td>NaN</td>\n",
       "      <td>NaN</td>\n",
       "      <td>NaN</td>\n",
       "      <td>NaN</td>\n",
       "      <td>...</td>\n",
       "      <td>45.808453</td>\n",
       "      <td>45.689363</td>\n",
       "      <td>45.570273</td>\n",
       "      <td>45.451183</td>\n",
       "      <td>45.332093</td>\n",
       "      <td>45.213002</td>\n",
       "      <td>45.093912</td>\n",
       "      <td>44.974822</td>\n",
       "      <td>NaN</td>\n",
       "      <td>NaN</td>\n",
       "    </tr>\n",
       "  </tbody>\n",
       "</table>\n",
       "<p>262 rows × 68 columns</p>\n",
       "</div>"
      ],
      "text/plain": [
       "                    Country Name Country Code                Indicator Name  \\\n",
       "0                          Aruba          ABW  Forest area (% of land area)   \n",
       "1    Africa Eastern and Southern          AFE  Forest area (% of land area)   \n",
       "2                    Afghanistan          AFG  Forest area (% of land area)   \n",
       "3     Africa Western and Central          AFW  Forest area (% of land area)   \n",
       "4                         Angola          AGO  Forest area (% of land area)   \n",
       "..                           ...          ...                           ...   \n",
       "257                       Kosovo          XKX  Forest area (% of land area)   \n",
       "258                  Yemen, Rep.          YEM  Forest area (% of land area)   \n",
       "259                 South Africa          ZAF  Forest area (% of land area)   \n",
       "260                       Zambia          ZMB  Forest area (% of land area)   \n",
       "261                     Zimbabwe          ZWE  Forest area (% of land area)   \n",
       "\n",
       "     Indicator Code  1960  1961  1962  1963  1964  1965  ...       2014  \\\n",
       "0    AG.LND.FRST.ZS   NaN   NaN   NaN   NaN   NaN   NaN  ...   2.333333   \n",
       "1    AG.LND.FRST.ZS   NaN   NaN   NaN   NaN   NaN   NaN  ...  31.470634   \n",
       "2    AG.LND.FRST.ZS   NaN   NaN   NaN   NaN   NaN   NaN  ...   1.852782   \n",
       "3    AG.LND.FRST.ZS   NaN   NaN   NaN   NaN   NaN   NaN  ...  20.322187   \n",
       "4    AG.LND.FRST.ZS   NaN   NaN   NaN   NaN   NaN   NaN  ...  56.098301   \n",
       "..              ...   ...   ...   ...   ...   ...   ...  ...        ...   \n",
       "257  AG.LND.FRST.ZS   NaN   NaN   NaN   NaN   NaN   NaN  ...        NaN   \n",
       "258  AG.LND.FRST.ZS   NaN   NaN   NaN   NaN   NaN   NaN  ...   1.039832   \n",
       "259  AG.LND.FRST.ZS   NaN   NaN   NaN   NaN   NaN   NaN  ...  14.235127   \n",
       "260  AG.LND.FRST.ZS   NaN   NaN   NaN   NaN   NaN   NaN  ...  61.802392   \n",
       "261  AG.LND.FRST.ZS   NaN   NaN   NaN   NaN   NaN   NaN  ...  45.808453   \n",
       "\n",
       "          2015       2016       2017       2018       2019       2020  \\\n",
       "0     2.333333   2.333333   2.333333   2.333333   2.333333   2.333333   \n",
       "1    31.260420  31.039682  30.824316  30.611512  30.391626  30.174253   \n",
       "2     1.852782   1.852782   1.852782   1.852782   1.852782   1.852782   \n",
       "3    20.234231  20.152610  20.071327  19.986100  19.901215  19.816777   \n",
       "4    55.653076  55.207845  54.762629  54.317406  53.872175  53.426951   \n",
       "..         ...        ...        ...        ...        ...        ...   \n",
       "257        NaN        NaN        NaN        NaN        NaN        NaN   \n",
       "258   1.039832   1.039832   1.039832   1.039832   1.039832   1.039832   \n",
       "259  14.205121  14.175115  14.145109  14.115103  14.085097  14.055091   \n",
       "260  61.549254  61.295955  61.042885  60.789707  60.536515  60.283337   \n",
       "261  45.689363  45.570273  45.451183  45.332093  45.213002  45.093912   \n",
       "\n",
       "          2021  2022  2023  \n",
       "0     2.333333   NaN   NaN  \n",
       "1    29.955194   NaN   NaN  \n",
       "2     1.852782   NaN   NaN  \n",
       "3    19.732037   NaN   NaN  \n",
       "4    52.981722   NaN   NaN  \n",
       "..         ...   ...   ...  \n",
       "257        NaN   NaN   NaN  \n",
       "258   1.039832   NaN   NaN  \n",
       "259  14.025085   NaN   NaN  \n",
       "260  60.030150   NaN   NaN  \n",
       "261  44.974822   NaN   NaN  \n",
       "\n",
       "[262 rows x 68 columns]"
      ]
     },
     "execution_count": 6,
     "metadata": {},
     "output_type": "execute_result"
    }
   ],
   "source": [
    "deforest_data = deforest_data.drop(deforest_data[deforest_data[\"2019\"] == 0][\"Country Name\"].index).reset_index(drop = True)\n",
    "deforest_data"
   ]
  },
  {
   "cell_type": "code",
   "execution_count": 7,
   "metadata": {},
   "outputs": [
    {
     "name": "stdout",
     "output_type": "stream",
     "text": [
      "Number of countries in the deforestation dataset:  262\n"
     ]
    }
   ],
   "source": [
    "print(\"Number of countries in the deforestation dataset: \",len(deforest_data[\"Country Name\"].unique()))"
   ]
  },
  {
   "cell_type": "code",
   "execution_count": 8,
   "metadata": {},
   "outputs": [
    {
     "name": "stdout",
     "output_type": "stream",
     "text": [
      "Number of string columns: 4\n",
      "Number of float columns: 64\n"
     ]
    }
   ],
   "source": [
    "str_col_number = (deforest_data.dtypes == 'O').value_counts().iloc[1]\n",
    "float_col_number = (deforest_data.dtypes == 'O').value_counts().iloc[0]\n",
    "print(f\"Number of string columns: {str_col_number}\")\n",
    "print(f\"Number of float columns: {float_col_number}\")"
   ]
  },
  {
   "cell_type": "code",
   "execution_count": 9,
   "metadata": {},
   "outputs": [
    {
     "name": "stdout",
     "output_type": "stream",
     "text": [
      "Dataset topic: Forest area (% of land area)\n"
     ]
    }
   ],
   "source": [
    "data_topic = deforest_data[\"Indicator Name\"].unique()[0] #Unnecessary column\n",
    "deforest_data = deforest_data.drop([\"Indicator Name\",\"Indicator Code\"], axis = 1) #Dropping the column\n",
    "print(f\"Dataset topic: {data_topic}\")"
   ]
  },
  {
   "cell_type": "code",
   "execution_count": 10,
   "metadata": {},
   "outputs": [
    {
     "data": {
      "image/png": "[encoded data removed]",
      "text/plain": [
       "<Figure size 1000x600 with 1 Axes>"
      ]
     },
     "metadata": {},
     "output_type": "display_data"
    }
   ],
   "source": [
    "#Columns\n",
    "# We will use regex to find all columns that represent years (assuming years are 4-digit numbers starting with '19' or '20').\n",
    "year_columns = [col for col in deforest_data.columns if re.match(r'^\\d{4}$', col)]\n",
    "\n",
    "#Potting the missing values\n",
    "plt.figure(figsize=(10, 6))  # You can adjust the (width, height) as needed\n",
    "missing_values = deforest_data[year_columns].isnull().sum()\n",
    "missing_values.plot(kind='bar', title='Number of Missing Values per Column', xlabel='Year', ylabel='Missing Values')\n",
    "\n",
    "# Show the plot\n",
    "plt.show()\n"
   ]
  },
  {
   "cell_type": "code",
   "execution_count": 11,
   "metadata": {},
   "outputs": [
    {
     "data": {
      "text/html": [
       "<div>\n",
       "<style scoped>\n",
       "    .dataframe tbody tr th:only-of-type {\n",
       "        vertical-align: middle;\n",
       "    }\n",
       "\n",
       "    .dataframe tbody tr th {\n",
       "        vertical-align: top;\n",
       "    }\n",
       "\n",
       "    .dataframe thead th {\n",
       "        text-align: right;\n",
       "    }\n",
       "</style>\n",
       "<table border=\"1\" class=\"dataframe\">\n",
       "  <thead>\n",
       "    <tr style=\"text-align: right;\">\n",
       "      <th></th>\n",
       "      <th>Country Name</th>\n",
       "      <th>Country Code</th>\n",
       "      <th>2000</th>\n",
       "      <th>2001</th>\n",
       "      <th>2002</th>\n",
       "      <th>2003</th>\n",
       "      <th>2004</th>\n",
       "      <th>2005</th>\n",
       "      <th>2006</th>\n",
       "      <th>2007</th>\n",
       "      <th>...</th>\n",
       "      <th>2012</th>\n",
       "      <th>2013</th>\n",
       "      <th>2014</th>\n",
       "      <th>2015</th>\n",
       "      <th>2016</th>\n",
       "      <th>2017</th>\n",
       "      <th>2018</th>\n",
       "      <th>2019</th>\n",
       "      <th>2020</th>\n",
       "      <th>2021</th>\n",
       "    </tr>\n",
       "  </thead>\n",
       "  <tbody>\n",
       "    <tr>\n",
       "      <th>0</th>\n",
       "      <td>Aruba</td>\n",
       "      <td>ABW</td>\n",
       "      <td>2.333333</td>\n",
       "      <td>2.333333</td>\n",
       "      <td>2.333333</td>\n",
       "      <td>2.333333</td>\n",
       "      <td>2.333333</td>\n",
       "      <td>2.333333</td>\n",
       "      <td>2.333333</td>\n",
       "      <td>2.333333</td>\n",
       "      <td>...</td>\n",
       "      <td>2.333333</td>\n",
       "      <td>2.333333</td>\n",
       "      <td>2.333333</td>\n",
       "      <td>2.333333</td>\n",
       "      <td>2.333333</td>\n",
       "      <td>2.333333</td>\n",
       "      <td>2.333333</td>\n",
       "      <td>2.333333</td>\n",
       "      <td>2.333333</td>\n",
       "      <td>2.333333</td>\n",
       "    </tr>\n",
       "    <tr>\n",
       "      <th>1</th>\n",
       "      <td>Africa Eastern and Southern</td>\n",
       "      <td>AFE</td>\n",
       "      <td>34.717473</td>\n",
       "      <td>34.537463</td>\n",
       "      <td>34.357452</td>\n",
       "      <td>34.177441</td>\n",
       "      <td>33.654274</td>\n",
       "      <td>33.475977</td>\n",
       "      <td>33.297802</td>\n",
       "      <td>33.119504</td>\n",
       "      <td>...</td>\n",
       "      <td>31.890654</td>\n",
       "      <td>31.680635</td>\n",
       "      <td>31.470634</td>\n",
       "      <td>31.260420</td>\n",
       "      <td>31.039682</td>\n",
       "      <td>30.824316</td>\n",
       "      <td>30.611512</td>\n",
       "      <td>30.391626</td>\n",
       "      <td>30.174253</td>\n",
       "      <td>29.955194</td>\n",
       "    </tr>\n",
       "    <tr>\n",
       "      <th>2</th>\n",
       "      <td>Afghanistan</td>\n",
       "      <td>AFG</td>\n",
       "      <td>1.852782</td>\n",
       "      <td>1.852782</td>\n",
       "      <td>1.852782</td>\n",
       "      <td>1.852782</td>\n",
       "      <td>1.852782</td>\n",
       "      <td>1.852782</td>\n",
       "      <td>1.852782</td>\n",
       "      <td>1.852782</td>\n",
       "      <td>...</td>\n",
       "      <td>1.852782</td>\n",
       "      <td>1.852782</td>\n",
       "      <td>1.852782</td>\n",
       "      <td>1.852782</td>\n",
       "      <td>1.852782</td>\n",
       "      <td>1.852782</td>\n",
       "      <td>1.852782</td>\n",
       "      <td>1.852782</td>\n",
       "      <td>1.852782</td>\n",
       "      <td>1.852782</td>\n",
       "    </tr>\n",
       "    <tr>\n",
       "      <th>3</th>\n",
       "      <td>Africa Western and Central</td>\n",
       "      <td>AFW</td>\n",
       "      <td>21.595284</td>\n",
       "      <td>21.503156</td>\n",
       "      <td>21.411029</td>\n",
       "      <td>21.318902</td>\n",
       "      <td>21.226775</td>\n",
       "      <td>21.134648</td>\n",
       "      <td>21.042520</td>\n",
       "      <td>20.950393</td>\n",
       "      <td>...</td>\n",
       "      <td>20.498099</td>\n",
       "      <td>20.410143</td>\n",
       "      <td>20.322187</td>\n",
       "      <td>20.234231</td>\n",
       "      <td>20.152610</td>\n",
       "      <td>20.071327</td>\n",
       "      <td>19.986100</td>\n",
       "      <td>19.901215</td>\n",
       "      <td>19.816777</td>\n",
       "      <td>19.732037</td>\n",
       "    </tr>\n",
       "    <tr>\n",
       "      <th>4</th>\n",
       "      <td>Angola</td>\n",
       "      <td>AGO</td>\n",
       "      <td>62.331443</td>\n",
       "      <td>61.886219</td>\n",
       "      <td>61.440995</td>\n",
       "      <td>60.995770</td>\n",
       "      <td>60.550546</td>\n",
       "      <td>60.105322</td>\n",
       "      <td>59.660098</td>\n",
       "      <td>59.214874</td>\n",
       "      <td>...</td>\n",
       "      <td>56.988751</td>\n",
       "      <td>56.543526</td>\n",
       "      <td>56.098301</td>\n",
       "      <td>55.653076</td>\n",
       "      <td>55.207845</td>\n",
       "      <td>54.762629</td>\n",
       "      <td>54.317406</td>\n",
       "      <td>53.872175</td>\n",
       "      <td>53.426951</td>\n",
       "      <td>52.981722</td>\n",
       "    </tr>\n",
       "  </tbody>\n",
       "</table>\n",
       "<p>5 rows × 24 columns</p>\n",
       "</div>"
      ],
      "text/plain": [
       "                  Country Name Country Code       2000       2001       2002  \\\n",
       "0                        Aruba          ABW   2.333333   2.333333   2.333333   \n",
       "1  Africa Eastern and Southern          AFE  34.717473  34.537463  34.357452   \n",
       "2                  Afghanistan          AFG   1.852782   1.852782   1.852782   \n",
       "3   Africa Western and Central          AFW  21.595284  21.503156  21.411029   \n",
       "4                       Angola          AGO  62.331443  61.886219  61.440995   \n",
       "\n",
       "        2003       2004       2005       2006       2007  ...       2012  \\\n",
       "0   2.333333   2.333333   2.333333   2.333333   2.333333  ...   2.333333   \n",
       "1  34.177441  33.654274  33.475977  33.297802  33.119504  ...  31.890654   \n",
       "2   1.852782   1.852782   1.852782   1.852782   1.852782  ...   1.852782   \n",
       "3  21.318902  21.226775  21.134648  21.042520  20.950393  ...  20.498099   \n",
       "4  60.995770  60.550546  60.105322  59.660098  59.214874  ...  56.988751   \n",
       "\n",
       "        2013       2014       2015       2016       2017       2018  \\\n",
       "0   2.333333   2.333333   2.333333   2.333333   2.333333   2.333333   \n",
       "1  31.680635  31.470634  31.260420  31.039682  30.824316  30.611512   \n",
       "2   1.852782   1.852782   1.852782   1.852782   1.852782   1.852782   \n",
       "3  20.410143  20.322187  20.234231  20.152610  20.071327  19.986100   \n",
       "4  56.543526  56.098301  55.653076  55.207845  54.762629  54.317406   \n",
       "\n",
       "        2019       2020       2021  \n",
       "0   2.333333   2.333333   2.333333  \n",
       "1  30.391626  30.174253  29.955194  \n",
       "2   1.852782   1.852782   1.852782  \n",
       "3  19.901215  19.816777  19.732037  \n",
       "4  53.872175  53.426951  52.981722  \n",
       "\n",
       "[5 rows x 24 columns]"
      ]
     },
     "execution_count": 11,
     "metadata": {},
     "output_type": "execute_result"
    }
   ],
   "source": [
    "all_missing_columns = deforest_data[year_columns].isnull().all()\n",
    "# Filter out the columns that are entirely missing\n",
    "columns_with_all_missing = all_missing_columns[all_missing_columns].index.tolist()\n",
    "# Result: We don't have data for the years: 1960-1989 & 2022,2023\n",
    "\n",
    "# Drop the columns that have all  \n",
    "deforest_data = deforest_data.drop(columns_with_all_missing ,axis = 1)\n",
    "\n",
    "#Converting the years to integers\n",
    "deforest_data.rename(columns={col: int(col) for col in year_columns}, inplace=True)\n",
    "\n",
    "#We want the data starting from 2000\n",
    "columns_from_2000 = [col for col in deforest_data.columns if isinstance(col, int) and col >= 2000]\n",
    "\n",
    "# Filter the DataFrame to include only the columns from the year 2000 onwards\n",
    "data_with_desired_years = deforest_data[columns_from_2000]\n",
    "\n",
    "#Joining the dataframes\n",
    "final_deforest_data = deforest_data[[\"Country Name\",\"Country Code\"]].join(data_with_desired_years)\n",
    "final_deforest_data.head()"
   ]
  },
  {
   "cell_type": "code",
   "execution_count": 12,
   "metadata": {},
   "outputs": [
    {
     "data": {
      "text/html": [
       "<div>\n",
       "<style scoped>\n",
       "    .dataframe tbody tr th:only-of-type {\n",
       "        vertical-align: middle;\n",
       "    }\n",
       "\n",
       "    .dataframe tbody tr th {\n",
       "        vertical-align: top;\n",
       "    }\n",
       "\n",
       "    .dataframe thead th {\n",
       "        text-align: right;\n",
       "    }\n",
       "</style>\n",
       "<table border=\"1\" class=\"dataframe\">\n",
       "  <thead>\n",
       "    <tr style=\"text-align: right;\">\n",
       "      <th></th>\n",
       "      <th>Country Name</th>\n",
       "      <th>Country Code</th>\n",
       "      <th>Year</th>\n",
       "      <th>Values</th>\n",
       "    </tr>\n",
       "  </thead>\n",
       "  <tbody>\n",
       "    <tr>\n",
       "      <th>0</th>\n",
       "      <td>Aruba</td>\n",
       "      <td>ABW</td>\n",
       "      <td>2000</td>\n",
       "      <td>2.333333</td>\n",
       "    </tr>\n",
       "    <tr>\n",
       "      <th>1</th>\n",
       "      <td>Africa Eastern and Southern</td>\n",
       "      <td>AFE</td>\n",
       "      <td>2000</td>\n",
       "      <td>34.717473</td>\n",
       "    </tr>\n",
       "    <tr>\n",
       "      <th>2</th>\n",
       "      <td>Afghanistan</td>\n",
       "      <td>AFG</td>\n",
       "      <td>2000</td>\n",
       "      <td>1.852782</td>\n",
       "    </tr>\n",
       "    <tr>\n",
       "      <th>3</th>\n",
       "      <td>Africa Western and Central</td>\n",
       "      <td>AFW</td>\n",
       "      <td>2000</td>\n",
       "      <td>21.595284</td>\n",
       "    </tr>\n",
       "    <tr>\n",
       "      <th>4</th>\n",
       "      <td>Angola</td>\n",
       "      <td>AGO</td>\n",
       "      <td>2000</td>\n",
       "      <td>62.331443</td>\n",
       "    </tr>\n",
       "  </tbody>\n",
       "</table>\n",
       "</div>"
      ],
      "text/plain": [
       "                  Country Name Country Code  Year     Values\n",
       "0                        Aruba          ABW  2000   2.333333\n",
       "1  Africa Eastern and Southern          AFE  2000  34.717473\n",
       "2                  Afghanistan          AFG  2000   1.852782\n",
       "3   Africa Western and Central          AFW  2000  21.595284\n",
       "4                       Angola          AGO  2000  62.331443"
      ]
     },
     "execution_count": 12,
     "metadata": {},
     "output_type": "execute_result"
    }
   ],
   "source": [
    "#Preliminary cleaning\n",
    "final_deforest_data[\"Country Name\"] = final_deforest_data[\"Country Name\"] + \" \" + final_deforest_data[\"Country Code\"]\n",
    "final_deforest_data.reset_index(drop = True, inplace = True)\n",
    "\n",
    "#Dropping some of the columns for clearer structure\n",
    "df_cleaned = final_deforest_data.drop(columns='Country Code')\n",
    "\n",
    "# Reshape the data using the melt function to create a long format\n",
    "df_long = df_cleaned.melt(id_vars=['Country Name'], var_name='Year', value_name='Values')\n",
    "\n",
    "# Convert 'Year' column to numeric if necessary (remove '.0' from the years)\n",
    "df_long['Year'] = pd.to_numeric(df_long['Year'], errors='coerce')\n",
    "\n",
    "#Adding the country code\n",
    "df_long[\"Country Code\"] = df_long[\"Country Name\"].apply(lambda val:val.split(\" \")[-1])\n",
    "df_long[\"Country Name\"] = df_long[\"Country Name\"].apply(lambda val: \" \".join(val.split(\" \")[:-1]))\n",
    "\n",
    "#Ordering the columns\n",
    "df_long = df_long[[\"Country Name\",\"Country Code\",\"Year\",\"Values\"]]\n",
    "\n",
    "df_long.head()"
   ]
  },
  {
   "cell_type": "code",
   "execution_count": 13,
   "metadata": {},
   "outputs": [
    {
     "data": {
      "image/png": "[encoded data removed]",
      "text/plain": [
       "<Figure size 640x480 with 1 Axes>"
      ]
     },
     "metadata": {},
     "output_type": "display_data"
    }
   ],
   "source": [
    "#Number of data points per each country\n",
    "len_country = len(df_long[df_long[\"Country Name\"] == \"Switzerland\"])\n",
    "\n",
    "# Count the number of NaN values for each country\n",
    "nan_count_per_country = df_long.groupby('Country Name').apply(lambda x: x.isna().sum())[\"Values\"]\n",
    "\n",
    "# Plot a bar plot of the 'nan_count_per_country' DataFrame\n",
    "nan_count_per_country[nan_count_per_country > 0].plot(kind = 'bar', xlabel='Country', ylabel='Missing Values')\n",
    "\n",
    "#These countries can be dropped\n",
    "countries_dropped = nan_count_per_country[nan_count_per_country > 0].index\n"
   ]
  },
  {
   "cell_type": "code",
   "execution_count": 14,
   "metadata": {},
   "outputs": [
    {
     "data": {
      "text/html": [
       "<div>\n",
       "<style scoped>\n",
       "    .dataframe tbody tr th:only-of-type {\n",
       "        vertical-align: middle;\n",
       "    }\n",
       "\n",
       "    .dataframe tbody tr th {\n",
       "        vertical-align: top;\n",
       "    }\n",
       "\n",
       "    .dataframe thead th {\n",
       "        text-align: right;\n",
       "    }\n",
       "</style>\n",
       "<table border=\"1\" class=\"dataframe\">\n",
       "  <thead>\n",
       "    <tr style=\"text-align: right;\">\n",
       "      <th></th>\n",
       "      <th>Country Name</th>\n",
       "      <th>Country Code</th>\n",
       "      <th>Year</th>\n",
       "      <th>Values</th>\n",
       "    </tr>\n",
       "  </thead>\n",
       "  <tbody>\n",
       "    <tr>\n",
       "      <th>0</th>\n",
       "      <td>Aruba</td>\n",
       "      <td>ABW</td>\n",
       "      <td>2000</td>\n",
       "      <td>2.333333</td>\n",
       "    </tr>\n",
       "    <tr>\n",
       "      <th>1</th>\n",
       "      <td>Africa Eastern and Southern</td>\n",
       "      <td>AFE</td>\n",
       "      <td>2000</td>\n",
       "      <td>34.717473</td>\n",
       "    </tr>\n",
       "    <tr>\n",
       "      <th>2</th>\n",
       "      <td>Afghanistan</td>\n",
       "      <td>AFG</td>\n",
       "      <td>2000</td>\n",
       "      <td>1.852782</td>\n",
       "    </tr>\n",
       "    <tr>\n",
       "      <th>3</th>\n",
       "      <td>Africa Western and Central</td>\n",
       "      <td>AFW</td>\n",
       "      <td>2000</td>\n",
       "      <td>21.595284</td>\n",
       "    </tr>\n",
       "    <tr>\n",
       "      <th>4</th>\n",
       "      <td>Angola</td>\n",
       "      <td>AGO</td>\n",
       "      <td>2000</td>\n",
       "      <td>62.331443</td>\n",
       "    </tr>\n",
       "  </tbody>\n",
       "</table>\n",
       "</div>"
      ],
      "text/plain": [
       "                  Country Name Country Code  Year     Values\n",
       "0                        Aruba          ABW  2000   2.333333\n",
       "1  Africa Eastern and Southern          AFE  2000  34.717473\n",
       "2                  Afghanistan          AFG  2000   1.852782\n",
       "3   Africa Western and Central          AFW  2000  21.595284\n",
       "4                       Angola          AGO  2000  62.331443"
      ]
     },
     "execution_count": 14,
     "metadata": {},
     "output_type": "execute_result"
    }
   ],
   "source": [
    "country_lst = nan_count_per_country[nan_count_per_country > 0].index.to_list()\n",
    "\n",
    "#Dropping all the data related to countries above\n",
    "df_cleaned = df_long[~df_long['Country Name'].isin(country_lst)]\n",
    "df_cleaned.head()"
   ]
  },
  {
   "cell_type": "code",
   "execution_count": 15,
   "metadata": {},
   "outputs": [
    {
     "name": "stdout",
     "output_type": "stream",
     "text": [
      "Data point per country: 22\n"
     ]
    }
   ],
   "source": [
    "#Data availability per country\n",
    "data_avl = df_cleaned.groupby(\"Country Name\").count()[\"Values\"].unique()[0] #Data point per country\n",
    "print(f\"Data point per country: {data_avl}\")"
   ]
  },
  {
   "cell_type": "code",
   "execution_count": 16,
   "metadata": {
    "scrolled": false
   },
   "outputs": [
    {
     "data": {
      "text/html": [
       "<div>\n",
       "<style scoped>\n",
       "    .dataframe tbody tr th:only-of-type {\n",
       "        vertical-align: middle;\n",
       "    }\n",
       "\n",
       "    .dataframe tbody tr th {\n",
       "        vertical-align: top;\n",
       "    }\n",
       "\n",
       "    .dataframe thead th {\n",
       "        text-align: right;\n",
       "    }\n",
       "</style>\n",
       "<table border=\"1\" class=\"dataframe\">\n",
       "  <thead>\n",
       "    <tr style=\"text-align: right;\">\n",
       "      <th></th>\n",
       "      <th>Country Name</th>\n",
       "      <th>Values</th>\n",
       "    </tr>\n",
       "  </thead>\n",
       "  <tbody>\n",
       "    <tr>\n",
       "      <th>0</th>\n",
       "      <td>Afghanistan</td>\n",
       "      <td>0.00000</td>\n",
       "    </tr>\n",
       "    <tr>\n",
       "      <th>1</th>\n",
       "      <td>Afghanistan</td>\n",
       "      <td>0.00000</td>\n",
       "    </tr>\n",
       "    <tr>\n",
       "      <th>2</th>\n",
       "      <td>Afghanistan</td>\n",
       "      <td>0.00000</td>\n",
       "    </tr>\n",
       "    <tr>\n",
       "      <th>3</th>\n",
       "      <td>Afghanistan</td>\n",
       "      <td>0.00000</td>\n",
       "    </tr>\n",
       "    <tr>\n",
       "      <th>4</th>\n",
       "      <td>Afghanistan</td>\n",
       "      <td>0.00000</td>\n",
       "    </tr>\n",
       "    <tr>\n",
       "      <th>...</th>\n",
       "      <td>...</td>\n",
       "      <td>...</td>\n",
       "    </tr>\n",
       "    <tr>\n",
       "      <th>5539</th>\n",
       "      <td>Zimbabwe</td>\n",
       "      <td>-0.11909</td>\n",
       "    </tr>\n",
       "    <tr>\n",
       "      <th>5540</th>\n",
       "      <td>Zimbabwe</td>\n",
       "      <td>-0.11909</td>\n",
       "    </tr>\n",
       "    <tr>\n",
       "      <th>5541</th>\n",
       "      <td>Zimbabwe</td>\n",
       "      <td>-0.11909</td>\n",
       "    </tr>\n",
       "    <tr>\n",
       "      <th>5542</th>\n",
       "      <td>Zimbabwe</td>\n",
       "      <td>-0.11909</td>\n",
       "    </tr>\n",
       "    <tr>\n",
       "      <th>5543</th>\n",
       "      <td>Zimbabwe</td>\n",
       "      <td>-0.11909</td>\n",
       "    </tr>\n",
       "  </tbody>\n",
       "</table>\n",
       "<p>5544 rows × 2 columns</p>\n",
       "</div>"
      ],
      "text/plain": [
       "     Country Name   Values\n",
       "0     Afghanistan  0.00000\n",
       "1     Afghanistan  0.00000\n",
       "2     Afghanistan  0.00000\n",
       "3     Afghanistan  0.00000\n",
       "4     Afghanistan  0.00000\n",
       "...           ...      ...\n",
       "5539     Zimbabwe -0.11909\n",
       "5540     Zimbabwe -0.11909\n",
       "5541     Zimbabwe -0.11909\n",
       "5542     Zimbabwe -0.11909\n",
       "5543     Zimbabwe -0.11909\n",
       "\n",
       "[5544 rows x 2 columns]"
      ]
     },
     "execution_count": 16,
     "metadata": {},
     "output_type": "execute_result"
    }
   ],
   "source": [
    "#Just taking the absolute regular difference val[i]-val[i-1] as the data is provided in percentage\n",
    "deforestation_rate= df_cleaned.groupby(\"Country Name\")[\"Values\"].apply(lambda x: x.diff().fillna(0))\n",
    "rate_df = pd.DataFrame(deforestation_rate).reset_index().drop(\"level_1\", axis = 1)\n",
    "rate_df"
   ]
  },
  {
   "cell_type": "code",
   "execution_count": 17,
   "metadata": {},
   "outputs": [
    {
     "data": {
      "text/plain": [
       "Country Name\n",
       "Afghanistan                    0\n",
       "Africa Eastern and Southern    0\n",
       "Africa Western and Central     0\n",
       "Albania                        0\n",
       "Algeria                        0\n",
       "                              ..\n",
       "West Bank and Gaza             0\n",
       "World                          0\n",
       "Yemen, Rep.                    0\n",
       "Zambia                         0\n",
       "Zimbabwe                       0\n",
       "Name: Values, Length: 252, dtype: int64"
      ]
     },
     "execution_count": 17,
     "metadata": {},
     "output_type": "execute_result"
    }
   ],
   "source": [
    "nan_count_by_country = rate_df.groupby(\"Country Name\")[\"Values\"].apply(lambda x: x.isna().sum())\n",
    "nan_count_by_country"
   ]
  },
  {
   "cell_type": "code",
   "execution_count": 18,
   "metadata": {},
   "outputs": [
    {
     "data": {
      "image/png": "[encoded data removed]",
      "text/plain": [
       "<Figure size 1000x600 with 1 Axes>"
      ]
     },
     "metadata": {},
     "output_type": "display_data"
    }
   ],
   "source": [
    "#Outlier analysis\n",
    "#Calcualte the spread of deforestation rate for countries (max  - min)\n",
    "spread_df = rate_df.groupby(\"Country Name\")[\"Values\"].agg(lambda x: x.max() - x.min())\n",
    "#Therefore it is reasonable to take the average per country\n",
    "\n",
    "\n",
    "plt.figure(figsize=(10, 6))\n",
    "spread_df.plot(kind = \"bar\")\n",
    "plt.xticks(fontsize=0.4)  # Set the font size as desired (e.g., 6)\n",
    "plt.ylabel('Spread of Percentage Change')\n",
    "plt.axhline(y=2, color='red', linestyle='--')\n",
    "plt.show()\n"
   ]
  },
  {
   "cell_type": "code",
   "execution_count": 19,
   "metadata": {},
   "outputs": [],
   "source": [
    "#spread_df[spread_df>2] #The difference between maximum percentage change and minimum percentage is larger than %2\n",
    "#countries_with_large_spread = (spread_df[spread_df>2]).index.to_list()\n",
    "#df_filtered = rate_df[~rate_df['Country Name'].isin(countries_with_large_spread)]#Removing those countries\n",
    "#print(spread_df[spread_df>2])"
   ]
  },
  {
   "cell_type": "code",
   "execution_count": 20,
   "metadata": {},
   "outputs": [
    {
     "name": "stdout",
     "output_type": "stream",
     "text": [
      "-12.746854085189748\n"
     ]
    }
   ],
   "source": [
    "print(rate_df['Values'].skew())"
   ]
  },
  {
   "cell_type": "code",
   "execution_count": 21,
   "metadata": {},
   "outputs": [],
   "source": [
    "#df_cleaned[df_cleaned[\"Country Name\"] == \"Northern Mariana Islands\"] #Just tot look at the forest rate coverage "
   ]
  },
  {
   "cell_type": "code",
   "execution_count": 22,
   "metadata": {},
   "outputs": [],
   "source": [
    "# Function to get ISO-3 country code from country name\n",
    "def get_iso3(country_name):\n",
    "    try:\n",
    "        return pycountry.countries.lookup(country_name).alpha_3\n",
    "    except LookupError:\n",
    "        return None"
   ]
  },
  {
   "cell_type": "code",
   "execution_count": 23,
   "metadata": {
    "scrolled": true
   },
   "outputs": [
    {
     "data": {
      "text/html": [
       "<div>\n",
       "<style scoped>\n",
       "    .dataframe tbody tr th:only-of-type {\n",
       "        vertical-align: middle;\n",
       "    }\n",
       "\n",
       "    .dataframe tbody tr th {\n",
       "        vertical-align: top;\n",
       "    }\n",
       "\n",
       "    .dataframe thead th {\n",
       "        text-align: right;\n",
       "    }\n",
       "</style>\n",
       "<table border=\"1\" class=\"dataframe\">\n",
       "  <thead>\n",
       "    <tr style=\"text-align: right;\">\n",
       "      <th></th>\n",
       "      <th>Country Name</th>\n",
       "      <th>Values</th>\n",
       "    </tr>\n",
       "  </thead>\n",
       "  <tbody>\n",
       "    <tr>\n",
       "      <th>0</th>\n",
       "      <td>Afghanistan</td>\n",
       "      <td>0.000000</td>\n",
       "    </tr>\n",
       "    <tr>\n",
       "      <th>1</th>\n",
       "      <td>Africa Eastern and Southern</td>\n",
       "      <td>-0.216467</td>\n",
       "    </tr>\n",
       "    <tr>\n",
       "      <th>2</th>\n",
       "      <td>Africa Western and Central</td>\n",
       "      <td>-0.084693</td>\n",
       "    </tr>\n",
       "    <tr>\n",
       "      <th>3</th>\n",
       "      <td>Albania</td>\n",
       "      <td>0.032515</td>\n",
       "    </tr>\n",
       "    <tr>\n",
       "      <th>4</th>\n",
       "      <td>Algeria</td>\n",
       "      <td>0.007239</td>\n",
       "    </tr>\n",
       "    <tr>\n",
       "      <th>...</th>\n",
       "      <td>...</td>\n",
       "      <td>...</td>\n",
       "    </tr>\n",
       "    <tr>\n",
       "      <th>247</th>\n",
       "      <td>West Bank and Gaza</td>\n",
       "      <td>0.007940</td>\n",
       "    </tr>\n",
       "    <tr>\n",
       "      <th>248</th>\n",
       "      <td>World</td>\n",
       "      <td>-0.037627</td>\n",
       "    </tr>\n",
       "    <tr>\n",
       "      <th>249</th>\n",
       "      <td>Yemen, Rep.</td>\n",
       "      <td>0.000000</td>\n",
       "    </tr>\n",
       "    <tr>\n",
       "      <th>250</th>\n",
       "      <td>Zambia</td>\n",
       "      <td>-0.148471</td>\n",
       "    </tr>\n",
       "    <tr>\n",
       "      <th>251</th>\n",
       "      <td>Zimbabwe</td>\n",
       "      <td>-0.113677</td>\n",
       "    </tr>\n",
       "  </tbody>\n",
       "</table>\n",
       "<p>252 rows × 2 columns</p>\n",
       "</div>"
      ],
      "text/plain": [
       "                    Country Name    Values\n",
       "0                    Afghanistan  0.000000\n",
       "1    Africa Eastern and Southern -0.216467\n",
       "2     Africa Western and Central -0.084693\n",
       "3                        Albania  0.032515\n",
       "4                        Algeria  0.007239\n",
       "..                           ...       ...\n",
       "247           West Bank and Gaza  0.007940\n",
       "248                        World -0.037627\n",
       "249                  Yemen, Rep.  0.000000\n",
       "250                       Zambia -0.148471\n",
       "251                     Zimbabwe -0.113677\n",
       "\n",
       "[252 rows x 2 columns]"
      ]
     },
     "execution_count": 23,
     "metadata": {},
     "output_type": "execute_result"
    }
   ],
   "source": [
    "average_deforestation = rate_df.groupby(\"Country Name\")[\"Values\"].mean().reset_index()  #Taking the average\n",
    "#Now this becomes the average percentage change at the last 20 years (For example: For Albania the average deforestation rate is 0.035%)\n",
    "average_deforestation"
   ]
  },
  {
   "cell_type": "code",
   "execution_count": 24,
   "metadata": {},
   "outputs": [],
   "source": [
    "# Add ISO-3 codes to the DataFrame\n",
    "average_deforestation['iso3'] = average_deforestation['Country Name'].apply(get_iso3)"
   ]
  },
  {
   "cell_type": "code",
   "execution_count": 25,
   "metadata": {},
   "outputs": [
    {
     "data": {
      "text/html": [
       "<div>\n",
       "<style scoped>\n",
       "    .dataframe tbody tr th:only-of-type {\n",
       "        vertical-align: middle;\n",
       "    }\n",
       "\n",
       "    .dataframe tbody tr th {\n",
       "        vertical-align: top;\n",
       "    }\n",
       "\n",
       "    .dataframe thead th {\n",
       "        text-align: right;\n",
       "    }\n",
       "</style>\n",
       "<table border=\"1\" class=\"dataframe\">\n",
       "  <thead>\n",
       "    <tr style=\"text-align: right;\">\n",
       "      <th></th>\n",
       "      <th>Country Name</th>\n",
       "      <th>Values</th>\n",
       "      <th>iso3</th>\n",
       "    </tr>\n",
       "  </thead>\n",
       "  <tbody>\n",
       "    <tr>\n",
       "      <th>1</th>\n",
       "      <td>Africa Eastern and Southern</td>\n",
       "      <td>-0.216467</td>\n",
       "      <td>None</td>\n",
       "    </tr>\n",
       "    <tr>\n",
       "      <th>2</th>\n",
       "      <td>Africa Western and Central</td>\n",
       "      <td>-0.084693</td>\n",
       "      <td>None</td>\n",
       "    </tr>\n",
       "    <tr>\n",
       "      <th>9</th>\n",
       "      <td>Arab World</td>\n",
       "      <td>-0.034543</td>\n",
       "      <td>None</td>\n",
       "    </tr>\n",
       "    <tr>\n",
       "      <th>16</th>\n",
       "      <td>Bahamas, The</td>\n",
       "      <td>0.000000</td>\n",
       "      <td>None</td>\n",
       "    </tr>\n",
       "    <tr>\n",
       "      <th>39</th>\n",
       "      <td>Caribbean small states</td>\n",
       "      <td>-0.049296</td>\n",
       "      <td>None</td>\n",
       "    </tr>\n",
       "    <tr>\n",
       "      <th>...</th>\n",
       "      <td>...</td>\n",
       "      <td>...</td>\n",
       "      <td>...</td>\n",
       "    </tr>\n",
       "    <tr>\n",
       "      <th>244</th>\n",
       "      <td>Venezuela, RB</td>\n",
       "      <td>-0.153446</td>\n",
       "      <td>None</td>\n",
       "    </tr>\n",
       "    <tr>\n",
       "      <th>246</th>\n",
       "      <td>Virgin Islands (U.S.)</td>\n",
       "      <td>-0.053247</td>\n",
       "      <td>None</td>\n",
       "    </tr>\n",
       "    <tr>\n",
       "      <th>247</th>\n",
       "      <td>West Bank and Gaza</td>\n",
       "      <td>0.007940</td>\n",
       "      <td>None</td>\n",
       "    </tr>\n",
       "    <tr>\n",
       "      <th>248</th>\n",
       "      <td>World</td>\n",
       "      <td>-0.037627</td>\n",
       "      <td>None</td>\n",
       "    </tr>\n",
       "    <tr>\n",
       "      <th>249</th>\n",
       "      <td>Yemen, Rep.</td>\n",
       "      <td>0.000000</td>\n",
       "      <td>None</td>\n",
       "    </tr>\n",
       "  </tbody>\n",
       "</table>\n",
       "<p>68 rows × 3 columns</p>\n",
       "</div>"
      ],
      "text/plain": [
       "                    Country Name    Values  iso3\n",
       "1    Africa Eastern and Southern -0.216467  None\n",
       "2     Africa Western and Central -0.084693  None\n",
       "9                     Arab World -0.034543  None\n",
       "16                  Bahamas, The  0.000000  None\n",
       "39        Caribbean small states -0.049296  None\n",
       "..                           ...       ...   ...\n",
       "244                Venezuela, RB -0.153446  None\n",
       "246        Virgin Islands (U.S.) -0.053247  None\n",
       "247           West Bank and Gaza  0.007940  None\n",
       "248                        World -0.037627  None\n",
       "249                  Yemen, Rep.  0.000000  None\n",
       "\n",
       "[68 rows x 3 columns]"
      ]
     },
     "execution_count": 25,
     "metadata": {},
     "output_type": "execute_result"
    }
   ],
   "source": [
    "average_deforestation[average_deforestation['iso3'].isnull()]"
   ]
  },
  {
   "cell_type": "code",
   "execution_count": 26,
   "metadata": {},
   "outputs": [],
   "source": [
    "# Reverting to previous data before dropping and then manually resolving country mismatches\n",
    "country_mapping = {\n",
    "    'United Republic of Tanzania': 'Tanzania',\n",
    "    'United States of America': 'United States',\n",
    "    'Venezuela, RB': 'Venezuela',\n",
    "    'Bahamas, The': 'Bahamas',\n",
    "    'Congo, Dem. Rep.':'Congo, The Democratic Republic of the',\n",
    "    'Congo, Rep.': 'Congo',\n",
    "    'Turkiye': 'Türkiye',\n",
    "    \"Cote d'Ivoire\":\"Côte d'Ivoire\",\n",
    "    'St. Lucia':'Saint Lucia',\n",
    "    \"Korea, Dem. People's Rep.\" : \"Korea, Democratic People's Republic of\",\n",
    "    'Korea, Rep.': 'Korea, Republic of',\n",
    "    'Lao PDR':\"Lao People's Democratic Republic\",\n",
    "    'Gambia, The': 'Gambia',\n",
    "    'Egypt, Arab Rep.': 'Egypt',\n",
    "    'Iran, Islamic Rep.': 'Iran, Islamic Republic of',\n",
    "    'St. Kitts and Nevis': 'Saint Kitts and Nevis',\n",
    "    'St. Vincent and the Grenadines':'Saint Vincent and the Grenadines',\n",
    "    'Micronesia, Fed. Sts.': 'Micronesia, Federated States of',\n",
    "    'Virgin Islands (U.S.)':'Virgin Islands, U.S.',\n",
    "    'Yemen, Rep.':'Yemen',\n",
    "    'Macao SAR, China': 'Macao',\n",
    "    'St. Martin (French part)':'Saint Martin (French part)',\n",
    "    'Curacao':'Curaçao',\n",
    "    # You can add more mappings if necessary\n",
    "}\n",
    "average_deforestation['Country Name'] = average_deforestation['Country Name'].replace(country_mapping)"
   ]
  },
  {
   "cell_type": "code",
   "execution_count": 27,
   "metadata": {},
   "outputs": [
    {
     "data": {
      "text/plain": [
       "'Virgin Islands, U.S.'"
      ]
     },
     "execution_count": 27,
     "metadata": {},
     "output_type": "execute_result"
    }
   ],
   "source": [
    "# Lookup the country by ISO3 code\n",
    "country = pycountry.countries.get(alpha_3='VIR')\n",
    "\n",
    "# Display the country name\n",
    "country.name"
   ]
  },
  {
   "cell_type": "code",
   "execution_count": 28,
   "metadata": {},
   "outputs": [],
   "source": [
    "country_not_country = [\n",
    "    'Africa Eastern and Southern', \n",
    "    'Africa Western and Central',\n",
    "    'Central Europe and the Baltics',\n",
    "    'Upper middle income',\n",
    "    'East Asia & Pacific (IDA & IBRD countries)',\n",
    "    'East Asia & Pacific',\n",
    "    'East Asia & Pacific (excluding high income)',\n",
    "    'Euro area',\n",
    "    'Europe & Central Asia',\n",
    "    'Europe & Central Asia (IDA & IBRD countries)',\n",
    "    'Europe & Central Asia (excluding high income)',\n",
    "    'European Union',\n",
    "    'Fragile and conflict affected situations',\n",
    "    'Heavily indebted poor countries (HIPC)',\n",
    "    'Early-demographic dividend',\n",
    "    'High income',\n",
    "    'IBRD only',\n",
    "    'IDA & IBRD total',\n",
    "    'IDA blend',\n",
    "    'IDA only',\n",
    "    'IDA total',\n",
    "    'Late-demographic dividend',\n",
    "    'Latin America & Caribbean',\n",
    "    'Latin America & Caribbean (excluding high income)',\n",
    "    'Least developed countries: UN classification',\n",
    "    'Low & middle income',\n",
    "    'Lower middle income',\n",
    "    'Middle East & North Africa',\n",
    "    'Middle East & North Africa (IDA & IBRD countries)',\n",
    "    'Middle income',\n",
    "    'Low income',\n",
    "    'North America',\n",
    "    'OECD members',\n",
    "    'Other small states',\n",
    "    'Pacific island small states',\n",
    "    'Post-demographic dividend',\n",
    "    'Small states',\n",
    "    'South Asia',\n",
    "    'Sub-Saharan Africa (IDA & IBRD countries)',\n",
    "    'Sub-Saharan Africa (excluding high income)',\n",
    "    'Pre-demographic dividend',\n",
    "    'South Asia (IDA & IBRD)',\n",
    "    'Sub-Saharan Africa',\n",
    "    'West Bank and Gaza',\n",
    "    'Caribbean small states',\n",
    "    'Channel Islands',\n",
    "    'Arab World',\n",
    "    'Middle East & North Africa (excluding high income)',\n",
    "    'Latin America & the Caribbean (IDA & IBRD countries)',\n",
    "    'Eastern and Southern Africa',\n",
    "    'Western and Central Africa',\n",
    "    'Not classified',\n",
    "    'World'\n",
    "]\n",
    "\n",
    "average_deforestation = average_deforestation[~average_deforestation['Country Name'].isin(country_not_country)]"
   ]
  },
  {
   "cell_type": "code",
   "execution_count": 29,
   "metadata": {},
   "outputs": [
    {
     "name": "stderr",
     "output_type": "stream",
     "text": [
      "/var/folders/z1/yry6nb4j25bg_5n5f28yn9zw0000gn/T/ipykernel_11482/330967049.py:1: SettingWithCopyWarning: \n",
      "A value is trying to be set on a copy of a slice from a DataFrame.\n",
      "Try using .loc[row_indexer,col_indexer] = value instead\n",
      "\n",
      "See the caveats in the documentation: https://pandas.pydata.org/pandas-docs/stable/user_guide/indexing.html#returning-a-view-versus-a-copy\n",
      "  average_deforestation['iso3'] = average_deforestation['Country Name'].apply(get_iso3)\n"
     ]
    }
   ],
   "source": [
    "average_deforestation['iso3'] = average_deforestation['Country Name'].apply(get_iso3)"
   ]
  },
  {
   "cell_type": "code",
   "execution_count": 30,
   "metadata": {},
   "outputs": [
    {
     "data": {
      "text/html": [
       "<div>\n",
       "<style scoped>\n",
       "    .dataframe tbody tr th:only-of-type {\n",
       "        vertical-align: middle;\n",
       "    }\n",
       "\n",
       "    .dataframe tbody tr th {\n",
       "        vertical-align: top;\n",
       "    }\n",
       "\n",
       "    .dataframe thead th {\n",
       "        text-align: right;\n",
       "    }\n",
       "</style>\n",
       "<table border=\"1\" class=\"dataframe\">\n",
       "  <thead>\n",
       "    <tr style=\"text-align: right;\">\n",
       "      <th></th>\n",
       "      <th>Country Name</th>\n",
       "      <th>Values</th>\n",
       "      <th>iso3</th>\n",
       "    </tr>\n",
       "  </thead>\n",
       "  <tbody>\n",
       "  </tbody>\n",
       "</table>\n",
       "</div>"
      ],
      "text/plain": [
       "Empty DataFrame\n",
       "Columns: [Country Name, Values, iso3]\n",
       "Index: []"
      ]
     },
     "execution_count": 30,
     "metadata": {},
     "output_type": "execute_result"
    }
   ],
   "source": [
    "average_deforestation[average_deforestation['iso3'].isnull()]"
   ]
  },
  {
   "cell_type": "code",
   "execution_count": 31,
   "metadata": {},
   "outputs": [
    {
     "data": {
      "text/html": [
       "<div>\n",
       "<style scoped>\n",
       "    .dataframe tbody tr th:only-of-type {\n",
       "        vertical-align: middle;\n",
       "    }\n",
       "\n",
       "    .dataframe tbody tr th {\n",
       "        vertical-align: top;\n",
       "    }\n",
       "\n",
       "    .dataframe thead th {\n",
       "        text-align: right;\n",
       "    }\n",
       "</style>\n",
       "<table border=\"1\" class=\"dataframe\">\n",
       "  <thead>\n",
       "    <tr style=\"text-align: right;\">\n",
       "      <th></th>\n",
       "      <th>index</th>\n",
       "      <th>Country Name</th>\n",
       "      <th>Values</th>\n",
       "      <th>iso3</th>\n",
       "    </tr>\n",
       "  </thead>\n",
       "  <tbody>\n",
       "    <tr>\n",
       "      <th>0</th>\n",
       "      <td>0</td>\n",
       "      <td>Afghanistan</td>\n",
       "      <td>0.000000</td>\n",
       "      <td>AFG</td>\n",
       "    </tr>\n",
       "    <tr>\n",
       "      <th>1</th>\n",
       "      <td>3</td>\n",
       "      <td>Albania</td>\n",
       "      <td>0.032515</td>\n",
       "      <td>ALB</td>\n",
       "    </tr>\n",
       "    <tr>\n",
       "      <th>2</th>\n",
       "      <td>4</td>\n",
       "      <td>Algeria</td>\n",
       "      <td>0.007239</td>\n",
       "      <td>DZA</td>\n",
       "    </tr>\n",
       "    <tr>\n",
       "      <th>3</th>\n",
       "      <td>5</td>\n",
       "      <td>American Samoa</td>\n",
       "      <td>-0.143182</td>\n",
       "      <td>ASM</td>\n",
       "    </tr>\n",
       "    <tr>\n",
       "      <th>4</th>\n",
       "      <td>6</td>\n",
       "      <td>Andorra</td>\n",
       "      <td>0.000000</td>\n",
       "      <td>AND</td>\n",
       "    </tr>\n",
       "    <tr>\n",
       "      <th>...</th>\n",
       "      <td>...</td>\n",
       "      <td>...</td>\n",
       "      <td>...</td>\n",
       "      <td>...</td>\n",
       "    </tr>\n",
       "    <tr>\n",
       "      <th>197</th>\n",
       "      <td>245</td>\n",
       "      <td>Viet Nam</td>\n",
       "      <td>0.412612</td>\n",
       "      <td>VNM</td>\n",
       "    </tr>\n",
       "    <tr>\n",
       "      <th>198</th>\n",
       "      <td>246</td>\n",
       "      <td>Virgin Islands, U.S.</td>\n",
       "      <td>-0.053247</td>\n",
       "      <td>VIR</td>\n",
       "    </tr>\n",
       "    <tr>\n",
       "      <th>199</th>\n",
       "      <td>249</td>\n",
       "      <td>Yemen</td>\n",
       "      <td>0.000000</td>\n",
       "      <td>YEM</td>\n",
       "    </tr>\n",
       "    <tr>\n",
       "      <th>200</th>\n",
       "      <td>250</td>\n",
       "      <td>Zambia</td>\n",
       "      <td>-0.148471</td>\n",
       "      <td>ZMB</td>\n",
       "    </tr>\n",
       "    <tr>\n",
       "      <th>201</th>\n",
       "      <td>251</td>\n",
       "      <td>Zimbabwe</td>\n",
       "      <td>-0.113677</td>\n",
       "      <td>ZWE</td>\n",
       "    </tr>\n",
       "  </tbody>\n",
       "</table>\n",
       "<p>202 rows × 4 columns</p>\n",
       "</div>"
      ],
      "text/plain": [
       "     index          Country Name    Values iso3\n",
       "0        0           Afghanistan  0.000000  AFG\n",
       "1        3               Albania  0.032515  ALB\n",
       "2        4               Algeria  0.007239  DZA\n",
       "3        5        American Samoa -0.143182  ASM\n",
       "4        6               Andorra  0.000000  AND\n",
       "..     ...                   ...       ...  ...\n",
       "197    245              Viet Nam  0.412612  VNM\n",
       "198    246  Virgin Islands, U.S. -0.053247  VIR\n",
       "199    249                 Yemen  0.000000  YEM\n",
       "200    250                Zambia -0.148471  ZMB\n",
       "201    251              Zimbabwe -0.113677  ZWE\n",
       "\n",
       "[202 rows x 4 columns]"
      ]
     },
     "execution_count": 31,
     "metadata": {},
     "output_type": "execute_result"
    }
   ],
   "source": [
    "average_deforestation.reset_index()"
   ]
  },
  {
   "cell_type": "code",
   "execution_count": 32,
   "metadata": {},
   "outputs": [
    {
     "data": {
      "image/png": "[encoded data removed]",
      "text/plain": [
       "<Figure size 1000x600 with 1 Axes>"
      ]
     },
     "metadata": {},
     "output_type": "display_data"
    }
   ],
   "source": [
    "plt.figure(figsize=(10,6))\n",
    "sns.histplot(average_deforestation, bins=20, kde=False, edgecolor='black')\n",
    "\n",
    "# Add labels and title\n",
    "plt.xlabel('Values')\n",
    "plt.ylabel('Frequency')\n",
    "plt.title('Empirical Distribution of Average Deforestation rate for countries')\n",
    "\n",
    "# Show the plot\n",
    "plt.show()"
   ]
  },
  {
   "cell_type": "code",
   "execution_count": 33,
   "metadata": {
    "scrolled": true
   },
   "outputs": [
    {
     "name": "stdout",
     "output_type": "stream",
     "text": [
      "-1.341670682283304\n"
     ]
    }
   ],
   "source": [
    "print(average_deforestation['Values'].skew())"
   ]
  },
  {
   "cell_type": "markdown",
   "metadata": {},
   "source": [
    "### **Research Question**: What is the effect of agricultural land expansion rate of corn fields on deforestation rate of countries by controlling for land size of countries?     "
   ]
  },
  {
   "cell_type": "code",
   "execution_count": 34,
   "metadata": {},
   "outputs": [
    {
     "data": {
      "text/html": [
       "<div>\n",
       "<style scoped>\n",
       "    .dataframe tbody tr th:only-of-type {\n",
       "        vertical-align: middle;\n",
       "    }\n",
       "\n",
       "    .dataframe tbody tr th {\n",
       "        vertical-align: top;\n",
       "    }\n",
       "\n",
       "    .dataframe thead th {\n",
       "        text-align: right;\n",
       "    }\n",
       "</style>\n",
       "<table border=\"1\" class=\"dataframe\">\n",
       "  <thead>\n",
       "    <tr style=\"text-align: right;\">\n",
       "      <th></th>\n",
       "      <th>Domain Code</th>\n",
       "      <th>Domain</th>\n",
       "      <th>Area Code (M49)</th>\n",
       "      <th>Area</th>\n",
       "      <th>Element Code</th>\n",
       "      <th>Element</th>\n",
       "      <th>Item Code (CPC)</th>\n",
       "      <th>Item</th>\n",
       "      <th>Year Code</th>\n",
       "      <th>Year</th>\n",
       "      <th>Unit</th>\n",
       "      <th>Value</th>\n",
       "      <th>Flag</th>\n",
       "      <th>Flag Description</th>\n",
       "      <th>Note</th>\n",
       "    </tr>\n",
       "  </thead>\n",
       "  <tbody>\n",
       "    <tr>\n",
       "      <th>0</th>\n",
       "      <td>QCL</td>\n",
       "      <td>Crops and livestock products</td>\n",
       "      <td>4</td>\n",
       "      <td>Afghanistan</td>\n",
       "      <td>5312</td>\n",
       "      <td>Area harvested</td>\n",
       "      <td>112</td>\n",
       "      <td>Maize (corn)</td>\n",
       "      <td>1961</td>\n",
       "      <td>1961</td>\n",
       "      <td>ha</td>\n",
       "      <td>500000</td>\n",
       "      <td>A</td>\n",
       "      <td>Official figure</td>\n",
       "      <td>NaN</td>\n",
       "    </tr>\n",
       "    <tr>\n",
       "      <th>1</th>\n",
       "      <td>QCL</td>\n",
       "      <td>Crops and livestock products</td>\n",
       "      <td>4</td>\n",
       "      <td>Afghanistan</td>\n",
       "      <td>5312</td>\n",
       "      <td>Area harvested</td>\n",
       "      <td>112</td>\n",
       "      <td>Maize (corn)</td>\n",
       "      <td>1962</td>\n",
       "      <td>1962</td>\n",
       "      <td>ha</td>\n",
       "      <td>500000</td>\n",
       "      <td>A</td>\n",
       "      <td>Official figure</td>\n",
       "      <td>NaN</td>\n",
       "    </tr>\n",
       "    <tr>\n",
       "      <th>2</th>\n",
       "      <td>QCL</td>\n",
       "      <td>Crops and livestock products</td>\n",
       "      <td>4</td>\n",
       "      <td>Afghanistan</td>\n",
       "      <td>5312</td>\n",
       "      <td>Area harvested</td>\n",
       "      <td>112</td>\n",
       "      <td>Maize (corn)</td>\n",
       "      <td>1963</td>\n",
       "      <td>1963</td>\n",
       "      <td>ha</td>\n",
       "      <td>500000</td>\n",
       "      <td>A</td>\n",
       "      <td>Official figure</td>\n",
       "      <td>NaN</td>\n",
       "    </tr>\n",
       "    <tr>\n",
       "      <th>3</th>\n",
       "      <td>QCL</td>\n",
       "      <td>Crops and livestock products</td>\n",
       "      <td>4</td>\n",
       "      <td>Afghanistan</td>\n",
       "      <td>5312</td>\n",
       "      <td>Area harvested</td>\n",
       "      <td>112</td>\n",
       "      <td>Maize (corn)</td>\n",
       "      <td>1964</td>\n",
       "      <td>1964</td>\n",
       "      <td>ha</td>\n",
       "      <td>505000</td>\n",
       "      <td>A</td>\n",
       "      <td>Official figure</td>\n",
       "      <td>NaN</td>\n",
       "    </tr>\n",
       "    <tr>\n",
       "      <th>4</th>\n",
       "      <td>QCL</td>\n",
       "      <td>Crops and livestock products</td>\n",
       "      <td>4</td>\n",
       "      <td>Afghanistan</td>\n",
       "      <td>5312</td>\n",
       "      <td>Area harvested</td>\n",
       "      <td>112</td>\n",
       "      <td>Maize (corn)</td>\n",
       "      <td>1965</td>\n",
       "      <td>1965</td>\n",
       "      <td>ha</td>\n",
       "      <td>500000</td>\n",
       "      <td>A</td>\n",
       "      <td>Official figure</td>\n",
       "      <td>NaN</td>\n",
       "    </tr>\n",
       "  </tbody>\n",
       "</table>\n",
       "</div>"
      ],
      "text/plain": [
       "  Domain Code                        Domain  Area Code (M49)         Area  \\\n",
       "0         QCL  Crops and livestock products                4  Afghanistan   \n",
       "1         QCL  Crops and livestock products                4  Afghanistan   \n",
       "2         QCL  Crops and livestock products                4  Afghanistan   \n",
       "3         QCL  Crops and livestock products                4  Afghanistan   \n",
       "4         QCL  Crops and livestock products                4  Afghanistan   \n",
       "\n",
       "   Element Code         Element  Item Code (CPC)          Item  Year Code  \\\n",
       "0          5312  Area harvested              112  Maize (corn)       1961   \n",
       "1          5312  Area harvested              112  Maize (corn)       1962   \n",
       "2          5312  Area harvested              112  Maize (corn)       1963   \n",
       "3          5312  Area harvested              112  Maize (corn)       1964   \n",
       "4          5312  Area harvested              112  Maize (corn)       1965   \n",
       "\n",
       "   Year Unit   Value Flag Flag Description Note  \n",
       "0  1961   ha  500000    A  Official figure  NaN  \n",
       "1  1962   ha  500000    A  Official figure  NaN  \n",
       "2  1963   ha  500000    A  Official figure  NaN  \n",
       "3  1964   ha  505000    A  Official figure  NaN  \n",
       "4  1965   ha  500000    A  Official figure  NaN  "
      ]
     },
     "execution_count": 34,
     "metadata": {},
     "output_type": "execute_result"
    }
   ],
   "source": [
    "corn_field_data = pd.read_csv('./Data/FAOSTAT_data_en_10-2-2024.csv')\n",
    "corn_field_data.head()"
   ]
  },
  {
   "cell_type": "code",
   "execution_count": 35,
   "metadata": {},
   "outputs": [],
   "source": [
    "#Filtering the data between 2000 and 2021\n",
    "corn_field_data = corn_field_data[(corn_field_data['Year'] >= 2000) & (corn_field_data['Year'] <= 2021)]"
   ]
  },
  {
   "cell_type": "code",
   "execution_count": 36,
   "metadata": {},
   "outputs": [
    {
     "data": {
      "text/plain": [
       "(3669, 15)"
      ]
     },
     "execution_count": 36,
     "metadata": {},
     "output_type": "execute_result"
    }
   ],
   "source": [
    "#Shape of the data\n",
    "corn_field_data.shape"
   ]
  },
  {
   "cell_type": "code",
   "execution_count": 37,
   "metadata": {},
   "outputs": [
    {
     "data": {
      "text/plain": [
       "array([nan, 'Unofficial figure'], dtype=object)"
      ]
     },
     "execution_count": 37,
     "metadata": {},
     "output_type": "execute_result"
    }
   ],
   "source": [
    "corn_field_data[\"Note\"].unique()"
   ]
  },
  {
   "cell_type": "code",
   "execution_count": 38,
   "metadata": {},
   "outputs": [
    {
     "data": {
      "text/plain": [
       "array(['Official figure', 'Estimated value', 'Imputed value',\n",
       "       'Figure from international organizations',\n",
       "       'Missing value (data cannot exist, not applicable)'], dtype=object)"
      ]
     },
     "execution_count": 38,
     "metadata": {},
     "output_type": "execute_result"
    }
   ],
   "source": [
    "corn_field_data[\"Flag Description\"].unique()"
   ]
  },
  {
   "cell_type": "code",
   "execution_count": 39,
   "metadata": {},
   "outputs": [],
   "source": [
    "corn_field_data = corn_field_data[(corn_field_data[\"Flag Description\"] == \"Official figure\") & (corn_field_data[\"Note\"] != \"Unofficial figure\")]"
   ]
  },
  {
   "cell_type": "code",
   "execution_count": 40,
   "metadata": {},
   "outputs": [
    {
     "name": "stdout",
     "output_type": "stream",
     "text": [
      "Number of countries in the corn field dataset:  162\n"
     ]
    }
   ],
   "source": [
    "#Unique country amount: Does the number of countires in this data match with deforestation data?\n",
    "print(\"Number of countries in the corn field dataset: \",len(corn_field_data[\"Area\"].unique()))"
   ]
  },
  {
   "cell_type": "code",
   "execution_count": 41,
   "metadata": {},
   "outputs": [
    {
     "name": "stdout",
     "output_type": "stream",
     "text": [
      "True\n",
      "Crops and livestock products\n",
      "Area harvested\n",
      "Maize (corn)\n"
     ]
    },
    {
     "data": {
      "text/html": [
       "<div>\n",
       "<style scoped>\n",
       "    .dataframe tbody tr th:only-of-type {\n",
       "        vertical-align: middle;\n",
       "    }\n",
       "\n",
       "    .dataframe tbody tr th {\n",
       "        vertical-align: top;\n",
       "    }\n",
       "\n",
       "    .dataframe thead th {\n",
       "        text-align: right;\n",
       "    }\n",
       "</style>\n",
       "<table border=\"1\" class=\"dataframe\">\n",
       "  <thead>\n",
       "    <tr style=\"text-align: right;\">\n",
       "      <th></th>\n",
       "      <th>Area</th>\n",
       "      <th>Value</th>\n",
       "    </tr>\n",
       "  </thead>\n",
       "  <tbody>\n",
       "    <tr>\n",
       "      <th>39</th>\n",
       "      <td>Afghanistan</td>\n",
       "      <td>96000</td>\n",
       "    </tr>\n",
       "    <tr>\n",
       "      <th>40</th>\n",
       "      <td>Afghanistan</td>\n",
       "      <td>80000</td>\n",
       "    </tr>\n",
       "    <tr>\n",
       "      <th>41</th>\n",
       "      <td>Afghanistan</td>\n",
       "      <td>100000</td>\n",
       "    </tr>\n",
       "    <tr>\n",
       "      <th>42</th>\n",
       "      <td>Afghanistan</td>\n",
       "      <td>250000</td>\n",
       "    </tr>\n",
       "    <tr>\n",
       "      <th>43</th>\n",
       "      <td>Afghanistan</td>\n",
       "      <td>250000</td>\n",
       "    </tr>\n",
       "    <tr>\n",
       "      <th>44</th>\n",
       "      <td>Afghanistan</td>\n",
       "      <td>261000</td>\n",
       "    </tr>\n",
       "    <tr>\n",
       "      <th>45</th>\n",
       "      <td>Afghanistan</td>\n",
       "      <td>137000</td>\n",
       "    </tr>\n",
       "    <tr>\n",
       "      <th>46</th>\n",
       "      <td>Afghanistan</td>\n",
       "      <td>137000</td>\n",
       "    </tr>\n",
       "    <tr>\n",
       "      <th>47</th>\n",
       "      <td>Afghanistan</td>\n",
       "      <td>137000</td>\n",
       "    </tr>\n",
       "    <tr>\n",
       "      <th>48</th>\n",
       "      <td>Afghanistan</td>\n",
       "      <td>140000</td>\n",
       "    </tr>\n",
       "    <tr>\n",
       "      <th>49</th>\n",
       "      <td>Afghanistan</td>\n",
       "      <td>183000</td>\n",
       "    </tr>\n",
       "    <tr>\n",
       "      <th>50</th>\n",
       "      <td>Afghanistan</td>\n",
       "      <td>183000</td>\n",
       "    </tr>\n",
       "    <tr>\n",
       "      <th>51</th>\n",
       "      <td>Afghanistan</td>\n",
       "      <td>141000</td>\n",
       "    </tr>\n",
       "    <tr>\n",
       "      <th>52</th>\n",
       "      <td>Afghanistan</td>\n",
       "      <td>142000</td>\n",
       "    </tr>\n",
       "    <tr>\n",
       "      <th>53</th>\n",
       "      <td>Afghanistan</td>\n",
       "      <td>127000</td>\n",
       "    </tr>\n",
       "    <tr>\n",
       "      <th>54</th>\n",
       "      <td>Afghanistan</td>\n",
       "      <td>147273</td>\n",
       "    </tr>\n",
       "    <tr>\n",
       "      <th>55</th>\n",
       "      <td>Afghanistan</td>\n",
       "      <td>151900</td>\n",
       "    </tr>\n",
       "    <tr>\n",
       "      <th>56</th>\n",
       "      <td>Afghanistan</td>\n",
       "      <td>134225</td>\n",
       "    </tr>\n",
       "    <tr>\n",
       "      <th>57</th>\n",
       "      <td>Afghanistan</td>\n",
       "      <td>72433</td>\n",
       "    </tr>\n",
       "    <tr>\n",
       "      <th>58</th>\n",
       "      <td>Afghanistan</td>\n",
       "      <td>94910</td>\n",
       "    </tr>\n",
       "    <tr>\n",
       "      <th>59</th>\n",
       "      <td>Afghanistan</td>\n",
       "      <td>140498</td>\n",
       "    </tr>\n",
       "    <tr>\n",
       "      <th>60</th>\n",
       "      <td>Afghanistan</td>\n",
       "      <td>139080</td>\n",
       "    </tr>\n",
       "    <tr>\n",
       "      <th>101</th>\n",
       "      <td>Albania</td>\n",
       "      <td>53000</td>\n",
       "    </tr>\n",
       "    <tr>\n",
       "      <th>102</th>\n",
       "      <td>Albania</td>\n",
       "      <td>52000</td>\n",
       "    </tr>\n",
       "    <tr>\n",
       "      <th>103</th>\n",
       "      <td>Albania</td>\n",
       "      <td>50000</td>\n",
       "    </tr>\n",
       "    <tr>\n",
       "      <th>104</th>\n",
       "      <td>Albania</td>\n",
       "      <td>48336</td>\n",
       "    </tr>\n",
       "    <tr>\n",
       "      <th>105</th>\n",
       "      <td>Albania</td>\n",
       "      <td>46800</td>\n",
       "    </tr>\n",
       "    <tr>\n",
       "      <th>106</th>\n",
       "      <td>Albania</td>\n",
       "      <td>48391</td>\n",
       "    </tr>\n",
       "    <tr>\n",
       "      <th>107</th>\n",
       "      <td>Albania</td>\n",
       "      <td>48971</td>\n",
       "    </tr>\n",
       "    <tr>\n",
       "      <th>108</th>\n",
       "      <td>Albania</td>\n",
       "      <td>46200</td>\n",
       "    </tr>\n",
       "  </tbody>\n",
       "</table>\n",
       "</div>"
      ],
      "text/plain": [
       "            Area   Value\n",
       "39   Afghanistan   96000\n",
       "40   Afghanistan   80000\n",
       "41   Afghanistan  100000\n",
       "42   Afghanistan  250000\n",
       "43   Afghanistan  250000\n",
       "44   Afghanistan  261000\n",
       "45   Afghanistan  137000\n",
       "46   Afghanistan  137000\n",
       "47   Afghanistan  137000\n",
       "48   Afghanistan  140000\n",
       "49   Afghanistan  183000\n",
       "50   Afghanistan  183000\n",
       "51   Afghanistan  141000\n",
       "52   Afghanistan  142000\n",
       "53   Afghanistan  127000\n",
       "54   Afghanistan  147273\n",
       "55   Afghanistan  151900\n",
       "56   Afghanistan  134225\n",
       "57   Afghanistan   72433\n",
       "58   Afghanistan   94910\n",
       "59   Afghanistan  140498\n",
       "60   Afghanistan  139080\n",
       "101      Albania   53000\n",
       "102      Albania   52000\n",
       "103      Albania   50000\n",
       "104      Albania   48336\n",
       "105      Albania   46800\n",
       "106      Albania   48391\n",
       "107      Albania   48971\n",
       "108      Albania   46200"
      ]
     },
     "execution_count": 41,
     "metadata": {},
     "output_type": "execute_result"
    }
   ],
   "source": [
    "#The two columns are the same\n",
    "print(len(corn_field_data[\"Year Code\"] == corn_field_data[\"Year\"]) == len(corn_field_data))\n",
    "print(corn_field_data[\"Domain\"].unique()[0])\n",
    "print(corn_field_data[\"Element\"].unique()[0])\n",
    "print(corn_field_data[\"Item\"].unique()[0])\n",
    "\n",
    "corn_field_data = corn_field_data[[\"Area\",\"Value\"]] #extracting the necessary columns\n",
    "corn_field_data.head(30)"
   ]
  },
  {
   "cell_type": "code",
   "execution_count": 42,
   "metadata": {},
   "outputs": [
    {
     "data": {
      "text/html": [
       "<div>\n",
       "<style scoped>\n",
       "    .dataframe tbody tr th:only-of-type {\n",
       "        vertical-align: middle;\n",
       "    }\n",
       "\n",
       "    .dataframe tbody tr th {\n",
       "        vertical-align: top;\n",
       "    }\n",
       "\n",
       "    .dataframe thead th {\n",
       "        text-align: right;\n",
       "    }\n",
       "</style>\n",
       "<table border=\"1\" class=\"dataframe\">\n",
       "  <thead>\n",
       "    <tr style=\"text-align: right;\">\n",
       "      <th></th>\n",
       "      <th>Area</th>\n",
       "      <th>Value</th>\n",
       "    </tr>\n",
       "  </thead>\n",
       "  <tbody>\n",
       "    <tr>\n",
       "      <th>39</th>\n",
       "      <td>Afghanistan</td>\n",
       "      <td>96000</td>\n",
       "    </tr>\n",
       "    <tr>\n",
       "      <th>40</th>\n",
       "      <td>Afghanistan</td>\n",
       "      <td>80000</td>\n",
       "    </tr>\n",
       "    <tr>\n",
       "      <th>41</th>\n",
       "      <td>Afghanistan</td>\n",
       "      <td>100000</td>\n",
       "    </tr>\n",
       "    <tr>\n",
       "      <th>42</th>\n",
       "      <td>Afghanistan</td>\n",
       "      <td>250000</td>\n",
       "    </tr>\n",
       "    <tr>\n",
       "      <th>43</th>\n",
       "      <td>Afghanistan</td>\n",
       "      <td>250000</td>\n",
       "    </tr>\n",
       "  </tbody>\n",
       "</table>\n",
       "</div>"
      ],
      "text/plain": [
       "           Area   Value\n",
       "39  Afghanistan   96000\n",
       "40  Afghanistan   80000\n",
       "41  Afghanistan  100000\n",
       "42  Afghanistan  250000\n",
       "43  Afghanistan  250000"
      ]
     },
     "execution_count": 42,
     "metadata": {},
     "output_type": "execute_result"
    }
   ],
   "source": [
    "areas_to_exclude = corn_field_data[corn_field_data[\"Value\"] == 0][\"Area\"].unique() #These countries include 0 values\n",
    "#Exclude these countries completely\n",
    "corn_field_data = corn_field_data[~corn_field_data['Area'].isin(areas_to_exclude)]\n",
    "corn_field_data.head()"
   ]
  },
  {
   "cell_type": "code",
   "execution_count": 43,
   "metadata": {},
   "outputs": [
    {
     "data": {
      "text/plain": [
       "Area     object\n",
       "Value     int64\n",
       "dtype: object"
      ]
     },
     "execution_count": 43,
     "metadata": {},
     "output_type": "execute_result"
    }
   ],
   "source": [
    "corn_field_data.dtypes #No need to convert the year column"
   ]
  },
  {
   "cell_type": "code",
   "execution_count": 44,
   "metadata": {},
   "outputs": [
    {
     "data": {
      "text/plain": [
       "Area     0\n",
       "Value    0\n",
       "dtype: int64"
      ]
     },
     "execution_count": 44,
     "metadata": {},
     "output_type": "execute_result"
    }
   ],
   "source": [
    "#Missing values\n",
    "corn_field_data.isna().sum()"
   ]
  },
  {
   "cell_type": "code",
   "execution_count": 45,
   "metadata": {},
   "outputs": [],
   "source": [
    "#Calculating the corn field expansion rate\n",
    "corn_field_exp_rt= corn_field_data.groupby(\"Area\")[\"Value\"].apply(lambda x: (x.pct_change()*100).fillna(0))\n",
    "corn_field_exp_rt_df = pd.DataFrame(corn_field_exp_rt).reset_index().drop(\"level_1\", axis = 1)\n",
    "\n",
    "#Dropping na values due to percentange change calculation\n",
    "corn_field_exp_rt_df = corn_field_exp_rt_df.dropna()\n"
   ]
  },
  {
   "cell_type": "code",
   "execution_count": 46,
   "metadata": {},
   "outputs": [
    {
     "data": {
      "text/plain": [
       "Index(['Antigua and Barbuda', 'Bahamas', 'Barbados', 'Bhutan',\n",
       "       'Bosnia and Herzegovina', 'Botswana', 'Burundi', 'Cabo Verde',\n",
       "       'Cambodia', 'Cameroon', 'Central African Republic', 'Chad', 'Congo',\n",
       "       'Côte d'Ivoire', 'Democratic People's Republic of Korea',\n",
       "       'Democratic Republic of the Congo', 'Denmark', 'Eritrea', 'Eswatini',\n",
       "       'Fiji', 'French Guiana', 'Gambia', 'Ghana', 'Guatemala',\n",
       "       'Guinea-Bissau', 'Haiti', 'Honduras', 'Indonesia',\n",
       "       'Iran (Islamic Republic of)', 'Iraq', 'Israel', 'Japan', 'Kuwait',\n",
       "       'Lebanon', 'Lesotho', 'Libya', 'Lithuania', 'Madagascar', 'Malaysia',\n",
       "       'Maldives', 'Mauritania', 'Montenegro', 'Mozambique', 'Namibia',\n",
       "       'New Caledonia', 'Nigeria', 'Oman', 'Papua New Guinea', 'Puerto Rico',\n",
       "       'Rwanda', 'Saint Vincent and the Grenadines', 'Saudi Arabia', 'Serbia',\n",
       "       'Serbia and Montenegro', 'Sierra Leone', 'South Sudan', 'Sri Lanka',\n",
       "       'Sudan', 'Sudan (former)', 'Sweden', 'Tajikistan', 'Thailand',\n",
       "       'Timor-Leste', 'Turkmenistan', 'Uganda', 'United Arab Emirates',\n",
       "       'United Republic of Tanzania', 'Venezuela (Bolivarian Republic of)',\n",
       "       'Zimbabwe'],\n",
       "      dtype='object', name='Area')"
      ]
     },
     "execution_count": 46,
     "metadata": {},
     "output_type": "execute_result"
    }
   ],
   "source": [
    "value_counts_per_area = corn_field_exp_rt_df.groupby(\"Area\")[\"Value\"].count()\n",
    "\n",
    "# Filter to get only the areas where the count is not equal to 22\n",
    "areas_not_equal_to_22 = value_counts_per_area[value_counts_per_area != 22].index\n",
    "areas_not_equal_to_22"
   ]
  },
  {
   "cell_type": "code",
   "execution_count": 47,
   "metadata": {},
   "outputs": [],
   "source": [
    "corn_field_exp_rt_df = corn_field_exp_rt_df[~corn_field_exp_rt_df[\"Area\"].isin(areas_not_equal_to_22)]"
   ]
  },
  {
   "cell_type": "code",
   "execution_count": 48,
   "metadata": {},
   "outputs": [
    {
     "data": {
      "image/png": "[encoded data removed]",
      "text/plain": [
       "<Figure size 1000x600 with 1 Axes>"
      ]
     },
     "metadata": {},
     "output_type": "display_data"
    }
   ],
   "source": [
    "#Calcualtin gthe max-min percentage changes in corn field expansion rate\n",
    "max_min_values = corn_field_exp_rt_df.groupby(\"Area\")[\"Value\"].agg([max, min])\n",
    "\n",
    "\n",
    "# Plotting the max and min values for each country\n",
    "plt.figure(figsize=(10, 6))\n",
    "\n",
    "# Plot the max values\n",
    "plt.bar(max_min_values.index, max_min_values['max'], label='Max Values', alpha=0.6)\n",
    "\n",
    "# Plot the min values\n",
    "plt.bar(max_min_values.index, max_min_values['min'], label='Min Values', alpha=0.6)\n",
    "\n",
    "plt.xticks(fontsize=0.4)\n",
    "# Add labels and title\n",
    "plt.xlabel('Country')\n",
    "plt.ylabel('Value (%)')\n",
    "plt.title('Max Percentage Change and Min Percentage Change Values for Each Country')\n",
    "plt.xticks(rotation=90)\n",
    "plt.axhline(y=500, color='red', linestyle='--')\n",
    "plt.legend()\n",
    "\n",
    "# Show the plot\n",
    "plt.tight_layout()\n",
    "plt.show()"
   ]
  },
  {
   "cell_type": "code",
   "execution_count": 49,
   "metadata": {},
   "outputs": [],
   "source": [
    "#Excluding the outliers (Excluding %500 times expansion)\n",
    "#outlier_countries = max_min_values[(max_min_values[\"max\"] > 500)].index\n",
    "#outlier_countries"
   ]
  },
  {
   "cell_type": "code",
   "execution_count": 50,
   "metadata": {},
   "outputs": [
    {
     "data": {
      "text/html": [
       "<div>\n",
       "<style scoped>\n",
       "    .dataframe tbody tr th:only-of-type {\n",
       "        vertical-align: middle;\n",
       "    }\n",
       "\n",
       "    .dataframe tbody tr th {\n",
       "        vertical-align: top;\n",
       "    }\n",
       "\n",
       "    .dataframe thead th {\n",
       "        text-align: right;\n",
       "    }\n",
       "</style>\n",
       "<table border=\"1\" class=\"dataframe\">\n",
       "  <thead>\n",
       "    <tr style=\"text-align: right;\">\n",
       "      <th></th>\n",
       "      <th>Area</th>\n",
       "      <th>Value</th>\n",
       "    </tr>\n",
       "  </thead>\n",
       "  <tbody>\n",
       "    <tr>\n",
       "      <th>0</th>\n",
       "      <td>Afghanistan</td>\n",
       "      <td>7.036845</td>\n",
       "    </tr>\n",
       "    <tr>\n",
       "      <th>1</th>\n",
       "      <td>Albania</td>\n",
       "      <td>0.604709</td>\n",
       "    </tr>\n",
       "    <tr>\n",
       "      <th>2</th>\n",
       "      <td>Algeria</td>\n",
       "      <td>43.622156</td>\n",
       "    </tr>\n",
       "    <tr>\n",
       "      <th>3</th>\n",
       "      <td>Angola</td>\n",
       "      <td>13.153350</td>\n",
       "    </tr>\n",
       "    <tr>\n",
       "      <th>4</th>\n",
       "      <td>Argentina</td>\n",
       "      <td>5.647775</td>\n",
       "    </tr>\n",
       "    <tr>\n",
       "      <th>...</th>\n",
       "      <td>...</td>\n",
       "      <td>...</td>\n",
       "    </tr>\n",
       "    <tr>\n",
       "      <th>83</th>\n",
       "      <td>Uruguay</td>\n",
       "      <td>8.289270</td>\n",
       "    </tr>\n",
       "    <tr>\n",
       "      <th>84</th>\n",
       "      <td>Uzbekistan</td>\n",
       "      <td>2.320314</td>\n",
       "    </tr>\n",
       "    <tr>\n",
       "      <th>85</th>\n",
       "      <td>Viet Nam</td>\n",
       "      <td>1.427449</td>\n",
       "    </tr>\n",
       "    <tr>\n",
       "      <th>86</th>\n",
       "      <td>Yemen</td>\n",
       "      <td>1.811745</td>\n",
       "    </tr>\n",
       "    <tr>\n",
       "      <th>87</th>\n",
       "      <td>Zambia</td>\n",
       "      <td>8.250207</td>\n",
       "    </tr>\n",
       "  </tbody>\n",
       "</table>\n",
       "<p>88 rows × 2 columns</p>\n",
       "</div>"
      ],
      "text/plain": [
       "           Area      Value\n",
       "0   Afghanistan   7.036845\n",
       "1       Albania   0.604709\n",
       "2       Algeria  43.622156\n",
       "3        Angola  13.153350\n",
       "4     Argentina   5.647775\n",
       "..          ...        ...\n",
       "83      Uruguay   8.289270\n",
       "84   Uzbekistan   2.320314\n",
       "85     Viet Nam   1.427449\n",
       "86        Yemen   1.811745\n",
       "87       Zambia   8.250207\n",
       "\n",
       "[88 rows x 2 columns]"
      ]
     },
     "execution_count": 50,
     "metadata": {},
     "output_type": "execute_result"
    }
   ],
   "source": [
    "#Calculating the average corn field expansion rate\n",
    "avg_cornf_field_exp = corn_field_exp_rt_df.groupby(\"Area\")[\"Value\"].mean().reset_index()\n",
    "#Excluding outliers\n",
    "#cleaned_cornf_field_exp = avg_cornf_field_exp[~avg_cornf_field_exp.index.isin(outlier_countries)]\n",
    "cleaned_cornf_field_exp = avg_cornf_field_exp\n",
    "cleaned_cornf_field_exp"
   ]
  },
  {
   "cell_type": "code",
   "execution_count": 51,
   "metadata": {},
   "outputs": [],
   "source": [
    "cleaned_cornf_field_exp['iso3'] = cleaned_cornf_field_exp[\"Area\"].apply(get_iso3)"
   ]
  },
  {
   "cell_type": "code",
   "execution_count": 52,
   "metadata": {},
   "outputs": [
    {
     "data": {
      "text/html": [
       "<div>\n",
       "<style scoped>\n",
       "    .dataframe tbody tr th:only-of-type {\n",
       "        vertical-align: middle;\n",
       "    }\n",
       "\n",
       "    .dataframe tbody tr th {\n",
       "        vertical-align: top;\n",
       "    }\n",
       "\n",
       "    .dataframe thead th {\n",
       "        text-align: right;\n",
       "    }\n",
       "</style>\n",
       "<table border=\"1\" class=\"dataframe\">\n",
       "  <thead>\n",
       "    <tr style=\"text-align: right;\">\n",
       "      <th></th>\n",
       "      <th>Area</th>\n",
       "      <th>Value</th>\n",
       "      <th>iso3</th>\n",
       "    </tr>\n",
       "  </thead>\n",
       "  <tbody>\n",
       "    <tr>\n",
       "      <th>14</th>\n",
       "      <td>Bolivia (Plurinational State of)</td>\n",
       "      <td>1.620651</td>\n",
       "      <td>None</td>\n",
       "    </tr>\n",
       "    <tr>\n",
       "      <th>21</th>\n",
       "      <td>China, Taiwan Province of</td>\n",
       "      <td>0.741598</td>\n",
       "      <td>None</td>\n",
       "    </tr>\n",
       "    <tr>\n",
       "      <th>22</th>\n",
       "      <td>China, mainland</td>\n",
       "      <td>3.021213</td>\n",
       "      <td>None</td>\n",
       "    </tr>\n",
       "    <tr>\n",
       "      <th>54</th>\n",
       "      <td>Netherlands (Kingdom of the)</td>\n",
       "      <td>0.841699</td>\n",
       "      <td>None</td>\n",
       "    </tr>\n",
       "    <tr>\n",
       "      <th>67</th>\n",
       "      <td>Republic of Korea</td>\n",
       "      <td>0.566273</td>\n",
       "      <td>None</td>\n",
       "    </tr>\n",
       "  </tbody>\n",
       "</table>\n",
       "</div>"
      ],
      "text/plain": [
       "                                Area     Value  iso3\n",
       "14  Bolivia (Plurinational State of)  1.620651  None\n",
       "21         China, Taiwan Province of  0.741598  None\n",
       "22                   China, mainland  3.021213  None\n",
       "54      Netherlands (Kingdom of the)  0.841699  None\n",
       "67                 Republic of Korea  0.566273  None"
      ]
     },
     "execution_count": 52,
     "metadata": {},
     "output_type": "execute_result"
    }
   ],
   "source": [
    "cleaned_cornf_field_exp[cleaned_cornf_field_exp['iso3'].isnull()]"
   ]
  },
  {
   "cell_type": "code",
   "execution_count": 53,
   "metadata": {},
   "outputs": [],
   "source": [
    "# Reverting to previous data before dropping and then manually resolving country mismatches\n",
    "country_mapping_corn = {\n",
    "    'Bolivia (Plurinational State of)':'Bolivia, Plurinational State of',\n",
    "    'China, Taiwan Province of':'Taiwan, Province of China',\n",
    "    'China, mainland':'China',\n",
    "    'Democratic Republic of the Congo':'Congo, The Democratic Republic of the',\n",
    "    'Iran (Islamic Republic of)':'Iran, Islamic Republic of',\n",
    "    'Micronesia (Federated States of)': 'Micronesia, Federated States of',\n",
    "    'Netherlands (Kingdom of the)':'Netherlands',\n",
    "    'Republic of Korea': 'Korea, Republic of',\n",
    "    'Venezuela (Bolivarian Republic of)':'Venezuela, Bolivarian Republic of',\n",
    "    # You can add more mappings if necessary\n",
    "}\n",
    "\n",
    "cleaned_cornf_field_exp['Area'] = cleaned_cornf_field_exp['Area'].replace(country_mapping_corn)\n"
   ]
  },
  {
   "cell_type": "code",
   "execution_count": 54,
   "metadata": {
    "scrolled": true
   },
   "outputs": [],
   "source": [
    "cleaned_cornf_field_exp['iso3'] = cleaned_cornf_field_exp['Area'].apply(get_iso3)"
   ]
  },
  {
   "cell_type": "code",
   "execution_count": 55,
   "metadata": {},
   "outputs": [
    {
     "data": {
      "text/html": [
       "<div>\n",
       "<style scoped>\n",
       "    .dataframe tbody tr th:only-of-type {\n",
       "        vertical-align: middle;\n",
       "    }\n",
       "\n",
       "    .dataframe tbody tr th {\n",
       "        vertical-align: top;\n",
       "    }\n",
       "\n",
       "    .dataframe thead th {\n",
       "        text-align: right;\n",
       "    }\n",
       "</style>\n",
       "<table border=\"1\" class=\"dataframe\">\n",
       "  <thead>\n",
       "    <tr style=\"text-align: right;\">\n",
       "      <th></th>\n",
       "      <th>Area</th>\n",
       "      <th>Value</th>\n",
       "      <th>iso3</th>\n",
       "    </tr>\n",
       "  </thead>\n",
       "  <tbody>\n",
       "  </tbody>\n",
       "</table>\n",
       "</div>"
      ],
      "text/plain": [
       "Empty DataFrame\n",
       "Columns: [Area, Value, iso3]\n",
       "Index: []"
      ]
     },
     "execution_count": 55,
     "metadata": {},
     "output_type": "execute_result"
    }
   ],
   "source": [
    "cleaned_cornf_field_exp[cleaned_cornf_field_exp['iso3'].isnull()]"
   ]
  },
  {
   "cell_type": "code",
   "execution_count": 56,
   "metadata": {},
   "outputs": [
    {
     "data": {
      "text/plain": [
       "<Axes: ylabel='Count'>"
      ]
     },
     "execution_count": 56,
     "metadata": {},
     "output_type": "execute_result"
    },
    {
     "data": {
      "image/png": "[encoded data removed]",
      "text/plain": [
       "<Figure size 640x480 with 1 Axes>"
      ]
     },
     "metadata": {},
     "output_type": "display_data"
    }
   ],
   "source": [
    "sns.histplot(cleaned_cornf_field_exp, bins=20, kde=False, edgecolor='black')"
   ]
  },
  {
   "cell_type": "code",
   "execution_count": 57,
   "metadata": {},
   "outputs": [
    {
     "name": "stdout",
     "output_type": "stream",
     "text": [
      "5.268487508658253\n"
     ]
    }
   ],
   "source": [
    "print(cleaned_cornf_field_exp['Value'].skew())"
   ]
  },
  {
   "cell_type": "markdown",
   "metadata": {},
   "source": [
    "# Land Size"
   ]
  },
  {
   "cell_type": "code",
   "execution_count": 58,
   "metadata": {},
   "outputs": [
    {
     "data": {
      "text/html": [
       "<div>\n",
       "<style scoped>\n",
       "    .dataframe tbody tr th:only-of-type {\n",
       "        vertical-align: middle;\n",
       "    }\n",
       "\n",
       "    .dataframe tbody tr th {\n",
       "        vertical-align: top;\n",
       "    }\n",
       "\n",
       "    .dataframe thead th {\n",
       "        text-align: right;\n",
       "    }\n",
       "</style>\n",
       "<table border=\"1\" class=\"dataframe\">\n",
       "  <thead>\n",
       "    <tr style=\"text-align: right;\">\n",
       "      <th></th>\n",
       "      <th>country</th>\n",
       "      <th>date</th>\n",
       "      <th>Land area (sq. km)</th>\n",
       "    </tr>\n",
       "  </thead>\n",
       "  <tbody>\n",
       "    <tr>\n",
       "      <th>0</th>\n",
       "      <td>Africa Eastern and Southern</td>\n",
       "      <td>2023</td>\n",
       "      <td>NaN</td>\n",
       "    </tr>\n",
       "    <tr>\n",
       "      <th>1</th>\n",
       "      <td>Africa Eastern and Southern</td>\n",
       "      <td>2022</td>\n",
       "      <td>NaN</td>\n",
       "    </tr>\n",
       "    <tr>\n",
       "      <th>2</th>\n",
       "      <td>Africa Eastern and Southern</td>\n",
       "      <td>2021</td>\n",
       "      <td>1.484509e+07</td>\n",
       "    </tr>\n",
       "    <tr>\n",
       "      <th>3</th>\n",
       "      <td>Africa Eastern and Southern</td>\n",
       "      <td>2020</td>\n",
       "      <td>1.484509e+07</td>\n",
       "    </tr>\n",
       "    <tr>\n",
       "      <th>4</th>\n",
       "      <td>Africa Eastern and Southern</td>\n",
       "      <td>2019</td>\n",
       "      <td>1.484513e+07</td>\n",
       "    </tr>\n",
       "  </tbody>\n",
       "</table>\n",
       "</div>"
      ],
      "text/plain": [
       "                       country  date  Land area (sq. km)\n",
       "0  Africa Eastern and Southern  2023                 NaN\n",
       "1  Africa Eastern and Southern  2022                 NaN\n",
       "2  Africa Eastern and Southern  2021        1.484509e+07\n",
       "3  Africa Eastern and Southern  2020        1.484509e+07\n",
       "4  Africa Eastern and Southern  2019        1.484513e+07"
      ]
     },
     "execution_count": 58,
     "metadata": {},
     "output_type": "execute_result"
    }
   ],
   "source": [
    "# Get data for 'Land area (sq. km)' for all countries\n",
    "indicators = {'AG.LND.TOTL.K2': 'Land area (sq. km)'}\n",
    "data = wbdata.get_dataframe(indicators)\n",
    "\n",
    "# Display the land area for all countries\n",
    "org_data = data.reset_index()\n",
    "\n",
    "#Converting the year column to integer\n",
    "org_data['date'] = org_data['date'].astype(int)\n",
    "\n",
    "org_data.head()\n"
   ]
  },
  {
   "cell_type": "code",
   "execution_count": 59,
   "metadata": {},
   "outputs": [
    {
     "data": {
      "text/html": [
       "<div>\n",
       "<style scoped>\n",
       "    .dataframe tbody tr th:only-of-type {\n",
       "        vertical-align: middle;\n",
       "    }\n",
       "\n",
       "    .dataframe tbody tr th {\n",
       "        vertical-align: top;\n",
       "    }\n",
       "\n",
       "    .dataframe thead th {\n",
       "        text-align: right;\n",
       "    }\n",
       "</style>\n",
       "<table border=\"1\" class=\"dataframe\">\n",
       "  <thead>\n",
       "    <tr style=\"text-align: right;\">\n",
       "      <th></th>\n",
       "      <th>country</th>\n",
       "      <th>Average_Land_Size</th>\n",
       "    </tr>\n",
       "  </thead>\n",
       "  <tbody>\n",
       "    <tr>\n",
       "      <th>0</th>\n",
       "      <td>Afghanistan</td>\n",
       "      <td>6.522300e+05</td>\n",
       "    </tr>\n",
       "    <tr>\n",
       "      <th>1</th>\n",
       "      <td>Africa Eastern and Southern</td>\n",
       "      <td>1.475005e+07</td>\n",
       "    </tr>\n",
       "    <tr>\n",
       "      <th>2</th>\n",
       "      <td>Africa Western and Central</td>\n",
       "      <td>9.045779e+06</td>\n",
       "    </tr>\n",
       "    <tr>\n",
       "      <th>3</th>\n",
       "      <td>Albania</td>\n",
       "      <td>2.740000e+04</td>\n",
       "    </tr>\n",
       "    <tr>\n",
       "      <th>4</th>\n",
       "      <td>Algeria</td>\n",
       "      <td>2.381740e+06</td>\n",
       "    </tr>\n",
       "    <tr>\n",
       "      <th>...</th>\n",
       "      <td>...</td>\n",
       "      <td>...</td>\n",
       "    </tr>\n",
       "    <tr>\n",
       "      <th>261</th>\n",
       "      <td>West Bank and Gaza</td>\n",
       "      <td>6.020227e+03</td>\n",
       "    </tr>\n",
       "    <tr>\n",
       "      <th>262</th>\n",
       "      <td>World</td>\n",
       "      <td>1.298152e+08</td>\n",
       "    </tr>\n",
       "    <tr>\n",
       "      <th>263</th>\n",
       "      <td>Yemen, Rep.</td>\n",
       "      <td>5.279700e+05</td>\n",
       "    </tr>\n",
       "    <tr>\n",
       "      <th>264</th>\n",
       "      <td>Zambia</td>\n",
       "      <td>7.433900e+05</td>\n",
       "    </tr>\n",
       "    <tr>\n",
       "      <th>265</th>\n",
       "      <td>Zimbabwe</td>\n",
       "      <td>3.868500e+05</td>\n",
       "    </tr>\n",
       "  </tbody>\n",
       "</table>\n",
       "<p>266 rows × 2 columns</p>\n",
       "</div>"
      ],
      "text/plain": [
       "                         country  Average_Land_Size\n",
       "0                    Afghanistan       6.522300e+05\n",
       "1    Africa Eastern and Southern       1.475005e+07\n",
       "2     Africa Western and Central       9.045779e+06\n",
       "3                        Albania       2.740000e+04\n",
       "4                        Algeria       2.381740e+06\n",
       "..                           ...                ...\n",
       "261           West Bank and Gaza       6.020227e+03\n",
       "262                        World       1.298152e+08\n",
       "263                  Yemen, Rep.       5.279700e+05\n",
       "264                       Zambia       7.433900e+05\n",
       "265                     Zimbabwe       3.868500e+05\n",
       "\n",
       "[266 rows x 2 columns]"
      ]
     },
     "execution_count": 59,
     "metadata": {},
     "output_type": "execute_result"
    }
   ],
   "source": [
    "filtered_data = org_data[(org_data['date'] >= 2000) & (org_data['date'] <= 2021)]\n",
    "avg_land_size_df = filtered_data.groupby('country').agg(  # Count of unique values per country\n",
    "    Average_Land_Size=('Land area (sq. km)', 'mean')     # Average of the values per country\n",
    ").reset_index()\n",
    "avg_land_size_df"
   ]
  },
  {
   "cell_type": "code",
   "execution_count": 60,
   "metadata": {},
   "outputs": [
    {
     "data": {
      "text/plain": [
       "Index(['country', 'Average_Land_Size'], dtype='object')"
      ]
     },
     "execution_count": 60,
     "metadata": {},
     "output_type": "execute_result"
    }
   ],
   "source": [
    "avg_land_size_df.columns"
   ]
  },
  {
   "cell_type": "code",
   "execution_count": 61,
   "metadata": {},
   "outputs": [],
   "source": [
    "avg_land_size_df['iso3'] = avg_land_size_df['country'].apply(get_iso3)"
   ]
  },
  {
   "cell_type": "code",
   "execution_count": 62,
   "metadata": {},
   "outputs": [
    {
     "data": {
      "text/html": [
       "<div>\n",
       "<style scoped>\n",
       "    .dataframe tbody tr th:only-of-type {\n",
       "        vertical-align: middle;\n",
       "    }\n",
       "\n",
       "    .dataframe tbody tr th {\n",
       "        vertical-align: top;\n",
       "    }\n",
       "\n",
       "    .dataframe thead th {\n",
       "        text-align: right;\n",
       "    }\n",
       "</style>\n",
       "<table border=\"1\" class=\"dataframe\">\n",
       "  <thead>\n",
       "    <tr style=\"text-align: right;\">\n",
       "      <th></th>\n",
       "      <th>country</th>\n",
       "      <th>Average_Land_Size</th>\n",
       "      <th>iso3</th>\n",
       "    </tr>\n",
       "  </thead>\n",
       "  <tbody>\n",
       "    <tr>\n",
       "      <th>1</th>\n",
       "      <td>Africa Eastern and Southern</td>\n",
       "      <td>1.475005e+07</td>\n",
       "      <td>None</td>\n",
       "    </tr>\n",
       "    <tr>\n",
       "      <th>2</th>\n",
       "      <td>Africa Western and Central</td>\n",
       "      <td>9.045779e+06</td>\n",
       "      <td>None</td>\n",
       "    </tr>\n",
       "    <tr>\n",
       "      <th>9</th>\n",
       "      <td>Arab World</td>\n",
       "      <td>1.337883e+07</td>\n",
       "      <td>None</td>\n",
       "    </tr>\n",
       "    <tr>\n",
       "      <th>16</th>\n",
       "      <td>Bahamas, The</td>\n",
       "      <td>1.001000e+04</td>\n",
       "      <td>None</td>\n",
       "    </tr>\n",
       "    <tr>\n",
       "      <th>39</th>\n",
       "      <td>Caribbean small states</td>\n",
       "      <td>4.048500e+05</td>\n",
       "      <td>None</td>\n",
       "    </tr>\n",
       "    <tr>\n",
       "      <th>...</th>\n",
       "      <td>...</td>\n",
       "      <td>...</td>\n",
       "      <td>...</td>\n",
       "    </tr>\n",
       "    <tr>\n",
       "      <th>258</th>\n",
       "      <td>Venezuela, RB</td>\n",
       "      <td>8.820500e+05</td>\n",
       "      <td>None</td>\n",
       "    </tr>\n",
       "    <tr>\n",
       "      <th>260</th>\n",
       "      <td>Virgin Islands (U.S.)</td>\n",
       "      <td>3.500000e+02</td>\n",
       "      <td>None</td>\n",
       "    </tr>\n",
       "    <tr>\n",
       "      <th>261</th>\n",
       "      <td>West Bank and Gaza</td>\n",
       "      <td>6.020227e+03</td>\n",
       "      <td>None</td>\n",
       "    </tr>\n",
       "    <tr>\n",
       "      <th>262</th>\n",
       "      <td>World</td>\n",
       "      <td>1.298152e+08</td>\n",
       "      <td>None</td>\n",
       "    </tr>\n",
       "    <tr>\n",
       "      <th>263</th>\n",
       "      <td>Yemen, Rep.</td>\n",
       "      <td>5.279700e+05</td>\n",
       "      <td>None</td>\n",
       "    </tr>\n",
       "  </tbody>\n",
       "</table>\n",
       "<p>74 rows × 3 columns</p>\n",
       "</div>"
      ],
      "text/plain": [
       "                         country  Average_Land_Size  iso3\n",
       "1    Africa Eastern and Southern       1.475005e+07  None\n",
       "2     Africa Western and Central       9.045779e+06  None\n",
       "9                     Arab World       1.337883e+07  None\n",
       "16                  Bahamas, The       1.001000e+04  None\n",
       "39        Caribbean small states       4.048500e+05  None\n",
       "..                           ...                ...   ...\n",
       "258                Venezuela, RB       8.820500e+05  None\n",
       "260        Virgin Islands (U.S.)       3.500000e+02  None\n",
       "261           West Bank and Gaza       6.020227e+03  None\n",
       "262                        World       1.298152e+08  None\n",
       "263                  Yemen, Rep.       5.279700e+05  None\n",
       "\n",
       "[74 rows x 3 columns]"
      ]
     },
     "execution_count": 62,
     "metadata": {},
     "output_type": "execute_result"
    }
   ],
   "source": [
    "avg_land_size_df[avg_land_size_df['iso3'].isnull()]"
   ]
  },
  {
   "cell_type": "code",
   "execution_count": 63,
   "metadata": {},
   "outputs": [],
   "source": [
    "avg_land_size_df['country'] = avg_land_size_df['country'].replace(country_mapping)"
   ]
  },
  {
   "cell_type": "code",
   "execution_count": 64,
   "metadata": {},
   "outputs": [],
   "source": [
    "avg_land_size_df = avg_land_size_df[~avg_land_size_df['country'].isin(country_not_country)]"
   ]
  },
  {
   "cell_type": "code",
   "execution_count": 65,
   "metadata": {},
   "outputs": [
    {
     "name": "stderr",
     "output_type": "stream",
     "text": [
      "/var/folders/z1/yry6nb4j25bg_5n5f28yn9zw0000gn/T/ipykernel_11482/1108197642.py:1: SettingWithCopyWarning: \n",
      "A value is trying to be set on a copy of a slice from a DataFrame.\n",
      "Try using .loc[row_indexer,col_indexer] = value instead\n",
      "\n",
      "See the caveats in the documentation: https://pandas.pydata.org/pandas-docs/stable/user_guide/indexing.html#returning-a-view-versus-a-copy\n",
      "  avg_land_size_df['iso3'] = avg_land_size_df['country'].apply(get_iso3)\n"
     ]
    }
   ],
   "source": [
    "avg_land_size_df['iso3'] = avg_land_size_df['country'].apply(get_iso3)"
   ]
  },
  {
   "cell_type": "code",
   "execution_count": 66,
   "metadata": {
    "scrolled": true
   },
   "outputs": [
    {
     "data": {
      "text/html": [
       "<div>\n",
       "<style scoped>\n",
       "    .dataframe tbody tr th:only-of-type {\n",
       "        vertical-align: middle;\n",
       "    }\n",
       "\n",
       "    .dataframe tbody tr th {\n",
       "        vertical-align: top;\n",
       "    }\n",
       "\n",
       "    .dataframe thead th {\n",
       "        text-align: right;\n",
       "    }\n",
       "</style>\n",
       "<table border=\"1\" class=\"dataframe\">\n",
       "  <thead>\n",
       "    <tr style=\"text-align: right;\">\n",
       "      <th></th>\n",
       "      <th>country</th>\n",
       "      <th>Average_Land_Size</th>\n",
       "      <th>iso3</th>\n",
       "    </tr>\n",
       "  </thead>\n",
       "  <tbody>\n",
       "    <tr>\n",
       "      <th>103</th>\n",
       "      <td>Hong Kong SAR, China</td>\n",
       "      <td>1050.0</td>\n",
       "      <td>None</td>\n",
       "    </tr>\n",
       "    <tr>\n",
       "      <th>127</th>\n",
       "      <td>Kosovo</td>\n",
       "      <td>NaN</td>\n",
       "      <td>None</td>\n",
       "    </tr>\n",
       "  </tbody>\n",
       "</table>\n",
       "</div>"
      ],
      "text/plain": [
       "                  country  Average_Land_Size  iso3\n",
       "103  Hong Kong SAR, China             1050.0  None\n",
       "127                Kosovo                NaN  None"
      ]
     },
     "execution_count": 66,
     "metadata": {},
     "output_type": "execute_result"
    }
   ],
   "source": [
    "avg_land_size_df[avg_land_size_df['iso3'].isnull()]"
   ]
  },
  {
   "cell_type": "code",
   "execution_count": 67,
   "metadata": {},
   "outputs": [],
   "source": [
    "avg_land_size_df = avg_land_size_df.dropna(subset=['iso3'])"
   ]
  },
  {
   "cell_type": "code",
   "execution_count": 68,
   "metadata": {},
   "outputs": [
    {
     "data": {
      "text/html": [
       "<div>\n",
       "<style scoped>\n",
       "    .dataframe tbody tr th:only-of-type {\n",
       "        vertical-align: middle;\n",
       "    }\n",
       "\n",
       "    .dataframe tbody tr th {\n",
       "        vertical-align: top;\n",
       "    }\n",
       "\n",
       "    .dataframe thead th {\n",
       "        text-align: right;\n",
       "    }\n",
       "</style>\n",
       "<table border=\"1\" class=\"dataframe\">\n",
       "  <thead>\n",
       "    <tr style=\"text-align: right;\">\n",
       "      <th></th>\n",
       "      <th>country</th>\n",
       "      <th>Average_Land_Size</th>\n",
       "      <th>iso3</th>\n",
       "    </tr>\n",
       "  </thead>\n",
       "  <tbody>\n",
       "    <tr>\n",
       "      <th>0</th>\n",
       "      <td>Afghanistan</td>\n",
       "      <td>6.522300e+05</td>\n",
       "      <td>AFG</td>\n",
       "    </tr>\n",
       "    <tr>\n",
       "      <th>3</th>\n",
       "      <td>Albania</td>\n",
       "      <td>2.740000e+04</td>\n",
       "      <td>ALB</td>\n",
       "    </tr>\n",
       "    <tr>\n",
       "      <th>4</th>\n",
       "      <td>Algeria</td>\n",
       "      <td>2.381740e+06</td>\n",
       "      <td>DZA</td>\n",
       "    </tr>\n",
       "    <tr>\n",
       "      <th>5</th>\n",
       "      <td>American Samoa</td>\n",
       "      <td>2.000000e+02</td>\n",
       "      <td>ASM</td>\n",
       "    </tr>\n",
       "    <tr>\n",
       "      <th>6</th>\n",
       "      <td>Andorra</td>\n",
       "      <td>4.700000e+02</td>\n",
       "      <td>AND</td>\n",
       "    </tr>\n",
       "    <tr>\n",
       "      <th>...</th>\n",
       "      <td>...</td>\n",
       "      <td>...</td>\n",
       "      <td>...</td>\n",
       "    </tr>\n",
       "    <tr>\n",
       "      <th>259</th>\n",
       "      <td>Viet Nam</td>\n",
       "      <td>3.125857e+05</td>\n",
       "      <td>VNM</td>\n",
       "    </tr>\n",
       "    <tr>\n",
       "      <th>260</th>\n",
       "      <td>Virgin Islands, U.S.</td>\n",
       "      <td>3.500000e+02</td>\n",
       "      <td>VIR</td>\n",
       "    </tr>\n",
       "    <tr>\n",
       "      <th>263</th>\n",
       "      <td>Yemen</td>\n",
       "      <td>5.279700e+05</td>\n",
       "      <td>YEM</td>\n",
       "    </tr>\n",
       "    <tr>\n",
       "      <th>264</th>\n",
       "      <td>Zambia</td>\n",
       "      <td>7.433900e+05</td>\n",
       "      <td>ZMB</td>\n",
       "    </tr>\n",
       "    <tr>\n",
       "      <th>265</th>\n",
       "      <td>Zimbabwe</td>\n",
       "      <td>3.868500e+05</td>\n",
       "      <td>ZWE</td>\n",
       "    </tr>\n",
       "  </tbody>\n",
       "</table>\n",
       "<p>213 rows × 3 columns</p>\n",
       "</div>"
      ],
      "text/plain": [
       "                  country  Average_Land_Size iso3\n",
       "0             Afghanistan       6.522300e+05  AFG\n",
       "3                 Albania       2.740000e+04  ALB\n",
       "4                 Algeria       2.381740e+06  DZA\n",
       "5          American Samoa       2.000000e+02  ASM\n",
       "6                 Andorra       4.700000e+02  AND\n",
       "..                    ...                ...  ...\n",
       "259              Viet Nam       3.125857e+05  VNM\n",
       "260  Virgin Islands, U.S.       3.500000e+02  VIR\n",
       "263                 Yemen       5.279700e+05  YEM\n",
       "264                Zambia       7.433900e+05  ZMB\n",
       "265              Zimbabwe       3.868500e+05  ZWE\n",
       "\n",
       "[213 rows x 3 columns]"
      ]
     },
     "execution_count": 68,
     "metadata": {},
     "output_type": "execute_result"
    }
   ],
   "source": [
    "avg_land_size_df"
   ]
  },
  {
   "cell_type": "markdown",
   "metadata": {},
   "source": [
    "# Result"
   ]
  },
  {
   "cell_type": "code",
   "execution_count": 69,
   "metadata": {},
   "outputs": [
    {
     "data": {
      "text/html": [
       "<div>\n",
       "<style scoped>\n",
       "    .dataframe tbody tr th:only-of-type {\n",
       "        vertical-align: middle;\n",
       "    }\n",
       "\n",
       "    .dataframe tbody tr th {\n",
       "        vertical-align: top;\n",
       "    }\n",
       "\n",
       "    .dataframe thead th {\n",
       "        text-align: right;\n",
       "    }\n",
       "</style>\n",
       "<table border=\"1\" class=\"dataframe\">\n",
       "  <thead>\n",
       "    <tr style=\"text-align: right;\">\n",
       "      <th></th>\n",
       "      <th>index</th>\n",
       "      <th>country</th>\n",
       "      <th>Average_Land_Size</th>\n",
       "      <th>iso3</th>\n",
       "    </tr>\n",
       "  </thead>\n",
       "  <tbody>\n",
       "    <tr>\n",
       "      <th>0</th>\n",
       "      <td>0</td>\n",
       "      <td>Afghanistan</td>\n",
       "      <td>6.522300e+05</td>\n",
       "      <td>AFG</td>\n",
       "    </tr>\n",
       "    <tr>\n",
       "      <th>1</th>\n",
       "      <td>3</td>\n",
       "      <td>Albania</td>\n",
       "      <td>2.740000e+04</td>\n",
       "      <td>ALB</td>\n",
       "    </tr>\n",
       "    <tr>\n",
       "      <th>2</th>\n",
       "      <td>4</td>\n",
       "      <td>Algeria</td>\n",
       "      <td>2.381740e+06</td>\n",
       "      <td>DZA</td>\n",
       "    </tr>\n",
       "    <tr>\n",
       "      <th>3</th>\n",
       "      <td>5</td>\n",
       "      <td>American Samoa</td>\n",
       "      <td>2.000000e+02</td>\n",
       "      <td>ASM</td>\n",
       "    </tr>\n",
       "    <tr>\n",
       "      <th>4</th>\n",
       "      <td>6</td>\n",
       "      <td>Andorra</td>\n",
       "      <td>4.700000e+02</td>\n",
       "      <td>AND</td>\n",
       "    </tr>\n",
       "  </tbody>\n",
       "</table>\n",
       "</div>"
      ],
      "text/plain": [
       "   index         country  Average_Land_Size iso3\n",
       "0      0     Afghanistan       6.522300e+05  AFG\n",
       "1      3         Albania       2.740000e+04  ALB\n",
       "2      4         Algeria       2.381740e+06  DZA\n",
       "3      5  American Samoa       2.000000e+02  ASM\n",
       "4      6         Andorra       4.700000e+02  AND"
      ]
     },
     "execution_count": 69,
     "metadata": {},
     "output_type": "execute_result"
    }
   ],
   "source": [
    "avg_land_size_df= avg_land_size_df.reset_index()\n",
    "avg_land_size_df.head()"
   ]
  },
  {
   "cell_type": "code",
   "execution_count": 70,
   "metadata": {},
   "outputs": [
    {
     "data": {
      "text/html": [
       "<div>\n",
       "<style scoped>\n",
       "    .dataframe tbody tr th:only-of-type {\n",
       "        vertical-align: middle;\n",
       "    }\n",
       "\n",
       "    .dataframe tbody tr th {\n",
       "        vertical-align: top;\n",
       "    }\n",
       "\n",
       "    .dataframe thead th {\n",
       "        text-align: right;\n",
       "    }\n",
       "</style>\n",
       "<table border=\"1\" class=\"dataframe\">\n",
       "  <thead>\n",
       "    <tr style=\"text-align: right;\">\n",
       "      <th></th>\n",
       "      <th>index</th>\n",
       "      <th>Area</th>\n",
       "      <th>Value</th>\n",
       "      <th>iso3</th>\n",
       "    </tr>\n",
       "  </thead>\n",
       "  <tbody>\n",
       "    <tr>\n",
       "      <th>0</th>\n",
       "      <td>0</td>\n",
       "      <td>Afghanistan</td>\n",
       "      <td>7.036845</td>\n",
       "      <td>AFG</td>\n",
       "    </tr>\n",
       "    <tr>\n",
       "      <th>1</th>\n",
       "      <td>1</td>\n",
       "      <td>Albania</td>\n",
       "      <td>0.604709</td>\n",
       "      <td>ALB</td>\n",
       "    </tr>\n",
       "    <tr>\n",
       "      <th>2</th>\n",
       "      <td>2</td>\n",
       "      <td>Algeria</td>\n",
       "      <td>43.622156</td>\n",
       "      <td>DZA</td>\n",
       "    </tr>\n",
       "    <tr>\n",
       "      <th>3</th>\n",
       "      <td>3</td>\n",
       "      <td>Angola</td>\n",
       "      <td>13.153350</td>\n",
       "      <td>AGO</td>\n",
       "    </tr>\n",
       "    <tr>\n",
       "      <th>4</th>\n",
       "      <td>4</td>\n",
       "      <td>Argentina</td>\n",
       "      <td>5.647775</td>\n",
       "      <td>ARG</td>\n",
       "    </tr>\n",
       "  </tbody>\n",
       "</table>\n",
       "</div>"
      ],
      "text/plain": [
       "   index         Area      Value iso3\n",
       "0      0  Afghanistan   7.036845  AFG\n",
       "1      1      Albania   0.604709  ALB\n",
       "2      2      Algeria  43.622156  DZA\n",
       "3      3       Angola  13.153350  AGO\n",
       "4      4    Argentina   5.647775  ARG"
      ]
     },
     "execution_count": 70,
     "metadata": {},
     "output_type": "execute_result"
    }
   ],
   "source": [
    "cleaned_corn_df = pd.DataFrame(cleaned_cornf_field_exp).reset_index()\n",
    "cleaned_corn_df.head()"
   ]
  },
  {
   "cell_type": "code",
   "execution_count": 71,
   "metadata": {},
   "outputs": [
    {
     "data": {
      "text/html": [
       "<div>\n",
       "<style scoped>\n",
       "    .dataframe tbody tr th:only-of-type {\n",
       "        vertical-align: middle;\n",
       "    }\n",
       "\n",
       "    .dataframe tbody tr th {\n",
       "        vertical-align: top;\n",
       "    }\n",
       "\n",
       "    .dataframe thead th {\n",
       "        text-align: right;\n",
       "    }\n",
       "</style>\n",
       "<table border=\"1\" class=\"dataframe\">\n",
       "  <thead>\n",
       "    <tr style=\"text-align: right;\">\n",
       "      <th></th>\n",
       "      <th>index</th>\n",
       "      <th>Country Name</th>\n",
       "      <th>Values</th>\n",
       "      <th>iso3</th>\n",
       "    </tr>\n",
       "  </thead>\n",
       "  <tbody>\n",
       "    <tr>\n",
       "      <th>0</th>\n",
       "      <td>0</td>\n",
       "      <td>Afghanistan</td>\n",
       "      <td>0.000000</td>\n",
       "      <td>AFG</td>\n",
       "    </tr>\n",
       "    <tr>\n",
       "      <th>1</th>\n",
       "      <td>3</td>\n",
       "      <td>Albania</td>\n",
       "      <td>0.032515</td>\n",
       "      <td>ALB</td>\n",
       "    </tr>\n",
       "    <tr>\n",
       "      <th>2</th>\n",
       "      <td>4</td>\n",
       "      <td>Algeria</td>\n",
       "      <td>0.007239</td>\n",
       "      <td>DZA</td>\n",
       "    </tr>\n",
       "    <tr>\n",
       "      <th>3</th>\n",
       "      <td>5</td>\n",
       "      <td>American Samoa</td>\n",
       "      <td>-0.143182</td>\n",
       "      <td>ASM</td>\n",
       "    </tr>\n",
       "    <tr>\n",
       "      <th>4</th>\n",
       "      <td>6</td>\n",
       "      <td>Andorra</td>\n",
       "      <td>0.000000</td>\n",
       "      <td>AND</td>\n",
       "    </tr>\n",
       "  </tbody>\n",
       "</table>\n",
       "</div>"
      ],
      "text/plain": [
       "   index    Country Name    Values iso3\n",
       "0      0     Afghanistan  0.000000  AFG\n",
       "1      3         Albania  0.032515  ALB\n",
       "2      4         Algeria  0.007239  DZA\n",
       "3      5  American Samoa -0.143182  ASM\n",
       "4      6         Andorra  0.000000  AND"
      ]
     },
     "execution_count": 71,
     "metadata": {},
     "output_type": "execute_result"
    }
   ],
   "source": [
    "cleaned_def = pd.DataFrame(average_deforestation).reset_index()\n",
    "cleaned_def.head()"
   ]
  },
  {
   "cell_type": "code",
   "execution_count": 72,
   "metadata": {},
   "outputs": [
    {
     "data": {
      "text/html": [
       "<div>\n",
       "<style scoped>\n",
       "    .dataframe tbody tr th:only-of-type {\n",
       "        vertical-align: middle;\n",
       "    }\n",
       "\n",
       "    .dataframe tbody tr th {\n",
       "        vertical-align: top;\n",
       "    }\n",
       "\n",
       "    .dataframe thead th {\n",
       "        text-align: right;\n",
       "    }\n",
       "</style>\n",
       "<table border=\"1\" class=\"dataframe\">\n",
       "  <thead>\n",
       "    <tr style=\"text-align: right;\">\n",
       "      <th></th>\n",
       "      <th>index_x</th>\n",
       "      <th>Country</th>\n",
       "      <th>Average_Land_Size</th>\n",
       "      <th>iso3_x</th>\n",
       "      <th>index_y</th>\n",
       "      <th>Value</th>\n",
       "      <th>iso3_y</th>\n",
       "      <th>index</th>\n",
       "      <th>Values</th>\n",
       "      <th>iso3</th>\n",
       "    </tr>\n",
       "  </thead>\n",
       "  <tbody>\n",
       "    <tr>\n",
       "      <th>0</th>\n",
       "      <td>0.0</td>\n",
       "      <td>Afghanistan</td>\n",
       "      <td>6.522300e+05</td>\n",
       "      <td>AFG</td>\n",
       "      <td>0.0</td>\n",
       "      <td>7.036845</td>\n",
       "      <td>AFG</td>\n",
       "      <td>0.0</td>\n",
       "      <td>0.000000</td>\n",
       "      <td>AFG</td>\n",
       "    </tr>\n",
       "    <tr>\n",
       "      <th>1</th>\n",
       "      <td>3.0</td>\n",
       "      <td>Albania</td>\n",
       "      <td>2.740000e+04</td>\n",
       "      <td>ALB</td>\n",
       "      <td>1.0</td>\n",
       "      <td>0.604709</td>\n",
       "      <td>ALB</td>\n",
       "      <td>3.0</td>\n",
       "      <td>0.032515</td>\n",
       "      <td>ALB</td>\n",
       "    </tr>\n",
       "    <tr>\n",
       "      <th>2</th>\n",
       "      <td>4.0</td>\n",
       "      <td>Algeria</td>\n",
       "      <td>2.381740e+06</td>\n",
       "      <td>DZA</td>\n",
       "      <td>2.0</td>\n",
       "      <td>43.622156</td>\n",
       "      <td>DZA</td>\n",
       "      <td>4.0</td>\n",
       "      <td>0.007239</td>\n",
       "      <td>DZA</td>\n",
       "    </tr>\n",
       "    <tr>\n",
       "      <th>3</th>\n",
       "      <td>5.0</td>\n",
       "      <td>American Samoa</td>\n",
       "      <td>2.000000e+02</td>\n",
       "      <td>ASM</td>\n",
       "      <td>NaN</td>\n",
       "      <td>NaN</td>\n",
       "      <td>NaN</td>\n",
       "      <td>5.0</td>\n",
       "      <td>-0.143182</td>\n",
       "      <td>ASM</td>\n",
       "    </tr>\n",
       "    <tr>\n",
       "      <th>4</th>\n",
       "      <td>6.0</td>\n",
       "      <td>Andorra</td>\n",
       "      <td>4.700000e+02</td>\n",
       "      <td>AND</td>\n",
       "      <td>NaN</td>\n",
       "      <td>NaN</td>\n",
       "      <td>NaN</td>\n",
       "      <td>6.0</td>\n",
       "      <td>0.000000</td>\n",
       "      <td>AND</td>\n",
       "    </tr>\n",
       "    <tr>\n",
       "      <th>...</th>\n",
       "      <td>...</td>\n",
       "      <td>...</td>\n",
       "      <td>...</td>\n",
       "      <td>...</td>\n",
       "      <td>...</td>\n",
       "      <td>...</td>\n",
       "      <td>...</td>\n",
       "      <td>...</td>\n",
       "      <td>...</td>\n",
       "      <td>...</td>\n",
       "    </tr>\n",
       "    <tr>\n",
       "      <th>215</th>\n",
       "      <td>NaN</td>\n",
       "      <td>Taiwan, Province of China</td>\n",
       "      <td>NaN</td>\n",
       "      <td>NaN</td>\n",
       "      <td>21.0</td>\n",
       "      <td>0.741598</td>\n",
       "      <td>TWN</td>\n",
       "      <td>NaN</td>\n",
       "      <td>NaN</td>\n",
       "      <td>NaN</td>\n",
       "    </tr>\n",
       "    <tr>\n",
       "      <th>216</th>\n",
       "      <td>NaN</td>\n",
       "      <td>Kyrgyzstan</td>\n",
       "      <td>NaN</td>\n",
       "      <td>NaN</td>\n",
       "      <td>44.0</td>\n",
       "      <td>3.052833</td>\n",
       "      <td>KGZ</td>\n",
       "      <td>NaN</td>\n",
       "      <td>NaN</td>\n",
       "      <td>NaN</td>\n",
       "    </tr>\n",
       "    <tr>\n",
       "      <th>217</th>\n",
       "      <td>NaN</td>\n",
       "      <td>Republic of Moldova</td>\n",
       "      <td>NaN</td>\n",
       "      <td>NaN</td>\n",
       "      <td>68.0</td>\n",
       "      <td>1.261820</td>\n",
       "      <td>MDA</td>\n",
       "      <td>NaN</td>\n",
       "      <td>NaN</td>\n",
       "      <td>NaN</td>\n",
       "    </tr>\n",
       "    <tr>\n",
       "      <th>218</th>\n",
       "      <td>NaN</td>\n",
       "      <td>Slovakia</td>\n",
       "      <td>NaN</td>\n",
       "      <td>NaN</td>\n",
       "      <td>72.0</td>\n",
       "      <td>1.885082</td>\n",
       "      <td>SVK</td>\n",
       "      <td>NaN</td>\n",
       "      <td>NaN</td>\n",
       "      <td>NaN</td>\n",
       "    </tr>\n",
       "    <tr>\n",
       "      <th>219</th>\n",
       "      <td>NaN</td>\n",
       "      <td>United States of America</td>\n",
       "      <td>NaN</td>\n",
       "      <td>NaN</td>\n",
       "      <td>82.0</td>\n",
       "      <td>0.920345</td>\n",
       "      <td>USA</td>\n",
       "      <td>NaN</td>\n",
       "      <td>NaN</td>\n",
       "      <td>NaN</td>\n",
       "    </tr>\n",
       "  </tbody>\n",
       "</table>\n",
       "<p>220 rows × 10 columns</p>\n",
       "</div>"
      ],
      "text/plain": [
       "     index_x                    Country  Average_Land_Size iso3_x  index_y  \\\n",
       "0        0.0                Afghanistan       6.522300e+05    AFG      0.0   \n",
       "1        3.0                    Albania       2.740000e+04    ALB      1.0   \n",
       "2        4.0                    Algeria       2.381740e+06    DZA      2.0   \n",
       "3        5.0             American Samoa       2.000000e+02    ASM      NaN   \n",
       "4        6.0                    Andorra       4.700000e+02    AND      NaN   \n",
       "..       ...                        ...                ...    ...      ...   \n",
       "215      NaN  Taiwan, Province of China                NaN    NaN     21.0   \n",
       "216      NaN                 Kyrgyzstan                NaN    NaN     44.0   \n",
       "217      NaN        Republic of Moldova                NaN    NaN     68.0   \n",
       "218      NaN                   Slovakia                NaN    NaN     72.0   \n",
       "219      NaN   United States of America                NaN    NaN     82.0   \n",
       "\n",
       "         Value iso3_y  index    Values iso3  \n",
       "0     7.036845    AFG    0.0  0.000000  AFG  \n",
       "1     0.604709    ALB    3.0  0.032515  ALB  \n",
       "2    43.622156    DZA    4.0  0.007239  DZA  \n",
       "3          NaN    NaN    5.0 -0.143182  ASM  \n",
       "4          NaN    NaN    6.0  0.000000  AND  \n",
       "..         ...    ...    ...       ...  ...  \n",
       "215   0.741598    TWN    NaN       NaN  NaN  \n",
       "216   3.052833    KGZ    NaN       NaN  NaN  \n",
       "217   1.261820    MDA    NaN       NaN  NaN  \n",
       "218   1.885082    SVK    NaN       NaN  NaN  \n",
       "219   0.920345    USA    NaN       NaN  NaN  \n",
       "\n",
       "[220 rows x 10 columns]"
      ]
     },
     "execution_count": 72,
     "metadata": {},
     "output_type": "execute_result"
    }
   ],
   "source": [
    "# Reverting to previous data before dropping and then manually resolving country mismatches\n",
    "#country_mapping = {\n",
    "#    'United Republic of Tanzania': 'Tanzania',\n",
    "#    'United States of America': 'United States',\n",
    "#    'Venezuela (Bolivarian Republic of)': 'Venezuela',\n",
    "#    'Türkiye': 'Turkey',\n",
    "#    'Africa Eastern and Southern': 'Eastern and Southern Africa',\n",
    "#    'Africa Western and Central': 'Western and Central Africa',\n",
    "    # You can add more mappings if necessary\n",
    "#}\n",
    "\n",
    "# Rename columns again to 'Country'\n",
    "avg_land_size_df.rename(columns={'country': 'Country'}, inplace=True)\n",
    "cleaned_corn_df.rename(columns={'Area': 'Country'}, inplace=True)\n",
    "cleaned_def.rename(columns={'Country Name': 'Country'}, inplace=True)\n",
    "\n",
    "#avg_land_size_df['Country'] = avg_land_size_df['Country'].replace(country_mapping)\n",
    "#cleaned_corn_df['Country'] = cleaned_corn_df['Country'].replace(country_mapping)\n",
    "#cleaned_def['Country'] = cleaned_def['Country'].replace(country_mapping)\n",
    "\n",
    "\n",
    "# Merging dataframes without dropping any countries, and will handle missing data\n",
    "final_merged_df = pd.merge(avg_land_size_df, cleaned_corn_df, on='Country', how='outer')\n",
    "final_merged_df = pd.merge(final_merged_df, cleaned_def, on='Country', how='outer')\n",
    "\n",
    "final_merged_df\n"
   ]
  },
  {
   "cell_type": "code",
   "execution_count": 73,
   "metadata": {},
   "outputs": [
    {
     "data": {
      "text/plain": [
       "False"
      ]
     },
     "execution_count": 73,
     "metadata": {},
     "output_type": "execute_result"
    }
   ],
   "source": [
    "'Algeria' in cleaned_corn_df['Country']"
   ]
  },
  {
   "cell_type": "code",
   "execution_count": 74,
   "metadata": {},
   "outputs": [
    {
     "data": {
      "text/plain": [
       "0     Afghanistan\n",
       "1         Albania\n",
       "2         Algeria\n",
       "3          Angola\n",
       "4       Argentina\n",
       "         ...     \n",
       "83        Uruguay\n",
       "84     Uzbekistan\n",
       "85       Viet Nam\n",
       "86          Yemen\n",
       "87         Zambia\n",
       "Name: Country, Length: 88, dtype: object"
      ]
     },
     "execution_count": 74,
     "metadata": {},
     "output_type": "execute_result"
    }
   ],
   "source": [
    "cleaned_corn_df['Country']"
   ]
  },
  {
   "cell_type": "code",
   "execution_count": 75,
   "metadata": {},
   "outputs": [
    {
     "data": {
      "text/plain": [
       "'def consolidate_duplicates(df, country_column):\\n    # Make a copy of the dataframe to avoid modifying the original one\\n    df_copy = df.copy()\\n    \\n    # Standardize country names for consistency (can extend this part to include more mappings if necessary)\\n    df_copy[country_column] = df_copy[country_column].replace({\\n        \"Cote d\\'Ivoire\": \"Côte d\\'Ivoire\",\\n        \"Democratic Republic of the Congo\": \"Congo, Dem. Rep.\",\\n        \"Korea, Rep.\": \"South Korea\",\\n        \"Korea, Dem. People\\'s Rep.\": \"North Korea\",\\n        \"Egypt, Arab Rep.\": \"Egypt\",\\n        \"Iran (Islamic Republic of)\": \"Iran, Islamic Rep.\",\\n        \"Netherlands (Kingdom of the)\" : \"Netherlands\",\\n        \"Slovak Republic\" : \"Slovakia\",\\n        \"Turkiye\" : \"Turkey\",\\n        \"Venezuela, RB\" : \"Veneuzela\",\\n        \"Yemen, Rep.\" : \"Yemen\",\\n        \"Republic of Korea\": \"South Korea\",\\n        \"Republic of Moldova\":\"Moldova\",\\n        \"Kyrgyz Republic\" : \"Kyrgyzstan\"\\n    })\\n    \\n    # Get the list of unique countries\\n    unique_countries = df_copy[country_column].unique()\\n    \\n    # Loop through unique countries\\n    result_list = []\\n    \\n    for country in unique_countries:\\n        # Filter the rows for the current country\\n        partition = df_copy[df_copy[country_column] == country]\\n        \\n        # If there are duplicates, group them by the country and sum the numeric values\\n        if len(partition) > 1:\\n            # Replace NaNs with zeros for aggregation\\n            partition = partition.fillna(0)\\n            \\n            # Sum the rows and keep the country name intact\\n            summed_partition = partition.groupby(country_column).sum().reset_index()\\n            \\n            # Append the result to the list\\n            result_list.append(summed_partition)\\n        else:\\n            # If there are no duplicates, keep the partition as it is\\n            result_list.append(partition)\\n    \\n    # Concatenate all results into a final dataframe\\n    final_df = pd.concat(result_list, ignore_index=True)\\n    \\n    return final_df\\n\\n# Applying the function to the example data\\nfinal_grouped_df = consolidate_duplicates(final_merged_df, \\'Country\\')\\n\\n'"
      ]
     },
     "execution_count": 75,
     "metadata": {},
     "output_type": "execute_result"
    }
   ],
   "source": [
    "# Define the function to detect duplicates, group by partition, fill values with zeros, and sum them up\n",
    "'''def consolidate_duplicates(df, country_column):\n",
    "    # Make a copy of the dataframe to avoid modifying the original one\n",
    "    df_copy = df.copy()\n",
    "    \n",
    "    # Standardize country names for consistency (can extend this part to include more mappings if necessary)\n",
    "    df_copy[country_column] = df_copy[country_column].replace({\n",
    "        \"Cote d'Ivoire\": \"Côte d'Ivoire\",\n",
    "        \"Democratic Republic of the Congo\": \"Congo, Dem. Rep.\",\n",
    "        \"Korea, Rep.\": \"South Korea\",\n",
    "        \"Korea, Dem. People's Rep.\": \"North Korea\",\n",
    "        \"Egypt, Arab Rep.\": \"Egypt\",\n",
    "        \"Iran (Islamic Republic of)\": \"Iran, Islamic Rep.\",\n",
    "        \"Netherlands (Kingdom of the)\" : \"Netherlands\",\n",
    "        \"Slovak Republic\" : \"Slovakia\",\n",
    "        \"Turkiye\" : \"Turkey\",\n",
    "        \"Venezuela, RB\" : \"Veneuzela\",\n",
    "        \"Yemen, Rep.\" : \"Yemen\",\n",
    "        \"Republic of Korea\": \"South Korea\",\n",
    "        \"Republic of Moldova\":\"Moldova\",\n",
    "        \"Kyrgyz Republic\" : \"Kyrgyzstan\"\n",
    "    })\n",
    "    \n",
    "    # Get the list of unique countries\n",
    "    unique_countries = df_copy[country_column].unique()\n",
    "    \n",
    "    # Loop through unique countries\n",
    "    result_list = []\n",
    "    \n",
    "    for country in unique_countries:\n",
    "        # Filter the rows for the current country\n",
    "        partition = df_copy[df_copy[country_column] == country]\n",
    "        \n",
    "        # If there are duplicates, group them by the country and sum the numeric values\n",
    "        if len(partition) > 1:\n",
    "            # Replace NaNs with zeros for aggregation\n",
    "            partition = partition.fillna(0)\n",
    "            \n",
    "            # Sum the rows and keep the country name intact\n",
    "            summed_partition = partition.groupby(country_column).sum().reset_index()\n",
    "            \n",
    "            # Append the result to the list\n",
    "            result_list.append(summed_partition)\n",
    "        else:\n",
    "            # If there are no duplicates, keep the partition as it is\n",
    "            result_list.append(partition)\n",
    "    \n",
    "    # Concatenate all results into a final dataframe\n",
    "    final_df = pd.concat(result_list, ignore_index=True)\n",
    "    \n",
    "    return final_df\n",
    "\n",
    "# Applying the function to the example data\n",
    "final_grouped_df = consolidate_duplicates(final_merged_df, 'Country')\n",
    "\n",
    "'''\n"
   ]
  },
  {
   "cell_type": "code",
   "execution_count": 76,
   "metadata": {},
   "outputs": [],
   "source": [
    "final_grouped_df = final_merged_df"
   ]
  },
  {
   "cell_type": "code",
   "execution_count": 77,
   "metadata": {},
   "outputs": [],
   "source": [
    "#final_grouped_df[final_grouped_df[\"Country\"] == \"Côte d'Ivoire\"]"
   ]
  },
  {
   "cell_type": "code",
   "execution_count": 78,
   "metadata": {},
   "outputs": [],
   "source": [
    "#final_grouped_df[final_grouped_df[\"Country\"] == \"Bolivia\"]"
   ]
  },
  {
   "cell_type": "code",
   "execution_count": 79,
   "metadata": {},
   "outputs": [],
   "source": [
    "#final_grouped_df[final_grouped_df[\"Country\"] == \"Iran, Islamic Rep.\"]"
   ]
  },
  {
   "cell_type": "code",
   "execution_count": 80,
   "metadata": {},
   "outputs": [],
   "source": [
    "#Now drop the rows with missing data\n",
    "last_df = final_grouped_df.dropna()\n",
    "last_df = last_df.reset_index(drop = True)"
   ]
  },
  {
   "cell_type": "code",
   "execution_count": 81,
   "metadata": {
    "scrolled": true
   },
   "outputs": [
    {
     "data": {
      "text/html": [
       "<div>\n",
       "<style scoped>\n",
       "    .dataframe tbody tr th:only-of-type {\n",
       "        vertical-align: middle;\n",
       "    }\n",
       "\n",
       "    .dataframe tbody tr th {\n",
       "        vertical-align: top;\n",
       "    }\n",
       "\n",
       "    .dataframe thead th {\n",
       "        text-align: right;\n",
       "    }\n",
       "</style>\n",
       "<table border=\"1\" class=\"dataframe\">\n",
       "  <thead>\n",
       "    <tr style=\"text-align: right;\">\n",
       "      <th></th>\n",
       "      <th>index_x</th>\n",
       "      <th>Country</th>\n",
       "      <th>Average_Land_Size</th>\n",
       "      <th>iso3_x</th>\n",
       "      <th>index_y</th>\n",
       "      <th>Value</th>\n",
       "      <th>iso3_y</th>\n",
       "      <th>index</th>\n",
       "      <th>Values</th>\n",
       "      <th>iso3</th>\n",
       "    </tr>\n",
       "  </thead>\n",
       "  <tbody>\n",
       "    <tr>\n",
       "      <th>0</th>\n",
       "      <td>0.0</td>\n",
       "      <td>Afghanistan</td>\n",
       "      <td>6.522300e+05</td>\n",
       "      <td>AFG</td>\n",
       "      <td>0.0</td>\n",
       "      <td>7.036845</td>\n",
       "      <td>AFG</td>\n",
       "      <td>0.0</td>\n",
       "      <td>0.000000</td>\n",
       "      <td>AFG</td>\n",
       "    </tr>\n",
       "    <tr>\n",
       "      <th>1</th>\n",
       "      <td>3.0</td>\n",
       "      <td>Albania</td>\n",
       "      <td>2.740000e+04</td>\n",
       "      <td>ALB</td>\n",
       "      <td>1.0</td>\n",
       "      <td>0.604709</td>\n",
       "      <td>ALB</td>\n",
       "      <td>3.0</td>\n",
       "      <td>0.032515</td>\n",
       "      <td>ALB</td>\n",
       "    </tr>\n",
       "    <tr>\n",
       "      <th>2</th>\n",
       "      <td>4.0</td>\n",
       "      <td>Algeria</td>\n",
       "      <td>2.381740e+06</td>\n",
       "      <td>DZA</td>\n",
       "      <td>2.0</td>\n",
       "      <td>43.622156</td>\n",
       "      <td>DZA</td>\n",
       "      <td>4.0</td>\n",
       "      <td>0.007239</td>\n",
       "      <td>DZA</td>\n",
       "    </tr>\n",
       "    <tr>\n",
       "      <th>3</th>\n",
       "      <td>7.0</td>\n",
       "      <td>Angola</td>\n",
       "      <td>1.246700e+06</td>\n",
       "      <td>AGO</td>\n",
       "      <td>3.0</td>\n",
       "      <td>13.153350</td>\n",
       "      <td>AGO</td>\n",
       "      <td>7.0</td>\n",
       "      <td>-0.424987</td>\n",
       "      <td>AGO</td>\n",
       "    </tr>\n",
       "    <tr>\n",
       "      <th>4</th>\n",
       "      <td>10.0</td>\n",
       "      <td>Argentina</td>\n",
       "      <td>2.736690e+06</td>\n",
       "      <td>ARG</td>\n",
       "      <td>4.0</td>\n",
       "      <td>5.647775</td>\n",
       "      <td>ARG</td>\n",
       "      <td>10.0</td>\n",
       "      <td>-0.081624</td>\n",
       "      <td>ARG</td>\n",
       "    </tr>\n",
       "  </tbody>\n",
       "</table>\n",
       "</div>"
      ],
      "text/plain": [
       "   index_x      Country  Average_Land_Size iso3_x  index_y      Value iso3_y  \\\n",
       "0      0.0  Afghanistan       6.522300e+05    AFG      0.0   7.036845    AFG   \n",
       "1      3.0      Albania       2.740000e+04    ALB      1.0   0.604709    ALB   \n",
       "2      4.0      Algeria       2.381740e+06    DZA      2.0  43.622156    DZA   \n",
       "3      7.0       Angola       1.246700e+06    AGO      3.0  13.153350    AGO   \n",
       "4     10.0    Argentina       2.736690e+06    ARG      4.0   5.647775    ARG   \n",
       "\n",
       "   index    Values iso3  \n",
       "0    0.0  0.000000  AFG  \n",
       "1    3.0  0.032515  ALB  \n",
       "2    4.0  0.007239  DZA  \n",
       "3    7.0 -0.424987  AGO  \n",
       "4   10.0 -0.081624  ARG  "
      ]
     },
     "execution_count": 81,
     "metadata": {},
     "output_type": "execute_result"
    }
   ],
   "source": [
    "last_df.head()"
   ]
  },
  {
   "cell_type": "code",
   "execution_count": 82,
   "metadata": {},
   "outputs": [
    {
     "data": {
      "text/html": [
       "<div>\n",
       "<style scoped>\n",
       "    .dataframe tbody tr th:only-of-type {\n",
       "        vertical-align: middle;\n",
       "    }\n",
       "\n",
       "    .dataframe tbody tr th {\n",
       "        vertical-align: top;\n",
       "    }\n",
       "\n",
       "    .dataframe thead th {\n",
       "        text-align: right;\n",
       "    }\n",
       "</style>\n",
       "<table border=\"1\" class=\"dataframe\">\n",
       "  <thead>\n",
       "    <tr style=\"text-align: right;\">\n",
       "      <th></th>\n",
       "      <th>Country</th>\n",
       "      <th>Average_Land_Size</th>\n",
       "      <th>Value</th>\n",
       "      <th>Values</th>\n",
       "      <th>iso3</th>\n",
       "    </tr>\n",
       "  </thead>\n",
       "  <tbody>\n",
       "    <tr>\n",
       "      <th>0</th>\n",
       "      <td>Afghanistan</td>\n",
       "      <td>6.522300e+05</td>\n",
       "      <td>7.036845</td>\n",
       "      <td>0.000000</td>\n",
       "      <td>AFG</td>\n",
       "    </tr>\n",
       "    <tr>\n",
       "      <th>1</th>\n",
       "      <td>Albania</td>\n",
       "      <td>2.740000e+04</td>\n",
       "      <td>0.604709</td>\n",
       "      <td>0.032515</td>\n",
       "      <td>ALB</td>\n",
       "    </tr>\n",
       "    <tr>\n",
       "      <th>2</th>\n",
       "      <td>Algeria</td>\n",
       "      <td>2.381740e+06</td>\n",
       "      <td>43.622156</td>\n",
       "      <td>0.007239</td>\n",
       "      <td>DZA</td>\n",
       "    </tr>\n",
       "    <tr>\n",
       "      <th>3</th>\n",
       "      <td>Angola</td>\n",
       "      <td>1.246700e+06</td>\n",
       "      <td>13.153350</td>\n",
       "      <td>-0.424987</td>\n",
       "      <td>AGO</td>\n",
       "    </tr>\n",
       "    <tr>\n",
       "      <th>4</th>\n",
       "      <td>Argentina</td>\n",
       "      <td>2.736690e+06</td>\n",
       "      <td>5.647775</td>\n",
       "      <td>-0.081624</td>\n",
       "      <td>ARG</td>\n",
       "    </tr>\n",
       "    <tr>\n",
       "      <th>...</th>\n",
       "      <td>...</td>\n",
       "      <td>...</td>\n",
       "      <td>...</td>\n",
       "      <td>...</td>\n",
       "      <td>...</td>\n",
       "    </tr>\n",
       "    <tr>\n",
       "      <th>76</th>\n",
       "      <td>Uruguay</td>\n",
       "      <td>1.750200e+05</td>\n",
       "      <td>8.289270</td>\n",
       "      <td>0.177382</td>\n",
       "      <td>URY</td>\n",
       "    </tr>\n",
       "    <tr>\n",
       "      <th>77</th>\n",
       "      <td>Uzbekistan</td>\n",
       "      <td>4.373825e+05</td>\n",
       "      <td>2.320314</td>\n",
       "      <td>0.074496</td>\n",
       "      <td>UZB</td>\n",
       "    </tr>\n",
       "    <tr>\n",
       "      <th>78</th>\n",
       "      <td>Viet Nam</td>\n",
       "      <td>3.125857e+05</td>\n",
       "      <td>1.427449</td>\n",
       "      <td>0.412612</td>\n",
       "      <td>VNM</td>\n",
       "    </tr>\n",
       "    <tr>\n",
       "      <th>79</th>\n",
       "      <td>Yemen</td>\n",
       "      <td>5.279700e+05</td>\n",
       "      <td>1.811745</td>\n",
       "      <td>0.000000</td>\n",
       "      <td>YEM</td>\n",
       "    </tr>\n",
       "    <tr>\n",
       "      <th>80</th>\n",
       "      <td>Zambia</td>\n",
       "      <td>7.433900e+05</td>\n",
       "      <td>8.250207</td>\n",
       "      <td>-0.148471</td>\n",
       "      <td>ZMB</td>\n",
       "    </tr>\n",
       "  </tbody>\n",
       "</table>\n",
       "<p>81 rows × 5 columns</p>\n",
       "</div>"
      ],
      "text/plain": [
       "        Country  Average_Land_Size      Value    Values iso3\n",
       "0   Afghanistan       6.522300e+05   7.036845  0.000000  AFG\n",
       "1       Albania       2.740000e+04   0.604709  0.032515  ALB\n",
       "2       Algeria       2.381740e+06  43.622156  0.007239  DZA\n",
       "3        Angola       1.246700e+06  13.153350 -0.424987  AGO\n",
       "4     Argentina       2.736690e+06   5.647775 -0.081624  ARG\n",
       "..          ...                ...        ...       ...  ...\n",
       "76      Uruguay       1.750200e+05   8.289270  0.177382  URY\n",
       "77   Uzbekistan       4.373825e+05   2.320314  0.074496  UZB\n",
       "78     Viet Nam       3.125857e+05   1.427449  0.412612  VNM\n",
       "79        Yemen       5.279700e+05   1.811745  0.000000  YEM\n",
       "80       Zambia       7.433900e+05   8.250207 -0.148471  ZMB\n",
       "\n",
       "[81 rows x 5 columns]"
      ]
     },
     "execution_count": 82,
     "metadata": {},
     "output_type": "execute_result"
    }
   ],
   "source": [
    "last_df = last_df.drop(columns=['index_x','index_y','iso3_y','index','iso3_x' ])\n",
    "last_df"
   ]
  },
  {
   "cell_type": "code",
   "execution_count": 83,
   "metadata": {},
   "outputs": [
    {
     "data": {
      "text/plain": [
       "0"
      ]
     },
     "execution_count": 83,
     "metadata": {},
     "output_type": "execute_result"
    }
   ],
   "source": [
    "last_df.isna().sum().sum()"
   ]
  },
  {
   "cell_type": "code",
   "execution_count": 84,
   "metadata": {
    "scrolled": false
   },
   "outputs": [
    {
     "data": {
      "text/html": [
       "<div>\n",
       "<style scoped>\n",
       "    .dataframe tbody tr th:only-of-type {\n",
       "        vertical-align: middle;\n",
       "    }\n",
       "\n",
       "    .dataframe tbody tr th {\n",
       "        vertical-align: top;\n",
       "    }\n",
       "\n",
       "    .dataframe thead th {\n",
       "        text-align: right;\n",
       "    }\n",
       "</style>\n",
       "<table border=\"1\" class=\"dataframe\">\n",
       "  <thead>\n",
       "    <tr style=\"text-align: right;\">\n",
       "      <th></th>\n",
       "      <th>Country</th>\n",
       "      <th>Average_Land_Size</th>\n",
       "      <th>Average_Corn_Field_Expansion_Rate</th>\n",
       "      <th>Average_Deforestation_Rate</th>\n",
       "      <th>iso3</th>\n",
       "    </tr>\n",
       "  </thead>\n",
       "  <tbody>\n",
       "    <tr>\n",
       "      <th>0</th>\n",
       "      <td>Afghanistan</td>\n",
       "      <td>6.522300e+05</td>\n",
       "      <td>7.036845</td>\n",
       "      <td>0.000000</td>\n",
       "      <td>AFG</td>\n",
       "    </tr>\n",
       "    <tr>\n",
       "      <th>1</th>\n",
       "      <td>Albania</td>\n",
       "      <td>2.740000e+04</td>\n",
       "      <td>0.604709</td>\n",
       "      <td>0.032515</td>\n",
       "      <td>ALB</td>\n",
       "    </tr>\n",
       "    <tr>\n",
       "      <th>2</th>\n",
       "      <td>Algeria</td>\n",
       "      <td>2.381740e+06</td>\n",
       "      <td>43.622156</td>\n",
       "      <td>0.007239</td>\n",
       "      <td>DZA</td>\n",
       "    </tr>\n",
       "    <tr>\n",
       "      <th>3</th>\n",
       "      <td>Angola</td>\n",
       "      <td>1.246700e+06</td>\n",
       "      <td>13.153350</td>\n",
       "      <td>-0.424987</td>\n",
       "      <td>AGO</td>\n",
       "    </tr>\n",
       "    <tr>\n",
       "      <th>4</th>\n",
       "      <td>Argentina</td>\n",
       "      <td>2.736690e+06</td>\n",
       "      <td>5.647775</td>\n",
       "      <td>-0.081624</td>\n",
       "      <td>ARG</td>\n",
       "    </tr>\n",
       "    <tr>\n",
       "      <th>...</th>\n",
       "      <td>...</td>\n",
       "      <td>...</td>\n",
       "      <td>...</td>\n",
       "      <td>...</td>\n",
       "      <td>...</td>\n",
       "    </tr>\n",
       "    <tr>\n",
       "      <th>76</th>\n",
       "      <td>Uruguay</td>\n",
       "      <td>1.750200e+05</td>\n",
       "      <td>8.289270</td>\n",
       "      <td>0.177382</td>\n",
       "      <td>URY</td>\n",
       "    </tr>\n",
       "    <tr>\n",
       "      <th>77</th>\n",
       "      <td>Uzbekistan</td>\n",
       "      <td>4.373825e+05</td>\n",
       "      <td>2.320314</td>\n",
       "      <td>0.074496</td>\n",
       "      <td>UZB</td>\n",
       "    </tr>\n",
       "    <tr>\n",
       "      <th>78</th>\n",
       "      <td>Viet Nam</td>\n",
       "      <td>3.125857e+05</td>\n",
       "      <td>1.427449</td>\n",
       "      <td>0.412612</td>\n",
       "      <td>VNM</td>\n",
       "    </tr>\n",
       "    <tr>\n",
       "      <th>79</th>\n",
       "      <td>Yemen</td>\n",
       "      <td>5.279700e+05</td>\n",
       "      <td>1.811745</td>\n",
       "      <td>0.000000</td>\n",
       "      <td>YEM</td>\n",
       "    </tr>\n",
       "    <tr>\n",
       "      <th>80</th>\n",
       "      <td>Zambia</td>\n",
       "      <td>7.433900e+05</td>\n",
       "      <td>8.250207</td>\n",
       "      <td>-0.148471</td>\n",
       "      <td>ZMB</td>\n",
       "    </tr>\n",
       "  </tbody>\n",
       "</table>\n",
       "<p>81 rows × 5 columns</p>\n",
       "</div>"
      ],
      "text/plain": [
       "        Country  Average_Land_Size  Average_Corn_Field_Expansion_Rate  \\\n",
       "0   Afghanistan       6.522300e+05                           7.036845   \n",
       "1       Albania       2.740000e+04                           0.604709   \n",
       "2       Algeria       2.381740e+06                          43.622156   \n",
       "3        Angola       1.246700e+06                          13.153350   \n",
       "4     Argentina       2.736690e+06                           5.647775   \n",
       "..          ...                ...                                ...   \n",
       "76      Uruguay       1.750200e+05                           8.289270   \n",
       "77   Uzbekistan       4.373825e+05                           2.320314   \n",
       "78     Viet Nam       3.125857e+05                           1.427449   \n",
       "79        Yemen       5.279700e+05                           1.811745   \n",
       "80       Zambia       7.433900e+05                           8.250207   \n",
       "\n",
       "    Average_Deforestation_Rate iso3  \n",
       "0                     0.000000  AFG  \n",
       "1                     0.032515  ALB  \n",
       "2                     0.007239  DZA  \n",
       "3                    -0.424987  AGO  \n",
       "4                    -0.081624  ARG  \n",
       "..                         ...  ...  \n",
       "76                    0.177382  URY  \n",
       "77                    0.074496  UZB  \n",
       "78                    0.412612  VNM  \n",
       "79                    0.000000  YEM  \n",
       "80                   -0.148471  ZMB  \n",
       "\n",
       "[81 rows x 5 columns]"
      ]
     },
     "execution_count": 84,
     "metadata": {},
     "output_type": "execute_result"
    }
   ],
   "source": [
    "#Renaming the columns\n",
    "last_df = last_df.rename({\"Value\":\"Average_Corn_Field_Expansion_Rate\",\n",
    "                          \"Values\":\"Average_Deforestation_Rate\"},axis = 1)\n",
    "\n",
    "last_df"
   ]
  },
  {
   "cell_type": "code",
   "execution_count": 114,
   "metadata": {},
   "outputs": [
    {
     "name": "stdout",
     "output_type": "stream",
     "text": [
      "   Country  Average_Land_Size  Average_Corn_Field_Expansion_Rate  \\\n",
      "19   China       9.388212e+06                           3.018353   \n",
      "20   China       9.388212e+06                           3.021213   \n",
      "\n",
      "    Average_Deforestation_Rate iso3  Log_Average_Corn_Field_Expansion_Rate  \\\n",
      "19                    0.217184  CHN                               1.104711   \n",
      "20                    0.217184  CHN                               1.105659   \n",
      "\n",
      "    Higher_Than_Median  \n",
      "19                   1  \n",
      "20                   1  \n"
     ]
    }
   ],
   "source": [
    "# Find duplicate countries\n",
    "duplicate_countries = last_df[last_df['Country'].duplicated(keep=False)]\n",
    "\n",
    "# Display the rows with duplicate countries\n",
    "print(duplicate_countries)"
   ]
  },
  {
   "cell_type": "code",
   "execution_count": 116,
   "metadata": {},
   "outputs": [
    {
     "data": {
      "text/html": [
       "<div>\n",
       "<style scoped>\n",
       "    .dataframe tbody tr th:only-of-type {\n",
       "        vertical-align: middle;\n",
       "    }\n",
       "\n",
       "    .dataframe tbody tr th {\n",
       "        vertical-align: top;\n",
       "    }\n",
       "\n",
       "    .dataframe thead th {\n",
       "        text-align: right;\n",
       "    }\n",
       "</style>\n",
       "<table border=\"1\" class=\"dataframe\">\n",
       "  <thead>\n",
       "    <tr style=\"text-align: right;\">\n",
       "      <th></th>\n",
       "      <th>Country</th>\n",
       "      <th>Average_Land_Size</th>\n",
       "      <th>Average_Corn_Field_Expansion_Rate</th>\n",
       "      <th>Average_Deforestation_Rate</th>\n",
       "      <th>iso3</th>\n",
       "      <th>Log_Average_Corn_Field_Expansion_Rate</th>\n",
       "      <th>Higher_Than_Median</th>\n",
       "    </tr>\n",
       "  </thead>\n",
       "  <tbody>\n",
       "    <tr>\n",
       "      <th>0</th>\n",
       "      <td>Afghanistan</td>\n",
       "      <td>6.522300e+05</td>\n",
       "      <td>7.036845</td>\n",
       "      <td>0.000000</td>\n",
       "      <td>AFG</td>\n",
       "      <td>1.951160</td>\n",
       "      <td>1</td>\n",
       "    </tr>\n",
       "    <tr>\n",
       "      <th>1</th>\n",
       "      <td>Albania</td>\n",
       "      <td>2.740000e+04</td>\n",
       "      <td>0.604709</td>\n",
       "      <td>0.032515</td>\n",
       "      <td>ALB</td>\n",
       "      <td>-0.503006</td>\n",
       "      <td>0</td>\n",
       "    </tr>\n",
       "    <tr>\n",
       "      <th>2</th>\n",
       "      <td>Algeria</td>\n",
       "      <td>2.381740e+06</td>\n",
       "      <td>43.622156</td>\n",
       "      <td>0.007239</td>\n",
       "      <td>DZA</td>\n",
       "      <td>3.775565</td>\n",
       "      <td>1</td>\n",
       "    </tr>\n",
       "    <tr>\n",
       "      <th>3</th>\n",
       "      <td>Angola</td>\n",
       "      <td>1.246700e+06</td>\n",
       "      <td>13.153350</td>\n",
       "      <td>-0.424987</td>\n",
       "      <td>AGO</td>\n",
       "      <td>2.576677</td>\n",
       "      <td>1</td>\n",
       "    </tr>\n",
       "    <tr>\n",
       "      <th>4</th>\n",
       "      <td>Argentina</td>\n",
       "      <td>2.736690e+06</td>\n",
       "      <td>5.647775</td>\n",
       "      <td>-0.081624</td>\n",
       "      <td>ARG</td>\n",
       "      <td>1.731262</td>\n",
       "      <td>1</td>\n",
       "    </tr>\n",
       "    <tr>\n",
       "      <th>...</th>\n",
       "      <td>...</td>\n",
       "      <td>...</td>\n",
       "      <td>...</td>\n",
       "      <td>...</td>\n",
       "      <td>...</td>\n",
       "      <td>...</td>\n",
       "      <td>...</td>\n",
       "    </tr>\n",
       "    <tr>\n",
       "      <th>76</th>\n",
       "      <td>Uruguay</td>\n",
       "      <td>1.750200e+05</td>\n",
       "      <td>8.289270</td>\n",
       "      <td>0.177382</td>\n",
       "      <td>URY</td>\n",
       "      <td>2.114962</td>\n",
       "      <td>0</td>\n",
       "    </tr>\n",
       "    <tr>\n",
       "      <th>77</th>\n",
       "      <td>Uzbekistan</td>\n",
       "      <td>4.373825e+05</td>\n",
       "      <td>2.320314</td>\n",
       "      <td>0.074496</td>\n",
       "      <td>UZB</td>\n",
       "      <td>0.841703</td>\n",
       "      <td>1</td>\n",
       "    </tr>\n",
       "    <tr>\n",
       "      <th>78</th>\n",
       "      <td>Viet Nam</td>\n",
       "      <td>3.125857e+05</td>\n",
       "      <td>1.427449</td>\n",
       "      <td>0.412612</td>\n",
       "      <td>VNM</td>\n",
       "      <td>0.355890</td>\n",
       "      <td>1</td>\n",
       "    </tr>\n",
       "    <tr>\n",
       "      <th>79</th>\n",
       "      <td>Yemen</td>\n",
       "      <td>5.279700e+05</td>\n",
       "      <td>1.811745</td>\n",
       "      <td>0.000000</td>\n",
       "      <td>YEM</td>\n",
       "      <td>0.594291</td>\n",
       "      <td>1</td>\n",
       "    </tr>\n",
       "    <tr>\n",
       "      <th>80</th>\n",
       "      <td>Zambia</td>\n",
       "      <td>7.433900e+05</td>\n",
       "      <td>8.250207</td>\n",
       "      <td>-0.148471</td>\n",
       "      <td>ZMB</td>\n",
       "      <td>2.110238</td>\n",
       "      <td>1</td>\n",
       "    </tr>\n",
       "  </tbody>\n",
       "</table>\n",
       "<p>80 rows × 7 columns</p>\n",
       "</div>"
      ],
      "text/plain": [
       "        Country  Average_Land_Size  Average_Corn_Field_Expansion_Rate  \\\n",
       "0   Afghanistan       6.522300e+05                           7.036845   \n",
       "1       Albania       2.740000e+04                           0.604709   \n",
       "2       Algeria       2.381740e+06                          43.622156   \n",
       "3        Angola       1.246700e+06                          13.153350   \n",
       "4     Argentina       2.736690e+06                           5.647775   \n",
       "..          ...                ...                                ...   \n",
       "76      Uruguay       1.750200e+05                           8.289270   \n",
       "77   Uzbekistan       4.373825e+05                           2.320314   \n",
       "78     Viet Nam       3.125857e+05                           1.427449   \n",
       "79        Yemen       5.279700e+05                           1.811745   \n",
       "80       Zambia       7.433900e+05                           8.250207   \n",
       "\n",
       "    Average_Deforestation_Rate iso3  Log_Average_Corn_Field_Expansion_Rate  \\\n",
       "0                     0.000000  AFG                               1.951160   \n",
       "1                     0.032515  ALB                              -0.503006   \n",
       "2                     0.007239  DZA                               3.775565   \n",
       "3                    -0.424987  AGO                               2.576677   \n",
       "4                    -0.081624  ARG                               1.731262   \n",
       "..                         ...  ...                                    ...   \n",
       "76                    0.177382  URY                               2.114962   \n",
       "77                    0.074496  UZB                               0.841703   \n",
       "78                    0.412612  VNM                               0.355890   \n",
       "79                    0.000000  YEM                               0.594291   \n",
       "80                   -0.148471  ZMB                               2.110238   \n",
       "\n",
       "    Higher_Than_Median  \n",
       "0                    1  \n",
       "1                    0  \n",
       "2                    1  \n",
       "3                    1  \n",
       "4                    1  \n",
       "..                 ...  \n",
       "76                   0  \n",
       "77                   1  \n",
       "78                   1  \n",
       "79                   1  \n",
       "80                   1  \n",
       "\n",
       "[80 rows x 7 columns]"
      ]
     },
     "execution_count": 116,
     "metadata": {},
     "output_type": "execute_result"
    }
   ],
   "source": [
    "# Remove duplicates and keep the first occurrence\n",
    "last_df = last_df.drop_duplicates(subset='Country', keep='first')\n",
    "\n",
    "# Display the updated DataFrame\n",
    "last_df"
   ]
  },
  {
   "cell_type": "code",
   "execution_count": 117,
   "metadata": {},
   "outputs": [
    {
     "data": {
      "application/vnd.plotly.v1+json": {
       "config": {
        "plotlyServerURL": "https://plot.ly"
       },
       "data": [
        {
         "coloraxis": "coloraxis",
         "geo": "geo",
         "hovertemplate": "<b>%{hovertext}</b><br><br>iso3=%{location}<br>Average_Deforestation_Rate=%{z}<extra></extra>",
         "hovertext": [
          "Afghanistan",
          "Albania",
          "Algeria",
          "Angola",
          "Argentina",
          "Armenia",
          "Australia",
          "Austria",
          "Azerbaijan",
          "Bangladesh",
          "Belarus",
          "Belgium",
          "Belize",
          "Benin",
          "Brazil",
          "Bulgaria",
          "Burkina Faso",
          "Canada",
          "Chile",
          "China",
          "Colombia",
          "Costa Rica",
          "Croatia",
          "Cuba",
          "Czechia",
          "Dominican Republic",
          "Ecuador",
          "Egypt",
          "El Salvador",
          "Ethiopia",
          "France",
          "Georgia",
          "Germany",
          "Greece",
          "Guinea",
          "Hungary",
          "India",
          "Italy",
          "Jamaica",
          "Kazakhstan",
          "Kenya",
          "Korea, Republic of",
          "Lao People's Democratic Republic",
          "Luxembourg",
          "Malawi",
          "Mali",
          "Mauritius",
          "Mexico",
          "Morocco",
          "Myanmar",
          "Nepal",
          "Netherlands",
          "New Zealand",
          "Nicaragua",
          "Niger",
          "North Macedonia",
          "Pakistan",
          "Panama",
          "Paraguay",
          "Peru",
          "Philippines",
          "Poland",
          "Portugal",
          "Romania",
          "Russian Federation",
          "Senegal",
          "Slovenia",
          "South Africa",
          "Spain",
          "Suriname",
          "Switzerland",
          "Syrian Arab Republic",
          "Togo",
          "Türkiye",
          "Ukraine",
          "Uruguay",
          "Uzbekistan",
          "Viet Nam",
          "Yemen",
          "Zambia"
         ],
         "locationmode": "ISO-3",
         "locations": [
          "AFG",
          "ALB",
          "DZA",
          "AGO",
          "ARG",
          "ARM",
          "AUS",
          "AUT",
          "AZE",
          "BGD",
          "BLR",
          "BEL",
          "BLZ",
          "BEN",
          "BRA",
          "BGR",
          "BFA",
          "CAN",
          "CHL",
          "CHN",
          "COL",
          "CRI",
          "HRV",
          "CUB",
          "CZE",
          "DOM",
          "ECU",
          "EGY",
          "SLV",
          "ETH",
          "FRA",
          "GEO",
          "DEU",
          "GRC",
          "GIN",
          "HUN",
          "IND",
          "ITA",
          "JAM",
          "KAZ",
          "KEN",
          "KOR",
          "LAO",
          "LUX",
          "MWI",
          "MLI",
          "MUS",
          "MEX",
          "MAR",
          "MMR",
          "NPL",
          "NLD",
          "NZL",
          "NIC",
          "NER",
          "MKD",
          "PAK",
          "PAN",
          "PRY",
          "PER",
          "PHL",
          "POL",
          "PRT",
          "ROU",
          "RUS",
          "SEN",
          "SVN",
          "ZAF",
          "ESP",
          "SUR",
          "CHE",
          "SYR",
          "TGO",
          "TUR",
          "UKR",
          "URY",
          "UZB",
          "VNM",
          "YEM",
          "ZMB"
         ],
         "name": "",
         "type": "choropleth",
         "z": [
          0,
          0.032514930325149294,
          0.0072394070525282905,
          -0.4249873010201481,
          -0.08162370833511877,
          -0.0069930069930070485,
          0.01196176347817467,
          0.03558366015952042,
          0.08554083530512037,
          -0.012895060305754087,
          0.1130910005335085,
          0.03302509907529712,
          -0.38541708182216733,
          -0.423264213615402,
          -0.30290141379867724,
          0.24877306564852653,
          -0.1744583997873472,
          0.030779367806980804,
          0.1538455519185333,
          0.21718434143718343,
          -0.1553883116883115,
          0.17272015098102048,
          0.044668060577838856,
          0.3891312452845698,
          0.026175368586183755,
          0.2022853312831181,
          -0.23736438308027888,
          -0.0006497746565052811,
          -0.2073095823095823,
          -0.15769063726751817,
          0.17006774045358258,
          0.04042439069061581,
          0.006593758258035946,
          0.1063440299033782,
          -0.1442883992127033,
          0.047432049835059005,
          0.0739242729495623,
          0.1922474253572467,
          0.33481616721228913,
          0.005505551121841832,
          -0.027960846827909416,
          -0.12832328899062614,
          -0.17015913029777865,
          0.03531190653927041,
          -0.42523238322983753,
          0,
          -0.055500963043310876,
          -0.06586947616030127,
          0.02509692827898068,
          -0.45738784663895066,
          0.057478517297143,
          0.016058377705297066,
          0.010027361457804383,
          -0.7901060631241783,
          -0.009359323080014647,
          0.09344570057118352,
          -0.04874594324314127,
          -0.14103041772541305,
          -0.8201637530604302,
          -0.11151621803977302,
          -0.01307673779753477,
          0.06557862011372105,
          0.01350324517610314,
          0.10921025782856524,
          0.017385734961721445,
          -0.19477484028463107,
          0.00680291597546527,
          -0.028642107795344544,
          0.1325626983560168,
          -0.04569542540792523,
          0.08834696134823826,
          0.022365295032519696,
          -0.05194303765732319,
          0.1315868427922272,
          0.014527509069781014,
          0.17738232513686747,
          0.07449625334335491,
          0.4126124465257109,
          0,
          -0.148471357870395
         ]
        }
       ],
       "layout": {
        "coloraxis": {
         "colorbar": {
          "title": {
           "text": "Average_Deforestation_Rate"
          }
         },
         "colorscale": [
          [
           0,
           "#0d0887"
          ],
          [
           0.1111111111111111,
           "#46039f"
          ],
          [
           0.2222222222222222,
           "#7201a8"
          ],
          [
           0.3333333333333333,
           "#9c179e"
          ],
          [
           0.4444444444444444,
           "#bd3786"
          ],
          [
           0.5555555555555556,
           "#d8576b"
          ],
          [
           0.6666666666666666,
           "#ed7953"
          ],
          [
           0.7777777777777778,
           "#fb9f3a"
          ],
          [
           0.8888888888888888,
           "#fdca26"
          ],
          [
           1,
           "#f0f921"
          ]
         ]
        },
        "geo": {
         "center": {},
         "domain": {
          "x": [
           0,
           1
          ],
          "y": [
           0,
           1
          ]
         }
        },
        "legend": {
         "tracegroupgap": 0
        },
        "template": {
         "data": {
          "bar": [
           {
            "error_x": {
             "color": "#2a3f5f"
            },
            "error_y": {
             "color": "#2a3f5f"
            },
            "marker": {
             "line": {
              "color": "#E5ECF6",
              "width": 0.5
             },
             "pattern": {
              "fillmode": "overlay",
              "size": 10,
              "solidity": 0.2
             }
            },
            "type": "bar"
           }
          ],
          "barpolar": [
           {
            "marker": {
             "line": {
              "color": "#E5ECF6",
              "width": 0.5
             },
             "pattern": {
              "fillmode": "overlay",
              "size": 10,
              "solidity": 0.2
             }
            },
            "type": "barpolar"
           }
          ],
          "carpet": [
           {
            "aaxis": {
             "endlinecolor": "#2a3f5f",
             "gridcolor": "white",
             "linecolor": "white",
             "minorgridcolor": "white",
             "startlinecolor": "#2a3f5f"
            },
            "baxis": {
             "endlinecolor": "#2a3f5f",
             "gridcolor": "white",
             "linecolor": "white",
             "minorgridcolor": "white",
             "startlinecolor": "#2a3f5f"
            },
            "type": "carpet"
           }
          ],
          "choropleth": [
           {
            "colorbar": {
             "outlinewidth": 0,
             "ticks": ""
            },
            "type": "choropleth"
           }
          ],
          "contour": [
           {
            "colorbar": {
             "outlinewidth": 0,
             "ticks": ""
            },
            "colorscale": [
             [
              0,
              "#0d0887"
             ],
             [
              0.1111111111111111,
              "#46039f"
             ],
             [
              0.2222222222222222,
              "#7201a8"
             ],
             [
              0.3333333333333333,
              "#9c179e"
             ],
             [
              0.4444444444444444,
              "#bd3786"
             ],
             [
              0.5555555555555556,
              "#d8576b"
             ],
             [
              0.6666666666666666,
              "#ed7953"
             ],
             [
              0.7777777777777778,
              "#fb9f3a"
             ],
             [
              0.8888888888888888,
              "#fdca26"
             ],
             [
              1,
              "#f0f921"
             ]
            ],
            "type": "contour"
           }
          ],
          "contourcarpet": [
           {
            "colorbar": {
             "outlinewidth": 0,
             "ticks": ""
            },
            "type": "contourcarpet"
           }
          ],
          "heatmap": [
           {
            "colorbar": {
             "outlinewidth": 0,
             "ticks": ""
            },
            "colorscale": [
             [
              0,
              "#0d0887"
             ],
             [
              0.1111111111111111,
              "#46039f"
             ],
             [
              0.2222222222222222,
              "#7201a8"
             ],
             [
              0.3333333333333333,
              "#9c179e"
             ],
             [
              0.4444444444444444,
              "#bd3786"
             ],
             [
              0.5555555555555556,
              "#d8576b"
             ],
             [
              0.6666666666666666,
              "#ed7953"
             ],
             [
              0.7777777777777778,
              "#fb9f3a"
             ],
             [
              0.8888888888888888,
              "#fdca26"
             ],
             [
              1,
              "#f0f921"
             ]
            ],
            "type": "heatmap"
           }
          ],
          "heatmapgl": [
           {
            "colorbar": {
             "outlinewidth": 0,
             "ticks": ""
            },
            "colorscale": [
             [
              0,
              "#0d0887"
             ],
             [
              0.1111111111111111,
              "#46039f"
             ],
             [
              0.2222222222222222,
              "#7201a8"
             ],
             [
              0.3333333333333333,
              "#9c179e"
             ],
             [
              0.4444444444444444,
              "#bd3786"
             ],
             [
              0.5555555555555556,
              "#d8576b"
             ],
             [
              0.6666666666666666,
              "#ed7953"
             ],
             [
              0.7777777777777778,
              "#fb9f3a"
             ],
             [
              0.8888888888888888,
              "#fdca26"
             ],
             [
              1,
              "#f0f921"
             ]
            ],
            "type": "heatmapgl"
           }
          ],
          "histogram": [
           {
            "marker": {
             "pattern": {
              "fillmode": "overlay",
              "size": 10,
              "solidity": 0.2
             }
            },
            "type": "histogram"
           }
          ],
          "histogram2d": [
           {
            "colorbar": {
             "outlinewidth": 0,
             "ticks": ""
            },
            "colorscale": [
             [
              0,
              "#0d0887"
             ],
             [
              0.1111111111111111,
              "#46039f"
             ],
             [
              0.2222222222222222,
              "#7201a8"
             ],
             [
              0.3333333333333333,
              "#9c179e"
             ],
             [
              0.4444444444444444,
              "#bd3786"
             ],
             [
              0.5555555555555556,
              "#d8576b"
             ],
             [
              0.6666666666666666,
              "#ed7953"
             ],
             [
              0.7777777777777778,
              "#fb9f3a"
             ],
             [
              0.8888888888888888,
              "#fdca26"
             ],
             [
              1,
              "#f0f921"
             ]
            ],
            "type": "histogram2d"
           }
          ],
          "histogram2dcontour": [
           {
            "colorbar": {
             "outlinewidth": 0,
             "ticks": ""
            },
            "colorscale": [
             [
              0,
              "#0d0887"
             ],
             [
              0.1111111111111111,
              "#46039f"
             ],
             [
              0.2222222222222222,
              "#7201a8"
             ],
             [
              0.3333333333333333,
              "#9c179e"
             ],
             [
              0.4444444444444444,
              "#bd3786"
             ],
             [
              0.5555555555555556,
              "#d8576b"
             ],
             [
              0.6666666666666666,
              "#ed7953"
             ],
             [
              0.7777777777777778,
              "#fb9f3a"
             ],
             [
              0.8888888888888888,
              "#fdca26"
             ],
             [
              1,
              "#f0f921"
             ]
            ],
            "type": "histogram2dcontour"
           }
          ],
          "mesh3d": [
           {
            "colorbar": {
             "outlinewidth": 0,
             "ticks": ""
            },
            "type": "mesh3d"
           }
          ],
          "parcoords": [
           {
            "line": {
             "colorbar": {
              "outlinewidth": 0,
              "ticks": ""
             }
            },
            "type": "parcoords"
           }
          ],
          "pie": [
           {
            "automargin": true,
            "type": "pie"
           }
          ],
          "scatter": [
           {
            "fillpattern": {
             "fillmode": "overlay",
             "size": 10,
             "solidity": 0.2
            },
            "type": "scatter"
           }
          ],
          "scatter3d": [
           {
            "line": {
             "colorbar": {
              "outlinewidth": 0,
              "ticks": ""
             }
            },
            "marker": {
             "colorbar": {
              "outlinewidth": 0,
              "ticks": ""
             }
            },
            "type": "scatter3d"
           }
          ],
          "scattercarpet": [
           {
            "marker": {
             "colorbar": {
              "outlinewidth": 0,
              "ticks": ""
             }
            },
            "type": "scattercarpet"
           }
          ],
          "scattergeo": [
           {
            "marker": {
             "colorbar": {
              "outlinewidth": 0,
              "ticks": ""
             }
            },
            "type": "scattergeo"
           }
          ],
          "scattergl": [
           {
            "marker": {
             "colorbar": {
              "outlinewidth": 0,
              "ticks": ""
             }
            },
            "type": "scattergl"
           }
          ],
          "scattermapbox": [
           {
            "marker": {
             "colorbar": {
              "outlinewidth": 0,
              "ticks": ""
             }
            },
            "type": "scattermapbox"
           }
          ],
          "scatterpolar": [
           {
            "marker": {
             "colorbar": {
              "outlinewidth": 0,
              "ticks": ""
             }
            },
            "type": "scatterpolar"
           }
          ],
          "scatterpolargl": [
           {
            "marker": {
             "colorbar": {
              "outlinewidth": 0,
              "ticks": ""
             }
            },
            "type": "scatterpolargl"
           }
          ],
          "scatterternary": [
           {
            "marker": {
             "colorbar": {
              "outlinewidth": 0,
              "ticks": ""
             }
            },
            "type": "scatterternary"
           }
          ],
          "surface": [
           {
            "colorbar": {
             "outlinewidth": 0,
             "ticks": ""
            },
            "colorscale": [
             [
              0,
              "#0d0887"
             ],
             [
              0.1111111111111111,
              "#46039f"
             ],
             [
              0.2222222222222222,
              "#7201a8"
             ],
             [
              0.3333333333333333,
              "#9c179e"
             ],
             [
              0.4444444444444444,
              "#bd3786"
             ],
             [
              0.5555555555555556,
              "#d8576b"
             ],
             [
              0.6666666666666666,
              "#ed7953"
             ],
             [
              0.7777777777777778,
              "#fb9f3a"
             ],
             [
              0.8888888888888888,
              "#fdca26"
             ],
             [
              1,
              "#f0f921"
             ]
            ],
            "type": "surface"
           }
          ],
          "table": [
           {
            "cells": {
             "fill": {
              "color": "#EBF0F8"
             },
             "line": {
              "color": "white"
             }
            },
            "header": {
             "fill": {
              "color": "#C8D4E3"
             },
             "line": {
              "color": "white"
             }
            },
            "type": "table"
           }
          ]
         },
         "layout": {
          "annotationdefaults": {
           "arrowcolor": "#2a3f5f",
           "arrowhead": 0,
           "arrowwidth": 1
          },
          "autotypenumbers": "strict",
          "coloraxis": {
           "colorbar": {
            "outlinewidth": 0,
            "ticks": ""
           }
          },
          "colorscale": {
           "diverging": [
            [
             0,
             "#8e0152"
            ],
            [
             0.1,
             "#c51b7d"
            ],
            [
             0.2,
             "#de77ae"
            ],
            [
             0.3,
             "#f1b6da"
            ],
            [
             0.4,
             "#fde0ef"
            ],
            [
             0.5,
             "#f7f7f7"
            ],
            [
             0.6,
             "#e6f5d0"
            ],
            [
             0.7,
             "#b8e186"
            ],
            [
             0.8,
             "#7fbc41"
            ],
            [
             0.9,
             "#4d9221"
            ],
            [
             1,
             "#276419"
            ]
           ],
           "sequential": [
            [
             0,
             "#0d0887"
            ],
            [
             0.1111111111111111,
             "#46039f"
            ],
            [
             0.2222222222222222,
             "#7201a8"
            ],
            [
             0.3333333333333333,
             "#9c179e"
            ],
            [
             0.4444444444444444,
             "#bd3786"
            ],
            [
             0.5555555555555556,
             "#d8576b"
            ],
            [
             0.6666666666666666,
             "#ed7953"
            ],
            [
             0.7777777777777778,
             "#fb9f3a"
            ],
            [
             0.8888888888888888,
             "#fdca26"
            ],
            [
             1,
             "#f0f921"
            ]
           ],
           "sequentialminus": [
            [
             0,
             "#0d0887"
            ],
            [
             0.1111111111111111,
             "#46039f"
            ],
            [
             0.2222222222222222,
             "#7201a8"
            ],
            [
             0.3333333333333333,
             "#9c179e"
            ],
            [
             0.4444444444444444,
             "#bd3786"
            ],
            [
             0.5555555555555556,
             "#d8576b"
            ],
            [
             0.6666666666666666,
             "#ed7953"
            ],
            [
             0.7777777777777778,
             "#fb9f3a"
            ],
            [
             0.8888888888888888,
             "#fdca26"
            ],
            [
             1,
             "#f0f921"
            ]
           ]
          },
          "colorway": [
           "#636efa",
           "#EF553B",
           "#00cc96",
           "#ab63fa",
           "#FFA15A",
           "#19d3f3",
           "#FF6692",
           "#B6E880",
           "#FF97FF",
           "#FECB52"
          ],
          "font": {
           "color": "#2a3f5f"
          },
          "geo": {
           "bgcolor": "white",
           "lakecolor": "white",
           "landcolor": "#E5ECF6",
           "showlakes": true,
           "showland": true,
           "subunitcolor": "white"
          },
          "hoverlabel": {
           "align": "left"
          },
          "hovermode": "closest",
          "mapbox": {
           "style": "light"
          },
          "paper_bgcolor": "white",
          "plot_bgcolor": "#E5ECF6",
          "polar": {
           "angularaxis": {
            "gridcolor": "white",
            "linecolor": "white",
            "ticks": ""
           },
           "bgcolor": "#E5ECF6",
           "radialaxis": {
            "gridcolor": "white",
            "linecolor": "white",
            "ticks": ""
           }
          },
          "scene": {
           "xaxis": {
            "backgroundcolor": "#E5ECF6",
            "gridcolor": "white",
            "gridwidth": 2,
            "linecolor": "white",
            "showbackground": true,
            "ticks": "",
            "zerolinecolor": "white"
           },
           "yaxis": {
            "backgroundcolor": "#E5ECF6",
            "gridcolor": "white",
            "gridwidth": 2,
            "linecolor": "white",
            "showbackground": true,
            "ticks": "",
            "zerolinecolor": "white"
           },
           "zaxis": {
            "backgroundcolor": "#E5ECF6",
            "gridcolor": "white",
            "gridwidth": 2,
            "linecolor": "white",
            "showbackground": true,
            "ticks": "",
            "zerolinecolor": "white"
           }
          },
          "shapedefaults": {
           "line": {
            "color": "#2a3f5f"
           }
          },
          "ternary": {
           "aaxis": {
            "gridcolor": "white",
            "linecolor": "white",
            "ticks": ""
           },
           "baxis": {
            "gridcolor": "white",
            "linecolor": "white",
            "ticks": ""
           },
           "bgcolor": "#E5ECF6",
           "caxis": {
            "gridcolor": "white",
            "linecolor": "white",
            "ticks": ""
           }
          },
          "title": {
           "x": 0.05
          },
          "xaxis": {
           "automargin": true,
           "gridcolor": "white",
           "linecolor": "white",
           "ticks": "",
           "title": {
            "standoff": 15
           },
           "zerolinecolor": "white",
           "zerolinewidth": 2
          },
          "yaxis": {
           "automargin": true,
           "gridcolor": "white",
           "linecolor": "white",
           "ticks": "",
           "title": {
            "standoff": 15
           },
           "zerolinecolor": "white",
           "zerolinewidth": 2
          }
         }
        },
        "title": {
         "text": "Average Deforestation Rate per Country"
        }
       }
      },
      "text/html": [
       "<div>                            <div id=\"3f538e85-2c42-4d6a-b99d-370b80dffae1\" class=\"plotly-graph-div\" style=\"height:525px; width:100%;\"></div>            <script type=\"text/javascript\">                require([\"plotly\"], function(Plotly) {                    window.PLOTLYENV=window.PLOTLYENV || {};                                    if (document.getElementById(\"3f538e85-2c42-4d6a-b99d-370b80dffae1\")) {                    Plotly.newPlot(                        \"3f538e85-2c42-4d6a-b99d-370b80dffae1\",                        [{\"coloraxis\":\"coloraxis\",\"geo\":\"geo\",\"hovertemplate\":\"<b>%{hovertext}</b><br><br>iso3=%{location}<br>Average_Deforestation_Rate=%{z}<extra></extra>\",\"hovertext\":[\"Afghanistan\",\"Albania\",\"Algeria\",\"Angola\",\"Argentina\",\"Armenia\",\"Australia\",\"Austria\",\"Azerbaijan\",\"Bangladesh\",\"Belarus\",\"Belgium\",\"Belize\",\"Benin\",\"Brazil\",\"Bulgaria\",\"Burkina Faso\",\"Canada\",\"Chile\",\"China\",\"Colombia\",\"Costa Rica\",\"Croatia\",\"Cuba\",\"Czechia\",\"Dominican Republic\",\"Ecuador\",\"Egypt\",\"El Salvador\",\"Ethiopia\",\"France\",\"Georgia\",\"Germany\",\"Greece\",\"Guinea\",\"Hungary\",\"India\",\"Italy\",\"Jamaica\",\"Kazakhstan\",\"Kenya\",\"Korea, Republic of\",\"Lao People's Democratic Republic\",\"Luxembourg\",\"Malawi\",\"Mali\",\"Mauritius\",\"Mexico\",\"Morocco\",\"Myanmar\",\"Nepal\",\"Netherlands\",\"New Zealand\",\"Nicaragua\",\"Niger\",\"North Macedonia\",\"Pakistan\",\"Panama\",\"Paraguay\",\"Peru\",\"Philippines\",\"Poland\",\"Portugal\",\"Romania\",\"Russian Federation\",\"Senegal\",\"Slovenia\",\"South Africa\",\"Spain\",\"Suriname\",\"Switzerland\",\"Syrian Arab Republic\",\"Togo\",\"T\\u00fcrkiye\",\"Ukraine\",\"Uruguay\",\"Uzbekistan\",\"Viet Nam\",\"Yemen\",\"Zambia\"],\"locationmode\":\"ISO-3\",\"locations\":[\"AFG\",\"ALB\",\"DZA\",\"AGO\",\"ARG\",\"ARM\",\"AUS\",\"AUT\",\"AZE\",\"BGD\",\"BLR\",\"BEL\",\"BLZ\",\"BEN\",\"BRA\",\"BGR\",\"BFA\",\"CAN\",\"CHL\",\"CHN\",\"COL\",\"CRI\",\"HRV\",\"CUB\",\"CZE\",\"DOM\",\"ECU\",\"EGY\",\"SLV\",\"ETH\",\"FRA\",\"GEO\",\"DEU\",\"GRC\",\"GIN\",\"HUN\",\"IND\",\"ITA\",\"JAM\",\"KAZ\",\"KEN\",\"KOR\",\"LAO\",\"LUX\",\"MWI\",\"MLI\",\"MUS\",\"MEX\",\"MAR\",\"MMR\",\"NPL\",\"NLD\",\"NZL\",\"NIC\",\"NER\",\"MKD\",\"PAK\",\"PAN\",\"PRY\",\"PER\",\"PHL\",\"POL\",\"PRT\",\"ROU\",\"RUS\",\"SEN\",\"SVN\",\"ZAF\",\"ESP\",\"SUR\",\"CHE\",\"SYR\",\"TGO\",\"TUR\",\"UKR\",\"URY\",\"UZB\",\"VNM\",\"YEM\",\"ZMB\"],\"name\":\"\",\"z\":[0.0,0.032514930325149294,0.0072394070525282905,-0.4249873010201481,-0.08162370833511877,-0.0069930069930070485,0.01196176347817467,0.03558366015952042,0.08554083530512037,-0.012895060305754087,0.1130910005335085,0.03302509907529712,-0.38541708182216733,-0.423264213615402,-0.30290141379867724,0.24877306564852653,-0.1744583997873472,0.030779367806980804,0.1538455519185333,0.21718434143718343,-0.1553883116883115,0.17272015098102048,0.044668060577838856,0.3891312452845698,0.026175368586183755,0.2022853312831181,-0.23736438308027888,-0.0006497746565052811,-0.2073095823095823,-0.15769063726751817,0.17006774045358258,0.04042439069061581,0.006593758258035946,0.1063440299033782,-0.1442883992127033,0.047432049835059005,0.0739242729495623,0.1922474253572467,0.33481616721228913,0.005505551121841832,-0.027960846827909416,-0.12832328899062614,-0.17015913029777865,0.03531190653927041,-0.42523238322983753,0.0,-0.055500963043310876,-0.06586947616030127,0.02509692827898068,-0.45738784663895066,0.057478517297143,0.016058377705297066,0.010027361457804383,-0.7901060631241783,-0.009359323080014647,0.09344570057118352,-0.04874594324314127,-0.14103041772541305,-0.8201637530604302,-0.11151621803977302,-0.01307673779753477,0.06557862011372105,0.01350324517610314,0.10921025782856524,0.017385734961721445,-0.19477484028463107,0.00680291597546527,-0.028642107795344544,0.1325626983560168,-0.04569542540792523,0.08834696134823826,0.022365295032519696,-0.05194303765732319,0.1315868427922272,0.014527509069781014,0.17738232513686747,0.07449625334335491,0.4126124465257109,0.0,-0.148471357870395],\"type\":\"choropleth\"}],                        {\"template\":{\"data\":{\"histogram2dcontour\":[{\"type\":\"histogram2dcontour\",\"colorbar\":{\"outlinewidth\":0,\"ticks\":\"\"},\"colorscale\":[[0.0,\"#0d0887\"],[0.1111111111111111,\"#46039f\"],[0.2222222222222222,\"#7201a8\"],[0.3333333333333333,\"#9c179e\"],[0.4444444444444444,\"#bd3786\"],[0.5555555555555556,\"#d8576b\"],[0.6666666666666666,\"#ed7953\"],[0.7777777777777778,\"#fb9f3a\"],[0.8888888888888888,\"#fdca26\"],[1.0,\"#f0f921\"]]}],\"choropleth\":[{\"type\":\"choropleth\",\"colorbar\":{\"outlinewidth\":0,\"ticks\":\"\"}}],\"histogram2d\":[{\"type\":\"histogram2d\",\"colorbar\":{\"outlinewidth\":0,\"ticks\":\"\"},\"colorscale\":[[0.0,\"#0d0887\"],[0.1111111111111111,\"#46039f\"],[0.2222222222222222,\"#7201a8\"],[0.3333333333333333,\"#9c179e\"],[0.4444444444444444,\"#bd3786\"],[0.5555555555555556,\"#d8576b\"],[0.6666666666666666,\"#ed7953\"],[0.7777777777777778,\"#fb9f3a\"],[0.8888888888888888,\"#fdca26\"],[1.0,\"#f0f921\"]]}],\"heatmap\":[{\"type\":\"heatmap\",\"colorbar\":{\"outlinewidth\":0,\"ticks\":\"\"},\"colorscale\":[[0.0,\"#0d0887\"],[0.1111111111111111,\"#46039f\"],[0.2222222222222222,\"#7201a8\"],[0.3333333333333333,\"#9c179e\"],[0.4444444444444444,\"#bd3786\"],[0.5555555555555556,\"#d8576b\"],[0.6666666666666666,\"#ed7953\"],[0.7777777777777778,\"#fb9f3a\"],[0.8888888888888888,\"#fdca26\"],[1.0,\"#f0f921\"]]}],\"heatmapgl\":[{\"type\":\"heatmapgl\",\"colorbar\":{\"outlinewidth\":0,\"ticks\":\"\"},\"colorscale\":[[0.0,\"#0d0887\"],[0.1111111111111111,\"#46039f\"],[0.2222222222222222,\"#7201a8\"],[0.3333333333333333,\"#9c179e\"],[0.4444444444444444,\"#bd3786\"],[0.5555555555555556,\"#d8576b\"],[0.6666666666666666,\"#ed7953\"],[0.7777777777777778,\"#fb9f3a\"],[0.8888888888888888,\"#fdca26\"],[1.0,\"#f0f921\"]]}],\"contourcarpet\":[{\"type\":\"contourcarpet\",\"colorbar\":{\"outlinewidth\":0,\"ticks\":\"\"}}],\"contour\":[{\"type\":\"contour\",\"colorbar\":{\"outlinewidth\":0,\"ticks\":\"\"},\"colorscale\":[[0.0,\"#0d0887\"],[0.1111111111111111,\"#46039f\"],[0.2222222222222222,\"#7201a8\"],[0.3333333333333333,\"#9c179e\"],[0.4444444444444444,\"#bd3786\"],[0.5555555555555556,\"#d8576b\"],[0.6666666666666666,\"#ed7953\"],[0.7777777777777778,\"#fb9f3a\"],[0.8888888888888888,\"#fdca26\"],[1.0,\"#f0f921\"]]}],\"surface\":[{\"type\":\"surface\",\"colorbar\":{\"outlinewidth\":0,\"ticks\":\"\"},\"colorscale\":[[0.0,\"#0d0887\"],[0.1111111111111111,\"#46039f\"],[0.2222222222222222,\"#7201a8\"],[0.3333333333333333,\"#9c179e\"],[0.4444444444444444,\"#bd3786\"],[0.5555555555555556,\"#d8576b\"],[0.6666666666666666,\"#ed7953\"],[0.7777777777777778,\"#fb9f3a\"],[0.8888888888888888,\"#fdca26\"],[1.0,\"#f0f921\"]]}],\"mesh3d\":[{\"type\":\"mesh3d\",\"colorbar\":{\"outlinewidth\":0,\"ticks\":\"\"}}],\"scatter\":[{\"fillpattern\":{\"fillmode\":\"overlay\",\"size\":10,\"solidity\":0.2},\"type\":\"scatter\"}],\"parcoords\":[{\"type\":\"parcoords\",\"line\":{\"colorbar\":{\"outlinewidth\":0,\"ticks\":\"\"}}}],\"scatterpolargl\":[{\"type\":\"scatterpolargl\",\"marker\":{\"colorbar\":{\"outlinewidth\":0,\"ticks\":\"\"}}}],\"bar\":[{\"error_x\":{\"color\":\"#2a3f5f\"},\"error_y\":{\"color\":\"#2a3f5f\"},\"marker\":{\"line\":{\"color\":\"#E5ECF6\",\"width\":0.5},\"pattern\":{\"fillmode\":\"overlay\",\"size\":10,\"solidity\":0.2}},\"type\":\"bar\"}],\"scattergeo\":[{\"type\":\"scattergeo\",\"marker\":{\"colorbar\":{\"outlinewidth\":0,\"ticks\":\"\"}}}],\"scatterpolar\":[{\"type\":\"scatterpolar\",\"marker\":{\"colorbar\":{\"outlinewidth\":0,\"ticks\":\"\"}}}],\"histogram\":[{\"marker\":{\"pattern\":{\"fillmode\":\"overlay\",\"size\":10,\"solidity\":0.2}},\"type\":\"histogram\"}],\"scattergl\":[{\"type\":\"scattergl\",\"marker\":{\"colorbar\":{\"outlinewidth\":0,\"ticks\":\"\"}}}],\"scatter3d\":[{\"type\":\"scatter3d\",\"line\":{\"colorbar\":{\"outlinewidth\":0,\"ticks\":\"\"}},\"marker\":{\"colorbar\":{\"outlinewidth\":0,\"ticks\":\"\"}}}],\"scattermapbox\":[{\"type\":\"scattermapbox\",\"marker\":{\"colorbar\":{\"outlinewidth\":0,\"ticks\":\"\"}}}],\"scatterternary\":[{\"type\":\"scatterternary\",\"marker\":{\"colorbar\":{\"outlinewidth\":0,\"ticks\":\"\"}}}],\"scattercarpet\":[{\"type\":\"scattercarpet\",\"marker\":{\"colorbar\":{\"outlinewidth\":0,\"ticks\":\"\"}}}],\"carpet\":[{\"aaxis\":{\"endlinecolor\":\"#2a3f5f\",\"gridcolor\":\"white\",\"linecolor\":\"white\",\"minorgridcolor\":\"white\",\"startlinecolor\":\"#2a3f5f\"},\"baxis\":{\"endlinecolor\":\"#2a3f5f\",\"gridcolor\":\"white\",\"linecolor\":\"white\",\"minorgridcolor\":\"white\",\"startlinecolor\":\"#2a3f5f\"},\"type\":\"carpet\"}],\"table\":[{\"cells\":{\"fill\":{\"color\":\"#EBF0F8\"},\"line\":{\"color\":\"white\"}},\"header\":{\"fill\":{\"color\":\"#C8D4E3\"},\"line\":{\"color\":\"white\"}},\"type\":\"table\"}],\"barpolar\":[{\"marker\":{\"line\":{\"color\":\"#E5ECF6\",\"width\":0.5},\"pattern\":{\"fillmode\":\"overlay\",\"size\":10,\"solidity\":0.2}},\"type\":\"barpolar\"}],\"pie\":[{\"automargin\":true,\"type\":\"pie\"}]},\"layout\":{\"autotypenumbers\":\"strict\",\"colorway\":[\"#636efa\",\"#EF553B\",\"#00cc96\",\"#ab63fa\",\"#FFA15A\",\"#19d3f3\",\"#FF6692\",\"#B6E880\",\"#FF97FF\",\"#FECB52\"],\"font\":{\"color\":\"#2a3f5f\"},\"hovermode\":\"closest\",\"hoverlabel\":{\"align\":\"left\"},\"paper_bgcolor\":\"white\",\"plot_bgcolor\":\"#E5ECF6\",\"polar\":{\"bgcolor\":\"#E5ECF6\",\"angularaxis\":{\"gridcolor\":\"white\",\"linecolor\":\"white\",\"ticks\":\"\"},\"radialaxis\":{\"gridcolor\":\"white\",\"linecolor\":\"white\",\"ticks\":\"\"}},\"ternary\":{\"bgcolor\":\"#E5ECF6\",\"aaxis\":{\"gridcolor\":\"white\",\"linecolor\":\"white\",\"ticks\":\"\"},\"baxis\":{\"gridcolor\":\"white\",\"linecolor\":\"white\",\"ticks\":\"\"},\"caxis\":{\"gridcolor\":\"white\",\"linecolor\":\"white\",\"ticks\":\"\"}},\"coloraxis\":{\"colorbar\":{\"outlinewidth\":0,\"ticks\":\"\"}},\"colorscale\":{\"sequential\":[[0.0,\"#0d0887\"],[0.1111111111111111,\"#46039f\"],[0.2222222222222222,\"#7201a8\"],[0.3333333333333333,\"#9c179e\"],[0.4444444444444444,\"#bd3786\"],[0.5555555555555556,\"#d8576b\"],[0.6666666666666666,\"#ed7953\"],[0.7777777777777778,\"#fb9f3a\"],[0.8888888888888888,\"#fdca26\"],[1.0,\"#f0f921\"]],\"sequentialminus\":[[0.0,\"#0d0887\"],[0.1111111111111111,\"#46039f\"],[0.2222222222222222,\"#7201a8\"],[0.3333333333333333,\"#9c179e\"],[0.4444444444444444,\"#bd3786\"],[0.5555555555555556,\"#d8576b\"],[0.6666666666666666,\"#ed7953\"],[0.7777777777777778,\"#fb9f3a\"],[0.8888888888888888,\"#fdca26\"],[1.0,\"#f0f921\"]],\"diverging\":[[0,\"#8e0152\"],[0.1,\"#c51b7d\"],[0.2,\"#de77ae\"],[0.3,\"#f1b6da\"],[0.4,\"#fde0ef\"],[0.5,\"#f7f7f7\"],[0.6,\"#e6f5d0\"],[0.7,\"#b8e186\"],[0.8,\"#7fbc41\"],[0.9,\"#4d9221\"],[1,\"#276419\"]]},\"xaxis\":{\"gridcolor\":\"white\",\"linecolor\":\"white\",\"ticks\":\"\",\"title\":{\"standoff\":15},\"zerolinecolor\":\"white\",\"automargin\":true,\"zerolinewidth\":2},\"yaxis\":{\"gridcolor\":\"white\",\"linecolor\":\"white\",\"ticks\":\"\",\"title\":{\"standoff\":15},\"zerolinecolor\":\"white\",\"automargin\":true,\"zerolinewidth\":2},\"scene\":{\"xaxis\":{\"backgroundcolor\":\"#E5ECF6\",\"gridcolor\":\"white\",\"linecolor\":\"white\",\"showbackground\":true,\"ticks\":\"\",\"zerolinecolor\":\"white\",\"gridwidth\":2},\"yaxis\":{\"backgroundcolor\":\"#E5ECF6\",\"gridcolor\":\"white\",\"linecolor\":\"white\",\"showbackground\":true,\"ticks\":\"\",\"zerolinecolor\":\"white\",\"gridwidth\":2},\"zaxis\":{\"backgroundcolor\":\"#E5ECF6\",\"gridcolor\":\"white\",\"linecolor\":\"white\",\"showbackground\":true,\"ticks\":\"\",\"zerolinecolor\":\"white\",\"gridwidth\":2}},\"shapedefaults\":{\"line\":{\"color\":\"#2a3f5f\"}},\"annotationdefaults\":{\"arrowcolor\":\"#2a3f5f\",\"arrowhead\":0,\"arrowwidth\":1},\"geo\":{\"bgcolor\":\"white\",\"landcolor\":\"#E5ECF6\",\"subunitcolor\":\"white\",\"showland\":true,\"showlakes\":true,\"lakecolor\":\"white\"},\"title\":{\"x\":0.05},\"mapbox\":{\"style\":\"light\"}}},\"geo\":{\"domain\":{\"x\":[0.0,1.0],\"y\":[0.0,1.0]},\"center\":{}},\"coloraxis\":{\"colorbar\":{\"title\":{\"text\":\"Average_Deforestation_Rate\"}},\"colorscale\":[[0.0,\"#0d0887\"],[0.1111111111111111,\"#46039f\"],[0.2222222222222222,\"#7201a8\"],[0.3333333333333333,\"#9c179e\"],[0.4444444444444444,\"#bd3786\"],[0.5555555555555556,\"#d8576b\"],[0.6666666666666666,\"#ed7953\"],[0.7777777777777778,\"#fb9f3a\"],[0.8888888888888888,\"#fdca26\"],[1.0,\"#f0f921\"]]},\"legend\":{\"tracegroupgap\":0},\"title\":{\"text\":\"Average Deforestation Rate per Country\"}},                        {\"responsive\": true}                    ).then(function(){\n",
       "                            \n",
       "var gd = document.getElementById('3f538e85-2c42-4d6a-b99d-370b80dffae1');\n",
       "var x = new MutationObserver(function (mutations, observer) {{\n",
       "        var display = window.getComputedStyle(gd).display;\n",
       "        if (!display || display === 'none') {{\n",
       "            console.log([gd, 'removed!']);\n",
       "            Plotly.purge(gd);\n",
       "            observer.disconnect();\n",
       "        }}\n",
       "}});\n",
       "\n",
       "// Listen for the removal of the full notebook cells\n",
       "var notebookContainer = gd.closest('#notebook-container');\n",
       "if (notebookContainer) {{\n",
       "    x.observe(notebookContainer, {childList: true});\n",
       "}}\n",
       "\n",
       "// Listen for the clearing of the current output cell\n",
       "var outputEl = gd.closest('.output');\n",
       "if (outputEl) {{\n",
       "    x.observe(outputEl, {childList: true});\n",
       "}}\n",
       "\n",
       "                        })                };                });            </script>        </div>"
      ]
     },
     "metadata": {},
     "output_type": "display_data"
    }
   ],
   "source": [
    "# Now plot the map with Plotly Express\n",
    "fig = px.choropleth(last_df, \n",
    "                    locations='iso3',  # ISO-3 country codes\n",
    "                    locationmode='ISO-3',\n",
    "                    color='Average_Deforestation_Rate',  # Average deforestation rates\n",
    "                    hover_name='Country',\n",
    "                    title = 'Average Deforestation Rate per Country',\n",
    "                    color_continuous_scale=px.colors.sequential.Plasma)\n",
    "\n",
    "fig.show()"
   ]
  },
  {
   "cell_type": "code",
   "execution_count": 118,
   "metadata": {},
   "outputs": [
    {
     "data": {
      "application/vnd.plotly.v1+json": {
       "config": {
        "plotlyServerURL": "https://plot.ly"
       },
       "data": [
        {
         "coloraxis": "coloraxis",
         "geo": "geo",
         "hovertemplate": "<b>%{hovertext}</b><br><br>iso3=%{location}<br>Average_Corn_Field_Expansion_Rate=%{z}<extra></extra>",
         "hovertext": [
          "Afghanistan",
          "Albania",
          "Algeria",
          "Angola",
          "Argentina",
          "Armenia",
          "Australia",
          "Austria",
          "Azerbaijan",
          "Bangladesh",
          "Belarus",
          "Belgium",
          "Belize",
          "Benin",
          "Brazil",
          "Bulgaria",
          "Burkina Faso",
          "Canada",
          "Chile",
          "China",
          "Colombia",
          "Costa Rica",
          "Croatia",
          "Cuba",
          "Czechia",
          "Dominican Republic",
          "Ecuador",
          "Egypt",
          "El Salvador",
          "Ethiopia",
          "France",
          "Georgia",
          "Germany",
          "Greece",
          "Guinea",
          "Hungary",
          "India",
          "Italy",
          "Jamaica",
          "Kazakhstan",
          "Kenya",
          "Korea, Republic of",
          "Lao People's Democratic Republic",
          "Luxembourg",
          "Malawi",
          "Mali",
          "Mauritius",
          "Mexico",
          "Morocco",
          "Myanmar",
          "Nepal",
          "Netherlands",
          "New Zealand",
          "Nicaragua",
          "Niger",
          "North Macedonia",
          "Pakistan",
          "Panama",
          "Paraguay",
          "Peru",
          "Philippines",
          "Poland",
          "Portugal",
          "Romania",
          "Russian Federation",
          "Senegal",
          "Slovenia",
          "South Africa",
          "Spain",
          "Suriname",
          "Switzerland",
          "Syrian Arab Republic",
          "Togo",
          "Türkiye",
          "Ukraine",
          "Uruguay",
          "Uzbekistan",
          "Viet Nam",
          "Yemen",
          "Zambia"
         ],
         "locationmode": "ISO-3",
         "locations": [
          "AFG",
          "ALB",
          "DZA",
          "AGO",
          "ARG",
          "ARM",
          "AUS",
          "AUT",
          "AZE",
          "BGD",
          "BLR",
          "BEL",
          "BLZ",
          "BEN",
          "BRA",
          "BGR",
          "BFA",
          "CAN",
          "CHL",
          "CHN",
          "COL",
          "CRI",
          "HRV",
          "CUB",
          "CZE",
          "DOM",
          "ECU",
          "EGY",
          "SLV",
          "ETH",
          "FRA",
          "GEO",
          "DEU",
          "GRC",
          "GIN",
          "HUN",
          "IND",
          "ITA",
          "JAM",
          "KAZ",
          "KEN",
          "KOR",
          "LAO",
          "LUX",
          "MWI",
          "MLI",
          "MUS",
          "MEX",
          "MAR",
          "MMR",
          "NPL",
          "NLD",
          "NZL",
          "NIC",
          "NER",
          "MKD",
          "PAK",
          "PAN",
          "PRY",
          "PER",
          "PHL",
          "POL",
          "PRT",
          "ROU",
          "RUS",
          "SEN",
          "SVN",
          "ZAF",
          "ESP",
          "SUR",
          "CHE",
          "SYR",
          "TGO",
          "TUR",
          "UKR",
          "URY",
          "UZB",
          "VNM",
          "YEM",
          "ZMB"
         ],
         "name": "",
         "type": "choropleth",
         "z": [
          7.03684463466811,
          0.6047090695435364,
          43.62215642539187,
          13.1533496449261,
          5.6477753445066305,
          -1.558282241498353,
          -0.02580855873332798,
          0.8580198939327247,
          0.18761959713352888,
          32.362563725299566,
          26.88654401490373,
          1.9851395630301603,
          3.3856458526059727,
          3.7932614499898776,
          2.356264583148237,
          3.2209293295347177,
          8.523145320775988,
          1.7118087993465652,
          0.6442681469900964,
          3.0183525101320074,
          -1.318431758183397,
          0.810477714079919,
          0.08602040470691025,
          1.487477560907599,
          4.399887968189617,
          3.17793578058269,
          0.43089060713729954,
          4.014436193626701,
          0.28875580548500407,
          3.0061892084686836,
          -0.2690465877939753,
          -2.744454419249045,
          1.1582825412909237,
          -2.316595506918529,
          4.7997116383404705,
          -0.3356535477925199,
          1.9321935114017743,
          -2.4902376125376717,
          1.478803857814615,
          4.603034885107982,
          2.176935976966835,
          0.5662732804138003,
          5.370963919719355,
          -0.4568441484984282,
          1.7450472489723374,
          14.120765554142345,
          17.036562435814986,
          0.36563007635878864,
          -1.629255500119266,
          5.005947328149575,
          0.8598491847026056,
          0.8416988814150961,
          0.6220022662271316,
          0.13035327813363207,
          88.19551341269144,
          -0.6684807450227102,
          2.6956329711213183,
          0.45157213785257705,
          6.1784279470131205,
          -0.5616782628870726,
          0.1362080744140313,
          10.830893536996786,
          -2.9379583808446883,
          -0.14074460959982593,
          8.76422770824034,
          8.695517081312214,
          -0.513352180020263,
          0.3193700674724346,
          -0.4316435113156277,
          3.528347995586039,
          -1.5829541867340857,
          5.727282302910178,
          3.3533324405351057,
          1.6837434608756636,
          8.444787723875548,
          8.289269682923875,
          2.320314406886862,
          1.4274493272039708,
          1.8117448058645544,
          8.250207100161509
         ]
        }
       ],
       "layout": {
        "coloraxis": {
         "colorbar": {
          "title": {
           "text": "Average_Corn_Field_Expansion_Rate"
          }
         },
         "colorscale": [
          [
           0,
           "#0d0887"
          ],
          [
           0.1111111111111111,
           "#46039f"
          ],
          [
           0.2222222222222222,
           "#7201a8"
          ],
          [
           0.3333333333333333,
           "#9c179e"
          ],
          [
           0.4444444444444444,
           "#bd3786"
          ],
          [
           0.5555555555555556,
           "#d8576b"
          ],
          [
           0.6666666666666666,
           "#ed7953"
          ],
          [
           0.7777777777777778,
           "#fb9f3a"
          ],
          [
           0.8888888888888888,
           "#fdca26"
          ],
          [
           1,
           "#f0f921"
          ]
         ]
        },
        "geo": {
         "center": {},
         "domain": {
          "x": [
           0,
           1
          ],
          "y": [
           0,
           1
          ]
         }
        },
        "legend": {
         "tracegroupgap": 0
        },
        "template": {
         "data": {
          "bar": [
           {
            "error_x": {
             "color": "#2a3f5f"
            },
            "error_y": {
             "color": "#2a3f5f"
            },
            "marker": {
             "line": {
              "color": "#E5ECF6",
              "width": 0.5
             },
             "pattern": {
              "fillmode": "overlay",
              "size": 10,
              "solidity": 0.2
             }
            },
            "type": "bar"
           }
          ],
          "barpolar": [
           {
            "marker": {
             "line": {
              "color": "#E5ECF6",
              "width": 0.5
             },
             "pattern": {
              "fillmode": "overlay",
              "size": 10,
              "solidity": 0.2
             }
            },
            "type": "barpolar"
           }
          ],
          "carpet": [
           {
            "aaxis": {
             "endlinecolor": "#2a3f5f",
             "gridcolor": "white",
             "linecolor": "white",
             "minorgridcolor": "white",
             "startlinecolor": "#2a3f5f"
            },
            "baxis": {
             "endlinecolor": "#2a3f5f",
             "gridcolor": "white",
             "linecolor": "white",
             "minorgridcolor": "white",
             "startlinecolor": "#2a3f5f"
            },
            "type": "carpet"
           }
          ],
          "choropleth": [
           {
            "colorbar": {
             "outlinewidth": 0,
             "ticks": ""
            },
            "type": "choropleth"
           }
          ],
          "contour": [
           {
            "colorbar": {
             "outlinewidth": 0,
             "ticks": ""
            },
            "colorscale": [
             [
              0,
              "#0d0887"
             ],
             [
              0.1111111111111111,
              "#46039f"
             ],
             [
              0.2222222222222222,
              "#7201a8"
             ],
             [
              0.3333333333333333,
              "#9c179e"
             ],
             [
              0.4444444444444444,
              "#bd3786"
             ],
             [
              0.5555555555555556,
              "#d8576b"
             ],
             [
              0.6666666666666666,
              "#ed7953"
             ],
             [
              0.7777777777777778,
              "#fb9f3a"
             ],
             [
              0.8888888888888888,
              "#fdca26"
             ],
             [
              1,
              "#f0f921"
             ]
            ],
            "type": "contour"
           }
          ],
          "contourcarpet": [
           {
            "colorbar": {
             "outlinewidth": 0,
             "ticks": ""
            },
            "type": "contourcarpet"
           }
          ],
          "heatmap": [
           {
            "colorbar": {
             "outlinewidth": 0,
             "ticks": ""
            },
            "colorscale": [
             [
              0,
              "#0d0887"
             ],
             [
              0.1111111111111111,
              "#46039f"
             ],
             [
              0.2222222222222222,
              "#7201a8"
             ],
             [
              0.3333333333333333,
              "#9c179e"
             ],
             [
              0.4444444444444444,
              "#bd3786"
             ],
             [
              0.5555555555555556,
              "#d8576b"
             ],
             [
              0.6666666666666666,
              "#ed7953"
             ],
             [
              0.7777777777777778,
              "#fb9f3a"
             ],
             [
              0.8888888888888888,
              "#fdca26"
             ],
             [
              1,
              "#f0f921"
             ]
            ],
            "type": "heatmap"
           }
          ],
          "heatmapgl": [
           {
            "colorbar": {
             "outlinewidth": 0,
             "ticks": ""
            },
            "colorscale": [
             [
              0,
              "#0d0887"
             ],
             [
              0.1111111111111111,
              "#46039f"
             ],
             [
              0.2222222222222222,
              "#7201a8"
             ],
             [
              0.3333333333333333,
              "#9c179e"
             ],
             [
              0.4444444444444444,
              "#bd3786"
             ],
             [
              0.5555555555555556,
              "#d8576b"
             ],
             [
              0.6666666666666666,
              "#ed7953"
             ],
             [
              0.7777777777777778,
              "#fb9f3a"
             ],
             [
              0.8888888888888888,
              "#fdca26"
             ],
             [
              1,
              "#f0f921"
             ]
            ],
            "type": "heatmapgl"
           }
          ],
          "histogram": [
           {
            "marker": {
             "pattern": {
              "fillmode": "overlay",
              "size": 10,
              "solidity": 0.2
             }
            },
            "type": "histogram"
           }
          ],
          "histogram2d": [
           {
            "colorbar": {
             "outlinewidth": 0,
             "ticks": ""
            },
            "colorscale": [
             [
              0,
              "#0d0887"
             ],
             [
              0.1111111111111111,
              "#46039f"
             ],
             [
              0.2222222222222222,
              "#7201a8"
             ],
             [
              0.3333333333333333,
              "#9c179e"
             ],
             [
              0.4444444444444444,
              "#bd3786"
             ],
             [
              0.5555555555555556,
              "#d8576b"
             ],
             [
              0.6666666666666666,
              "#ed7953"
             ],
             [
              0.7777777777777778,
              "#fb9f3a"
             ],
             [
              0.8888888888888888,
              "#fdca26"
             ],
             [
              1,
              "#f0f921"
             ]
            ],
            "type": "histogram2d"
           }
          ],
          "histogram2dcontour": [
           {
            "colorbar": {
             "outlinewidth": 0,
             "ticks": ""
            },
            "colorscale": [
             [
              0,
              "#0d0887"
             ],
             [
              0.1111111111111111,
              "#46039f"
             ],
             [
              0.2222222222222222,
              "#7201a8"
             ],
             [
              0.3333333333333333,
              "#9c179e"
             ],
             [
              0.4444444444444444,
              "#bd3786"
             ],
             [
              0.5555555555555556,
              "#d8576b"
             ],
             [
              0.6666666666666666,
              "#ed7953"
             ],
             [
              0.7777777777777778,
              "#fb9f3a"
             ],
             [
              0.8888888888888888,
              "#fdca26"
             ],
             [
              1,
              "#f0f921"
             ]
            ],
            "type": "histogram2dcontour"
           }
          ],
          "mesh3d": [
           {
            "colorbar": {
             "outlinewidth": 0,
             "ticks": ""
            },
            "type": "mesh3d"
           }
          ],
          "parcoords": [
           {
            "line": {
             "colorbar": {
              "outlinewidth": 0,
              "ticks": ""
             }
            },
            "type": "parcoords"
           }
          ],
          "pie": [
           {
            "automargin": true,
            "type": "pie"
           }
          ],
          "scatter": [
           {
            "fillpattern": {
             "fillmode": "overlay",
             "size": 10,
             "solidity": 0.2
            },
            "type": "scatter"
           }
          ],
          "scatter3d": [
           {
            "line": {
             "colorbar": {
              "outlinewidth": 0,
              "ticks": ""
             }
            },
            "marker": {
             "colorbar": {
              "outlinewidth": 0,
              "ticks": ""
             }
            },
            "type": "scatter3d"
           }
          ],
          "scattercarpet": [
           {
            "marker": {
             "colorbar": {
              "outlinewidth": 0,
              "ticks": ""
             }
            },
            "type": "scattercarpet"
           }
          ],
          "scattergeo": [
           {
            "marker": {
             "colorbar": {
              "outlinewidth": 0,
              "ticks": ""
             }
            },
            "type": "scattergeo"
           }
          ],
          "scattergl": [
           {
            "marker": {
             "colorbar": {
              "outlinewidth": 0,
              "ticks": ""
             }
            },
            "type": "scattergl"
           }
          ],
          "scattermapbox": [
           {
            "marker": {
             "colorbar": {
              "outlinewidth": 0,
              "ticks": ""
             }
            },
            "type": "scattermapbox"
           }
          ],
          "scatterpolar": [
           {
            "marker": {
             "colorbar": {
              "outlinewidth": 0,
              "ticks": ""
             }
            },
            "type": "scatterpolar"
           }
          ],
          "scatterpolargl": [
           {
            "marker": {
             "colorbar": {
              "outlinewidth": 0,
              "ticks": ""
             }
            },
            "type": "scatterpolargl"
           }
          ],
          "scatterternary": [
           {
            "marker": {
             "colorbar": {
              "outlinewidth": 0,
              "ticks": ""
             }
            },
            "type": "scatterternary"
           }
          ],
          "surface": [
           {
            "colorbar": {
             "outlinewidth": 0,
             "ticks": ""
            },
            "colorscale": [
             [
              0,
              "#0d0887"
             ],
             [
              0.1111111111111111,
              "#46039f"
             ],
             [
              0.2222222222222222,
              "#7201a8"
             ],
             [
              0.3333333333333333,
              "#9c179e"
             ],
             [
              0.4444444444444444,
              "#bd3786"
             ],
             [
              0.5555555555555556,
              "#d8576b"
             ],
             [
              0.6666666666666666,
              "#ed7953"
             ],
             [
              0.7777777777777778,
              "#fb9f3a"
             ],
             [
              0.8888888888888888,
              "#fdca26"
             ],
             [
              1,
              "#f0f921"
             ]
            ],
            "type": "surface"
           }
          ],
          "table": [
           {
            "cells": {
             "fill": {
              "color": "#EBF0F8"
             },
             "line": {
              "color": "white"
             }
            },
            "header": {
             "fill": {
              "color": "#C8D4E3"
             },
             "line": {
              "color": "white"
             }
            },
            "type": "table"
           }
          ]
         },
         "layout": {
          "annotationdefaults": {
           "arrowcolor": "#2a3f5f",
           "arrowhead": 0,
           "arrowwidth": 1
          },
          "autotypenumbers": "strict",
          "coloraxis": {
           "colorbar": {
            "outlinewidth": 0,
            "ticks": ""
           }
          },
          "colorscale": {
           "diverging": [
            [
             0,
             "#8e0152"
            ],
            [
             0.1,
             "#c51b7d"
            ],
            [
             0.2,
             "#de77ae"
            ],
            [
             0.3,
             "#f1b6da"
            ],
            [
             0.4,
             "#fde0ef"
            ],
            [
             0.5,
             "#f7f7f7"
            ],
            [
             0.6,
             "#e6f5d0"
            ],
            [
             0.7,
             "#b8e186"
            ],
            [
             0.8,
             "#7fbc41"
            ],
            [
             0.9,
             "#4d9221"
            ],
            [
             1,
             "#276419"
            ]
           ],
           "sequential": [
            [
             0,
             "#0d0887"
            ],
            [
             0.1111111111111111,
             "#46039f"
            ],
            [
             0.2222222222222222,
             "#7201a8"
            ],
            [
             0.3333333333333333,
             "#9c179e"
            ],
            [
             0.4444444444444444,
             "#bd3786"
            ],
            [
             0.5555555555555556,
             "#d8576b"
            ],
            [
             0.6666666666666666,
             "#ed7953"
            ],
            [
             0.7777777777777778,
             "#fb9f3a"
            ],
            [
             0.8888888888888888,
             "#fdca26"
            ],
            [
             1,
             "#f0f921"
            ]
           ],
           "sequentialminus": [
            [
             0,
             "#0d0887"
            ],
            [
             0.1111111111111111,
             "#46039f"
            ],
            [
             0.2222222222222222,
             "#7201a8"
            ],
            [
             0.3333333333333333,
             "#9c179e"
            ],
            [
             0.4444444444444444,
             "#bd3786"
            ],
            [
             0.5555555555555556,
             "#d8576b"
            ],
            [
             0.6666666666666666,
             "#ed7953"
            ],
            [
             0.7777777777777778,
             "#fb9f3a"
            ],
            [
             0.8888888888888888,
             "#fdca26"
            ],
            [
             1,
             "#f0f921"
            ]
           ]
          },
          "colorway": [
           "#636efa",
           "#EF553B",
           "#00cc96",
           "#ab63fa",
           "#FFA15A",
           "#19d3f3",
           "#FF6692",
           "#B6E880",
           "#FF97FF",
           "#FECB52"
          ],
          "font": {
           "color": "#2a3f5f"
          },
          "geo": {
           "bgcolor": "white",
           "lakecolor": "white",
           "landcolor": "#E5ECF6",
           "showlakes": true,
           "showland": true,
           "subunitcolor": "white"
          },
          "hoverlabel": {
           "align": "left"
          },
          "hovermode": "closest",
          "mapbox": {
           "style": "light"
          },
          "paper_bgcolor": "white",
          "plot_bgcolor": "#E5ECF6",
          "polar": {
           "angularaxis": {
            "gridcolor": "white",
            "linecolor": "white",
            "ticks": ""
           },
           "bgcolor": "#E5ECF6",
           "radialaxis": {
            "gridcolor": "white",
            "linecolor": "white",
            "ticks": ""
           }
          },
          "scene": {
           "xaxis": {
            "backgroundcolor": "#E5ECF6",
            "gridcolor": "white",
            "gridwidth": 2,
            "linecolor": "white",
            "showbackground": true,
            "ticks": "",
            "zerolinecolor": "white"
           },
           "yaxis": {
            "backgroundcolor": "#E5ECF6",
            "gridcolor": "white",
            "gridwidth": 2,
            "linecolor": "white",
            "showbackground": true,
            "ticks": "",
            "zerolinecolor": "white"
           },
           "zaxis": {
            "backgroundcolor": "#E5ECF6",
            "gridcolor": "white",
            "gridwidth": 2,
            "linecolor": "white",
            "showbackground": true,
            "ticks": "",
            "zerolinecolor": "white"
           }
          },
          "shapedefaults": {
           "line": {
            "color": "#2a3f5f"
           }
          },
          "ternary": {
           "aaxis": {
            "gridcolor": "white",
            "linecolor": "white",
            "ticks": ""
           },
           "baxis": {
            "gridcolor": "white",
            "linecolor": "white",
            "ticks": ""
           },
           "bgcolor": "#E5ECF6",
           "caxis": {
            "gridcolor": "white",
            "linecolor": "white",
            "ticks": ""
           }
          },
          "title": {
           "x": 0.05
          },
          "xaxis": {
           "automargin": true,
           "gridcolor": "white",
           "linecolor": "white",
           "ticks": "",
           "title": {
            "standoff": 15
           },
           "zerolinecolor": "white",
           "zerolinewidth": 2
          },
          "yaxis": {
           "automargin": true,
           "gridcolor": "white",
           "linecolor": "white",
           "ticks": "",
           "title": {
            "standoff": 15
           },
           "zerolinecolor": "white",
           "zerolinewidth": 2
          }
         }
        },
        "title": {
         "text": "Average Corn Field Expansion Rate per Country"
        }
       }
      },
      "text/html": [
       "<div>                            <div id=\"a395737c-2a6b-4cd5-86fe-6b1d07af11a0\" class=\"plotly-graph-div\" style=\"height:525px; width:100%;\"></div>            <script type=\"text/javascript\">                require([\"plotly\"], function(Plotly) {                    window.PLOTLYENV=window.PLOTLYENV || {};                                    if (document.getElementById(\"a395737c-2a6b-4cd5-86fe-6b1d07af11a0\")) {                    Plotly.newPlot(                        \"a395737c-2a6b-4cd5-86fe-6b1d07af11a0\",                        [{\"coloraxis\":\"coloraxis\",\"geo\":\"geo\",\"hovertemplate\":\"<b>%{hovertext}</b><br><br>iso3=%{location}<br>Average_Corn_Field_Expansion_Rate=%{z}<extra></extra>\",\"hovertext\":[\"Afghanistan\",\"Albania\",\"Algeria\",\"Angola\",\"Argentina\",\"Armenia\",\"Australia\",\"Austria\",\"Azerbaijan\",\"Bangladesh\",\"Belarus\",\"Belgium\",\"Belize\",\"Benin\",\"Brazil\",\"Bulgaria\",\"Burkina Faso\",\"Canada\",\"Chile\",\"China\",\"Colombia\",\"Costa Rica\",\"Croatia\",\"Cuba\",\"Czechia\",\"Dominican Republic\",\"Ecuador\",\"Egypt\",\"El Salvador\",\"Ethiopia\",\"France\",\"Georgia\",\"Germany\",\"Greece\",\"Guinea\",\"Hungary\",\"India\",\"Italy\",\"Jamaica\",\"Kazakhstan\",\"Kenya\",\"Korea, Republic of\",\"Lao People's Democratic Republic\",\"Luxembourg\",\"Malawi\",\"Mali\",\"Mauritius\",\"Mexico\",\"Morocco\",\"Myanmar\",\"Nepal\",\"Netherlands\",\"New Zealand\",\"Nicaragua\",\"Niger\",\"North Macedonia\",\"Pakistan\",\"Panama\",\"Paraguay\",\"Peru\",\"Philippines\",\"Poland\",\"Portugal\",\"Romania\",\"Russian Federation\",\"Senegal\",\"Slovenia\",\"South Africa\",\"Spain\",\"Suriname\",\"Switzerland\",\"Syrian Arab Republic\",\"Togo\",\"T\\u00fcrkiye\",\"Ukraine\",\"Uruguay\",\"Uzbekistan\",\"Viet Nam\",\"Yemen\",\"Zambia\"],\"locationmode\":\"ISO-3\",\"locations\":[\"AFG\",\"ALB\",\"DZA\",\"AGO\",\"ARG\",\"ARM\",\"AUS\",\"AUT\",\"AZE\",\"BGD\",\"BLR\",\"BEL\",\"BLZ\",\"BEN\",\"BRA\",\"BGR\",\"BFA\",\"CAN\",\"CHL\",\"CHN\",\"COL\",\"CRI\",\"HRV\",\"CUB\",\"CZE\",\"DOM\",\"ECU\",\"EGY\",\"SLV\",\"ETH\",\"FRA\",\"GEO\",\"DEU\",\"GRC\",\"GIN\",\"HUN\",\"IND\",\"ITA\",\"JAM\",\"KAZ\",\"KEN\",\"KOR\",\"LAO\",\"LUX\",\"MWI\",\"MLI\",\"MUS\",\"MEX\",\"MAR\",\"MMR\",\"NPL\",\"NLD\",\"NZL\",\"NIC\",\"NER\",\"MKD\",\"PAK\",\"PAN\",\"PRY\",\"PER\",\"PHL\",\"POL\",\"PRT\",\"ROU\",\"RUS\",\"SEN\",\"SVN\",\"ZAF\",\"ESP\",\"SUR\",\"CHE\",\"SYR\",\"TGO\",\"TUR\",\"UKR\",\"URY\",\"UZB\",\"VNM\",\"YEM\",\"ZMB\"],\"name\":\"\",\"z\":[7.03684463466811,0.6047090695435364,43.62215642539187,13.1533496449261,5.6477753445066305,-1.558282241498353,-0.02580855873332798,0.8580198939327247,0.18761959713352888,32.362563725299566,26.88654401490373,1.9851395630301603,3.3856458526059727,3.7932614499898776,2.356264583148237,3.2209293295347177,8.523145320775988,1.7118087993465652,0.6442681469900964,3.0183525101320074,-1.318431758183397,0.810477714079919,0.08602040470691025,1.487477560907599,4.399887968189617,3.17793578058269,0.43089060713729954,4.014436193626701,0.28875580548500407,3.0061892084686836,-0.2690465877939753,-2.744454419249045,1.1582825412909237,-2.316595506918529,4.7997116383404705,-0.3356535477925199,1.9321935114017743,-2.4902376125376717,1.478803857814615,4.603034885107982,2.176935976966835,0.5662732804138003,5.370963919719355,-0.4568441484984282,1.7450472489723374,14.120765554142345,17.036562435814986,0.36563007635878864,-1.629255500119266,5.005947328149575,0.8598491847026056,0.8416988814150961,0.6220022662271316,0.13035327813363207,88.19551341269144,-0.6684807450227102,2.6956329711213183,0.45157213785257705,6.1784279470131205,-0.5616782628870726,0.1362080744140313,10.830893536996786,-2.9379583808446883,-0.14074460959982593,8.76422770824034,8.695517081312214,-0.513352180020263,0.3193700674724346,-0.4316435113156277,3.528347995586039,-1.5829541867340857,5.727282302910178,3.3533324405351057,1.6837434608756636,8.444787723875548,8.289269682923875,2.320314406886862,1.4274493272039708,1.8117448058645544,8.250207100161509],\"type\":\"choropleth\"}],                        {\"template\":{\"data\":{\"histogram2dcontour\":[{\"type\":\"histogram2dcontour\",\"colorbar\":{\"outlinewidth\":0,\"ticks\":\"\"},\"colorscale\":[[0.0,\"#0d0887\"],[0.1111111111111111,\"#46039f\"],[0.2222222222222222,\"#7201a8\"],[0.3333333333333333,\"#9c179e\"],[0.4444444444444444,\"#bd3786\"],[0.5555555555555556,\"#d8576b\"],[0.6666666666666666,\"#ed7953\"],[0.7777777777777778,\"#fb9f3a\"],[0.8888888888888888,\"#fdca26\"],[1.0,\"#f0f921\"]]}],\"choropleth\":[{\"type\":\"choropleth\",\"colorbar\":{\"outlinewidth\":0,\"ticks\":\"\"}}],\"histogram2d\":[{\"type\":\"histogram2d\",\"colorbar\":{\"outlinewidth\":0,\"ticks\":\"\"},\"colorscale\":[[0.0,\"#0d0887\"],[0.1111111111111111,\"#46039f\"],[0.2222222222222222,\"#7201a8\"],[0.3333333333333333,\"#9c179e\"],[0.4444444444444444,\"#bd3786\"],[0.5555555555555556,\"#d8576b\"],[0.6666666666666666,\"#ed7953\"],[0.7777777777777778,\"#fb9f3a\"],[0.8888888888888888,\"#fdca26\"],[1.0,\"#f0f921\"]]}],\"heatmap\":[{\"type\":\"heatmap\",\"colorbar\":{\"outlinewidth\":0,\"ticks\":\"\"},\"colorscale\":[[0.0,\"#0d0887\"],[0.1111111111111111,\"#46039f\"],[0.2222222222222222,\"#7201a8\"],[0.3333333333333333,\"#9c179e\"],[0.4444444444444444,\"#bd3786\"],[0.5555555555555556,\"#d8576b\"],[0.6666666666666666,\"#ed7953\"],[0.7777777777777778,\"#fb9f3a\"],[0.8888888888888888,\"#fdca26\"],[1.0,\"#f0f921\"]]}],\"heatmapgl\":[{\"type\":\"heatmapgl\",\"colorbar\":{\"outlinewidth\":0,\"ticks\":\"\"},\"colorscale\":[[0.0,\"#0d0887\"],[0.1111111111111111,\"#46039f\"],[0.2222222222222222,\"#7201a8\"],[0.3333333333333333,\"#9c179e\"],[0.4444444444444444,\"#bd3786\"],[0.5555555555555556,\"#d8576b\"],[0.6666666666666666,\"#ed7953\"],[0.7777777777777778,\"#fb9f3a\"],[0.8888888888888888,\"#fdca26\"],[1.0,\"#f0f921\"]]}],\"contourcarpet\":[{\"type\":\"contourcarpet\",\"colorbar\":{\"outlinewidth\":0,\"ticks\":\"\"}}],\"contour\":[{\"type\":\"contour\",\"colorbar\":{\"outlinewidth\":0,\"ticks\":\"\"},\"colorscale\":[[0.0,\"#0d0887\"],[0.1111111111111111,\"#46039f\"],[0.2222222222222222,\"#7201a8\"],[0.3333333333333333,\"#9c179e\"],[0.4444444444444444,\"#bd3786\"],[0.5555555555555556,\"#d8576b\"],[0.6666666666666666,\"#ed7953\"],[0.7777777777777778,\"#fb9f3a\"],[0.8888888888888888,\"#fdca26\"],[1.0,\"#f0f921\"]]}],\"surface\":[{\"type\":\"surface\",\"colorbar\":{\"outlinewidth\":0,\"ticks\":\"\"},\"colorscale\":[[0.0,\"#0d0887\"],[0.1111111111111111,\"#46039f\"],[0.2222222222222222,\"#7201a8\"],[0.3333333333333333,\"#9c179e\"],[0.4444444444444444,\"#bd3786\"],[0.5555555555555556,\"#d8576b\"],[0.6666666666666666,\"#ed7953\"],[0.7777777777777778,\"#fb9f3a\"],[0.8888888888888888,\"#fdca26\"],[1.0,\"#f0f921\"]]}],\"mesh3d\":[{\"type\":\"mesh3d\",\"colorbar\":{\"outlinewidth\":0,\"ticks\":\"\"}}],\"scatter\":[{\"fillpattern\":{\"fillmode\":\"overlay\",\"size\":10,\"solidity\":0.2},\"type\":\"scatter\"}],\"parcoords\":[{\"type\":\"parcoords\",\"line\":{\"colorbar\":{\"outlinewidth\":0,\"ticks\":\"\"}}}],\"scatterpolargl\":[{\"type\":\"scatterpolargl\",\"marker\":{\"colorbar\":{\"outlinewidth\":0,\"ticks\":\"\"}}}],\"bar\":[{\"error_x\":{\"color\":\"#2a3f5f\"},\"error_y\":{\"color\":\"#2a3f5f\"},\"marker\":{\"line\":{\"color\":\"#E5ECF6\",\"width\":0.5},\"pattern\":{\"fillmode\":\"overlay\",\"size\":10,\"solidity\":0.2}},\"type\":\"bar\"}],\"scattergeo\":[{\"type\":\"scattergeo\",\"marker\":{\"colorbar\":{\"outlinewidth\":0,\"ticks\":\"\"}}}],\"scatterpolar\":[{\"type\":\"scatterpolar\",\"marker\":{\"colorbar\":{\"outlinewidth\":0,\"ticks\":\"\"}}}],\"histogram\":[{\"marker\":{\"pattern\":{\"fillmode\":\"overlay\",\"size\":10,\"solidity\":0.2}},\"type\":\"histogram\"}],\"scattergl\":[{\"type\":\"scattergl\",\"marker\":{\"colorbar\":{\"outlinewidth\":0,\"ticks\":\"\"}}}],\"scatter3d\":[{\"type\":\"scatter3d\",\"line\":{\"colorbar\":{\"outlinewidth\":0,\"ticks\":\"\"}},\"marker\":{\"colorbar\":{\"outlinewidth\":0,\"ticks\":\"\"}}}],\"scattermapbox\":[{\"type\":\"scattermapbox\",\"marker\":{\"colorbar\":{\"outlinewidth\":0,\"ticks\":\"\"}}}],\"scatterternary\":[{\"type\":\"scatterternary\",\"marker\":{\"colorbar\":{\"outlinewidth\":0,\"ticks\":\"\"}}}],\"scattercarpet\":[{\"type\":\"scattercarpet\",\"marker\":{\"colorbar\":{\"outlinewidth\":0,\"ticks\":\"\"}}}],\"carpet\":[{\"aaxis\":{\"endlinecolor\":\"#2a3f5f\",\"gridcolor\":\"white\",\"linecolor\":\"white\",\"minorgridcolor\":\"white\",\"startlinecolor\":\"#2a3f5f\"},\"baxis\":{\"endlinecolor\":\"#2a3f5f\",\"gridcolor\":\"white\",\"linecolor\":\"white\",\"minorgridcolor\":\"white\",\"startlinecolor\":\"#2a3f5f\"},\"type\":\"carpet\"}],\"table\":[{\"cells\":{\"fill\":{\"color\":\"#EBF0F8\"},\"line\":{\"color\":\"white\"}},\"header\":{\"fill\":{\"color\":\"#C8D4E3\"},\"line\":{\"color\":\"white\"}},\"type\":\"table\"}],\"barpolar\":[{\"marker\":{\"line\":{\"color\":\"#E5ECF6\",\"width\":0.5},\"pattern\":{\"fillmode\":\"overlay\",\"size\":10,\"solidity\":0.2}},\"type\":\"barpolar\"}],\"pie\":[{\"automargin\":true,\"type\":\"pie\"}]},\"layout\":{\"autotypenumbers\":\"strict\",\"colorway\":[\"#636efa\",\"#EF553B\",\"#00cc96\",\"#ab63fa\",\"#FFA15A\",\"#19d3f3\",\"#FF6692\",\"#B6E880\",\"#FF97FF\",\"#FECB52\"],\"font\":{\"color\":\"#2a3f5f\"},\"hovermode\":\"closest\",\"hoverlabel\":{\"align\":\"left\"},\"paper_bgcolor\":\"white\",\"plot_bgcolor\":\"#E5ECF6\",\"polar\":{\"bgcolor\":\"#E5ECF6\",\"angularaxis\":{\"gridcolor\":\"white\",\"linecolor\":\"white\",\"ticks\":\"\"},\"radialaxis\":{\"gridcolor\":\"white\",\"linecolor\":\"white\",\"ticks\":\"\"}},\"ternary\":{\"bgcolor\":\"#E5ECF6\",\"aaxis\":{\"gridcolor\":\"white\",\"linecolor\":\"white\",\"ticks\":\"\"},\"baxis\":{\"gridcolor\":\"white\",\"linecolor\":\"white\",\"ticks\":\"\"},\"caxis\":{\"gridcolor\":\"white\",\"linecolor\":\"white\",\"ticks\":\"\"}},\"coloraxis\":{\"colorbar\":{\"outlinewidth\":0,\"ticks\":\"\"}},\"colorscale\":{\"sequential\":[[0.0,\"#0d0887\"],[0.1111111111111111,\"#46039f\"],[0.2222222222222222,\"#7201a8\"],[0.3333333333333333,\"#9c179e\"],[0.4444444444444444,\"#bd3786\"],[0.5555555555555556,\"#d8576b\"],[0.6666666666666666,\"#ed7953\"],[0.7777777777777778,\"#fb9f3a\"],[0.8888888888888888,\"#fdca26\"],[1.0,\"#f0f921\"]],\"sequentialminus\":[[0.0,\"#0d0887\"],[0.1111111111111111,\"#46039f\"],[0.2222222222222222,\"#7201a8\"],[0.3333333333333333,\"#9c179e\"],[0.4444444444444444,\"#bd3786\"],[0.5555555555555556,\"#d8576b\"],[0.6666666666666666,\"#ed7953\"],[0.7777777777777778,\"#fb9f3a\"],[0.8888888888888888,\"#fdca26\"],[1.0,\"#f0f921\"]],\"diverging\":[[0,\"#8e0152\"],[0.1,\"#c51b7d\"],[0.2,\"#de77ae\"],[0.3,\"#f1b6da\"],[0.4,\"#fde0ef\"],[0.5,\"#f7f7f7\"],[0.6,\"#e6f5d0\"],[0.7,\"#b8e186\"],[0.8,\"#7fbc41\"],[0.9,\"#4d9221\"],[1,\"#276419\"]]},\"xaxis\":{\"gridcolor\":\"white\",\"linecolor\":\"white\",\"ticks\":\"\",\"title\":{\"standoff\":15},\"zerolinecolor\":\"white\",\"automargin\":true,\"zerolinewidth\":2},\"yaxis\":{\"gridcolor\":\"white\",\"linecolor\":\"white\",\"ticks\":\"\",\"title\":{\"standoff\":15},\"zerolinecolor\":\"white\",\"automargin\":true,\"zerolinewidth\":2},\"scene\":{\"xaxis\":{\"backgroundcolor\":\"#E5ECF6\",\"gridcolor\":\"white\",\"linecolor\":\"white\",\"showbackground\":true,\"ticks\":\"\",\"zerolinecolor\":\"white\",\"gridwidth\":2},\"yaxis\":{\"backgroundcolor\":\"#E5ECF6\",\"gridcolor\":\"white\",\"linecolor\":\"white\",\"showbackground\":true,\"ticks\":\"\",\"zerolinecolor\":\"white\",\"gridwidth\":2},\"zaxis\":{\"backgroundcolor\":\"#E5ECF6\",\"gridcolor\":\"white\",\"linecolor\":\"white\",\"showbackground\":true,\"ticks\":\"\",\"zerolinecolor\":\"white\",\"gridwidth\":2}},\"shapedefaults\":{\"line\":{\"color\":\"#2a3f5f\"}},\"annotationdefaults\":{\"arrowcolor\":\"#2a3f5f\",\"arrowhead\":0,\"arrowwidth\":1},\"geo\":{\"bgcolor\":\"white\",\"landcolor\":\"#E5ECF6\",\"subunitcolor\":\"white\",\"showland\":true,\"showlakes\":true,\"lakecolor\":\"white\"},\"title\":{\"x\":0.05},\"mapbox\":{\"style\":\"light\"}}},\"geo\":{\"domain\":{\"x\":[0.0,1.0],\"y\":[0.0,1.0]},\"center\":{}},\"coloraxis\":{\"colorbar\":{\"title\":{\"text\":\"Average_Corn_Field_Expansion_Rate\"}},\"colorscale\":[[0.0,\"#0d0887\"],[0.1111111111111111,\"#46039f\"],[0.2222222222222222,\"#7201a8\"],[0.3333333333333333,\"#9c179e\"],[0.4444444444444444,\"#bd3786\"],[0.5555555555555556,\"#d8576b\"],[0.6666666666666666,\"#ed7953\"],[0.7777777777777778,\"#fb9f3a\"],[0.8888888888888888,\"#fdca26\"],[1.0,\"#f0f921\"]]},\"legend\":{\"tracegroupgap\":0},\"title\":{\"text\":\"Average Corn Field Expansion Rate per Country\"}},                        {\"responsive\": true}                    ).then(function(){\n",
       "                            \n",
       "var gd = document.getElementById('a395737c-2a6b-4cd5-86fe-6b1d07af11a0');\n",
       "var x = new MutationObserver(function (mutations, observer) {{\n",
       "        var display = window.getComputedStyle(gd).display;\n",
       "        if (!display || display === 'none') {{\n",
       "            console.log([gd, 'removed!']);\n",
       "            Plotly.purge(gd);\n",
       "            observer.disconnect();\n",
       "        }}\n",
       "}});\n",
       "\n",
       "// Listen for the removal of the full notebook cells\n",
       "var notebookContainer = gd.closest('#notebook-container');\n",
       "if (notebookContainer) {{\n",
       "    x.observe(notebookContainer, {childList: true});\n",
       "}}\n",
       "\n",
       "// Listen for the clearing of the current output cell\n",
       "var outputEl = gd.closest('.output');\n",
       "if (outputEl) {{\n",
       "    x.observe(outputEl, {childList: true});\n",
       "}}\n",
       "\n",
       "                        })                };                });            </script>        </div>"
      ]
     },
     "metadata": {},
     "output_type": "display_data"
    }
   ],
   "source": [
    "# Now plot the map with Plotly Express\n",
    "fig = px.choropleth(last_df, \n",
    "                    locations='iso3',  # ISO-3 country codes\n",
    "                    locationmode='ISO-3',\n",
    "                    color='Average_Corn_Field_Expansion_Rate',  # Average deforestation rates\n",
    "                    hover_name='Country',\n",
    "                    title = 'Average Corn Field Expansion Rate per Country',\n",
    "                    color_continuous_scale=px.colors.sequential.Plasma)\n",
    "\n",
    "fig.show()"
   ]
  },
  {
   "cell_type": "code",
   "execution_count": 119,
   "metadata": {},
   "outputs": [
    {
     "data": {
      "image/png": "[encoded data removed]",
      "text/plain": [
       "<Figure size 1000x600 with 1 Axes>"
      ]
     },
     "metadata": {},
     "output_type": "display_data"
    }
   ],
   "source": [
    "plt.figure(figsize=(10,6))\n",
    "sns.histplot(last_df['Average_Deforestation_Rate'], bins=20, kde=False, edgecolor='black')\n",
    "\n",
    "# Add labels and title\n",
    "plt.xlabel('Average Deforestation Rate')\n",
    "plt.ylabel('Frequency')\n",
    "plt.title('Empirical Distribution of Average Deforestation rate for countries')\n",
    "\n",
    "# Show the plot\n",
    "plt.show()"
   ]
  },
  {
   "cell_type": "code",
   "execution_count": 120,
   "metadata": {},
   "outputs": [
    {
     "name": "stdout",
     "output_type": "stream",
     "text": [
      "-1.415165996939262\n"
     ]
    }
   ],
   "source": [
    "print(last_df['Average_Deforestation_Rate'].skew())"
   ]
  },
  {
   "cell_type": "code",
   "execution_count": 121,
   "metadata": {},
   "outputs": [
    {
     "data": {
      "image/png": "[encoded data removed]",
      "text/plain": [
       "<Figure size 1000x600 with 1 Axes>"
      ]
     },
     "metadata": {},
     "output_type": "display_data"
    }
   ],
   "source": [
    "plt.figure(figsize=(10,6))\n",
    "sns.histplot(last_df['Average_Corn_Field_Expansion_Rate'], bins=20, kde=False, edgecolor='black')\n",
    "\n",
    "# Add labels and title\n",
    "plt.xlabel('Average Corn Field Expansion Rate')\n",
    "plt.ylabel('Frequency')\n",
    "plt.title('Empirical Distribution of Average Deforestation rate for countries')\n",
    "\n",
    "# Show the plot\n",
    "plt.show()"
   ]
  },
  {
   "cell_type": "code",
   "execution_count": 122,
   "metadata": {},
   "outputs": [
    {
     "name": "stdout",
     "output_type": "stream",
     "text": [
      "5.100790048045711\n"
     ]
    }
   ],
   "source": [
    "print(last_df['Average_Corn_Field_Expansion_Rate'].skew())"
   ]
  },
  {
   "cell_type": "code",
   "execution_count": 123,
   "metadata": {},
   "outputs": [
    {
     "name": "stderr",
     "output_type": "stream",
     "text": [
      "/Users/zeliadecaillet/anaconda3/lib/python3.11/site-packages/pandas/core/arraylike.py:396: RuntimeWarning:\n",
      "\n",
      "invalid value encountered in log\n",
      "\n"
     ]
    }
   ],
   "source": [
    "last_df['Log_Average_Corn_Field_Expansion_Rate'] = np.log(last_df['Average_Corn_Field_Expansion_Rate'] + 1e-6)"
   ]
  },
  {
   "cell_type": "code",
   "execution_count": 124,
   "metadata": {
    "scrolled": false
   },
   "outputs": [
    {
     "data": {
      "text/html": [
       "<div>\n",
       "<style scoped>\n",
       "    .dataframe tbody tr th:only-of-type {\n",
       "        vertical-align: middle;\n",
       "    }\n",
       "\n",
       "    .dataframe tbody tr th {\n",
       "        vertical-align: top;\n",
       "    }\n",
       "\n",
       "    .dataframe thead th {\n",
       "        text-align: right;\n",
       "    }\n",
       "</style>\n",
       "<table border=\"1\" class=\"dataframe\">\n",
       "  <thead>\n",
       "    <tr style=\"text-align: right;\">\n",
       "      <th></th>\n",
       "      <th>Country</th>\n",
       "      <th>Average_Land_Size</th>\n",
       "      <th>Average_Corn_Field_Expansion_Rate</th>\n",
       "      <th>Average_Deforestation_Rate</th>\n",
       "      <th>iso3</th>\n",
       "      <th>Log_Average_Corn_Field_Expansion_Rate</th>\n",
       "      <th>Higher_Than_Median</th>\n",
       "    </tr>\n",
       "  </thead>\n",
       "  <tbody>\n",
       "    <tr>\n",
       "      <th>0</th>\n",
       "      <td>Afghanistan</td>\n",
       "      <td>6.522300e+05</td>\n",
       "      <td>7.036845</td>\n",
       "      <td>0.000000</td>\n",
       "      <td>AFG</td>\n",
       "      <td>1.951160</td>\n",
       "      <td>1</td>\n",
       "    </tr>\n",
       "    <tr>\n",
       "      <th>1</th>\n",
       "      <td>Albania</td>\n",
       "      <td>2.740000e+04</td>\n",
       "      <td>0.604709</td>\n",
       "      <td>0.032515</td>\n",
       "      <td>ALB</td>\n",
       "      <td>-0.503006</td>\n",
       "      <td>0</td>\n",
       "    </tr>\n",
       "    <tr>\n",
       "      <th>2</th>\n",
       "      <td>Algeria</td>\n",
       "      <td>2.381740e+06</td>\n",
       "      <td>43.622156</td>\n",
       "      <td>0.007239</td>\n",
       "      <td>DZA</td>\n",
       "      <td>3.775565</td>\n",
       "      <td>1</td>\n",
       "    </tr>\n",
       "    <tr>\n",
       "      <th>3</th>\n",
       "      <td>Angola</td>\n",
       "      <td>1.246700e+06</td>\n",
       "      <td>13.153350</td>\n",
       "      <td>-0.424987</td>\n",
       "      <td>AGO</td>\n",
       "      <td>2.576677</td>\n",
       "      <td>1</td>\n",
       "    </tr>\n",
       "    <tr>\n",
       "      <th>4</th>\n",
       "      <td>Argentina</td>\n",
       "      <td>2.736690e+06</td>\n",
       "      <td>5.647775</td>\n",
       "      <td>-0.081624</td>\n",
       "      <td>ARG</td>\n",
       "      <td>1.731262</td>\n",
       "      <td>1</td>\n",
       "    </tr>\n",
       "    <tr>\n",
       "      <th>...</th>\n",
       "      <td>...</td>\n",
       "      <td>...</td>\n",
       "      <td>...</td>\n",
       "      <td>...</td>\n",
       "      <td>...</td>\n",
       "      <td>...</td>\n",
       "      <td>...</td>\n",
       "    </tr>\n",
       "    <tr>\n",
       "      <th>76</th>\n",
       "      <td>Uruguay</td>\n",
       "      <td>1.750200e+05</td>\n",
       "      <td>8.289270</td>\n",
       "      <td>0.177382</td>\n",
       "      <td>URY</td>\n",
       "      <td>2.114962</td>\n",
       "      <td>0</td>\n",
       "    </tr>\n",
       "    <tr>\n",
       "      <th>77</th>\n",
       "      <td>Uzbekistan</td>\n",
       "      <td>4.373825e+05</td>\n",
       "      <td>2.320314</td>\n",
       "      <td>0.074496</td>\n",
       "      <td>UZB</td>\n",
       "      <td>0.841703</td>\n",
       "      <td>1</td>\n",
       "    </tr>\n",
       "    <tr>\n",
       "      <th>78</th>\n",
       "      <td>Viet Nam</td>\n",
       "      <td>3.125857e+05</td>\n",
       "      <td>1.427449</td>\n",
       "      <td>0.412612</td>\n",
       "      <td>VNM</td>\n",
       "      <td>0.355890</td>\n",
       "      <td>1</td>\n",
       "    </tr>\n",
       "    <tr>\n",
       "      <th>79</th>\n",
       "      <td>Yemen</td>\n",
       "      <td>5.279700e+05</td>\n",
       "      <td>1.811745</td>\n",
       "      <td>0.000000</td>\n",
       "      <td>YEM</td>\n",
       "      <td>0.594291</td>\n",
       "      <td>1</td>\n",
       "    </tr>\n",
       "    <tr>\n",
       "      <th>80</th>\n",
       "      <td>Zambia</td>\n",
       "      <td>7.433900e+05</td>\n",
       "      <td>8.250207</td>\n",
       "      <td>-0.148471</td>\n",
       "      <td>ZMB</td>\n",
       "      <td>2.110238</td>\n",
       "      <td>1</td>\n",
       "    </tr>\n",
       "  </tbody>\n",
       "</table>\n",
       "<p>80 rows × 7 columns</p>\n",
       "</div>"
      ],
      "text/plain": [
       "        Country  Average_Land_Size  Average_Corn_Field_Expansion_Rate  \\\n",
       "0   Afghanistan       6.522300e+05                           7.036845   \n",
       "1       Albania       2.740000e+04                           0.604709   \n",
       "2       Algeria       2.381740e+06                          43.622156   \n",
       "3        Angola       1.246700e+06                          13.153350   \n",
       "4     Argentina       2.736690e+06                           5.647775   \n",
       "..          ...                ...                                ...   \n",
       "76      Uruguay       1.750200e+05                           8.289270   \n",
       "77   Uzbekistan       4.373825e+05                           2.320314   \n",
       "78     Viet Nam       3.125857e+05                           1.427449   \n",
       "79        Yemen       5.279700e+05                           1.811745   \n",
       "80       Zambia       7.433900e+05                           8.250207   \n",
       "\n",
       "    Average_Deforestation_Rate iso3  Log_Average_Corn_Field_Expansion_Rate  \\\n",
       "0                     0.000000  AFG                               1.951160   \n",
       "1                     0.032515  ALB                              -0.503006   \n",
       "2                     0.007239  DZA                               3.775565   \n",
       "3                    -0.424987  AGO                               2.576677   \n",
       "4                    -0.081624  ARG                               1.731262   \n",
       "..                         ...  ...                                    ...   \n",
       "76                    0.177382  URY                               2.114962   \n",
       "77                    0.074496  UZB                               0.841703   \n",
       "78                    0.412612  VNM                               0.355890   \n",
       "79                    0.000000  YEM                               0.594291   \n",
       "80                   -0.148471  ZMB                               2.110238   \n",
       "\n",
       "    Higher_Than_Median  \n",
       "0                    1  \n",
       "1                    0  \n",
       "2                    1  \n",
       "3                    1  \n",
       "4                    1  \n",
       "..                 ...  \n",
       "76                   0  \n",
       "77                   1  \n",
       "78                   1  \n",
       "79                   1  \n",
       "80                   1  \n",
       "\n",
       "[80 rows x 7 columns]"
      ]
     },
     "execution_count": 124,
     "metadata": {},
     "output_type": "execute_result"
    }
   ],
   "source": [
    "last_df"
   ]
  },
  {
   "cell_type": "code",
   "execution_count": 125,
   "metadata": {},
   "outputs": [
    {
     "data": {
      "image/png": "[encoded data removed]",
      "text/plain": [
       "<Figure size 1000x600 with 1 Axes>"
      ]
     },
     "metadata": {},
     "output_type": "display_data"
    }
   ],
   "source": [
    "plt.figure(figsize=(10,6))\n",
    "sns.histplot(last_df['Log_Average_Corn_Field_Expansion_Rate'], bins=20, kde=False, edgecolor='black')\n",
    "\n",
    "# Add labels and title\n",
    "plt.xlabel('Log Average Corn Field Expansion Rate')\n",
    "plt.ylabel('Frequency')\n",
    "plt.title('Empirical Distribution of Average Deforestation rate for countries')\n",
    "\n",
    "# Show the plot\n",
    "plt.show()"
   ]
  },
  {
   "cell_type": "code",
   "execution_count": 126,
   "metadata": {},
   "outputs": [
    {
     "name": "stdout",
     "output_type": "stream",
     "text": [
      "-0.11083457261934164\n"
     ]
    }
   ],
   "source": [
    "print(last_df['Log_Average_Corn_Field_Expansion_Rate'].skew())"
   ]
  },
  {
   "cell_type": "code",
   "execution_count": 127,
   "metadata": {
    "scrolled": false
   },
   "outputs": [
    {
     "data": {
      "image/png": "[encoded data removed]",
      "text/plain": [
       "<Figure size 640x480 with 1 Axes>"
      ]
     },
     "metadata": {},
     "output_type": "display_data"
    }
   ],
   "source": [
    "# Create a scatter plot\n",
    "plt.scatter(last_df['Log_Average_Corn_Field_Expansion_Rate'], last_df['Average_Deforestation_Rate'])\n",
    "\n",
    "# Set the labels for the axes\n",
    "plt.xlabel('Log_Average_Corn_Field_Expansion_Rate')\n",
    "plt.ylabel('Average_Deforestation_Rate')\n",
    "\n",
    "# Set the title of the plot\n",
    "plt.title('Scatter Plot of Log Average Corn Field Expansion Rate vs. Average Deforestation Rate')\n",
    "\n",
    "# Calculate the linear regression\n",
    "x = last_df['Log_Average_Corn_Field_Expansion_Rate']\n",
    "y = last_df['Average_Deforestation_Rate']\n",
    "\n",
    "# Show the plot\n",
    "plt.show()"
   ]
  },
  {
   "cell_type": "code",
   "execution_count": 128,
   "metadata": {},
   "outputs": [
    {
     "name": "stderr",
     "output_type": "stream",
     "text": [
      "/Users/zeliadecaillet/anaconda3/lib/python3.11/site-packages/seaborn/axisgrid.py:118: UserWarning:\n",
      "\n",
      "The figure layout has changed to tight\n",
      "\n"
     ]
    },
    {
     "data": {
      "image/png": "[encoded data removed]",
      "text/plain": [
       "<Figure size 500x500 with 1 Axes>"
      ]
     },
     "metadata": {},
     "output_type": "display_data"
    }
   ],
   "source": [
    "# Create a scatter plot with a linear regression line\n",
    "sns.lmplot(x='Log_Average_Corn_Field_Expansion_Rate', y='Average_Deforestation_Rate', data=last_df)\n",
    "\n",
    "# Set the title of the plot\n",
    "plt.title('Linear Regression: Log Corn Field Expansion Rate vs. Average Deforestation Rate')\n",
    "\n",
    "# Show the plot\n",
    "plt.show()"
   ]
  },
  {
   "cell_type": "code",
   "execution_count": 129,
   "metadata": {},
   "outputs": [
    {
     "data": {
      "text/html": [
       "<div>\n",
       "<style scoped>\n",
       "    .dataframe tbody tr th:only-of-type {\n",
       "        vertical-align: middle;\n",
       "    }\n",
       "\n",
       "    .dataframe tbody tr th {\n",
       "        vertical-align: top;\n",
       "    }\n",
       "\n",
       "    .dataframe thead th {\n",
       "        text-align: right;\n",
       "    }\n",
       "</style>\n",
       "<table border=\"1\" class=\"dataframe\">\n",
       "  <thead>\n",
       "    <tr style=\"text-align: right;\">\n",
       "      <th></th>\n",
       "      <th>Country</th>\n",
       "      <th>Average_Land_Size</th>\n",
       "      <th>Average_Corn_Field_Expansion_Rate</th>\n",
       "      <th>Average_Deforestation_Rate</th>\n",
       "      <th>iso3</th>\n",
       "      <th>Log_Average_Corn_Field_Expansion_Rate</th>\n",
       "      <th>Higher_Than_Median</th>\n",
       "    </tr>\n",
       "  </thead>\n",
       "  <tbody>\n",
       "    <tr>\n",
       "      <th>0</th>\n",
       "      <td>Afghanistan</td>\n",
       "      <td>6.522300e+05</td>\n",
       "      <td>7.036845</td>\n",
       "      <td>0.000000</td>\n",
       "      <td>AFG</td>\n",
       "      <td>1.951160</td>\n",
       "      <td>1</td>\n",
       "    </tr>\n",
       "    <tr>\n",
       "      <th>1</th>\n",
       "      <td>Albania</td>\n",
       "      <td>2.740000e+04</td>\n",
       "      <td>0.604709</td>\n",
       "      <td>0.032515</td>\n",
       "      <td>ALB</td>\n",
       "      <td>-0.503006</td>\n",
       "      <td>0</td>\n",
       "    </tr>\n",
       "    <tr>\n",
       "      <th>2</th>\n",
       "      <td>Algeria</td>\n",
       "      <td>2.381740e+06</td>\n",
       "      <td>43.622156</td>\n",
       "      <td>0.007239</td>\n",
       "      <td>DZA</td>\n",
       "      <td>3.775565</td>\n",
       "      <td>1</td>\n",
       "    </tr>\n",
       "    <tr>\n",
       "      <th>3</th>\n",
       "      <td>Angola</td>\n",
       "      <td>1.246700e+06</td>\n",
       "      <td>13.153350</td>\n",
       "      <td>-0.424987</td>\n",
       "      <td>AGO</td>\n",
       "      <td>2.576677</td>\n",
       "      <td>1</td>\n",
       "    </tr>\n",
       "    <tr>\n",
       "      <th>4</th>\n",
       "      <td>Argentina</td>\n",
       "      <td>2.736690e+06</td>\n",
       "      <td>5.647775</td>\n",
       "      <td>-0.081624</td>\n",
       "      <td>ARG</td>\n",
       "      <td>1.731262</td>\n",
       "      <td>1</td>\n",
       "    </tr>\n",
       "  </tbody>\n",
       "</table>\n",
       "</div>"
      ],
      "text/plain": [
       "       Country  Average_Land_Size  Average_Corn_Field_Expansion_Rate  \\\n",
       "0  Afghanistan       6.522300e+05                           7.036845   \n",
       "1      Albania       2.740000e+04                           0.604709   \n",
       "2      Algeria       2.381740e+06                          43.622156   \n",
       "3       Angola       1.246700e+06                          13.153350   \n",
       "4    Argentina       2.736690e+06                           5.647775   \n",
       "\n",
       "   Average_Deforestation_Rate iso3  Log_Average_Corn_Field_Expansion_Rate  \\\n",
       "0                    0.000000  AFG                               1.951160   \n",
       "1                    0.032515  ALB                              -0.503006   \n",
       "2                    0.007239  DZA                               3.775565   \n",
       "3                   -0.424987  AGO                               2.576677   \n",
       "4                   -0.081624  ARG                               1.731262   \n",
       "\n",
       "   Higher_Than_Median  \n",
       "0                   1  \n",
       "1                   0  \n",
       "2                   1  \n",
       "3                   1  \n",
       "4                   1  "
      ]
     },
     "execution_count": 129,
     "metadata": {},
     "output_type": "execute_result"
    }
   ],
   "source": [
    "# Finding the median of Average_Land_Size\n",
    "median_land_size = last_df['Average_Land_Size'].median()\n",
    "\n",
    "# Creating a dummy variable for whether the land size is higher than the median\n",
    "last_df['Higher_Than_Median'] = last_df['Average_Land_Size'].apply(lambda val: 1 if (val>median_land_size) else 0)\n",
    "\n",
    "last_df.head()"
   ]
  },
  {
   "cell_type": "code",
   "execution_count": 130,
   "metadata": {
    "scrolled": false
   },
   "outputs": [
    {
     "data": {
      "image/png": "[encoded data removed]",
      "text/plain": [
       "<Figure size 1000x600 with 1 Axes>"
      ]
     },
     "metadata": {},
     "output_type": "display_data"
    }
   ],
   "source": [
    "plt.figure(figsize=(10, 6))\n",
    "sns.scatterplot(data=last_df, \n",
    "                x='Log_Average_Corn_Field_Expansion_Rate', \n",
    "                y='Average_Deforestation_Rate', \n",
    "                hue='Higher_Than_Median', \n",
    "                palette='coolwarm', \n",
    "                s=100)\n",
    "\n",
    "# Adding labels and title\n",
    "plt.title('Corn Field Expansion vs. Deforestation Rate')\n",
    "plt.xlabel('Average Corn Field Expansion Rate (%)')\n",
    "plt.ylabel('Average Deforestation Rate (%)')\n",
    "\n",
    "# Display the plot\n",
    "plt.show()"
   ]
  },
  {
   "cell_type": "code",
   "execution_count": 132,
   "metadata": {
    "scrolled": false
   },
   "outputs": [
    {
     "data": {
      "image/png": "[encoded data removed]",
      "text/plain": [
       "<Figure size 1000x600 with 1 Axes>"
      ]
     },
     "metadata": {},
     "output_type": "display_data"
    }
   ],
   "source": [
    "#Filtered data (only positive values)\n",
    "positive_df = last_df[(last_df[\"Average_Deforestation_Rate\"]>0) &(last_df[\"Average_Corn_Field_Expansion_Rate\"]>0)  ]\n",
    "\n",
    "plt.figure(figsize=(10, 6))\n",
    "sns.scatterplot(data=positive_df, \n",
    "                x='Log_Average_Corn_Field_Expansion_Rate', \n",
    "                y='Average_Deforestation_Rate', \n",
    "                hue='Higher_Than_Median', \n",
    "                palette='coolwarm', \n",
    "                s=100)\n",
    "\n",
    "# Adding labels and title\n",
    "plt.title('Corn Field Expansion vs. Deforestation Rate')\n",
    "plt.xlabel('Average Corn Field Expansion Rate (%)')\n",
    "plt.ylabel('Average Deforestation Rate (%)')\n",
    "\n",
    "# Display the plot\n",
    "plt.show()"
   ]
  },
  {
   "cell_type": "code",
   "execution_count": 133,
   "metadata": {},
   "outputs": [
    {
     "data": {
      "application/vnd.plotly.v1+json": {
       "config": {
        "plotlyServerURL": "https://plot.ly"
       },
       "data": [
        {
         "hovertemplate": "<b>%{hovertext}</b><br><br>Log_Average_Corn_Field_Expansion_Rate=%{x}<br>Average_Deforestation_Rate=%{y}<br>Higher_Than_Median=%{marker.color}<extra></extra>",
         "hovertext": [
          "Albania",
          "Algeria",
          "Austria",
          "Azerbaijan",
          "Belarus",
          "Belgium",
          "Bulgaria",
          "Canada",
          "Chile",
          "China",
          "Costa Rica",
          "Croatia",
          "Cuba",
          "Czechia",
          "Dominican Republic",
          "Germany",
          "India",
          "Jamaica",
          "Kazakhstan",
          "Nepal",
          "Netherlands",
          "New Zealand",
          "Poland",
          "Russian Federation",
          "Syrian Arab Republic",
          "Türkiye",
          "Ukraine",
          "Uruguay",
          "Uzbekistan",
          "Viet Nam"
         ],
         "legendgroup": "",
         "marker": {
          "color": [
           0,
           1,
           0,
           0,
           0,
           0,
           0,
           1,
           1,
           1,
           0,
           0,
           0,
           0,
           0,
           1,
           1,
           0,
           1,
           0,
           0,
           1,
           1,
           1,
           0,
           1,
           1,
           0,
           1,
           1
          ],
          "coloraxis": "coloraxis",
          "symbol": "circle"
         },
         "mode": "markers",
         "name": "",
         "orientation": "v",
         "showlegend": false,
         "type": "scatter",
         "x": [
          -0.503006159710746,
          3.7755652190962934,
          -0.15312682788773496,
          -1.673333455614155,
          3.291625976153824,
          0.6856897242417117,
          1.169670240042082,
          0.5375511730351331,
          -0.43963871007740096,
          1.1047114873932427,
          -0.21013020085341277,
          -2.453159121756273,
          0.3970824454985542,
          1.4815793061034603,
          1.156232175085536,
          0.14693920348883063,
          0.6586564095019444,
          0.39123423304560623,
          1.5267160608307815,
          -0.15099710874401345,
          -0.172331763651992,
          -0.474809935087723,
          2.382402655662512,
          2.170678517723198,
          1.7452413001313296,
          0.5210201589824084,
          2.133549532051671,
          2.114961989755282,
          0.8417031276820229,
          0.3558898648875849
         ],
         "xaxis": "x",
         "y": [
          0.032514930325149294,
          0.0072394070525282905,
          0.03558366015952042,
          0.08554083530512037,
          0.1130910005335085,
          0.03302509907529712,
          0.24877306564852653,
          0.030779367806980804,
          0.1538455519185333,
          0.21718434143718343,
          0.17272015098102048,
          0.044668060577838856,
          0.3891312452845698,
          0.026175368586183755,
          0.2022853312831181,
          0.006593758258035946,
          0.0739242729495623,
          0.33481616721228913,
          0.005505551121841832,
          0.057478517297143,
          0.016058377705297066,
          0.010027361457804383,
          0.06557862011372105,
          0.017385734961721445,
          0.022365295032519696,
          0.1315868427922272,
          0.014527509069781014,
          0.17738232513686747,
          0.07449625334335491,
          0.4126124465257109
         ],
         "yaxis": "y"
        }
       ],
       "layout": {
        "coloraxis": {
         "colorbar": {
          "title": {
           "text": "Higher_Than_Median"
          }
         },
         "colorscale": [
          [
           0,
           "#0d0887"
          ],
          [
           0.1111111111111111,
           "#46039f"
          ],
          [
           0.2222222222222222,
           "#7201a8"
          ],
          [
           0.3333333333333333,
           "#9c179e"
          ],
          [
           0.4444444444444444,
           "#bd3786"
          ],
          [
           0.5555555555555556,
           "#d8576b"
          ],
          [
           0.6666666666666666,
           "#ed7953"
          ],
          [
           0.7777777777777778,
           "#fb9f3a"
          ],
          [
           0.8888888888888888,
           "#fdca26"
          ],
          [
           1,
           "#f0f921"
          ]
         ]
        },
        "legend": {
         "tracegroupgap": 0
        },
        "template": {
         "data": {
          "bar": [
           {
            "error_x": {
             "color": "#2a3f5f"
            },
            "error_y": {
             "color": "#2a3f5f"
            },
            "marker": {
             "line": {
              "color": "white",
              "width": 0.5
             },
             "pattern": {
              "fillmode": "overlay",
              "size": 10,
              "solidity": 0.2
             }
            },
            "type": "bar"
           }
          ],
          "barpolar": [
           {
            "marker": {
             "line": {
              "color": "white",
              "width": 0.5
             },
             "pattern": {
              "fillmode": "overlay",
              "size": 10,
              "solidity": 0.2
             }
            },
            "type": "barpolar"
           }
          ],
          "carpet": [
           {
            "aaxis": {
             "endlinecolor": "#2a3f5f",
             "gridcolor": "#C8D4E3",
             "linecolor": "#C8D4E3",
             "minorgridcolor": "#C8D4E3",
             "startlinecolor": "#2a3f5f"
            },
            "baxis": {
             "endlinecolor": "#2a3f5f",
             "gridcolor": "#C8D4E3",
             "linecolor": "#C8D4E3",
             "minorgridcolor": "#C8D4E3",
             "startlinecolor": "#2a3f5f"
            },
            "type": "carpet"
           }
          ],
          "choropleth": [
           {
            "colorbar": {
             "outlinewidth": 0,
             "ticks": ""
            },
            "type": "choropleth"
           }
          ],
          "contour": [
           {
            "colorbar": {
             "outlinewidth": 0,
             "ticks": ""
            },
            "colorscale": [
             [
              0,
              "#0d0887"
             ],
             [
              0.1111111111111111,
              "#46039f"
             ],
             [
              0.2222222222222222,
              "#7201a8"
             ],
             [
              0.3333333333333333,
              "#9c179e"
             ],
             [
              0.4444444444444444,
              "#bd3786"
             ],
             [
              0.5555555555555556,
              "#d8576b"
             ],
             [
              0.6666666666666666,
              "#ed7953"
             ],
             [
              0.7777777777777778,
              "#fb9f3a"
             ],
             [
              0.8888888888888888,
              "#fdca26"
             ],
             [
              1,
              "#f0f921"
             ]
            ],
            "type": "contour"
           }
          ],
          "contourcarpet": [
           {
            "colorbar": {
             "outlinewidth": 0,
             "ticks": ""
            },
            "type": "contourcarpet"
           }
          ],
          "heatmap": [
           {
            "colorbar": {
             "outlinewidth": 0,
             "ticks": ""
            },
            "colorscale": [
             [
              0,
              "#0d0887"
             ],
             [
              0.1111111111111111,
              "#46039f"
             ],
             [
              0.2222222222222222,
              "#7201a8"
             ],
             [
              0.3333333333333333,
              "#9c179e"
             ],
             [
              0.4444444444444444,
              "#bd3786"
             ],
             [
              0.5555555555555556,
              "#d8576b"
             ],
             [
              0.6666666666666666,
              "#ed7953"
             ],
             [
              0.7777777777777778,
              "#fb9f3a"
             ],
             [
              0.8888888888888888,
              "#fdca26"
             ],
             [
              1,
              "#f0f921"
             ]
            ],
            "type": "heatmap"
           }
          ],
          "heatmapgl": [
           {
            "colorbar": {
             "outlinewidth": 0,
             "ticks": ""
            },
            "colorscale": [
             [
              0,
              "#0d0887"
             ],
             [
              0.1111111111111111,
              "#46039f"
             ],
             [
              0.2222222222222222,
              "#7201a8"
             ],
             [
              0.3333333333333333,
              "#9c179e"
             ],
             [
              0.4444444444444444,
              "#bd3786"
             ],
             [
              0.5555555555555556,
              "#d8576b"
             ],
             [
              0.6666666666666666,
              "#ed7953"
             ],
             [
              0.7777777777777778,
              "#fb9f3a"
             ],
             [
              0.8888888888888888,
              "#fdca26"
             ],
             [
              1,
              "#f0f921"
             ]
            ],
            "type": "heatmapgl"
           }
          ],
          "histogram": [
           {
            "marker": {
             "pattern": {
              "fillmode": "overlay",
              "size": 10,
              "solidity": 0.2
             }
            },
            "type": "histogram"
           }
          ],
          "histogram2d": [
           {
            "colorbar": {
             "outlinewidth": 0,
             "ticks": ""
            },
            "colorscale": [
             [
              0,
              "#0d0887"
             ],
             [
              0.1111111111111111,
              "#46039f"
             ],
             [
              0.2222222222222222,
              "#7201a8"
             ],
             [
              0.3333333333333333,
              "#9c179e"
             ],
             [
              0.4444444444444444,
              "#bd3786"
             ],
             [
              0.5555555555555556,
              "#d8576b"
             ],
             [
              0.6666666666666666,
              "#ed7953"
             ],
             [
              0.7777777777777778,
              "#fb9f3a"
             ],
             [
              0.8888888888888888,
              "#fdca26"
             ],
             [
              1,
              "#f0f921"
             ]
            ],
            "type": "histogram2d"
           }
          ],
          "histogram2dcontour": [
           {
            "colorbar": {
             "outlinewidth": 0,
             "ticks": ""
            },
            "colorscale": [
             [
              0,
              "#0d0887"
             ],
             [
              0.1111111111111111,
              "#46039f"
             ],
             [
              0.2222222222222222,
              "#7201a8"
             ],
             [
              0.3333333333333333,
              "#9c179e"
             ],
             [
              0.4444444444444444,
              "#bd3786"
             ],
             [
              0.5555555555555556,
              "#d8576b"
             ],
             [
              0.6666666666666666,
              "#ed7953"
             ],
             [
              0.7777777777777778,
              "#fb9f3a"
             ],
             [
              0.8888888888888888,
              "#fdca26"
             ],
             [
              1,
              "#f0f921"
             ]
            ],
            "type": "histogram2dcontour"
           }
          ],
          "mesh3d": [
           {
            "colorbar": {
             "outlinewidth": 0,
             "ticks": ""
            },
            "type": "mesh3d"
           }
          ],
          "parcoords": [
           {
            "line": {
             "colorbar": {
              "outlinewidth": 0,
              "ticks": ""
             }
            },
            "type": "parcoords"
           }
          ],
          "pie": [
           {
            "automargin": true,
            "type": "pie"
           }
          ],
          "scatter": [
           {
            "fillpattern": {
             "fillmode": "overlay",
             "size": 10,
             "solidity": 0.2
            },
            "type": "scatter"
           }
          ],
          "scatter3d": [
           {
            "line": {
             "colorbar": {
              "outlinewidth": 0,
              "ticks": ""
             }
            },
            "marker": {
             "colorbar": {
              "outlinewidth": 0,
              "ticks": ""
             }
            },
            "type": "scatter3d"
           }
          ],
          "scattercarpet": [
           {
            "marker": {
             "colorbar": {
              "outlinewidth": 0,
              "ticks": ""
             }
            },
            "type": "scattercarpet"
           }
          ],
          "scattergeo": [
           {
            "marker": {
             "colorbar": {
              "outlinewidth": 0,
              "ticks": ""
             }
            },
            "type": "scattergeo"
           }
          ],
          "scattergl": [
           {
            "marker": {
             "colorbar": {
              "outlinewidth": 0,
              "ticks": ""
             }
            },
            "type": "scattergl"
           }
          ],
          "scattermapbox": [
           {
            "marker": {
             "colorbar": {
              "outlinewidth": 0,
              "ticks": ""
             }
            },
            "type": "scattermapbox"
           }
          ],
          "scatterpolar": [
           {
            "marker": {
             "colorbar": {
              "outlinewidth": 0,
              "ticks": ""
             }
            },
            "type": "scatterpolar"
           }
          ],
          "scatterpolargl": [
           {
            "marker": {
             "colorbar": {
              "outlinewidth": 0,
              "ticks": ""
             }
            },
            "type": "scatterpolargl"
           }
          ],
          "scatterternary": [
           {
            "marker": {
             "colorbar": {
              "outlinewidth": 0,
              "ticks": ""
             }
            },
            "type": "scatterternary"
           }
          ],
          "surface": [
           {
            "colorbar": {
             "outlinewidth": 0,
             "ticks": ""
            },
            "colorscale": [
             [
              0,
              "#0d0887"
             ],
             [
              0.1111111111111111,
              "#46039f"
             ],
             [
              0.2222222222222222,
              "#7201a8"
             ],
             [
              0.3333333333333333,
              "#9c179e"
             ],
             [
              0.4444444444444444,
              "#bd3786"
             ],
             [
              0.5555555555555556,
              "#d8576b"
             ],
             [
              0.6666666666666666,
              "#ed7953"
             ],
             [
              0.7777777777777778,
              "#fb9f3a"
             ],
             [
              0.8888888888888888,
              "#fdca26"
             ],
             [
              1,
              "#f0f921"
             ]
            ],
            "type": "surface"
           }
          ],
          "table": [
           {
            "cells": {
             "fill": {
              "color": "#EBF0F8"
             },
             "line": {
              "color": "white"
             }
            },
            "header": {
             "fill": {
              "color": "#C8D4E3"
             },
             "line": {
              "color": "white"
             }
            },
            "type": "table"
           }
          ]
         },
         "layout": {
          "annotationdefaults": {
           "arrowcolor": "#2a3f5f",
           "arrowhead": 0,
           "arrowwidth": 1
          },
          "autotypenumbers": "strict",
          "coloraxis": {
           "colorbar": {
            "outlinewidth": 0,
            "ticks": ""
           }
          },
          "colorscale": {
           "diverging": [
            [
             0,
             "#8e0152"
            ],
            [
             0.1,
             "#c51b7d"
            ],
            [
             0.2,
             "#de77ae"
            ],
            [
             0.3,
             "#f1b6da"
            ],
            [
             0.4,
             "#fde0ef"
            ],
            [
             0.5,
             "#f7f7f7"
            ],
            [
             0.6,
             "#e6f5d0"
            ],
            [
             0.7,
             "#b8e186"
            ],
            [
             0.8,
             "#7fbc41"
            ],
            [
             0.9,
             "#4d9221"
            ],
            [
             1,
             "#276419"
            ]
           ],
           "sequential": [
            [
             0,
             "#0d0887"
            ],
            [
             0.1111111111111111,
             "#46039f"
            ],
            [
             0.2222222222222222,
             "#7201a8"
            ],
            [
             0.3333333333333333,
             "#9c179e"
            ],
            [
             0.4444444444444444,
             "#bd3786"
            ],
            [
             0.5555555555555556,
             "#d8576b"
            ],
            [
             0.6666666666666666,
             "#ed7953"
            ],
            [
             0.7777777777777778,
             "#fb9f3a"
            ],
            [
             0.8888888888888888,
             "#fdca26"
            ],
            [
             1,
             "#f0f921"
            ]
           ],
           "sequentialminus": [
            [
             0,
             "#0d0887"
            ],
            [
             0.1111111111111111,
             "#46039f"
            ],
            [
             0.2222222222222222,
             "#7201a8"
            ],
            [
             0.3333333333333333,
             "#9c179e"
            ],
            [
             0.4444444444444444,
             "#bd3786"
            ],
            [
             0.5555555555555556,
             "#d8576b"
            ],
            [
             0.6666666666666666,
             "#ed7953"
            ],
            [
             0.7777777777777778,
             "#fb9f3a"
            ],
            [
             0.8888888888888888,
             "#fdca26"
            ],
            [
             1,
             "#f0f921"
            ]
           ]
          },
          "colorway": [
           "#636efa",
           "#EF553B",
           "#00cc96",
           "#ab63fa",
           "#FFA15A",
           "#19d3f3",
           "#FF6692",
           "#B6E880",
           "#FF97FF",
           "#FECB52"
          ],
          "font": {
           "color": "#2a3f5f"
          },
          "geo": {
           "bgcolor": "white",
           "lakecolor": "white",
           "landcolor": "white",
           "showlakes": true,
           "showland": true,
           "subunitcolor": "#C8D4E3"
          },
          "hoverlabel": {
           "align": "left"
          },
          "hovermode": "closest",
          "mapbox": {
           "style": "light"
          },
          "paper_bgcolor": "white",
          "plot_bgcolor": "white",
          "polar": {
           "angularaxis": {
            "gridcolor": "#EBF0F8",
            "linecolor": "#EBF0F8",
            "ticks": ""
           },
           "bgcolor": "white",
           "radialaxis": {
            "gridcolor": "#EBF0F8",
            "linecolor": "#EBF0F8",
            "ticks": ""
           }
          },
          "scene": {
           "xaxis": {
            "backgroundcolor": "white",
            "gridcolor": "#DFE8F3",
            "gridwidth": 2,
            "linecolor": "#EBF0F8",
            "showbackground": true,
            "ticks": "",
            "zerolinecolor": "#EBF0F8"
           },
           "yaxis": {
            "backgroundcolor": "white",
            "gridcolor": "#DFE8F3",
            "gridwidth": 2,
            "linecolor": "#EBF0F8",
            "showbackground": true,
            "ticks": "",
            "zerolinecolor": "#EBF0F8"
           },
           "zaxis": {
            "backgroundcolor": "white",
            "gridcolor": "#DFE8F3",
            "gridwidth": 2,
            "linecolor": "#EBF0F8",
            "showbackground": true,
            "ticks": "",
            "zerolinecolor": "#EBF0F8"
           }
          },
          "shapedefaults": {
           "line": {
            "color": "#2a3f5f"
           }
          },
          "ternary": {
           "aaxis": {
            "gridcolor": "#DFE8F3",
            "linecolor": "#A2B1C6",
            "ticks": ""
           },
           "baxis": {
            "gridcolor": "#DFE8F3",
            "linecolor": "#A2B1C6",
            "ticks": ""
           },
           "bgcolor": "white",
           "caxis": {
            "gridcolor": "#DFE8F3",
            "linecolor": "#A2B1C6",
            "ticks": ""
           }
          },
          "title": {
           "x": 0.05
          },
          "xaxis": {
           "automargin": true,
           "gridcolor": "#EBF0F8",
           "linecolor": "#EBF0F8",
           "ticks": "",
           "title": {
            "standoff": 15
           },
           "zerolinecolor": "#EBF0F8",
           "zerolinewidth": 2
          },
          "yaxis": {
           "automargin": true,
           "gridcolor": "#EBF0F8",
           "linecolor": "#EBF0F8",
           "ticks": "",
           "title": {
            "standoff": 15
           },
           "zerolinecolor": "#EBF0F8",
           "zerolinewidth": 2
          }
         }
        },
        "title": {
         "text": "Corn Field Expansion vs. Deforestation Rate"
        },
        "xaxis": {
         "anchor": "y",
         "domain": [
          0,
          1
         ],
         "title": {
          "text": "Log_Average_Corn_Field_Expansion_Rate"
         }
        },
        "yaxis": {
         "anchor": "x",
         "domain": [
          0,
          1
         ],
         "title": {
          "text": "Average_Deforestation_Rate"
         }
        }
       }
      },
      "text/html": [
       "<div>                            <div id=\"98153004-efb1-4c84-b5be-80e546fa10ae\" class=\"plotly-graph-div\" style=\"height:525px; width:100%;\"></div>            <script type=\"text/javascript\">                require([\"plotly\"], function(Plotly) {                    window.PLOTLYENV=window.PLOTLYENV || {};                                    if (document.getElementById(\"98153004-efb1-4c84-b5be-80e546fa10ae\")) {                    Plotly.newPlot(                        \"98153004-efb1-4c84-b5be-80e546fa10ae\",                        [{\"hovertemplate\":\"<b>%{hovertext}</b><br><br>Log_Average_Corn_Field_Expansion_Rate=%{x}<br>Average_Deforestation_Rate=%{y}<br>Higher_Than_Median=%{marker.color}<extra></extra>\",\"hovertext\":[\"Albania\",\"Algeria\",\"Austria\",\"Azerbaijan\",\"Belarus\",\"Belgium\",\"Bulgaria\",\"Canada\",\"Chile\",\"China\",\"Costa Rica\",\"Croatia\",\"Cuba\",\"Czechia\",\"Dominican Republic\",\"Germany\",\"India\",\"Jamaica\",\"Kazakhstan\",\"Nepal\",\"Netherlands\",\"New Zealand\",\"Poland\",\"Russian Federation\",\"Syrian Arab Republic\",\"T\\u00fcrkiye\",\"Ukraine\",\"Uruguay\",\"Uzbekistan\",\"Viet Nam\"],\"legendgroup\":\"\",\"marker\":{\"color\":[0,1,0,0,0,0,0,1,1,1,0,0,0,0,0,1,1,0,1,0,0,1,1,1,0,1,1,0,1,1],\"coloraxis\":\"coloraxis\",\"symbol\":\"circle\"},\"mode\":\"markers\",\"name\":\"\",\"orientation\":\"v\",\"showlegend\":false,\"x\":[-0.503006159710746,3.7755652190962934,-0.15312682788773496,-1.673333455614155,3.291625976153824,0.6856897242417117,1.169670240042082,0.5375511730351331,-0.43963871007740096,1.1047114873932427,-0.21013020085341277,-2.453159121756273,0.3970824454985542,1.4815793061034603,1.156232175085536,0.14693920348883063,0.6586564095019444,0.39123423304560623,1.5267160608307815,-0.15099710874401345,-0.172331763651992,-0.474809935087723,2.382402655662512,2.170678517723198,1.7452413001313296,0.5210201589824084,2.133549532051671,2.114961989755282,0.8417031276820229,0.3558898648875849],\"xaxis\":\"x\",\"y\":[0.032514930325149294,0.0072394070525282905,0.03558366015952042,0.08554083530512037,0.1130910005335085,0.03302509907529712,0.24877306564852653,0.030779367806980804,0.1538455519185333,0.21718434143718343,0.17272015098102048,0.044668060577838856,0.3891312452845698,0.026175368586183755,0.2022853312831181,0.006593758258035946,0.0739242729495623,0.33481616721228913,0.005505551121841832,0.057478517297143,0.016058377705297066,0.010027361457804383,0.06557862011372105,0.017385734961721445,0.022365295032519696,0.1315868427922272,0.014527509069781014,0.17738232513686747,0.07449625334335491,0.4126124465257109],\"yaxis\":\"y\",\"type\":\"scatter\"}],                        {\"template\":{\"data\":{\"barpolar\":[{\"marker\":{\"line\":{\"color\":\"white\",\"width\":0.5},\"pattern\":{\"fillmode\":\"overlay\",\"size\":10,\"solidity\":0.2}},\"type\":\"barpolar\"}],\"bar\":[{\"error_x\":{\"color\":\"#2a3f5f\"},\"error_y\":{\"color\":\"#2a3f5f\"},\"marker\":{\"line\":{\"color\":\"white\",\"width\":0.5},\"pattern\":{\"fillmode\":\"overlay\",\"size\":10,\"solidity\":0.2}},\"type\":\"bar\"}],\"carpet\":[{\"aaxis\":{\"endlinecolor\":\"#2a3f5f\",\"gridcolor\":\"#C8D4E3\",\"linecolor\":\"#C8D4E3\",\"minorgridcolor\":\"#C8D4E3\",\"startlinecolor\":\"#2a3f5f\"},\"baxis\":{\"endlinecolor\":\"#2a3f5f\",\"gridcolor\":\"#C8D4E3\",\"linecolor\":\"#C8D4E3\",\"minorgridcolor\":\"#C8D4E3\",\"startlinecolor\":\"#2a3f5f\"},\"type\":\"carpet\"}],\"choropleth\":[{\"colorbar\":{\"outlinewidth\":0,\"ticks\":\"\"},\"type\":\"choropleth\"}],\"contourcarpet\":[{\"colorbar\":{\"outlinewidth\":0,\"ticks\":\"\"},\"type\":\"contourcarpet\"}],\"contour\":[{\"colorbar\":{\"outlinewidth\":0,\"ticks\":\"\"},\"colorscale\":[[0.0,\"#0d0887\"],[0.1111111111111111,\"#46039f\"],[0.2222222222222222,\"#7201a8\"],[0.3333333333333333,\"#9c179e\"],[0.4444444444444444,\"#bd3786\"],[0.5555555555555556,\"#d8576b\"],[0.6666666666666666,\"#ed7953\"],[0.7777777777777778,\"#fb9f3a\"],[0.8888888888888888,\"#fdca26\"],[1.0,\"#f0f921\"]],\"type\":\"contour\"}],\"heatmapgl\":[{\"colorbar\":{\"outlinewidth\":0,\"ticks\":\"\"},\"colorscale\":[[0.0,\"#0d0887\"],[0.1111111111111111,\"#46039f\"],[0.2222222222222222,\"#7201a8\"],[0.3333333333333333,\"#9c179e\"],[0.4444444444444444,\"#bd3786\"],[0.5555555555555556,\"#d8576b\"],[0.6666666666666666,\"#ed7953\"],[0.7777777777777778,\"#fb9f3a\"],[0.8888888888888888,\"#fdca26\"],[1.0,\"#f0f921\"]],\"type\":\"heatmapgl\"}],\"heatmap\":[{\"colorbar\":{\"outlinewidth\":0,\"ticks\":\"\"},\"colorscale\":[[0.0,\"#0d0887\"],[0.1111111111111111,\"#46039f\"],[0.2222222222222222,\"#7201a8\"],[0.3333333333333333,\"#9c179e\"],[0.4444444444444444,\"#bd3786\"],[0.5555555555555556,\"#d8576b\"],[0.6666666666666666,\"#ed7953\"],[0.7777777777777778,\"#fb9f3a\"],[0.8888888888888888,\"#fdca26\"],[1.0,\"#f0f921\"]],\"type\":\"heatmap\"}],\"histogram2dcontour\":[{\"colorbar\":{\"outlinewidth\":0,\"ticks\":\"\"},\"colorscale\":[[0.0,\"#0d0887\"],[0.1111111111111111,\"#46039f\"],[0.2222222222222222,\"#7201a8\"],[0.3333333333333333,\"#9c179e\"],[0.4444444444444444,\"#bd3786\"],[0.5555555555555556,\"#d8576b\"],[0.6666666666666666,\"#ed7953\"],[0.7777777777777778,\"#fb9f3a\"],[0.8888888888888888,\"#fdca26\"],[1.0,\"#f0f921\"]],\"type\":\"histogram2dcontour\"}],\"histogram2d\":[{\"colorbar\":{\"outlinewidth\":0,\"ticks\":\"\"},\"colorscale\":[[0.0,\"#0d0887\"],[0.1111111111111111,\"#46039f\"],[0.2222222222222222,\"#7201a8\"],[0.3333333333333333,\"#9c179e\"],[0.4444444444444444,\"#bd3786\"],[0.5555555555555556,\"#d8576b\"],[0.6666666666666666,\"#ed7953\"],[0.7777777777777778,\"#fb9f3a\"],[0.8888888888888888,\"#fdca26\"],[1.0,\"#f0f921\"]],\"type\":\"histogram2d\"}],\"histogram\":[{\"marker\":{\"pattern\":{\"fillmode\":\"overlay\",\"size\":10,\"solidity\":0.2}},\"type\":\"histogram\"}],\"mesh3d\":[{\"colorbar\":{\"outlinewidth\":0,\"ticks\":\"\"},\"type\":\"mesh3d\"}],\"parcoords\":[{\"line\":{\"colorbar\":{\"outlinewidth\":0,\"ticks\":\"\"}},\"type\":\"parcoords\"}],\"pie\":[{\"automargin\":true,\"type\":\"pie\"}],\"scatter3d\":[{\"line\":{\"colorbar\":{\"outlinewidth\":0,\"ticks\":\"\"}},\"marker\":{\"colorbar\":{\"outlinewidth\":0,\"ticks\":\"\"}},\"type\":\"scatter3d\"}],\"scattercarpet\":[{\"marker\":{\"colorbar\":{\"outlinewidth\":0,\"ticks\":\"\"}},\"type\":\"scattercarpet\"}],\"scattergeo\":[{\"marker\":{\"colorbar\":{\"outlinewidth\":0,\"ticks\":\"\"}},\"type\":\"scattergeo\"}],\"scattergl\":[{\"marker\":{\"colorbar\":{\"outlinewidth\":0,\"ticks\":\"\"}},\"type\":\"scattergl\"}],\"scattermapbox\":[{\"marker\":{\"colorbar\":{\"outlinewidth\":0,\"ticks\":\"\"}},\"type\":\"scattermapbox\"}],\"scatterpolargl\":[{\"marker\":{\"colorbar\":{\"outlinewidth\":0,\"ticks\":\"\"}},\"type\":\"scatterpolargl\"}],\"scatterpolar\":[{\"marker\":{\"colorbar\":{\"outlinewidth\":0,\"ticks\":\"\"}},\"type\":\"scatterpolar\"}],\"scatter\":[{\"fillpattern\":{\"fillmode\":\"overlay\",\"size\":10,\"solidity\":0.2},\"type\":\"scatter\"}],\"scatterternary\":[{\"marker\":{\"colorbar\":{\"outlinewidth\":0,\"ticks\":\"\"}},\"type\":\"scatterternary\"}],\"surface\":[{\"colorbar\":{\"outlinewidth\":0,\"ticks\":\"\"},\"colorscale\":[[0.0,\"#0d0887\"],[0.1111111111111111,\"#46039f\"],[0.2222222222222222,\"#7201a8\"],[0.3333333333333333,\"#9c179e\"],[0.4444444444444444,\"#bd3786\"],[0.5555555555555556,\"#d8576b\"],[0.6666666666666666,\"#ed7953\"],[0.7777777777777778,\"#fb9f3a\"],[0.8888888888888888,\"#fdca26\"],[1.0,\"#f0f921\"]],\"type\":\"surface\"}],\"table\":[{\"cells\":{\"fill\":{\"color\":\"#EBF0F8\"},\"line\":{\"color\":\"white\"}},\"header\":{\"fill\":{\"color\":\"#C8D4E3\"},\"line\":{\"color\":\"white\"}},\"type\":\"table\"}]},\"layout\":{\"annotationdefaults\":{\"arrowcolor\":\"#2a3f5f\",\"arrowhead\":0,\"arrowwidth\":1},\"autotypenumbers\":\"strict\",\"coloraxis\":{\"colorbar\":{\"outlinewidth\":0,\"ticks\":\"\"}},\"colorscale\":{\"diverging\":[[0,\"#8e0152\"],[0.1,\"#c51b7d\"],[0.2,\"#de77ae\"],[0.3,\"#f1b6da\"],[0.4,\"#fde0ef\"],[0.5,\"#f7f7f7\"],[0.6,\"#e6f5d0\"],[0.7,\"#b8e186\"],[0.8,\"#7fbc41\"],[0.9,\"#4d9221\"],[1,\"#276419\"]],\"sequential\":[[0.0,\"#0d0887\"],[0.1111111111111111,\"#46039f\"],[0.2222222222222222,\"#7201a8\"],[0.3333333333333333,\"#9c179e\"],[0.4444444444444444,\"#bd3786\"],[0.5555555555555556,\"#d8576b\"],[0.6666666666666666,\"#ed7953\"],[0.7777777777777778,\"#fb9f3a\"],[0.8888888888888888,\"#fdca26\"],[1.0,\"#f0f921\"]],\"sequentialminus\":[[0.0,\"#0d0887\"],[0.1111111111111111,\"#46039f\"],[0.2222222222222222,\"#7201a8\"],[0.3333333333333333,\"#9c179e\"],[0.4444444444444444,\"#bd3786\"],[0.5555555555555556,\"#d8576b\"],[0.6666666666666666,\"#ed7953\"],[0.7777777777777778,\"#fb9f3a\"],[0.8888888888888888,\"#fdca26\"],[1.0,\"#f0f921\"]]},\"colorway\":[\"#636efa\",\"#EF553B\",\"#00cc96\",\"#ab63fa\",\"#FFA15A\",\"#19d3f3\",\"#FF6692\",\"#B6E880\",\"#FF97FF\",\"#FECB52\"],\"font\":{\"color\":\"#2a3f5f\"},\"geo\":{\"bgcolor\":\"white\",\"lakecolor\":\"white\",\"landcolor\":\"white\",\"showlakes\":true,\"showland\":true,\"subunitcolor\":\"#C8D4E3\"},\"hoverlabel\":{\"align\":\"left\"},\"hovermode\":\"closest\",\"mapbox\":{\"style\":\"light\"},\"paper_bgcolor\":\"white\",\"plot_bgcolor\":\"white\",\"polar\":{\"angularaxis\":{\"gridcolor\":\"#EBF0F8\",\"linecolor\":\"#EBF0F8\",\"ticks\":\"\"},\"bgcolor\":\"white\",\"radialaxis\":{\"gridcolor\":\"#EBF0F8\",\"linecolor\":\"#EBF0F8\",\"ticks\":\"\"}},\"scene\":{\"xaxis\":{\"backgroundcolor\":\"white\",\"gridcolor\":\"#DFE8F3\",\"gridwidth\":2,\"linecolor\":\"#EBF0F8\",\"showbackground\":true,\"ticks\":\"\",\"zerolinecolor\":\"#EBF0F8\"},\"yaxis\":{\"backgroundcolor\":\"white\",\"gridcolor\":\"#DFE8F3\",\"gridwidth\":2,\"linecolor\":\"#EBF0F8\",\"showbackground\":true,\"ticks\":\"\",\"zerolinecolor\":\"#EBF0F8\"},\"zaxis\":{\"backgroundcolor\":\"white\",\"gridcolor\":\"#DFE8F3\",\"gridwidth\":2,\"linecolor\":\"#EBF0F8\",\"showbackground\":true,\"ticks\":\"\",\"zerolinecolor\":\"#EBF0F8\"}},\"shapedefaults\":{\"line\":{\"color\":\"#2a3f5f\"}},\"ternary\":{\"aaxis\":{\"gridcolor\":\"#DFE8F3\",\"linecolor\":\"#A2B1C6\",\"ticks\":\"\"},\"baxis\":{\"gridcolor\":\"#DFE8F3\",\"linecolor\":\"#A2B1C6\",\"ticks\":\"\"},\"bgcolor\":\"white\",\"caxis\":{\"gridcolor\":\"#DFE8F3\",\"linecolor\":\"#A2B1C6\",\"ticks\":\"\"}},\"title\":{\"x\":0.05},\"xaxis\":{\"automargin\":true,\"gridcolor\":\"#EBF0F8\",\"linecolor\":\"#EBF0F8\",\"ticks\":\"\",\"title\":{\"standoff\":15},\"zerolinecolor\":\"#EBF0F8\",\"zerolinewidth\":2},\"yaxis\":{\"automargin\":true,\"gridcolor\":\"#EBF0F8\",\"linecolor\":\"#EBF0F8\",\"ticks\":\"\",\"title\":{\"standoff\":15},\"zerolinecolor\":\"#EBF0F8\",\"zerolinewidth\":2}}},\"xaxis\":{\"anchor\":\"y\",\"domain\":[0.0,1.0],\"title\":{\"text\":\"Log_Average_Corn_Field_Expansion_Rate\"}},\"yaxis\":{\"anchor\":\"x\",\"domain\":[0.0,1.0],\"title\":{\"text\":\"Average_Deforestation_Rate\"}},\"coloraxis\":{\"colorbar\":{\"title\":{\"text\":\"Higher_Than_Median\"}},\"colorscale\":[[0.0,\"#0d0887\"],[0.1111111111111111,\"#46039f\"],[0.2222222222222222,\"#7201a8\"],[0.3333333333333333,\"#9c179e\"],[0.4444444444444444,\"#bd3786\"],[0.5555555555555556,\"#d8576b\"],[0.6666666666666666,\"#ed7953\"],[0.7777777777777778,\"#fb9f3a\"],[0.8888888888888888,\"#fdca26\"],[1.0,\"#f0f921\"]]},\"legend\":{\"tracegroupgap\":0},\"title\":{\"text\":\"Corn Field Expansion vs. Deforestation Rate\"}},                        {\"responsive\": true}                    ).then(function(){\n",
       "                            \n",
       "var gd = document.getElementById('98153004-efb1-4c84-b5be-80e546fa10ae');\n",
       "var x = new MutationObserver(function (mutations, observer) {{\n",
       "        var display = window.getComputedStyle(gd).display;\n",
       "        if (!display || display === 'none') {{\n",
       "            console.log([gd, 'removed!']);\n",
       "            Plotly.purge(gd);\n",
       "            observer.disconnect();\n",
       "        }}\n",
       "}});\n",
       "\n",
       "// Listen for the removal of the full notebook cells\n",
       "var notebookContainer = gd.closest('#notebook-container');\n",
       "if (notebookContainer) {{\n",
       "    x.observe(notebookContainer, {childList: true});\n",
       "}}\n",
       "\n",
       "// Listen for the clearing of the current output cell\n",
       "var outputEl = gd.closest('.output');\n",
       "if (outputEl) {{\n",
       "    x.observe(outputEl, {childList: true});\n",
       "}}\n",
       "\n",
       "                        })                };                });            </script>        </div>"
      ]
     },
     "metadata": {},
     "output_type": "display_data"
    }
   ],
   "source": [
    "import plotly.express as px\n",
    "\n",
    "# Assuming you have your 'positive_df' DataFrame with 'Country', 'Average_Corn_Field_Expansion_Rate(%)',\n",
    "# 'Average_Deforestation_Rate(%)', and 'Higher_Than_Median'\n",
    "\n",
    "# Create an interactive scatter plot\n",
    "fig = px.scatter(\n",
    "    positive_df, \n",
    "    x='Log_Average_Corn_Field_Expansion_Rate', \n",
    "    y='Average_Deforestation_Rate', \n",
    "    color='Higher_Than_Median', \n",
    "    hover_name='Country',  # Display country name on hover\n",
    "    title='Corn Field Expansion vs. Deforestation Rate',\n",
    "    labels={\n",
    "        'Average_Corn_Field_Expansion_Rate(%)': 'Corn Field Expansion Rate (%)',\n",
    "        'Average_Deforestation_Rate(%)': 'Deforestation Rate (%)'\n",
    "    },\n",
    "    size_max=100,\n",
    "    template=\"plotly_white\"\n",
    ")\n",
    "\n",
    "# Show the interactive plot\n",
    "fig.show()\n"
   ]
  },
  {
   "cell_type": "code",
   "execution_count": 135,
   "metadata": {},
   "outputs": [
    {
     "data": {
      "image/png": "[encoded data removed]",
      "text/plain": [
       "<Figure size 800x600 with 2 Axes>"
      ]
     },
     "metadata": {},
     "output_type": "display_data"
    }
   ],
   "source": [
    "df_features = positive_df[['Higher_Than_Median','Log_Average_Corn_Field_Expansion_Rate', 'Average_Deforestation_Rate']]\n",
    "\n",
    "# Calculating the correlation matrix\n",
    "correlation_matrix = df_features.corr()\n",
    "\n",
    "# Plotting the heatmap\n",
    "plt.figure(figsize=(8, 6))\n",
    "sns.heatmap(correlation_matrix, annot=True, cmap=\"coolwarm\", linewidths=0.5)\n",
    "\n",
    "# Display the plot\n",
    "plt.title('Correlation Heatmap between Log Corn Field Expansion and Deforestation Rates')\n",
    "plt.show()"
   ]
  },
  {
   "cell_type": "code",
   "execution_count": 108,
   "metadata": {},
   "outputs": [
    {
     "data": {
      "text/plain": [
       "Index(['Country', 'Average_Land_Size', 'Average_Corn_Field_Expansion_Rate',\n",
       "       'Average_Deforestation_Rate', 'iso3',\n",
       "       'Log_Average_Corn_Field_Expansion_Rate', 'Higher_Than_Median'],\n",
       "      dtype='object')"
      ]
     },
     "execution_count": 108,
     "metadata": {},
     "output_type": "execute_result"
    }
   ],
   "source": [
    "last_df.columns"
   ]
  },
  {
   "cell_type": "code",
   "execution_count": 136,
   "metadata": {},
   "outputs": [
    {
     "data": {
      "text/html": [
       "<style>\n",
       "        .bk-notebook-logo {\n",
       "            display: block;\n",
       "            width: 20px;\n",
       "            height: 20px;\n",
       "            background-image: url(data:image/png;base64,iVBORw0KGgoAAAANSUhEUgAAABQAAAAUCAYAAACNiR0NAAAABHNCSVQICAgIfAhkiAAAAAlwSFlzAAALEgAACxIB0t1+/AAAABx0RVh0U29mdHdhcmUAQWRvYmUgRmlyZXdvcmtzIENTNui8sowAAAOkSURBVDiNjZRtaJVlGMd/1/08zzln5zjP1LWcU9N0NkN8m2CYjpgQYQXqSs0I84OLIC0hkEKoPtiH3gmKoiJDU7QpLgoLjLIQCpEsNJ1vqUOdO7ppbuec5+V+rj4ctwzd8IIbbi6u+8f1539dt3A78eXC7QizUF7gyV1fD1Yqg4JWz84yffhm0qkFqBogB9rM8tZdtwVsPUhWhGcFJngGeWrPzHm5oaMmkfEg1usvLFyc8jLRqDOMru7AyC8saQr7GG7f5fvDeH7Ej8CM66nIF+8yngt6HWaKh7k49Soy9nXurCi1o3qUbS3zWfrYeQDTB/Qj6kX6Ybhw4B+bOYoLKCC9H3Nu/leUTZ1JdRWkkn2ldcCamzrcf47KKXdAJllSlxAOkRgyHsGC/zRday5Qld9DyoM4/q/rUoy/CXh3jzOu3bHUVZeU+DEn8FInkPBFlu3+nW3Nw0mk6vCDiWg8CeJaxEwuHS3+z5RgY+YBR6V1Z1nxSOfoaPa4LASWxxdNp+VWTk7+4vzaou8v8PN+xo+KY2xsw6une2frhw05CTYOmQvsEhjhWjn0bmXPjpE1+kplmmkP3suftwTubK9Vq22qKmrBhpY4jvd5afdRA3wGjFAgcnTK2s4hY0/GPNIb0nErGMCRxWOOX64Z8RAC4oCXdklmEvcL8o0BfkNK4lUg9HTl+oPlQxdNo3Mg4Nv175e/1LDGzZen30MEjRUtmXSfiTVu1kK8W4txyV6BMKlbgk3lMwYCiusNy9fVfvvwMxv8Ynl6vxoByANLTWplvuj/nF9m2+PDtt1eiHPBr1oIfhCChQMBw6Aw0UulqTKZdfVvfG7VcfIqLG9bcldL/+pdWTLxLUy8Qq38heUIjh4XlzZxzQm19lLFlr8vdQ97rjZVOLf8nclzckbcD4wxXMidpX30sFd37Fv/GtwwhzhxGVAprjbg0gCAEeIgwCZyTV2Z1REEW8O4py0wsjeloKoMr6iCY6dP92H6Vw/oTyICIthibxjm/DfN9lVz8IqtqKYLUXfoKVMVQVVJOElGjrnnUt9T9wbgp8AyYKaGlqingHZU/uG2NTZSVqwHQTWkx9hxjkpWDaCg6Ckj5qebgBVbT3V3NNXMSiWSDdGV3hrtzla7J+duwPOToIg42ChPQOQjspnSlp1V+Gjdged7+8UN5CRAV7a5EdFNwCjEaBR27b3W890TE7g24NAP/mMDXRWrGoFPQI9ls/MWO2dWFAar/xcOIImbbpA3zgAAAABJRU5ErkJggg==);\n",
       "        }\n",
       "    </style>\n",
       "    <div>\n",
       "        <a href=\"https://bokeh.org\" target=\"_blank\" class=\"bk-notebook-logo\"></a>\n",
       "        <span id=\"f31d1567-8c41-46c3-b1c1-f650f46a4bfa\">Loading BokehJS ...</span>\n",
       "    </div>\n"
      ]
     },
     "metadata": {},
     "output_type": "display_data"
    },
    {
     "data": {
      "application/javascript": [
       "(function(root) {\n",
       "  function now() {\n",
       "    return new Date();\n",
       "  }\n",
       "\n",
       "  const force = true;\n",
       "\n",
       "  if (typeof root._bokeh_onload_callbacks === \"undefined\" || force === true) {\n",
       "    root._bokeh_onload_callbacks = [];\n",
       "    root._bokeh_is_loading = undefined;\n",
       "  }\n",
       "\n",
       "const JS_MIME_TYPE = 'application/javascript';\n",
       "  const HTML_MIME_TYPE = 'text/html';\n",
       "  const EXEC_MIME_TYPE = 'application/vnd.bokehjs_exec.v0+json';\n",
       "  const CLASS_NAME = 'output_bokeh rendered_html';\n",
       "\n",
       "  /**\n",
       "   * Render data to the DOM node\n",
       "   */\n",
       "  function render(props, node) {\n",
       "    const script = document.createElement(\"script\");\n",
       "    node.appendChild(script);\n",
       "  }\n",
       "\n",
       "  /**\n",
       "   * Handle when an output is cleared or removed\n",
       "   */\n",
       "  function handleClearOutput(event, handle) {\n",
       "    const cell = handle.cell;\n",
       "\n",
       "    const id = cell.output_area._bokeh_element_id;\n",
       "    const server_id = cell.output_area._bokeh_server_id;\n",
       "    // Clean up Bokeh references\n",
       "    if (id != null && id in Bokeh.index) {\n",
       "      Bokeh.index[id].model.document.clear();\n",
       "      delete Bokeh.index[id];\n",
       "    }\n",
       "\n",
       "    if (server_id !== undefined) {\n",
       "      // Clean up Bokeh references\n",
       "      const cmd_clean = \"from bokeh.io.state import curstate; print(curstate().uuid_to_server['\" + server_id + \"'].get_sessions()[0].document.roots[0]._id)\";\n",
       "      cell.notebook.kernel.execute(cmd_clean, {\n",
       "        iopub: {\n",
       "          output: function(msg) {\n",
       "            const id = msg.content.text.trim();\n",
       "            if (id in Bokeh.index) {\n",
       "              Bokeh.index[id].model.document.clear();\n",
       "              delete Bokeh.index[id];\n",
       "            }\n",
       "          }\n",
       "        }\n",
       "      });\n",
       "      // Destroy server and session\n",
       "      const cmd_destroy = \"import bokeh.io.notebook as ion; ion.destroy_server('\" + server_id + \"')\";\n",
       "      cell.notebook.kernel.execute(cmd_destroy);\n",
       "    }\n",
       "  }\n",
       "\n",
       "  /**\n",
       "   * Handle when a new output is added\n",
       "   */\n",
       "  function handleAddOutput(event, handle) {\n",
       "    const output_area = handle.output_area;\n",
       "    const output = handle.output;\n",
       "\n",
       "    // limit handleAddOutput to display_data with EXEC_MIME_TYPE content only\n",
       "    if ((output.output_type != \"display_data\") || (!Object.prototype.hasOwnProperty.call(output.data, EXEC_MIME_TYPE))) {\n",
       "      return\n",
       "    }\n",
       "\n",
       "    const toinsert = output_area.element.find(\".\" + CLASS_NAME.split(' ')[0]);\n",
       "\n",
       "    if (output.metadata[EXEC_MIME_TYPE][\"id\"] !== undefined) {\n",
       "      toinsert[toinsert.length - 1].firstChild.textContent = output.data[JS_MIME_TYPE];\n",
       "      // store reference to embed id on output_area\n",
       "      output_area._bokeh_element_id = output.metadata[EXEC_MIME_TYPE][\"id\"];\n",
       "    }\n",
       "    if (output.metadata[EXEC_MIME_TYPE][\"server_id\"] !== undefined) {\n",
       "      const bk_div = document.createElement(\"div\");\n",
       "      bk_div.innerHTML = output.data[HTML_MIME_TYPE];\n",
       "      const script_attrs = bk_div.children[0].attributes;\n",
       "      for (let i = 0; i < script_attrs.length; i++) {\n",
       "        toinsert[toinsert.length - 1].firstChild.setAttribute(script_attrs[i].name, script_attrs[i].value);\n",
       "        toinsert[toinsert.length - 1].firstChild.textContent = bk_div.children[0].textContent\n",
       "      }\n",
       "      // store reference to server id on output_area\n",
       "      output_area._bokeh_server_id = output.metadata[EXEC_MIME_TYPE][\"server_id\"];\n",
       "    }\n",
       "  }\n",
       "\n",
       "  function register_renderer(events, OutputArea) {\n",
       "\n",
       "    function append_mime(data, metadata, element) {\n",
       "      // create a DOM node to render to\n",
       "      const toinsert = this.create_output_subarea(\n",
       "        metadata,\n",
       "        CLASS_NAME,\n",
       "        EXEC_MIME_TYPE\n",
       "      );\n",
       "      this.keyboard_manager.register_events(toinsert);\n",
       "      // Render to node\n",
       "      const props = {data: data, metadata: metadata[EXEC_MIME_TYPE]};\n",
       "      render(props, toinsert[toinsert.length - 1]);\n",
       "      element.append(toinsert);\n",
       "      return toinsert\n",
       "    }\n",
       "\n",
       "    /* Handle when an output is cleared or removed */\n",
       "    events.on('clear_output.CodeCell', handleClearOutput);\n",
       "    events.on('delete.Cell', handleClearOutput);\n",
       "\n",
       "    /* Handle when a new output is added */\n",
       "    events.on('output_added.OutputArea', handleAddOutput);\n",
       "\n",
       "    /**\n",
       "     * Register the mime type and append_mime function with output_area\n",
       "     */\n",
       "    OutputArea.prototype.register_mime_type(EXEC_MIME_TYPE, append_mime, {\n",
       "      /* Is output safe? */\n",
       "      safe: true,\n",
       "      /* Index of renderer in `output_area.display_order` */\n",
       "      index: 0\n",
       "    });\n",
       "  }\n",
       "\n",
       "  // register the mime type if in Jupyter Notebook environment and previously unregistered\n",
       "  if (root.Jupyter !== undefined) {\n",
       "    const events = require('base/js/events');\n",
       "    const OutputArea = require('notebook/js/outputarea').OutputArea;\n",
       "\n",
       "    if (OutputArea.prototype.mime_types().indexOf(EXEC_MIME_TYPE) == -1) {\n",
       "      register_renderer(events, OutputArea);\n",
       "    }\n",
       "  }\n",
       "  if (typeof (root._bokeh_timeout) === \"undefined\" || force === true) {\n",
       "    root._bokeh_timeout = Date.now() + 5000;\n",
       "    root._bokeh_failed_load = false;\n",
       "  }\n",
       "\n",
       "  const NB_LOAD_WARNING = {'data': {'text/html':\n",
       "     \"<div style='background-color: #fdd'>\\n\"+\n",
       "     \"<p>\\n\"+\n",
       "     \"BokehJS does not appear to have successfully loaded. If loading BokehJS from CDN, this \\n\"+\n",
       "     \"may be due to a slow or bad network connection. Possible fixes:\\n\"+\n",
       "     \"</p>\\n\"+\n",
       "     \"<ul>\\n\"+\n",
       "     \"<li>re-rerun `output_notebook()` to attempt to load from CDN again, or</li>\\n\"+\n",
       "     \"<li>use INLINE resources instead, as so:</li>\\n\"+\n",
       "     \"</ul>\\n\"+\n",
       "     \"<code>\\n\"+\n",
       "     \"from bokeh.resources import INLINE\\n\"+\n",
       "     \"output_notebook(resources=INLINE)\\n\"+\n",
       "     \"</code>\\n\"+\n",
       "     \"</div>\"}};\n",
       "\n",
       "  function display_loaded() {\n",
       "    const el = document.getElementById(\"f31d1567-8c41-46c3-b1c1-f650f46a4bfa\");\n",
       "    if (el != null) {\n",
       "      el.textContent = \"BokehJS is loading...\";\n",
       "    }\n",
       "    if (root.Bokeh !== undefined) {\n",
       "      if (el != null) {\n",
       "        el.textContent = \"BokehJS \" + root.Bokeh.version + \" successfully loaded.\";\n",
       "      }\n",
       "    } else if (Date.now() < root._bokeh_timeout) {\n",
       "      setTimeout(display_loaded, 100)\n",
       "    }\n",
       "  }\n",
       "\n",
       "  function run_callbacks() {\n",
       "    try {\n",
       "      root._bokeh_onload_callbacks.forEach(function(callback) {\n",
       "        if (callback != null)\n",
       "          callback();\n",
       "      });\n",
       "    } finally {\n",
       "      delete root._bokeh_onload_callbacks\n",
       "    }\n",
       "    console.debug(\"Bokeh: all callbacks have finished\");\n",
       "  }\n",
       "\n",
       "  function load_libs(css_urls, js_urls, callback) {\n",
       "    if (css_urls == null) css_urls = [];\n",
       "    if (js_urls == null) js_urls = [];\n",
       "\n",
       "    root._bokeh_onload_callbacks.push(callback);\n",
       "    if (root._bokeh_is_loading > 0) {\n",
       "      console.debug(\"Bokeh: BokehJS is being loaded, scheduling callback at\", now());\n",
       "      return null;\n",
       "    }\n",
       "    if (js_urls == null || js_urls.length === 0) {\n",
       "      run_callbacks();\n",
       "      return null;\n",
       "    }\n",
       "    console.debug(\"Bokeh: BokehJS not loaded, scheduling load and callback at\", now());\n",
       "    root._bokeh_is_loading = css_urls.length + js_urls.length;\n",
       "\n",
       "    function on_load() {\n",
       "      root._bokeh_is_loading--;\n",
       "      if (root._bokeh_is_loading === 0) {\n",
       "        console.debug(\"Bokeh: all BokehJS libraries/stylesheets loaded\");\n",
       "        run_callbacks()\n",
       "      }\n",
       "    }\n",
       "\n",
       "    function on_error(url) {\n",
       "      console.error(\"failed to load \" + url);\n",
       "    }\n",
       "\n",
       "    for (let i = 0; i < css_urls.length; i++) {\n",
       "      const url = css_urls[i];\n",
       "      const element = document.createElement(\"link\");\n",
       "      element.onload = on_load;\n",
       "      element.onerror = on_error.bind(null, url);\n",
       "      element.rel = \"stylesheet\";\n",
       "      element.type = \"text/css\";\n",
       "      element.href = url;\n",
       "      console.debug(\"Bokeh: injecting link tag for BokehJS stylesheet: \", url);\n",
       "      document.body.appendChild(element);\n",
       "    }\n",
       "\n",
       "    for (let i = 0; i < js_urls.length; i++) {\n",
       "      const url = js_urls[i];\n",
       "      const element = document.createElement('script');\n",
       "      element.onload = on_load;\n",
       "      element.onerror = on_error.bind(null, url);\n",
       "      element.async = false;\n",
       "      element.src = url;\n",
       "      console.debug(\"Bokeh: injecting script tag for BokehJS library: \", url);\n",
       "      document.head.appendChild(element);\n",
       "    }\n",
       "  };\n",
       "\n",
       "  function inject_raw_css(css) {\n",
       "    const element = document.createElement(\"style\");\n",
       "    element.appendChild(document.createTextNode(css));\n",
       "    document.body.appendChild(element);\n",
       "  }\n",
       "\n",
       "  const js_urls = [\"https://cdn.bokeh.org/bokeh/release/bokeh-3.2.1.min.js\", \"https://cdn.bokeh.org/bokeh/release/bokeh-gl-3.2.1.min.js\", \"https://cdn.bokeh.org/bokeh/release/bokeh-widgets-3.2.1.min.js\", \"https://cdn.bokeh.org/bokeh/release/bokeh-tables-3.2.1.min.js\", \"https://cdn.bokeh.org/bokeh/release/bokeh-mathjax-3.2.1.min.js\"];\n",
       "  const css_urls = [];\n",
       "\n",
       "  const inline_js = [    function(Bokeh) {\n",
       "      Bokeh.set_log_level(\"info\");\n",
       "    },\n",
       "function(Bokeh) {\n",
       "    }\n",
       "  ];\n",
       "\n",
       "  function run_inline_js() {\n",
       "    if (root.Bokeh !== undefined || force === true) {\n",
       "          for (let i = 0; i < inline_js.length; i++) {\n",
       "      inline_js[i].call(root, root.Bokeh);\n",
       "    }\n",
       "if (force === true) {\n",
       "        display_loaded();\n",
       "      }} else if (Date.now() < root._bokeh_timeout) {\n",
       "      setTimeout(run_inline_js, 100);\n",
       "    } else if (!root._bokeh_failed_load) {\n",
       "      console.log(\"Bokeh: BokehJS failed to load within specified timeout.\");\n",
       "      root._bokeh_failed_load = true;\n",
       "    } else if (force !== true) {\n",
       "      const cell = $(document.getElementById(\"f31d1567-8c41-46c3-b1c1-f650f46a4bfa\")).parents('.cell').data().cell;\n",
       "      cell.output_area.append_execute_result(NB_LOAD_WARNING)\n",
       "    }\n",
       "  }\n",
       "\n",
       "  if (root._bokeh_is_loading === 0) {\n",
       "    console.debug(\"Bokeh: BokehJS loaded, going straight to plotting\");\n",
       "    run_inline_js();\n",
       "  } else {\n",
       "    load_libs(css_urls, js_urls, function() {\n",
       "      console.debug(\"Bokeh: BokehJS plotting callback run at\", now());\n",
       "      run_inline_js();\n",
       "    });\n",
       "  }\n",
       "}(window));"
      ],
      "application/vnd.bokehjs_load.v0+json": "(function(root) {\n  function now() {\n    return new Date();\n  }\n\n  const force = true;\n\n  if (typeof root._bokeh_onload_callbacks === \"undefined\" || force === true) {\n    root._bokeh_onload_callbacks = [];\n    root._bokeh_is_loading = undefined;\n  }\n\n\n  if (typeof (root._bokeh_timeout) === \"undefined\" || force === true) {\n    root._bokeh_timeout = Date.now() + 5000;\n    root._bokeh_failed_load = false;\n  }\n\n  const NB_LOAD_WARNING = {'data': {'text/html':\n     \"<div style='background-color: #fdd'>\\n\"+\n     \"<p>\\n\"+\n     \"BokehJS does not appear to have successfully loaded. If loading BokehJS from CDN, this \\n\"+\n     \"may be due to a slow or bad network connection. Possible fixes:\\n\"+\n     \"</p>\\n\"+\n     \"<ul>\\n\"+\n     \"<li>re-rerun `output_notebook()` to attempt to load from CDN again, or</li>\\n\"+\n     \"<li>use INLINE resources instead, as so:</li>\\n\"+\n     \"</ul>\\n\"+\n     \"<code>\\n\"+\n     \"from bokeh.resources import INLINE\\n\"+\n     \"output_notebook(resources=INLINE)\\n\"+\n     \"</code>\\n\"+\n     \"</div>\"}};\n\n  function display_loaded() {\n    const el = document.getElementById(\"f31d1567-8c41-46c3-b1c1-f650f46a4bfa\");\n    if (el != null) {\n      el.textContent = \"BokehJS is loading...\";\n    }\n    if (root.Bokeh !== undefined) {\n      if (el != null) {\n        el.textContent = \"BokehJS \" + root.Bokeh.version + \" successfully loaded.\";\n      }\n    } else if (Date.now() < root._bokeh_timeout) {\n      setTimeout(display_loaded, 100)\n    }\n  }\n\n  function run_callbacks() {\n    try {\n      root._bokeh_onload_callbacks.forEach(function(callback) {\n        if (callback != null)\n          callback();\n      });\n    } finally {\n      delete root._bokeh_onload_callbacks\n    }\n    console.debug(\"Bokeh: all callbacks have finished\");\n  }\n\n  function load_libs(css_urls, js_urls, callback) {\n    if (css_urls == null) css_urls = [];\n    if (js_urls == null) js_urls = [];\n\n    root._bokeh_onload_callbacks.push(callback);\n    if (root._bokeh_is_loading > 0) {\n      console.debug(\"Bokeh: BokehJS is being loaded, scheduling callback at\", now());\n      return null;\n    }\n    if (js_urls == null || js_urls.length === 0) {\n      run_callbacks();\n      return null;\n    }\n    console.debug(\"Bokeh: BokehJS not loaded, scheduling load and callback at\", now());\n    root._bokeh_is_loading = css_urls.length + js_urls.length;\n\n    function on_load() {\n      root._bokeh_is_loading--;\n      if (root._bokeh_is_loading === 0) {\n        console.debug(\"Bokeh: all BokehJS libraries/stylesheets loaded\");\n        run_callbacks()\n      }\n    }\n\n    function on_error(url) {\n      console.error(\"failed to load \" + url);\n    }\n\n    for (let i = 0; i < css_urls.length; i++) {\n      const url = css_urls[i];\n      const element = document.createElement(\"link\");\n      element.onload = on_load;\n      element.onerror = on_error.bind(null, url);\n      element.rel = \"stylesheet\";\n      element.type = \"text/css\";\n      element.href = url;\n      console.debug(\"Bokeh: injecting link tag for BokehJS stylesheet: \", url);\n      document.body.appendChild(element);\n    }\n\n    for (let i = 0; i < js_urls.length; i++) {\n      const url = js_urls[i];\n      const element = document.createElement('script');\n      element.onload = on_load;\n      element.onerror = on_error.bind(null, url);\n      element.async = false;\n      element.src = url;\n      console.debug(\"Bokeh: injecting script tag for BokehJS library: \", url);\n      document.head.appendChild(element);\n    }\n  };\n\n  function inject_raw_css(css) {\n    const element = document.createElement(\"style\");\n    element.appendChild(document.createTextNode(css));\n    document.body.appendChild(element);\n  }\n\n  const js_urls = [\"https://cdn.bokeh.org/bokeh/release/bokeh-3.2.1.min.js\", \"https://cdn.bokeh.org/bokeh/release/bokeh-gl-3.2.1.min.js\", \"https://cdn.bokeh.org/bokeh/release/bokeh-widgets-3.2.1.min.js\", \"https://cdn.bokeh.org/bokeh/release/bokeh-tables-3.2.1.min.js\", \"https://cdn.bokeh.org/bokeh/release/bokeh-mathjax-3.2.1.min.js\"];\n  const css_urls = [];\n\n  const inline_js = [    function(Bokeh) {\n      Bokeh.set_log_level(\"info\");\n    },\nfunction(Bokeh) {\n    }\n  ];\n\n  function run_inline_js() {\n    if (root.Bokeh !== undefined || force === true) {\n          for (let i = 0; i < inline_js.length; i++) {\n      inline_js[i].call(root, root.Bokeh);\n    }\nif (force === true) {\n        display_loaded();\n      }} else if (Date.now() < root._bokeh_timeout) {\n      setTimeout(run_inline_js, 100);\n    } else if (!root._bokeh_failed_load) {\n      console.log(\"Bokeh: BokehJS failed to load within specified timeout.\");\n      root._bokeh_failed_load = true;\n    } else if (force !== true) {\n      const cell = $(document.getElementById(\"f31d1567-8c41-46c3-b1c1-f650f46a4bfa\")).parents('.cell').data().cell;\n      cell.output_area.append_execute_result(NB_LOAD_WARNING)\n    }\n  }\n\n  if (root._bokeh_is_loading === 0) {\n    console.debug(\"Bokeh: BokehJS loaded, going straight to plotting\");\n    run_inline_js();\n  } else {\n    load_libs(css_urls, js_urls, function() {\n      console.debug(\"Bokeh: BokehJS plotting callback run at\", now());\n      run_inline_js();\n    });\n  }\n}(window));"
     },
     "metadata": {},
     "output_type": "display_data"
    },
    {
     "data": {
      "text/html": [
       "\n",
       "  <div id=\"bca5f963-da24-4219-ba31-fedd1f2ecba9\" data-root-id=\"p1095\" style=\"display: contents;\"></div>\n"
      ]
     },
     "metadata": {},
     "output_type": "display_data"
    },
    {
     "data": {
      "application/javascript": [
       "(function(root) {\n",
       "  function embed_document(root) {\n",
       "  const docs_json = {\"bb79af5c-5f38-49a8-ae95-11a468e1a6b4\":{\"version\":\"3.2.1\",\"title\":\"Bokeh Application\",\"roots\":[{\"type\":\"object\",\"name\":\"Figure\",\"id\":\"p1095\",\"attributes\":{\"x_range\":{\"type\":\"object\",\"name\":\"DataRange1d\",\"id\":\"p1097\",\"attributes\":{\"start\":0}},\"y_range\":{\"type\":\"object\",\"name\":\"FactorRange\",\"id\":\"p1104\",\"attributes\":{\"factors\":[\"Mauritius\",\"Luxembourg\",\"Jamaica\",\"Slovenia\",\"El Salvador\",\"Belize\",\"North Macedonia\",\"Albania\",\"Armenia\",\"Belgium\",\"Netherlands\",\"Switzerland\",\"Dominican Republic\",\"Costa Rica\",\"Togo\",\"Croatia\",\"Georgia\",\"Panama\",\"Czechia\",\"Austria\",\"Azerbaijan\",\"Hungary\",\"Portugal\",\"Malawi\",\"Korea, Republic of\",\"Cuba\",\"Bulgaria\",\"Benin\",\"Nicaragua\",\"Greece\",\"Bangladesh\",\"Nepal\",\"Suriname\",\"Uruguay\",\"Syrian Arab Republic\",\"Senegal\",\"Belarus\",\"Romania\",\"Lao People's Democratic Republic\",\"Guinea\",\"Ecuador\",\"New Zealand\",\"Burkina Faso\",\"Italy\",\"Philippines\",\"Poland\",\"Viet Nam\",\"Germany\",\"Paraguay\",\"Uzbekistan\",\"Morocco\",\"Spain\",\"Yemen\",\"France\",\"Kenya\",\"Ukraine\",\"Afghanistan\",\"Myanmar\",\"Zambia\",\"Chile\",\"T\\u00fcrkiye\",\"Pakistan\",\"Egypt\",\"Ethiopia\",\"Colombia\",\"South Africa\",\"Mali\",\"Angola\",\"Niger\",\"Peru\",\"Mexico\",\"Algeria\",\"Kazakhstan\",\"Argentina\",\"India\",\"Australia\",\"Brazil\",\"Canada\",\"China\",\"Russian Federation\"]}},\"x_scale\":{\"type\":\"object\",\"name\":\"LinearScale\",\"id\":\"p1105\"},\"y_scale\":{\"type\":\"object\",\"name\":\"CategoricalScale\",\"id\":\"p1106\"},\"title\":{\"type\":\"object\",\"name\":\"Title\",\"id\":\"p1102\"},\"renderers\":[{\"type\":\"object\",\"name\":\"GlyphRenderer\",\"id\":\"p1133\",\"attributes\":{\"data_source\":{\"type\":\"object\",\"name\":\"ColumnDataSource\",\"id\":\"p1124\",\"attributes\":{\"selected\":{\"type\":\"object\",\"name\":\"Selection\",\"id\":\"p1125\",\"attributes\":{\"indices\":[],\"line_indices\":[]}},\"selection_policy\":{\"type\":\"object\",\"name\":\"UnionRenderers\",\"id\":\"p1126\"},\"data\":{\"type\":\"map\",\"entries\":[[\"index\",{\"type\":\"ndarray\",\"array\":{\"type\":\"bytes\",\"data\":\"QQAAABMAAAARAAAADgAAAAYAAAAlAAAABAAAACgAAAACAAAAMAAAADwAAAA3AAAAAwAAAC4AAABEAAAAFQAAAB4AAAAcAAAAOQAAAEoAAAASAAAAUAAAADIAAAAAAAAASwAAACkAAAAfAAAATwAAAEUAAAAxAAAATQAAADsAAAAhAAAATgAAAD4AAAA9AAAAJgAAABAAAAA1AAAAGwAAACMAAAArAAAAQAAAAAoAAABCAAAASAAAAEwAAABGAAAAMwAAAAkAAAAiAAAANgAAAA0AAAAPAAAAGAAAACoAAAAtAAAAPwAAACQAAAAIAAAABwAAABkAAAA6AAAAIAAAABcAAABJAAAAFgAAABoAAABHAAAANAAAAAsAAAAFAAAAAQAAADgAAAAMAAAAHQAAAEMAAAAnAAAALAAAAC8AAAA=\"},\"shape\":[80],\"dtype\":\"int32\",\"order\":\"little\"}],[\"Country\",{\"type\":\"ndarray\",\"array\":[\"Russian Federation\",\"China\",\"Canada\",\"Brazil\",\"Australia\",\"India\",\"Argentina\",\"Kazakhstan\",\"Algeria\",\"Mexico\",\"Peru\",\"Niger\",\"Angola\",\"Mali\",\"South Africa\",\"Colombia\",\"Ethiopia\",\"Egypt\",\"Pakistan\",\"T\\u00fcrkiye\",\"Chile\",\"Zambia\",\"Myanmar\",\"Afghanistan\",\"Ukraine\",\"Kenya\",\"France\",\"Yemen\",\"Spain\",\"Morocco\",\"Uzbekistan\",\"Paraguay\",\"Germany\",\"Viet Nam\",\"Poland\",\"Philippines\",\"Italy\",\"Burkina Faso\",\"New Zealand\",\"Ecuador\",\"Guinea\",\"Lao People's Democratic Republic\",\"Romania\",\"Belarus\",\"Senegal\",\"Syrian Arab Republic\",\"Uruguay\",\"Suriname\",\"Nepal\",\"Bangladesh\",\"Greece\",\"Nicaragua\",\"Benin\",\"Bulgaria\",\"Cuba\",\"Korea, Republic of\",\"Malawi\",\"Portugal\",\"Hungary\",\"Azerbaijan\",\"Austria\",\"Czechia\",\"Panama\",\"Georgia\",\"Croatia\",\"Togo\",\"Costa Rica\",\"Dominican Republic\",\"Switzerland\",\"Netherlands\",\"Belgium\",\"Armenia\",\"Albania\",\"North Macedonia\",\"Belize\",\"El Salvador\",\"Slovenia\",\"Jamaica\",\"Luxembourg\",\"Mauritius\"],\"shape\":[80],\"dtype\":\"object\",\"order\":\"little\"}],[\"Average_Land_Size\",{\"type\":\"ndarray\",\"array\":{\"type\":\"bytes\",\"data\":\"AAAAQB09b0EhTwlyFuhhQRdddLHNFWFBAAAAAD/iX0Gjiy661VBdQQAAAAADr0ZBAAAAABnhREEAAAAA2phEQYwuuijWK0JBAAAAAI6pPUEAAAAAAIgzQQAAAAAMVDNBAAAAAOwFM0EAAAAAXp4yQQAAAACigjJBAAAAAPztMEGUO0BJLt0wQQAAAAD0YC5BAAAAAICGJ0EAAAAAvHwnQQAAAADYsCZBAAAAALyvJkGMLrro5O4jQQAAAACM5yNBAAAAABiuIUEAAAAAaF4hQRdddNHptSBBAAAAAMQcIEFANV46g3seQQAAAABwPRtBAAAAABqyGkEAAAAA0D8YQUYXXXTlSxVBgVcW+CYUE0FGF1108bASQQAAAADoMhJBRhdddJcMEkEAAAAAALMQQQAAAAA4EhBBAAAAAEBRDkEAAAAAwP4NQQAAAACALAxBRhdddHETDEHRRRdd8MQIQQAAAACQgAdB0UUXXeRqBkEAAAAAYF0FQQAAAAAACwNBAAAAALB/AUEAAAAAoMf/QAAAAABAeP9AAAAAAEBh/UAAAAAAgIf7QEYXXXRRj/pAL7roojvD+UAAAAAA0Lj3QAAAAACABPdARhdddCFa9kAXXXTRVRP2QHTRRRdlLfRAAAAAAIAl9EDrbKnOGtvyQLrooovuIfJAAAAAACD38EBGF110kVLrQAAAAADAjupAAAAAAIDu6ECjiy66eInnQC8bUhlES+NA0UUXXdR24EAAAAAAAJLdQAAAAACAzdtAAAAAAADC2kC66KKL7rHYQAAAAACARtZAAAAAAAA81EAhTwnyNKvTQAAAAAAAJ8VAUrgehescpEAAAAAAAHafQA==\"},\"shape\":[80],\"dtype\":\"float64\",\"order\":\"little\"}],[\"Average_Corn_Field_Expansion_Rate\",{\"type\":\"ndarray\",\"array\":{\"type\":\"bytes\",\"data\":\"ty2r2kiHIUAniDYAliUIQCcto5+RY/s/DcLqPqHZAkBdvN0Oj22av3E5UL5D6v4/lD5/a1KXFkApixf6gWkSQPUGXtKiz0VAWkcZsXtm1z+PKz+xRPnhvxpcsEqDDFZAI5872INOKkCkDJP71D0sQAtjxyaPcNQ/z3w25ksY9b9hsH/trAwIQIkFjlzIDhBADOLnBKiQBUCMCbX7nPD6P9yppTvYneQ/Y9cgJRuAIEChmm8OFwYUQPy6k5m6JRxAX2pvN7vjIECId9RoXWoBQKo76y0PONG/ly0eH+j8/D8GZigbDKDbvylyHTduEfq/OSLw/wCQAkCBdNTQtbYYQOP0JUZTiPI/tJwQG9XW9j/Kt6/gaqklQGGahyREb8E/hvKIsgHsA8Cckxe02QshQCR470tx5+M/9LpzMraT2z+SnJOb5zITQCzDPPfdexVAsOaoW+sDwr/feW6M9OI6QDYXnNAaZCFAytUnsbzoFkDBw+cnG5QgQPGXj4MOOgxAT0f5b+KD6z9UcPd8aC5AQHo0ojljiALA4FJBjWqvwD+QEod1mVgOQGyhqJh2xAlAnRxaRbXM9z+nOn8k6R7iP7D5BKq26/s/euXVUvCAB8AmiaMEWXvVv1p740DrA8g/J0X4IuZ06z/QwEU7fJkRQNEk99KO5tw/b0zAhKT0BcDEPgHpbgW2P5G2ZfWf0wpA3YWD9W7v6T+JIDOYaWwJQENt8cTHU/m/bD4YfjLv6j9DXdOzIcP/P5zEEly57vi/LBep1cZZ4z+qGjy7MWTlv9o+Jn7NFQtAj6VFofl60j8AjhCNYW3gv9Ay6Dsuqfc/o9xKPe883b9kFuInXAkxQA==\"},\"shape\":[80],\"dtype\":\"float64\",\"order\":\"little\"}],[\"Average_Deforestation_Rate\",{\"type\":\"ndarray\",\"array\":{\"type\":\"bytes\",\"data\":\"umBP7JDNkT8vh9ZNsszLP4x6fWighJ8/3VuLnLxi07+6rIe3aH+IPzrusn6z7LI/76jglUrltL8XfDwg/Yx2P8BVh4gRp30/6cPpbdLcsL+MVXStU4y8vwa1VBT7KoO/rzLG7/0y278AAAAAAAAAANH6E1FbVJ2/0eNwosPjw7+XhfnwNC/Ev89/IXO0SkW/THwVcDr1qL90MTBx1tfAP5cFEAc2scM/dBg5BRwBw7/vvLms10XdvwAAAAAAAAAAo8PGQpnAjT8XAMeqxKGcvwYnrZvHxMU/AAAAAAAAAADG5g2D0PfAP13MwFgCs5k/9MPIuy8Ssz8aSxgOyD7qv9FFN4EOAns/0QfwCD5o2j+XirSswsmwP6Mjbgn6x4q/TCVTSpCbyD/vsMwgp1TGv4wmNqw5iYQ/XVJIw/Rhzr/AxufRCnjCv11U3z3Gx8W/I+zCFTT1uz8XasMkiPO8PyOVjchh7si/upXriu3mlj/k9qzKdrTGP4xeaAtkZae/uhAHANNtrT8XZViyuWiKv69Sj8JcObs/RquvgoxI6b9a5sLIwhbbv8AEi7rL188/t1UWvYbn2D+j08PE5WzAv9EGy+IBN9u/Rq9e45aniz/Ry6V9A0moP9GmGxIB5rU/0XFQgQU4oj+jUydAt82aP12Z7+NIDcK/Fy/0d4GypD+6Erdmu96mP4x3/B9HmKq/3W3po7Ebxj+AJylZfOTJP5cQsQ3onbY/o8VIfJtxkD+6fPNwquigP9HhXgWzpHy/AKjBBMyloD/RsOezDuy3P+O9b2isqti/wGIV0h6Jyr8v6hzaX917P4xTFsqgbdU/ALx992YUoj/RxVVKn2qsvw==\"},\"shape\":[80],\"dtype\":\"float64\",\"order\":\"little\"}],[\"iso3\",{\"type\":\"ndarray\",\"array\":[\"RUS\",\"CHN\",\"CAN\",\"BRA\",\"AUS\",\"IND\",\"ARG\",\"KAZ\",\"DZA\",\"MEX\",\"PER\",\"NER\",\"AGO\",\"MLI\",\"ZAF\",\"COL\",\"ETH\",\"EGY\",\"PAK\",\"TUR\",\"CHL\",\"ZMB\",\"MMR\",\"AFG\",\"UKR\",\"KEN\",\"FRA\",\"YEM\",\"ESP\",\"MAR\",\"UZB\",\"PRY\",\"DEU\",\"VNM\",\"POL\",\"PHL\",\"ITA\",\"BFA\",\"NZL\",\"ECU\",\"GIN\",\"LAO\",\"ROU\",\"BLR\",\"SEN\",\"SYR\",\"URY\",\"SUR\",\"NPL\",\"BGD\",\"GRC\",\"NIC\",\"BEN\",\"BGR\",\"CUB\",\"KOR\",\"MWI\",\"PRT\",\"HUN\",\"AZE\",\"AUT\",\"CZE\",\"PAN\",\"GEO\",\"HRV\",\"TGO\",\"CRI\",\"DOM\",\"CHE\",\"NLD\",\"BEL\",\"ARM\",\"ALB\",\"MKD\",\"BLZ\",\"SLV\",\"SVN\",\"JAM\",\"LUX\",\"MUS\"],\"shape\":[80],\"dtype\":\"object\",\"order\":\"little\"}],[\"Log_Average_Corn_Field_Expansion_Rate\",{\"type\":\"ndarray\",\"array\":{\"type\":\"bytes\",\"data\":\"1AHesoxdAUBy6d3z5azxPz2Yg4SeM+E/8p/azy5t6z8AAAAAAAD4f4OSQ5u2E+U/tcesrT+z+z8LvfjRbW34PyB4n4lbNA5Atq0APBwZ8L8AAAAAAAD4f7d8acEQ6xFAXzRjlQidBECtM1hMYS4FQGNnYFsuQ/K/AAAAAAAA+H83IX3iW5zxP1m5YM4EPfY/fAKoAHa77z92W+x3MqzgP9KidWYKI9y/j7jYrsThAECwLY6uIMX5P2sLE47zN/8/2XbEaoIRAUDO2PsItuToPwAAAAAAAPh/7bIDYW4E4z8AAAAAAAD4fwAAAAAAAPh/97nKZTvv6j+Yw4oHFCP9P3kOvmDnzsI/3uGqSObG1j/Vyp8fKQ8DQAu3sKOj5f+/AAAAAAAA+H8gDFfBbCQBQDshwTVJY96/Ax5ckdXw6r+r4U06zhj5P5fyIjRo5fo/AAAAAAAA+H8/9fH/P1UKQPX2mSNuTQFA0BQ7JILs+z+VQRIxcesAQHv9uSJcLPQ/ykzsjd9Tw79ACgKb5tALQAAAAAAAAPh/uWBeccxMAMBlTwND5VT1PwddQST4tvI/+NhOfcxp2T8jEFWHmTLiv++QPuoo0eE/AAAAAAAA+H8AAAAAAAD4f72lMk35xfq/aoL17qiZw7/WUKKAjLT3PwlDe3HJcOm/AAAAAAAA+H9Cnr7jEaADwDkBdq35W/M/6p1I4ovlyr+GNClP7X/yPwAAAAAAAPh/XEF5nPcOxr/+SJqTK/HlPwAAAAAAAPh/WJ20X6AY4L8AAAAAAAD4fxyhVplBg/M/K8jPHu7f878AAAAAAAD4f9hqAE/7Cdk/AAAAAAAA+H/nXC0u0q4GQA==\"},\"shape\":[80],\"dtype\":\"float64\",\"order\":\"little\"}],[\"Higher_Than_Median\",{\"type\":\"ndarray\",\"array\":{\"type\":\"bytes\",\"data\":\"AQAAAAEAAAABAAAAAQAAAAEAAAABAAAAAQAAAAEAAAABAAAAAQAAAAEAAAABAAAAAQAAAAEAAAABAAAAAQAAAAEAAAABAAAAAQAAAAEAAAABAAAAAQAAAAEAAAABAAAAAQAAAAEAAAABAAAAAQAAAAEAAAABAAAAAQAAAAEAAAABAAAAAQAAAAEAAAABAAAAAQAAAAEAAAABAAAAAQAAAAAAAAAAAAAAAAAAAAAAAAAAAAAAAAAAAAAAAAAAAAAAAAAAAAAAAAAAAAAAAAAAAAAAAAAAAAAAAAAAAAAAAAAAAAAAAAAAAAAAAAAAAAAAAAAAAAAAAAAAAAAAAAAAAAAAAAAAAAAAAAAAAAAAAAAAAAAAAAAAAAAAAAAAAAAAAAAAAAAAAAAAAAAAAAAAAAAAAAAAAAAAAAAAAAAAAAA=\"},\"shape\":[80],\"dtype\":\"int32\",\"order\":\"little\"}]]}}},\"view\":{\"type\":\"object\",\"name\":\"CDSView\",\"id\":\"p1134\",\"attributes\":{\"filter\":{\"type\":\"object\",\"name\":\"AllIndices\",\"id\":\"p1135\"}}},\"glyph\":{\"type\":\"object\",\"name\":\"HBar\",\"id\":\"p1130\",\"attributes\":{\"y\":{\"type\":\"field\",\"field\":\"Country\"},\"height\":{\"type\":\"value\",\"value\":0.6},\"right\":{\"type\":\"field\",\"field\":\"Average_Land_Size\"},\"line_color\":{\"type\":\"value\",\"value\":\"#1f77b4\"},\"fill_color\":{\"type\":\"value\",\"value\":\"#1f77b4\"}}},\"nonselection_glyph\":{\"type\":\"object\",\"name\":\"HBar\",\"id\":\"p1131\",\"attributes\":{\"y\":{\"type\":\"field\",\"field\":\"Country\"},\"height\":{\"type\":\"value\",\"value\":0.6},\"right\":{\"type\":\"field\",\"field\":\"Average_Land_Size\"},\"line_color\":{\"type\":\"value\",\"value\":\"#1f77b4\"},\"line_alpha\":{\"type\":\"value\",\"value\":0.1},\"fill_color\":{\"type\":\"value\",\"value\":\"#1f77b4\"},\"fill_alpha\":{\"type\":\"value\",\"value\":0.1},\"hatch_alpha\":{\"type\":\"value\",\"value\":0.1}}},\"muted_glyph\":{\"type\":\"object\",\"name\":\"HBar\",\"id\":\"p1132\",\"attributes\":{\"y\":{\"type\":\"field\",\"field\":\"Country\"},\"height\":{\"type\":\"value\",\"value\":0.6},\"right\":{\"type\":\"field\",\"field\":\"Average_Land_Size\"},\"line_color\":{\"type\":\"value\",\"value\":\"#1f77b4\"},\"line_alpha\":{\"type\":\"value\",\"value\":0.2},\"fill_color\":{\"type\":\"value\",\"value\":\"#1f77b4\"},\"fill_alpha\":{\"type\":\"value\",\"value\":0.2},\"hatch_alpha\":{\"type\":\"value\",\"value\":0.2}}}}}],\"toolbar\":{\"type\":\"object\",\"name\":\"Toolbar\",\"id\":\"p1103\",\"attributes\":{\"tools\":[{\"type\":\"object\",\"name\":\"PanTool\",\"id\":\"p1117\"},{\"type\":\"object\",\"name\":\"WheelZoomTool\",\"id\":\"p1118\"},{\"type\":\"object\",\"name\":\"BoxZoomTool\",\"id\":\"p1119\",\"attributes\":{\"overlay\":{\"type\":\"object\",\"name\":\"BoxAnnotation\",\"id\":\"p1120\",\"attributes\":{\"syncable\":false,\"level\":\"overlay\",\"visible\":false,\"left_units\":\"canvas\",\"right_units\":\"canvas\",\"bottom_units\":\"canvas\",\"top_units\":\"canvas\",\"line_color\":\"black\",\"line_alpha\":1.0,\"line_width\":2,\"line_dash\":[4,4],\"fill_color\":\"lightgrey\",\"fill_alpha\":0.5}}}},{\"type\":\"object\",\"name\":\"SaveTool\",\"id\":\"p1121\"},{\"type\":\"object\",\"name\":\"ResetTool\",\"id\":\"p1122\"},{\"type\":\"object\",\"name\":\"HelpTool\",\"id\":\"p1123\"}]}},\"left\":[{\"type\":\"object\",\"name\":\"CategoricalAxis\",\"id\":\"p1112\",\"attributes\":{\"ticker\":{\"type\":\"object\",\"name\":\"CategoricalTicker\",\"id\":\"p1113\"},\"formatter\":{\"type\":\"object\",\"name\":\"CategoricalTickFormatter\",\"id\":\"p1114\"},\"major_label_policy\":{\"type\":\"object\",\"name\":\"AllLabels\",\"id\":\"p1115\"}}}],\"below\":[{\"type\":\"object\",\"name\":\"LinearAxis\",\"id\":\"p1107\",\"attributes\":{\"ticker\":{\"type\":\"object\",\"name\":\"BasicTicker\",\"id\":\"p1108\",\"attributes\":{\"mantissas\":[1,2,5]}},\"formatter\":{\"type\":\"object\",\"name\":\"BasicTickFormatter\",\"id\":\"p1109\"},\"axis_label\":\"Average_Land_Size\",\"major_label_policy\":{\"type\":\"object\",\"name\":\"AllLabels\",\"id\":\"p1110\"}}}],\"center\":[{\"type\":\"object\",\"name\":\"Grid\",\"id\":\"p1111\",\"attributes\":{\"axis\":{\"id\":\"p1107\"}}},{\"type\":\"object\",\"name\":\"Grid\",\"id\":\"p1116\",\"attributes\":{\"dimension\":1,\"axis\":{\"id\":\"p1112\"},\"grid_line_color\":null}}],\"frame_width\":800,\"frame_height\":1200}}]}};\n",
       "  const render_items = [{\"docid\":\"bb79af5c-5f38-49a8-ae95-11a468e1a6b4\",\"roots\":{\"p1095\":\"bca5f963-da24-4219-ba31-fedd1f2ecba9\"},\"root_ids\":[\"p1095\"]}];\n",
       "  root.Bokeh.embed.embed_items_notebook(docs_json, render_items);\n",
       "  }\n",
       "  if (root.Bokeh !== undefined) {\n",
       "    embed_document(root);\n",
       "  } else {\n",
       "    let attempts = 0;\n",
       "    const timer = setInterval(function(root) {\n",
       "      if (root.Bokeh !== undefined) {\n",
       "        clearInterval(timer);\n",
       "        embed_document(root);\n",
       "      } else {\n",
       "        attempts++;\n",
       "        if (attempts > 100) {\n",
       "          clearInterval(timer);\n",
       "          console.log(\"Bokeh: ERROR: Unable to run BokehJS code because BokehJS library is missing\");\n",
       "        }\n",
       "      }\n",
       "    }, 10, root)\n",
       "  }\n",
       "})(window);"
      ],
      "application/vnd.bokehjs_exec.v0+json": ""
     },
     "metadata": {
      "application/vnd.bokehjs_exec.v0+json": {
       "id": "p1095"
      }
     },
     "output_type": "display_data"
    }
   ],
   "source": [
    "# Import bokeh plotting package (must have explicit import of submodules)\n",
    "import bokeh.io\n",
    "import bokeh.models\n",
    "import bokeh.plotting\n",
    "\n",
    "# Enable viewing Bokeh plots in the notebook\n",
    "bokeh.io.output_notebook()\n",
    "\n",
    "# Sorting the data by 'Average_Land_Size' before plotting\n",
    "last_df_sorted = last_df.sort_values(by='Average_Land_Size', ascending=False)\n",
    "\n",
    "# Updating the bar plot with the sorted data\n",
    "bar_grdp_sorted = bokeh.plotting.figure(\n",
    "    frame_height=1200,\n",
    "    frame_width=800,\n",
    "    x_axis_label='Average_Land_Size',\n",
    "    y_range = last_df_sorted[\"Country\"][::-1],  # Sorting the y-axis based on the sorted data\n",
    ")\n",
    "\n",
    "bar_grdp_sorted.hbar(\n",
    "    source=last_df_sorted,        # our sorted data\n",
    "    y=\"Country\",                  # Country on the y-axis\n",
    "    right='Average_Land_Size',    # Average_Land_Size on the x-axis, to the right\n",
    "    height=0.6                    # height of bars\n",
    ")\n",
    "\n",
    "# Turn off gridlines on categorical axis\n",
    "bar_grdp_sorted.ygrid.grid_line_color = None\n",
    "\n",
    "# Start axes at origin on quantitative axis\n",
    "bar_grdp_sorted.x_range.start = 0\n",
    "\n",
    "# Display the updated sorted plot\n",
    "bokeh.io.show(bar_grdp_sorted)"
   ]
  },
  {
   "cell_type": "code",
   "execution_count": 137,
   "metadata": {},
   "outputs": [
    {
     "data": {
      "application/vnd.plotly.v1+json": {
       "config": {
        "plotlyServerURL": "https://plot.ly"
       },
       "data": [
        {
         "alignmentgroup": "True",
         "boxpoints": "all",
         "hovertemplate": "Higher_Than_Median=1<br>variable=%{x}<br>value=%{y}<extra></extra>",
         "legendgroup": "1",
         "marker": {
          "color": "#636efa"
         },
         "name": "1",
         "notched": false,
         "offsetgroup": "1",
         "orientation": "v",
         "showlegend": true,
         "type": "box",
         "x": [
          "Log_Average_Corn_Field_Expansion_Rate",
          "Log_Average_Corn_Field_Expansion_Rate",
          "Log_Average_Corn_Field_Expansion_Rate",
          "Log_Average_Corn_Field_Expansion_Rate",
          "Log_Average_Corn_Field_Expansion_Rate",
          "Log_Average_Corn_Field_Expansion_Rate",
          "Log_Average_Corn_Field_Expansion_Rate",
          "Log_Average_Corn_Field_Expansion_Rate",
          "Log_Average_Corn_Field_Expansion_Rate",
          "Log_Average_Corn_Field_Expansion_Rate",
          "Log_Average_Corn_Field_Expansion_Rate",
          "Log_Average_Corn_Field_Expansion_Rate",
          "Log_Average_Corn_Field_Expansion_Rate",
          "Log_Average_Corn_Field_Expansion_Rate",
          "Log_Average_Corn_Field_Expansion_Rate",
          "Log_Average_Corn_Field_Expansion_Rate",
          "Log_Average_Corn_Field_Expansion_Rate",
          "Log_Average_Corn_Field_Expansion_Rate",
          "Log_Average_Corn_Field_Expansion_Rate",
          "Log_Average_Corn_Field_Expansion_Rate",
          "Log_Average_Corn_Field_Expansion_Rate",
          "Log_Average_Corn_Field_Expansion_Rate",
          "Log_Average_Corn_Field_Expansion_Rate",
          "Log_Average_Corn_Field_Expansion_Rate",
          "Log_Average_Corn_Field_Expansion_Rate",
          "Log_Average_Corn_Field_Expansion_Rate",
          "Log_Average_Corn_Field_Expansion_Rate",
          "Log_Average_Corn_Field_Expansion_Rate",
          "Log_Average_Corn_Field_Expansion_Rate",
          "Log_Average_Corn_Field_Expansion_Rate",
          "Log_Average_Corn_Field_Expansion_Rate",
          "Log_Average_Corn_Field_Expansion_Rate",
          "Log_Average_Corn_Field_Expansion_Rate",
          "Log_Average_Corn_Field_Expansion_Rate",
          "Log_Average_Corn_Field_Expansion_Rate",
          "Log_Average_Corn_Field_Expansion_Rate",
          "Log_Average_Corn_Field_Expansion_Rate",
          "Log_Average_Corn_Field_Expansion_Rate",
          "Log_Average_Corn_Field_Expansion_Rate",
          "Log_Average_Corn_Field_Expansion_Rate"
         ],
         "x0": " ",
         "xaxis": "x",
         "y": [
          1.9511600065022445,
          3.7755652190962934,
          2.5766765280628046,
          1.7312619003464367,
          null,
          0.8570779857300279,
          2.1427855591478107,
          0.5375511730351331,
          -0.43963871007740096,
          1.1047114873932427,
          null,
          -0.841898712068485,
          1.3898971616395868,
          1.1006735655992779,
          null,
          0.14693920348883063,
          0.6586564095019444,
          null,
          1.5267160608307815,
          0.7779188323463815,
          2.64764651912852,
          -1.0061304420331516,
          null,
          1.610626870972606,
          -0.474809935087723,
          4.479556104720522,
          0.9916334164445995,
          1.8210640234576427,
          null,
          -1.9935642618324347,
          2.382402655662512,
          2.170678517723198,
          -1.1414016312978326,
          null,
          0.5210201589824084,
          2.133549532051671,
          0.8417031276820229,
          0.3558898648875849,
          0.5942909140408951,
          2.1102384242904644
         ],
         "y0": " ",
         "yaxis": "y"
        },
        {
         "alignmentgroup": "True",
         "boxpoints": "all",
         "hovertemplate": "Higher_Than_Median=0<br>variable=%{x}<br>value=%{y}<extra></extra>",
         "legendgroup": "0",
         "marker": {
          "color": "#EF553B"
         },
         "name": "0",
         "notched": false,
         "offsetgroup": "0",
         "orientation": "v",
         "showlegend": true,
         "type": "box",
         "x": [
          "Log_Average_Corn_Field_Expansion_Rate",
          "Log_Average_Corn_Field_Expansion_Rate",
          "Log_Average_Corn_Field_Expansion_Rate",
          "Log_Average_Corn_Field_Expansion_Rate",
          "Log_Average_Corn_Field_Expansion_Rate",
          "Log_Average_Corn_Field_Expansion_Rate",
          "Log_Average_Corn_Field_Expansion_Rate",
          "Log_Average_Corn_Field_Expansion_Rate",
          "Log_Average_Corn_Field_Expansion_Rate",
          "Log_Average_Corn_Field_Expansion_Rate",
          "Log_Average_Corn_Field_Expansion_Rate",
          "Log_Average_Corn_Field_Expansion_Rate",
          "Log_Average_Corn_Field_Expansion_Rate",
          "Log_Average_Corn_Field_Expansion_Rate",
          "Log_Average_Corn_Field_Expansion_Rate",
          "Log_Average_Corn_Field_Expansion_Rate",
          "Log_Average_Corn_Field_Expansion_Rate",
          "Log_Average_Corn_Field_Expansion_Rate",
          "Log_Average_Corn_Field_Expansion_Rate",
          "Log_Average_Corn_Field_Expansion_Rate",
          "Log_Average_Corn_Field_Expansion_Rate",
          "Log_Average_Corn_Field_Expansion_Rate",
          "Log_Average_Corn_Field_Expansion_Rate",
          "Log_Average_Corn_Field_Expansion_Rate",
          "Log_Average_Corn_Field_Expansion_Rate",
          "Log_Average_Corn_Field_Expansion_Rate",
          "Log_Average_Corn_Field_Expansion_Rate",
          "Log_Average_Corn_Field_Expansion_Rate",
          "Log_Average_Corn_Field_Expansion_Rate",
          "Log_Average_Corn_Field_Expansion_Rate",
          "Log_Average_Corn_Field_Expansion_Rate",
          "Log_Average_Corn_Field_Expansion_Rate",
          "Log_Average_Corn_Field_Expansion_Rate",
          "Log_Average_Corn_Field_Expansion_Rate",
          "Log_Average_Corn_Field_Expansion_Rate",
          "Log_Average_Corn_Field_Expansion_Rate",
          "Log_Average_Corn_Field_Expansion_Rate",
          "Log_Average_Corn_Field_Expansion_Rate",
          "Log_Average_Corn_Field_Expansion_Rate",
          "Log_Average_Corn_Field_Expansion_Rate"
         ],
         "x0": " ",
         "xaxis": "x",
         "y": [
          -0.503006159710746,
          null,
          -0.15312682788773496,
          -1.673333455614155,
          3.4770023450849123,
          3.291625976153824,
          0.6856897242417117,
          1.2195449819356048,
          1.3332264535610758,
          1.169670240042082,
          -0.21013020085341277,
          -2.453159121756273,
          0.3970824454985542,
          1.4815793061034603,
          1.156232175085536,
          -1.2421704486446383,
          null,
          null,
          1.5685560491093422,
          null,
          0.39123423304560623,
          -0.5686767237862153,
          1.6810075794775565,
          null,
          0.5567822051130217,
          2.8353618247598322,
          -0.15099710874401345,
          -0.172331763651992,
          -2.0374993187834574,
          null,
          -0.7950179306445487,
          null,
          null,
          2.162807729850892,
          null,
          1.2608300549034925,
          null,
          1.7452413001313296,
          1.2099549079722023,
          2.114961989755282
         ],
         "y0": " ",
         "yaxis": "y"
        }
       ],
       "layout": {
        "autosize": false,
        "boxmode": "group",
        "legend": {
         "title": {
          "text": "Higher_Than_Median"
         },
         "tracegroupgap": 0
        },
        "template": {
         "data": {
          "bar": [
           {
            "error_x": {
             "color": "#2a3f5f"
            },
            "error_y": {
             "color": "#2a3f5f"
            },
            "marker": {
             "line": {
              "color": "#E5ECF6",
              "width": 0.5
             },
             "pattern": {
              "fillmode": "overlay",
              "size": 10,
              "solidity": 0.2
             }
            },
            "type": "bar"
           }
          ],
          "barpolar": [
           {
            "marker": {
             "line": {
              "color": "#E5ECF6",
              "width": 0.5
             },
             "pattern": {
              "fillmode": "overlay",
              "size": 10,
              "solidity": 0.2
             }
            },
            "type": "barpolar"
           }
          ],
          "carpet": [
           {
            "aaxis": {
             "endlinecolor": "#2a3f5f",
             "gridcolor": "white",
             "linecolor": "white",
             "minorgridcolor": "white",
             "startlinecolor": "#2a3f5f"
            },
            "baxis": {
             "endlinecolor": "#2a3f5f",
             "gridcolor": "white",
             "linecolor": "white",
             "minorgridcolor": "white",
             "startlinecolor": "#2a3f5f"
            },
            "type": "carpet"
           }
          ],
          "choropleth": [
           {
            "colorbar": {
             "outlinewidth": 0,
             "ticks": ""
            },
            "type": "choropleth"
           }
          ],
          "contour": [
           {
            "colorbar": {
             "outlinewidth": 0,
             "ticks": ""
            },
            "colorscale": [
             [
              0,
              "#0d0887"
             ],
             [
              0.1111111111111111,
              "#46039f"
             ],
             [
              0.2222222222222222,
              "#7201a8"
             ],
             [
              0.3333333333333333,
              "#9c179e"
             ],
             [
              0.4444444444444444,
              "#bd3786"
             ],
             [
              0.5555555555555556,
              "#d8576b"
             ],
             [
              0.6666666666666666,
              "#ed7953"
             ],
             [
              0.7777777777777778,
              "#fb9f3a"
             ],
             [
              0.8888888888888888,
              "#fdca26"
             ],
             [
              1,
              "#f0f921"
             ]
            ],
            "type": "contour"
           }
          ],
          "contourcarpet": [
           {
            "colorbar": {
             "outlinewidth": 0,
             "ticks": ""
            },
            "type": "contourcarpet"
           }
          ],
          "heatmap": [
           {
            "colorbar": {
             "outlinewidth": 0,
             "ticks": ""
            },
            "colorscale": [
             [
              0,
              "#0d0887"
             ],
             [
              0.1111111111111111,
              "#46039f"
             ],
             [
              0.2222222222222222,
              "#7201a8"
             ],
             [
              0.3333333333333333,
              "#9c179e"
             ],
             [
              0.4444444444444444,
              "#bd3786"
             ],
             [
              0.5555555555555556,
              "#d8576b"
             ],
             [
              0.6666666666666666,
              "#ed7953"
             ],
             [
              0.7777777777777778,
              "#fb9f3a"
             ],
             [
              0.8888888888888888,
              "#fdca26"
             ],
             [
              1,
              "#f0f921"
             ]
            ],
            "type": "heatmap"
           }
          ],
          "heatmapgl": [
           {
            "colorbar": {
             "outlinewidth": 0,
             "ticks": ""
            },
            "colorscale": [
             [
              0,
              "#0d0887"
             ],
             [
              0.1111111111111111,
              "#46039f"
             ],
             [
              0.2222222222222222,
              "#7201a8"
             ],
             [
              0.3333333333333333,
              "#9c179e"
             ],
             [
              0.4444444444444444,
              "#bd3786"
             ],
             [
              0.5555555555555556,
              "#d8576b"
             ],
             [
              0.6666666666666666,
              "#ed7953"
             ],
             [
              0.7777777777777778,
              "#fb9f3a"
             ],
             [
              0.8888888888888888,
              "#fdca26"
             ],
             [
              1,
              "#f0f921"
             ]
            ],
            "type": "heatmapgl"
           }
          ],
          "histogram": [
           {
            "marker": {
             "pattern": {
              "fillmode": "overlay",
              "size": 10,
              "solidity": 0.2
             }
            },
            "type": "histogram"
           }
          ],
          "histogram2d": [
           {
            "colorbar": {
             "outlinewidth": 0,
             "ticks": ""
            },
            "colorscale": [
             [
              0,
              "#0d0887"
             ],
             [
              0.1111111111111111,
              "#46039f"
             ],
             [
              0.2222222222222222,
              "#7201a8"
             ],
             [
              0.3333333333333333,
              "#9c179e"
             ],
             [
              0.4444444444444444,
              "#bd3786"
             ],
             [
              0.5555555555555556,
              "#d8576b"
             ],
             [
              0.6666666666666666,
              "#ed7953"
             ],
             [
              0.7777777777777778,
              "#fb9f3a"
             ],
             [
              0.8888888888888888,
              "#fdca26"
             ],
             [
              1,
              "#f0f921"
             ]
            ],
            "type": "histogram2d"
           }
          ],
          "histogram2dcontour": [
           {
            "colorbar": {
             "outlinewidth": 0,
             "ticks": ""
            },
            "colorscale": [
             [
              0,
              "#0d0887"
             ],
             [
              0.1111111111111111,
              "#46039f"
             ],
             [
              0.2222222222222222,
              "#7201a8"
             ],
             [
              0.3333333333333333,
              "#9c179e"
             ],
             [
              0.4444444444444444,
              "#bd3786"
             ],
             [
              0.5555555555555556,
              "#d8576b"
             ],
             [
              0.6666666666666666,
              "#ed7953"
             ],
             [
              0.7777777777777778,
              "#fb9f3a"
             ],
             [
              0.8888888888888888,
              "#fdca26"
             ],
             [
              1,
              "#f0f921"
             ]
            ],
            "type": "histogram2dcontour"
           }
          ],
          "mesh3d": [
           {
            "colorbar": {
             "outlinewidth": 0,
             "ticks": ""
            },
            "type": "mesh3d"
           }
          ],
          "parcoords": [
           {
            "line": {
             "colorbar": {
              "outlinewidth": 0,
              "ticks": ""
             }
            },
            "type": "parcoords"
           }
          ],
          "pie": [
           {
            "automargin": true,
            "type": "pie"
           }
          ],
          "scatter": [
           {
            "fillpattern": {
             "fillmode": "overlay",
             "size": 10,
             "solidity": 0.2
            },
            "type": "scatter"
           }
          ],
          "scatter3d": [
           {
            "line": {
             "colorbar": {
              "outlinewidth": 0,
              "ticks": ""
             }
            },
            "marker": {
             "colorbar": {
              "outlinewidth": 0,
              "ticks": ""
             }
            },
            "type": "scatter3d"
           }
          ],
          "scattercarpet": [
           {
            "marker": {
             "colorbar": {
              "outlinewidth": 0,
              "ticks": ""
             }
            },
            "type": "scattercarpet"
           }
          ],
          "scattergeo": [
           {
            "marker": {
             "colorbar": {
              "outlinewidth": 0,
              "ticks": ""
             }
            },
            "type": "scattergeo"
           }
          ],
          "scattergl": [
           {
            "marker": {
             "colorbar": {
              "outlinewidth": 0,
              "ticks": ""
             }
            },
            "type": "scattergl"
           }
          ],
          "scattermapbox": [
           {
            "marker": {
             "colorbar": {
              "outlinewidth": 0,
              "ticks": ""
             }
            },
            "type": "scattermapbox"
           }
          ],
          "scatterpolar": [
           {
            "marker": {
             "colorbar": {
              "outlinewidth": 0,
              "ticks": ""
             }
            },
            "type": "scatterpolar"
           }
          ],
          "scatterpolargl": [
           {
            "marker": {
             "colorbar": {
              "outlinewidth": 0,
              "ticks": ""
             }
            },
            "type": "scatterpolargl"
           }
          ],
          "scatterternary": [
           {
            "marker": {
             "colorbar": {
              "outlinewidth": 0,
              "ticks": ""
             }
            },
            "type": "scatterternary"
           }
          ],
          "surface": [
           {
            "colorbar": {
             "outlinewidth": 0,
             "ticks": ""
            },
            "colorscale": [
             [
              0,
              "#0d0887"
             ],
             [
              0.1111111111111111,
              "#46039f"
             ],
             [
              0.2222222222222222,
              "#7201a8"
             ],
             [
              0.3333333333333333,
              "#9c179e"
             ],
             [
              0.4444444444444444,
              "#bd3786"
             ],
             [
              0.5555555555555556,
              "#d8576b"
             ],
             [
              0.6666666666666666,
              "#ed7953"
             ],
             [
              0.7777777777777778,
              "#fb9f3a"
             ],
             [
              0.8888888888888888,
              "#fdca26"
             ],
             [
              1,
              "#f0f921"
             ]
            ],
            "type": "surface"
           }
          ],
          "table": [
           {
            "cells": {
             "fill": {
              "color": "#EBF0F8"
             },
             "line": {
              "color": "white"
             }
            },
            "header": {
             "fill": {
              "color": "#C8D4E3"
             },
             "line": {
              "color": "white"
             }
            },
            "type": "table"
           }
          ]
         },
         "layout": {
          "annotationdefaults": {
           "arrowcolor": "#2a3f5f",
           "arrowhead": 0,
           "arrowwidth": 1
          },
          "autotypenumbers": "strict",
          "coloraxis": {
           "colorbar": {
            "outlinewidth": 0,
            "ticks": ""
           }
          },
          "colorscale": {
           "diverging": [
            [
             0,
             "#8e0152"
            ],
            [
             0.1,
             "#c51b7d"
            ],
            [
             0.2,
             "#de77ae"
            ],
            [
             0.3,
             "#f1b6da"
            ],
            [
             0.4,
             "#fde0ef"
            ],
            [
             0.5,
             "#f7f7f7"
            ],
            [
             0.6,
             "#e6f5d0"
            ],
            [
             0.7,
             "#b8e186"
            ],
            [
             0.8,
             "#7fbc41"
            ],
            [
             0.9,
             "#4d9221"
            ],
            [
             1,
             "#276419"
            ]
           ],
           "sequential": [
            [
             0,
             "#0d0887"
            ],
            [
             0.1111111111111111,
             "#46039f"
            ],
            [
             0.2222222222222222,
             "#7201a8"
            ],
            [
             0.3333333333333333,
             "#9c179e"
            ],
            [
             0.4444444444444444,
             "#bd3786"
            ],
            [
             0.5555555555555556,
             "#d8576b"
            ],
            [
             0.6666666666666666,
             "#ed7953"
            ],
            [
             0.7777777777777778,
             "#fb9f3a"
            ],
            [
             0.8888888888888888,
             "#fdca26"
            ],
            [
             1,
             "#f0f921"
            ]
           ],
           "sequentialminus": [
            [
             0,
             "#0d0887"
            ],
            [
             0.1111111111111111,
             "#46039f"
            ],
            [
             0.2222222222222222,
             "#7201a8"
            ],
            [
             0.3333333333333333,
             "#9c179e"
            ],
            [
             0.4444444444444444,
             "#bd3786"
            ],
            [
             0.5555555555555556,
             "#d8576b"
            ],
            [
             0.6666666666666666,
             "#ed7953"
            ],
            [
             0.7777777777777778,
             "#fb9f3a"
            ],
            [
             0.8888888888888888,
             "#fdca26"
            ],
            [
             1,
             "#f0f921"
            ]
           ]
          },
          "colorway": [
           "#636efa",
           "#EF553B",
           "#00cc96",
           "#ab63fa",
           "#FFA15A",
           "#19d3f3",
           "#FF6692",
           "#B6E880",
           "#FF97FF",
           "#FECB52"
          ],
          "font": {
           "color": "#2a3f5f"
          },
          "geo": {
           "bgcolor": "white",
           "lakecolor": "white",
           "landcolor": "#E5ECF6",
           "showlakes": true,
           "showland": true,
           "subunitcolor": "white"
          },
          "hoverlabel": {
           "align": "left"
          },
          "hovermode": "closest",
          "mapbox": {
           "style": "light"
          },
          "paper_bgcolor": "white",
          "plot_bgcolor": "#E5ECF6",
          "polar": {
           "angularaxis": {
            "gridcolor": "white",
            "linecolor": "white",
            "ticks": ""
           },
           "bgcolor": "#E5ECF6",
           "radialaxis": {
            "gridcolor": "white",
            "linecolor": "white",
            "ticks": ""
           }
          },
          "scene": {
           "xaxis": {
            "backgroundcolor": "#E5ECF6",
            "gridcolor": "white",
            "gridwidth": 2,
            "linecolor": "white",
            "showbackground": true,
            "ticks": "",
            "zerolinecolor": "white"
           },
           "yaxis": {
            "backgroundcolor": "#E5ECF6",
            "gridcolor": "white",
            "gridwidth": 2,
            "linecolor": "white",
            "showbackground": true,
            "ticks": "",
            "zerolinecolor": "white"
           },
           "zaxis": {
            "backgroundcolor": "#E5ECF6",
            "gridcolor": "white",
            "gridwidth": 2,
            "linecolor": "white",
            "showbackground": true,
            "ticks": "",
            "zerolinecolor": "white"
           }
          },
          "shapedefaults": {
           "line": {
            "color": "#2a3f5f"
           }
          },
          "ternary": {
           "aaxis": {
            "gridcolor": "white",
            "linecolor": "white",
            "ticks": ""
           },
           "baxis": {
            "gridcolor": "white",
            "linecolor": "white",
            "ticks": ""
           },
           "bgcolor": "#E5ECF6",
           "caxis": {
            "gridcolor": "white",
            "linecolor": "white",
            "ticks": ""
           }
          },
          "title": {
           "x": 0.05
          },
          "xaxis": {
           "automargin": true,
           "gridcolor": "white",
           "linecolor": "white",
           "ticks": "",
           "title": {
            "standoff": 15
           },
           "zerolinecolor": "white",
           "zerolinewidth": 2
          },
          "yaxis": {
           "automargin": true,
           "gridcolor": "white",
           "linecolor": "white",
           "ticks": "",
           "title": {
            "standoff": 15
           },
           "zerolinecolor": "white",
           "zerolinewidth": 2
          }
         }
        },
        "title": {
         "text": "Average Corn Field Expansion Rate for land size bigger than median \n                 <br>(Higher than median: 1.0; Lower than median: 0.0)"
        },
        "width": 800,
        "xaxis": {
         "anchor": "y",
         "domain": [
          0,
          1
         ],
         "title": {
          "text": "variable"
         }
        },
        "yaxis": {
         "anchor": "x",
         "domain": [
          0,
          1
         ],
         "title": {
          "text": "value"
         }
        }
       }
      },
      "text/html": [
       "<div>                            <div id=\"8bb5479a-a265-43a8-ba7b-500352d10c82\" class=\"plotly-graph-div\" style=\"height:525px; width:800px;\"></div>            <script type=\"text/javascript\">                require([\"plotly\"], function(Plotly) {                    window.PLOTLYENV=window.PLOTLYENV || {};                                    if (document.getElementById(\"8bb5479a-a265-43a8-ba7b-500352d10c82\")) {                    Plotly.newPlot(                        \"8bb5479a-a265-43a8-ba7b-500352d10c82\",                        [{\"alignmentgroup\":\"True\",\"boxpoints\":\"all\",\"hovertemplate\":\"Higher_Than_Median=1<br>variable=%{x}<br>value=%{y}<extra></extra>\",\"legendgroup\":\"1\",\"marker\":{\"color\":\"#636efa\"},\"name\":\"1\",\"notched\":false,\"offsetgroup\":\"1\",\"orientation\":\"v\",\"showlegend\":true,\"x\":[\"Log_Average_Corn_Field_Expansion_Rate\",\"Log_Average_Corn_Field_Expansion_Rate\",\"Log_Average_Corn_Field_Expansion_Rate\",\"Log_Average_Corn_Field_Expansion_Rate\",\"Log_Average_Corn_Field_Expansion_Rate\",\"Log_Average_Corn_Field_Expansion_Rate\",\"Log_Average_Corn_Field_Expansion_Rate\",\"Log_Average_Corn_Field_Expansion_Rate\",\"Log_Average_Corn_Field_Expansion_Rate\",\"Log_Average_Corn_Field_Expansion_Rate\",\"Log_Average_Corn_Field_Expansion_Rate\",\"Log_Average_Corn_Field_Expansion_Rate\",\"Log_Average_Corn_Field_Expansion_Rate\",\"Log_Average_Corn_Field_Expansion_Rate\",\"Log_Average_Corn_Field_Expansion_Rate\",\"Log_Average_Corn_Field_Expansion_Rate\",\"Log_Average_Corn_Field_Expansion_Rate\",\"Log_Average_Corn_Field_Expansion_Rate\",\"Log_Average_Corn_Field_Expansion_Rate\",\"Log_Average_Corn_Field_Expansion_Rate\",\"Log_Average_Corn_Field_Expansion_Rate\",\"Log_Average_Corn_Field_Expansion_Rate\",\"Log_Average_Corn_Field_Expansion_Rate\",\"Log_Average_Corn_Field_Expansion_Rate\",\"Log_Average_Corn_Field_Expansion_Rate\",\"Log_Average_Corn_Field_Expansion_Rate\",\"Log_Average_Corn_Field_Expansion_Rate\",\"Log_Average_Corn_Field_Expansion_Rate\",\"Log_Average_Corn_Field_Expansion_Rate\",\"Log_Average_Corn_Field_Expansion_Rate\",\"Log_Average_Corn_Field_Expansion_Rate\",\"Log_Average_Corn_Field_Expansion_Rate\",\"Log_Average_Corn_Field_Expansion_Rate\",\"Log_Average_Corn_Field_Expansion_Rate\",\"Log_Average_Corn_Field_Expansion_Rate\",\"Log_Average_Corn_Field_Expansion_Rate\",\"Log_Average_Corn_Field_Expansion_Rate\",\"Log_Average_Corn_Field_Expansion_Rate\",\"Log_Average_Corn_Field_Expansion_Rate\",\"Log_Average_Corn_Field_Expansion_Rate\"],\"x0\":\" \",\"xaxis\":\"x\",\"y\":[1.9511600065022445,3.7755652190962934,2.5766765280628046,1.7312619003464367,null,0.8570779857300279,2.1427855591478107,0.5375511730351331,-0.43963871007740096,1.1047114873932427,null,-0.841898712068485,1.3898971616395868,1.1006735655992779,null,0.14693920348883063,0.6586564095019444,null,1.5267160608307815,0.7779188323463815,2.64764651912852,-1.0061304420331516,null,1.610626870972606,-0.474809935087723,4.479556104720522,0.9916334164445995,1.8210640234576427,null,-1.9935642618324347,2.382402655662512,2.170678517723198,-1.1414016312978326,null,0.5210201589824084,2.133549532051671,0.8417031276820229,0.3558898648875849,0.5942909140408951,2.1102384242904644],\"y0\":\" \",\"yaxis\":\"y\",\"type\":\"box\"},{\"alignmentgroup\":\"True\",\"boxpoints\":\"all\",\"hovertemplate\":\"Higher_Than_Median=0<br>variable=%{x}<br>value=%{y}<extra></extra>\",\"legendgroup\":\"0\",\"marker\":{\"color\":\"#EF553B\"},\"name\":\"0\",\"notched\":false,\"offsetgroup\":\"0\",\"orientation\":\"v\",\"showlegend\":true,\"x\":[\"Log_Average_Corn_Field_Expansion_Rate\",\"Log_Average_Corn_Field_Expansion_Rate\",\"Log_Average_Corn_Field_Expansion_Rate\",\"Log_Average_Corn_Field_Expansion_Rate\",\"Log_Average_Corn_Field_Expansion_Rate\",\"Log_Average_Corn_Field_Expansion_Rate\",\"Log_Average_Corn_Field_Expansion_Rate\",\"Log_Average_Corn_Field_Expansion_Rate\",\"Log_Average_Corn_Field_Expansion_Rate\",\"Log_Average_Corn_Field_Expansion_Rate\",\"Log_Average_Corn_Field_Expansion_Rate\",\"Log_Average_Corn_Field_Expansion_Rate\",\"Log_Average_Corn_Field_Expansion_Rate\",\"Log_Average_Corn_Field_Expansion_Rate\",\"Log_Average_Corn_Field_Expansion_Rate\",\"Log_Average_Corn_Field_Expansion_Rate\",\"Log_Average_Corn_Field_Expansion_Rate\",\"Log_Average_Corn_Field_Expansion_Rate\",\"Log_Average_Corn_Field_Expansion_Rate\",\"Log_Average_Corn_Field_Expansion_Rate\",\"Log_Average_Corn_Field_Expansion_Rate\",\"Log_Average_Corn_Field_Expansion_Rate\",\"Log_Average_Corn_Field_Expansion_Rate\",\"Log_Average_Corn_Field_Expansion_Rate\",\"Log_Average_Corn_Field_Expansion_Rate\",\"Log_Average_Corn_Field_Expansion_Rate\",\"Log_Average_Corn_Field_Expansion_Rate\",\"Log_Average_Corn_Field_Expansion_Rate\",\"Log_Average_Corn_Field_Expansion_Rate\",\"Log_Average_Corn_Field_Expansion_Rate\",\"Log_Average_Corn_Field_Expansion_Rate\",\"Log_Average_Corn_Field_Expansion_Rate\",\"Log_Average_Corn_Field_Expansion_Rate\",\"Log_Average_Corn_Field_Expansion_Rate\",\"Log_Average_Corn_Field_Expansion_Rate\",\"Log_Average_Corn_Field_Expansion_Rate\",\"Log_Average_Corn_Field_Expansion_Rate\",\"Log_Average_Corn_Field_Expansion_Rate\",\"Log_Average_Corn_Field_Expansion_Rate\",\"Log_Average_Corn_Field_Expansion_Rate\"],\"x0\":\" \",\"xaxis\":\"x\",\"y\":[-0.503006159710746,null,-0.15312682788773496,-1.673333455614155,3.4770023450849123,3.291625976153824,0.6856897242417117,1.2195449819356048,1.3332264535610758,1.169670240042082,-0.21013020085341277,-2.453159121756273,0.3970824454985542,1.4815793061034603,1.156232175085536,-1.2421704486446383,null,null,1.5685560491093422,null,0.39123423304560623,-0.5686767237862153,1.6810075794775565,null,0.5567822051130217,2.8353618247598322,-0.15099710874401345,-0.172331763651992,-2.0374993187834574,null,-0.7950179306445487,null,null,2.162807729850892,null,1.2608300549034925,null,1.7452413001313296,1.2099549079722023,2.114961989755282],\"y0\":\" \",\"yaxis\":\"y\",\"type\":\"box\"}],                        {\"template\":{\"data\":{\"histogram2dcontour\":[{\"type\":\"histogram2dcontour\",\"colorbar\":{\"outlinewidth\":0,\"ticks\":\"\"},\"colorscale\":[[0.0,\"#0d0887\"],[0.1111111111111111,\"#46039f\"],[0.2222222222222222,\"#7201a8\"],[0.3333333333333333,\"#9c179e\"],[0.4444444444444444,\"#bd3786\"],[0.5555555555555556,\"#d8576b\"],[0.6666666666666666,\"#ed7953\"],[0.7777777777777778,\"#fb9f3a\"],[0.8888888888888888,\"#fdca26\"],[1.0,\"#f0f921\"]]}],\"choropleth\":[{\"type\":\"choropleth\",\"colorbar\":{\"outlinewidth\":0,\"ticks\":\"\"}}],\"histogram2d\":[{\"type\":\"histogram2d\",\"colorbar\":{\"outlinewidth\":0,\"ticks\":\"\"},\"colorscale\":[[0.0,\"#0d0887\"],[0.1111111111111111,\"#46039f\"],[0.2222222222222222,\"#7201a8\"],[0.3333333333333333,\"#9c179e\"],[0.4444444444444444,\"#bd3786\"],[0.5555555555555556,\"#d8576b\"],[0.6666666666666666,\"#ed7953\"],[0.7777777777777778,\"#fb9f3a\"],[0.8888888888888888,\"#fdca26\"],[1.0,\"#f0f921\"]]}],\"heatmap\":[{\"type\":\"heatmap\",\"colorbar\":{\"outlinewidth\":0,\"ticks\":\"\"},\"colorscale\":[[0.0,\"#0d0887\"],[0.1111111111111111,\"#46039f\"],[0.2222222222222222,\"#7201a8\"],[0.3333333333333333,\"#9c179e\"],[0.4444444444444444,\"#bd3786\"],[0.5555555555555556,\"#d8576b\"],[0.6666666666666666,\"#ed7953\"],[0.7777777777777778,\"#fb9f3a\"],[0.8888888888888888,\"#fdca26\"],[1.0,\"#f0f921\"]]}],\"heatmapgl\":[{\"type\":\"heatmapgl\",\"colorbar\":{\"outlinewidth\":0,\"ticks\":\"\"},\"colorscale\":[[0.0,\"#0d0887\"],[0.1111111111111111,\"#46039f\"],[0.2222222222222222,\"#7201a8\"],[0.3333333333333333,\"#9c179e\"],[0.4444444444444444,\"#bd3786\"],[0.5555555555555556,\"#d8576b\"],[0.6666666666666666,\"#ed7953\"],[0.7777777777777778,\"#fb9f3a\"],[0.8888888888888888,\"#fdca26\"],[1.0,\"#f0f921\"]]}],\"contourcarpet\":[{\"type\":\"contourcarpet\",\"colorbar\":{\"outlinewidth\":0,\"ticks\":\"\"}}],\"contour\":[{\"type\":\"contour\",\"colorbar\":{\"outlinewidth\":0,\"ticks\":\"\"},\"colorscale\":[[0.0,\"#0d0887\"],[0.1111111111111111,\"#46039f\"],[0.2222222222222222,\"#7201a8\"],[0.3333333333333333,\"#9c179e\"],[0.4444444444444444,\"#bd3786\"],[0.5555555555555556,\"#d8576b\"],[0.6666666666666666,\"#ed7953\"],[0.7777777777777778,\"#fb9f3a\"],[0.8888888888888888,\"#fdca26\"],[1.0,\"#f0f921\"]]}],\"surface\":[{\"type\":\"surface\",\"colorbar\":{\"outlinewidth\":0,\"ticks\":\"\"},\"colorscale\":[[0.0,\"#0d0887\"],[0.1111111111111111,\"#46039f\"],[0.2222222222222222,\"#7201a8\"],[0.3333333333333333,\"#9c179e\"],[0.4444444444444444,\"#bd3786\"],[0.5555555555555556,\"#d8576b\"],[0.6666666666666666,\"#ed7953\"],[0.7777777777777778,\"#fb9f3a\"],[0.8888888888888888,\"#fdca26\"],[1.0,\"#f0f921\"]]}],\"mesh3d\":[{\"type\":\"mesh3d\",\"colorbar\":{\"outlinewidth\":0,\"ticks\":\"\"}}],\"scatter\":[{\"fillpattern\":{\"fillmode\":\"overlay\",\"size\":10,\"solidity\":0.2},\"type\":\"scatter\"}],\"parcoords\":[{\"type\":\"parcoords\",\"line\":{\"colorbar\":{\"outlinewidth\":0,\"ticks\":\"\"}}}],\"scatterpolargl\":[{\"type\":\"scatterpolargl\",\"marker\":{\"colorbar\":{\"outlinewidth\":0,\"ticks\":\"\"}}}],\"bar\":[{\"error_x\":{\"color\":\"#2a3f5f\"},\"error_y\":{\"color\":\"#2a3f5f\"},\"marker\":{\"line\":{\"color\":\"#E5ECF6\",\"width\":0.5},\"pattern\":{\"fillmode\":\"overlay\",\"size\":10,\"solidity\":0.2}},\"type\":\"bar\"}],\"scattergeo\":[{\"type\":\"scattergeo\",\"marker\":{\"colorbar\":{\"outlinewidth\":0,\"ticks\":\"\"}}}],\"scatterpolar\":[{\"type\":\"scatterpolar\",\"marker\":{\"colorbar\":{\"outlinewidth\":0,\"ticks\":\"\"}}}],\"histogram\":[{\"marker\":{\"pattern\":{\"fillmode\":\"overlay\",\"size\":10,\"solidity\":0.2}},\"type\":\"histogram\"}],\"scattergl\":[{\"type\":\"scattergl\",\"marker\":{\"colorbar\":{\"outlinewidth\":0,\"ticks\":\"\"}}}],\"scatter3d\":[{\"type\":\"scatter3d\",\"line\":{\"colorbar\":{\"outlinewidth\":0,\"ticks\":\"\"}},\"marker\":{\"colorbar\":{\"outlinewidth\":0,\"ticks\":\"\"}}}],\"scattermapbox\":[{\"type\":\"scattermapbox\",\"marker\":{\"colorbar\":{\"outlinewidth\":0,\"ticks\":\"\"}}}],\"scatterternary\":[{\"type\":\"scatterternary\",\"marker\":{\"colorbar\":{\"outlinewidth\":0,\"ticks\":\"\"}}}],\"scattercarpet\":[{\"type\":\"scattercarpet\",\"marker\":{\"colorbar\":{\"outlinewidth\":0,\"ticks\":\"\"}}}],\"carpet\":[{\"aaxis\":{\"endlinecolor\":\"#2a3f5f\",\"gridcolor\":\"white\",\"linecolor\":\"white\",\"minorgridcolor\":\"white\",\"startlinecolor\":\"#2a3f5f\"},\"baxis\":{\"endlinecolor\":\"#2a3f5f\",\"gridcolor\":\"white\",\"linecolor\":\"white\",\"minorgridcolor\":\"white\",\"startlinecolor\":\"#2a3f5f\"},\"type\":\"carpet\"}],\"table\":[{\"cells\":{\"fill\":{\"color\":\"#EBF0F8\"},\"line\":{\"color\":\"white\"}},\"header\":{\"fill\":{\"color\":\"#C8D4E3\"},\"line\":{\"color\":\"white\"}},\"type\":\"table\"}],\"barpolar\":[{\"marker\":{\"line\":{\"color\":\"#E5ECF6\",\"width\":0.5},\"pattern\":{\"fillmode\":\"overlay\",\"size\":10,\"solidity\":0.2}},\"type\":\"barpolar\"}],\"pie\":[{\"automargin\":true,\"type\":\"pie\"}]},\"layout\":{\"autotypenumbers\":\"strict\",\"colorway\":[\"#636efa\",\"#EF553B\",\"#00cc96\",\"#ab63fa\",\"#FFA15A\",\"#19d3f3\",\"#FF6692\",\"#B6E880\",\"#FF97FF\",\"#FECB52\"],\"font\":{\"color\":\"#2a3f5f\"},\"hovermode\":\"closest\",\"hoverlabel\":{\"align\":\"left\"},\"paper_bgcolor\":\"white\",\"plot_bgcolor\":\"#E5ECF6\",\"polar\":{\"bgcolor\":\"#E5ECF6\",\"angularaxis\":{\"gridcolor\":\"white\",\"linecolor\":\"white\",\"ticks\":\"\"},\"radialaxis\":{\"gridcolor\":\"white\",\"linecolor\":\"white\",\"ticks\":\"\"}},\"ternary\":{\"bgcolor\":\"#E5ECF6\",\"aaxis\":{\"gridcolor\":\"white\",\"linecolor\":\"white\",\"ticks\":\"\"},\"baxis\":{\"gridcolor\":\"white\",\"linecolor\":\"white\",\"ticks\":\"\"},\"caxis\":{\"gridcolor\":\"white\",\"linecolor\":\"white\",\"ticks\":\"\"}},\"coloraxis\":{\"colorbar\":{\"outlinewidth\":0,\"ticks\":\"\"}},\"colorscale\":{\"sequential\":[[0.0,\"#0d0887\"],[0.1111111111111111,\"#46039f\"],[0.2222222222222222,\"#7201a8\"],[0.3333333333333333,\"#9c179e\"],[0.4444444444444444,\"#bd3786\"],[0.5555555555555556,\"#d8576b\"],[0.6666666666666666,\"#ed7953\"],[0.7777777777777778,\"#fb9f3a\"],[0.8888888888888888,\"#fdca26\"],[1.0,\"#f0f921\"]],\"sequentialminus\":[[0.0,\"#0d0887\"],[0.1111111111111111,\"#46039f\"],[0.2222222222222222,\"#7201a8\"],[0.3333333333333333,\"#9c179e\"],[0.4444444444444444,\"#bd3786\"],[0.5555555555555556,\"#d8576b\"],[0.6666666666666666,\"#ed7953\"],[0.7777777777777778,\"#fb9f3a\"],[0.8888888888888888,\"#fdca26\"],[1.0,\"#f0f921\"]],\"diverging\":[[0,\"#8e0152\"],[0.1,\"#c51b7d\"],[0.2,\"#de77ae\"],[0.3,\"#f1b6da\"],[0.4,\"#fde0ef\"],[0.5,\"#f7f7f7\"],[0.6,\"#e6f5d0\"],[0.7,\"#b8e186\"],[0.8,\"#7fbc41\"],[0.9,\"#4d9221\"],[1,\"#276419\"]]},\"xaxis\":{\"gridcolor\":\"white\",\"linecolor\":\"white\",\"ticks\":\"\",\"title\":{\"standoff\":15},\"zerolinecolor\":\"white\",\"automargin\":true,\"zerolinewidth\":2},\"yaxis\":{\"gridcolor\":\"white\",\"linecolor\":\"white\",\"ticks\":\"\",\"title\":{\"standoff\":15},\"zerolinecolor\":\"white\",\"automargin\":true,\"zerolinewidth\":2},\"scene\":{\"xaxis\":{\"backgroundcolor\":\"#E5ECF6\",\"gridcolor\":\"white\",\"linecolor\":\"white\",\"showbackground\":true,\"ticks\":\"\",\"zerolinecolor\":\"white\",\"gridwidth\":2},\"yaxis\":{\"backgroundcolor\":\"#E5ECF6\",\"gridcolor\":\"white\",\"linecolor\":\"white\",\"showbackground\":true,\"ticks\":\"\",\"zerolinecolor\":\"white\",\"gridwidth\":2},\"zaxis\":{\"backgroundcolor\":\"#E5ECF6\",\"gridcolor\":\"white\",\"linecolor\":\"white\",\"showbackground\":true,\"ticks\":\"\",\"zerolinecolor\":\"white\",\"gridwidth\":2}},\"shapedefaults\":{\"line\":{\"color\":\"#2a3f5f\"}},\"annotationdefaults\":{\"arrowcolor\":\"#2a3f5f\",\"arrowhead\":0,\"arrowwidth\":1},\"geo\":{\"bgcolor\":\"white\",\"landcolor\":\"#E5ECF6\",\"subunitcolor\":\"white\",\"showland\":true,\"showlakes\":true,\"lakecolor\":\"white\"},\"title\":{\"x\":0.05},\"mapbox\":{\"style\":\"light\"}}},\"xaxis\":{\"anchor\":\"y\",\"domain\":[0.0,1.0],\"title\":{\"text\":\"variable\"}},\"yaxis\":{\"anchor\":\"x\",\"domain\":[0.0,1.0],\"title\":{\"text\":\"value\"}},\"legend\":{\"title\":{\"text\":\"Higher_Than_Median\"},\"tracegroupgap\":0},\"title\":{\"text\":\"Average Corn Field Expansion Rate for land size bigger than median \\n                 <br>(Higher than median: 1.0; Lower than median: 0.0)\"},\"boxmode\":\"group\",\"autosize\":false,\"width\":800},                        {\"responsive\": true}                    ).then(function(){\n",
       "                            \n",
       "var gd = document.getElementById('8bb5479a-a265-43a8-ba7b-500352d10c82');\n",
       "var x = new MutationObserver(function (mutations, observer) {{\n",
       "        var display = window.getComputedStyle(gd).display;\n",
       "        if (!display || display === 'none') {{\n",
       "            console.log([gd, 'removed!']);\n",
       "            Plotly.purge(gd);\n",
       "            observer.disconnect();\n",
       "        }}\n",
       "}});\n",
       "\n",
       "// Listen for the removal of the full notebook cells\n",
       "var notebookContainer = gd.closest('#notebook-container');\n",
       "if (notebookContainer) {{\n",
       "    x.observe(notebookContainer, {childList: true});\n",
       "}}\n",
       "\n",
       "// Listen for the clearing of the current output cell\n",
       "var outputEl = gd.closest('.output');\n",
       "if (outputEl) {{\n",
       "    x.observe(outputEl, {childList: true});\n",
       "}}\n",
       "\n",
       "                        })                };                });            </script>        </div>"
      ]
     },
     "metadata": {},
     "output_type": "display_data"
    }
   ],
   "source": [
    "import plotly.express as px\n",
    "fig_box = px.box(last_df,                                           # Specify data frame\n",
    "                 y=[\"Log_Average_Corn_Field_Expansion_Rate\"],                       # Select posrecip and negrecip variables\n",
    "                 points=\"all\",                                     # Include all observations as data points\n",
    "                 color = 'Higher_Than_Median',                                # Color (and group by) column \"Cluster\"\n",
    "                 labels = {\"Cluster\": \"Altruism\"},                 # Rename \"Cluster\" as \"Altruism\" in our legend\n",
    "                 title = \"\"\"Average Corn Field Expansion Rate for land size bigger than median \n",
    "                 <br>(Higher than median: 1.0; Lower than median: 0.0)\"\"\")       # Always add a title!\n",
    "fig_box.update_layout(autosize=False, width = 800)                # Specify width (by default, full notebook cell)\n",
    "fig_box"
   ]
  },
  {
   "cell_type": "code",
   "execution_count": 138,
   "metadata": {},
   "outputs": [
    {
     "data": {
      "application/vnd.plotly.v1+json": {
       "config": {
        "plotlyServerURL": "https://plot.ly"
       },
       "data": [
        {
         "alignmentgroup": "True",
         "boxpoints": "all",
         "hovertemplate": "Higher_Than_Median=1<br>variable=%{x}<br>value=%{y}<extra></extra>",
         "legendgroup": "1",
         "marker": {
          "color": "#636efa"
         },
         "name": "1",
         "notched": false,
         "offsetgroup": "1",
         "orientation": "v",
         "showlegend": true,
         "type": "box",
         "x": [
          "Average_Deforestation_Rate",
          "Average_Deforestation_Rate",
          "Average_Deforestation_Rate",
          "Average_Deforestation_Rate",
          "Average_Deforestation_Rate",
          "Average_Deforestation_Rate",
          "Average_Deforestation_Rate",
          "Average_Deforestation_Rate",
          "Average_Deforestation_Rate",
          "Average_Deforestation_Rate",
          "Average_Deforestation_Rate",
          "Average_Deforestation_Rate",
          "Average_Deforestation_Rate",
          "Average_Deforestation_Rate",
          "Average_Deforestation_Rate",
          "Average_Deforestation_Rate",
          "Average_Deforestation_Rate",
          "Average_Deforestation_Rate",
          "Average_Deforestation_Rate",
          "Average_Deforestation_Rate",
          "Average_Deforestation_Rate",
          "Average_Deforestation_Rate",
          "Average_Deforestation_Rate",
          "Average_Deforestation_Rate",
          "Average_Deforestation_Rate",
          "Average_Deforestation_Rate",
          "Average_Deforestation_Rate",
          "Average_Deforestation_Rate",
          "Average_Deforestation_Rate",
          "Average_Deforestation_Rate",
          "Average_Deforestation_Rate",
          "Average_Deforestation_Rate",
          "Average_Deforestation_Rate",
          "Average_Deforestation_Rate",
          "Average_Deforestation_Rate",
          "Average_Deforestation_Rate",
          "Average_Deforestation_Rate",
          "Average_Deforestation_Rate",
          "Average_Deforestation_Rate",
          "Average_Deforestation_Rate"
         ],
         "x0": " ",
         "xaxis": "x",
         "y": [
          0,
          0.0072394070525282905,
          -0.4249873010201481,
          -0.08162370833511877,
          0.01196176347817467,
          -0.30290141379867724,
          -0.1744583997873472,
          0.030779367806980804,
          0.1538455519185333,
          0.21718434143718343,
          -0.1553883116883115,
          -0.23736438308027888,
          -0.0006497746565052811,
          -0.15769063726751817,
          0.17006774045358258,
          0.006593758258035946,
          0.0739242729495623,
          0.1922474253572467,
          0.005505551121841832,
          -0.027960846827909416,
          0,
          -0.06586947616030127,
          0.02509692827898068,
          -0.45738784663895066,
          0.010027361457804383,
          -0.009359323080014647,
          -0.04874594324314127,
          -0.8201637530604302,
          -0.11151621803977302,
          -0.01307673779753477,
          0.06557862011372105,
          0.017385734961721445,
          -0.028642107795344544,
          0.1325626983560168,
          0.1315868427922272,
          0.014527509069781014,
          0.07449625334335491,
          0.4126124465257109,
          0,
          -0.148471357870395
         ],
         "y0": " ",
         "yaxis": "y"
        },
        {
         "alignmentgroup": "True",
         "boxpoints": "all",
         "hovertemplate": "Higher_Than_Median=0<br>variable=%{x}<br>value=%{y}<extra></extra>",
         "legendgroup": "0",
         "marker": {
          "color": "#EF553B"
         },
         "name": "0",
         "notched": false,
         "offsetgroup": "0",
         "orientation": "v",
         "showlegend": true,
         "type": "box",
         "x": [
          "Average_Deforestation_Rate",
          "Average_Deforestation_Rate",
          "Average_Deforestation_Rate",
          "Average_Deforestation_Rate",
          "Average_Deforestation_Rate",
          "Average_Deforestation_Rate",
          "Average_Deforestation_Rate",
          "Average_Deforestation_Rate",
          "Average_Deforestation_Rate",
          "Average_Deforestation_Rate",
          "Average_Deforestation_Rate",
          "Average_Deforestation_Rate",
          "Average_Deforestation_Rate",
          "Average_Deforestation_Rate",
          "Average_Deforestation_Rate",
          "Average_Deforestation_Rate",
          "Average_Deforestation_Rate",
          "Average_Deforestation_Rate",
          "Average_Deforestation_Rate",
          "Average_Deforestation_Rate",
          "Average_Deforestation_Rate",
          "Average_Deforestation_Rate",
          "Average_Deforestation_Rate",
          "Average_Deforestation_Rate",
          "Average_Deforestation_Rate",
          "Average_Deforestation_Rate",
          "Average_Deforestation_Rate",
          "Average_Deforestation_Rate",
          "Average_Deforestation_Rate",
          "Average_Deforestation_Rate",
          "Average_Deforestation_Rate",
          "Average_Deforestation_Rate",
          "Average_Deforestation_Rate",
          "Average_Deforestation_Rate",
          "Average_Deforestation_Rate",
          "Average_Deforestation_Rate",
          "Average_Deforestation_Rate",
          "Average_Deforestation_Rate",
          "Average_Deforestation_Rate",
          "Average_Deforestation_Rate"
         ],
         "x0": " ",
         "xaxis": "x",
         "y": [
          0.032514930325149294,
          -0.0069930069930070485,
          0.03558366015952042,
          0.08554083530512037,
          -0.012895060305754087,
          0.1130910005335085,
          0.03302509907529712,
          -0.38541708182216733,
          -0.423264213615402,
          0.24877306564852653,
          0.17272015098102048,
          0.044668060577838856,
          0.3891312452845698,
          0.026175368586183755,
          0.2022853312831181,
          -0.2073095823095823,
          0.04042439069061581,
          0.1063440299033782,
          -0.1442883992127033,
          0.047432049835059005,
          0.33481616721228913,
          -0.12832328899062614,
          -0.17015913029777865,
          0.03531190653927041,
          -0.42523238322983753,
          -0.055500963043310876,
          0.057478517297143,
          0.016058377705297066,
          -0.7901060631241783,
          0.09344570057118352,
          -0.14103041772541305,
          0.01350324517610314,
          0.10921025782856524,
          -0.19477484028463107,
          0.00680291597546527,
          -0.04569542540792523,
          0.08834696134823826,
          0.022365295032519696,
          -0.05194303765732319,
          0.17738232513686747
         ],
         "y0": " ",
         "yaxis": "y"
        }
       ],
       "layout": {
        "autosize": false,
        "boxmode": "group",
        "legend": {
         "title": {
          "text": "Higher_Than_Median"
         },
         "tracegroupgap": 0
        },
        "template": {
         "data": {
          "bar": [
           {
            "error_x": {
             "color": "#2a3f5f"
            },
            "error_y": {
             "color": "#2a3f5f"
            },
            "marker": {
             "line": {
              "color": "#E5ECF6",
              "width": 0.5
             },
             "pattern": {
              "fillmode": "overlay",
              "size": 10,
              "solidity": 0.2
             }
            },
            "type": "bar"
           }
          ],
          "barpolar": [
           {
            "marker": {
             "line": {
              "color": "#E5ECF6",
              "width": 0.5
             },
             "pattern": {
              "fillmode": "overlay",
              "size": 10,
              "solidity": 0.2
             }
            },
            "type": "barpolar"
           }
          ],
          "carpet": [
           {
            "aaxis": {
             "endlinecolor": "#2a3f5f",
             "gridcolor": "white",
             "linecolor": "white",
             "minorgridcolor": "white",
             "startlinecolor": "#2a3f5f"
            },
            "baxis": {
             "endlinecolor": "#2a3f5f",
             "gridcolor": "white",
             "linecolor": "white",
             "minorgridcolor": "white",
             "startlinecolor": "#2a3f5f"
            },
            "type": "carpet"
           }
          ],
          "choropleth": [
           {
            "colorbar": {
             "outlinewidth": 0,
             "ticks": ""
            },
            "type": "choropleth"
           }
          ],
          "contour": [
           {
            "colorbar": {
             "outlinewidth": 0,
             "ticks": ""
            },
            "colorscale": [
             [
              0,
              "#0d0887"
             ],
             [
              0.1111111111111111,
              "#46039f"
             ],
             [
              0.2222222222222222,
              "#7201a8"
             ],
             [
              0.3333333333333333,
              "#9c179e"
             ],
             [
              0.4444444444444444,
              "#bd3786"
             ],
             [
              0.5555555555555556,
              "#d8576b"
             ],
             [
              0.6666666666666666,
              "#ed7953"
             ],
             [
              0.7777777777777778,
              "#fb9f3a"
             ],
             [
              0.8888888888888888,
              "#fdca26"
             ],
             [
              1,
              "#f0f921"
             ]
            ],
            "type": "contour"
           }
          ],
          "contourcarpet": [
           {
            "colorbar": {
             "outlinewidth": 0,
             "ticks": ""
            },
            "type": "contourcarpet"
           }
          ],
          "heatmap": [
           {
            "colorbar": {
             "outlinewidth": 0,
             "ticks": ""
            },
            "colorscale": [
             [
              0,
              "#0d0887"
             ],
             [
              0.1111111111111111,
              "#46039f"
             ],
             [
              0.2222222222222222,
              "#7201a8"
             ],
             [
              0.3333333333333333,
              "#9c179e"
             ],
             [
              0.4444444444444444,
              "#bd3786"
             ],
             [
              0.5555555555555556,
              "#d8576b"
             ],
             [
              0.6666666666666666,
              "#ed7953"
             ],
             [
              0.7777777777777778,
              "#fb9f3a"
             ],
             [
              0.8888888888888888,
              "#fdca26"
             ],
             [
              1,
              "#f0f921"
             ]
            ],
            "type": "heatmap"
           }
          ],
          "heatmapgl": [
           {
            "colorbar": {
             "outlinewidth": 0,
             "ticks": ""
            },
            "colorscale": [
             [
              0,
              "#0d0887"
             ],
             [
              0.1111111111111111,
              "#46039f"
             ],
             [
              0.2222222222222222,
              "#7201a8"
             ],
             [
              0.3333333333333333,
              "#9c179e"
             ],
             [
              0.4444444444444444,
              "#bd3786"
             ],
             [
              0.5555555555555556,
              "#d8576b"
             ],
             [
              0.6666666666666666,
              "#ed7953"
             ],
             [
              0.7777777777777778,
              "#fb9f3a"
             ],
             [
              0.8888888888888888,
              "#fdca26"
             ],
             [
              1,
              "#f0f921"
             ]
            ],
            "type": "heatmapgl"
           }
          ],
          "histogram": [
           {
            "marker": {
             "pattern": {
              "fillmode": "overlay",
              "size": 10,
              "solidity": 0.2
             }
            },
            "type": "histogram"
           }
          ],
          "histogram2d": [
           {
            "colorbar": {
             "outlinewidth": 0,
             "ticks": ""
            },
            "colorscale": [
             [
              0,
              "#0d0887"
             ],
             [
              0.1111111111111111,
              "#46039f"
             ],
             [
              0.2222222222222222,
              "#7201a8"
             ],
             [
              0.3333333333333333,
              "#9c179e"
             ],
             [
              0.4444444444444444,
              "#bd3786"
             ],
             [
              0.5555555555555556,
              "#d8576b"
             ],
             [
              0.6666666666666666,
              "#ed7953"
             ],
             [
              0.7777777777777778,
              "#fb9f3a"
             ],
             [
              0.8888888888888888,
              "#fdca26"
             ],
             [
              1,
              "#f0f921"
             ]
            ],
            "type": "histogram2d"
           }
          ],
          "histogram2dcontour": [
           {
            "colorbar": {
             "outlinewidth": 0,
             "ticks": ""
            },
            "colorscale": [
             [
              0,
              "#0d0887"
             ],
             [
              0.1111111111111111,
              "#46039f"
             ],
             [
              0.2222222222222222,
              "#7201a8"
             ],
             [
              0.3333333333333333,
              "#9c179e"
             ],
             [
              0.4444444444444444,
              "#bd3786"
             ],
             [
              0.5555555555555556,
              "#d8576b"
             ],
             [
              0.6666666666666666,
              "#ed7953"
             ],
             [
              0.7777777777777778,
              "#fb9f3a"
             ],
             [
              0.8888888888888888,
              "#fdca26"
             ],
             [
              1,
              "#f0f921"
             ]
            ],
            "type": "histogram2dcontour"
           }
          ],
          "mesh3d": [
           {
            "colorbar": {
             "outlinewidth": 0,
             "ticks": ""
            },
            "type": "mesh3d"
           }
          ],
          "parcoords": [
           {
            "line": {
             "colorbar": {
              "outlinewidth": 0,
              "ticks": ""
             }
            },
            "type": "parcoords"
           }
          ],
          "pie": [
           {
            "automargin": true,
            "type": "pie"
           }
          ],
          "scatter": [
           {
            "fillpattern": {
             "fillmode": "overlay",
             "size": 10,
             "solidity": 0.2
            },
            "type": "scatter"
           }
          ],
          "scatter3d": [
           {
            "line": {
             "colorbar": {
              "outlinewidth": 0,
              "ticks": ""
             }
            },
            "marker": {
             "colorbar": {
              "outlinewidth": 0,
              "ticks": ""
             }
            },
            "type": "scatter3d"
           }
          ],
          "scattercarpet": [
           {
            "marker": {
             "colorbar": {
              "outlinewidth": 0,
              "ticks": ""
             }
            },
            "type": "scattercarpet"
           }
          ],
          "scattergeo": [
           {
            "marker": {
             "colorbar": {
              "outlinewidth": 0,
              "ticks": ""
             }
            },
            "type": "scattergeo"
           }
          ],
          "scattergl": [
           {
            "marker": {
             "colorbar": {
              "outlinewidth": 0,
              "ticks": ""
             }
            },
            "type": "scattergl"
           }
          ],
          "scattermapbox": [
           {
            "marker": {
             "colorbar": {
              "outlinewidth": 0,
              "ticks": ""
             }
            },
            "type": "scattermapbox"
           }
          ],
          "scatterpolar": [
           {
            "marker": {
             "colorbar": {
              "outlinewidth": 0,
              "ticks": ""
             }
            },
            "type": "scatterpolar"
           }
          ],
          "scatterpolargl": [
           {
            "marker": {
             "colorbar": {
              "outlinewidth": 0,
              "ticks": ""
             }
            },
            "type": "scatterpolargl"
           }
          ],
          "scatterternary": [
           {
            "marker": {
             "colorbar": {
              "outlinewidth": 0,
              "ticks": ""
             }
            },
            "type": "scatterternary"
           }
          ],
          "surface": [
           {
            "colorbar": {
             "outlinewidth": 0,
             "ticks": ""
            },
            "colorscale": [
             [
              0,
              "#0d0887"
             ],
             [
              0.1111111111111111,
              "#46039f"
             ],
             [
              0.2222222222222222,
              "#7201a8"
             ],
             [
              0.3333333333333333,
              "#9c179e"
             ],
             [
              0.4444444444444444,
              "#bd3786"
             ],
             [
              0.5555555555555556,
              "#d8576b"
             ],
             [
              0.6666666666666666,
              "#ed7953"
             ],
             [
              0.7777777777777778,
              "#fb9f3a"
             ],
             [
              0.8888888888888888,
              "#fdca26"
             ],
             [
              1,
              "#f0f921"
             ]
            ],
            "type": "surface"
           }
          ],
          "table": [
           {
            "cells": {
             "fill": {
              "color": "#EBF0F8"
             },
             "line": {
              "color": "white"
             }
            },
            "header": {
             "fill": {
              "color": "#C8D4E3"
             },
             "line": {
              "color": "white"
             }
            },
            "type": "table"
           }
          ]
         },
         "layout": {
          "annotationdefaults": {
           "arrowcolor": "#2a3f5f",
           "arrowhead": 0,
           "arrowwidth": 1
          },
          "autotypenumbers": "strict",
          "coloraxis": {
           "colorbar": {
            "outlinewidth": 0,
            "ticks": ""
           }
          },
          "colorscale": {
           "diverging": [
            [
             0,
             "#8e0152"
            ],
            [
             0.1,
             "#c51b7d"
            ],
            [
             0.2,
             "#de77ae"
            ],
            [
             0.3,
             "#f1b6da"
            ],
            [
             0.4,
             "#fde0ef"
            ],
            [
             0.5,
             "#f7f7f7"
            ],
            [
             0.6,
             "#e6f5d0"
            ],
            [
             0.7,
             "#b8e186"
            ],
            [
             0.8,
             "#7fbc41"
            ],
            [
             0.9,
             "#4d9221"
            ],
            [
             1,
             "#276419"
            ]
           ],
           "sequential": [
            [
             0,
             "#0d0887"
            ],
            [
             0.1111111111111111,
             "#46039f"
            ],
            [
             0.2222222222222222,
             "#7201a8"
            ],
            [
             0.3333333333333333,
             "#9c179e"
            ],
            [
             0.4444444444444444,
             "#bd3786"
            ],
            [
             0.5555555555555556,
             "#d8576b"
            ],
            [
             0.6666666666666666,
             "#ed7953"
            ],
            [
             0.7777777777777778,
             "#fb9f3a"
            ],
            [
             0.8888888888888888,
             "#fdca26"
            ],
            [
             1,
             "#f0f921"
            ]
           ],
           "sequentialminus": [
            [
             0,
             "#0d0887"
            ],
            [
             0.1111111111111111,
             "#46039f"
            ],
            [
             0.2222222222222222,
             "#7201a8"
            ],
            [
             0.3333333333333333,
             "#9c179e"
            ],
            [
             0.4444444444444444,
             "#bd3786"
            ],
            [
             0.5555555555555556,
             "#d8576b"
            ],
            [
             0.6666666666666666,
             "#ed7953"
            ],
            [
             0.7777777777777778,
             "#fb9f3a"
            ],
            [
             0.8888888888888888,
             "#fdca26"
            ],
            [
             1,
             "#f0f921"
            ]
           ]
          },
          "colorway": [
           "#636efa",
           "#EF553B",
           "#00cc96",
           "#ab63fa",
           "#FFA15A",
           "#19d3f3",
           "#FF6692",
           "#B6E880",
           "#FF97FF",
           "#FECB52"
          ],
          "font": {
           "color": "#2a3f5f"
          },
          "geo": {
           "bgcolor": "white",
           "lakecolor": "white",
           "landcolor": "#E5ECF6",
           "showlakes": true,
           "showland": true,
           "subunitcolor": "white"
          },
          "hoverlabel": {
           "align": "left"
          },
          "hovermode": "closest",
          "mapbox": {
           "style": "light"
          },
          "paper_bgcolor": "white",
          "plot_bgcolor": "#E5ECF6",
          "polar": {
           "angularaxis": {
            "gridcolor": "white",
            "linecolor": "white",
            "ticks": ""
           },
           "bgcolor": "#E5ECF6",
           "radialaxis": {
            "gridcolor": "white",
            "linecolor": "white",
            "ticks": ""
           }
          },
          "scene": {
           "xaxis": {
            "backgroundcolor": "#E5ECF6",
            "gridcolor": "white",
            "gridwidth": 2,
            "linecolor": "white",
            "showbackground": true,
            "ticks": "",
            "zerolinecolor": "white"
           },
           "yaxis": {
            "backgroundcolor": "#E5ECF6",
            "gridcolor": "white",
            "gridwidth": 2,
            "linecolor": "white",
            "showbackground": true,
            "ticks": "",
            "zerolinecolor": "white"
           },
           "zaxis": {
            "backgroundcolor": "#E5ECF6",
            "gridcolor": "white",
            "gridwidth": 2,
            "linecolor": "white",
            "showbackground": true,
            "ticks": "",
            "zerolinecolor": "white"
           }
          },
          "shapedefaults": {
           "line": {
            "color": "#2a3f5f"
           }
          },
          "ternary": {
           "aaxis": {
            "gridcolor": "white",
            "linecolor": "white",
            "ticks": ""
           },
           "baxis": {
            "gridcolor": "white",
            "linecolor": "white",
            "ticks": ""
           },
           "bgcolor": "#E5ECF6",
           "caxis": {
            "gridcolor": "white",
            "linecolor": "white",
            "ticks": ""
           }
          },
          "title": {
           "x": 0.05
          },
          "xaxis": {
           "automargin": true,
           "gridcolor": "white",
           "linecolor": "white",
           "ticks": "",
           "title": {
            "standoff": 15
           },
           "zerolinecolor": "white",
           "zerolinewidth": 2
          },
          "yaxis": {
           "automargin": true,
           "gridcolor": "white",
           "linecolor": "white",
           "ticks": "",
           "title": {
            "standoff": 15
           },
           "zerolinecolor": "white",
           "zerolinewidth": 2
          }
         }
        },
        "title": {
         "text": "Average Deforestation Rate for land size bigger than median \n                 <br>(Higher than median: 1.0; Lower than median: 0.0)"
        },
        "width": 800,
        "xaxis": {
         "anchor": "y",
         "domain": [
          0,
          1
         ],
         "title": {
          "text": "variable"
         }
        },
        "yaxis": {
         "anchor": "x",
         "domain": [
          0,
          1
         ],
         "title": {
          "text": "value"
         }
        }
       }
      },
      "text/html": [
       "<div>                            <div id=\"00ad7f2b-7c5e-4d99-895f-67e421627955\" class=\"plotly-graph-div\" style=\"height:525px; width:800px;\"></div>            <script type=\"text/javascript\">                require([\"plotly\"], function(Plotly) {                    window.PLOTLYENV=window.PLOTLYENV || {};                                    if (document.getElementById(\"00ad7f2b-7c5e-4d99-895f-67e421627955\")) {                    Plotly.newPlot(                        \"00ad7f2b-7c5e-4d99-895f-67e421627955\",                        [{\"alignmentgroup\":\"True\",\"boxpoints\":\"all\",\"hovertemplate\":\"Higher_Than_Median=1<br>variable=%{x}<br>value=%{y}<extra></extra>\",\"legendgroup\":\"1\",\"marker\":{\"color\":\"#636efa\"},\"name\":\"1\",\"notched\":false,\"offsetgroup\":\"1\",\"orientation\":\"v\",\"showlegend\":true,\"x\":[\"Average_Deforestation_Rate\",\"Average_Deforestation_Rate\",\"Average_Deforestation_Rate\",\"Average_Deforestation_Rate\",\"Average_Deforestation_Rate\",\"Average_Deforestation_Rate\",\"Average_Deforestation_Rate\",\"Average_Deforestation_Rate\",\"Average_Deforestation_Rate\",\"Average_Deforestation_Rate\",\"Average_Deforestation_Rate\",\"Average_Deforestation_Rate\",\"Average_Deforestation_Rate\",\"Average_Deforestation_Rate\",\"Average_Deforestation_Rate\",\"Average_Deforestation_Rate\",\"Average_Deforestation_Rate\",\"Average_Deforestation_Rate\",\"Average_Deforestation_Rate\",\"Average_Deforestation_Rate\",\"Average_Deforestation_Rate\",\"Average_Deforestation_Rate\",\"Average_Deforestation_Rate\",\"Average_Deforestation_Rate\",\"Average_Deforestation_Rate\",\"Average_Deforestation_Rate\",\"Average_Deforestation_Rate\",\"Average_Deforestation_Rate\",\"Average_Deforestation_Rate\",\"Average_Deforestation_Rate\",\"Average_Deforestation_Rate\",\"Average_Deforestation_Rate\",\"Average_Deforestation_Rate\",\"Average_Deforestation_Rate\",\"Average_Deforestation_Rate\",\"Average_Deforestation_Rate\",\"Average_Deforestation_Rate\",\"Average_Deforestation_Rate\",\"Average_Deforestation_Rate\",\"Average_Deforestation_Rate\"],\"x0\":\" \",\"xaxis\":\"x\",\"y\":[0.0,0.0072394070525282905,-0.4249873010201481,-0.08162370833511877,0.01196176347817467,-0.30290141379867724,-0.1744583997873472,0.030779367806980804,0.1538455519185333,0.21718434143718343,-0.1553883116883115,-0.23736438308027888,-0.0006497746565052811,-0.15769063726751817,0.17006774045358258,0.006593758258035946,0.0739242729495623,0.1922474253572467,0.005505551121841832,-0.027960846827909416,0.0,-0.06586947616030127,0.02509692827898068,-0.45738784663895066,0.010027361457804383,-0.009359323080014647,-0.04874594324314127,-0.8201637530604302,-0.11151621803977302,-0.01307673779753477,0.06557862011372105,0.017385734961721445,-0.028642107795344544,0.1325626983560168,0.1315868427922272,0.014527509069781014,0.07449625334335491,0.4126124465257109,0.0,-0.148471357870395],\"y0\":\" \",\"yaxis\":\"y\",\"type\":\"box\"},{\"alignmentgroup\":\"True\",\"boxpoints\":\"all\",\"hovertemplate\":\"Higher_Than_Median=0<br>variable=%{x}<br>value=%{y}<extra></extra>\",\"legendgroup\":\"0\",\"marker\":{\"color\":\"#EF553B\"},\"name\":\"0\",\"notched\":false,\"offsetgroup\":\"0\",\"orientation\":\"v\",\"showlegend\":true,\"x\":[\"Average_Deforestation_Rate\",\"Average_Deforestation_Rate\",\"Average_Deforestation_Rate\",\"Average_Deforestation_Rate\",\"Average_Deforestation_Rate\",\"Average_Deforestation_Rate\",\"Average_Deforestation_Rate\",\"Average_Deforestation_Rate\",\"Average_Deforestation_Rate\",\"Average_Deforestation_Rate\",\"Average_Deforestation_Rate\",\"Average_Deforestation_Rate\",\"Average_Deforestation_Rate\",\"Average_Deforestation_Rate\",\"Average_Deforestation_Rate\",\"Average_Deforestation_Rate\",\"Average_Deforestation_Rate\",\"Average_Deforestation_Rate\",\"Average_Deforestation_Rate\",\"Average_Deforestation_Rate\",\"Average_Deforestation_Rate\",\"Average_Deforestation_Rate\",\"Average_Deforestation_Rate\",\"Average_Deforestation_Rate\",\"Average_Deforestation_Rate\",\"Average_Deforestation_Rate\",\"Average_Deforestation_Rate\",\"Average_Deforestation_Rate\",\"Average_Deforestation_Rate\",\"Average_Deforestation_Rate\",\"Average_Deforestation_Rate\",\"Average_Deforestation_Rate\",\"Average_Deforestation_Rate\",\"Average_Deforestation_Rate\",\"Average_Deforestation_Rate\",\"Average_Deforestation_Rate\",\"Average_Deforestation_Rate\",\"Average_Deforestation_Rate\",\"Average_Deforestation_Rate\",\"Average_Deforestation_Rate\"],\"x0\":\" \",\"xaxis\":\"x\",\"y\":[0.032514930325149294,-0.0069930069930070485,0.03558366015952042,0.08554083530512037,-0.012895060305754087,0.1130910005335085,0.03302509907529712,-0.38541708182216733,-0.423264213615402,0.24877306564852653,0.17272015098102048,0.044668060577838856,0.3891312452845698,0.026175368586183755,0.2022853312831181,-0.2073095823095823,0.04042439069061581,0.1063440299033782,-0.1442883992127033,0.047432049835059005,0.33481616721228913,-0.12832328899062614,-0.17015913029777865,0.03531190653927041,-0.42523238322983753,-0.055500963043310876,0.057478517297143,0.016058377705297066,-0.7901060631241783,0.09344570057118352,-0.14103041772541305,0.01350324517610314,0.10921025782856524,-0.19477484028463107,0.00680291597546527,-0.04569542540792523,0.08834696134823826,0.022365295032519696,-0.05194303765732319,0.17738232513686747],\"y0\":\" \",\"yaxis\":\"y\",\"type\":\"box\"}],                        {\"template\":{\"data\":{\"histogram2dcontour\":[{\"type\":\"histogram2dcontour\",\"colorbar\":{\"outlinewidth\":0,\"ticks\":\"\"},\"colorscale\":[[0.0,\"#0d0887\"],[0.1111111111111111,\"#46039f\"],[0.2222222222222222,\"#7201a8\"],[0.3333333333333333,\"#9c179e\"],[0.4444444444444444,\"#bd3786\"],[0.5555555555555556,\"#d8576b\"],[0.6666666666666666,\"#ed7953\"],[0.7777777777777778,\"#fb9f3a\"],[0.8888888888888888,\"#fdca26\"],[1.0,\"#f0f921\"]]}],\"choropleth\":[{\"type\":\"choropleth\",\"colorbar\":{\"outlinewidth\":0,\"ticks\":\"\"}}],\"histogram2d\":[{\"type\":\"histogram2d\",\"colorbar\":{\"outlinewidth\":0,\"ticks\":\"\"},\"colorscale\":[[0.0,\"#0d0887\"],[0.1111111111111111,\"#46039f\"],[0.2222222222222222,\"#7201a8\"],[0.3333333333333333,\"#9c179e\"],[0.4444444444444444,\"#bd3786\"],[0.5555555555555556,\"#d8576b\"],[0.6666666666666666,\"#ed7953\"],[0.7777777777777778,\"#fb9f3a\"],[0.8888888888888888,\"#fdca26\"],[1.0,\"#f0f921\"]]}],\"heatmap\":[{\"type\":\"heatmap\",\"colorbar\":{\"outlinewidth\":0,\"ticks\":\"\"},\"colorscale\":[[0.0,\"#0d0887\"],[0.1111111111111111,\"#46039f\"],[0.2222222222222222,\"#7201a8\"],[0.3333333333333333,\"#9c179e\"],[0.4444444444444444,\"#bd3786\"],[0.5555555555555556,\"#d8576b\"],[0.6666666666666666,\"#ed7953\"],[0.7777777777777778,\"#fb9f3a\"],[0.8888888888888888,\"#fdca26\"],[1.0,\"#f0f921\"]]}],\"heatmapgl\":[{\"type\":\"heatmapgl\",\"colorbar\":{\"outlinewidth\":0,\"ticks\":\"\"},\"colorscale\":[[0.0,\"#0d0887\"],[0.1111111111111111,\"#46039f\"],[0.2222222222222222,\"#7201a8\"],[0.3333333333333333,\"#9c179e\"],[0.4444444444444444,\"#bd3786\"],[0.5555555555555556,\"#d8576b\"],[0.6666666666666666,\"#ed7953\"],[0.7777777777777778,\"#fb9f3a\"],[0.8888888888888888,\"#fdca26\"],[1.0,\"#f0f921\"]]}],\"contourcarpet\":[{\"type\":\"contourcarpet\",\"colorbar\":{\"outlinewidth\":0,\"ticks\":\"\"}}],\"contour\":[{\"type\":\"contour\",\"colorbar\":{\"outlinewidth\":0,\"ticks\":\"\"},\"colorscale\":[[0.0,\"#0d0887\"],[0.1111111111111111,\"#46039f\"],[0.2222222222222222,\"#7201a8\"],[0.3333333333333333,\"#9c179e\"],[0.4444444444444444,\"#bd3786\"],[0.5555555555555556,\"#d8576b\"],[0.6666666666666666,\"#ed7953\"],[0.7777777777777778,\"#fb9f3a\"],[0.8888888888888888,\"#fdca26\"],[1.0,\"#f0f921\"]]}],\"surface\":[{\"type\":\"surface\",\"colorbar\":{\"outlinewidth\":0,\"ticks\":\"\"},\"colorscale\":[[0.0,\"#0d0887\"],[0.1111111111111111,\"#46039f\"],[0.2222222222222222,\"#7201a8\"],[0.3333333333333333,\"#9c179e\"],[0.4444444444444444,\"#bd3786\"],[0.5555555555555556,\"#d8576b\"],[0.6666666666666666,\"#ed7953\"],[0.7777777777777778,\"#fb9f3a\"],[0.8888888888888888,\"#fdca26\"],[1.0,\"#f0f921\"]]}],\"mesh3d\":[{\"type\":\"mesh3d\",\"colorbar\":{\"outlinewidth\":0,\"ticks\":\"\"}}],\"scatter\":[{\"fillpattern\":{\"fillmode\":\"overlay\",\"size\":10,\"solidity\":0.2},\"type\":\"scatter\"}],\"parcoords\":[{\"type\":\"parcoords\",\"line\":{\"colorbar\":{\"outlinewidth\":0,\"ticks\":\"\"}}}],\"scatterpolargl\":[{\"type\":\"scatterpolargl\",\"marker\":{\"colorbar\":{\"outlinewidth\":0,\"ticks\":\"\"}}}],\"bar\":[{\"error_x\":{\"color\":\"#2a3f5f\"},\"error_y\":{\"color\":\"#2a3f5f\"},\"marker\":{\"line\":{\"color\":\"#E5ECF6\",\"width\":0.5},\"pattern\":{\"fillmode\":\"overlay\",\"size\":10,\"solidity\":0.2}},\"type\":\"bar\"}],\"scattergeo\":[{\"type\":\"scattergeo\",\"marker\":{\"colorbar\":{\"outlinewidth\":0,\"ticks\":\"\"}}}],\"scatterpolar\":[{\"type\":\"scatterpolar\",\"marker\":{\"colorbar\":{\"outlinewidth\":0,\"ticks\":\"\"}}}],\"histogram\":[{\"marker\":{\"pattern\":{\"fillmode\":\"overlay\",\"size\":10,\"solidity\":0.2}},\"type\":\"histogram\"}],\"scattergl\":[{\"type\":\"scattergl\",\"marker\":{\"colorbar\":{\"outlinewidth\":0,\"ticks\":\"\"}}}],\"scatter3d\":[{\"type\":\"scatter3d\",\"line\":{\"colorbar\":{\"outlinewidth\":0,\"ticks\":\"\"}},\"marker\":{\"colorbar\":{\"outlinewidth\":0,\"ticks\":\"\"}}}],\"scattermapbox\":[{\"type\":\"scattermapbox\",\"marker\":{\"colorbar\":{\"outlinewidth\":0,\"ticks\":\"\"}}}],\"scatterternary\":[{\"type\":\"scatterternary\",\"marker\":{\"colorbar\":{\"outlinewidth\":0,\"ticks\":\"\"}}}],\"scattercarpet\":[{\"type\":\"scattercarpet\",\"marker\":{\"colorbar\":{\"outlinewidth\":0,\"ticks\":\"\"}}}],\"carpet\":[{\"aaxis\":{\"endlinecolor\":\"#2a3f5f\",\"gridcolor\":\"white\",\"linecolor\":\"white\",\"minorgridcolor\":\"white\",\"startlinecolor\":\"#2a3f5f\"},\"baxis\":{\"endlinecolor\":\"#2a3f5f\",\"gridcolor\":\"white\",\"linecolor\":\"white\",\"minorgridcolor\":\"white\",\"startlinecolor\":\"#2a3f5f\"},\"type\":\"carpet\"}],\"table\":[{\"cells\":{\"fill\":{\"color\":\"#EBF0F8\"},\"line\":{\"color\":\"white\"}},\"header\":{\"fill\":{\"color\":\"#C8D4E3\"},\"line\":{\"color\":\"white\"}},\"type\":\"table\"}],\"barpolar\":[{\"marker\":{\"line\":{\"color\":\"#E5ECF6\",\"width\":0.5},\"pattern\":{\"fillmode\":\"overlay\",\"size\":10,\"solidity\":0.2}},\"type\":\"barpolar\"}],\"pie\":[{\"automargin\":true,\"type\":\"pie\"}]},\"layout\":{\"autotypenumbers\":\"strict\",\"colorway\":[\"#636efa\",\"#EF553B\",\"#00cc96\",\"#ab63fa\",\"#FFA15A\",\"#19d3f3\",\"#FF6692\",\"#B6E880\",\"#FF97FF\",\"#FECB52\"],\"font\":{\"color\":\"#2a3f5f\"},\"hovermode\":\"closest\",\"hoverlabel\":{\"align\":\"left\"},\"paper_bgcolor\":\"white\",\"plot_bgcolor\":\"#E5ECF6\",\"polar\":{\"bgcolor\":\"#E5ECF6\",\"angularaxis\":{\"gridcolor\":\"white\",\"linecolor\":\"white\",\"ticks\":\"\"},\"radialaxis\":{\"gridcolor\":\"white\",\"linecolor\":\"white\",\"ticks\":\"\"}},\"ternary\":{\"bgcolor\":\"#E5ECF6\",\"aaxis\":{\"gridcolor\":\"white\",\"linecolor\":\"white\",\"ticks\":\"\"},\"baxis\":{\"gridcolor\":\"white\",\"linecolor\":\"white\",\"ticks\":\"\"},\"caxis\":{\"gridcolor\":\"white\",\"linecolor\":\"white\",\"ticks\":\"\"}},\"coloraxis\":{\"colorbar\":{\"outlinewidth\":0,\"ticks\":\"\"}},\"colorscale\":{\"sequential\":[[0.0,\"#0d0887\"],[0.1111111111111111,\"#46039f\"],[0.2222222222222222,\"#7201a8\"],[0.3333333333333333,\"#9c179e\"],[0.4444444444444444,\"#bd3786\"],[0.5555555555555556,\"#d8576b\"],[0.6666666666666666,\"#ed7953\"],[0.7777777777777778,\"#fb9f3a\"],[0.8888888888888888,\"#fdca26\"],[1.0,\"#f0f921\"]],\"sequentialminus\":[[0.0,\"#0d0887\"],[0.1111111111111111,\"#46039f\"],[0.2222222222222222,\"#7201a8\"],[0.3333333333333333,\"#9c179e\"],[0.4444444444444444,\"#bd3786\"],[0.5555555555555556,\"#d8576b\"],[0.6666666666666666,\"#ed7953\"],[0.7777777777777778,\"#fb9f3a\"],[0.8888888888888888,\"#fdca26\"],[1.0,\"#f0f921\"]],\"diverging\":[[0,\"#8e0152\"],[0.1,\"#c51b7d\"],[0.2,\"#de77ae\"],[0.3,\"#f1b6da\"],[0.4,\"#fde0ef\"],[0.5,\"#f7f7f7\"],[0.6,\"#e6f5d0\"],[0.7,\"#b8e186\"],[0.8,\"#7fbc41\"],[0.9,\"#4d9221\"],[1,\"#276419\"]]},\"xaxis\":{\"gridcolor\":\"white\",\"linecolor\":\"white\",\"ticks\":\"\",\"title\":{\"standoff\":15},\"zerolinecolor\":\"white\",\"automargin\":true,\"zerolinewidth\":2},\"yaxis\":{\"gridcolor\":\"white\",\"linecolor\":\"white\",\"ticks\":\"\",\"title\":{\"standoff\":15},\"zerolinecolor\":\"white\",\"automargin\":true,\"zerolinewidth\":2},\"scene\":{\"xaxis\":{\"backgroundcolor\":\"#E5ECF6\",\"gridcolor\":\"white\",\"linecolor\":\"white\",\"showbackground\":true,\"ticks\":\"\",\"zerolinecolor\":\"white\",\"gridwidth\":2},\"yaxis\":{\"backgroundcolor\":\"#E5ECF6\",\"gridcolor\":\"white\",\"linecolor\":\"white\",\"showbackground\":true,\"ticks\":\"\",\"zerolinecolor\":\"white\",\"gridwidth\":2},\"zaxis\":{\"backgroundcolor\":\"#E5ECF6\",\"gridcolor\":\"white\",\"linecolor\":\"white\",\"showbackground\":true,\"ticks\":\"\",\"zerolinecolor\":\"white\",\"gridwidth\":2}},\"shapedefaults\":{\"line\":{\"color\":\"#2a3f5f\"}},\"annotationdefaults\":{\"arrowcolor\":\"#2a3f5f\",\"arrowhead\":0,\"arrowwidth\":1},\"geo\":{\"bgcolor\":\"white\",\"landcolor\":\"#E5ECF6\",\"subunitcolor\":\"white\",\"showland\":true,\"showlakes\":true,\"lakecolor\":\"white\"},\"title\":{\"x\":0.05},\"mapbox\":{\"style\":\"light\"}}},\"xaxis\":{\"anchor\":\"y\",\"domain\":[0.0,1.0],\"title\":{\"text\":\"variable\"}},\"yaxis\":{\"anchor\":\"x\",\"domain\":[0.0,1.0],\"title\":{\"text\":\"value\"}},\"legend\":{\"title\":{\"text\":\"Higher_Than_Median\"},\"tracegroupgap\":0},\"title\":{\"text\":\"Average Deforestation Rate for land size bigger than median \\n                 <br>(Higher than median: 1.0; Lower than median: 0.0)\"},\"boxmode\":\"group\",\"autosize\":false,\"width\":800},                        {\"responsive\": true}                    ).then(function(){\n",
       "                            \n",
       "var gd = document.getElementById('00ad7f2b-7c5e-4d99-895f-67e421627955');\n",
       "var x = new MutationObserver(function (mutations, observer) {{\n",
       "        var display = window.getComputedStyle(gd).display;\n",
       "        if (!display || display === 'none') {{\n",
       "            console.log([gd, 'removed!']);\n",
       "            Plotly.purge(gd);\n",
       "            observer.disconnect();\n",
       "        }}\n",
       "}});\n",
       "\n",
       "// Listen for the removal of the full notebook cells\n",
       "var notebookContainer = gd.closest('#notebook-container');\n",
       "if (notebookContainer) {{\n",
       "    x.observe(notebookContainer, {childList: true});\n",
       "}}\n",
       "\n",
       "// Listen for the clearing of the current output cell\n",
       "var outputEl = gd.closest('.output');\n",
       "if (outputEl) {{\n",
       "    x.observe(outputEl, {childList: true});\n",
       "}}\n",
       "\n",
       "                        })                };                });            </script>        </div>"
      ]
     },
     "metadata": {},
     "output_type": "display_data"
    }
   ],
   "source": [
    "fig_box = px.box(last_df,                                           # Specify data frame\n",
    "                 y=[\"Average_Deforestation_Rate\"],                       # Select posrecip and negrecip variables\n",
    "                 points=\"all\",                                     # Include all observations as data points\n",
    "                 color = 'Higher_Than_Median',                                # Color (and group by) column \"Cluster\"\n",
    "                 labels = {\"Cluster\": \"Altruism\"},                 # Rename \"Cluster\" as \"Altruism\" in our legend\n",
    "                 title = \"\"\"Average Deforestation Rate for land size bigger than median \n",
    "                 <br>(Higher than median: 1.0; Lower than median: 0.0)\"\"\")       # Always add a title!\n",
    "fig_box.update_layout(autosize=False, width = 800)                # Specify width (by default, full notebook cell)\n",
    "fig_box"
   ]
  },
  {
   "cell_type": "code",
   "execution_count": 139,
   "metadata": {},
   "outputs": [
    {
     "data": {
      "text/html": [
       "<table class=\"simpletable\">\n",
       "<caption>OLS Regression Results</caption>\n",
       "<tr>\n",
       "  <th>Dep. Variable:</th>    <td>Average_Deforestation_Rate</td> <th>  R-squared:         </th> <td>   0.004</td>\n",
       "</tr>\n",
       "<tr>\n",
       "  <th>Model:</th>                        <td>OLS</td>            <th>  Adj. R-squared:    </th> <td>  -0.031</td>\n",
       "</tr>\n",
       "<tr>\n",
       "  <th>Method:</th>                  <td>Least Squares</td>       <th>  F-statistic:       </th> <td>  0.1145</td>\n",
       "</tr>\n",
       "<tr>\n",
       "  <th>Date:</th>                  <td>Tue, 15 Oct 2024</td>      <th>  Prob (F-statistic):</th>  <td> 0.738</td> \n",
       "</tr>\n",
       "<tr>\n",
       "  <th>Time:</th>                      <td>15:50:59</td>          <th>  Log-Likelihood:    </th> <td>  22.666</td>\n",
       "</tr>\n",
       "<tr>\n",
       "  <th>No. Observations:</th>           <td>    30</td>           <th>  AIC:               </th> <td>  -41.33</td>\n",
       "</tr>\n",
       "<tr>\n",
       "  <th>Df Residuals:</th>               <td>    28</td>           <th>  BIC:               </th> <td>  -38.53</td>\n",
       "</tr>\n",
       "<tr>\n",
       "  <th>Df Model:</th>                   <td>     1</td>           <th>                     </th>     <td> </td>   \n",
       "</tr>\n",
       "<tr>\n",
       "  <th>Covariance Type:</th>           <td>nonrobust</td>         <th>                     </th>     <td> </td>   \n",
       "</tr>\n",
       "</table>\n",
       "<table class=\"simpletable\">\n",
       "<tr>\n",
       "                    <td></td>                       <th>coef</th>     <th>std err</th>      <th>t</th>      <th>P>|t|</th>  <th>[0.025</th>    <th>0.975]</th>  \n",
       "</tr>\n",
       "<tr>\n",
       "  <th>const</th>                                 <td>    0.1112</td> <td>    0.025</td> <td>    4.502</td> <td> 0.000</td> <td>    0.061</td> <td>    0.162</td>\n",
       "</tr>\n",
       "<tr>\n",
       "  <th>Log_Average_Corn_Field_Expansion_Rate</th> <td>   -0.0055</td> <td>    0.016</td> <td>   -0.338</td> <td> 0.738</td> <td>   -0.039</td> <td>    0.028</td>\n",
       "</tr>\n",
       "</table>\n",
       "<table class=\"simpletable\">\n",
       "<tr>\n",
       "  <th>Omnibus:</th>       <td>10.419</td> <th>  Durbin-Watson:     </th> <td>   2.170</td>\n",
       "</tr>\n",
       "<tr>\n",
       "  <th>Prob(Omnibus):</th> <td> 0.005</td> <th>  Jarque-Bera (JB):  </th> <td>   9.390</td>\n",
       "</tr>\n",
       "<tr>\n",
       "  <th>Skew:</th>          <td> 1.318</td> <th>  Prob(JB):          </th> <td> 0.00914</td>\n",
       "</tr>\n",
       "<tr>\n",
       "  <th>Kurtosis:</th>      <td> 3.750</td> <th>  Cond. No.          </th> <td>    2.00</td>\n",
       "</tr>\n",
       "</table><br/><br/>Notes:<br/>[1] Standard Errors assume that the covariance matrix of the errors is correctly specified."
      ],
      "text/latex": [
       "\\begin{center}\n",
       "\\begin{tabular}{lclc}\n",
       "\\toprule\n",
       "\\textbf{Dep. Variable:}                             & Average\\_Deforestation\\_Rate & \\textbf{  R-squared:         } &     0.004   \\\\\n",
       "\\textbf{Model:}                                     &             OLS              & \\textbf{  Adj. R-squared:    } &    -0.031   \\\\\n",
       "\\textbf{Method:}                                    &        Least Squares         & \\textbf{  F-statistic:       } &    0.1145   \\\\\n",
       "\\textbf{Date:}                                      &       Tue, 15 Oct 2024       & \\textbf{  Prob (F-statistic):} &    0.738    \\\\\n",
       "\\textbf{Time:}                                      &           15:50:59           & \\textbf{  Log-Likelihood:    } &    22.666   \\\\\n",
       "\\textbf{No. Observations:}                          &                30            & \\textbf{  AIC:               } &    -41.33   \\\\\n",
       "\\textbf{Df Residuals:}                              &                28            & \\textbf{  BIC:               } &    -38.53   \\\\\n",
       "\\textbf{Df Model:}                                  &                 1            & \\textbf{                     } &             \\\\\n",
       "\\textbf{Covariance Type:}                           &          nonrobust           & \\textbf{                     } &             \\\\\n",
       "\\bottomrule\n",
       "\\end{tabular}\n",
       "\\begin{tabular}{lcccccc}\n",
       "                                                    & \\textbf{coef} & \\textbf{std err} & \\textbf{t} & \\textbf{P$> |$t$|$} & \\textbf{[0.025} & \\textbf{0.975]}  \\\\\n",
       "\\midrule\n",
       "\\textbf{const}                                      &       0.1112  &        0.025     &     4.502  &         0.000        &        0.061    &        0.162     \\\\\n",
       "\\textbf{Log\\_Average\\_Corn\\_Field\\_Expansion\\_Rate} &      -0.0055  &        0.016     &    -0.338  &         0.738        &       -0.039    &        0.028     \\\\\n",
       "\\bottomrule\n",
       "\\end{tabular}\n",
       "\\begin{tabular}{lclc}\n",
       "\\textbf{Omnibus:}       & 10.419 & \\textbf{  Durbin-Watson:     } &    2.170  \\\\\n",
       "\\textbf{Prob(Omnibus):} &  0.005 & \\textbf{  Jarque-Bera (JB):  } &    9.390  \\\\\n",
       "\\textbf{Skew:}          &  1.318 & \\textbf{  Prob(JB):          } &  0.00914  \\\\\n",
       "\\textbf{Kurtosis:}      &  3.750 & \\textbf{  Cond. No.          } &     2.00  \\\\\n",
       "\\bottomrule\n",
       "\\end{tabular}\n",
       "%\\caption{OLS Regression Results}\n",
       "\\end{center}\n",
       "\n",
       "Notes: \\newline\n",
       " [1] Standard Errors assume that the covariance matrix of the errors is correctly specified."
      ],
      "text/plain": [
       "<class 'statsmodels.iolib.summary.Summary'>\n",
       "\"\"\"\n",
       "                                OLS Regression Results                                \n",
       "======================================================================================\n",
       "Dep. Variable:     Average_Deforestation_Rate   R-squared:                       0.004\n",
       "Model:                                    OLS   Adj. R-squared:                 -0.031\n",
       "Method:                         Least Squares   F-statistic:                    0.1145\n",
       "Date:                        Tue, 15 Oct 2024   Prob (F-statistic):              0.738\n",
       "Time:                                15:50:59   Log-Likelihood:                 22.666\n",
       "No. Observations:                          30   AIC:                            -41.33\n",
       "Df Residuals:                              28   BIC:                            -38.53\n",
       "Df Model:                                   1                                         \n",
       "Covariance Type:                    nonrobust                                         \n",
       "=========================================================================================================\n",
       "                                            coef    std err          t      P>|t|      [0.025      0.975]\n",
       "---------------------------------------------------------------------------------------------------------\n",
       "const                                     0.1112      0.025      4.502      0.000       0.061       0.162\n",
       "Log_Average_Corn_Field_Expansion_Rate    -0.0055      0.016     -0.338      0.738      -0.039       0.028\n",
       "==============================================================================\n",
       "Omnibus:                       10.419   Durbin-Watson:                   2.170\n",
       "Prob(Omnibus):                  0.005   Jarque-Bera (JB):                9.390\n",
       "Skew:                           1.318   Prob(JB):                      0.00914\n",
       "Kurtosis:                       3.750   Cond. No.                         2.00\n",
       "==============================================================================\n",
       "\n",
       "Notes:\n",
       "[1] Standard Errors assume that the covariance matrix of the errors is correctly specified.\n",
       "\"\"\""
      ]
     },
     "execution_count": 139,
     "metadata": {},
     "output_type": "execute_result"
    }
   ],
   "source": [
    "import statsmodels.api as sm\n",
    "X = sm.add_constant(positive_df[[\"Log_Average_Corn_Field_Expansion_Rate\"]])\n",
    "\n",
    "# Dependent variable (Y)\n",
    "Y = positive_df[\"Average_Deforestation_Rate\"]\n",
    "\n",
    "# Fit the OLS regression model\n",
    "ols_model = sm.OLS(Y, X).fit()\n",
    "\n",
    "# Display the OLS regression results\n",
    "ols_results_extended = ols_model.summary()\n",
    "ols_results_extended"
   ]
  }
 ],
 "metadata": {
  "kernelspec": {
   "display_name": "Python 3 (ipykernel)",
   "language": "python",
   "name": "python3"
  },
  "language_info": {
   "codemirror_mode": {
    "name": "ipython",
    "version": 3
   },
   "file_extension": ".py",
   "mimetype": "text/x-python",
   "name": "python",
   "nbconvert_exporter": "python",
   "pygments_lexer": "ipython3",
   "version": "3.11.5"
  }
 },
 "nbformat": 4,
 "nbformat_minor": 2
}
