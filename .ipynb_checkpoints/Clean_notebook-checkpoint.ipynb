{
 "cells": [
  {
   "cell_type": "markdown",
   "id": "bf9a33c6",
   "metadata": {},
   "source": [
    "# What is the impact of agricultural corn field expansion rate on deforestation rate in countries?\n"
   ]
  },
  {
   "cell_type": "markdown",
   "id": "dbde686a",
   "metadata": {},
   "source": [
    "By Platypus"
   ]
  },
  {
   "cell_type": "markdown",
   "id": "7bdf9d38",
   "metadata": {},
   "source": [
    "## About Corn Production\n",
    "### History of Corn\n",
    "The most commonly accepted theory is that maize, also known as corn nowadays,  was originated in the Mesoamerican region, now called Mexico and Central America. A study by Matsuoka et al. (2002) has demonstrated that maize arose from a single domestication in Southern Mexico about 9000 years ago. The term ‘maize’ come from the word ‘mahiz’ of Taino language of the Caribbean islands, which became ‘maiz’, a word brought by Columbus from the Carribean to Spain. Domesticated corn would not exist if it was not for the humans who cultivated and developed it. The most published hypothesis about its wild progenitor : teosinte hypothesis. Teosinte provided a useful food source and ancient people cultivated it. It eventually muted into the solid ear type of maize that we know today. \n",
    "\n",
    "Source : [Hossain, Firoz & Muthusamy, Vignesh & Bhat, Jayant & Jha, Shailendra & Zunjare, Rajkumar & Das, Abhijit & Sarika, Konsam & Kumar, Rajesh. (2016).](https://www.researchgate.net/publication/308086213_Maize)\n",
    "\n",
    "### How it spread worldwide and its importance in global agriculture\n",
    "From Mexico maize spread north into the Southwestern United States and south down the coast to Peru. About 1000 years ago, as Indian people migrated north to the eastern woodlands of present day North America, they brought corn with them. After the discovery of the Americas, corn quickly disseminated into Europe, Asia, and Africa, and has become the leading global staple cereal in terms of annual production exceeding 1 billion metric tons. \n",
    "\n",
    "Source : [Olaf Erenstein & Moti Jaleta & Kai Sonder & Khondoker Mottaleb & B.M. Prasanna, 2022.\n",
    "\"Global maize production, consumption and trade: trends and R&D implications,\" Food Security: The Science, Sociology and Economics of Food Production and Access to Food, Springer;The International Society for Plant Pathology, vol. 14(5), pages 1295-1319, October.](https://link.springer.com/content/pdf/10.1007/s12571-022-01288-7.pdf)\n",
    "\n"
   ]
  },
  {
   "cell_type": "markdown",
   "id": "5a174328",
   "metadata": {},
   "source": [
    "## Getting the Data"
   ]
  },
  {
   "cell_type": "markdown",
   "id": "7643e095",
   "metadata": {},
   "source": [
    "### Installing packages"
   ]
  },
  {
   "cell_type": "code",
   "execution_count": 5,
   "id": "ff0f13c3",
   "metadata": {
    "scrolled": true
   },
   "outputs": [
    {
     "name": "stdout",
     "output_type": "stream",
     "text": [
      "Requirement already satisfied: wbdata in /Users/zeliadecaillet/anaconda3/lib/python3.11/site-packages (1.0.0)\n",
      "Requirement already satisfied: appdirs<2.0,>=1.4 in /Users/zeliadecaillet/anaconda3/lib/python3.11/site-packages (from wbdata) (1.4.4)\n",
      "Requirement already satisfied: backoff<3.0.0,>=2.2.1 in /Users/zeliadecaillet/anaconda3/lib/python3.11/site-packages (from wbdata) (2.2.1)\n",
      "Requirement already satisfied: cachetools<6.0.0,>=5.3.2 in /Users/zeliadecaillet/anaconda3/lib/python3.11/site-packages (from wbdata) (5.5.0)\n",
      "Requirement already satisfied: dateparser<2.0.0,>=1.2.0 in /Users/zeliadecaillet/anaconda3/lib/python3.11/site-packages (from wbdata) (1.2.0)\n",
      "Requirement already satisfied: decorator<6.0.0,>=5.1.1 in /Users/zeliadecaillet/anaconda3/lib/python3.11/site-packages (from wbdata) (5.1.1)\n",
      "Requirement already satisfied: requests<3.0,>=2.0 in /Users/zeliadecaillet/anaconda3/lib/python3.11/site-packages (from wbdata) (2.31.0)\n",
      "Requirement already satisfied: shelved-cache<0.4.0,>=0.3.1 in /Users/zeliadecaillet/anaconda3/lib/python3.11/site-packages (from wbdata) (0.3.1)\n",
      "Requirement already satisfied: tabulate<0.9.0,>=0.8.5 in /Users/zeliadecaillet/anaconda3/lib/python3.11/site-packages (from wbdata) (0.8.10)\n",
      "Requirement already satisfied: python-dateutil in /Users/zeliadecaillet/anaconda3/lib/python3.11/site-packages (from dateparser<2.0.0,>=1.2.0->wbdata) (2.8.2)\n",
      "Requirement already satisfied: pytz in /Users/zeliadecaillet/anaconda3/lib/python3.11/site-packages (from dateparser<2.0.0,>=1.2.0->wbdata) (2023.3.post1)\n",
      "Requirement already satisfied: regex!=2019.02.19,!=2021.8.27 in /Users/zeliadecaillet/anaconda3/lib/python3.11/site-packages (from dateparser<2.0.0,>=1.2.0->wbdata) (2022.7.9)\n",
      "Requirement already satisfied: tzlocal in /Users/zeliadecaillet/anaconda3/lib/python3.11/site-packages (from dateparser<2.0.0,>=1.2.0->wbdata) (5.2)\n",
      "Requirement already satisfied: charset-normalizer<4,>=2 in /Users/zeliadecaillet/anaconda3/lib/python3.11/site-packages (from requests<3.0,>=2.0->wbdata) (2.0.4)\n",
      "Requirement already satisfied: idna<4,>=2.5 in /Users/zeliadecaillet/anaconda3/lib/python3.11/site-packages (from requests<3.0,>=2.0->wbdata) (3.4)\n",
      "Requirement already satisfied: urllib3<3,>=1.21.1 in /Users/zeliadecaillet/anaconda3/lib/python3.11/site-packages (from requests<3.0,>=2.0->wbdata) (1.26.16)\n",
      "Requirement already satisfied: certifi>=2017.4.17 in /Users/zeliadecaillet/anaconda3/lib/python3.11/site-packages (from requests<3.0,>=2.0->wbdata) (2024.8.30)\n",
      "Requirement already satisfied: six>=1.5 in /Users/zeliadecaillet/anaconda3/lib/python3.11/site-packages (from python-dateutil->dateparser<2.0.0,>=1.2.0->wbdata) (1.16.0)\n",
      "Note: you may need to restart the kernel to use updated packages.\n"
     ]
    }
   ],
   "source": [
    "pip install wbdata"
   ]
  },
  {
   "cell_type": "code",
   "execution_count": 6,
   "id": "c63153d5",
   "metadata": {
    "scrolled": true
   },
   "outputs": [
    {
     "name": "stdout",
     "output_type": "stream",
     "text": [
      "Requirement already satisfied: pycountry in /Users/zeliadecaillet/anaconda3/lib/python3.11/site-packages (24.6.1)\n",
      "Note: you may need to restart the kernel to use updated packages.\n"
     ]
    }
   ],
   "source": [
    "pip install pycountry"
   ]
  },
  {
   "cell_type": "markdown",
   "id": "aeb82b64",
   "metadata": {},
   "source": [
    "### Import libraries"
   ]
  },
  {
   "cell_type": "code",
   "execution_count": 7,
   "id": "c3cc96f3",
   "metadata": {},
   "outputs": [],
   "source": [
    "import pandas as pd\n",
    "import re\n",
    "import matplotlib.pyplot as plt\n",
    "import seaborn as sns\n",
    "import wbdata\n",
    "import numpy as np\n",
    "import pycountry\n",
    "import plotly.express as px"
   ]
  },
  {
   "cell_type": "markdown",
   "id": "024ce8e5",
   "metadata": {},
   "source": [
    "### Deforestation Data"
   ]
  },
  {
   "cell_type": "code",
   "execution_count": 8,
   "id": "0dbda355",
   "metadata": {},
   "outputs": [
    {
     "data": {
      "text/html": [
       "<div>\n",
       "<style scoped>\n",
       "    .dataframe tbody tr th:only-of-type {\n",
       "        vertical-align: middle;\n",
       "    }\n",
       "\n",
       "    .dataframe tbody tr th {\n",
       "        vertical-align: top;\n",
       "    }\n",
       "\n",
       "    .dataframe thead th {\n",
       "        text-align: right;\n",
       "    }\n",
       "</style>\n",
       "<table border=\"1\" class=\"dataframe\">\n",
       "  <thead>\n",
       "    <tr style=\"text-align: right;\">\n",
       "      <th></th>\n",
       "      <th>Country Name</th>\n",
       "      <th>Country Code</th>\n",
       "      <th>Indicator Name</th>\n",
       "      <th>Indicator Code</th>\n",
       "      <th>1960</th>\n",
       "      <th>1961</th>\n",
       "      <th>1962</th>\n",
       "      <th>1963</th>\n",
       "      <th>1964</th>\n",
       "      <th>1965</th>\n",
       "      <th>...</th>\n",
       "      <th>2014</th>\n",
       "      <th>2015</th>\n",
       "      <th>2016</th>\n",
       "      <th>2017</th>\n",
       "      <th>2018</th>\n",
       "      <th>2019</th>\n",
       "      <th>2020</th>\n",
       "      <th>2021</th>\n",
       "      <th>2022</th>\n",
       "      <th>2023</th>\n",
       "    </tr>\n",
       "  </thead>\n",
       "  <tbody>\n",
       "    <tr>\n",
       "      <th>0</th>\n",
       "      <td>Aruba</td>\n",
       "      <td>ABW</td>\n",
       "      <td>Forest area (% of land area)</td>\n",
       "      <td>AG.LND.FRST.ZS</td>\n",
       "      <td>NaN</td>\n",
       "      <td>NaN</td>\n",
       "      <td>NaN</td>\n",
       "      <td>NaN</td>\n",
       "      <td>NaN</td>\n",
       "      <td>NaN</td>\n",
       "      <td>...</td>\n",
       "      <td>2.333333</td>\n",
       "      <td>2.333333</td>\n",
       "      <td>2.333333</td>\n",
       "      <td>2.333333</td>\n",
       "      <td>2.333333</td>\n",
       "      <td>2.333333</td>\n",
       "      <td>2.333333</td>\n",
       "      <td>2.333333</td>\n",
       "      <td>NaN</td>\n",
       "      <td>NaN</td>\n",
       "    </tr>\n",
       "    <tr>\n",
       "      <th>1</th>\n",
       "      <td>Africa Eastern and Southern</td>\n",
       "      <td>AFE</td>\n",
       "      <td>Forest area (% of land area)</td>\n",
       "      <td>AG.LND.FRST.ZS</td>\n",
       "      <td>NaN</td>\n",
       "      <td>NaN</td>\n",
       "      <td>NaN</td>\n",
       "      <td>NaN</td>\n",
       "      <td>NaN</td>\n",
       "      <td>NaN</td>\n",
       "      <td>...</td>\n",
       "      <td>31.470634</td>\n",
       "      <td>31.260420</td>\n",
       "      <td>31.039682</td>\n",
       "      <td>30.824316</td>\n",
       "      <td>30.611512</td>\n",
       "      <td>30.391626</td>\n",
       "      <td>30.174253</td>\n",
       "      <td>29.955194</td>\n",
       "      <td>NaN</td>\n",
       "      <td>NaN</td>\n",
       "    </tr>\n",
       "    <tr>\n",
       "      <th>2</th>\n",
       "      <td>Afghanistan</td>\n",
       "      <td>AFG</td>\n",
       "      <td>Forest area (% of land area)</td>\n",
       "      <td>AG.LND.FRST.ZS</td>\n",
       "      <td>NaN</td>\n",
       "      <td>NaN</td>\n",
       "      <td>NaN</td>\n",
       "      <td>NaN</td>\n",
       "      <td>NaN</td>\n",
       "      <td>NaN</td>\n",
       "      <td>...</td>\n",
       "      <td>1.852782</td>\n",
       "      <td>1.852782</td>\n",
       "      <td>1.852782</td>\n",
       "      <td>1.852782</td>\n",
       "      <td>1.852782</td>\n",
       "      <td>1.852782</td>\n",
       "      <td>1.852782</td>\n",
       "      <td>1.852782</td>\n",
       "      <td>NaN</td>\n",
       "      <td>NaN</td>\n",
       "    </tr>\n",
       "    <tr>\n",
       "      <th>3</th>\n",
       "      <td>Africa Western and Central</td>\n",
       "      <td>AFW</td>\n",
       "      <td>Forest area (% of land area)</td>\n",
       "      <td>AG.LND.FRST.ZS</td>\n",
       "      <td>NaN</td>\n",
       "      <td>NaN</td>\n",
       "      <td>NaN</td>\n",
       "      <td>NaN</td>\n",
       "      <td>NaN</td>\n",
       "      <td>NaN</td>\n",
       "      <td>...</td>\n",
       "      <td>20.322187</td>\n",
       "      <td>20.234231</td>\n",
       "      <td>20.152610</td>\n",
       "      <td>20.071327</td>\n",
       "      <td>19.986100</td>\n",
       "      <td>19.901215</td>\n",
       "      <td>19.816777</td>\n",
       "      <td>19.732037</td>\n",
       "      <td>NaN</td>\n",
       "      <td>NaN</td>\n",
       "    </tr>\n",
       "    <tr>\n",
       "      <th>4</th>\n",
       "      <td>Angola</td>\n",
       "      <td>AGO</td>\n",
       "      <td>Forest area (% of land area)</td>\n",
       "      <td>AG.LND.FRST.ZS</td>\n",
       "      <td>NaN</td>\n",
       "      <td>NaN</td>\n",
       "      <td>NaN</td>\n",
       "      <td>NaN</td>\n",
       "      <td>NaN</td>\n",
       "      <td>NaN</td>\n",
       "      <td>...</td>\n",
       "      <td>56.098301</td>\n",
       "      <td>55.653076</td>\n",
       "      <td>55.207845</td>\n",
       "      <td>54.762629</td>\n",
       "      <td>54.317406</td>\n",
       "      <td>53.872175</td>\n",
       "      <td>53.426951</td>\n",
       "      <td>52.981722</td>\n",
       "      <td>NaN</td>\n",
       "      <td>NaN</td>\n",
       "    </tr>\n",
       "  </tbody>\n",
       "</table>\n",
       "<p>5 rows × 68 columns</p>\n",
       "</div>"
      ],
      "text/plain": [
       "                  Country Name Country Code                Indicator Name  \\\n",
       "0                        Aruba          ABW  Forest area (% of land area)   \n",
       "1  Africa Eastern and Southern          AFE  Forest area (% of land area)   \n",
       "2                  Afghanistan          AFG  Forest area (% of land area)   \n",
       "3   Africa Western and Central          AFW  Forest area (% of land area)   \n",
       "4                       Angola          AGO  Forest area (% of land area)   \n",
       "\n",
       "   Indicator Code  1960  1961  1962  1963  1964  1965  ...       2014  \\\n",
       "0  AG.LND.FRST.ZS   NaN   NaN   NaN   NaN   NaN   NaN  ...   2.333333   \n",
       "1  AG.LND.FRST.ZS   NaN   NaN   NaN   NaN   NaN   NaN  ...  31.470634   \n",
       "2  AG.LND.FRST.ZS   NaN   NaN   NaN   NaN   NaN   NaN  ...   1.852782   \n",
       "3  AG.LND.FRST.ZS   NaN   NaN   NaN   NaN   NaN   NaN  ...  20.322187   \n",
       "4  AG.LND.FRST.ZS   NaN   NaN   NaN   NaN   NaN   NaN  ...  56.098301   \n",
       "\n",
       "        2015       2016       2017       2018       2019       2020  \\\n",
       "0   2.333333   2.333333   2.333333   2.333333   2.333333   2.333333   \n",
       "1  31.260420  31.039682  30.824316  30.611512  30.391626  30.174253   \n",
       "2   1.852782   1.852782   1.852782   1.852782   1.852782   1.852782   \n",
       "3  20.234231  20.152610  20.071327  19.986100  19.901215  19.816777   \n",
       "4  55.653076  55.207845  54.762629  54.317406  53.872175  53.426951   \n",
       "\n",
       "        2021  2022  2023  \n",
       "0   2.333333   NaN   NaN  \n",
       "1  29.955194   NaN   NaN  \n",
       "2   1.852782   NaN   NaN  \n",
       "3  19.732037   NaN   NaN  \n",
       "4  52.981722   NaN   NaN  \n",
       "\n",
       "[5 rows x 68 columns]"
      ]
     },
     "execution_count": 8,
     "metadata": {},
     "output_type": "execute_result"
    }
   ],
   "source": [
    "deforest_data = pd.read_excel(\"./Data/Deforest.xlsx\")\n",
    "deforest_data.head()"
   ]
  },
  {
   "cell_type": "code",
   "execution_count": 9,
   "id": "465b9e8f",
   "metadata": {},
   "outputs": [
    {
     "data": {
      "text/plain": [
       "array([0, 4])"
      ]
     },
     "execution_count": 9,
     "metadata": {},
     "output_type": "execute_result"
    }
   ],
   "source": [
    "# Check if there is a columns only filled with 0\n",
    "zero_counts = (deforest_data == 0).sum()\n",
    "zero_counts.unique() #nb of unique rows only filled with 0 "
   ]
  },
  {
   "cell_type": "code",
   "execution_count": 10,
   "id": "87c18b27",
   "metadata": {},
   "outputs": [
    {
     "name": "stdout",
     "output_type": "stream",
     "text": [
      "84     Gibraltar\n",
      "149       Monaco\n",
      "179        Nauru\n",
      "200        Qatar\n",
      "Name: Country Name, dtype: object\n"
     ]
    }
   ],
   "source": [
    "# Define the columns containing years\n",
    "year_columns = [col for col in deforest_data.columns if col.isdigit()]\n",
    "\n",
    "# Count the number of 0 values in each row across the year columns\n",
    "deforest_data['Zero_Count'] = (deforest_data[year_columns] == 0).sum(axis=1)\n",
    "\n",
    "# Filter rows where the count of 0 values is greater than a threshold (e.g., more than 1)\n",
    "countries_with_multiple_zeros = deforest_data[deforest_data['Zero_Count'] > 1]['Country Name']\n",
    "\n",
    "# Display the country names with multiple 0 values\n",
    "print(countries_with_multiple_zeros)\n"
   ]
  },
  {
   "cell_type": "code",
   "execution_count": 11,
   "id": "46e11c7c",
   "metadata": {},
   "outputs": [
    {
     "data": {
      "text/html": [
       "<div>\n",
       "<style scoped>\n",
       "    .dataframe tbody tr th:only-of-type {\n",
       "        vertical-align: middle;\n",
       "    }\n",
       "\n",
       "    .dataframe tbody tr th {\n",
       "        vertical-align: top;\n",
       "    }\n",
       "\n",
       "    .dataframe thead th {\n",
       "        text-align: right;\n",
       "    }\n",
       "</style>\n",
       "<table border=\"1\" class=\"dataframe\">\n",
       "  <thead>\n",
       "    <tr style=\"text-align: right;\">\n",
       "      <th></th>\n",
       "      <th>Country Name</th>\n",
       "      <th>Country Code</th>\n",
       "      <th>Indicator Name</th>\n",
       "      <th>Indicator Code</th>\n",
       "      <th>1960</th>\n",
       "      <th>1961</th>\n",
       "      <th>1962</th>\n",
       "      <th>1963</th>\n",
       "      <th>1964</th>\n",
       "      <th>1965</th>\n",
       "      <th>...</th>\n",
       "      <th>2014</th>\n",
       "      <th>2015</th>\n",
       "      <th>2016</th>\n",
       "      <th>2017</th>\n",
       "      <th>2018</th>\n",
       "      <th>2019</th>\n",
       "      <th>2020</th>\n",
       "      <th>2021</th>\n",
       "      <th>2022</th>\n",
       "      <th>2023</th>\n",
       "    </tr>\n",
       "  </thead>\n",
       "  <tbody>\n",
       "    <tr>\n",
       "      <th>0</th>\n",
       "      <td>Aruba</td>\n",
       "      <td>ABW</td>\n",
       "      <td>Forest area (% of land area)</td>\n",
       "      <td>AG.LND.FRST.ZS</td>\n",
       "      <td>NaN</td>\n",
       "      <td>NaN</td>\n",
       "      <td>NaN</td>\n",
       "      <td>NaN</td>\n",
       "      <td>NaN</td>\n",
       "      <td>NaN</td>\n",
       "      <td>...</td>\n",
       "      <td>2.333333</td>\n",
       "      <td>2.333333</td>\n",
       "      <td>2.333333</td>\n",
       "      <td>2.333333</td>\n",
       "      <td>2.333333</td>\n",
       "      <td>2.333333</td>\n",
       "      <td>2.333333</td>\n",
       "      <td>2.333333</td>\n",
       "      <td>NaN</td>\n",
       "      <td>NaN</td>\n",
       "    </tr>\n",
       "    <tr>\n",
       "      <th>1</th>\n",
       "      <td>Africa Eastern and Southern</td>\n",
       "      <td>AFE</td>\n",
       "      <td>Forest area (% of land area)</td>\n",
       "      <td>AG.LND.FRST.ZS</td>\n",
       "      <td>NaN</td>\n",
       "      <td>NaN</td>\n",
       "      <td>NaN</td>\n",
       "      <td>NaN</td>\n",
       "      <td>NaN</td>\n",
       "      <td>NaN</td>\n",
       "      <td>...</td>\n",
       "      <td>31.470634</td>\n",
       "      <td>31.260420</td>\n",
       "      <td>31.039682</td>\n",
       "      <td>30.824316</td>\n",
       "      <td>30.611512</td>\n",
       "      <td>30.391626</td>\n",
       "      <td>30.174253</td>\n",
       "      <td>29.955194</td>\n",
       "      <td>NaN</td>\n",
       "      <td>NaN</td>\n",
       "    </tr>\n",
       "    <tr>\n",
       "      <th>2</th>\n",
       "      <td>Afghanistan</td>\n",
       "      <td>AFG</td>\n",
       "      <td>Forest area (% of land area)</td>\n",
       "      <td>AG.LND.FRST.ZS</td>\n",
       "      <td>NaN</td>\n",
       "      <td>NaN</td>\n",
       "      <td>NaN</td>\n",
       "      <td>NaN</td>\n",
       "      <td>NaN</td>\n",
       "      <td>NaN</td>\n",
       "      <td>...</td>\n",
       "      <td>1.852782</td>\n",
       "      <td>1.852782</td>\n",
       "      <td>1.852782</td>\n",
       "      <td>1.852782</td>\n",
       "      <td>1.852782</td>\n",
       "      <td>1.852782</td>\n",
       "      <td>1.852782</td>\n",
       "      <td>1.852782</td>\n",
       "      <td>NaN</td>\n",
       "      <td>NaN</td>\n",
       "    </tr>\n",
       "    <tr>\n",
       "      <th>3</th>\n",
       "      <td>Africa Western and Central</td>\n",
       "      <td>AFW</td>\n",
       "      <td>Forest area (% of land area)</td>\n",
       "      <td>AG.LND.FRST.ZS</td>\n",
       "      <td>NaN</td>\n",
       "      <td>NaN</td>\n",
       "      <td>NaN</td>\n",
       "      <td>NaN</td>\n",
       "      <td>NaN</td>\n",
       "      <td>NaN</td>\n",
       "      <td>...</td>\n",
       "      <td>20.322187</td>\n",
       "      <td>20.234231</td>\n",
       "      <td>20.152610</td>\n",
       "      <td>20.071327</td>\n",
       "      <td>19.986100</td>\n",
       "      <td>19.901215</td>\n",
       "      <td>19.816777</td>\n",
       "      <td>19.732037</td>\n",
       "      <td>NaN</td>\n",
       "      <td>NaN</td>\n",
       "    </tr>\n",
       "    <tr>\n",
       "      <th>4</th>\n",
       "      <td>Angola</td>\n",
       "      <td>AGO</td>\n",
       "      <td>Forest area (% of land area)</td>\n",
       "      <td>AG.LND.FRST.ZS</td>\n",
       "      <td>NaN</td>\n",
       "      <td>NaN</td>\n",
       "      <td>NaN</td>\n",
       "      <td>NaN</td>\n",
       "      <td>NaN</td>\n",
       "      <td>NaN</td>\n",
       "      <td>...</td>\n",
       "      <td>56.098301</td>\n",
       "      <td>55.653076</td>\n",
       "      <td>55.207845</td>\n",
       "      <td>54.762629</td>\n",
       "      <td>54.317406</td>\n",
       "      <td>53.872175</td>\n",
       "      <td>53.426951</td>\n",
       "      <td>52.981722</td>\n",
       "      <td>NaN</td>\n",
       "      <td>NaN</td>\n",
       "    </tr>\n",
       "    <tr>\n",
       "      <th>...</th>\n",
       "      <td>...</td>\n",
       "      <td>...</td>\n",
       "      <td>...</td>\n",
       "      <td>...</td>\n",
       "      <td>...</td>\n",
       "      <td>...</td>\n",
       "      <td>...</td>\n",
       "      <td>...</td>\n",
       "      <td>...</td>\n",
       "      <td>...</td>\n",
       "      <td>...</td>\n",
       "      <td>...</td>\n",
       "      <td>...</td>\n",
       "      <td>...</td>\n",
       "      <td>...</td>\n",
       "      <td>...</td>\n",
       "      <td>...</td>\n",
       "      <td>...</td>\n",
       "      <td>...</td>\n",
       "      <td>...</td>\n",
       "      <td>...</td>\n",
       "    </tr>\n",
       "    <tr>\n",
       "      <th>261</th>\n",
       "      <td>Kosovo</td>\n",
       "      <td>XKX</td>\n",
       "      <td>Forest area (% of land area)</td>\n",
       "      <td>AG.LND.FRST.ZS</td>\n",
       "      <td>NaN</td>\n",
       "      <td>NaN</td>\n",
       "      <td>NaN</td>\n",
       "      <td>NaN</td>\n",
       "      <td>NaN</td>\n",
       "      <td>NaN</td>\n",
       "      <td>...</td>\n",
       "      <td>NaN</td>\n",
       "      <td>NaN</td>\n",
       "      <td>NaN</td>\n",
       "      <td>NaN</td>\n",
       "      <td>NaN</td>\n",
       "      <td>NaN</td>\n",
       "      <td>NaN</td>\n",
       "      <td>NaN</td>\n",
       "      <td>NaN</td>\n",
       "      <td>NaN</td>\n",
       "    </tr>\n",
       "    <tr>\n",
       "      <th>262</th>\n",
       "      <td>Yemen, Rep.</td>\n",
       "      <td>YEM</td>\n",
       "      <td>Forest area (% of land area)</td>\n",
       "      <td>AG.LND.FRST.ZS</td>\n",
       "      <td>NaN</td>\n",
       "      <td>NaN</td>\n",
       "      <td>NaN</td>\n",
       "      <td>NaN</td>\n",
       "      <td>NaN</td>\n",
       "      <td>NaN</td>\n",
       "      <td>...</td>\n",
       "      <td>1.039832</td>\n",
       "      <td>1.039832</td>\n",
       "      <td>1.039832</td>\n",
       "      <td>1.039832</td>\n",
       "      <td>1.039832</td>\n",
       "      <td>1.039832</td>\n",
       "      <td>1.039832</td>\n",
       "      <td>1.039832</td>\n",
       "      <td>NaN</td>\n",
       "      <td>NaN</td>\n",
       "    </tr>\n",
       "    <tr>\n",
       "      <th>263</th>\n",
       "      <td>South Africa</td>\n",
       "      <td>ZAF</td>\n",
       "      <td>Forest area (% of land area)</td>\n",
       "      <td>AG.LND.FRST.ZS</td>\n",
       "      <td>NaN</td>\n",
       "      <td>NaN</td>\n",
       "      <td>NaN</td>\n",
       "      <td>NaN</td>\n",
       "      <td>NaN</td>\n",
       "      <td>NaN</td>\n",
       "      <td>...</td>\n",
       "      <td>14.235127</td>\n",
       "      <td>14.205121</td>\n",
       "      <td>14.175115</td>\n",
       "      <td>14.145109</td>\n",
       "      <td>14.115103</td>\n",
       "      <td>14.085097</td>\n",
       "      <td>14.055091</td>\n",
       "      <td>14.025085</td>\n",
       "      <td>NaN</td>\n",
       "      <td>NaN</td>\n",
       "    </tr>\n",
       "    <tr>\n",
       "      <th>264</th>\n",
       "      <td>Zambia</td>\n",
       "      <td>ZMB</td>\n",
       "      <td>Forest area (% of land area)</td>\n",
       "      <td>AG.LND.FRST.ZS</td>\n",
       "      <td>NaN</td>\n",
       "      <td>NaN</td>\n",
       "      <td>NaN</td>\n",
       "      <td>NaN</td>\n",
       "      <td>NaN</td>\n",
       "      <td>NaN</td>\n",
       "      <td>...</td>\n",
       "      <td>61.802392</td>\n",
       "      <td>61.549254</td>\n",
       "      <td>61.295955</td>\n",
       "      <td>61.042885</td>\n",
       "      <td>60.789707</td>\n",
       "      <td>60.536515</td>\n",
       "      <td>60.283337</td>\n",
       "      <td>60.030150</td>\n",
       "      <td>NaN</td>\n",
       "      <td>NaN</td>\n",
       "    </tr>\n",
       "    <tr>\n",
       "      <th>265</th>\n",
       "      <td>Zimbabwe</td>\n",
       "      <td>ZWE</td>\n",
       "      <td>Forest area (% of land area)</td>\n",
       "      <td>AG.LND.FRST.ZS</td>\n",
       "      <td>NaN</td>\n",
       "      <td>NaN</td>\n",
       "      <td>NaN</td>\n",
       "      <td>NaN</td>\n",
       "      <td>NaN</td>\n",
       "      <td>NaN</td>\n",
       "      <td>...</td>\n",
       "      <td>45.808453</td>\n",
       "      <td>45.689363</td>\n",
       "      <td>45.570273</td>\n",
       "      <td>45.451183</td>\n",
       "      <td>45.332093</td>\n",
       "      <td>45.213002</td>\n",
       "      <td>45.093912</td>\n",
       "      <td>44.974822</td>\n",
       "      <td>NaN</td>\n",
       "      <td>NaN</td>\n",
       "    </tr>\n",
       "  </tbody>\n",
       "</table>\n",
       "<p>262 rows × 68 columns</p>\n",
       "</div>"
      ],
      "text/plain": [
       "                    Country Name Country Code                Indicator Name  \\\n",
       "0                          Aruba          ABW  Forest area (% of land area)   \n",
       "1    Africa Eastern and Southern          AFE  Forest area (% of land area)   \n",
       "2                    Afghanistan          AFG  Forest area (% of land area)   \n",
       "3     Africa Western and Central          AFW  Forest area (% of land area)   \n",
       "4                         Angola          AGO  Forest area (% of land area)   \n",
       "..                           ...          ...                           ...   \n",
       "261                       Kosovo          XKX  Forest area (% of land area)   \n",
       "262                  Yemen, Rep.          YEM  Forest area (% of land area)   \n",
       "263                 South Africa          ZAF  Forest area (% of land area)   \n",
       "264                       Zambia          ZMB  Forest area (% of land area)   \n",
       "265                     Zimbabwe          ZWE  Forest area (% of land area)   \n",
       "\n",
       "     Indicator Code  1960  1961  1962  1963  1964  1965  ...       2014  \\\n",
       "0    AG.LND.FRST.ZS   NaN   NaN   NaN   NaN   NaN   NaN  ...   2.333333   \n",
       "1    AG.LND.FRST.ZS   NaN   NaN   NaN   NaN   NaN   NaN  ...  31.470634   \n",
       "2    AG.LND.FRST.ZS   NaN   NaN   NaN   NaN   NaN   NaN  ...   1.852782   \n",
       "3    AG.LND.FRST.ZS   NaN   NaN   NaN   NaN   NaN   NaN  ...  20.322187   \n",
       "4    AG.LND.FRST.ZS   NaN   NaN   NaN   NaN   NaN   NaN  ...  56.098301   \n",
       "..              ...   ...   ...   ...   ...   ...   ...  ...        ...   \n",
       "261  AG.LND.FRST.ZS   NaN   NaN   NaN   NaN   NaN   NaN  ...        NaN   \n",
       "262  AG.LND.FRST.ZS   NaN   NaN   NaN   NaN   NaN   NaN  ...   1.039832   \n",
       "263  AG.LND.FRST.ZS   NaN   NaN   NaN   NaN   NaN   NaN  ...  14.235127   \n",
       "264  AG.LND.FRST.ZS   NaN   NaN   NaN   NaN   NaN   NaN  ...  61.802392   \n",
       "265  AG.LND.FRST.ZS   NaN   NaN   NaN   NaN   NaN   NaN  ...  45.808453   \n",
       "\n",
       "          2015       2016       2017       2018       2019       2020  \\\n",
       "0     2.333333   2.333333   2.333333   2.333333   2.333333   2.333333   \n",
       "1    31.260420  31.039682  30.824316  30.611512  30.391626  30.174253   \n",
       "2     1.852782   1.852782   1.852782   1.852782   1.852782   1.852782   \n",
       "3    20.234231  20.152610  20.071327  19.986100  19.901215  19.816777   \n",
       "4    55.653076  55.207845  54.762629  54.317406  53.872175  53.426951   \n",
       "..         ...        ...        ...        ...        ...        ...   \n",
       "261        NaN        NaN        NaN        NaN        NaN        NaN   \n",
       "262   1.039832   1.039832   1.039832   1.039832   1.039832   1.039832   \n",
       "263  14.205121  14.175115  14.145109  14.115103  14.085097  14.055091   \n",
       "264  61.549254  61.295955  61.042885  60.789707  60.536515  60.283337   \n",
       "265  45.689363  45.570273  45.451183  45.332093  45.213002  45.093912   \n",
       "\n",
       "          2021  2022  2023  \n",
       "0     2.333333   NaN   NaN  \n",
       "1    29.955194   NaN   NaN  \n",
       "2     1.852782   NaN   NaN  \n",
       "3    19.732037   NaN   NaN  \n",
       "4    52.981722   NaN   NaN  \n",
       "..         ...   ...   ...  \n",
       "261        NaN   NaN   NaN  \n",
       "262   1.039832   NaN   NaN  \n",
       "263  14.025085   NaN   NaN  \n",
       "264  60.030150   NaN   NaN  \n",
       "265  44.974822   NaN   NaN  \n",
       "\n",
       "[262 rows x 68 columns]"
      ]
     },
     "execution_count": 11,
     "metadata": {},
     "output_type": "execute_result"
    }
   ],
   "source": [
    "# Drop the rows where 'Country Name' is in the list of countries with multiple zeros\n",
    "deforest_data = deforest_data[~deforest_data['Country Name'].isin(countries_with_multiple_zeros)]\n",
    "\n",
    "# Drop the 'Zero_Count' column used for filtering\n",
    "deforest_data = deforest_data.drop(columns=['Zero_Count'])\n",
    "\n",
    "deforest_data"
   ]
  },
  {
   "cell_type": "code",
   "execution_count": 12,
   "id": "301b0189",
   "metadata": {},
   "outputs": [
    {
     "name": "stdout",
     "output_type": "stream",
     "text": [
      "Dataset topic: Forest area (% of land area)\n"
     ]
    }
   ],
   "source": [
    "#Dropping the column that are not necessary for the analysis\n",
    "data_topic = deforest_data[\"Indicator Name\"].unique()[0]\n",
    "deforest_data = deforest_data.drop([\"Indicator Name\",\"Indicator Code\"], axis = 1) #Dropping the column\n",
    "print(f\"Dataset topic: {data_topic}\")"
   ]
  },
  {
   "cell_type": "code",
   "execution_count": 13,
   "id": "3a1cfc58",
   "metadata": {},
   "outputs": [
    {
     "data": {
      "image/png": "[encoded data removed]",
      "text/plain": [
       "<Figure size 1000x600 with 1 Axes>"
      ]
     },
     "metadata": {},
     "output_type": "display_data"
    }
   ],
   "source": [
    "#Historigram to see the nb of missing values per columns\n",
    "# We will use regex to find all columns that represent years (assuming years are 4-digit numbers starting with '19' or '20').\n",
    "year_columns = [col for col in deforest_data.columns if re.match(r'^\\d{4}$', col)]\n",
    "\n",
    "#Potting the missing values\n",
    "plt.figure(figsize=(10, 6))  # You can adjust the (width, height) as needed\n",
    "missing_values = deforest_data[year_columns].isnull().sum()\n",
    "missing_values.plot(kind='bar', title='Number of Missing Values per Column', xlabel='Year', ylabel='Missing Values')\n",
    "\n",
    "# Show the plot\n",
    "plt.show()"
   ]
  },
  {
   "cell_type": "code",
   "execution_count": 14,
   "id": "a75557d0",
   "metadata": {},
   "outputs": [
    {
     "data": {
      "text/html": [
       "<div>\n",
       "<style scoped>\n",
       "    .dataframe tbody tr th:only-of-type {\n",
       "        vertical-align: middle;\n",
       "    }\n",
       "\n",
       "    .dataframe tbody tr th {\n",
       "        vertical-align: top;\n",
       "    }\n",
       "\n",
       "    .dataframe thead th {\n",
       "        text-align: right;\n",
       "    }\n",
       "</style>\n",
       "<table border=\"1\" class=\"dataframe\">\n",
       "  <thead>\n",
       "    <tr style=\"text-align: right;\">\n",
       "      <th></th>\n",
       "      <th>Country Name</th>\n",
       "      <th>Country Code</th>\n",
       "      <th>2000</th>\n",
       "      <th>2001</th>\n",
       "      <th>2002</th>\n",
       "      <th>2003</th>\n",
       "      <th>2004</th>\n",
       "      <th>2005</th>\n",
       "      <th>2006</th>\n",
       "      <th>2007</th>\n",
       "      <th>...</th>\n",
       "      <th>2012</th>\n",
       "      <th>2013</th>\n",
       "      <th>2014</th>\n",
       "      <th>2015</th>\n",
       "      <th>2016</th>\n",
       "      <th>2017</th>\n",
       "      <th>2018</th>\n",
       "      <th>2019</th>\n",
       "      <th>2020</th>\n",
       "      <th>2021</th>\n",
       "    </tr>\n",
       "  </thead>\n",
       "  <tbody>\n",
       "    <tr>\n",
       "      <th>0</th>\n",
       "      <td>Aruba</td>\n",
       "      <td>ABW</td>\n",
       "      <td>2.333333</td>\n",
       "      <td>2.333333</td>\n",
       "      <td>2.333333</td>\n",
       "      <td>2.333333</td>\n",
       "      <td>2.333333</td>\n",
       "      <td>2.333333</td>\n",
       "      <td>2.333333</td>\n",
       "      <td>2.333333</td>\n",
       "      <td>...</td>\n",
       "      <td>2.333333</td>\n",
       "      <td>2.333333</td>\n",
       "      <td>2.333333</td>\n",
       "      <td>2.333333</td>\n",
       "      <td>2.333333</td>\n",
       "      <td>2.333333</td>\n",
       "      <td>2.333333</td>\n",
       "      <td>2.333333</td>\n",
       "      <td>2.333333</td>\n",
       "      <td>2.333333</td>\n",
       "    </tr>\n",
       "    <tr>\n",
       "      <th>1</th>\n",
       "      <td>Africa Eastern and Southern</td>\n",
       "      <td>AFE</td>\n",
       "      <td>34.717473</td>\n",
       "      <td>34.537463</td>\n",
       "      <td>34.357452</td>\n",
       "      <td>34.177441</td>\n",
       "      <td>33.654274</td>\n",
       "      <td>33.475977</td>\n",
       "      <td>33.297802</td>\n",
       "      <td>33.119504</td>\n",
       "      <td>...</td>\n",
       "      <td>31.890654</td>\n",
       "      <td>31.680635</td>\n",
       "      <td>31.470634</td>\n",
       "      <td>31.260420</td>\n",
       "      <td>31.039682</td>\n",
       "      <td>30.824316</td>\n",
       "      <td>30.611512</td>\n",
       "      <td>30.391626</td>\n",
       "      <td>30.174253</td>\n",
       "      <td>29.955194</td>\n",
       "    </tr>\n",
       "    <tr>\n",
       "      <th>2</th>\n",
       "      <td>Afghanistan</td>\n",
       "      <td>AFG</td>\n",
       "      <td>1.852782</td>\n",
       "      <td>1.852782</td>\n",
       "      <td>1.852782</td>\n",
       "      <td>1.852782</td>\n",
       "      <td>1.852782</td>\n",
       "      <td>1.852782</td>\n",
       "      <td>1.852782</td>\n",
       "      <td>1.852782</td>\n",
       "      <td>...</td>\n",
       "      <td>1.852782</td>\n",
       "      <td>1.852782</td>\n",
       "      <td>1.852782</td>\n",
       "      <td>1.852782</td>\n",
       "      <td>1.852782</td>\n",
       "      <td>1.852782</td>\n",
       "      <td>1.852782</td>\n",
       "      <td>1.852782</td>\n",
       "      <td>1.852782</td>\n",
       "      <td>1.852782</td>\n",
       "    </tr>\n",
       "    <tr>\n",
       "      <th>3</th>\n",
       "      <td>Africa Western and Central</td>\n",
       "      <td>AFW</td>\n",
       "      <td>21.595284</td>\n",
       "      <td>21.503156</td>\n",
       "      <td>21.411029</td>\n",
       "      <td>21.318902</td>\n",
       "      <td>21.226775</td>\n",
       "      <td>21.134648</td>\n",
       "      <td>21.042520</td>\n",
       "      <td>20.950393</td>\n",
       "      <td>...</td>\n",
       "      <td>20.498099</td>\n",
       "      <td>20.410143</td>\n",
       "      <td>20.322187</td>\n",
       "      <td>20.234231</td>\n",
       "      <td>20.152610</td>\n",
       "      <td>20.071327</td>\n",
       "      <td>19.986100</td>\n",
       "      <td>19.901215</td>\n",
       "      <td>19.816777</td>\n",
       "      <td>19.732037</td>\n",
       "    </tr>\n",
       "    <tr>\n",
       "      <th>4</th>\n",
       "      <td>Angola</td>\n",
       "      <td>AGO</td>\n",
       "      <td>62.331443</td>\n",
       "      <td>61.886219</td>\n",
       "      <td>61.440995</td>\n",
       "      <td>60.995770</td>\n",
       "      <td>60.550546</td>\n",
       "      <td>60.105322</td>\n",
       "      <td>59.660098</td>\n",
       "      <td>59.214874</td>\n",
       "      <td>...</td>\n",
       "      <td>56.988751</td>\n",
       "      <td>56.543526</td>\n",
       "      <td>56.098301</td>\n",
       "      <td>55.653076</td>\n",
       "      <td>55.207845</td>\n",
       "      <td>54.762629</td>\n",
       "      <td>54.317406</td>\n",
       "      <td>53.872175</td>\n",
       "      <td>53.426951</td>\n",
       "      <td>52.981722</td>\n",
       "    </tr>\n",
       "  </tbody>\n",
       "</table>\n",
       "<p>5 rows × 24 columns</p>\n",
       "</div>"
      ],
      "text/plain": [
       "                  Country Name Country Code       2000       2001       2002  \\\n",
       "0                        Aruba          ABW   2.333333   2.333333   2.333333   \n",
       "1  Africa Eastern and Southern          AFE  34.717473  34.537463  34.357452   \n",
       "2                  Afghanistan          AFG   1.852782   1.852782   1.852782   \n",
       "3   Africa Western and Central          AFW  21.595284  21.503156  21.411029   \n",
       "4                       Angola          AGO  62.331443  61.886219  61.440995   \n",
       "\n",
       "        2003       2004       2005       2006       2007  ...       2012  \\\n",
       "0   2.333333   2.333333   2.333333   2.333333   2.333333  ...   2.333333   \n",
       "1  34.177441  33.654274  33.475977  33.297802  33.119504  ...  31.890654   \n",
       "2   1.852782   1.852782   1.852782   1.852782   1.852782  ...   1.852782   \n",
       "3  21.318902  21.226775  21.134648  21.042520  20.950393  ...  20.498099   \n",
       "4  60.995770  60.550546  60.105322  59.660098  59.214874  ...  56.988751   \n",
       "\n",
       "        2013       2014       2015       2016       2017       2018  \\\n",
       "0   2.333333   2.333333   2.333333   2.333333   2.333333   2.333333   \n",
       "1  31.680635  31.470634  31.260420  31.039682  30.824316  30.611512   \n",
       "2   1.852782   1.852782   1.852782   1.852782   1.852782   1.852782   \n",
       "3  20.410143  20.322187  20.234231  20.152610  20.071327  19.986100   \n",
       "4  56.543526  56.098301  55.653076  55.207845  54.762629  54.317406   \n",
       "\n",
       "        2019       2020       2021  \n",
       "0   2.333333   2.333333   2.333333  \n",
       "1  30.391626  30.174253  29.955194  \n",
       "2   1.852782   1.852782   1.852782  \n",
       "3  19.901215  19.816777  19.732037  \n",
       "4  53.872175  53.426951  52.981722  \n",
       "\n",
       "[5 rows x 24 columns]"
      ]
     },
     "execution_count": 14,
     "metadata": {},
     "output_type": "execute_result"
    }
   ],
   "source": [
    "all_missing_columns = deforest_data[year_columns].isnull().all()\n",
    "# Filter out the columns that are entirely missing\n",
    "columns_with_all_missing = all_missing_columns[all_missing_columns].index.tolist()\n",
    "# Result: We don't have data for the years: 1960-1989 & 2022,2023\n",
    "\n",
    "# Drop the columns that have all missing value \n",
    "deforest_data = deforest_data.drop(columns_with_all_missing ,axis = 1)\n",
    "\n",
    "#Converting the years to integers\n",
    "deforest_data.rename(columns={col: int(col) for col in year_columns}, inplace=True)\n",
    "\n",
    "#We want the data starting from 2000\n",
    "columns_from_2000 = [col for col in deforest_data.columns if isinstance(col, int) and col >= 2000]\n",
    "\n",
    "# Filter the DataFrame to include only the columns from the year 2000 onwards\n",
    "data_with_desired_years = deforest_data[columns_from_2000]\n",
    "\n",
    "#Joining the dataframes\n",
    "final_deforest_data = deforest_data[[\"Country Name\",\"Country Code\"]].join(data_with_desired_years)\n",
    "final_deforest_data.head()"
   ]
  },
  {
   "cell_type": "code",
   "execution_count": 15,
   "id": "2d81bc97",
   "metadata": {},
   "outputs": [
    {
     "data": {
      "text/html": [
       "<div>\n",
       "<style scoped>\n",
       "    .dataframe tbody tr th:only-of-type {\n",
       "        vertical-align: middle;\n",
       "    }\n",
       "\n",
       "    .dataframe tbody tr th {\n",
       "        vertical-align: top;\n",
       "    }\n",
       "\n",
       "    .dataframe thead th {\n",
       "        text-align: right;\n",
       "    }\n",
       "</style>\n",
       "<table border=\"1\" class=\"dataframe\">\n",
       "  <thead>\n",
       "    <tr style=\"text-align: right;\">\n",
       "      <th></th>\n",
       "      <th>Country Name</th>\n",
       "      <th>Country Code</th>\n",
       "      <th>Year</th>\n",
       "      <th>Values</th>\n",
       "    </tr>\n",
       "  </thead>\n",
       "  <tbody>\n",
       "    <tr>\n",
       "      <th>0</th>\n",
       "      <td>Aruba</td>\n",
       "      <td>ABW</td>\n",
       "      <td>2000</td>\n",
       "      <td>2.333333</td>\n",
       "    </tr>\n",
       "    <tr>\n",
       "      <th>1</th>\n",
       "      <td>Africa Eastern and Southern</td>\n",
       "      <td>AFE</td>\n",
       "      <td>2000</td>\n",
       "      <td>34.717473</td>\n",
       "    </tr>\n",
       "    <tr>\n",
       "      <th>2</th>\n",
       "      <td>Afghanistan</td>\n",
       "      <td>AFG</td>\n",
       "      <td>2000</td>\n",
       "      <td>1.852782</td>\n",
       "    </tr>\n",
       "    <tr>\n",
       "      <th>3</th>\n",
       "      <td>Africa Western and Central</td>\n",
       "      <td>AFW</td>\n",
       "      <td>2000</td>\n",
       "      <td>21.595284</td>\n",
       "    </tr>\n",
       "    <tr>\n",
       "      <th>4</th>\n",
       "      <td>Angola</td>\n",
       "      <td>AGO</td>\n",
       "      <td>2000</td>\n",
       "      <td>62.331443</td>\n",
       "    </tr>\n",
       "  </tbody>\n",
       "</table>\n",
       "</div>"
      ],
      "text/plain": [
       "                  Country Name Country Code  Year     Values\n",
       "0                        Aruba          ABW  2000   2.333333\n",
       "1  Africa Eastern and Southern          AFE  2000  34.717473\n",
       "2                  Afghanistan          AFG  2000   1.852782\n",
       "3   Africa Western and Central          AFW  2000  21.595284\n",
       "4                       Angola          AGO  2000  62.331443"
      ]
     },
     "execution_count": 15,
     "metadata": {},
     "output_type": "execute_result"
    }
   ],
   "source": [
    "#Preliminary cleaning\n",
    "final_deforest_data[\"Country Name\"] = final_deforest_data[\"Country Name\"] + \" \" + final_deforest_data[\"Country Code\"]\n",
    "final_deforest_data.reset_index(drop = True, inplace = True)\n",
    "\n",
    "#Dropping some of the columns for clearer structure\n",
    "df_cleaned = final_deforest_data.drop(columns='Country Code')\n",
    "\n",
    "# Reshape the data using the melt function to create a long format\n",
    "df_long = df_cleaned.melt(id_vars=['Country Name'], var_name='Year', value_name='Values')\n",
    "\n",
    "# Convert 'Year' column to numeric if necessary (remove '.0' from the years)\n",
    "df_long['Year'] = pd.to_numeric(df_long['Year'], errors='coerce')\n",
    "\n",
    "#Adding the country code\n",
    "df_long[\"Country Code\"] = df_long[\"Country Name\"].apply(lambda val:val.split(\" \")[-1])\n",
    "df_long[\"Country Name\"] = df_long[\"Country Name\"].apply(lambda val: \" \".join(val.split(\" \")[:-1]))\n",
    "\n",
    "#Ordering the columns\n",
    "df_long = df_long[[\"Country Name\",\"Country Code\",\"Year\",\"Values\"]]\n",
    "\n",
    "df_long.head()"
   ]
  },
  {
   "cell_type": "code",
   "execution_count": 16,
   "id": "f90f6ffa",
   "metadata": {},
   "outputs": [
    {
     "data": {
      "image/png": "[encoded data removed]",
      "text/plain": [
       "<Figure size 640x480 with 1 Axes>"
      ]
     },
     "metadata": {},
     "output_type": "display_data"
    }
   ],
   "source": [
    "# Count the number of NaN values for each country\n",
    "nan_count_per_country = df_long.groupby('Country Name').apply(lambda x: x.isna().sum())[\"Values\"]\n",
    "\n",
    "# Plot a bar plot of the 'nan_count_per_country' DataFrame\n",
    "nan_count_per_country[nan_count_per_country > 0].plot(kind = 'bar', xlabel='Country', ylabel='Missing Values')\n",
    "\n",
    "#These countries can be dropped\n",
    "countries_dropped = nan_count_per_country[nan_count_per_country > 0].index\n"
   ]
  },
  {
   "cell_type": "code",
   "execution_count": 17,
   "id": "1b96ecd6",
   "metadata": {},
   "outputs": [
    {
     "data": {
      "text/html": [
       "<div>\n",
       "<style scoped>\n",
       "    .dataframe tbody tr th:only-of-type {\n",
       "        vertical-align: middle;\n",
       "    }\n",
       "\n",
       "    .dataframe tbody tr th {\n",
       "        vertical-align: top;\n",
       "    }\n",
       "\n",
       "    .dataframe thead th {\n",
       "        text-align: right;\n",
       "    }\n",
       "</style>\n",
       "<table border=\"1\" class=\"dataframe\">\n",
       "  <thead>\n",
       "    <tr style=\"text-align: right;\">\n",
       "      <th></th>\n",
       "      <th>Country Name</th>\n",
       "      <th>Country Code</th>\n",
       "      <th>Year</th>\n",
       "      <th>Values</th>\n",
       "    </tr>\n",
       "  </thead>\n",
       "  <tbody>\n",
       "    <tr>\n",
       "      <th>0</th>\n",
       "      <td>Aruba</td>\n",
       "      <td>ABW</td>\n",
       "      <td>2000</td>\n",
       "      <td>2.333333</td>\n",
       "    </tr>\n",
       "    <tr>\n",
       "      <th>1</th>\n",
       "      <td>Africa Eastern and Southern</td>\n",
       "      <td>AFE</td>\n",
       "      <td>2000</td>\n",
       "      <td>34.717473</td>\n",
       "    </tr>\n",
       "    <tr>\n",
       "      <th>2</th>\n",
       "      <td>Afghanistan</td>\n",
       "      <td>AFG</td>\n",
       "      <td>2000</td>\n",
       "      <td>1.852782</td>\n",
       "    </tr>\n",
       "    <tr>\n",
       "      <th>3</th>\n",
       "      <td>Africa Western and Central</td>\n",
       "      <td>AFW</td>\n",
       "      <td>2000</td>\n",
       "      <td>21.595284</td>\n",
       "    </tr>\n",
       "    <tr>\n",
       "      <th>4</th>\n",
       "      <td>Angola</td>\n",
       "      <td>AGO</td>\n",
       "      <td>2000</td>\n",
       "      <td>62.331443</td>\n",
       "    </tr>\n",
       "  </tbody>\n",
       "</table>\n",
       "</div>"
      ],
      "text/plain": [
       "                  Country Name Country Code  Year     Values\n",
       "0                        Aruba          ABW  2000   2.333333\n",
       "1  Africa Eastern and Southern          AFE  2000  34.717473\n",
       "2                  Afghanistan          AFG  2000   1.852782\n",
       "3   Africa Western and Central          AFW  2000  21.595284\n",
       "4                       Angola          AGO  2000  62.331443"
      ]
     },
     "execution_count": 17,
     "metadata": {},
     "output_type": "execute_result"
    }
   ],
   "source": [
    "country_lst = nan_count_per_country[nan_count_per_country > 0].index.to_list()\n",
    "\n",
    "#Dropping all the data related to countries above\n",
    "df_cleaned = df_long[~df_long['Country Name'].isin(country_lst)]\n",
    "df_cleaned.head()"
   ]
  },
  {
   "cell_type": "code",
   "execution_count": 18,
   "id": "7ec7a16b",
   "metadata": {},
   "outputs": [
    {
     "name": "stdout",
     "output_type": "stream",
     "text": [
      "Data point per country: 22\n"
     ]
    }
   ],
   "source": [
    "#Data availability per country\n",
    "data_avl = df_cleaned.groupby(\"Country Name\").count()[\"Values\"].unique()[0] #Data point per country\n",
    "print(f\"Data point per country: {data_avl}\")"
   ]
  },
  {
   "cell_type": "code",
   "execution_count": 19,
   "id": "c25318de",
   "metadata": {},
   "outputs": [
    {
     "data": {
      "image/png": "[encoded data removed]",
      "text/plain": [
       "<Figure size 1000x600 with 1 Axes>"
      ]
     },
     "metadata": {},
     "output_type": "display_data"
    }
   ],
   "source": [
    "plt.figure(figsize=(10, 6))\n",
    "sns.histplot(df_cleaned[\"Values\"], bins=30, kde=True, color='green')\n",
    "plt.title('Histogram of Observations for All Countries')\n",
    "plt.xlabel('Observation')\n",
    "plt.ylabel('Frequency')\n",
    "plt.grid(False)\n",
    "plt.show()"
   ]
  },
  {
   "cell_type": "code",
   "execution_count": 20,
   "id": "83a45194",
   "metadata": {},
   "outputs": [
    {
     "data": {
      "text/plain": [
       "0.5836839696069517"
      ]
     },
     "execution_count": 20,
     "metadata": {},
     "output_type": "execute_result"
    }
   ],
   "source": [
    "df_cleaned[\"Values\"].skew()"
   ]
  },
  {
   "cell_type": "code",
   "execution_count": 21,
   "id": "71e6fbf1",
   "metadata": {},
   "outputs": [],
   "source": [
    "# Function to get ISO-3 country code from country name\n",
    "def get_iso3(country_name):\n",
    "    try:\n",
    "        return pycountry.countries.lookup(country_name).alpha_3\n",
    "    except LookupError:\n",
    "        return None"
   ]
  },
  {
   "cell_type": "code",
   "execution_count": 22,
   "id": "193333fa",
   "metadata": {},
   "outputs": [
    {
     "name": "stderr",
     "output_type": "stream",
     "text": [
      "/var/folders/z1/yry6nb4j25bg_5n5f28yn9zw0000gn/T/ipykernel_12926/3388532243.py:1: SettingWithCopyWarning: \n",
      "A value is trying to be set on a copy of a slice from a DataFrame.\n",
      "Try using .loc[row_indexer,col_indexer] = value instead\n",
      "\n",
      "See the caveats in the documentation: https://pandas.pydata.org/pandas-docs/stable/user_guide/indexing.html#returning-a-view-versus-a-copy\n",
      "  df_cleaned['iso3'] = df_cleaned['Country Name'].apply(get_iso3)\n"
     ]
    },
    {
     "data": {
      "text/html": [
       "<div>\n",
       "<style scoped>\n",
       "    .dataframe tbody tr th:only-of-type {\n",
       "        vertical-align: middle;\n",
       "    }\n",
       "\n",
       "    .dataframe tbody tr th {\n",
       "        vertical-align: top;\n",
       "    }\n",
       "\n",
       "    .dataframe thead th {\n",
       "        text-align: right;\n",
       "    }\n",
       "</style>\n",
       "<table border=\"1\" class=\"dataframe\">\n",
       "  <thead>\n",
       "    <tr style=\"text-align: right;\">\n",
       "      <th></th>\n",
       "      <th>Country Name</th>\n",
       "      <th>Country Code</th>\n",
       "      <th>Year</th>\n",
       "      <th>Values</th>\n",
       "      <th>iso3</th>\n",
       "    </tr>\n",
       "  </thead>\n",
       "  <tbody>\n",
       "    <tr>\n",
       "      <th>0</th>\n",
       "      <td>Aruba</td>\n",
       "      <td>ABW</td>\n",
       "      <td>2000</td>\n",
       "      <td>2.333333</td>\n",
       "      <td>ABW</td>\n",
       "    </tr>\n",
       "    <tr>\n",
       "      <th>1</th>\n",
       "      <td>Africa Eastern and Southern</td>\n",
       "      <td>AFE</td>\n",
       "      <td>2000</td>\n",
       "      <td>34.717473</td>\n",
       "      <td>None</td>\n",
       "    </tr>\n",
       "    <tr>\n",
       "      <th>2</th>\n",
       "      <td>Afghanistan</td>\n",
       "      <td>AFG</td>\n",
       "      <td>2000</td>\n",
       "      <td>1.852782</td>\n",
       "      <td>AFG</td>\n",
       "    </tr>\n",
       "    <tr>\n",
       "      <th>3</th>\n",
       "      <td>Africa Western and Central</td>\n",
       "      <td>AFW</td>\n",
       "      <td>2000</td>\n",
       "      <td>21.595284</td>\n",
       "      <td>None</td>\n",
       "    </tr>\n",
       "    <tr>\n",
       "      <th>4</th>\n",
       "      <td>Angola</td>\n",
       "      <td>AGO</td>\n",
       "      <td>2000</td>\n",
       "      <td>62.331443</td>\n",
       "      <td>AGO</td>\n",
       "    </tr>\n",
       "    <tr>\n",
       "      <th>...</th>\n",
       "      <td>...</td>\n",
       "      <td>...</td>\n",
       "      <td>...</td>\n",
       "      <td>...</td>\n",
       "      <td>...</td>\n",
       "    </tr>\n",
       "    <tr>\n",
       "      <th>5758</th>\n",
       "      <td>Samoa</td>\n",
       "      <td>WSM</td>\n",
       "      <td>2021</td>\n",
       "      <td>57.982014</td>\n",
       "      <td>WSM</td>\n",
       "    </tr>\n",
       "    <tr>\n",
       "      <th>5760</th>\n",
       "      <td>Yemen, Rep.</td>\n",
       "      <td>YEM</td>\n",
       "      <td>2021</td>\n",
       "      <td>1.039832</td>\n",
       "      <td>None</td>\n",
       "    </tr>\n",
       "    <tr>\n",
       "      <th>5761</th>\n",
       "      <td>South Africa</td>\n",
       "      <td>ZAF</td>\n",
       "      <td>2021</td>\n",
       "      <td>14.025085</td>\n",
       "      <td>ZAF</td>\n",
       "    </tr>\n",
       "    <tr>\n",
       "      <th>5762</th>\n",
       "      <td>Zambia</td>\n",
       "      <td>ZMB</td>\n",
       "      <td>2021</td>\n",
       "      <td>60.030150</td>\n",
       "      <td>ZMB</td>\n",
       "    </tr>\n",
       "    <tr>\n",
       "      <th>5763</th>\n",
       "      <td>Zimbabwe</td>\n",
       "      <td>ZWE</td>\n",
       "      <td>2021</td>\n",
       "      <td>44.974822</td>\n",
       "      <td>ZWE</td>\n",
       "    </tr>\n",
       "  </tbody>\n",
       "</table>\n",
       "<p>5544 rows × 5 columns</p>\n",
       "</div>"
      ],
      "text/plain": [
       "                     Country Name Country Code  Year     Values  iso3\n",
       "0                           Aruba          ABW  2000   2.333333   ABW\n",
       "1     Africa Eastern and Southern          AFE  2000  34.717473  None\n",
       "2                     Afghanistan          AFG  2000   1.852782   AFG\n",
       "3      Africa Western and Central          AFW  2000  21.595284  None\n",
       "4                          Angola          AGO  2000  62.331443   AGO\n",
       "...                           ...          ...   ...        ...   ...\n",
       "5758                        Samoa          WSM  2021  57.982014   WSM\n",
       "5760                  Yemen, Rep.          YEM  2021   1.039832  None\n",
       "5761                 South Africa          ZAF  2021  14.025085   ZAF\n",
       "5762                       Zambia          ZMB  2021  60.030150   ZMB\n",
       "5763                     Zimbabwe          ZWE  2021  44.974822   ZWE\n",
       "\n",
       "[5544 rows x 5 columns]"
      ]
     },
     "execution_count": 22,
     "metadata": {},
     "output_type": "execute_result"
    }
   ],
   "source": [
    "df_cleaned['iso3'] = df_cleaned['Country Name'].apply(get_iso3)\n",
    "df_cleaned"
   ]
  },
  {
   "cell_type": "code",
   "execution_count": 23,
   "id": "a5857a19",
   "metadata": {},
   "outputs": [
    {
     "data": {
      "text/html": [
       "<div>\n",
       "<style scoped>\n",
       "    .dataframe tbody tr th:only-of-type {\n",
       "        vertical-align: middle;\n",
       "    }\n",
       "\n",
       "    .dataframe tbody tr th {\n",
       "        vertical-align: top;\n",
       "    }\n",
       "\n",
       "    .dataframe thead th {\n",
       "        text-align: right;\n",
       "    }\n",
       "</style>\n",
       "<table border=\"1\" class=\"dataframe\">\n",
       "  <thead>\n",
       "    <tr style=\"text-align: right;\">\n",
       "      <th></th>\n",
       "      <th>Country Name</th>\n",
       "      <th>Country Code</th>\n",
       "      <th>Year</th>\n",
       "      <th>Values</th>\n",
       "      <th>iso3</th>\n",
       "    </tr>\n",
       "  </thead>\n",
       "  <tbody>\n",
       "    <tr>\n",
       "      <th>1</th>\n",
       "      <td>Africa Eastern and Southern</td>\n",
       "      <td>AFE</td>\n",
       "      <td>2000</td>\n",
       "      <td>34.717473</td>\n",
       "      <td>None</td>\n",
       "    </tr>\n",
       "    <tr>\n",
       "      <th>3</th>\n",
       "      <td>Africa Western and Central</td>\n",
       "      <td>AFW</td>\n",
       "      <td>2000</td>\n",
       "      <td>21.595284</td>\n",
       "      <td>None</td>\n",
       "    </tr>\n",
       "    <tr>\n",
       "      <th>7</th>\n",
       "      <td>Arab World</td>\n",
       "      <td>ARB</td>\n",
       "      <td>2000</td>\n",
       "      <td>3.551072</td>\n",
       "      <td>None</td>\n",
       "    </tr>\n",
       "    <tr>\n",
       "      <th>23</th>\n",
       "      <td>Bahamas, The</td>\n",
       "      <td>BHS</td>\n",
       "      <td>2000</td>\n",
       "      <td>50.935065</td>\n",
       "      <td>None</td>\n",
       "    </tr>\n",
       "    <tr>\n",
       "      <th>36</th>\n",
       "      <td>Central Europe and the Baltics</td>\n",
       "      <td>CEB</td>\n",
       "      <td>2000</td>\n",
       "      <td>32.469472</td>\n",
       "      <td>None</td>\n",
       "    </tr>\n",
       "    <tr>\n",
       "      <th>...</th>\n",
       "      <td>...</td>\n",
       "      <td>...</td>\n",
       "      <td>...</td>\n",
       "      <td>...</td>\n",
       "      <td>...</td>\n",
       "    </tr>\n",
       "    <tr>\n",
       "      <th>5751</th>\n",
       "      <td>St. Vincent and the Grenadines</td>\n",
       "      <td>VCT</td>\n",
       "      <td>2021</td>\n",
       "      <td>73.179487</td>\n",
       "      <td>None</td>\n",
       "    </tr>\n",
       "    <tr>\n",
       "      <th>5752</th>\n",
       "      <td>Venezuela, RB</td>\n",
       "      <td>VEN</td>\n",
       "      <td>2021</td>\n",
       "      <td>52.347781</td>\n",
       "      <td>None</td>\n",
       "    </tr>\n",
       "    <tr>\n",
       "      <th>5754</th>\n",
       "      <td>Virgin Islands (U.S.)</td>\n",
       "      <td>VIR</td>\n",
       "      <td>2021</td>\n",
       "      <td>57.314286</td>\n",
       "      <td>None</td>\n",
       "    </tr>\n",
       "    <tr>\n",
       "      <th>5757</th>\n",
       "      <td>World</td>\n",
       "      <td>WLD</td>\n",
       "      <td>2021</td>\n",
       "      <td>31.177049</td>\n",
       "      <td>None</td>\n",
       "    </tr>\n",
       "    <tr>\n",
       "      <th>5760</th>\n",
       "      <td>Yemen, Rep.</td>\n",
       "      <td>YEM</td>\n",
       "      <td>2021</td>\n",
       "      <td>1.039832</td>\n",
       "      <td>None</td>\n",
       "    </tr>\n",
       "  </tbody>\n",
       "</table>\n",
       "<p>1496 rows × 5 columns</p>\n",
       "</div>"
      ],
      "text/plain": [
       "                        Country Name Country Code  Year     Values  iso3\n",
       "1        Africa Eastern and Southern          AFE  2000  34.717473  None\n",
       "3         Africa Western and Central          AFW  2000  21.595284  None\n",
       "7                         Arab World          ARB  2000   3.551072  None\n",
       "23                      Bahamas, The          BHS  2000  50.935065  None\n",
       "36    Central Europe and the Baltics          CEB  2000  32.469472  None\n",
       "...                              ...          ...   ...        ...   ...\n",
       "5751  St. Vincent and the Grenadines          VCT  2021  73.179487  None\n",
       "5752                   Venezuela, RB          VEN  2021  52.347781  None\n",
       "5754           Virgin Islands (U.S.)          VIR  2021  57.314286  None\n",
       "5757                           World          WLD  2021  31.177049  None\n",
       "5760                     Yemen, Rep.          YEM  2021   1.039832  None\n",
       "\n",
       "[1496 rows x 5 columns]"
      ]
     },
     "execution_count": 23,
     "metadata": {},
     "output_type": "execute_result"
    }
   ],
   "source": [
    "df_cleaned[df_cleaned['iso3'].isnull()]"
   ]
  },
  {
   "cell_type": "code",
   "execution_count": 24,
   "id": "7f7c38e2",
   "metadata": {},
   "outputs": [
    {
     "name": "stderr",
     "output_type": "stream",
     "text": [
      "/var/folders/z1/yry6nb4j25bg_5n5f28yn9zw0000gn/T/ipykernel_12926/692176500.py:29: SettingWithCopyWarning: \n",
      "A value is trying to be set on a copy of a slice from a DataFrame.\n",
      "Try using .loc[row_indexer,col_indexer] = value instead\n",
      "\n",
      "See the caveats in the documentation: https://pandas.pydata.org/pandas-docs/stable/user_guide/indexing.html#returning-a-view-versus-a-copy\n",
      "  df_cleaned['Country Name'] = df_cleaned['Country Name'].replace(country_mapping)\n"
     ]
    }
   ],
   "source": [
    "# Reverting to previous data before dropping and then manually resolving country mismatches\n",
    "country_mapping = {\n",
    "    'United Republic of Tanzania': 'Tanzania',\n",
    "    'United States of America': 'United States',\n",
    "    'Venezuela, RB': 'Venezuela',\n",
    "    'Bahamas, The': 'Bahamas',\n",
    "    'Congo, Dem. Rep.':'Congo, The Democratic Republic of the',\n",
    "    'Congo, Rep.': 'Congo',\n",
    "    'Turkiye': 'Türkiye',\n",
    "    \"Cote d'Ivoire\":\"Côte d'Ivoire\",\n",
    "    'St. Lucia':'Saint Lucia',\n",
    "    \"Korea, Dem. People's Rep.\" : \"Korea, Democratic People's Republic of\",\n",
    "    'Korea, Rep.': 'Korea, Republic of',\n",
    "    'Lao PDR':\"Lao People's Democratic Republic\",\n",
    "    'Gambia, The': 'Gambia',\n",
    "    'Egypt, Arab Rep.': 'Egypt',\n",
    "    'Iran, Islamic Rep.': 'Iran, Islamic Republic of',\n",
    "    'St. Kitts and Nevis': 'Saint Kitts and Nevis',\n",
    "    'St. Vincent and the Grenadines':'Saint Vincent and the Grenadines',\n",
    "    'Micronesia, Fed. Sts.': 'Micronesia, Federated States of',\n",
    "    'Virgin Islands (U.S.)':'Virgin Islands, U.S.',\n",
    "    'Yemen, Rep.':'Yemen',\n",
    "    'Macao SAR, China': 'Macao',\n",
    "    'St. Martin (French part)':'Saint Martin (French part)',\n",
    "    'Curacao':'Curaçao',\n",
    "    'Hong Kong SAR, China': 'Hong Kong'\n",
    "    # You can add more mappings if necessary\n",
    "}\n",
    "df_cleaned['Country Name'] = df_cleaned['Country Name'].replace(country_mapping)"
   ]
  },
  {
   "cell_type": "code",
   "execution_count": 25,
   "id": "6e12b818",
   "metadata": {},
   "outputs": [
    {
     "data": {
      "text/plain": [
       "'Hong Kong'"
      ]
     },
     "execution_count": 25,
     "metadata": {},
     "output_type": "execute_result"
    }
   ],
   "source": [
    "# Lookup the country by ISO3 code\n",
    "country = pycountry.countries.get(alpha_3='HKG')\n",
    "\n",
    "# Display the country name\n",
    "country.name"
   ]
  },
  {
   "cell_type": "code",
   "execution_count": 26,
   "id": "168fd8de",
   "metadata": {},
   "outputs": [],
   "source": [
    "country_not_country = [\n",
    "    'Africa Eastern and Southern', \n",
    "    'Africa Western and Central',\n",
    "    'Central Europe and the Baltics',\n",
    "    'Upper middle income',\n",
    "    'East Asia & Pacific (IDA & IBRD countries)',\n",
    "    'East Asia & Pacific',\n",
    "    'East Asia & Pacific (excluding high income)',\n",
    "    'Euro area',\n",
    "    'Europe & Central Asia',\n",
    "    'Europe & Central Asia (IDA & IBRD countries)',\n",
    "    'Europe & Central Asia (excluding high income)',\n",
    "    'European Union',\n",
    "    'Fragile and conflict affected situations',\n",
    "    'Heavily indebted poor countries (HIPC)',\n",
    "    'Early-demographic dividend',\n",
    "    'High income',\n",
    "    'IBRD only',\n",
    "    'IDA & IBRD total',\n",
    "    'IDA blend',\n",
    "    'IDA only',\n",
    "    'IDA total',\n",
    "    'Late-demographic dividend',\n",
    "    'Latin America & Caribbean',\n",
    "    'Latin America & Caribbean (excluding high income)',\n",
    "    'Least developed countries: UN classification',\n",
    "    'Low & middle income',\n",
    "    'Lower middle income',\n",
    "    'Middle East & North Africa',\n",
    "    'Middle East & North Africa (IDA & IBRD countries)',\n",
    "    'Middle income',\n",
    "    'Low income',\n",
    "    'North America',\n",
    "    'OECD members',\n",
    "    'Other small states',\n",
    "    'Pacific island small states',\n",
    "    'Post-demographic dividend',\n",
    "    'Small states',\n",
    "    'South Asia',\n",
    "    'Sub-Saharan Africa (IDA & IBRD countries)',\n",
    "    'Sub-Saharan Africa (excluding high income)',\n",
    "    'Pre-demographic dividend',\n",
    "    'South Asia (IDA & IBRD)',\n",
    "    'Sub-Saharan Africa',\n",
    "    'West Bank and Gaza',\n",
    "    'Caribbean small states',\n",
    "    'Channel Islands',\n",
    "    'Arab World',\n",
    "    'Middle East & North Africa (excluding high income)',\n",
    "    'Latin America & the Caribbean (IDA & IBRD countries)',\n",
    "    'Eastern and Southern Africa',\n",
    "    'Western and Central Africa',\n",
    "    'Not classified',\n",
    "    'World'\n",
    "]\n",
    "\n",
    "df_cleaned = df_cleaned[~df_cleaned['Country Name'].isin(country_not_country)]"
   ]
  },
  {
   "cell_type": "code",
   "execution_count": 27,
   "id": "9edbf718",
   "metadata": {},
   "outputs": [
    {
     "name": "stderr",
     "output_type": "stream",
     "text": [
      "/var/folders/z1/yry6nb4j25bg_5n5f28yn9zw0000gn/T/ipykernel_12926/1747897946.py:1: SettingWithCopyWarning: \n",
      "A value is trying to be set on a copy of a slice from a DataFrame.\n",
      "Try using .loc[row_indexer,col_indexer] = value instead\n",
      "\n",
      "See the caveats in the documentation: https://pandas.pydata.org/pandas-docs/stable/user_guide/indexing.html#returning-a-view-versus-a-copy\n",
      "  df_cleaned['iso3'] = df_cleaned['Country Name'].apply(get_iso3)\n"
     ]
    }
   ],
   "source": [
    "df_cleaned['iso3'] = df_cleaned['Country Name'].apply(get_iso3)"
   ]
  },
  {
   "cell_type": "code",
   "execution_count": 28,
   "id": "a3de648e",
   "metadata": {},
   "outputs": [
    {
     "data": {
      "text/html": [
       "<div>\n",
       "<style scoped>\n",
       "    .dataframe tbody tr th:only-of-type {\n",
       "        vertical-align: middle;\n",
       "    }\n",
       "\n",
       "    .dataframe tbody tr th {\n",
       "        vertical-align: top;\n",
       "    }\n",
       "\n",
       "    .dataframe thead th {\n",
       "        text-align: right;\n",
       "    }\n",
       "</style>\n",
       "<table border=\"1\" class=\"dataframe\">\n",
       "  <thead>\n",
       "    <tr style=\"text-align: right;\">\n",
       "      <th></th>\n",
       "      <th>Country Name</th>\n",
       "      <th>Country Code</th>\n",
       "      <th>Year</th>\n",
       "      <th>Values</th>\n",
       "      <th>iso3</th>\n",
       "    </tr>\n",
       "  </thead>\n",
       "  <tbody>\n",
       "  </tbody>\n",
       "</table>\n",
       "</div>"
      ],
      "text/plain": [
       "Empty DataFrame\n",
       "Columns: [Country Name, Country Code, Year, Values, iso3]\n",
       "Index: []"
      ]
     },
     "execution_count": 28,
     "metadata": {},
     "output_type": "execute_result"
    }
   ],
   "source": [
    "#Check that we have no country mismatch anymore\n",
    "df_cleaned[df_cleaned['iso3'].isnull()]"
   ]
  },
  {
   "cell_type": "code",
   "execution_count": 29,
   "id": "a82b240b",
   "metadata": {},
   "outputs": [
    {
     "data": {
      "text/html": [
       "<div>\n",
       "<style scoped>\n",
       "    .dataframe tbody tr th:only-of-type {\n",
       "        vertical-align: middle;\n",
       "    }\n",
       "\n",
       "    .dataframe tbody tr th {\n",
       "        vertical-align: top;\n",
       "    }\n",
       "\n",
       "    .dataframe thead th {\n",
       "        text-align: right;\n",
       "    }\n",
       "</style>\n",
       "<table border=\"1\" class=\"dataframe\">\n",
       "  <thead>\n",
       "    <tr style=\"text-align: right;\">\n",
       "      <th></th>\n",
       "      <th>index</th>\n",
       "      <th>Country Name</th>\n",
       "      <th>Country Code</th>\n",
       "      <th>Year</th>\n",
       "      <th>Values</th>\n",
       "      <th>iso3</th>\n",
       "    </tr>\n",
       "  </thead>\n",
       "  <tbody>\n",
       "    <tr>\n",
       "      <th>0</th>\n",
       "      <td>0</td>\n",
       "      <td>Aruba</td>\n",
       "      <td>ABW</td>\n",
       "      <td>2000</td>\n",
       "      <td>2.333333</td>\n",
       "      <td>ABW</td>\n",
       "    </tr>\n",
       "    <tr>\n",
       "      <th>1</th>\n",
       "      <td>2</td>\n",
       "      <td>Afghanistan</td>\n",
       "      <td>AFG</td>\n",
       "      <td>2000</td>\n",
       "      <td>1.852782</td>\n",
       "      <td>AFG</td>\n",
       "    </tr>\n",
       "    <tr>\n",
       "      <th>2</th>\n",
       "      <td>4</td>\n",
       "      <td>Angola</td>\n",
       "      <td>AGO</td>\n",
       "      <td>2000</td>\n",
       "      <td>62.331443</td>\n",
       "      <td>AGO</td>\n",
       "    </tr>\n",
       "    <tr>\n",
       "      <th>3</th>\n",
       "      <td>5</td>\n",
       "      <td>Albania</td>\n",
       "      <td>ALB</td>\n",
       "      <td>2000</td>\n",
       "      <td>28.076642</td>\n",
       "      <td>ALB</td>\n",
       "    </tr>\n",
       "    <tr>\n",
       "      <th>4</th>\n",
       "      <td>6</td>\n",
       "      <td>Andorra</td>\n",
       "      <td>AND</td>\n",
       "      <td>2000</td>\n",
       "      <td>34.042553</td>\n",
       "      <td>AND</td>\n",
       "    </tr>\n",
       "  </tbody>\n",
       "</table>\n",
       "</div>"
      ],
      "text/plain": [
       "   index Country Name Country Code  Year     Values iso3\n",
       "0      0        Aruba          ABW  2000   2.333333  ABW\n",
       "1      2  Afghanistan          AFG  2000   1.852782  AFG\n",
       "2      4       Angola          AGO  2000  62.331443  AGO\n",
       "3      5      Albania          ALB  2000  28.076642  ALB\n",
       "4      6      Andorra          AND  2000  34.042553  AND"
      ]
     },
     "execution_count": 29,
     "metadata": {},
     "output_type": "execute_result"
    }
   ],
   "source": [
    "df_cleaned = df_cleaned.dropna()\n",
    "df_cleaned = df_cleaned.reset_index()\n",
    "df_def = df_cleaned\n",
    "df_def.head()"
   ]
  },
  {
   "cell_type": "code",
   "execution_count": 30,
   "id": "d0c1e8ca",
   "metadata": {},
   "outputs": [],
   "source": [
    "df_def.drop('index', axis=1, inplace=True)"
   ]
  },
  {
   "cell_type": "code",
   "execution_count": 31,
   "id": "37e47861",
   "metadata": {},
   "outputs": [
    {
     "data": {
      "text/html": [
       "<div>\n",
       "<style scoped>\n",
       "    .dataframe tbody tr th:only-of-type {\n",
       "        vertical-align: middle;\n",
       "    }\n",
       "\n",
       "    .dataframe tbody tr th {\n",
       "        vertical-align: top;\n",
       "    }\n",
       "\n",
       "    .dataframe thead th {\n",
       "        text-align: right;\n",
       "    }\n",
       "</style>\n",
       "<table border=\"1\" class=\"dataframe\">\n",
       "  <thead>\n",
       "    <tr style=\"text-align: right;\">\n",
       "      <th></th>\n",
       "      <th>country</th>\n",
       "      <th>Country Code</th>\n",
       "      <th>Year</th>\n",
       "      <th>% of Forest Area</th>\n",
       "      <th>iso3</th>\n",
       "    </tr>\n",
       "  </thead>\n",
       "  <tbody>\n",
       "    <tr>\n",
       "      <th>0</th>\n",
       "      <td>Aruba</td>\n",
       "      <td>ABW</td>\n",
       "      <td>2000</td>\n",
       "      <td>2.333333</td>\n",
       "      <td>ABW</td>\n",
       "    </tr>\n",
       "    <tr>\n",
       "      <th>1</th>\n",
       "      <td>Afghanistan</td>\n",
       "      <td>AFG</td>\n",
       "      <td>2000</td>\n",
       "      <td>1.852782</td>\n",
       "      <td>AFG</td>\n",
       "    </tr>\n",
       "    <tr>\n",
       "      <th>2</th>\n",
       "      <td>Angola</td>\n",
       "      <td>AGO</td>\n",
       "      <td>2000</td>\n",
       "      <td>62.331443</td>\n",
       "      <td>AGO</td>\n",
       "    </tr>\n",
       "    <tr>\n",
       "      <th>3</th>\n",
       "      <td>Albania</td>\n",
       "      <td>ALB</td>\n",
       "      <td>2000</td>\n",
       "      <td>28.076642</td>\n",
       "      <td>ALB</td>\n",
       "    </tr>\n",
       "    <tr>\n",
       "      <th>4</th>\n",
       "      <td>Andorra</td>\n",
       "      <td>AND</td>\n",
       "      <td>2000</td>\n",
       "      <td>34.042553</td>\n",
       "      <td>AND</td>\n",
       "    </tr>\n",
       "  </tbody>\n",
       "</table>\n",
       "</div>"
      ],
      "text/plain": [
       "       country Country Code  Year  % of Forest Area iso3\n",
       "0        Aruba          ABW  2000          2.333333  ABW\n",
       "1  Afghanistan          AFG  2000          1.852782  AFG\n",
       "2       Angola          AGO  2000         62.331443  AGO\n",
       "3      Albania          ALB  2000         28.076642  ALB\n",
       "4      Andorra          AND  2000         34.042553  AND"
      ]
     },
     "execution_count": 31,
     "metadata": {},
     "output_type": "execute_result"
    }
   ],
   "source": [
    "df_def.rename(columns={'Values':'% of Forest Area', 'Country Name': 'country'}, inplace=True)\n",
    "df_def.head()"
   ]
  },
  {
   "cell_type": "code",
   "execution_count": 32,
   "id": "f236edec",
   "metadata": {},
   "outputs": [
    {
     "data": {
      "image/png": "[encoded data removed]",
      "text/plain": [
       "<Figure size 1000x600 with 1 Axes>"
      ]
     },
     "metadata": {},
     "output_type": "display_data"
    }
   ],
   "source": [
    "plt.figure(figsize=(10,6))\n",
    "sns.histplot(df_def['% of Forest Area'], bins=20, kde=True, edgecolor='black')\n",
    "\n",
    "# Add labels and title\n",
    "plt.xlabel('Values')\n",
    "plt.ylabel('Frequency')\n",
    "plt.title('Empirical Distribution of Forestation rate for countries')\n",
    "\n",
    "# Show the plot\n",
    "plt.show()"
   ]
  },
  {
   "cell_type": "code",
   "execution_count": 33,
   "id": "2ce8d837",
   "metadata": {},
   "outputs": [
    {
     "data": {
      "text/plain": [
       "0.5032493738541235"
      ]
     },
     "execution_count": 33,
     "metadata": {},
     "output_type": "execute_result"
    }
   ],
   "source": [
    "df_def['% of Forest Area'].skew()"
   ]
  },
  {
   "cell_type": "code",
   "execution_count": 34,
   "id": "85424463",
   "metadata": {},
   "outputs": [
    {
     "name": "stdout",
     "output_type": "stream",
     "text": [
      "2000 2021\n"
     ]
    }
   ],
   "source": [
    "print(df_def['Year'].min(),df_def['Year'].max())"
   ]
  },
  {
   "cell_type": "markdown",
   "id": "f52c5abc",
   "metadata": {},
   "source": [
    "### Cornfield Data"
   ]
  },
  {
   "cell_type": "code",
   "execution_count": 35,
   "id": "685f1d11",
   "metadata": {},
   "outputs": [
    {
     "ename": "FileNotFoundError",
     "evalue": "[Errno 2] No such file or directory: 'FAOSTAT_data_en_10-2-2024.csv'",
     "output_type": "error",
     "traceback": [
      "\u001b[0;31m---------------------------------------------------------------------------\u001b[0m",
      "\u001b[0;31mFileNotFoundError\u001b[0m                         Traceback (most recent call last)",
      "Cell \u001b[0;32mIn[35], line 1\u001b[0m\n\u001b[0;32m----> 1\u001b[0m corn_field_data \u001b[38;5;241m=\u001b[39m pd\u001b[38;5;241m.\u001b[39mread_csv(\u001b[38;5;124m'\u001b[39m\u001b[38;5;124mFAOSTAT_data_en_10-2-2024.csv\u001b[39m\u001b[38;5;124m'\u001b[39m)\n\u001b[1;32m      2\u001b[0m corn_field_data\u001b[38;5;241m.\u001b[39mhead()\n",
      "File \u001b[0;32m~/anaconda3/lib/python3.11/site-packages/pandas/io/parsers/readers.py:912\u001b[0m, in \u001b[0;36mread_csv\u001b[0;34m(filepath_or_buffer, sep, delimiter, header, names, index_col, usecols, dtype, engine, converters, true_values, false_values, skipinitialspace, skiprows, skipfooter, nrows, na_values, keep_default_na, na_filter, verbose, skip_blank_lines, parse_dates, infer_datetime_format, keep_date_col, date_parser, date_format, dayfirst, cache_dates, iterator, chunksize, compression, thousands, decimal, lineterminator, quotechar, quoting, doublequote, escapechar, comment, encoding, encoding_errors, dialect, on_bad_lines, delim_whitespace, low_memory, memory_map, float_precision, storage_options, dtype_backend)\u001b[0m\n\u001b[1;32m    899\u001b[0m kwds_defaults \u001b[38;5;241m=\u001b[39m _refine_defaults_read(\n\u001b[1;32m    900\u001b[0m     dialect,\n\u001b[1;32m    901\u001b[0m     delimiter,\n\u001b[0;32m   (...)\u001b[0m\n\u001b[1;32m    908\u001b[0m     dtype_backend\u001b[38;5;241m=\u001b[39mdtype_backend,\n\u001b[1;32m    909\u001b[0m )\n\u001b[1;32m    910\u001b[0m kwds\u001b[38;5;241m.\u001b[39mupdate(kwds_defaults)\n\u001b[0;32m--> 912\u001b[0m \u001b[38;5;28;01mreturn\u001b[39;00m _read(filepath_or_buffer, kwds)\n",
      "File \u001b[0;32m~/anaconda3/lib/python3.11/site-packages/pandas/io/parsers/readers.py:577\u001b[0m, in \u001b[0;36m_read\u001b[0;34m(filepath_or_buffer, kwds)\u001b[0m\n\u001b[1;32m    574\u001b[0m _validate_names(kwds\u001b[38;5;241m.\u001b[39mget(\u001b[38;5;124m\"\u001b[39m\u001b[38;5;124mnames\u001b[39m\u001b[38;5;124m\"\u001b[39m, \u001b[38;5;28;01mNone\u001b[39;00m))\n\u001b[1;32m    576\u001b[0m \u001b[38;5;66;03m# Create the parser.\u001b[39;00m\n\u001b[0;32m--> 577\u001b[0m parser \u001b[38;5;241m=\u001b[39m TextFileReader(filepath_or_buffer, \u001b[38;5;241m*\u001b[39m\u001b[38;5;241m*\u001b[39mkwds)\n\u001b[1;32m    579\u001b[0m \u001b[38;5;28;01mif\u001b[39;00m chunksize \u001b[38;5;129;01mor\u001b[39;00m iterator:\n\u001b[1;32m    580\u001b[0m     \u001b[38;5;28;01mreturn\u001b[39;00m parser\n",
      "File \u001b[0;32m~/anaconda3/lib/python3.11/site-packages/pandas/io/parsers/readers.py:1407\u001b[0m, in \u001b[0;36mTextFileReader.__init__\u001b[0;34m(self, f, engine, **kwds)\u001b[0m\n\u001b[1;32m   1404\u001b[0m     \u001b[38;5;28mself\u001b[39m\u001b[38;5;241m.\u001b[39moptions[\u001b[38;5;124m\"\u001b[39m\u001b[38;5;124mhas_index_names\u001b[39m\u001b[38;5;124m\"\u001b[39m] \u001b[38;5;241m=\u001b[39m kwds[\u001b[38;5;124m\"\u001b[39m\u001b[38;5;124mhas_index_names\u001b[39m\u001b[38;5;124m\"\u001b[39m]\n\u001b[1;32m   1406\u001b[0m \u001b[38;5;28mself\u001b[39m\u001b[38;5;241m.\u001b[39mhandles: IOHandles \u001b[38;5;241m|\u001b[39m \u001b[38;5;28;01mNone\u001b[39;00m \u001b[38;5;241m=\u001b[39m \u001b[38;5;28;01mNone\u001b[39;00m\n\u001b[0;32m-> 1407\u001b[0m \u001b[38;5;28mself\u001b[39m\u001b[38;5;241m.\u001b[39m_engine \u001b[38;5;241m=\u001b[39m \u001b[38;5;28mself\u001b[39m\u001b[38;5;241m.\u001b[39m_make_engine(f, \u001b[38;5;28mself\u001b[39m\u001b[38;5;241m.\u001b[39mengine)\n",
      "File \u001b[0;32m~/anaconda3/lib/python3.11/site-packages/pandas/io/parsers/readers.py:1661\u001b[0m, in \u001b[0;36mTextFileReader._make_engine\u001b[0;34m(self, f, engine)\u001b[0m\n\u001b[1;32m   1659\u001b[0m     \u001b[38;5;28;01mif\u001b[39;00m \u001b[38;5;124m\"\u001b[39m\u001b[38;5;124mb\u001b[39m\u001b[38;5;124m\"\u001b[39m \u001b[38;5;129;01mnot\u001b[39;00m \u001b[38;5;129;01min\u001b[39;00m mode:\n\u001b[1;32m   1660\u001b[0m         mode \u001b[38;5;241m+\u001b[39m\u001b[38;5;241m=\u001b[39m \u001b[38;5;124m\"\u001b[39m\u001b[38;5;124mb\u001b[39m\u001b[38;5;124m\"\u001b[39m\n\u001b[0;32m-> 1661\u001b[0m \u001b[38;5;28mself\u001b[39m\u001b[38;5;241m.\u001b[39mhandles \u001b[38;5;241m=\u001b[39m get_handle(\n\u001b[1;32m   1662\u001b[0m     f,\n\u001b[1;32m   1663\u001b[0m     mode,\n\u001b[1;32m   1664\u001b[0m     encoding\u001b[38;5;241m=\u001b[39m\u001b[38;5;28mself\u001b[39m\u001b[38;5;241m.\u001b[39moptions\u001b[38;5;241m.\u001b[39mget(\u001b[38;5;124m\"\u001b[39m\u001b[38;5;124mencoding\u001b[39m\u001b[38;5;124m\"\u001b[39m, \u001b[38;5;28;01mNone\u001b[39;00m),\n\u001b[1;32m   1665\u001b[0m     compression\u001b[38;5;241m=\u001b[39m\u001b[38;5;28mself\u001b[39m\u001b[38;5;241m.\u001b[39moptions\u001b[38;5;241m.\u001b[39mget(\u001b[38;5;124m\"\u001b[39m\u001b[38;5;124mcompression\u001b[39m\u001b[38;5;124m\"\u001b[39m, \u001b[38;5;28;01mNone\u001b[39;00m),\n\u001b[1;32m   1666\u001b[0m     memory_map\u001b[38;5;241m=\u001b[39m\u001b[38;5;28mself\u001b[39m\u001b[38;5;241m.\u001b[39moptions\u001b[38;5;241m.\u001b[39mget(\u001b[38;5;124m\"\u001b[39m\u001b[38;5;124mmemory_map\u001b[39m\u001b[38;5;124m\"\u001b[39m, \u001b[38;5;28;01mFalse\u001b[39;00m),\n\u001b[1;32m   1667\u001b[0m     is_text\u001b[38;5;241m=\u001b[39mis_text,\n\u001b[1;32m   1668\u001b[0m     errors\u001b[38;5;241m=\u001b[39m\u001b[38;5;28mself\u001b[39m\u001b[38;5;241m.\u001b[39moptions\u001b[38;5;241m.\u001b[39mget(\u001b[38;5;124m\"\u001b[39m\u001b[38;5;124mencoding_errors\u001b[39m\u001b[38;5;124m\"\u001b[39m, \u001b[38;5;124m\"\u001b[39m\u001b[38;5;124mstrict\u001b[39m\u001b[38;5;124m\"\u001b[39m),\n\u001b[1;32m   1669\u001b[0m     storage_options\u001b[38;5;241m=\u001b[39m\u001b[38;5;28mself\u001b[39m\u001b[38;5;241m.\u001b[39moptions\u001b[38;5;241m.\u001b[39mget(\u001b[38;5;124m\"\u001b[39m\u001b[38;5;124mstorage_options\u001b[39m\u001b[38;5;124m\"\u001b[39m, \u001b[38;5;28;01mNone\u001b[39;00m),\n\u001b[1;32m   1670\u001b[0m )\n\u001b[1;32m   1671\u001b[0m \u001b[38;5;28;01massert\u001b[39;00m \u001b[38;5;28mself\u001b[39m\u001b[38;5;241m.\u001b[39mhandles \u001b[38;5;129;01mis\u001b[39;00m \u001b[38;5;129;01mnot\u001b[39;00m \u001b[38;5;28;01mNone\u001b[39;00m\n\u001b[1;32m   1672\u001b[0m f \u001b[38;5;241m=\u001b[39m \u001b[38;5;28mself\u001b[39m\u001b[38;5;241m.\u001b[39mhandles\u001b[38;5;241m.\u001b[39mhandle\n",
      "File \u001b[0;32m~/anaconda3/lib/python3.11/site-packages/pandas/io/common.py:859\u001b[0m, in \u001b[0;36mget_handle\u001b[0;34m(path_or_buf, mode, encoding, compression, memory_map, is_text, errors, storage_options)\u001b[0m\n\u001b[1;32m    854\u001b[0m \u001b[38;5;28;01melif\u001b[39;00m \u001b[38;5;28misinstance\u001b[39m(handle, \u001b[38;5;28mstr\u001b[39m):\n\u001b[1;32m    855\u001b[0m     \u001b[38;5;66;03m# Check whether the filename is to be opened in binary mode.\u001b[39;00m\n\u001b[1;32m    856\u001b[0m     \u001b[38;5;66;03m# Binary mode does not support 'encoding' and 'newline'.\u001b[39;00m\n\u001b[1;32m    857\u001b[0m     \u001b[38;5;28;01mif\u001b[39;00m ioargs\u001b[38;5;241m.\u001b[39mencoding \u001b[38;5;129;01mand\u001b[39;00m \u001b[38;5;124m\"\u001b[39m\u001b[38;5;124mb\u001b[39m\u001b[38;5;124m\"\u001b[39m \u001b[38;5;129;01mnot\u001b[39;00m \u001b[38;5;129;01min\u001b[39;00m ioargs\u001b[38;5;241m.\u001b[39mmode:\n\u001b[1;32m    858\u001b[0m         \u001b[38;5;66;03m# Encoding\u001b[39;00m\n\u001b[0;32m--> 859\u001b[0m         handle \u001b[38;5;241m=\u001b[39m \u001b[38;5;28mopen\u001b[39m(\n\u001b[1;32m    860\u001b[0m             handle,\n\u001b[1;32m    861\u001b[0m             ioargs\u001b[38;5;241m.\u001b[39mmode,\n\u001b[1;32m    862\u001b[0m             encoding\u001b[38;5;241m=\u001b[39mioargs\u001b[38;5;241m.\u001b[39mencoding,\n\u001b[1;32m    863\u001b[0m             errors\u001b[38;5;241m=\u001b[39merrors,\n\u001b[1;32m    864\u001b[0m             newline\u001b[38;5;241m=\u001b[39m\u001b[38;5;124m\"\u001b[39m\u001b[38;5;124m\"\u001b[39m,\n\u001b[1;32m    865\u001b[0m         )\n\u001b[1;32m    866\u001b[0m     \u001b[38;5;28;01melse\u001b[39;00m:\n\u001b[1;32m    867\u001b[0m         \u001b[38;5;66;03m# Binary mode\u001b[39;00m\n\u001b[1;32m    868\u001b[0m         handle \u001b[38;5;241m=\u001b[39m \u001b[38;5;28mopen\u001b[39m(handle, ioargs\u001b[38;5;241m.\u001b[39mmode)\n",
      "\u001b[0;31mFileNotFoundError\u001b[0m: [Errno 2] No such file or directory: 'FAOSTAT_data_en_10-2-2024.csv'"
     ]
    }
   ],
   "source": [
    "corn_field_data = pd.read_csv('FAOSTAT_data_en_10-2-2024.csv')\n",
    "corn_field_data.head()"
   ]
  },
  {
   "cell_type": "code",
   "execution_count": null,
   "id": "462e6a9d",
   "metadata": {},
   "outputs": [],
   "source": [
    "#Filtering the data between 2000 and 2021\n",
    "corn_field_data = corn_field_data[(corn_field_data['Year'] >= 2000) & (corn_field_data['Year'] <= 2021)]\n",
    "corn_field_data.head()"
   ]
  },
  {
   "cell_type": "code",
   "execution_count": null,
   "id": "c519f167",
   "metadata": {},
   "outputs": [],
   "source": [
    "corn_field_data[\"Note\"].unique()"
   ]
  },
  {
   "cell_type": "code",
   "execution_count": null,
   "id": "cc8d6fed",
   "metadata": {},
   "outputs": [],
   "source": [
    "corn_field_data[\"Flag Description\"].unique()"
   ]
  },
  {
   "cell_type": "code",
   "execution_count": null,
   "id": "804d6266",
   "metadata": {},
   "outputs": [],
   "source": [
    "corn_field_data = corn_field_data[(corn_field_data[\"Flag Description\"] == \"Official figure\") & (corn_field_data[\"Note\"] != \"Unofficial figure\")]"
   ]
  },
  {
   "cell_type": "code",
   "execution_count": null,
   "id": "e953b13f",
   "metadata": {},
   "outputs": [],
   "source": [
    "#Unique country amount: Does the number of countires in this data match with deforestation data?\n",
    "print(\"Number of countries in the corn field dataset: \",len(corn_field_data[\"Area\"].unique()))"
   ]
  },
  {
   "cell_type": "code",
   "execution_count": null,
   "id": "2dac7c5b",
   "metadata": {},
   "outputs": [],
   "source": [
    "corn_field_data.head()"
   ]
  },
  {
   "cell_type": "code",
   "execution_count": null,
   "id": "666f2b02",
   "metadata": {},
   "outputs": [],
   "source": [
    "#filter only the relevant columns\n",
    "df_corn = corn_field_data\n",
    "df_corn = df_corn[[\"Area\",\"Value\",\"Year\"]]\n",
    "df_corn"
   ]
  },
  {
   "cell_type": "code",
   "execution_count": null,
   "id": "94339262",
   "metadata": {},
   "outputs": [],
   "source": [
    "areas_to_exclude = df_corn[df_corn[\"Value\"] == 0][\"Area\"].unique() #These countries include 0 values\n",
    "#Exclude these countries completely\n",
    "df_corn = df_corn[~df_corn['Area'].isin(areas_to_exclude)]\n",
    "df_corn"
   ]
  },
  {
   "cell_type": "code",
   "execution_count": null,
   "id": "14189496",
   "metadata": {},
   "outputs": [],
   "source": [
    "#Missing values\n",
    "df_corn.isna().sum()"
   ]
  },
  {
   "cell_type": "code",
   "execution_count": null,
   "id": "fde06725",
   "metadata": {},
   "outputs": [],
   "source": [
    "value_counts_per_area = df_corn.groupby(\"Area\")[\"Value\"].count()\n",
    "\n",
    "# Filter to get only the areas where the count is not equal to 22\n",
    "areas_not_equal_to_22 = value_counts_per_area[value_counts_per_area != 22].index\n",
    "areas_not_equal_to_22"
   ]
  },
  {
   "cell_type": "code",
   "execution_count": null,
   "id": "83f17d71",
   "metadata": {},
   "outputs": [],
   "source": [
    "df_corn = df_corn[~df_corn[\"Area\"].isin(areas_not_equal_to_22)]\n",
    "df_corn"
   ]
  },
  {
   "cell_type": "code",
   "execution_count": null,
   "id": "2eaa6b9b",
   "metadata": {
    "scrolled": true
   },
   "outputs": [],
   "source": [
    "df_corn['iso3'] = df_corn['Area'].apply(get_iso3)\n",
    "df_corn[df_corn['iso3'].isnull()]"
   ]
  },
  {
   "cell_type": "code",
   "execution_count": null,
   "id": "0d8737a8",
   "metadata": {},
   "outputs": [],
   "source": [
    "# Reverting to previous data before dropping and then manually resolving country mismatches\n",
    "country_mapping_corn = {\n",
    "    'Bolivia (Plurinational State of)':'Bolivia, Plurinational State of',\n",
    "    'China, Taiwan Province of':'Taiwan, Province of China',\n",
    "    'China, mainland':'China',\n",
    "    'Democratic Republic of the Congo':'Congo, The Democratic Republic of the',\n",
    "    'Iran (Islamic Republic of)':'Iran, Islamic Republic of',\n",
    "    'Micronesia (Federated States of)': 'Micronesia, Federated States of',\n",
    "    'Netherlands (Kingdom of the)':'Netherlands',\n",
    "    'Republic of Korea': 'Korea, Republic of',\n",
    "    'Venezuela (Bolivarian Republic of)':'Venezuela, Bolivarian Republic of',\n",
    "    # You can add more mappings if necessary\n",
    "}\n",
    "\n",
    "df_corn['Area'] = df_corn['Area'].replace(country_mapping_corn)"
   ]
  },
  {
   "cell_type": "code",
   "execution_count": null,
   "id": "19a32aaf",
   "metadata": {},
   "outputs": [],
   "source": [
    "df_corn['iso3'] = df_corn['Area'].apply(get_iso3)\n",
    "df_corn[df_corn['iso3'].isnull()]"
   ]
  },
  {
   "cell_type": "code",
   "execution_count": null,
   "id": "f08867c7",
   "metadata": {},
   "outputs": [],
   "source": [
    "df_corn = df_corn.reset_index()\n",
    "df_corn.drop('index', axis=1, inplace=True)\n",
    "df_corn.rename(columns={'Area':'country', 'Value':'Total Size Cornfield in ha'}, inplace=True)\n",
    "df_corn['Total Size Cornfield in sq km'] = df_corn['Total Size Cornfield in ha']*0.01\n",
    "df_corn.head()"
   ]
  },
  {
   "cell_type": "markdown",
   "id": "672e8abf",
   "metadata": {},
   "source": [
    "### Heterogeneity variable - Land size"
   ]
  },
  {
   "cell_type": "code",
   "execution_count": null,
   "id": "4edc1917",
   "metadata": {},
   "outputs": [],
   "source": [
    "# Get data for 'Land area (sq. km)' for all countries\n",
    "indicators = {'AG.LND.TOTL.K2': 'Land area (sq. km)'}\n",
    "data = wbdata.get_dataframe(indicators)\n",
    "\n",
    "# Display the land area for all countries\n",
    "org_data = data.reset_index()\n",
    "\n",
    "#Converting the year column to integer\n",
    "org_data['date'] = org_data['date'].astype(int)\n",
    "\n",
    "org_data.head()"
   ]
  },
  {
   "cell_type": "code",
   "execution_count": null,
   "id": "0bae1e75",
   "metadata": {},
   "outputs": [],
   "source": [
    "filtered_data = org_data[(org_data['date'] >= 2000) & (org_data['date'] <= 2021)]\n",
    "\n",
    "avg_land_size_df = filtered_data\n",
    "avg_land_size_df"
   ]
  },
  {
   "cell_type": "code",
   "execution_count": null,
   "id": "a06656a3",
   "metadata": {},
   "outputs": [],
   "source": [
    "avg_land_size_df['iso3'] = avg_land_size_df['country'].apply(get_iso3)"
   ]
  },
  {
   "cell_type": "code",
   "execution_count": null,
   "id": "fd6cc4e8",
   "metadata": {},
   "outputs": [],
   "source": [
    "avg_land_size_df[avg_land_size_df['iso3'].isnull()]"
   ]
  },
  {
   "cell_type": "code",
   "execution_count": null,
   "id": "9972acf4",
   "metadata": {},
   "outputs": [],
   "source": [
    "avg_land_size_df['country'] = avg_land_size_df['country'].replace(country_mapping)"
   ]
  },
  {
   "cell_type": "code",
   "execution_count": null,
   "id": "338fec4c",
   "metadata": {},
   "outputs": [],
   "source": [
    "avg_land_size_df = avg_land_size_df[~avg_land_size_df['country'].isin(country_not_country)]"
   ]
  },
  {
   "cell_type": "code",
   "execution_count": null,
   "id": "2e5a7466",
   "metadata": {},
   "outputs": [],
   "source": [
    "avg_land_size_df['iso3'] = avg_land_size_df['country'].apply(get_iso3)\n",
    "avg_land_size_df[avg_land_size_df['iso3'].isnull()]"
   ]
  },
  {
   "cell_type": "code",
   "execution_count": null,
   "id": "fe077bcb",
   "metadata": {},
   "outputs": [],
   "source": [
    "avg_land_size_df = avg_land_size_df.dropna(subset=['iso3'])\n",
    "avg_land_size_df.head()"
   ]
  },
  {
   "cell_type": "code",
   "execution_count": null,
   "id": "be20d948",
   "metadata": {},
   "outputs": [],
   "source": [
    "avg_land_size_df = avg_land_size_df.reset_index()\n",
    "avg_land_size_df.drop('index', axis=1, inplace=True)\n",
    "avg_land_size_df.rename(columns={'Land area (sq. km)':'landArea','date':'Year'}, inplace=True)\n",
    "avg_land_size_df.head()"
   ]
  },
  {
   "cell_type": "markdown",
   "id": "e533cdfb",
   "metadata": {},
   "source": [
    "### Create a table containing the x,y and heterogeneity variable"
   ]
  },
  {
   "cell_type": "code",
   "execution_count": null,
   "id": "4e0e0985",
   "metadata": {},
   "outputs": [],
   "source": [
    "avg_land_size_df.head()"
   ]
  },
  {
   "cell_type": "code",
   "execution_count": null,
   "id": "930ae4b3",
   "metadata": {},
   "outputs": [],
   "source": [
    "df_corn.head()"
   ]
  },
  {
   "cell_type": "code",
   "execution_count": null,
   "id": "a688cc8f",
   "metadata": {},
   "outputs": [],
   "source": [
    "df_def.head()"
   ]
  },
  {
   "cell_type": "code",
   "execution_count": null,
   "id": "0d976e93",
   "metadata": {},
   "outputs": [],
   "source": [
    "final_merged_df = pd.merge(avg_land_size_df, df_corn, on=['iso3', 'Year'], how='outer')\n",
    "final_merged_df = pd.merge(final_merged_df, df_def, on=['iso3', 'Year'], how='outer')\n",
    "\n",
    "final_merged_df.head()"
   ]
  },
  {
   "cell_type": "code",
   "execution_count": null,
   "id": "b1238aeb",
   "metadata": {},
   "outputs": [],
   "source": [
    "final_merged_df.isnull().sum()"
   ]
  },
  {
   "cell_type": "code",
   "execution_count": null,
   "id": "b6c8b3e0",
   "metadata": {},
   "outputs": [],
   "source": [
    "# Check for missing values across each column and group by 'country'\n",
    "missing_values_per_country = final_merged_df.groupby('country_x').apply(lambda x: x.isna().sum())\n",
    "\n",
    "# Filter to show only countries with at least one missing value\n",
    "countries_with_missing_values = missing_values_per_country[missing_values_per_country.sum(axis=1) > 0]\n",
    "\n",
    "# Display the result\n",
    "print(countries_with_missing_values)"
   ]
  },
  {
   "cell_type": "code",
   "execution_count": null,
   "id": "c2cdd499",
   "metadata": {},
   "outputs": [],
   "source": [
    "final_merged_df.drop(['country', 'country_y', 'Country Code'], axis=1, inplace=True)\n",
    "final_merged_df.rename(columns={'country_x': 'Country'}, inplace=True)\n",
    "final_merged_df = final_merged_df.dropna()\n",
    "final_merged_df"
   ]
  },
  {
   "cell_type": "code",
   "execution_count": null,
   "id": "e9f30a72",
   "metadata": {},
   "outputs": [],
   "source": [
    "final_merged_df = final_merged_df.reset_index(drop=True)\n",
    "final_merged_df"
   ]
  },
  {
   "cell_type": "code",
   "execution_count": null,
   "id": "5bf66d46",
   "metadata": {
    "scrolled": true
   },
   "outputs": [],
   "source": [
    "final_merged_df['% of Cornfield Area'] =  final_merged_df['Total Size Cornfield in sq km'] / final_merged_df['landArea']*100\n",
    "final_merged_df.head()"
   ]
  },
  {
   "cell_type": "code",
   "execution_count": null,
   "id": "52f1e0ef",
   "metadata": {},
   "outputs": [],
   "source": [
    "last_df = final_merged_df"
   ]
  },
  {
   "cell_type": "code",
   "execution_count": null,
   "id": "455b355a",
   "metadata": {},
   "outputs": [],
   "source": [
    "last_df"
   ]
  },
  {
   "cell_type": "markdown",
   "id": "16a1eebe",
   "metadata": {},
   "source": [
    "# Heterogeneity variable : Land available for corn expansion other than forests\n",
    "### Why ? \n",
    "- __Direct Relevance to Corn Expansion__:\n",
    "    This variable captures the potential for agricultural growth, specifically for corn, by estimating land areas that could feasibly be converted to cornfields.\n",
    "    Unlike general measures of land availability, it focuses on lands that are ecologically and practically suitable for corn cultivation.\n",
    "\n",
    "- __Variation Across Countries__:\n",
    "    The variable inherently reflects differences between countries, such as urbanization levels, existing cropland distribution, and natural geographic constraints, making it an ideal heterogeneity factor.\n",
    "    Countries with more available land for corn expansion may exhibit stronger links between corn expansion and deforestation, while those with limited availability may rely on intensification rather than land clearing.\n",
    "\n",
    "- __Focus on Agricultural Pressure__:\n",
    "    This variable aligns directly with the agricultural pressures driving deforestation, providing a more targeted perspective than broader variables like general cropland area.\n",
    "### How is it constructed ? \n",
    "We use a [database about Global Land Cover](https://www.fao.org/faostat/en/#data/LC) provided by FAO, where we have data for 247 countries, and for 14 classes of land cover : \n",
    "1. Artificial surfaces (including urban and associated areas)\n",
    "2. Herbaceous crops \n",
    "3. Woody crops \n",
    "4. Multiple or layered crops (Not mapped)\n",
    "5. Grassland \n",
    "6. Tree-covered areas \n",
    "7. Mangroves\n",
    "8. Shrub-covered areas \n",
    "9. Shrubs and/or herbaceous vegetation, aquatic or regularly flooded\n",
    "10. Sparsely natural vegetated areas (Not mapped)\n",
    "11. Terrestrial barren land \n",
    "12. Permanent snow and glaciers\n",
    "13. Inland water bodies\n",
    "14. Coastal water bodies and intertidal areas\n",
    "\n",
    "We first will divide all values by the landsize of the country, so that we have the percentage of land in the country. Then to compute the final percentage of land available for corn expansion, we will compute the sum of land categories that seem suitable for corn expansion, so potentially convertible lands other than forests :  \n",
    "- __Herbaceous crops__ : represents existing cropland already used for agricultural purposes. These lands are highly suitable for corn expansion and may involve crop rotation or intensification strategies\n",
    "- __Grassland__ : Grasslands are often used as pastures but can be converted into cropland. These areas are considered moderately suitable for corn expansion, especially in regions with high land-use pressure\n",
    "- __Shrub-covered areas__ : Shrublands, while less fertile than grasslands, can still be converted for agricultural use with proper inputs and management. These areas are often targeted in marginal expansions for crops like corn\n",
    "\n",
    "The reasoning behing is that we might see a stronger relationship between corn expansion and deforestation in countries where there is little percentage of land available for corn expansion other than forests, specifically in countries where there is low regulation and high forest covers, because in these regions clearing forests can be economically cheaper, the sale of timber from deforestation provides an additional revenue stream, offsetting the costs of converting forests to farmland. In highly regulated or land-constrained regions, converting existing croplands rather than forests is more likely because there are strong regulations protect forests, infrastructure for existing croplands is already in place, and incentives encourage intensification (e.g., improving yields) over land expansion. We will split our dataset in 4 groups : \n",
    "1. Countries with forest coverage higher than # Heterogeneity variable : Land available for corn expansion other than forests\n",
    "### Why ? \n",
    "- __Direct Relevance to Corn Expansion__:\n",
    "    This variable captures the potential for agricultural growth, specifically for corn, by estimating land areas that could feasibly be converted to cornfields.\n",
    "    Unlike general measures of land availability, it focuses on lands that are ecologically and practically suitable for corn cultivation.\n",
    "\n",
    "- __Variation Across Countries__:\n",
    "    The variable inherently reflects differences between countries, such as urbanization levels, existing cropland distribution, and natural geographic constraints, making it an ideal heterogeneity factor.\n",
    "    Countries with more available land for corn expansion may exhibit stronger links between corn expansion and deforestation, while those with limited availability may rely on intensification rather than land clearing.\n",
    "\n",
    "- __Focus on Agricultural Pressure__:\n",
    "    This variable aligns directly with the agricultural pressures driving deforestation, providing a more targeted perspective than broader variables like general cropland area.\n",
    "### How is it constructed ? \n",
    "We use a [database about Global Land Cover](https://www.fao.org/faostat/en/#data/LC) provided by FAO, where we have data for 247 countries, and for 14 classes of land cover : \n",
    "1. Artificial surfaces (including urban and associated areas)\n",
    "2. Herbaceous crops \n",
    "3. Woody crops \n",
    "4. Multiple or layered crops (Not mapped)\n",
    "5. Grassland \n",
    "6. Tree-covered areas \n",
    "7. Mangroves\n",
    "8. Shrub-covered areas \n",
    "9. Shrubs and/or herbaceous vegetation, aquatic or regularly flooded\n",
    "10. Sparsely natural vegetated areas (Not mapped)\n",
    "11. Terrestrial barren land \n",
    "12. Permanent snow and glaciers\n",
    "13. Inland water bodies\n",
    "14. Coastal water bodies and intertidal areas\n",
    "\n",
    "We first will divide all values by the landsize of the country, so that we have the percentage of land in the country. Then to compute the final percentage of land available for corn expansion, we will compute the sum of land categories that seem suitable for corn expansion, so potentially convertible lands other than forests :  \n",
    "- __Herbaceous crops__ : represents existing cropland already used for agricultural purposes. These lands are highly suitable for corn expansion and may involve crop rotation or intensification strategies\n",
    "- __Grassland__ : Grasslands are often used as pastures but can be converted into cropland. These areas are considered moderately suitable for corn expansion, especially in regions with high land-use pressure\n",
    "- __Shrub-covered areas__ : Shrublands, while less fertile than grasslands, can still be converted for agricultural use with proper inputs and management. These areas are often targeted in marginal expansions for crops like corn\n",
    "\n",
    "The reasoning behing is that we might see a stronger relationship between corn expansion and deforestation in countries where there is little percentage of land available for corn expansion other than forests, specifically in countries where there is low regulation and high forest covers, because in these regions clearing forests can be economically cheaper, the sale of timber from deforestation provides an additional revenue stream, offsetting the costs of converting forests to farmland. In highly regulated or land-constrained regions, converting existing croplands rather than forests is more likely because there are strong regulations protect forests, infrastructure for existing croplands is already in place, and incentives encourage intensification (e.g., improving yields) over land expansion. We will split our dataset in 4 groups : \n",
    "- Group 0 :  Countries with land suitable and available for corn expansion lower than its median\n",
    "- Group 1 : Countries with land suitable and available for corn expansion higher than its median "
   ]
  },
  {
   "cell_type": "code",
   "execution_count": null,
   "id": "520b3874",
   "metadata": {},
   "outputs": [],
   "source": [
    "landcover_data = pd.read_csv(\"FAOSTAT_data_en_11-18-2024.csv\")\n",
    "landcover_data.columns"
   ]
  },
  {
   "cell_type": "code",
   "execution_count": null,
   "id": "444844cc",
   "metadata": {},
   "outputs": [],
   "source": [
    "landcover_data.sample(20)"
   ]
  },
  {
   "cell_type": "code",
   "execution_count": null,
   "id": "5a667c0d",
   "metadata": {},
   "outputs": [],
   "source": [
    "# Convert 'Value' from hectares to square meters\n",
    "landcover_data['Value_sq_km'] = landcover_data['Value'] * 10# 1 hectare = 10,000 square meters"
   ]
  },
  {
   "cell_type": "code",
   "execution_count": null,
   "id": "054002f3",
   "metadata": {},
   "outputs": [],
   "source": [
    "suitable_categories = ['Herbaceous Crops', 'Grassland', 'Shrubland']\n",
    "suitable_land = landcover_data[landcover_data['Item'].isin(suitable_categories)]"
   ]
  },
  {
   "cell_type": "code",
   "execution_count": null,
   "id": "5369dfed",
   "metadata": {},
   "outputs": [],
   "source": [
    "hetero_var = suitable_land.groupby(by=['Area','Year'])['Value_sq_km'].sum().reset_index()"
   ]
  },
  {
   "cell_type": "code",
   "execution_count": null,
   "id": "915f93af",
   "metadata": {
    "scrolled": true
   },
   "outputs": [],
   "source": [
    "hetero_var['iso3'] = hetero_var['Area'].apply(get_iso3)"
   ]
  },
  {
   "cell_type": "code",
   "execution_count": null,
   "id": "6b339fce",
   "metadata": {},
   "outputs": [],
   "source": [
    "hetero_var"
   ]
  },
  {
   "cell_type": "code",
   "execution_count": null,
   "id": "0868a060",
   "metadata": {},
   "outputs": [],
   "source": [
    "no_iso3 = hetero_var[hetero_var['iso3'].isnull()]\n",
    "no_iso3['Area'].unique()"
   ]
  },
  {
   "cell_type": "code",
   "execution_count": null,
   "id": "eebaf552",
   "metadata": {
    "scrolled": true
   },
   "outputs": [],
   "source": [
    "hetero_var.rename(columns={'Area': 'Country'}, inplace=True)"
   ]
  },
  {
   "cell_type": "code",
   "execution_count": null,
   "id": "26ec992b",
   "metadata": {},
   "outputs": [],
   "source": [
    "last_df['Country'].unique()"
   ]
  },
  {
   "cell_type": "code",
   "execution_count": null,
   "id": "f6e9fe29",
   "metadata": {
    "scrolled": true
   },
   "outputs": [],
   "source": [
    "end_df = pd.merge(last_df,hetero_var, on=['iso3','Country', 'Year'], how='outer')\n",
    "end_df = end_df[~end_df['landArea'].isnull()]\n",
    "end_df['% of land available'] = (end_df['Value_sq_km']-end_df['Total Size Cornfield in sq km'])/end_df['landArea']\n",
    "end_df.rename(columns={'Value_sq_km':'Total Size Land suitable for corn expansion'},inplace=True)\n",
    "last_df = end_df\n"
   ]
  },
  {
   "cell_type": "markdown",
   "id": "89fa6c98",
   "metadata": {},
   "source": [
    "## EDA"
   ]
  },
  {
   "cell_type": "code",
   "execution_count": null,
   "id": "198997ff",
   "metadata": {},
   "outputs": [],
   "source": [
    "df_avg_defrate = pd.DataFrame(last_df.groupby(\"Country\")[\"% of Forest Area\"].mean()).reset_index()\n",
    "df_avg_defrate['iso3'] = df_avg_defrate['Country'].apply(get_iso3)\n",
    "df_avg_defrate"
   ]
  },
  {
   "cell_type": "code",
   "execution_count": null,
   "id": "a8e08c9c",
   "metadata": {},
   "outputs": [],
   "source": [
    "# Now plot the map with Plotly Express\n",
    "fig = px.choropleth(df_avg_defrate, \n",
    "                    locations='iso3',  # ISO-3 country codes\n",
    "                    locationmode='ISO-3',\n",
    "                    color='% of Forest Area',  # Average deforestation rates\n",
    "                    hover_name='Country',\n",
    "                    title = 'Forest Area (in %) per Country',\n",
    "                    color_continuous_scale=px.colors.sequential.Plasma)\n",
    "\n",
    "fig.show()"
   ]
  },
  {
   "cell_type": "code",
   "execution_count": null,
   "id": "22c13e38",
   "metadata": {},
   "outputs": [],
   "source": [
    "df_avg_cornExpRate = pd.DataFrame(last_df.groupby(\"Country\")[\"% of Cornfield Area\"].mean()).reset_index()\n",
    "df_avg_cornExpRate['iso3'] = df_avg_cornExpRate['Country'].apply(get_iso3)\n",
    "df_avg_cornExpRate"
   ]
  },
  {
   "cell_type": "code",
   "execution_count": null,
   "id": "ca461aaf",
   "metadata": {},
   "outputs": [],
   "source": [
    "# Now plot the map with Plotly Express\n",
    "fig = px.choropleth(last_df, \n",
    "                    locations='iso3',  # ISO-3 country codes\n",
    "                    locationmode='ISO-3',\n",
    "                    color='% of Cornfield Area',  # deforestation rates\n",
    "                    hover_name='Country',\n",
    "                    title = 'Corn Field Expansion Rate per Country',\n",
    "                    color_continuous_scale=px.colors.sequential.Plasma)\n",
    "\n",
    "fig.show()"
   ]
  },
  {
   "cell_type": "code",
   "execution_count": null,
   "id": "099b6f9d",
   "metadata": {},
   "outputs": [],
   "source": [
    "plt.figure(figsize=(10,6))\n",
    "sns.histplot(last_df['% of Forest Area'], bins=20, kde=True, edgecolor='black')\n",
    "\n",
    "# Add labels and title\n",
    "plt.xlabel('Forest Area(in %)')\n",
    "plt.ylabel('Frequency')\n",
    "plt.title('Empirical Distribution of Forest Area(in %) for countries')\n",
    "\n",
    "# Show the plot\n",
    "plt.show()"
   ]
  },
  {
   "cell_type": "code",
   "execution_count": null,
   "id": "5162ea72",
   "metadata": {},
   "outputs": [],
   "source": [
    "last_df['% of Forest Area'].skew()"
   ]
  },
  {
   "cell_type": "code",
   "execution_count": null,
   "id": "95174ac9",
   "metadata": {},
   "outputs": [],
   "source": [
    "plt.figure(figsize=(10,6))\n",
    "sns.histplot(last_df['% of Cornfield Area'], bins=20, kde=True, edgecolor='black')\n",
    "\n",
    "# Add labels and title\n",
    "plt.xlabel('Cornfield Area (in %)')\n",
    "plt.ylabel('Frequency')\n",
    "plt.title('Empirical Distribution of Cornfield Area(in %) for countries')\n",
    "\n",
    "# Show the plot\n",
    "plt.show()"
   ]
  },
  {
   "cell_type": "code",
   "execution_count": null,
   "id": "8778b9f0",
   "metadata": {},
   "outputs": [],
   "source": [
    "last_df['% of Cornfield Area'].skew()"
   ]
  },
  {
   "cell_type": "code",
   "execution_count": null,
   "id": "ba2f9e64",
   "metadata": {},
   "outputs": [],
   "source": [
    "# Create a scatter plot\n",
    "plt.scatter(last_df['% of Cornfield Area'], last_df['% of Forest Area'])\n",
    "\n",
    "# Set the labels for the axes\n",
    "plt.xlabel('% of Cornfield Area')\n",
    "plt.ylabel('% of Forest Area')\n",
    "\n",
    "# Set the title of the plot\n",
    "plt.title('Scatter Plot of Cornfield Area vs. Forest Area')\n",
    "\n",
    "# Calculate the linear regression\n",
    "x = last_df['% of Cornfield Area']\n",
    "y = last_df['% of Forest Area']\n",
    "\n",
    "# Show the plot\n",
    "plt.show()"
   ]
  },
  {
   "cell_type": "code",
   "execution_count": null,
   "id": "df0d4fc4",
   "metadata": {},
   "outputs": [],
   "source": [
    "# Create a scatter plot with a linear regression line\n",
    "sns.lmplot(x='% of Cornfield Area', y='% of Forest Area', data=last_df)\n",
    "\n",
    "# Set the title of the plot\n",
    "plt.title('Linear Regression: Cornfield Area vs. Forest Area')\n",
    "\n",
    "# Show the plot\n",
    "plt.show()"
   ]
  },
  {
   "cell_type": "code",
   "execution_count": null,
   "id": "7ec3fc31",
   "metadata": {},
   "outputs": [],
   "source": [
    "last_df"
   ]
  },
  {
   "cell_type": "code",
   "execution_count": null,
   "id": "cc610b05",
   "metadata": {},
   "outputs": [],
   "source": [
    "# Finding the median of Land_Size\n",
    "median_suitable_land_percentage = last_df['% of land available'].median()\n",
    "\n",
    "# Creating a dummy variable for whether the land size is higher than the median\n",
    "last_df['Suitable_Land_Higher_Than_Median'] = last_df['% of land available'].apply(lambda val: 1 if (val>median_suitable_land_percentage) else 0)\n",
    "\n",
    "#median_forest_land_percentage = last_df['% of Forest Area'].median()\n",
    "\n",
    "#last_df['Forest_Land_Higher_Than_Median'] = last_df['% of Forest Area'].apply(lambda val: 1 if (val>median_forest_land_percentage) else 0)\n",
    "last_df\n",
    "#Creation of the 4 groups \n",
    "#last_df['Group'] = last_df['Forest_Land_Higher_Than_Median']*2 + last_df['Suitable_Land_Higher_Than_Median'] + 1\n",
    "#last_df"
   ]
  },
  {
   "cell_type": "code",
   "execution_count": null,
   "id": "d8acf38e",
   "metadata": {},
   "outputs": [],
   "source": [
    "plt.figure(figsize=(10, 6))\n",
    "sns.scatterplot(data=last_df, \n",
    "                x='% of Cornfield Area', \n",
    "                y='% of Forest Area', \n",
    "                hue='Suitable_Land_Higher_Than_Median', \n",
    "                palette='coolwarm', \n",
    "                s=100)\n",
    "\n",
    "# Adding labels and title\n",
    "plt.title('Cornfield Area vs. Forest Area')\n",
    "plt.xlabel('Cornfield Area(%)')\n",
    "plt.ylabel('Forest Area(%)')\n",
    "\n",
    "# Display the plot\n",
    "plt.show()"
   ]
  },
  {
   "cell_type": "code",
   "execution_count": null,
   "id": "4da7b329",
   "metadata": {},
   "outputs": [],
   "source": [
    "plt.figure(figsize=(10, 6))\n",
    "\n",
    "# Create a scatterplot with regression lines\n",
    "sns.lmplot(\n",
    "    data=last_df,\n",
    "    x='% of Cornfield Area',\n",
    "    y='% of Forest Area',\n",
    "    hue='Suitable_Land_Higher_Than_Median',\n",
    "    palette='coolwarm',\n",
    "    markers=['o', 's'],  # Different markers for each group\n",
    "    ci=None,  # Remove confidence intervals for clarity (optional)\n",
    "    height=6,  # Height of the plot\n",
    "    aspect=1.5  # Aspect ratio\n",
    ")\n",
    "\n",
    "# Add labels and title\n",
    "plt.title('Cornfield Area vs. Forest Area with Regression Lines', fontsize=14)\n",
    "plt.xlabel('Cornfield Area (%)', fontsize=12)\n",
    "plt.ylabel('Forest Area (%)', fontsize=12)\n",
    "\n",
    "# Show the plot\n",
    "plt.show()"
   ]
  },
  {
   "cell_type": "code",
   "execution_count": null,
   "id": "14ce2b3d",
   "metadata": {},
   "outputs": [],
   "source": [
    "# correlation between cornfield area and forest area for group 0, \n",
    "#so for countries with suitable land available for corn expansion lower than the median:\n",
    "group0 = last_df[last_df['Suitable_Land_Higher_Than_Median']==0]\n",
    "correlation0 = group0['% of Cornfield Area'].corr(group0['% of Forest Area'])\n",
    "\n",
    "# correlation between cornfield area and forest area for group 1, \n",
    "#so for countries with suitable land available for corn expansion higher than the median:\n",
    "group1 = last_df[last_df['Suitable_Land_Higher_Than_Median']==1]\n",
    "correlation1 = group1['% of Cornfield Area'].corr(group1['% of Forest Area'])\n",
    "\n",
    "print(f\"Correlation for Group 0: {correlation0}\")\n",
    "print(f\"Correlation for Group 1: {correlation1}\")"
   ]
  },
  {
   "cell_type": "code",
   "execution_count": null,
   "id": "c1b5f84c",
   "metadata": {},
   "outputs": [],
   "source": [
    "df_features = last_df[['Suitable_Land_Higher_Than_Median','% of Cornfield Area', '% of Forest Area']]\n",
    "\n",
    "# Calculating the correlation matrix\n",
    "correlation_matrix = df_features.corr()\n",
    "\n",
    "# Plotting the heatmap\n",
    "plt.figure(figsize=(8, 6))\n",
    "sns.heatmap(correlation_matrix, annot=True, cmap=\"coolwarm\", linewidths=0.5)\n",
    "\n",
    "# Display the plot\n",
    "plt.title('Correlation Heatmap: Cornfield Area vs. Forest Area')\n",
    "plt.show()"
   ]
  },
  {
   "cell_type": "code",
   "execution_count": null,
   "id": "d0eee8fe",
   "metadata": {},
   "outputs": [],
   "source": [
    "import plotly.express as px\n",
    "fig_box = px.box(last_df,                                           # Specify data frame\n",
    "                 y=['% of Cornfield Area'],                       # Select posrecip and negrecip variables\n",
    "                 points=\"all\",                                     # Include all observations as data points\n",
    "                 color = 'Suitable_Land_Higher_Than_Median',                                # Color (and group by) column \"Cluster\"\n",
    "                 labels = {\"Cluster\": \"Altruism\"},                 # Rename \"Cluster\" as \"Altruism\" in our legend\n",
    "                 title = \"\"\"Cornfield Area for land size bigger than median \n",
    "                 <br>(Higher than median: 1.0; Lower than median: 0.0)\"\"\")       # Always add a title!\n",
    "fig_box.update_layout(autosize=False, width = 800)                # Specify width (by default, full notebook cell)\n",
    "fig_box"
   ]
  },
  {
   "cell_type": "code",
   "execution_count": null,
   "id": "5eef643e",
   "metadata": {},
   "outputs": [],
   "source": [
    "fig_box = px.box(last_df,                                           # Specify data frame\n",
    "                 y=['% of Forest Area'],                       # Select posrecip and negrecip variables\n",
    "                 points=\"all\",                                     # Include all observations as data points\n",
    "                 color = 'Suitable_Land_Higher_Than_Median',                                # Color (and group by) column \"Cluster\"\n",
    "                 labels = {\"Cluster\": \"Altruism\"},                 # Rename \"Cluster\" as \"Altruism\" in our legend\n",
    "                 title = \"\"\"Forest Area for land size bigger than median \n",
    "                 <br>(Higher than median: 1.0; Lower than median: 0.0)\"\"\")       # Always add a title!\n",
    "fig_box.update_layout(autosize=False, width = 800)                # Specify width (by default, full notebook cell)\n",
    "fig_box"
   ]
  },
  {
   "cell_type": "code",
   "execution_count": null,
   "id": "d397e062",
   "metadata": {},
   "outputs": [],
   "source": [
    "print(np.percentile(last_df['% of Cornfield Area'], 25), last_df['% of Cornfield Area'].median(), np.percentile(last_df['% of Cornfield Area'], 75))"
   ]
  },
  {
   "cell_type": "code",
   "execution_count": null,
   "id": "ca47fb5e",
   "metadata": {},
   "outputs": [],
   "source": [
    "print(np.percentile(last_df['% of Forest Area'], 25), last_df['% of Forest Area'].median(), np.percentile(last_df['% of Forest Area'], 75))"
   ]
  },
  {
   "cell_type": "code",
   "execution_count": null,
   "id": "533aa8d1",
   "metadata": {},
   "outputs": [],
   "source": [
    "#reg for non normalized rates\n",
    "import statsmodels.api as sm\n",
    "X = sm.add_constant(last_df[['% of Cornfield Area']])\n",
    "\n",
    "# Dependent variable (Y)\n",
    "Y = last_df['% of Forest Area']\n",
    "\n",
    "# Fit the OLS regression model\n",
    "ols_model = sm.OLS(Y, X).fit(cov_type='HC3')\n",
    "\n",
    "# Display the OLS regression results\n",
    "ols_results_extended = ols_model.summary()\n",
    "ols_results_extended"
   ]
  },
  {
   "cell_type": "code",
   "execution_count": null,
   "id": "ed660546",
   "metadata": {},
   "outputs": [],
   "source": [
    "residuals = ols_model.resid\n",
    "# Plot the residuals\n",
    "plt.figure(figsize=(10, 6))\n",
    "plt.plot(residuals, label=\"Residuals\", color=\"purple\")\n",
    "plt.title(\"Residuals from OLS Model\")\n",
    "plt.xlabel(\"Time\")\n",
    "plt.ylabel(\"Residuals\")\n",
    "plt.grid(True)\n",
    "plt.show()\n",
    "\n",
    "# Plot the histogram of residuals to check for normality\n",
    "plt.figure(figsize=(10, 6))\n",
    "plt.hist(residuals, bins=20, color=\"purple\", alpha=0.7)\n",
    "plt.title(\"Histogram of Residuals\")\n",
    "plt.xlabel(\"Residuals\")\n",
    "plt.ylabel(\"Frequency\")\n",
    "plt.grid(True)\n",
    "plt.show()"
   ]
  },
  {
   "cell_type": "code",
   "execution_count": null,
   "id": "533f18b8",
   "metadata": {},
   "outputs": [],
   "source": [
    "df_avg_globalyear = pd.DataFrame(last_df.groupby(\"Year\")['% of Cornfield Area'].mean()).reset_index()\n",
    "#df_avg_globalyear['iso3'] = df_avg_globalyear['country'].apply(get_iso3)\n",
    "plt.figure()\n",
    "plt.plot(df_avg_globalyear['Year'], df_avg_globalyear['% of Cornfield Area'])\n",
    "plt.title('Mean of Cornfield Area over the Years')\n",
    "plt.show()"
   ]
  },
  {
   "cell_type": "code",
   "execution_count": null,
   "id": "f0e65fc5",
   "metadata": {},
   "outputs": [],
   "source": [
    "df_avg_globalyear = pd.DataFrame(last_df.groupby(\"Year\")['% of Forest Area'].mean()).reset_index()\n",
    "#df_avg_globalyear['iso3'] = df_avg_globalyear['country'].apply(get_iso3)\n",
    "plt.figure()\n",
    "plt.plot(df_avg_globalyear['Year'], df_avg_globalyear['% of Forest Area'])\n",
    "plt.title('Mean of Forestation Rate over the Years')\n",
    "plt.show()"
   ]
  },
  {
   "cell_type": "markdown",
   "id": "687d8bdd",
   "metadata": {},
   "source": [
    "### Autres - tests d'autocorrélation"
   ]
  },
  {
   "cell_type": "code",
   "execution_count": null,
   "id": "22e28c2f",
   "metadata": {},
   "outputs": [],
   "source": [
    "import statsmodels.api as sm\n",
    "from statsmodels.graphics.tsaplots import plot_acf, plot_pacf"
   ]
  },
  {
   "cell_type": "code",
   "execution_count": null,
   "id": "08853490",
   "metadata": {},
   "outputs": [],
   "source": [
    "plt.figure(figsize=(12, 6))\n",
    "plt.subplot(121)\n",
    "plot_acf(last_df['% of Cornfield Area'], lags=20, ax=plt.gca())  # ACF plot\n",
    "plt.subplot(122)\n",
    "plot_pacf(last_df['% of Forest Area'], lags=20, ax=plt.gca())  # PACF plot\n",
    "plt.show()"
   ]
  },
  {
   "cell_type": "code",
   "execution_count": null,
   "id": "37188fd7",
   "metadata": {},
   "outputs": [],
   "source": [
    "aic_values = []\n",
    "bic_values = []\n",
    "max_lag = 20  # Maximum number of lags to test\n",
    "\n",
    "for lag in range(1, max_lag + 1):\n",
    "    model = sm.tsa.AutoReg(last_df['% of Cornfield Area'], lag).fit()\n",
    "    aic_values.append(model.aic)\n",
    "    bic_values.append(model.bic)\n",
    "\n",
    "# Step 3: Choose the lag with the lowest AIC or BIC\n",
    "optimal_lag_aic = aic_values.index(min(aic_values)) + 1\n",
    "optimal_lag_bic = bic_values.index(min(bic_values)) + 1\n",
    "\n",
    "print(f\"Optimal lag based on AIC: {optimal_lag_aic}\")\n",
    "print(f\"Optimal lag based on BIC: {optimal_lag_bic}\")"
   ]
  },
  {
   "cell_type": "code",
   "execution_count": null,
   "id": "c85fdc34",
   "metadata": {},
   "outputs": [],
   "source": [
    "print(sm.tsa.AutoReg(last_df['% of Cornfield Area'], 20).fit().aic,\n",
    "sm.tsa.AutoReg(last_df['% of Cornfield Area'], 16).fit().bic)"
   ]
  },
  {
   "cell_type": "code",
   "execution_count": null,
   "id": "8d334efa",
   "metadata": {},
   "outputs": [],
   "source": [
    "from statsmodels.stats.diagnostic import acorr_ljungbox\n",
    "\n",
    "# Assuming 'time_series_data' is your time series\n",
    "# Fit an ARIMA model (or AR, ARMA based on your needs)\n",
    "model = sm.tsa.ARIMA(last_df['% of Cornfield Area'], order=(4, 0, 0))  # p, d, q are your chosen ARIMA orders\n",
    "fitted_model = model.fit()\n",
    "\n",
    "# Get the residuals from the fitted model\n",
    "residuals = fitted_model.resid\n",
    "\n",
    "# Apply the Ljung-Box test on the residuals\n",
    "ljung_box_results = acorr_ljungbox(residuals, lags=[4], return_df=True)\n",
    "\n",
    "# Print the results\n",
    "print(ljung_box_results)\n",
    "print(fitted_model.summary())"
   ]
  },
  {
   "cell_type": "code",
   "execution_count": null,
   "id": "bb7adfdf",
   "metadata": {},
   "outputs": [],
   "source": [
    "model = sm.tsa.ARIMA(last_df['% of Cornfield Area'], order=(4, 0, 0))  # p, d, q are your chosen ARIMA orders\n",
    "fitted_model = model.fit()\n",
    "\n",
    "# Forecast or predict the in-sample values (fitted values)\n",
    "fitted_values = fitted_model.fittedvalues\n",
    "\n",
    "# Plot the actual data and the fitted values\n",
    "plt.figure(figsize=(10, 6))\n",
    "plt.plot(last_df['% of Cornfield Area'], label=\"Actual Data\", color=\"blue\")\n",
    "plt.plot(last_df['% of Cornfield Area'], label=\"Fitted Values\", color=\"red\")\n",
    "plt.title(\"Actual vs. Fitted Values\")\n",
    "plt.xlabel(\"Time\")\n",
    "plt.ylabel(\"Value\")\n",
    "plt.legend()\n",
    "plt.grid(True)\n",
    "plt.show()"
   ]
  },
  {
   "cell_type": "code",
   "execution_count": null,
   "id": "c91ea35c",
   "metadata": {},
   "outputs": [],
   "source": [
    "residuals = fitted_model.resid\n",
    "\n",
    "# Plot the residuals\n",
    "plt.figure(figsize=(10, 6))\n",
    "plt.plot(residuals, label=\"Residuals\", color=\"purple\")\n",
    "plt.title(\"Residuals from ARIMA Model\")\n",
    "plt.xlabel(\"Time\")\n",
    "plt.ylabel(\"Residuals\")\n",
    "plt.grid(True)\n",
    "plt.show()\n",
    "\n",
    "# Plot the histogram of residuals to check for normality\n",
    "plt.figure(figsize=(10, 6))\n",
    "plt.hist(residuals, bins=20, color=\"purple\", alpha=0.7)\n",
    "plt.title(\"Histogram of Residuals\")\n",
    "plt.xlabel(\"Residuals\")\n",
    "plt.ylabel(\"Frequency\")\n",
    "plt.grid(True)\n",
    "plt.show()"
   ]
  },
  {
   "cell_type": "code",
   "execution_count": null,
   "id": "4f2931b5",
   "metadata": {},
   "outputs": [],
   "source": [
    "ljung_box_results = acorr_ljungbox(residuals, lags=[10], return_df=True)\n",
    "\n",
    "# Plot ACF of residuals\n",
    "plt.figure(figsize=(10, 6))\n",
    "plot_acf(residuals, lags=30, ax=plt.gca())\n",
    "plt.title(\"Autocorrelation of Residuals (ACF)\")\n",
    "plt.xlabel(\"Lags\")\n",
    "plt.ylabel(\"ACF\")\n",
    "plt.grid(True)\n",
    "plt.show()\n",
    "\n",
    "# Print Ljung-Box test results\n",
    "print(ljung_box_results)"
   ]
  }
 ],
 "metadata": {
  "kernelspec": {
   "display_name": "Python 3 (ipykernel)",
   "language": "python",
   "name": "python3"
  },
  "language_info": {
   "codemirror_mode": {
    "name": "ipython",
    "version": 3
   },
   "file_extension": ".py",
   "mimetype": "text/x-python",
   "name": "python",
   "nbconvert_exporter": "python",
   "pygments_lexer": "ipython3",
   "version": "3.11.5"
  }
 },
 "nbformat": 4,
 "nbformat_minor": 5
}
