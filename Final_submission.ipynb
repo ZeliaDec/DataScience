{
 "cells": [
  {
   "cell_type": "markdown",
   "id": "7111a67d",
   "metadata": {},
   "source": [
    "<link href=\"https://fonts.googleapis.com/css2?family=Montserrat:wght@100..900&display=swap\" rel=\"stylesheet\">\n",
    "\n",
    "<h1 style=\"font-family: 'Montserrat', sans-serif; font-size:40px; color:#01753a; text-align: center;\">\n",
    "    Understanding the Relationship between Corn Expansion and Deforestation\n",
    "</h1>\n",
    "<p style=\"font-family: 'Trebuchet', sans-serif; font-size:12px;text-align:right\"> December 2024 </p>\n",
    "<hr>\n",
    "<p style=\"font-family: 'Trebuchet', sans-serif; font-size:16px;\">Nadège Baertschi, Zélia Décaillet, Simon Dutruy, Mert Ülgüner</p>"
   ]
  },
  {
   "cell_type": "markdown",
   "id": "903159d8",
   "metadata": {},
   "source": [
    "<img src=\"https://raw.githubusercontent.com/ZeliaDec/DataScience/main/Data/Lifecycle_study.png\" alt=\"Structure of the article\" width=\"1000\">"
   ]
  },
  {
   "cell_type": "markdown",
   "id": "d3407ff7",
   "metadata": {},
   "source": [
    "<p style=\"font-family: 'Trebuchet', sans-serif; font-size:16px;text-align:justify;line-height: 1.6;\">To guide you through our research, we’ve structured the study like the growth of a tree, as shown above. Each stage represents a key step in our journey. We've also created this table of content to help you navigate: </p>"
   ]
  },
  {
   "cell_type": "markdown",
   "id": "38beddf5",
   "metadata": {},
   "source": [
    "# Table of Content\n",
    "1. [Why does this study matter? Our hypothesis](#1-Watering-the-Soil)\n",
    "2. [What is the data we are working with?](#2-Planting-the-Seed)\n",
    "3. [Initial insights : what does the data reveal?](#3-Breaking-Ground)\n",
    "4. [Building the statistical model](#4-Growing-the-Shoot)\n",
    "5. [How robust is the model? Tackling endogeneity](#5-Strenghtening-the-Trunk)\n",
    "6. [How uniform is the relationship across our database? Tackling heterogeneity](#6-Branching-Out)\n",
    "7. [Discussion: How should we interpret our results?](#7-Growing-the-Foliage)\n",
    "8. [What are the limitations of our study and its potential extensions?](#8-Reaching-the-Canopy)"
   ]
  },
  {
   "cell_type": "markdown",
   "id": "35a49695",
   "metadata": {},
   "source": [
    "# 1 Watering the Soil\n",
    "[Click here to go back to the table of content](#Table-of-Content)"
   ]
  },
  {
   "cell_type": "markdown",
   "id": "4212ca08",
   "metadata": {},
   "source": [
    "<img src=\"https://raw.githubusercontent.com/ZeliaDec/DataScience/main/Data/section1.png\" alt=\"Structure of the article\" width=\"150\">"
   ]
  },
  {
   "cell_type": "markdown",
   "id": "88dae2e1",
   "metadata": {},
   "source": [
    "## Why does this study matter? 🧐"
   ]
  },
  {
   "cell_type": "markdown",
   "id": "0f5d35cb",
   "metadata": {},
   "source": [
    "<div style=\"background-color: #deefbb;color:#000000; padding: 10px; text-align:center;border-radius: 5px;font-family: 'Trebuchet', bold, sans-serif; font-size:14px;\">\n",
    "    <b>Did you know that the annual rate of deforestation in 2022 was equivalent to deforesting 15 football (soccer) fields per minute? </b> <p style=\"font-family: 'Trebuchet', sans-serif; font-size:12px;text-align:right\">(State of climate action 2023)</p>\n",
    "</div>\n",
    " \n",
    "<p style=\"font-family: 'Trebuchet', sans-serif; font-size:16px;text-align:justify;line-height: 1.6;\"> When we talk about climate change, forests often come up as both part of the solution and part of the problem. Known as “carbon sinks,” they play a crucial role in absorbing and storing carbon dioxide, which helps regulate the planet’s atmosphere. Beyond their environmental importance, forests are also home to an incredible variety of life. But when forests are destroyed, the carbon they store is released back into the air, and this contributes to global emissions. <b>Each year, forest loss releases nearly 5 billion tons of carbon dioxide</b>, which is equivalent to around 10% of all human-caused emissions (Gibbs et al., 2018). </p>\n",
    "\n",
    "<p style=\"font-family: 'Trebuchet', sans-serif; font-size:16px;text-align:justify;line-height: 1.6;\"> <b>Deforestation is, therefore, a double-edged sword in our fight against climate change.</b> Not only does it reduce the ability of forests to absorb greenhouse gases, but it also becomes a direct source of emissions, speeding up global warming. So, what’s causing this destruction? </p>\n",
    "\n",
    "<p style=\"font-family: 'Trebuchet', sans-serif; font-size:16px;text-align:justify;line-height: 1.6;\"> <b>Agriculture is by far the biggest culprit</b>. At least <b>three-quarters</b> of tropical deforestation is tied to agricultural expansion (Ritchie, 2021). While much attention has been given to beef and palm oil as contributors to deforestation—there’s growing awareness of the environmental impact of palm oil, and younger generations are starting to move away from meat and animal-based products (Salehi et al., 2023). This shift raises an important question: <b>could other agricultural commodities become more significant drivers of land-use change in the future?</b> </p>\n",
    "\n",
    "<p style=\"font-family: 'Trebuchet', sans-serif; font-size:16px;text-align:justify;line-height: 1.6;\"> <b>Cereals might be next in line.</b> Among them, maize, or corn, stands out. <b>Corn is the world’s most widely produced cereal</b>, with nearly 1.2 billion tonnes grown in 2023, and its production has increased by 97% since 2000—faster than any other top cereal (FAO, 2023). Its uses go far <b>beyond food</b>, extending to <b>biofuels and animal feed</b>, which makes it a versatile and highly demanded crop. With its rapid growth and global importance, corn is a crop worth studying in the context of deforestation. <b>Could this staple cereal be playing a bigger role in forest loss than we realize?</b> That’s the question this study aims to explore. </p>"
   ]
  },
  {
   "cell_type": "markdown",
   "id": "bea2660e",
   "metadata": {},
   "source": [
    "### Our hypothesis\n",
    "<p style=\"font-family: 'Trebuchet', sans-serif; font-size:16px;text-align:justify;line-height: 1.6;\"> We assume that corn expansion can be done at the expense of forests based on these factors: <ul> <li style=\"font-family: 'Trebuchet', sans-serif; font-size:16px;text-align:justify;line-height: 1.6;\"> <b> Land suitability:</b> Corn thrives in tropical climates, making regions like the Amazon and Central America prime targets for cultivation. The expansion of corn farming in these areas often leads to the clearing of forests to create arable land, resulting in significant environmental impacts, because corn is a heavy feeder of nitrogen, a vital nutrient for its growth, therefore, corn production needs new land to replace the old land with now depleted soil nitrogen levels. For example, in Brazil's Cerrado biome, the expansion of corn farming has contributed to substantial deforestation, because the Cerrado's flat terrain and fertile soils make it attractive for large-scale agriculture (Hillsdon, 2024). </li> <li style=\"font-family: 'Trebuchet', sans-serif; font-size:16px;text-align:justify;line-height: 1.6;\"> <b> Economic incentives for forest conversion:</b> Clearing forests for corn cultivation can be economically attractive due to the dual benefits of timber sales and agricultural revenue. Harvesting timber provides immediate income, while the subsequent use of cleared land for corn farming offers ongoing profits. This combination can make forest conversion more appealing than repurposing existing agricultural lands, especially when timber demand is high. Sustainable timber harvesting practices aim to balance economic gains with environmental preservation, but the immediate financial incentives of deforestation often prevail (Griffin, 2024). </li> </ul> </p>\n",
    "    "
   ]
  },
  {
   "cell_type": "markdown",
   "id": "9027ded3",
   "metadata": {},
   "source": [
    "# 2 Planting the Seed\n",
    "[Click here to go back to the table of content](#Table-of-Content)"
   ]
  },
  {
   "cell_type": "markdown",
   "id": "1708d9b3",
   "metadata": {},
   "source": [
    "<img src=\"https://raw.githubusercontent.com/ZeliaDec/DataScience/main/Data/section2.png\" alt=\"Structure of the article\" width=\"150\">"
   ]
  },
  {
   "cell_type": "markdown",
   "id": "9537b50b",
   "metadata": {},
   "source": [
    "## What is the data that we are working with? 🗃️"
   ]
  },
  {
   "cell_type": "markdown",
   "id": "3789580c",
   "metadata": {},
   "source": [
    "<p style=\"font-family: 'Trebuchet', sans-serif; font-size:16px;text-align:justify;line-height: 1.6;\"> Before jumping into the beautiful realm of statistics, we must gather and understand the data that we need. </p>\n",
    "<p style=\"font-family: 'Trebuchet', sans-serif; font-size:16px;text-align:justify;line-height: 1.6;\"> In this study, our two key numbers are: <b>the size of cornfields and the size of forests</b>, both measured in square kilometers, as we aim to estimate how much a change in the size of cornfields relates to a change in the size of forests.  </p>\n",
    "\n",
    "<p style=\"font-family: 'Trebuchet', sans-serif; font-size:16px;text-align:justify;line-height: 1.6;\"> However, we also need to consider other factors—called control variables—to ensure we’re isolating the specific impact of corn expansion on deforestation. These controls help us account for other influences that might affect the relationship, so we can focus on the role corn plays more accurately. Throughout our analysis, we will use three existing research papers, Curtis et al. (2018), Harris et al. (2021), and Bager et al. (2023),  to help us identify the other variables and construct our statistical model. They all highlight the central role of agriculture in their exploration of deforestation drivers. From them, we decided to include: </p>\n",
    "<ul> <li style=\"font-family: 'Trebuchet', sans-serif; font-size:16px;text-align:justify;line-height: 1.6;\"> <b> GDP:</b> Wealthier countries with higher GDP may exhibit increased deforestation due to higher demand for agricultural commodities and infrastructure development (Bager et al., 2023).</li> <li style=\"font-family: 'Trebuchet', sans-serif; font-size:16px;text-align:justify;line-height: 1.6;\"> <b>Corn Price:</b> Higher market demand and fluctuating commodity prices are significant drivers of deforestation, as they influence the profitability of expanding agricultural land (Curtis et al., 2018; Harris et al., 2021).</li> <li style=\"font-family: 'Trebuchet', sans-serif; font-size:16px;text-align:justify;line-height: 1.6;\"> <b>Temperature: </b> It plays a critical role in deforestation through its impact on crop yields and land suitability, potentially incentivizing agricultural expansion into forested areas (Bager et al., 2023). </li> <li style=\"font-family: 'Trebuchet', sans-serif; font-size:16px;text-align:justify;line-height: 1.6;\"> <b>Rainfall: </b> It affects agricultural productivity and land-use suitability, indirectly influencing the likelihood of deforestation, particularly in regions dependent on rainfed agriculture, such as corn (Curtis et al., 2018; Bager et al., 2023). </li> <li style=\"font-family: 'Trebuchet', sans-serif; font-size:16px;text-align:justify;line-height: 1.6;\"> <b>Corruption: </b> Governance quality, reflected by corruption levels, is a key determinant of land tenure security and the enforcement of deforestation regulations. High corruption can weaken enforcement and exacerbate deforestation risks (Harris et al., 2021; Bager et al., 2023). </li> <li style=\"font-family: 'Trebuchet', sans-serif; font-size:16px;text-align:justify;line-height: 1.6;\"> <b>Rural Population: </b> A larger rural population is often associated with increased pressure on forests, as subsistence farming and small-scale agriculture drive land conversion. These dynamics are particularly prevalent in regions where agriculture serves as the primary livelihood (Curtis et al., 2018; Harris et al., 2021).  </li> <li style=\"font-family: 'Trebuchet', sans-serif; font-size:16px;text-align:justify;line-height: 1.6;\"> <b>Suitable Land Available for Corn Expansion Other Than Forests: </b>This variable serves as a proxy for the proximity between cornfields and forests, reflecting whether agricultural expansion is likely to target forested areas or shift to other available lands. Countries with plenty of non-forested but usable land may reduce the pressure to clear forests for new crops. On the other hand, a lack of suitable alternatives could increase the likelihood of forests being converted into cornfields (Foley et al., 2011; Gibbs et al., 2010). This means we might observe a stronger relationship for these countries.  </li> </ul>"
   ]
  },
  {
   "cell_type": "markdown",
   "id": "8de1c84e",
   "metadata": {},
   "source": [
    "### Database"
   ]
  },
  {
   "cell_type": "code",
   "execution_count": 4,
   "id": "aa4a9e55",
   "metadata": {},
   "outputs": [
    {
     "data": {
      "text/html": [
       "<div>\n",
       "<style scoped>\n",
       "    .dataframe tbody tr th:only-of-type {\n",
       "        vertical-align: middle;\n",
       "    }\n",
       "\n",
       "    .dataframe tbody tr th {\n",
       "        vertical-align: top;\n",
       "    }\n",
       "\n",
       "    .dataframe thead th {\n",
       "        text-align: right;\n",
       "    }\n",
       "</style>\n",
       "<table border=\"1\" class=\"dataframe\">\n",
       "  <thead>\n",
       "    <tr style=\"text-align: right;\">\n",
       "      <th></th>\n",
       "      <th>country</th>\n",
       "      <th>year</th>\n",
       "      <th>landArea</th>\n",
       "      <th>iso3</th>\n",
       "      <th>Total Size Cornfield in ha</th>\n",
       "      <th>corn</th>\n",
       "      <th>corn1992</th>\n",
       "      <th>forest</th>\n",
       "      <th>suitability</th>\n",
       "      <th>% Land available</th>\n",
       "      <th>price</th>\n",
       "      <th>temperature</th>\n",
       "      <th>Average_Temperature</th>\n",
       "      <th>gdp</th>\n",
       "      <th>rain</th>\n",
       "      <th>bci_bci</th>\n",
       "      <th>wdi_poprul</th>\n",
       "    </tr>\n",
       "  </thead>\n",
       "  <tbody>\n",
       "    <tr>\n",
       "      <th>0</th>\n",
       "      <td>Afghanistan</td>\n",
       "      <td>2000.0</td>\n",
       "      <td>652230.0</td>\n",
       "      <td>AFG</td>\n",
       "      <td>96000.0</td>\n",
       "      <td>960.0</td>\n",
       "      <td>2000.0</td>\n",
       "      <td>12.2811</td>\n",
       "      <td>31149.29</td>\n",
       "      <td>0.047758</td>\n",
       "      <td>2.3175</td>\n",
       "      <td>1.064</td>\n",
       "      <td>12.586175</td>\n",
       "      <td>3531.869351</td>\n",
       "      <td>327.0</td>\n",
       "      <td>62.77</td>\n",
       "      <td>77.92</td>\n",
       "    </tr>\n",
       "    <tr>\n",
       "      <th>1</th>\n",
       "      <td>Afghanistan</td>\n",
       "      <td>2001.0</td>\n",
       "      <td>652230.0</td>\n",
       "      <td>AFG</td>\n",
       "      <td>80000.0</td>\n",
       "      <td>800.0</td>\n",
       "      <td>2000.0</td>\n",
       "      <td>11.9753</td>\n",
       "      <td>31149.29</td>\n",
       "      <td>0.047758</td>\n",
       "      <td>2.0900</td>\n",
       "      <td>1.377</td>\n",
       "      <td>13.413867</td>\n",
       "      <td>3620.525250</td>\n",
       "      <td>327.0</td>\n",
       "      <td>62.67</td>\n",
       "      <td>77.83</td>\n",
       "    </tr>\n",
       "    <tr>\n",
       "      <th>2</th>\n",
       "      <td>Afghanistan</td>\n",
       "      <td>2002.0</td>\n",
       "      <td>652230.0</td>\n",
       "      <td>AFG</td>\n",
       "      <td>100000.0</td>\n",
       "      <td>1000.0</td>\n",
       "      <td>2000.0</td>\n",
       "      <td>11.8511</td>\n",
       "      <td>31149.29</td>\n",
       "      <td>0.047758</td>\n",
       "      <td>2.3575</td>\n",
       "      <td>1.457</td>\n",
       "      <td>13.051083</td>\n",
       "      <td>4285.191376</td>\n",
       "      <td>327.0</td>\n",
       "      <td>62.43</td>\n",
       "      <td>77.74</td>\n",
       "    </tr>\n",
       "    <tr>\n",
       "      <th>3</th>\n",
       "      <td>Afghanistan</td>\n",
       "      <td>2003.0</td>\n",
       "      <td>652230.0</td>\n",
       "      <td>AFG</td>\n",
       "      <td>250000.0</td>\n",
       "      <td>2500.0</td>\n",
       "      <td>2000.0</td>\n",
       "      <td>11.7353</td>\n",
       "      <td>31149.29</td>\n",
       "      <td>0.047758</td>\n",
       "      <td>2.4600</td>\n",
       "      <td>0.710</td>\n",
       "      <td>12.485457</td>\n",
       "      <td>4898.791114</td>\n",
       "      <td>327.0</td>\n",
       "      <td>62.20</td>\n",
       "      <td>77.65</td>\n",
       "    </tr>\n",
       "    <tr>\n",
       "      <th>4</th>\n",
       "      <td>Afghanistan</td>\n",
       "      <td>2004.0</td>\n",
       "      <td>652230.0</td>\n",
       "      <td>AFG</td>\n",
       "      <td>250000.0</td>\n",
       "      <td>2500.0</td>\n",
       "      <td>2000.0</td>\n",
       "      <td>11.6671</td>\n",
       "      <td>31149.29</td>\n",
       "      <td>0.047758</td>\n",
       "      <td>2.0475</td>\n",
       "      <td>1.482</td>\n",
       "      <td>13.233360</td>\n",
       "      <td>5504.073142</td>\n",
       "      <td>327.0</td>\n",
       "      <td>62.01</td>\n",
       "      <td>77.50</td>\n",
       "    </tr>\n",
       "  </tbody>\n",
       "</table>\n",
       "</div>"
      ],
      "text/plain": [
       "       country    year  landArea iso3  Total Size Cornfield in ha    corn  \\\n",
       "0  Afghanistan  2000.0  652230.0  AFG                     96000.0   960.0   \n",
       "1  Afghanistan  2001.0  652230.0  AFG                     80000.0   800.0   \n",
       "2  Afghanistan  2002.0  652230.0  AFG                    100000.0  1000.0   \n",
       "3  Afghanistan  2003.0  652230.0  AFG                    250000.0  2500.0   \n",
       "4  Afghanistan  2004.0  652230.0  AFG                    250000.0  2500.0   \n",
       "\n",
       "   corn1992   forest  suitability  % Land available   price  temperature  \\\n",
       "0    2000.0  12.2811     31149.29          0.047758  2.3175        1.064   \n",
       "1    2000.0  11.9753     31149.29          0.047758  2.0900        1.377   \n",
       "2    2000.0  11.8511     31149.29          0.047758  2.3575        1.457   \n",
       "3    2000.0  11.7353     31149.29          0.047758  2.4600        0.710   \n",
       "4    2000.0  11.6671     31149.29          0.047758  2.0475        1.482   \n",
       "\n",
       "   Average_Temperature          gdp   rain  bci_bci  wdi_poprul  \n",
       "0            12.586175  3531.869351  327.0    62.77       77.92  \n",
       "1            13.413867  3620.525250  327.0    62.67       77.83  \n",
       "2            13.051083  4285.191376  327.0    62.43       77.74  \n",
       "3            12.485457  4898.791114  327.0    62.20       77.65  \n",
       "4            13.233360  5504.073142  327.0    62.01       77.50  "
      ]
     },
     "execution_count": 4,
     "metadata": {},
     "output_type": "execute_result"
    }
   ],
   "source": [
    "# Importing the libraries\n",
    "import pandas as pd\n",
    "import re\n",
    "import matplotlib.pyplot as plt\n",
    "import seaborn as sns\n",
    "import wbdata\n",
    "import numpy as np\n",
    "import pycountry\n",
    "import plotly.express as px\n",
    "import statsmodels.api as sm\n",
    "import statsmodels.formula.api as smf  # For statistical modeling using R-style formulas\n",
    "from linearmodels.panel import PanelOLS\n",
    "from statsmodels.tools import add_constant\n",
    "from statsmodels.stats.outliers_influence import variance_inflation_factor\n",
    "\n",
    "# Importing our pre-built clean database\n",
    "url = 'https://raw.githubusercontent.com/ZeliaDec/DataScience/main/Data/Database.csv'\n",
    "df = pd.read_csv(url)\n",
    "df.head()"
   ]
  },
  {
   "cell_type": "markdown",
   "id": "44dae19b",
   "metadata": {},
   "source": [
    "<p style=\"font-family: 'Trebuchet', sans-serif; font-size:16px;text-align:justify;line-height: 1.6;\"> We're now almost ready to start the construction of our model. But before engaging ourselves into this next step, it is first important to acknowledge the potential biases and weaknesses of the data we are working with. </p>\n",
    "<p style=\"font-family: 'Trebuchet', sans-serif; font-size:16px;text-align:justify;line-height: 1.6;\"> What you need to know: </p>\n",
    "<p style=\"font-family: 'Trebuchet', sans-serif; font-size:16px;text-align:justify;line-height: 1.6;\"> <ul> <li style=\"font-family: 'Trebuchet', sans-serif; font-size:16px;text-align:justify;line-height: 1.6;\"> <b> Data transformation:</b> When we looked at our database, we noticed that it is heavily skewed, it means most values are clustered on one side of the scale, with a few extreme values stretching far away from the rest. This can make our analysis tricky because the results might be overly influenced by those extremes. To help up \"compress\" those extreme values and therefore make our statistical model more reliable, we’ll use a mathematical transformation called a \"logarithm\" on our variables. This means that now we’re looking at how a percentage change in the size of cornfields relates to a percentage change in the size of forests. </li> <li style=\"font-family: 'Trebuchet', sans-serif; font-size:16px;text-align:justify;line-height: 1.6;\"> <b>Geographic Coverage and its bias: </b>\n",
    "Our dataset heavily represents tropical regions in Africa, Asia, and Latin America, where deforestation due to agricultural expansion is most pronounced. While this focus is crucial for understanding the issue in areas with significant forest loss, it introduces a bias that could overestimate the global relationship between corn expansion and deforestation. Temperate and industrialized regions, like parts of Europe and North America, where forest cover is stable or increasing, are less represented. This imbalance means our results may reflect stronger impacts than what might be observed in regions with different land-use dynamics.</li> <li style=\"font-family: 'Trebuchet', sans-serif; font-size:16px;text-align:justify;line-height: 1.6;\"> <b>Imperfect or omitted control variables: </b>\n",
    "The relationship between corn expansion and deforestation is shaped by numerous factors.  While we’ve included key control variables, we might still miss some others, because they are hard to measure or lack data. For instance, we use suitable land available for corn expansion other than forests as a proxy for the proximity between cornfields and forests, however it is imperfect as it lacks spatial precision, and doesn’t account for accessibility. Moreover, anti-deforestation policies could be an omitted variable. Given that these policies directly impact how land-use decisions are made, potentially reducing the likelihood of forests being converted into agricultural land, including cornfields, we might overestimate the effect of corn expansion on deforestation as we don't include them.</li>"
   ]
  },
  {
   "cell_type": "markdown",
   "id": "12652136",
   "metadata": {},
   "source": [
    "# 3 Breaking Ground\n",
    "[Click here to go back to the table of content](#Table-of-Content)"
   ]
  },
  {
   "cell_type": "markdown",
   "id": "1788e09a",
   "metadata": {},
   "source": [
    "<img src=\"https://raw.githubusercontent.com/ZeliaDec/DataScience/main/Data/section3.png\" alt=\"Structure of the article\" width=\"150\">"
   ]
  },
  {
   "cell_type": "markdown",
   "id": "5292c237",
   "metadata": {},
   "source": [
    "## Initial insights : what does our data reveal? 🔍"
   ]
  },
  {
   "cell_type": "markdown",
   "id": "c753f16b",
   "metadata": {},
   "source": [
    "<p style=\"font-family: 'Trebuchet', sans-serif; font-size:16px;text-align:justify;line-height: 1.6;\">  Let's look at our data and "
   ]
  },
  {
   "cell_type": "markdown",
   "id": "30b00170",
   "metadata": {},
   "source": [
    "# 4 Growing the Shoot\n",
    "[Click here to go back to the table of content](#Table-of-Content)"
   ]
  },
  {
   "cell_type": "markdown",
   "id": "e12300d7",
   "metadata": {},
   "source": [
    "<img src=\"https://raw.githubusercontent.com/ZeliaDec/DataScience/main/Data/section4.png\" alt=\"Structure of the article\" width=\"150\">"
   ]
  },
  {
   "cell_type": "markdown",
   "id": "48b68d55",
   "metadata": {},
   "source": [
    "## Building our statistical model 📈"
   ]
  },
  {
   "cell_type": "markdown",
   "id": "86dbd4d4",
   "metadata": {},
   "source": [
    "# 5 Strenghtening the Trunk\n",
    "[Click here to go back to the table of content](#Table-of-Content)"
   ]
  },
  {
   "cell_type": "markdown",
   "id": "f0b65c38",
   "metadata": {},
   "source": [
    "<img src=\"https://raw.githubusercontent.com/ZeliaDec/DataScience/main/Data/section5.png\" alt=\"Structure of the article\" width=\"130\">"
   ]
  },
  {
   "cell_type": "markdown",
   "id": "8d5c311e",
   "metadata": {},
   "source": [
    "## How robust is the model? Tackling endogeneity 🦾"
   ]
  },
  {
   "cell_type": "markdown",
   "id": "243de394",
   "metadata": {},
   "source": [
    "# 6 Branching Out\n",
    "[Click here to go back to the table of content](#Table-of-Content)"
   ]
  },
  {
   "cell_type": "markdown",
   "id": "a4122c15",
   "metadata": {},
   "source": [
    "<img src=\"https://raw.githubusercontent.com/ZeliaDec/DataScience/main/Data/section6.png\" alt=\"Structure of the article\" width=\"125\">"
   ]
  },
  {
   "cell_type": "markdown",
   "id": "27321edf",
   "metadata": {},
   "source": [
    "## How uniform is the relationship across our database? Tackling heterogeneity 🔁"
   ]
  },
  {
   "cell_type": "markdown",
   "id": "41ef3f9f",
   "metadata": {},
   "source": [
    "# 7 Growing the Foliage\n",
    "[Click here to go back to the table of content](#Table-of-Content)"
   ]
  },
  {
   "cell_type": "markdown",
   "id": "38db23bd",
   "metadata": {},
   "source": [
    "<img src=\"https://raw.githubusercontent.com/ZeliaDec/DataScience/main/Data/section7.png\" alt=\"Structure of the article\" width=\"125\">"
   ]
  },
  {
   "cell_type": "markdown",
   "id": "ed86c333",
   "metadata": {},
   "source": [
    "## Discussion : How should we interpret our results? 🕵️"
   ]
  },
  {
   "cell_type": "markdown",
   "id": "09e6f9ad",
   "metadata": {},
   "source": [
    "# 8 Reaching the Canopy\n",
    "[Click here to go back to the table of content](#Table-of-Content)"
   ]
  },
  {
   "cell_type": "markdown",
   "id": "ec97aa23",
   "metadata": {},
   "source": [
    "<img src=\"https://raw.githubusercontent.com/ZeliaDec/DataScience/main/Data/section8.png\" alt=\"Structure of the article\" width=\"125\">"
   ]
  },
  {
   "cell_type": "markdown",
   "id": "e75e31e8",
   "metadata": {},
   "source": [
    "## What are the limitations of our study and its potential extensions? 📝🧩"
   ]
  },
  {
   "cell_type": "markdown",
   "id": "297e92f1",
   "metadata": {},
   "source": []
  }
 ],
 "metadata": {
  "kernelspec": {
   "display_name": "Python 3 (ipykernel)",
   "language": "python",
   "name": "python3"
  },
  "language_info": {
   "codemirror_mode": {
    "name": "ipython",
    "version": 3
   },
   "file_extension": ".py",
   "mimetype": "text/x-python",
   "name": "python",
   "nbconvert_exporter": "python",
   "pygments_lexer": "ipython3",
   "version": "3.11.5"
  },
  "toc": {
   "base_numbering": 1,
   "nav_menu": {},
   "number_sections": false,
   "sideBar": true,
   "skip_h1_title": true,
   "title_cell": "Table of Contents",
   "title_sidebar": "Contents",
   "toc_cell": false,
   "toc_position": {
    "height": "calc(100% - 180px)",
    "left": "10px",
    "top": "150px",
    "width": "165px"
   },
   "toc_section_display": true,
   "toc_window_display": false
  }
 },
 "nbformat": 4,
 "nbformat_minor": 5
}
