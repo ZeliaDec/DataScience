{
 "cells": [
  {
   "cell_type": "markdown",
   "id": "7111a67d",
   "metadata": {},
   "source": [
    "<link href=\"https://fonts.googleapis.com/css2?family=Montserrat:wght@100..900&display=swap\" rel=\"stylesheet\">\n",
    "\n",
    "<h1 style=\"font-family: 'Montserrat', sans-serif; font-size:40px; color:#01753a; text-align: center;\">\n",
    "    Understanding the Relationship between Corn Expansion and Deforestation\n",
    "</h1>\n",
    "<p style=\"font-family: 'Trebuchet', sans-serif; font-size:12px;text-align:right\"> December 2024 </p>\n",
    "<hr>\n",
    "<p style=\"font-family: 'Trebuchet', sans-serif; font-size:16px;\">Nadège Baertschi, Zélia Décaillet, Simon Dutruy, Mert Ülgüner</p>"
   ]
  },
  {
   "cell_type": "markdown",
   "id": "903159d8",
   "metadata": {},
   "source": [
    "<img src=\"https://raw.githubusercontent.com/ZeliaDec/DataScience/main/Data/Lifecycle_study.png\" alt=\"Structure of the article\" width=\"1000\">"
   ]
  },
  {
   "cell_type": "markdown",
   "id": "d3407ff7",
   "metadata": {},
   "source": [
    "<p style=\"font-family: 'Trebuchet', sans-serif; font-size:16px;text-align:justify;line-height: 1.6;\">To guide you through our research, we’ve structured the study like the growth of a tree, as shown above. Each stage represents a key step in our journey. We've also created this table of content to help you navigate: </p>"
   ]
  },
  {
   "cell_type": "markdown",
   "id": "38beddf5",
   "metadata": {},
   "source": [
    "# Table of Content\n",
    "1. [Why does this study matter? Our hypothesis](#1-Watering-the-Soil)\n",
    "2. [What is the data we are working with?](#2-Planting-the-Seed)\n",
    "3. [Initial insights : what does the data reveal?](#3-Breaking-Ground)\n",
    "4. [Building the statistical model](#4-Growing-the-Shoot)\n",
    "5. [How robust is the model? Tackling endogeneity](#5-Strengthening-the-Trunk)\n",
    "6. [How uniform is the relationship across our database? Tackling heterogeneity](#6-Branching-Out)\n",
    "7. [Discussion: How should we interpret our results?](#7-Growing-the-Foliage)\n",
    "8. [What are the limitations of our study and its potential extensions?](#8-Reaching-the-Canopy)\n",
    "9. [Appendix](#Appendix)"
   ]
  },
  {
   "cell_type": "markdown",
   "id": "87a72e20",
   "metadata": {},
   "source": [
    "# 1 Watering the Soil\n",
    "[Click here to go back to the table of content](#Table-of-Content)"
   ]
  },
  {
   "cell_type": "markdown",
   "id": "c0ecfd32",
   "metadata": {},
   "source": [
    "<img src=\"https://raw.githubusercontent.com/ZeliaDec/DataScience/main/Data/section1.png\" alt=\"Structure of the article\" width=\"150\">"
   ]
  },
  {
   "cell_type": "markdown",
   "id": "1a7f23ab",
   "metadata": {},
   "source": [
    "## Why does this study matter? 🧐"
   ]
  },
  {
   "cell_type": "markdown",
   "id": "0f5d35cb",
   "metadata": {},
   "source": [
    "<div style=\"background-color: #deefbb;color:#000000; padding: 10px; text-align:center;border-radius: 5px;font-family: 'Trebuchet', bold, sans-serif; font-size:14px;\">\n",
    "    <b>Did you know that the annual rate of deforestation in 2022 was equivalent to deforesting 15 football (soccer) fields per minute? </b> <p style=\"font-family: 'Trebuchet', sans-serif; font-size:12px;text-align:right\">(State of climate action 2023)</p>\n",
    "</div>\n",
    " \n",
    "<p style=\"font-family: 'Trebuchet', sans-serif; font-size:16px;text-align:justify;line-height: 1.6;\"> When we talk about climate change, forests often come up as both part of the solution and part of the problem. Known as “carbon sinks,” they play a crucial role in absorbing and storing carbon dioxide, which helps regulate the planet’s atmosphere. Beyond their environmental importance, forests are also home to an incredible variety of life. But when forests are destroyed, the carbon they store is released back into the air, and this contributes to global emissions. <b>Each year, forest loss releases nearly 5 billion tons of carbon dioxide</b>, which is equivalent to around 10% of all human-caused emissions (Gibbs et al., 2018). </p>\n",
    "\n",
    "<p style=\"font-family: 'Trebuchet', sans-serif; font-size:16px;text-align:justify;line-height: 1.6;\"> Deforestation is, therefore, a double-edged sword in our fight against climate change. Not only does it reduce the ability of forests to absorb greenhouse gases, but it also becomes a direct source of emissions, speeding up global warming. <b>So, what’s causing this destruction?</b> </p>\n",
    "\n",
    "<p style=\"font-family: 'Trebuchet', sans-serif; font-size:16px;text-align:justify;line-height: 1.6;\"> You can see in <b>Figure 1</b> how we’ve come to the hypothesis that <b>corn expansion might be one of the causes</b>. While other agricultural activities, such as meat and palm oil production, are widely recognized as major drivers of deforestation, we chose to focus on corn. This decision stems from a growing awareness of the environmental impact of palm oil and a cultural shift, particularly among younger generations, away from meat and animal-based products (Salehi et al., 2023). As attention turns away from these commodities, we believe cereals could become increasingly prevalent in the future, particularly corn, due to its versatility and demand across food, biofuels, and animal feed. </p>\n",
    "\n",
    "<p style=\"font-family: 'Trebuchet', sans-serif; font-size:16px;text-align:justify;line-height: 1.6;\"> In this study, we aim to test our hypothesis by addressing the central research question: <b>Could corn expansion lead to deforestation?</b> To answer this, we will analyze data and apply <b>statistical methods</b> to uncover the relationship between corn expansion and forest loss. By doing so, we hope to determine not just if a link exists, but whether there is a <b>causal relationship</b> driving this trend. </p>"
   ]
  },
  {
   "cell_type": "markdown",
   "id": "c0e20174",
   "metadata": {},
   "source": [
    "<img src=\"https://raw.githubusercontent.com/ZeliaDec/DataScience/main/Data/Figure_1.png\" alt=\"Hypothesis\" width=\"800\">"
   ]
  },
  {
   "cell_type": "markdown",
   "id": "9027ded3",
   "metadata": {},
   "source": [
    "# 2 Planting the Seed\n",
    "[Click here to go back to the table of content](#Table-of-Content)"
   ]
  },
  {
   "cell_type": "markdown",
   "id": "7775649a",
   "metadata": {},
   "source": [
    "<img src=\"https://raw.githubusercontent.com/ZeliaDec/DataScience/main/Data/section2.png\" alt=\"Structure of the article\" width=\"150\">"
   ]
  },
  {
   "cell_type": "markdown",
   "id": "4d95a738",
   "metadata": {},
   "source": [
    "## What is the data that we are working with? 🗃️"
   ]
  },
  {
   "cell_type": "markdown",
   "id": "3789580c",
   "metadata": {},
   "source": [
    "<p style=\"font-family: 'Trebuchet', sans-serif; font-size:16px;text-align:justify;line-height: 1.6;\"> Before jumping into the beautiful realm of statistics, we must gather and understand the data that we need. </p>\n",
    "<p style=\"font-family: 'Trebuchet', sans-serif; font-size:16px;text-align:justify;line-height: 1.6;\"> In this study, our two key numbers, or variables, are: <b>the size of cornfields and the size of forests</b>, both measured in square kilometers, as we aim to estimate how much a change in the size of cornfields relates to a change in the size of forests.  </p>\n",
    "\n",
    "<p style=\"font-family: 'Trebuchet', sans-serif; font-size:16px;text-align:justify;line-height: 1.6;\"> However, we also need to consider other factors—called control variables—to ensure we’re isolating the specific impact of corn expansion on deforestation. These controls help us account for other influences that might affect the relationship, so we can focus on the role corn plays more accurately. Throughout our analysis, we will use three existing research papers, Curtis et al. (2018), Harris et al. (2021), and Bager et al. (2023),  to help us identify the other variables and construct our statistical model. They all highlight the central role of agriculture in their exploration of deforestation drivers. From them, we decided to include: </p>\n",
    "<ul> <li style=\"font-family: 'Trebuchet', sans-serif; font-size:16px;text-align:justify;line-height: 1.6;\"> <b> GDP:</b> Wealthier countries with higher GDP may exhibit increased deforestation due to higher demand for agricultural commodities and infrastructure development (Bager et al., 2023).</li> \n",
    "    <li style=\"font-family: 'Trebuchet', sans-serif; font-size:16px;text-align:justify;line-height: 1.6;\"> <b>Temperature: </b> It plays a critical role in deforestation through its impact on crop yields and land suitability, potentially incentivizing agricultural expansion into forested areas (Bager et al., 2023). </li> \n",
    "    <li style=\"font-family: 'Trebuchet', sans-serif; font-size:16px;text-align:justify;line-height: 1.6;\"> <b>Cattle farming: </b> Corn has an important role as a feed crop, particularly for non-meat-producing animals like dairy cattle. As corn is a primary component of cattle feed, especially in milk production, its cultivation may indirectly influence forest conversion to arable land. This link is emphasized by Curtis et al. (2018) and Harris et al. (2021), highlighting the indirect pressures of livestock farming on deforestation through crop demand. </li> \n",
    "    <li style=\"font-family: 'Trebuchet', sans-serif; font-size:16px;text-align:justify;line-height: 1.6;\"> <b>Suitable Land Available for Corn Expansion Other Than Forests: </b>This variable serves as a proxy for the proximity between cornfields and forests, reflecting whether agricultural expansion is likely to target forested areas or shift to other available lands. Countries with plenty of non-forested but usable land may reduce the pressure to clear forests for new crops. On the other hand, a lack of suitable alternatives could increase the likelihood of forests being converted into cornfields (Foley et al., 2011; Gibbs et al., 2010). This means we might observe a stronger relationship for these countries.  </li> </ul>"
   ]
  },
  {
   "cell_type": "markdown",
   "id": "9d9e5574",
   "metadata": {},
   "source": [
    "<p style=\"font-family: 'Trebuchet', sans-serif; font-size:16px;text-align:justify;line-height: 1.6;color:red\"> All our variables and their relationship are summarized in this figure below: </p>\n",
    "<b>to be included</b>"
   ]
  },
  {
   "cell_type": "markdown",
   "id": "8de1c84e",
   "metadata": {},
   "source": [
    "### Database"
   ]
  },
  {
   "cell_type": "markdown",
   "id": "9e2ef454",
   "metadata": {},
   "source": [
    "<p style=\"font-family: 'Trebuchet', sans-serif; font-size:16px;text-align:justify;line-height: 1.6;\">  We built our dataset relying on two reliable sources: <ul> <li style=\"font-family: 'Trebuchet', sans-serif; font-size:16px;text-align:justify;line-height: 1.6;\"> <a href=\"https://www.fao.org/faostat/\" target=\"_blank\">FAO Database</a>: Provides detailed statistics on global agricultural production and land coverage, including data on cornfield areas and forest areas. </li> <li style=\"font-family: 'Trebuchet', sans-serif; font-size:16px;text-align:justify;line-height: 1.6;\"> <a href=\"https://www.qog.pol.gu.se/\" target=\"_blank\">QoG Institute Database</a>: Offers governance-related indicators, such as the corruption index, GDP, and rural population. </li> </ul> <p style=\"font-family: 'Trebuchet', sans-serif; font-size:16px;text-align:justify;line-height: 1.6;\">Our dataset spans <b>64 countries</b> across five continents, and covers the years <b>2000 to 2021</b>.  </p>"
   ]
  },
  {
   "cell_type": "code",
   "execution_count": 1,
   "id": "aa4a9e55",
   "metadata": {},
   "outputs": [
    {
     "data": {
      "text/html": [
       "<div>\n",
       "<style scoped>\n",
       "    .dataframe tbody tr th:only-of-type {\n",
       "        vertical-align: middle;\n",
       "    }\n",
       "\n",
       "    .dataframe tbody tr th {\n",
       "        vertical-align: top;\n",
       "    }\n",
       "\n",
       "    .dataframe thead th {\n",
       "        text-align: right;\n",
       "    }\n",
       "</style>\n",
       "<table border=\"1\" class=\"dataframe\">\n",
       "  <thead>\n",
       "    <tr style=\"text-align: right;\">\n",
       "      <th></th>\n",
       "      <th>country</th>\n",
       "      <th>iso3</th>\n",
       "      <th>year</th>\n",
       "      <th>corn</th>\n",
       "      <th>forest</th>\n",
       "      <th>suitability</th>\n",
       "      <th>Average_Temperature</th>\n",
       "      <th>gdp</th>\n",
       "      <th>cattle</th>\n",
       "      <th>sqrtforest</th>\n",
       "      <th>sqrtcorn</th>\n",
       "      <th>sqrtgdp</th>\n",
       "      <th>sqrtsuit</th>\n",
       "      <th>cattleM</th>\n",
       "      <th>forestM</th>\n",
       "    </tr>\n",
       "  </thead>\n",
       "  <tbody>\n",
       "    <tr>\n",
       "      <th>0</th>\n",
       "      <td>Afghanistan</td>\n",
       "      <td>AFG</td>\n",
       "      <td>2000.0</td>\n",
       "      <td>960.00</td>\n",
       "      <td>12281.1</td>\n",
       "      <td>31149.29</td>\n",
       "      <td>12.586175</td>\n",
       "      <td>3531.869351</td>\n",
       "      <td>700000.0</td>\n",
       "      <td>110.820125</td>\n",
       "      <td>30.983867</td>\n",
       "      <td>59.429533</td>\n",
       "      <td>176.491615</td>\n",
       "      <td>700.000</td>\n",
       "      <td>12.2811</td>\n",
       "    </tr>\n",
       "    <tr>\n",
       "      <th>1</th>\n",
       "      <td>Afghanistan</td>\n",
       "      <td>AFG</td>\n",
       "      <td>2001.0</td>\n",
       "      <td>800.00</td>\n",
       "      <td>11975.3</td>\n",
       "      <td>31149.29</td>\n",
       "      <td>13.413867</td>\n",
       "      <td>3620.525250</td>\n",
       "      <td>600000.0</td>\n",
       "      <td>109.431714</td>\n",
       "      <td>28.284271</td>\n",
       "      <td>60.170801</td>\n",
       "      <td>176.491615</td>\n",
       "      <td>600.000</td>\n",
       "      <td>11.9753</td>\n",
       "    </tr>\n",
       "    <tr>\n",
       "      <th>2</th>\n",
       "      <td>Afghanistan</td>\n",
       "      <td>AFG</td>\n",
       "      <td>2002.0</td>\n",
       "      <td>1000.00</td>\n",
       "      <td>11851.1</td>\n",
       "      <td>31149.29</td>\n",
       "      <td>13.051083</td>\n",
       "      <td>4285.191376</td>\n",
       "      <td>833000.0</td>\n",
       "      <td>108.862758</td>\n",
       "      <td>31.622777</td>\n",
       "      <td>65.461373</td>\n",
       "      <td>176.491615</td>\n",
       "      <td>833.000</td>\n",
       "      <td>11.8511</td>\n",
       "    </tr>\n",
       "    <tr>\n",
       "      <th>3</th>\n",
       "      <td>Afghanistan</td>\n",
       "      <td>AFG</td>\n",
       "      <td>2003.0</td>\n",
       "      <td>2500.00</td>\n",
       "      <td>11735.3</td>\n",
       "      <td>31149.29</td>\n",
       "      <td>12.485457</td>\n",
       "      <td>4898.791114</td>\n",
       "      <td>761000.0</td>\n",
       "      <td>108.329590</td>\n",
       "      <td>50.000000</td>\n",
       "      <td>69.991365</td>\n",
       "      <td>176.491615</td>\n",
       "      <td>761.000</td>\n",
       "      <td>11.7353</td>\n",
       "    </tr>\n",
       "    <tr>\n",
       "      <th>4</th>\n",
       "      <td>Afghanistan</td>\n",
       "      <td>AFG</td>\n",
       "      <td>2004.0</td>\n",
       "      <td>2500.00</td>\n",
       "      <td>11667.1</td>\n",
       "      <td>31149.29</td>\n",
       "      <td>13.233360</td>\n",
       "      <td>5504.073142</td>\n",
       "      <td>829000.0</td>\n",
       "      <td>108.014351</td>\n",
       "      <td>50.000000</td>\n",
       "      <td>74.189441</td>\n",
       "      <td>176.491615</td>\n",
       "      <td>829.000</td>\n",
       "      <td>11.6671</td>\n",
       "    </tr>\n",
       "    <tr>\n",
       "      <th>...</th>\n",
       "      <td>...</td>\n",
       "      <td>...</td>\n",
       "      <td>...</td>\n",
       "      <td>...</td>\n",
       "      <td>...</td>\n",
       "      <td>...</td>\n",
       "      <td>...</td>\n",
       "      <td>...</td>\n",
       "      <td>...</td>\n",
       "      <td>...</td>\n",
       "      <td>...</td>\n",
       "      <td>...</td>\n",
       "      <td>...</td>\n",
       "      <td>...</td>\n",
       "      <td>...</td>\n",
       "    </tr>\n",
       "    <tr>\n",
       "      <th>1689</th>\n",
       "      <td>Zambia</td>\n",
       "      <td>ZMB</td>\n",
       "      <td>2017.0</td>\n",
       "      <td>14339.44</td>\n",
       "      <td>473443.9</td>\n",
       "      <td>16982.08</td>\n",
       "      <td>21.990675</td>\n",
       "      <td>25895.263867</td>\n",
       "      <td>1300000.0</td>\n",
       "      <td>688.072598</td>\n",
       "      <td>119.747401</td>\n",
       "      <td>160.920054</td>\n",
       "      <td>130.315310</td>\n",
       "      <td>1300.000</td>\n",
       "      <td>473.4439</td>\n",
       "    </tr>\n",
       "    <tr>\n",
       "      <th>1690</th>\n",
       "      <td>Zambia</td>\n",
       "      <td>ZMB</td>\n",
       "      <td>2018.0</td>\n",
       "      <td>10860.06</td>\n",
       "      <td>473059.8</td>\n",
       "      <td>16982.08</td>\n",
       "      <td>22.302766</td>\n",
       "      <td>26311.984274</td>\n",
       "      <td>1128763.0</td>\n",
       "      <td>687.793428</td>\n",
       "      <td>104.211612</td>\n",
       "      <td>162.209692</td>\n",
       "      <td>130.315310</td>\n",
       "      <td>1128.763</td>\n",
       "      <td>473.0598</td>\n",
       "    </tr>\n",
       "    <tr>\n",
       "      <th>1691</th>\n",
       "      <td>Zambia</td>\n",
       "      <td>ZMB</td>\n",
       "      <td>2019.0</td>\n",
       "      <td>8416.93</td>\n",
       "      <td>471995.7</td>\n",
       "      <td>16982.08</td>\n",
       "      <td>22.617600</td>\n",
       "      <td>23310.346721</td>\n",
       "      <td>1163320.0</td>\n",
       "      <td>687.019432</td>\n",
       "      <td>91.743828</td>\n",
       "      <td>152.677263</td>\n",
       "      <td>130.315310</td>\n",
       "      <td>1163.320</td>\n",
       "      <td>471.9957</td>\n",
       "    </tr>\n",
       "    <tr>\n",
       "      <th>1692</th>\n",
       "      <td>Zambia</td>\n",
       "      <td>ZMB</td>\n",
       "      <td>2020.0</td>\n",
       "      <td>13335.19</td>\n",
       "      <td>471548.3</td>\n",
       "      <td>16982.08</td>\n",
       "      <td>22.167939</td>\n",
       "      <td>18063.780790</td>\n",
       "      <td>1107495.0</td>\n",
       "      <td>686.693745</td>\n",
       "      <td>115.478093</td>\n",
       "      <td>134.401565</td>\n",
       "      <td>130.315310</td>\n",
       "      <td>1107.495</td>\n",
       "      <td>471.5483</td>\n",
       "    </tr>\n",
       "    <tr>\n",
       "      <th>1693</th>\n",
       "      <td>Zambia</td>\n",
       "      <td>ZMB</td>\n",
       "      <td>2021.0</td>\n",
       "      <td>14101.02</td>\n",
       "      <td>471264.1</td>\n",
       "      <td>16982.08</td>\n",
       "      <td>22.126816</td>\n",
       "      <td>22103.520739</td>\n",
       "      <td>1164854.0</td>\n",
       "      <td>686.486781</td>\n",
       "      <td>118.747716</td>\n",
       "      <td>148.672529</td>\n",
       "      <td>130.315310</td>\n",
       "      <td>1164.854</td>\n",
       "      <td>471.2641</td>\n",
       "    </tr>\n",
       "  </tbody>\n",
       "</table>\n",
       "<p>1694 rows × 15 columns</p>\n",
       "</div>"
      ],
      "text/plain": [
       "          country iso3    year      corn    forest  suitability  \\\n",
       "0     Afghanistan  AFG  2000.0    960.00   12281.1     31149.29   \n",
       "1     Afghanistan  AFG  2001.0    800.00   11975.3     31149.29   \n",
       "2     Afghanistan  AFG  2002.0   1000.00   11851.1     31149.29   \n",
       "3     Afghanistan  AFG  2003.0   2500.00   11735.3     31149.29   \n",
       "4     Afghanistan  AFG  2004.0   2500.00   11667.1     31149.29   \n",
       "...           ...  ...     ...       ...       ...          ...   \n",
       "1689       Zambia  ZMB  2017.0  14339.44  473443.9     16982.08   \n",
       "1690       Zambia  ZMB  2018.0  10860.06  473059.8     16982.08   \n",
       "1691       Zambia  ZMB  2019.0   8416.93  471995.7     16982.08   \n",
       "1692       Zambia  ZMB  2020.0  13335.19  471548.3     16982.08   \n",
       "1693       Zambia  ZMB  2021.0  14101.02  471264.1     16982.08   \n",
       "\n",
       "      Average_Temperature           gdp     cattle  sqrtforest    sqrtcorn  \\\n",
       "0               12.586175   3531.869351   700000.0  110.820125   30.983867   \n",
       "1               13.413867   3620.525250   600000.0  109.431714   28.284271   \n",
       "2               13.051083   4285.191376   833000.0  108.862758   31.622777   \n",
       "3               12.485457   4898.791114   761000.0  108.329590   50.000000   \n",
       "4               13.233360   5504.073142   829000.0  108.014351   50.000000   \n",
       "...                   ...           ...        ...         ...         ...   \n",
       "1689            21.990675  25895.263867  1300000.0  688.072598  119.747401   \n",
       "1690            22.302766  26311.984274  1128763.0  687.793428  104.211612   \n",
       "1691            22.617600  23310.346721  1163320.0  687.019432   91.743828   \n",
       "1692            22.167939  18063.780790  1107495.0  686.693745  115.478093   \n",
       "1693            22.126816  22103.520739  1164854.0  686.486781  118.747716   \n",
       "\n",
       "         sqrtgdp    sqrtsuit   cattleM   forestM  \n",
       "0      59.429533  176.491615   700.000   12.2811  \n",
       "1      60.170801  176.491615   600.000   11.9753  \n",
       "2      65.461373  176.491615   833.000   11.8511  \n",
       "3      69.991365  176.491615   761.000   11.7353  \n",
       "4      74.189441  176.491615   829.000   11.6671  \n",
       "...          ...         ...       ...       ...  \n",
       "1689  160.920054  130.315310  1300.000  473.4439  \n",
       "1690  162.209692  130.315310  1128.763  473.0598  \n",
       "1691  152.677263  130.315310  1163.320  471.9957  \n",
       "1692  134.401565  130.315310  1107.495  471.5483  \n",
       "1693  148.672529  130.315310  1164.854  471.2641  \n",
       "\n",
       "[1694 rows x 15 columns]"
      ]
     },
     "execution_count": 1,
     "metadata": {},
     "output_type": "execute_result"
    }
   ],
   "source": [
    "# Importing the libraries\n",
    "import pandas as pd\n",
    "import re\n",
    "import matplotlib.pyplot as plt\n",
    "import seaborn as sns\n",
    "import wbdata\n",
    "import numpy as np\n",
    "import pycountry\n",
    "import plotly.express as px\n",
    "from scipy.stats import pearsonr\n",
    "import statsmodels.api as sm\n",
    "import statsmodels.formula.api as smf  # For statistical modeling using R-style formulas\n",
    "from linearmodels.panel import PanelOLS\n",
    "from statsmodels.tools import add_constant\n",
    "from statsmodels.stats.outliers_influence import variance_inflation_factor\n",
    "\n",
    "\n",
    "# Importing our pre-built clean database\n",
    "url = 'https://raw.githubusercontent.com/ZeliaDec/DataScience/main/Data/Database.csv'\n",
    "df = pd.read_csv(url)\n",
    "df.drop(columns='Unnamed: 0',inplace=True)\n",
    "df"
   ]
  },
  {
   "cell_type": "markdown",
   "id": "0c06f5c5",
   "metadata": {},
   "source": [
    "### Key considerations"
   ]
  },
  {
   "cell_type": "markdown",
   "id": "44dae19b",
   "metadata": {},
   "source": [
    "<p style=\"font-family: 'Trebuchet', sans-serif; font-size:16px;text-align:justify;line-height: 1.6;\"> We're now almost ready to start the construction of our model. But before engaging ourselves into this next step, it is first important to aknowledge the potential biases and weaknesses of the data we are working with. </p>\n",
    "<p style=\"font-family: 'Trebuchet', sans-serif; font-size:16px;text-align:justify;line-height: 1.6;\"> What you need to know: </p>\n",
    "<p style=\"font-family: 'Trebuchet', sans-serif; font-size:16px;text-align:justify;line-height: 1.6;\"> <ul> <li style=\"font-family: 'Trebuchet', sans-serif; font-size:16px;text-align:justify;line-height: 1.6;\"> <b> Data transformation:</b> When we looked at our database, we noticed that it is heavily skewed—most values are clustered on one side of the scale, with a few extreme values stretching far away from the rest. This skewness can make our analysis unreliable because those extreme values might overly influence the results. To address this, we applied a square root transformation to our variable of interest, cornfield area (in sq km). This transformation helps reduce the impact of outliers while maintaining the overall structure of the data. Now, we’re examining how changes in the square root of cornfield area relate to changes in forest area. </li> <li style=\"font-family: 'Trebuchet', sans-serif; font-size:16px;text-align:justify;line-height: 1.6;\"> <b>Geographic Coverage and its bias: </b>\n",
    "Our dataset heavily represents tropical regions in Africa, Asia, and Latin America, where deforestation due to agricultural expansion is most pronounced. While this focus is crucial for understanding the issue in areas with significant forest loss, it introduces a bias that could overestimate the global relationship between corn expansion and deforestation. Temperate and industrialized regions, like parts of Europe and North America, where forest cover is stable or increasing, are less represented. This imbalance means our results may reflect stronger impacts than what might be observed in regions with different land-use dynamics.</li> <li style=\"font-family: 'Trebuchet', sans-serif; font-size:16px;text-align:justify;line-height: 1.6;\"> <b>Imperfect or omitted control variables: Are we missing something?</b>\n",
    "The relationship between corn expansion and deforestation is shaped by numerous factors.  While we’ve included key control variables, we might still miss some others, because they are hard to measure or lack data. For instance, anti-deforestation policies could be an omitted variable. Given that these policies directly impact how land-use decisions are made, potentially reducing the likelihood of forests being converted into cornfields, we might overestimate the effect of corn expansion on deforestation as we don't include them. Moreover, we use non-forested suitable land available for corn expansion as a proxy for the proximity between cornfields and forests, however it is imperfect as it lacks spatial precision, and doesn’t account for accessibility. As a result, it could bias our results in either direction: overestimating the impact of corn expansion if it underrepresents alternative land availability, or underestimating it if it overrepresents the suitability of non-forested land.</li> </ul>\n",
    "<p style=\"font-family: 'Trebuchet', sans-serif; font-size:16px;text-align:justify;line-height: 1.6;\"> We describe and discuss the limitations of our data, and therefore of our analysis, in more details later in <a href=\"#Limitations-of-our-data-and-the-choice-of-our-variables\">Section 8</a>. </p>"
   ]
  },
  {
   "cell_type": "markdown",
   "id": "9f33d979",
   "metadata": {},
   "source": [
    "# 3 Breaking Ground\n",
    "[Click here to go back to the table of content](#Table-of-Content)"
   ]
  },
  {
   "cell_type": "markdown",
   "id": "df61186a",
   "metadata": {},
   "source": [
    "<img src=\"https://raw.githubusercontent.com/ZeliaDec/DataScience/main/Data/section3.png\" alt=\"Structure of the article\" width=\"150\">"
   ]
  },
  {
   "cell_type": "markdown",
   "id": "3ef1fa1d",
   "metadata": {},
   "source": [
    "## Initial insights : what does our data reveal? 🔍"
   ]
  },
  {
   "cell_type": "markdown",
   "id": "08ddce89",
   "metadata": {},
   "source": [
    "<p style=\"font-family: 'Trebuchet', sans-serif; font-size:16px;text-align:justify;line-height: 1.6;\">  Let's look at our data and what it initially reveals, so we can have an idea if our hypothesis has a chance to be valid. </p>"
   ]
  },
  {
   "cell_type": "markdown",
   "id": "a2361c29",
   "metadata": {},
   "source": [
    "### How did global forest area change over time?"
   ]
  },
  {
   "cell_type": "code",
   "execution_count": 23,
   "id": "9706e729",
   "metadata": {},
   "outputs": [
    {
     "data": {
      "text/plain": [
       "<Axes: title={'center': 'Figure 2: Forest area (sq km) over time'}, xlabel='Year', ylabel='Forest area (sq km)'>"
      ]
     },
     "execution_count": 23,
     "metadata": {},
     "output_type": "execute_result"
    },
    {
     "data": {
      "image/png": "[encoded data removed]",
      "text/plain": [
       "<Figure size 1000x500 with 1 Axes>"
      ]
     },
     "metadata": {},
     "output_type": "display_data"
    }
   ],
   "source": [
    "# Lineplot to highlight the trend of forest area\n",
    "forests = df.groupby(by='year')['forest'].mean().reset_index()\n",
    "forests.plot.line(x='year',y='forest',color='#01753a', title='Figure 2: Forest area (sq km) over time', xlabel='Year',ylabel='Forest area (sq km)',figsize=(10,5))"
   ]
  },
  {
   "cell_type": "markdown",
   "id": "cdd90a0c",
   "metadata": {},
   "source": [
    "### How did global cornfield area change over time?"
   ]
  },
  {
   "cell_type": "code",
   "execution_count": 24,
   "id": "33d43007",
   "metadata": {
    "scrolled": false
   },
   "outputs": [
    {
     "data": {
      "text/plain": [
       "<Axes: title={'center': 'Figure 3: Cornfield area (sq km) over time'}, xlabel='Year', ylabel='Cornfield area (sq km)'>"
      ]
     },
     "execution_count": 24,
     "metadata": {},
     "output_type": "execute_result"
    },
    {
     "data": {
      "image/png": "[encoded data removed]",
      "text/plain": [
       "<Figure size 1000x500 with 1 Axes>"
      ]
     },
     "metadata": {},
     "output_type": "display_data"
    }
   ],
   "source": [
    "# Lineplot to highlight the trend of cornfield area\n",
    "corn_area = df.groupby(by='year')['corn'].mean().reset_index()\n",
    "corn_area.plot.line(x='year',y='corn',color='#ffe000', title='Figure 3: Cornfield area (sq km) over time', xlabel='Year',ylabel='Cornfield area (sq km)',figsize=(10,5))"
   ]
  },
  {
   "cell_type": "markdown",
   "id": "112989a4",
   "metadata": {},
   "source": [
    "<p style=\"font-family: 'Trebuchet', sans-serif; font-size:16px;text-align:justify;line-height: 1.6;\"> These two figures reveal a clear pattern: as forest areas have decreased over time, cornfield areas have grown. This suggests a potential link between the two, aligning with our hypothesis that corn expansion might be contributing to forest loss. While this doesn’t prove causation, it’s enough to prompt a closer look. Let’s see the actual correlation between these two variables. </p>"
   ]
  },
  {
   "cell_type": "code",
   "execution_count": 25,
   "id": "ea0c8a14",
   "metadata": {
    "scrolled": false
   },
   "outputs": [
    {
     "data": {
      "image/png": "[encoded data removed]",
      "text/plain": [
       "<Figure size 1000x600 with 1 Axes>"
      ]
     },
     "metadata": {},
     "output_type": "display_data"
    },
    {
     "name": "stdout",
     "output_type": "stream",
     "text": [
      "0.00\n"
     ]
    }
   ],
   "source": [
    "# Correlation coefficient\n",
    "corr, p_value = pearsonr(df['corn'], df['forest'])\n",
    "# Regression line for the correlation between the two key variables\n",
    "plt.figure(figsize=(10, 6))\n",
    "sns.regplot(x='corn',\n",
    "            y='forest',\n",
    "            data=df,\n",
    "            scatter_kws={'color': 'grey'},\n",
    "            line_kws={'color': 'blue'})\n",
    "# Labels\n",
    "plt.xlabel(\"Cornfield Area (sq km)\", fontdict={'fontsize': 12, 'fontname': 'Trebuchet MS'})\n",
    "plt.ylabel(\"Forest Area (sq km)\", fontdict={'fontsize': 12, 'fontname': 'Trebuchet MS'})\n",
    "plt.title(\"Figure 4: Relationship Between Cornfield area and Forest Area\", fontdict={'fontsize': 14, 'fontname': 'Trebuchet MS'})\n",
    "# Add the correlation coefficient to the plot\n",
    "plt.text(x=df['corn'].mean(),  # x-coordinate (adjust as needed)\n",
    "         y=df['forest'].max(),  # y-coordinate (adjust as needed)\n",
    "         s=f'Correlation: {corr:.2f}',  # Text to display\n",
    "         fontsize=12, color='red')\n",
    "\n",
    "# Show the plot\n",
    "plt.show()\n",
    "print(f\"{p_value:.2f}\")"
   ]
  },
  {
   "cell_type": "markdown",
   "id": "66c7dd58",
   "metadata": {},
   "source": [
    "<p style=\"font-family: 'Trebuchet', sans-serif; font-size:16px;text-align:justify;line-height: 1.6;\">The correlation coefficient of 0.36 between cornfield area and forest area presents an unexpected result. Instead of a negative relationship supporting our hypothesis—that corn expansion drives deforestation—we see a moderate positive correlation. This could suggest that cornfields and forests are often concentrated in the same regions, such as tropical areas, where both land types coexist. Alternatively, it raises a critical question: could our hypothesis be invalid? Perhaps corn expansion isn’t a primary driver of forest loss after all.</p>\n",
    "\n",
    "<p style=\"font-family: 'Trebuchet', sans-serif; font-size:16px;text-align:justify;line-height: 1.6;\"> This outcome may be influenced by confounding factors—variables that affect both cornfield area and forest area, potentially obscuring the true relationship. If these confounders aren’t properly accounted for, they could distort our understanding of the connection between corn expansion and deforestation. This leads us to our next stage, where we move beyond correlation and use causal methods that include them. Let’s proceed to test the true relationship between corn expansion and deforestation more rigorously.</p>"
   ]
  },
  {
   "cell_type": "markdown",
   "id": "81de42be",
   "metadata": {},
   "source": [
    "# 4 Growing the Shoot\n",
    "[Click here to go back to the table of content](#Table-of-Content)"
   ]
  },
  {
   "cell_type": "markdown",
   "id": "e67472b8",
   "metadata": {},
   "source": [
    "<img src=\"https://raw.githubusercontent.com/ZeliaDec/DataScience/main/Data/section4.png\" alt=\"Structure of the article\" width=\"150\">"
   ]
  },
  {
   "cell_type": "markdown",
   "id": "4c026746",
   "metadata": {},
   "source": [
    "## Building our statistical model 📈"
   ]
  },
  {
   "cell_type": "markdown",
   "id": "a62eacef",
   "metadata": {},
   "source": [
    "<p style=\"font-family: 'Trebuchet', sans-serif; font-size:16px;text-align:justify;line-height: 1.6;\">Now comes the real deal: statistics. We’ll use a method called Ordinary Least Squares (OLS) regression. Think of it as a tool that helps us quantify the relationship between two variables—in this case, cornfield area and forest area—while accounting for other factors that might influence this relationship. By including these additional variables, OLS allows us to isolate the effect of corn expansion, giving us a clearer picture of whether it’s playing a role in forest loss. The results of this analysis won’t just help us test our hypothesis; they’ll provide valuable insights into how agricultural practices impact forests, guiding policies and land management decisions to address deforestation more effectively. It’s like peeling back the layers to find the core of the issue.</p>"
   ]
  },
  {
   "cell_type": "markdown",
   "id": "372099dc",
   "metadata": {},
   "source": [
    "### OLS with control variables and fixed effects (Our baseline model)\n",
    "\n",
    "$$\n",
    "\\Large {\\text{Forest}_{it}} = \\beta_0 + \\beta_1 \\sqrt{\\text{Corn}_{it}} + \\beta_2^\\prime X_{it} + \\text{FE}_i + \\epsilon_{it}\n",
    "$$"
   ]
  },
  {
   "cell_type": "markdown",
   "id": "6965a97b",
   "metadata": {},
   "source": [
    "<p style=\"font-family: 'Trebuchet', sans-serif; font-size:16px;text-align:justify;line-height: 1.6;\"> The terms in our OLS model are:</p>\n",
    "<ul> <li style=\"font-family: 'Trebuchet', sans-serif; font-size:16px;text-align:justify;line-height: 1.6;\">\n",
    "    <b> Forest<sub>it</sub>:</b> This is our dependent variable. It refers to forest area in square kilometers in country i and year t </li> <li style=\"font-family: 'Trebuchet', sans-serif; font-size:16px;text-align:justify;line-height: 1.6;\"> <b> β<sub>0</sub>:</b> The intercept term. It represents the expected value of Forest<sub>it</sub> when all other variables are zero. Essentially, it captures the baseline forest area when no other factors are at play. </li> <li style=\"font-family: 'Trebuchet', sans-serif; font-size:16px;text-align:justify;line-height: 1.6;\"> <b> β<sub>1</sub>:</b> The coefficient β<sub>1</sub> measures the effect of the square root of cornfield area (Corn<sub>it</sub>) on Forest<sub>it</sub>. A negative β<sub>1</sub> would suggest that an increase in cornfield area corresponds to a decrease in forest area, supporting the hypothesis that corn expansion comes at the expense of forests. </li> <li style=\"font-family: 'Trebuchet', sans-serif; font-size:16px;text-align:justify;line-height: 1.6;\"> <b> √Corn<sub>it</sub>:</b> This is our variable of interest, the independent variable. It represents the square root of cornfield area in country i and year t. </li> <li style=\"font-family: 'Trebuchet', sans-serif; font-size:16px;text-align:justify;line-height: 1.6;\"> <b> β<sub>2</sub>′X<sub>it</sub>:</b> This accounts for the effects of control variables such as GDP, Temperature, and Cattle, which may also influence forest area. </li> <li style=\"font-family: 'Trebuchet', sans-serif; font-size:16px;text-align:justify;line-height: 1.6;\"> <b> FE<sub>i</sub>:</b> The country-specific fixed effect. This accounts for unobserved, time-invariant characteristics of country i that may influence forest area. For example, these fixed effects can capture geography, cultural and historical factors, and demographic.  It helps control for differences across countries that do not change over time. </li> <li style=\"font-family: 'Trebuchet', sans-serif; font-size:16px;text-align:justify;line-height: 1.6;\"> <b> ε<sub>it</sub>:</b> The error term. This captures all other unobserved factors influencing forest area for country <em>i</em> in year <em>t</em>. </li> </ul>\n",
    "<p style=\"font-family: 'Trebuchet', sans-serif; font-size:16px;text-align:justify;line-height: 1.6;\"> Let's look at our results !  "
   ]
  },
  {
   "cell_type": "code",
   "execution_count": 19,
   "id": "82f3ec25",
   "metadata": {},
   "outputs": [],
   "source": [
    "# No controls model\n",
    "est_fe_canned = PanelOLS.from_formula(\"forestM ~ 1 + sqrtcorn\",\n",
    "                            data=df.set_index([\"country\", \"year\"]))\n",
    "slr = est_fe_canned.fit(cov_type='clustered', cluster_entity=True)\n",
    "\n",
    "slr_resid = slr.resids\n",
    "slr_fit = slr.fitted_values\n",
    "slr_cov = slr.cov\n",
    "\n",
    "#print(slr.summary)"
   ]
  },
  {
   "cell_type": "code",
   "execution_count": 20,
   "id": "95264c43",
   "metadata": {},
   "outputs": [],
   "source": [
    "# All controls model\n",
    "est_fe_canned = PanelOLS.from_formula(\"forestM ~ 1 + sqrtcorn + sqrtgdp + Average_Temperature + cattleM\",\n",
    "                            data=df.set_index([\"country\", \"year\"]))\n",
    "mlr = est_fe_canned.fit(cov_type='clustered', cluster_entity=True)\n",
    "\n",
    "mlr_resid = mlr.resids\n",
    "mlr_fit = mlr.fitted_values\n",
    "mlr_cov = mlr.cov\n",
    "\n",
    "#print(mlr.summary)"
   ]
  },
  {
   "cell_type": "code",
   "execution_count": 22,
   "id": "99464db7",
   "metadata": {
    "scrolled": false
   },
   "outputs": [],
   "source": [
    "# All controls + country-specific fixed effects\n",
    "est_fe_canned = PanelOLS.from_formula(\"forest ~ 1 + sqrtcorn + sqrtgdp + Average_Temperature + cattleM + EntityEffects\",\n",
    "                            data=df.set_index([\"country\", \"year\"]))\n",
    "baseline = est_fe_canned.fit(cov_type='clustered', cluster_entity=True)\n",
    "\n",
    "fei_resid = baseline.resids\n",
    "fei_fit = baseline.fitted_values\n",
    "fei_cov = baseline.cov\n",
    "\n",
    "#print(baseline.summary)"
   ]
  },
  {
   "cell_type": "markdown",
   "id": "26c6fc3d",
   "metadata": {},
   "source": [
    "<img src=\"https://raw.githubusercontent.com/ZeliaDec/DataScience/main/Data/Table_1.png\" alt=\"Table 1\" width=\"800\">"
   ]
  },
  {
   "cell_type": "markdown",
   "id": "32ebda31",
   "metadata": {},
   "source": [
    "### Results of our baseline model"
   ]
  },
  {
   "cell_type": "markdown",
   "id": "422d6fb3",
   "metadata": {},
   "source": [
    "<p style=\"font-family: 'Trebuchet', sans-serif; font-size:16px;text-align:justify;line-height: 1.6;\">\n",
    "We tested how corn expansion affects forest area using three versions of our model: a simple one without controls, one with controls (like GDP, temperature, and cattle farming), and one that also includes country-specific fixed effects.\n",
    "<p style=\"font-family: 'Trebuchet', sans-serif; font-size:16px;text-align:justify;line-height: 1.6;\">\n",
    "In the simple model (no controls), the corn coefficient was large and positive, suggesting that corn expansion might be linked to more forest area. However, this result is likely misleading because it doesn’t account for other factors that influence both corn expansion and forest loss, like economic activity or livestock farming.\n",
    "<p style=\"font-family: 'Trebuchet', sans-serif; font-size:16px;text-align:justify;line-height: 1.6;\">\n",
    "Once we added controls like GDP, temperature, and cattle farming, the relationship between corn expansion and forest area became small, negative, and statistically insignificant. This means that once we accounted for these factors, corn expansion alone no longer seemed to have much of an impact on forests.\n",
    "<p style=\"font-family: 'Trebuchet', sans-serif; font-size:16px;text-align:justify;line-height: 1.6;\">\n",
    "Finally, when we introduced country-specific fixed effects—which control for unobserved, time-invariant differences between countries (like geography or policies)—the corn coefficient turned very negative but remained statistically insignificant. Fixed effects help us focus only on changes within each country over time, making the analysis more precise. However, the results suggest that the remaining relationship between corn and forest loss is weak and uncertain.\n",
    "<p style=\"font-family: 'Trebuchet', sans-serif; font-size:16px;text-align:justify;line-height: 1.6;\">\n",
    "Interestingly, while the fixed effects model improved the reliability of our results, the R-squared value dropped. R-squared measures how much of the variation in forest area the model can explain. Adding fixed effects removes variation between countries, so the overall explanatory power of the model decreases, even though it becomes more robust.\n",
    "<p style=\"font-family: 'Trebuchet', sans-serif; font-size:16px;text-align:justify;line-height: 1.6;\">\n",
    "In short, our results show that the relationship between corn expansion and forest loss weakens significantly when we account for other factors and country-specific characteristics. While the initial positive link disappears, the fixed effects model hints at a potential negative relationship that remains uncertain and requires further investigation."
   ]
  },
  {
   "cell_type": "markdown",
   "id": "b77e157a",
   "metadata": {},
   "source": [
    "### Should we add time-specific fixed effects?"
   ]
  },
  {
   "cell_type": "markdown",
   "id": "e0036ae3",
   "metadata": {},
   "source": [
    "<p style=\"font-family: 'Trebuchet', sans-serif; font-size:16px;text-align:justify;line-height: 1.6;\">\n",
    "Technological progress has significantly influenced corn production efficiency over the years. <a href=\"https://doi.org/10.1371/journal.pone.0254423\"> Wang and Hu (2021)</a>, while analyzing corn production from 2012 to 2019, found that technological advancements improved production efficiency, with technical efficiency stabilizing above 90% by 2015.\n",
    "<p style=\"font-family: 'Trebuchet', sans-serif; font-size:16px;text-align:justify;line-height: 1.6;\">\n",
    "By including time fixed effects, we can better account for such industry-wide changes that occur over time but are consistent across countries, ensuring a more accurate assessment of the relationship between corn expansion and deforestation.\n",
    "<p style=\"font-family: 'Trebuchet', sans-serif; font-size:16px;text-align:justify;line-height: 1.6;\"> \n",
    "This means that adding time fixed effects can allow us to control for temporal factors like technological advancements, leading to a more precise understanding of how corn expansion impacts forest areas."
   ]
  },
  {
   "cell_type": "markdown",
   "id": "15481fa3",
   "metadata": {},
   "source": [
    "# 5 Strengthening the Trunk\n",
    "[Click here to go back to the table of content](#Table-of-Content)"
   ]
  },
  {
   "cell_type": "markdown",
   "id": "4987c16c",
   "metadata": {},
   "source": [
    "<img src=\"https://raw.githubusercontent.com/ZeliaDec/DataScience/main/Data/section5.png\" alt=\"Structure of the article\" width=\"130\">"
   ]
  },
  {
   "cell_type": "markdown",
   "id": "644cf9be",
   "metadata": {},
   "source": [
    "## How robust is the model? Tackling endogeneity 🦾"
   ]
  },
  {
   "cell_type": "markdown",
   "id": "24458be7",
   "metadata": {},
   "source": [
    "<p style=\"font-family: 'Trebuchet', sans-serif; font-size:16px;text-align:justify;line-height: 1.6;\"> We’ve run our panel OLS regression and drawn initial conclusions, but how confident can we be that corn expansion is truly driving deforestation? This brings us to the problem of endogeneity, where bias creeps into our model because of  reverse causality. Reverse causality means the relationship might run the other way—what if deforestation, by opening up land, is actually driving corn expansion instead? </p>\n",
    "<p style=\"font-family: 'Trebuchet', sans-serif; font-size:16px;text-align:justify;line-height: 1.6;\"> To address this issue, we’ll introduce a technique called lagging our independent variable. By using the value of the square root of cornfield area from the previous year instead of the current year, we can reduce the risk of reverse causality. This approach ensures that any observed changes in forest area are more likely to follow from corn expansion rather than the other way around. Lagging allows us to capture the delayed effects of agricultural expansion on forests, making our analysis more robust and closer to identifying the true causal relationship.</p>"
   ]
  },
  {
   "cell_type": "markdown",
   "id": "21bcad5f",
   "metadata": {},
   "source": [
    "<p style=\"font-family: 'Trebuchet', sans-serif; font-size:16px;text-align:justify;line-height: 1.6;\"> It means that now our regression model is:</p>"
   ]
  },
  {
   "cell_type": "markdown",
   "id": "6613046c",
   "metadata": {},
   "source": [
    "$$\n",
    "\\Large {\\text{Forest}_{it}} = \\beta_0 + \\beta_1 \\sqrt{\\text{Corn}_{i(t-1)}} + \\beta_2^\\prime X_{it} + \\text{FE}_i + \\text{FE}_t + \\epsilon_{it}\n",
    "$$"
   ]
  },
  {
   "cell_type": "markdown",
   "id": "303022b4",
   "metadata": {},
   "source": [
    "<p style=\"font-family: 'Trebuchet', sans-serif; font-size:16px;text-align:justify;line-height: 1.6;\">Let’s see how this adjustment strengthens our results!"
   ]
  },
  {
   "cell_type": "code",
   "execution_count": 8,
   "id": "1b2a042e",
   "metadata": {},
   "outputs": [
    {
     "name": "stdout",
     "output_type": "stream",
     "text": [
      "                          PanelOLS Estimation Summary                           \n",
      "================================================================================\n",
      "Dep. Variable:                 forest   R-squared:                        0.0182\n",
      "Estimator:                   PanelOLS   R-squared (Between):             -0.0066\n",
      "No. Observations:                1694   R-squared (Within):               0.0317\n",
      "Date:                Wed, Dec 18 2024   R-squared (Overall):             -0.0066\n",
      "Time:                        10:42:04   Log-likelihood                -1.793e+04\n",
      "Cov. Estimator:             Clustered                                           \n",
      "                                        F-statistic:                      7.3695\n",
      "Entities:                          77   P-value                           0.0000\n",
      "Avg Obs:                       22.000   Distribution:                  F(4,1592)\n",
      "Min Obs:                       22.000                                           \n",
      "Max Obs:                       22.000   F-statistic (robust):             0.2942\n",
      "                                        P-value                           0.8819\n",
      "Time periods:                      22   Distribution:                  F(4,1592)\n",
      "Avg Obs:                       77.000                                           \n",
      "Min Obs:                       77.000                                           \n",
      "Max Obs:                       77.000                                           \n",
      "                                                                                \n",
      "                                  Parameter Estimates                                  \n",
      "=======================================================================================\n",
      "                     Parameter  Std. Err.     T-stat    P-value    Lower CI    Upper CI\n",
      "---------------------------------------------------------------------------------------\n",
      "Intercept            4.365e+05  2.567e+04     17.000     0.0000   3.861e+05   4.868e+05\n",
      "sqrtcorn               -85.808     84.881    -1.0109     0.3122     -252.30      80.683\n",
      "sqrtgdp                -0.2938     10.981    -0.0267     0.9787     -21.833      21.246\n",
      "Average_Temperature    -710.13     934.92    -0.7596     0.4476     -2543.9      1123.7\n",
      "cattleM                -0.6589     2.9886    -0.2205     0.8255     -6.5209      5.2031\n",
      "=======================================================================================\n",
      "\n",
      "F-test for Poolability: 2.033e+05\n",
      "P-value: 0.0000\n",
      "Distribution: F(97,1592)\n",
      "\n",
      "Included effects: Entity, Time\n"
     ]
    }
   ],
   "source": [
    "fe_time_effects = PanelOLS.from_formula(\"forest ~ 1 + sqrtcorn + sqrtgdp + Average_Temperature + cattleM + EntityEffects + TimeEffects\",\n",
    "                            data=df.set_index([\"country\", \"year\"]))\n",
    "timeFE = fe_time_effects.fit(cov_type='clustered', cluster_entity=True)\n",
    "\n",
    "fet_resid = timeFE.resids\n",
    "fet_fit = timeFE.fitted_values\n",
    "fet_cov = timeFE.cov\n",
    "\n",
    "print(timeFE.summary)"
   ]
  },
  {
   "cell_type": "code",
   "execution_count": 9,
   "id": "7f00a38d",
   "metadata": {},
   "outputs": [
    {
     "name": "stdout",
     "output_type": "stream",
     "text": [
      "                          PanelOLS Estimation Summary                           \n",
      "================================================================================\n",
      "Dep. Variable:                 forest   R-squared:                        0.0306\n",
      "Estimator:                   PanelOLS   R-squared (Between):             -0.0100\n",
      "No. Observations:                1617   R-squared (Within):               0.0456\n",
      "Date:                Wed, Dec 18 2024   R-squared (Overall):             -0.0100\n",
      "Time:                        10:42:04   Log-likelihood                  -1.7e+04\n",
      "Cov. Estimator:             Clustered                                           \n",
      "                                        F-statistic:                      11.973\n",
      "Entities:                          77   P-value                           0.0000\n",
      "Avg Obs:                       21.000   Distribution:                  F(4,1516)\n",
      "Min Obs:                       21.000                                           \n",
      "Max Obs:                       21.000   F-statistic (robust):             0.4251\n",
      "                                        P-value                           0.7906\n",
      "Time periods:                      21   Distribution:                  F(4,1516)\n",
      "Avg Obs:                       77.000                                           \n",
      "Min Obs:                       77.000                                           \n",
      "Max Obs:                       77.000                                           \n",
      "                                                                                \n",
      "                                  Parameter Estimates                                  \n",
      "=======================================================================================\n",
      "                     Parameter  Std. Err.     T-stat    P-value    Lower CI    Upper CI\n",
      "---------------------------------------------------------------------------------------\n",
      "Intercept            4.441e+05  3.151e+04     14.096     0.0000   3.823e+05   5.059e+05\n",
      "sqrtcorn_lag1          -89.045     74.701    -1.1920     0.2334     -235.57      57.483\n",
      "sqrtgdp                 0.1824     11.158     0.0163     0.9870     -21.704      22.069\n",
      "Average_Temperature    -997.99     1281.1    -0.7790     0.4361     -3510.9      1514.9\n",
      "cattleM                -1.4286     3.1374    -0.4554     0.6489     -7.5828      4.7255\n",
      "=======================================================================================\n",
      "\n",
      "F-test for Poolability: 2.264e+05\n",
      "P-value: 0.0000\n",
      "Distribution: F(96,1516)\n",
      "\n",
      "Included effects: Entity, Time\n"
     ]
    }
   ],
   "source": [
    "# Create the lagged variable for logcorn within each country\n",
    "df['sqrtcorn_lag1'] = df.groupby('country', observed=True)['sqrtcorn'].shift(-1)\n",
    "\n",
    "# Drop 2021 rows\n",
    "df.dropna(inplace=True)\n",
    "df.head(22)\n",
    "\n",
    "est_fe_canned = PanelOLS.from_formula(\"forest ~ 1 + sqrtcorn_lag1 + sqrtgdp + Average_Temperature + cattleM + EntityEffects + TimeEffects\",\n",
    "                            data=df.set_index([\"country\", \"year\"]))\n",
    "lagFE = est_fe_canned.fit(cov_type='clustered', cluster_entity=True)\n",
    "\n",
    "felag_resid = lagFE.resids\n",
    "felag_fit = lagFE.fitted_values\n",
    "felag_cov = lagFE.cov\n",
    "\n",
    "print(lagFE.summary)"
   ]
  },
  {
   "cell_type": "code",
   "execution_count": 10,
   "id": "d07a7fda",
   "metadata": {},
   "outputs": [
    {
     "name": "stdout",
     "output_type": "stream",
     "text": [
      "77\n"
     ]
    }
   ],
   "source": [
    "df=df.dropna()\n",
    "df.isnull().sum()\n",
    "print(len(df['country'].unique()))"
   ]
  },
  {
   "cell_type": "markdown",
   "id": "149760d4",
   "metadata": {},
   "source": [
    "<p style=\"font-family: 'Trebuchet', sans-serif; font-size:16px;text-align:justify;line-height: 1.6;\"> The results from this new model ... </p>\n",
    "<p style=\"font-family: 'Trebuchet', sans-serif; font-size:16px;text-align:justify;line-height: 1.6;\"> This refined model takes us closer to identifying a causal relationship between corn expansion and forest loss. To build on this, we’ll explore how the availability of non-forested land might amplify or mitigate this effect, helping us understand where and why corn expansion has the most significant impact on forests. </p>"
   ]
  },
  {
   "cell_type": "markdown",
   "id": "b677f99d",
   "metadata": {},
   "source": [
    "# 6 Branching Out\n",
    "[Click here to go back to the table of content](#Table-of-Content)"
   ]
  },
  {
   "cell_type": "markdown",
   "id": "6b7894a3",
   "metadata": {},
   "source": [
    "<img src=\"https://raw.githubusercontent.com/ZeliaDec/DataScience/main/Data/section6.png\" alt=\"Structure of the article\" width=\"125\">"
   ]
  },
  {
   "cell_type": "markdown",
   "id": "bf84ba85",
   "metadata": {},
   "source": [
    "## How uniform is the relationship across our database? Tackling heterogeneity 🔁"
   ]
  },
  {
   "cell_type": "markdown",
   "id": "c5595868",
   "metadata": {},
   "source": [
    "<p style=\"font-family: 'Trebuchet', sans-serif; font-size:16px;text-align:justify;line-height: 1.6;\"> So far, we’ve assumed that the relationship between corn expansion and deforestation is consistent across all countries in our dataset. But is that really the case? Some regions might feel this pressure more acutely than others, depending on the availability of non-forested land for agricultural expansion. For instance, in countries where little suitable land is available for corn expansion, forests may be the only option, potentially leading to a stronger relationship between corn expansion and deforestation.</p> \n",
    "\n",
    "<p style=\"font-family: 'Trebuchet', sans-serif; font-size:16px;text-align:justify;line-height: 1.6;\">\n",
    "This is another critical aspect of causality that we need to address. If the relationship varies significantly based on land availability, it could indicate that deforestation is context-dependent rather than a universal outcome of corn expansion. The country-specific fixed effects that are included in our baseline model cannot address this issue alone. This is why we’ll analyze the heterogeneity in our results by using a variable that we described earlier in this study: suitable land available for corn expansion other than forests. This serves as a proxy for the constraints countries face when expanding their agricultural land. While an ideal measure would be the exact proximity between cornfields and forests, but like we said previously, this is difficult to quantify. Nevertheless, our proxy still allows us to test whether the relationship between corn expansion and deforestation is stronger in places where forests are the primary land available for new crops. Let’s dive in to see if this pattern holds!  </p>"
   ]
  },
  {
   "cell_type": "code",
   "execution_count": 11,
   "id": "3d8959cd",
   "metadata": {},
   "outputs": [
    {
     "name": "stdout",
     "output_type": "stream",
     "text": [
      "                          PanelOLS Estimation Summary                           \n",
      "================================================================================\n",
      "Dep. Variable:                forestM   R-squared:                        0.0315\n",
      "Estimator:                   PanelOLS   R-squared (Between):             -0.0110\n",
      "No. Observations:                1617   R-squared (Within):               0.0463\n",
      "Date:                Wed, Dec 18 2024   R-squared (Overall):             -0.0110\n",
      "Time:                        10:42:04   Log-likelihood                   -5827.0\n",
      "Cov. Estimator:             Clustered                                           \n",
      "                                        F-statistic:                      9.8392\n",
      "Entities:                          77   P-value                           0.0000\n",
      "Avg Obs:                       21.000   Distribution:                  F(5,1515)\n",
      "Min Obs:                       21.000                                           \n",
      "Max Obs:                       21.000   F-statistic (robust):             0.5241\n",
      "                                        P-value                           0.7582\n",
      "Time periods:                      21   Distribution:                  F(5,1515)\n",
      "Avg Obs:                       77.000                                           \n",
      "Min Obs:                       77.000                                           \n",
      "Max Obs:                       77.000                                           \n",
      "                                                                                \n",
      "                                  Parameter Estimates                                  \n",
      "=======================================================================================\n",
      "                     Parameter  Std. Err.     T-stat    P-value    Lower CI    Upper CI\n",
      "---------------------------------------------------------------------------------------\n",
      "Intercept               443.69     31.090     14.271     0.0000      382.71      504.67\n",
      "sqrtcorn_lag1          -0.0581     0.0422    -1.3769     0.1688     -0.1410      0.0247\n",
      "sqrtgdp                 0.0007     0.0112     0.0664     0.9471     -0.0212      0.0227\n",
      "Average_Temperature    -0.9934     1.2719    -0.7811     0.4349     -3.4883      1.5015\n",
      "cattleM                -0.0014     0.0031    -0.4604     0.6453     -0.0076      0.0047\n",
      "hetero_x_sqrtcorn      -0.0416     0.0638    -0.6524     0.5142     -0.1669      0.0836\n",
      "=======================================================================================\n",
      "\n",
      "F-test for Poolability: 2.256e+05\n",
      "P-value: 0.0000\n",
      "Distribution: F(96,1515)\n",
      "\n",
      "Included effects: Entity, Time\n"
     ]
    }
   ],
   "source": [
    "# Create the dummy variable\n",
    "df['hetero']= df['suitability'].apply(lambda val: 1 if (val>df['suitability'].median()) else 0)\n",
    "\n",
    "# Create the interaction term between the dummy variable and the square root of cornfield area\n",
    "df['hetero_x_sqrtcorn'] = df['sqrtcorn']*df['hetero']\n",
    "\n",
    "# Create the regression \n",
    "est_fe_canned = PanelOLS.from_formula(\"forestM ~ 1 + sqrtcorn_lag1 + sqrtgdp + Average_Temperature + cattleM + hetero_x_sqrtcorn + EntityEffects + TimeEffects\",\n",
    "                            data=df.set_index([\"country\", \"year\"]))\n",
    "feLagHetero = est_fe_canned.fit(cov_type='clustered', cluster_entity=True)\n",
    "\n",
    "felaghetero_resid = feLagHetero.resids\n",
    "felaghetero_fit = feLagHetero.fitted_values\n",
    "felaghetero_cov = feLagHetero.cov\n",
    "\n",
    "print(feLagHetero.summary)"
   ]
  },
  {
   "cell_type": "markdown",
   "id": "f3480705",
   "metadata": {},
   "source": [
    "# 7 Growing the Foliage\n",
    "[Click here to go back to the table of content](#Table-of-Content)"
   ]
  },
  {
   "cell_type": "markdown",
   "id": "f051a253",
   "metadata": {},
   "source": [
    "<img src=\"https://raw.githubusercontent.com/ZeliaDec/DataScience/main/Data/section7.png\" alt=\"Structure of the article\" width=\"125\">"
   ]
  },
  {
   "cell_type": "markdown",
   "id": "f5207fce",
   "metadata": {},
   "source": [
    "## Discussion : How should we interpret our results? 🕵️"
   ]
  },
  {
   "cell_type": "markdown",
   "id": "c4db85b9",
   "metadata": {},
   "source": [
    "# 8 Reaching the Canopy \n",
    "[Click here to go back to the table of content](#Table-of-Content)"
   ]
  },
  {
   "cell_type": "markdown",
   "id": "29b5655d",
   "metadata": {},
   "source": [
    "<img src=\"https://raw.githubusercontent.com/ZeliaDec/DataScience/main/Data/section8.png\" alt=\"Structure of the article\" width=\"125\">"
   ]
  },
  {
   "cell_type": "markdown",
   "id": "4c263cff",
   "metadata": {},
   "source": [
    "## What are the limitations of our study and its potential extensions? 📝🧩"
   ]
  },
  {
   "cell_type": "markdown",
   "id": "5b7e5ecc",
   "metadata": {},
   "source": [
    "### Limitations of our data and the choice of our variables"
   ]
  },
  {
   "cell_type": "markdown",
   "id": "d45bf0c2",
   "metadata": {},
   "source": [
    "<p style=\"font-family: 'Trebuchet', sans-serif; font-size:16px;text-align:justify;line-height: 1.6;\"> As we made it clear in Section 3, the relationship between corn expansion and deforestation is complex and shaped by many factors. Therefore it is challenging to determine which ones to include in order to build the right statistical model. We initially tested several variables beyond GDP, temperature, and cattle farming—such as rainfall, rural population, corn prices, and suitable land available for corn expansion other than forests— but we found their impact on deforestation to be negligible. Their regression coefficients were close to zero, meaning they had little to no influence. Moreover, removing them didn’t change the effects of the retained variables on deforestation, so we decided to exclude them from our final model. </p>\n",
    "<p style=\"font-family: 'Trebuchet', sans-serif; font-size:16px;text-align:justify;line-height: 1.6;\"> But still, no model is perfect. There’s always the possibility of omitted variable bias, like the one we described in our <a href=\"#Key-considerations\"> key considerations</a> in Section 3, which is about the non-inclusion of anti-deforestation policies. There is also the bias that we might have with our imeperfect heterogeneity variable. </p>"
   ]
  },
  {
   "cell_type": "markdown",
   "id": "dc7efda4",
   "metadata": {},
   "source": [
    "# Appendix"
   ]
  }
 ],
 "metadata": {
  "kernelspec": {
   "display_name": "Python 3 (ipykernel)",
   "language": "python",
   "name": "python3"
  },
  "language_info": {
   "codemirror_mode": {
    "name": "ipython",
    "version": 3
   },
   "file_extension": ".py",
   "mimetype": "text/x-python",
   "name": "python",
   "nbconvert_exporter": "python",
   "pygments_lexer": "ipython3",
   "version": "3.11.5"
  },
  "toc": {
   "base_numbering": 1,
   "nav_menu": {},
   "number_sections": false,
   "sideBar": true,
   "skip_h1_title": true,
   "title_cell": "Table of Contents",
   "title_sidebar": "Contents",
   "toc_cell": false,
   "toc_position": {
    "height": "calc(100% - 180px)",
    "left": "10px",
    "top": "150px",
    "width": "165px"
   },
   "toc_section_display": true,
   "toc_window_display": true
  }
 },
 "nbformat": 4,
 "nbformat_minor": 5
}
