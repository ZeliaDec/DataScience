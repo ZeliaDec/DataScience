{
 "cells": [
  {
   "cell_type": "markdown",
   "id": "7111a67d",
   "metadata": {},
   "source": [
    "<link href=\"https://fonts.googleapis.com/css2?family=Montserrat:wght@100..900&display=swap\" rel=\"stylesheet\">\n",
    "\n",
    "<h1 style=\"font-family: 'Montserrat', sans-serif; font-size:40px; color:#01753a; text-align: center;\">\n",
    "    Understanding the Relationship between Corn Expansion and Deforestation\n",
    "</h1>\n",
    "<p style=\"font-family: 'Trebuchet', sans-serif; font-size:12px;text-align:right\"> December 2024 </p>\n",
    "<hr>\n",
    "<p style=\"font-family: 'Trebuchet', sans-serif; font-size:16px;\">Nadège Baertschi, Zélia Décaillet, Simon Dutruy, Mert Ülgüner</p>"
   ]
  },
  {
   "cell_type": "markdown",
   "id": "903159d8",
   "metadata": {},
   "source": [
    "<img src=\"https://raw.githubusercontent.com/ZeliaDec/DataScience/main/Data/Lifecycle_study.png\" alt=\"Structure of the article\" width=\"1000\">"
   ]
  },
  {
   "cell_type": "markdown",
   "id": "d3407ff7",
   "metadata": {},
   "source": [
    "<p style=\"font-family: 'Trebuchet', sans-serif; font-size:16px;text-align:justify;line-height: 1.6;\">To guide you through our research, we’ve structured the study like the growth of a tree, as shown above. Each stage represents a key step in our journey. We've also created this table of content to help you navigate: </p>"
   ]
  },
  {
   "cell_type": "markdown",
   "id": "38beddf5",
   "metadata": {},
   "source": [
    "# Table of Content\n",
    "1. [Why does this study matter?](#1-Watering-the-Soil)\n",
    "2. [What is the data we are working with?](#2-Planting-the-Seed)\n",
    "3. [Initial insights : what does the data reveal?](#3-Breaking-Ground)\n",
    "4. [Building the statistical model](#4-Growing-the-Shoot)\n",
    "5. [How robust is the model? Tackling endogeneity](#5-Strenghtening-the-Trunk)\n",
    "6. [How uniform is the relationship across our database? Tackling heterogeneity](#6-Branching-Out)\n",
    "7. [Discussion: How should we interpret our results?](#7-Growing-the-Foliage)\n",
    "8. [What are the limitations of our study and its potential extensions?](#8-Reaching-the-Canopy)"
   ]
  },
  {
   "cell_type": "markdown",
   "id": "9b0427ad",
   "metadata": {},
   "source": [
    "# 1 Watering the Soil \n",
    "[Click here to go back to the table of content](#Table-of-Content)\n",
    "## Why does this study matter? 🧐"
   ]
  },
  {
   "cell_type": "markdown",
   "id": "0f5d35cb",
   "metadata": {},
   "source": [
    "<div style=\"background-color: #deefbb;color:#000000; padding: 10px; text-align:center;border-radius: 5px;font-family: 'Trebuchet', bold, sans-serif; font-size:14px;\">\n",
    "    <b>Did you know that the annual rate of deforestation in 2022 was equivalent to deforesting 15 football (soccer) fields per minute? </b> <p style=\"font-family: 'Trebuchet', sans-serif; font-size:12px;text-align:right\">(State of climate action 2023)</p>\n",
    "</div>\n",
    " \n",
    "<p style=\"font-family: 'Trebuchet', sans-serif; font-size:16px;text-align:justify;line-height: 1.6;\"> When we talk about climate change, forests often come up as both part of the solution and part of the problem. Known as “carbon sinks,” they play a crucial role in absorbing and storing carbon dioxide, which helps regulate the planet’s atmosphere. Beyond their environmental importance, forests are also home to an incredible variety of life. But when forests are destroyed, the carbon they store is released back into the air, and this contributes to global emissions. <b>Each year, forest loss releases nearly 5 billion tons of carbon dioxide</b>, which is equivalent to around 10% of all human-caused emissions (Gibbs et al., 2018). </p>\n",
    "\n",
    "<p style=\"font-family: 'Trebuchet', sans-serif; font-size:16px;text-align:justify;line-height: 1.6;\"> <b>Deforestation is, therefore, a double-edged sword in our fight against climate change.</b> Not only does it reduce the ability of forests to absorb greenhouse gases, but it also becomes a direct source of emissions, speeding up global warming. So, what’s causing this destruction? </p>\n",
    "\n",
    "<p style=\"font-family: 'Trebuchet', sans-serif; font-size:16px;text-align:justify;line-height: 1.6;\"> <b>Agriculture is by far the biggest culprit</b>. At least <b>three-quarters</b> of tropical deforestation is tied to agricultural expansion (Ritchie, 2021). While much attention has been given to beef and palm oil as contributors to deforestation—there’s growing awareness of the environmental impact of palm oil, and younger generations are starting to move away from meat and animal-based products (Salehi et al., 2023). This shift raises an important question: <b>could other agricultural commodities become more significant drivers of land-use change in the future?</b> </p>\n",
    "\n",
    "<p style=\"font-family: 'Trebuchet', sans-serif; font-size:16px;text-align:justify;line-height: 1.6;\"> <b>Cereals might be next in line.</b> Among them, maize, or corn, stands out. <b>Corn is the world’s most widely produced cereal</b>, with nearly 1.2 billion tonnes grown in 2023, and its production has increased by 97% since 2000—faster than any other top cereal (FAO, 2023). Its uses go far <b>beyond food</b>, extending to <b>biofuels and animal feed</b>, which makes it a versatile and highly demanded crop. With its rapid growth and global importance, corn is a crop worth studying in the context of deforestation. <b>Could this staple cereal be playing a bigger role in forest loss than we realize?</b> That’s the question this study aims to explore. </p>"
   ]
  },
  {
   "cell_type": "markdown",
   "id": "bea2660e",
   "metadata": {},
   "source": [
    "### Our hypothesis\n",
    "<p style=\"font-family: 'Trebuchet', sans-serif; font-size:16px;text-align:justify;line-height: 1.6;\"> We assume that corn expansion is sometimes done at the expense of forests based on factors such as suitability and economic incentives: <ul> <li style=\"font-family: 'Trebuchet', sans-serif; font-size:16px;text-align:justify;line-height: 1.6;\"> <b> Land suitability:</b> Corn thrives in tropical climates, making regions like the Amazon and Central America prime targets for cultivation. The expansion of corn farming in these areas often leads to the clearing of forests to create arable land, resulting in significant environmental impacts. For example, in Brazil's Cerrado, the expansion of corn farming has contributed to substantial deforestation, because the Cerrado's flat terrain and fertile soils make it attractive for large-scale agriculture (Hillsdon, 2024).</li> <li style=\"font-family: 'Trebuchet', sans-serif; font-size:16px;text-align:justify;line-height: 1.6;\"> <b>"
   ]
  },
  {
   "cell_type": "code",
   "execution_count": null,
   "id": "e501de84",
   "metadata": {},
   "outputs": [],
   "source": []
  },
  {
   "cell_type": "markdown",
   "id": "9027ded3",
   "metadata": {},
   "source": [
    "# 2 Planting the Seed\n",
    "[Click here to go back to the table of content](#Table-of-Content)\n",
    "## What is the data that we are working with? 🗃️"
   ]
  },
  {
   "cell_type": "markdown",
   "id": "3789580c",
   "metadata": {},
   "source": [
    "<p style=\"font-family: 'Trebuchet', sans-serif; font-size:16px;text-align:justify;line-height: 1.6;\"> Before jumping into the beautiful realm of statistics, we must gather and understand the data that we need. </p>\n",
    "<p style=\"font-family: 'Trebuchet', sans-serif; font-size:16px;text-align:justify;line-height: 1.6;\"> In this study, our two key numbers are: the size of cornfields and the size of forests, both measured in square kilometers. To analyze the relationship between them, we’ll use a mathematical transformation called a \"logarithm,\" which helps us interpret the results in terms of percentage changes. This means we’re looking at how a percentage change in the size of cornfields relates to a percentage change in the size of forests. Cornfield size will be our main factor of interest, and forest size will represent the outcome we’re trying to understand. </p>\n",
    "\n",
    "<p style=\"font-family: 'Trebuchet', sans-serif; font-size:16px;text-align:justify;line-height: 1.6;\"> However, we also need to consider other factors—called control variables—to ensure we’re isolating the specific impact of corn expansion on deforestation. These controls help us account for other influences that might affect the relationship, so we can focus on the role corn plays more accurately. Throughout our analysis, we will use three existing research papers,  to help us identify the other variables Our analysis builds on three existing research papers. They all highlight the central role of agriculture in their exploration of deforestation drivers. \n",
    "    we will strenghten it by covering 76 countries across diverse governance, climatic, and socio-economic contexts, offering a global perspective on the relationship between cornfield expansion and deforestation.\n",
    "\n",
    "Additionally, the study leverages a 21-year time series (2000–2021), enabling an in-depth temporal analysis that captures long-term trends and variations in land-use dynamics. By applying a fixed-effects regression model, the study isolates the causal effects of cornfield expansion on deforestation while accounting for unobserved country-specific characteristics.\n",
    "\n",
    "The inclusion of key confounders—corn price, average temperature (ΔTΔT), rainfall, GDP, and corruption—enhances the study's analytical rigor. These variables capture critical socio-economic and environmental factors influencing deforestation. For instance, corn price reflects market dynamics that drive agricultural expansion, while rainfall and temperature variability are key determinants of crop suitability and productivity. GDP serves as a proxy for economic development, which can impact deforestation through infrastructure expansion or increased agricultural demand. Corruption, measured via the Bayesian Corruption Indicator, addresses the role of governance in mediating deforestation, highlighting the importance of institutional quality.\n",
    "\n",
    "This study’s focus on corn—a staple crop central to global food security—underscores the urgency of understanding the trade-offs between agricultural intensification and forest conservation. By examining these dynamics across a broad geographical and temporal scope, the research contributes to ongoing debates on sustainable land use and environmental policy, particularly in the context of climate change and biodiversity loss.\n",
    "\n",
    "In summary, this research provides a robust and comprehensive analysis of the causal relationship between cornfield expansion and deforestation, integrating key confounders within a global framework. This approach enhances the understanding of land-use dynamics and informs policy strategies aimed at balancing food security with forest conservation."
   ]
  },
  {
   "cell_type": "markdown",
   "id": "8de1c84e",
   "metadata": {},
   "source": [
    "### Database\n",
    "\n",
    "<p style=\"font-family: 'Trebuchet', sans-serif; font-size:16px;text-align:justify;line-height: 1.6;\"> <b> Data transformation:</b> "
   ]
  },
  {
   "cell_type": "code",
   "execution_count": null,
   "id": "3d148ac6",
   "metadata": {},
   "outputs": [],
   "source": [
    "filepath = 'https://raw.githubusercontent.com/ZeliaDec/DataScience/main/Data/'"
   ]
  }
 ],
 "metadata": {
  "kernelspec": {
   "display_name": "Python 3 (ipykernel)",
   "language": "python",
   "name": "python3"
  },
  "language_info": {
   "codemirror_mode": {
    "name": "ipython",
    "version": 3
   },
   "file_extension": ".py",
   "mimetype": "text/x-python",
   "name": "python",
   "nbconvert_exporter": "python",
   "pygments_lexer": "ipython3",
   "version": "3.11.5"
  }
 },
 "nbformat": 4,
 "nbformat_minor": 5
}
