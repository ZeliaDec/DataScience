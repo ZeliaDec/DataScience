{
 "cells": [
  {
   "cell_type": "code",
   "execution_count": 263,
   "metadata": {},
   "outputs": [],
   "source": [
    "import pandas as pd\n",
    "import re\n",
    "import matplotlib.pyplot as plt\n",
    "import seaborn as sns\n",
    "import wbdata\n",
    "import numpy as np\n",
    "import pycountry\n",
    "import plotly.express as px\n",
    "import bokeh.io\n",
    "import bokeh.models\n",
    "import bokeh.plotting\n",
    "import statsmodels.api as sm\n",
    "from scipy import stats\n",
    "import powerlaw"
   ]
  },
  {
   "cell_type": "markdown",
   "metadata": {},
   "source": [
    "# **Deforestation Data**"
   ]
  },
  {
   "cell_type": "code",
   "execution_count": 264,
   "metadata": {},
   "outputs": [
    {
     "data": {
      "text/html": [
       "<div>\n",
       "<style scoped>\n",
       "    .dataframe tbody tr th:only-of-type {\n",
       "        vertical-align: middle;\n",
       "    }\n",
       "\n",
       "    .dataframe tbody tr th {\n",
       "        vertical-align: top;\n",
       "    }\n",
       "\n",
       "    .dataframe thead th {\n",
       "        text-align: right;\n",
       "    }\n",
       "</style>\n",
       "<table border=\"1\" class=\"dataframe\">\n",
       "  <thead>\n",
       "    <tr style=\"text-align: right;\">\n",
       "      <th></th>\n",
       "      <th>Country Name</th>\n",
       "      <th>Country Code</th>\n",
       "      <th>Indicator Name</th>\n",
       "      <th>Indicator Code</th>\n",
       "      <th>1960</th>\n",
       "      <th>1961</th>\n",
       "      <th>1962</th>\n",
       "      <th>1963</th>\n",
       "      <th>1964</th>\n",
       "      <th>1965</th>\n",
       "      <th>...</th>\n",
       "      <th>2014</th>\n",
       "      <th>2015</th>\n",
       "      <th>2016</th>\n",
       "      <th>2017</th>\n",
       "      <th>2018</th>\n",
       "      <th>2019</th>\n",
       "      <th>2020</th>\n",
       "      <th>2021</th>\n",
       "      <th>2022</th>\n",
       "      <th>2023</th>\n",
       "    </tr>\n",
       "  </thead>\n",
       "  <tbody>\n",
       "    <tr>\n",
       "      <th>0</th>\n",
       "      <td>Aruba</td>\n",
       "      <td>ABW</td>\n",
       "      <td>Forest area (% of land area)</td>\n",
       "      <td>AG.LND.FRST.ZS</td>\n",
       "      <td>NaN</td>\n",
       "      <td>NaN</td>\n",
       "      <td>NaN</td>\n",
       "      <td>NaN</td>\n",
       "      <td>NaN</td>\n",
       "      <td>NaN</td>\n",
       "      <td>...</td>\n",
       "      <td>2.333333</td>\n",
       "      <td>2.333333</td>\n",
       "      <td>2.333333</td>\n",
       "      <td>2.333333</td>\n",
       "      <td>2.333333</td>\n",
       "      <td>2.333333</td>\n",
       "      <td>2.333333</td>\n",
       "      <td>2.333333</td>\n",
       "      <td>NaN</td>\n",
       "      <td>NaN</td>\n",
       "    </tr>\n",
       "    <tr>\n",
       "      <th>1</th>\n",
       "      <td>Africa Eastern and Southern</td>\n",
       "      <td>AFE</td>\n",
       "      <td>Forest area (% of land area)</td>\n",
       "      <td>AG.LND.FRST.ZS</td>\n",
       "      <td>NaN</td>\n",
       "      <td>NaN</td>\n",
       "      <td>NaN</td>\n",
       "      <td>NaN</td>\n",
       "      <td>NaN</td>\n",
       "      <td>NaN</td>\n",
       "      <td>...</td>\n",
       "      <td>31.470634</td>\n",
       "      <td>31.260420</td>\n",
       "      <td>31.039682</td>\n",
       "      <td>30.824316</td>\n",
       "      <td>30.611512</td>\n",
       "      <td>30.391626</td>\n",
       "      <td>30.174253</td>\n",
       "      <td>29.955194</td>\n",
       "      <td>NaN</td>\n",
       "      <td>NaN</td>\n",
       "    </tr>\n",
       "    <tr>\n",
       "      <th>2</th>\n",
       "      <td>Afghanistan</td>\n",
       "      <td>AFG</td>\n",
       "      <td>Forest area (% of land area)</td>\n",
       "      <td>AG.LND.FRST.ZS</td>\n",
       "      <td>NaN</td>\n",
       "      <td>NaN</td>\n",
       "      <td>NaN</td>\n",
       "      <td>NaN</td>\n",
       "      <td>NaN</td>\n",
       "      <td>NaN</td>\n",
       "      <td>...</td>\n",
       "      <td>1.852782</td>\n",
       "      <td>1.852782</td>\n",
       "      <td>1.852782</td>\n",
       "      <td>1.852782</td>\n",
       "      <td>1.852782</td>\n",
       "      <td>1.852782</td>\n",
       "      <td>1.852782</td>\n",
       "      <td>1.852782</td>\n",
       "      <td>NaN</td>\n",
       "      <td>NaN</td>\n",
       "    </tr>\n",
       "    <tr>\n",
       "      <th>3</th>\n",
       "      <td>Africa Western and Central</td>\n",
       "      <td>AFW</td>\n",
       "      <td>Forest area (% of land area)</td>\n",
       "      <td>AG.LND.FRST.ZS</td>\n",
       "      <td>NaN</td>\n",
       "      <td>NaN</td>\n",
       "      <td>NaN</td>\n",
       "      <td>NaN</td>\n",
       "      <td>NaN</td>\n",
       "      <td>NaN</td>\n",
       "      <td>...</td>\n",
       "      <td>20.322187</td>\n",
       "      <td>20.234231</td>\n",
       "      <td>20.152610</td>\n",
       "      <td>20.071327</td>\n",
       "      <td>19.986100</td>\n",
       "      <td>19.901215</td>\n",
       "      <td>19.816777</td>\n",
       "      <td>19.732037</td>\n",
       "      <td>NaN</td>\n",
       "      <td>NaN</td>\n",
       "    </tr>\n",
       "    <tr>\n",
       "      <th>4</th>\n",
       "      <td>Angola</td>\n",
       "      <td>AGO</td>\n",
       "      <td>Forest area (% of land area)</td>\n",
       "      <td>AG.LND.FRST.ZS</td>\n",
       "      <td>NaN</td>\n",
       "      <td>NaN</td>\n",
       "      <td>NaN</td>\n",
       "      <td>NaN</td>\n",
       "      <td>NaN</td>\n",
       "      <td>NaN</td>\n",
       "      <td>...</td>\n",
       "      <td>56.098301</td>\n",
       "      <td>55.653076</td>\n",
       "      <td>55.207845</td>\n",
       "      <td>54.762629</td>\n",
       "      <td>54.317406</td>\n",
       "      <td>53.872175</td>\n",
       "      <td>53.426951</td>\n",
       "      <td>52.981722</td>\n",
       "      <td>NaN</td>\n",
       "      <td>NaN</td>\n",
       "    </tr>\n",
       "  </tbody>\n",
       "</table>\n",
       "<p>5 rows × 68 columns</p>\n",
       "</div>"
      ],
      "text/plain": [
       "                  Country Name Country Code                Indicator Name  \\\n",
       "0                        Aruba          ABW  Forest area (% of land area)   \n",
       "1  Africa Eastern and Southern          AFE  Forest area (% of land area)   \n",
       "2                  Afghanistan          AFG  Forest area (% of land area)   \n",
       "3   Africa Western and Central          AFW  Forest area (% of land area)   \n",
       "4                       Angola          AGO  Forest area (% of land area)   \n",
       "\n",
       "   Indicator Code  1960  1961  1962  1963  1964  1965  ...       2014  \\\n",
       "0  AG.LND.FRST.ZS   NaN   NaN   NaN   NaN   NaN   NaN  ...   2.333333   \n",
       "1  AG.LND.FRST.ZS   NaN   NaN   NaN   NaN   NaN   NaN  ...  31.470634   \n",
       "2  AG.LND.FRST.ZS   NaN   NaN   NaN   NaN   NaN   NaN  ...   1.852782   \n",
       "3  AG.LND.FRST.ZS   NaN   NaN   NaN   NaN   NaN   NaN  ...  20.322187   \n",
       "4  AG.LND.FRST.ZS   NaN   NaN   NaN   NaN   NaN   NaN  ...  56.098301   \n",
       "\n",
       "        2015       2016       2017       2018       2019       2020  \\\n",
       "0   2.333333   2.333333   2.333333   2.333333   2.333333   2.333333   \n",
       "1  31.260420  31.039682  30.824316  30.611512  30.391626  30.174253   \n",
       "2   1.852782   1.852782   1.852782   1.852782   1.852782   1.852782   \n",
       "3  20.234231  20.152610  20.071327  19.986100  19.901215  19.816777   \n",
       "4  55.653076  55.207845  54.762629  54.317406  53.872175  53.426951   \n",
       "\n",
       "        2021  2022  2023  \n",
       "0   2.333333   NaN   NaN  \n",
       "1  29.955194   NaN   NaN  \n",
       "2   1.852782   NaN   NaN  \n",
       "3  19.732037   NaN   NaN  \n",
       "4  52.981722   NaN   NaN  \n",
       "\n",
       "[5 rows x 68 columns]"
      ]
     },
     "execution_count": 264,
     "metadata": {},
     "output_type": "execute_result"
    }
   ],
   "source": [
    "deforest_data = pd.read_excel(\"./Data/Deforest.xlsx\")\n",
    "deforest_data.head()"
   ]
  },
  {
   "cell_type": "code",
   "execution_count": 265,
   "metadata": {},
   "outputs": [
    {
     "data": {
      "text/plain": [
       "array([0, 4], dtype=int64)"
      ]
     },
     "execution_count": 265,
     "metadata": {},
     "output_type": "execute_result"
    }
   ],
   "source": [
    "# Count the number of zero values in each column\n",
    "zero_counts = (deforest_data == 0).sum()\n",
    "#If there are values in a column that are equal to zero, it is equal to 4\n",
    "zero_counts.unique()"
   ]
  },
  {
   "cell_type": "code",
   "execution_count": 266,
   "metadata": {},
   "outputs": [
    {
     "data": {
      "text/html": [
       "<div>\n",
       "<style scoped>\n",
       "    .dataframe tbody tr th:only-of-type {\n",
       "        vertical-align: middle;\n",
       "    }\n",
       "\n",
       "    .dataframe tbody tr th {\n",
       "        vertical-align: top;\n",
       "    }\n",
       "\n",
       "    .dataframe thead th {\n",
       "        text-align: right;\n",
       "    }\n",
       "</style>\n",
       "<table border=\"1\" class=\"dataframe\">\n",
       "  <thead>\n",
       "    <tr style=\"text-align: right;\">\n",
       "      <th></th>\n",
       "      <th>Country Name</th>\n",
       "      <th>Country Code</th>\n",
       "      <th>Indicator Name</th>\n",
       "      <th>Indicator Code</th>\n",
       "      <th>1960</th>\n",
       "      <th>1961</th>\n",
       "      <th>1962</th>\n",
       "      <th>1963</th>\n",
       "      <th>1964</th>\n",
       "      <th>1965</th>\n",
       "      <th>...</th>\n",
       "      <th>2014</th>\n",
       "      <th>2015</th>\n",
       "      <th>2016</th>\n",
       "      <th>2017</th>\n",
       "      <th>2018</th>\n",
       "      <th>2019</th>\n",
       "      <th>2020</th>\n",
       "      <th>2021</th>\n",
       "      <th>2022</th>\n",
       "      <th>2023</th>\n",
       "    </tr>\n",
       "  </thead>\n",
       "  <tbody>\n",
       "    <tr>\n",
       "      <th>0</th>\n",
       "      <td>Aruba</td>\n",
       "      <td>ABW</td>\n",
       "      <td>Forest area (% of land area)</td>\n",
       "      <td>AG.LND.FRST.ZS</td>\n",
       "      <td>NaN</td>\n",
       "      <td>NaN</td>\n",
       "      <td>NaN</td>\n",
       "      <td>NaN</td>\n",
       "      <td>NaN</td>\n",
       "      <td>NaN</td>\n",
       "      <td>...</td>\n",
       "      <td>2.333333</td>\n",
       "      <td>2.333333</td>\n",
       "      <td>2.333333</td>\n",
       "      <td>2.333333</td>\n",
       "      <td>2.333333</td>\n",
       "      <td>2.333333</td>\n",
       "      <td>2.333333</td>\n",
       "      <td>2.333333</td>\n",
       "      <td>NaN</td>\n",
       "      <td>NaN</td>\n",
       "    </tr>\n",
       "    <tr>\n",
       "      <th>1</th>\n",
       "      <td>Africa Eastern and Southern</td>\n",
       "      <td>AFE</td>\n",
       "      <td>Forest area (% of land area)</td>\n",
       "      <td>AG.LND.FRST.ZS</td>\n",
       "      <td>NaN</td>\n",
       "      <td>NaN</td>\n",
       "      <td>NaN</td>\n",
       "      <td>NaN</td>\n",
       "      <td>NaN</td>\n",
       "      <td>NaN</td>\n",
       "      <td>...</td>\n",
       "      <td>31.470634</td>\n",
       "      <td>31.260420</td>\n",
       "      <td>31.039682</td>\n",
       "      <td>30.824316</td>\n",
       "      <td>30.611512</td>\n",
       "      <td>30.391626</td>\n",
       "      <td>30.174253</td>\n",
       "      <td>29.955194</td>\n",
       "      <td>NaN</td>\n",
       "      <td>NaN</td>\n",
       "    </tr>\n",
       "    <tr>\n",
       "      <th>2</th>\n",
       "      <td>Afghanistan</td>\n",
       "      <td>AFG</td>\n",
       "      <td>Forest area (% of land area)</td>\n",
       "      <td>AG.LND.FRST.ZS</td>\n",
       "      <td>NaN</td>\n",
       "      <td>NaN</td>\n",
       "      <td>NaN</td>\n",
       "      <td>NaN</td>\n",
       "      <td>NaN</td>\n",
       "      <td>NaN</td>\n",
       "      <td>...</td>\n",
       "      <td>1.852782</td>\n",
       "      <td>1.852782</td>\n",
       "      <td>1.852782</td>\n",
       "      <td>1.852782</td>\n",
       "      <td>1.852782</td>\n",
       "      <td>1.852782</td>\n",
       "      <td>1.852782</td>\n",
       "      <td>1.852782</td>\n",
       "      <td>NaN</td>\n",
       "      <td>NaN</td>\n",
       "    </tr>\n",
       "    <tr>\n",
       "      <th>3</th>\n",
       "      <td>Africa Western and Central</td>\n",
       "      <td>AFW</td>\n",
       "      <td>Forest area (% of land area)</td>\n",
       "      <td>AG.LND.FRST.ZS</td>\n",
       "      <td>NaN</td>\n",
       "      <td>NaN</td>\n",
       "      <td>NaN</td>\n",
       "      <td>NaN</td>\n",
       "      <td>NaN</td>\n",
       "      <td>NaN</td>\n",
       "      <td>...</td>\n",
       "      <td>20.322187</td>\n",
       "      <td>20.234231</td>\n",
       "      <td>20.152610</td>\n",
       "      <td>20.071327</td>\n",
       "      <td>19.986100</td>\n",
       "      <td>19.901215</td>\n",
       "      <td>19.816777</td>\n",
       "      <td>19.732037</td>\n",
       "      <td>NaN</td>\n",
       "      <td>NaN</td>\n",
       "    </tr>\n",
       "    <tr>\n",
       "      <th>4</th>\n",
       "      <td>Angola</td>\n",
       "      <td>AGO</td>\n",
       "      <td>Forest area (% of land area)</td>\n",
       "      <td>AG.LND.FRST.ZS</td>\n",
       "      <td>NaN</td>\n",
       "      <td>NaN</td>\n",
       "      <td>NaN</td>\n",
       "      <td>NaN</td>\n",
       "      <td>NaN</td>\n",
       "      <td>NaN</td>\n",
       "      <td>...</td>\n",
       "      <td>56.098301</td>\n",
       "      <td>55.653076</td>\n",
       "      <td>55.207845</td>\n",
       "      <td>54.762629</td>\n",
       "      <td>54.317406</td>\n",
       "      <td>53.872175</td>\n",
       "      <td>53.426951</td>\n",
       "      <td>52.981722</td>\n",
       "      <td>NaN</td>\n",
       "      <td>NaN</td>\n",
       "    </tr>\n",
       "    <tr>\n",
       "      <th>...</th>\n",
       "      <td>...</td>\n",
       "      <td>...</td>\n",
       "      <td>...</td>\n",
       "      <td>...</td>\n",
       "      <td>...</td>\n",
       "      <td>...</td>\n",
       "      <td>...</td>\n",
       "      <td>...</td>\n",
       "      <td>...</td>\n",
       "      <td>...</td>\n",
       "      <td>...</td>\n",
       "      <td>...</td>\n",
       "      <td>...</td>\n",
       "      <td>...</td>\n",
       "      <td>...</td>\n",
       "      <td>...</td>\n",
       "      <td>...</td>\n",
       "      <td>...</td>\n",
       "      <td>...</td>\n",
       "      <td>...</td>\n",
       "      <td>...</td>\n",
       "    </tr>\n",
       "    <tr>\n",
       "      <th>257</th>\n",
       "      <td>Kosovo</td>\n",
       "      <td>XKX</td>\n",
       "      <td>Forest area (% of land area)</td>\n",
       "      <td>AG.LND.FRST.ZS</td>\n",
       "      <td>NaN</td>\n",
       "      <td>NaN</td>\n",
       "      <td>NaN</td>\n",
       "      <td>NaN</td>\n",
       "      <td>NaN</td>\n",
       "      <td>NaN</td>\n",
       "      <td>...</td>\n",
       "      <td>NaN</td>\n",
       "      <td>NaN</td>\n",
       "      <td>NaN</td>\n",
       "      <td>NaN</td>\n",
       "      <td>NaN</td>\n",
       "      <td>NaN</td>\n",
       "      <td>NaN</td>\n",
       "      <td>NaN</td>\n",
       "      <td>NaN</td>\n",
       "      <td>NaN</td>\n",
       "    </tr>\n",
       "    <tr>\n",
       "      <th>258</th>\n",
       "      <td>Yemen, Rep.</td>\n",
       "      <td>YEM</td>\n",
       "      <td>Forest area (% of land area)</td>\n",
       "      <td>AG.LND.FRST.ZS</td>\n",
       "      <td>NaN</td>\n",
       "      <td>NaN</td>\n",
       "      <td>NaN</td>\n",
       "      <td>NaN</td>\n",
       "      <td>NaN</td>\n",
       "      <td>NaN</td>\n",
       "      <td>...</td>\n",
       "      <td>1.039832</td>\n",
       "      <td>1.039832</td>\n",
       "      <td>1.039832</td>\n",
       "      <td>1.039832</td>\n",
       "      <td>1.039832</td>\n",
       "      <td>1.039832</td>\n",
       "      <td>1.039832</td>\n",
       "      <td>1.039832</td>\n",
       "      <td>NaN</td>\n",
       "      <td>NaN</td>\n",
       "    </tr>\n",
       "    <tr>\n",
       "      <th>259</th>\n",
       "      <td>South Africa</td>\n",
       "      <td>ZAF</td>\n",
       "      <td>Forest area (% of land area)</td>\n",
       "      <td>AG.LND.FRST.ZS</td>\n",
       "      <td>NaN</td>\n",
       "      <td>NaN</td>\n",
       "      <td>NaN</td>\n",
       "      <td>NaN</td>\n",
       "      <td>NaN</td>\n",
       "      <td>NaN</td>\n",
       "      <td>...</td>\n",
       "      <td>14.235127</td>\n",
       "      <td>14.205121</td>\n",
       "      <td>14.175115</td>\n",
       "      <td>14.145109</td>\n",
       "      <td>14.115103</td>\n",
       "      <td>14.085097</td>\n",
       "      <td>14.055091</td>\n",
       "      <td>14.025085</td>\n",
       "      <td>NaN</td>\n",
       "      <td>NaN</td>\n",
       "    </tr>\n",
       "    <tr>\n",
       "      <th>260</th>\n",
       "      <td>Zambia</td>\n",
       "      <td>ZMB</td>\n",
       "      <td>Forest area (% of land area)</td>\n",
       "      <td>AG.LND.FRST.ZS</td>\n",
       "      <td>NaN</td>\n",
       "      <td>NaN</td>\n",
       "      <td>NaN</td>\n",
       "      <td>NaN</td>\n",
       "      <td>NaN</td>\n",
       "      <td>NaN</td>\n",
       "      <td>...</td>\n",
       "      <td>61.802392</td>\n",
       "      <td>61.549254</td>\n",
       "      <td>61.295955</td>\n",
       "      <td>61.042885</td>\n",
       "      <td>60.789707</td>\n",
       "      <td>60.536515</td>\n",
       "      <td>60.283337</td>\n",
       "      <td>60.030150</td>\n",
       "      <td>NaN</td>\n",
       "      <td>NaN</td>\n",
       "    </tr>\n",
       "    <tr>\n",
       "      <th>261</th>\n",
       "      <td>Zimbabwe</td>\n",
       "      <td>ZWE</td>\n",
       "      <td>Forest area (% of land area)</td>\n",
       "      <td>AG.LND.FRST.ZS</td>\n",
       "      <td>NaN</td>\n",
       "      <td>NaN</td>\n",
       "      <td>NaN</td>\n",
       "      <td>NaN</td>\n",
       "      <td>NaN</td>\n",
       "      <td>NaN</td>\n",
       "      <td>...</td>\n",
       "      <td>45.808453</td>\n",
       "      <td>45.689363</td>\n",
       "      <td>45.570273</td>\n",
       "      <td>45.451183</td>\n",
       "      <td>45.332093</td>\n",
       "      <td>45.213002</td>\n",
       "      <td>45.093912</td>\n",
       "      <td>44.974822</td>\n",
       "      <td>NaN</td>\n",
       "      <td>NaN</td>\n",
       "    </tr>\n",
       "  </tbody>\n",
       "</table>\n",
       "<p>262 rows × 68 columns</p>\n",
       "</div>"
      ],
      "text/plain": [
       "                    Country Name Country Code                Indicator Name  \\\n",
       "0                          Aruba          ABW  Forest area (% of land area)   \n",
       "1    Africa Eastern and Southern          AFE  Forest area (% of land area)   \n",
       "2                    Afghanistan          AFG  Forest area (% of land area)   \n",
       "3     Africa Western and Central          AFW  Forest area (% of land area)   \n",
       "4                         Angola          AGO  Forest area (% of land area)   \n",
       "..                           ...          ...                           ...   \n",
       "257                       Kosovo          XKX  Forest area (% of land area)   \n",
       "258                  Yemen, Rep.          YEM  Forest area (% of land area)   \n",
       "259                 South Africa          ZAF  Forest area (% of land area)   \n",
       "260                       Zambia          ZMB  Forest area (% of land area)   \n",
       "261                     Zimbabwe          ZWE  Forest area (% of land area)   \n",
       "\n",
       "     Indicator Code  1960  1961  1962  1963  1964  1965  ...       2014  \\\n",
       "0    AG.LND.FRST.ZS   NaN   NaN   NaN   NaN   NaN   NaN  ...   2.333333   \n",
       "1    AG.LND.FRST.ZS   NaN   NaN   NaN   NaN   NaN   NaN  ...  31.470634   \n",
       "2    AG.LND.FRST.ZS   NaN   NaN   NaN   NaN   NaN   NaN  ...   1.852782   \n",
       "3    AG.LND.FRST.ZS   NaN   NaN   NaN   NaN   NaN   NaN  ...  20.322187   \n",
       "4    AG.LND.FRST.ZS   NaN   NaN   NaN   NaN   NaN   NaN  ...  56.098301   \n",
       "..              ...   ...   ...   ...   ...   ...   ...  ...        ...   \n",
       "257  AG.LND.FRST.ZS   NaN   NaN   NaN   NaN   NaN   NaN  ...        NaN   \n",
       "258  AG.LND.FRST.ZS   NaN   NaN   NaN   NaN   NaN   NaN  ...   1.039832   \n",
       "259  AG.LND.FRST.ZS   NaN   NaN   NaN   NaN   NaN   NaN  ...  14.235127   \n",
       "260  AG.LND.FRST.ZS   NaN   NaN   NaN   NaN   NaN   NaN  ...  61.802392   \n",
       "261  AG.LND.FRST.ZS   NaN   NaN   NaN   NaN   NaN   NaN  ...  45.808453   \n",
       "\n",
       "          2015       2016       2017       2018       2019       2020  \\\n",
       "0     2.333333   2.333333   2.333333   2.333333   2.333333   2.333333   \n",
       "1    31.260420  31.039682  30.824316  30.611512  30.391626  30.174253   \n",
       "2     1.852782   1.852782   1.852782   1.852782   1.852782   1.852782   \n",
       "3    20.234231  20.152610  20.071327  19.986100  19.901215  19.816777   \n",
       "4    55.653076  55.207845  54.762629  54.317406  53.872175  53.426951   \n",
       "..         ...        ...        ...        ...        ...        ...   \n",
       "257        NaN        NaN        NaN        NaN        NaN        NaN   \n",
       "258   1.039832   1.039832   1.039832   1.039832   1.039832   1.039832   \n",
       "259  14.205121  14.175115  14.145109  14.115103  14.085097  14.055091   \n",
       "260  61.549254  61.295955  61.042885  60.789707  60.536515  60.283337   \n",
       "261  45.689363  45.570273  45.451183  45.332093  45.213002  45.093912   \n",
       "\n",
       "          2021  2022  2023  \n",
       "0     2.333333   NaN   NaN  \n",
       "1    29.955194   NaN   NaN  \n",
       "2     1.852782   NaN   NaN  \n",
       "3    19.732037   NaN   NaN  \n",
       "4    52.981722   NaN   NaN  \n",
       "..         ...   ...   ...  \n",
       "257        NaN   NaN   NaN  \n",
       "258   1.039832   NaN   NaN  \n",
       "259  14.025085   NaN   NaN  \n",
       "260  60.030150   NaN   NaN  \n",
       "261  44.974822   NaN   NaN  \n",
       "\n",
       "[262 rows x 68 columns]"
      ]
     },
     "execution_count": 266,
     "metadata": {},
     "output_type": "execute_result"
    }
   ],
   "source": [
    "deforest_data = deforest_data.drop(deforest_data[deforest_data[\"2019\"] == 0][\"Country Name\"].index).reset_index(drop = True)\n",
    "deforest_data"
   ]
  },
  {
   "cell_type": "code",
   "execution_count": 267,
   "metadata": {},
   "outputs": [
    {
     "name": "stdout",
     "output_type": "stream",
     "text": [
      "Number of countries in the deforestation dataset:  262\n"
     ]
    }
   ],
   "source": [
    "print(\"Number of countries in the deforestation dataset: \",len(deforest_data[\"Country Name\"].unique()))"
   ]
  },
  {
   "cell_type": "code",
   "execution_count": 268,
   "metadata": {},
   "outputs": [
    {
     "name": "stdout",
     "output_type": "stream",
     "text": [
      "Number of string columns: 4\n",
      "Number of float columns: 64\n"
     ]
    }
   ],
   "source": [
    "str_col_number = (deforest_data.dtypes == 'O').value_counts().iloc[1]\n",
    "float_col_number = (deforest_data.dtypes == 'O').value_counts().iloc[0]\n",
    "print(f\"Number of string columns: {str_col_number}\")\n",
    "print(f\"Number of float columns: {float_col_number}\")"
   ]
  },
  {
   "cell_type": "code",
   "execution_count": 269,
   "metadata": {},
   "outputs": [
    {
     "name": "stdout",
     "output_type": "stream",
     "text": [
      "Dataset topic: Forest area (% of land area)\n"
     ]
    }
   ],
   "source": [
    "data_topic = deforest_data[\"Indicator Name\"].unique()[0] #Unnecessary column\n",
    "deforest_data = deforest_data.drop([\"Indicator Name\",\"Indicator Code\"], axis = 1) #Dropping the column\n",
    "print(f\"Dataset topic: {data_topic}\")"
   ]
  },
  {
   "cell_type": "code",
   "execution_count": 270,
   "metadata": {},
   "outputs": [
    {
     "data": {
      "image/png": "[encoded data removed]",
      "text/plain": [
       "<Figure size 1000x600 with 1 Axes>"
      ]
     },
     "metadata": {},
     "output_type": "display_data"
    }
   ],
   "source": [
    "#Columns\n",
    "# We will use regex to find all columns that represent years (assuming years are 4-digit numbers starting with '19' or '20').\n",
    "year_columns = [col for col in deforest_data.columns if re.match(r'^\\d{4}$', col)]\n",
    "\n",
    "#Potting the missing values\n",
    "plt.figure(figsize=(10, 6))  # You can adjust the (width, height) as needed\n",
    "missing_values = deforest_data[year_columns].isnull().sum()\n",
    "missing_values.plot(kind='bar', title='Number of Missing Values per Column', xlabel='Year', ylabel='Missing Values')\n",
    "\n",
    "# Show the plot\n",
    "plt.show()\n"
   ]
  },
  {
   "cell_type": "code",
   "execution_count": 271,
   "metadata": {},
   "outputs": [
    {
     "data": {
      "text/html": [
       "<div>\n",
       "<style scoped>\n",
       "    .dataframe tbody tr th:only-of-type {\n",
       "        vertical-align: middle;\n",
       "    }\n",
       "\n",
       "    .dataframe tbody tr th {\n",
       "        vertical-align: top;\n",
       "    }\n",
       "\n",
       "    .dataframe thead th {\n",
       "        text-align: right;\n",
       "    }\n",
       "</style>\n",
       "<table border=\"1\" class=\"dataframe\">\n",
       "  <thead>\n",
       "    <tr style=\"text-align: right;\">\n",
       "      <th></th>\n",
       "      <th>Country Name</th>\n",
       "      <th>Country Code</th>\n",
       "      <th>1999</th>\n",
       "      <th>2000</th>\n",
       "      <th>2001</th>\n",
       "      <th>2002</th>\n",
       "      <th>2003</th>\n",
       "      <th>2004</th>\n",
       "      <th>2005</th>\n",
       "      <th>2006</th>\n",
       "      <th>...</th>\n",
       "      <th>2012</th>\n",
       "      <th>2013</th>\n",
       "      <th>2014</th>\n",
       "      <th>2015</th>\n",
       "      <th>2016</th>\n",
       "      <th>2017</th>\n",
       "      <th>2018</th>\n",
       "      <th>2019</th>\n",
       "      <th>2020</th>\n",
       "      <th>2021</th>\n",
       "    </tr>\n",
       "  </thead>\n",
       "  <tbody>\n",
       "    <tr>\n",
       "      <th>0</th>\n",
       "      <td>Aruba</td>\n",
       "      <td>ABW</td>\n",
       "      <td>2.333333</td>\n",
       "      <td>2.333333</td>\n",
       "      <td>2.333333</td>\n",
       "      <td>2.333333</td>\n",
       "      <td>2.333333</td>\n",
       "      <td>2.333333</td>\n",
       "      <td>2.333333</td>\n",
       "      <td>2.333333</td>\n",
       "      <td>...</td>\n",
       "      <td>2.333333</td>\n",
       "      <td>2.333333</td>\n",
       "      <td>2.333333</td>\n",
       "      <td>2.333333</td>\n",
       "      <td>2.333333</td>\n",
       "      <td>2.333333</td>\n",
       "      <td>2.333333</td>\n",
       "      <td>2.333333</td>\n",
       "      <td>2.333333</td>\n",
       "      <td>2.333333</td>\n",
       "    </tr>\n",
       "    <tr>\n",
       "      <th>1</th>\n",
       "      <td>Africa Eastern and Southern</td>\n",
       "      <td>AFE</td>\n",
       "      <td>34.868726</td>\n",
       "      <td>34.717473</td>\n",
       "      <td>34.537463</td>\n",
       "      <td>34.357452</td>\n",
       "      <td>34.177441</td>\n",
       "      <td>33.654274</td>\n",
       "      <td>33.475977</td>\n",
       "      <td>33.297802</td>\n",
       "      <td>...</td>\n",
       "      <td>31.890654</td>\n",
       "      <td>31.680635</td>\n",
       "      <td>31.470634</td>\n",
       "      <td>31.260420</td>\n",
       "      <td>31.039682</td>\n",
       "      <td>30.824316</td>\n",
       "      <td>30.611512</td>\n",
       "      <td>30.391626</td>\n",
       "      <td>30.174253</td>\n",
       "      <td>29.955194</td>\n",
       "    </tr>\n",
       "    <tr>\n",
       "      <th>2</th>\n",
       "      <td>Afghanistan</td>\n",
       "      <td>AFG</td>\n",
       "      <td>1.852782</td>\n",
       "      <td>1.852782</td>\n",
       "      <td>1.852782</td>\n",
       "      <td>1.852782</td>\n",
       "      <td>1.852782</td>\n",
       "      <td>1.852782</td>\n",
       "      <td>1.852782</td>\n",
       "      <td>1.852782</td>\n",
       "      <td>...</td>\n",
       "      <td>1.852782</td>\n",
       "      <td>1.852782</td>\n",
       "      <td>1.852782</td>\n",
       "      <td>1.852782</td>\n",
       "      <td>1.852782</td>\n",
       "      <td>1.852782</td>\n",
       "      <td>1.852782</td>\n",
       "      <td>1.852782</td>\n",
       "      <td>1.852782</td>\n",
       "      <td>1.852782</td>\n",
       "    </tr>\n",
       "    <tr>\n",
       "      <th>3</th>\n",
       "      <td>Africa Western and Central</td>\n",
       "      <td>AFW</td>\n",
       "      <td>21.713446</td>\n",
       "      <td>21.595284</td>\n",
       "      <td>21.503156</td>\n",
       "      <td>21.411029</td>\n",
       "      <td>21.318902</td>\n",
       "      <td>21.226775</td>\n",
       "      <td>21.134648</td>\n",
       "      <td>21.042520</td>\n",
       "      <td>...</td>\n",
       "      <td>20.498099</td>\n",
       "      <td>20.410143</td>\n",
       "      <td>20.322187</td>\n",
       "      <td>20.234231</td>\n",
       "      <td>20.152610</td>\n",
       "      <td>20.071327</td>\n",
       "      <td>19.986100</td>\n",
       "      <td>19.901215</td>\n",
       "      <td>19.816777</td>\n",
       "      <td>19.732037</td>\n",
       "    </tr>\n",
       "    <tr>\n",
       "      <th>4</th>\n",
       "      <td>Angola</td>\n",
       "      <td>AGO</td>\n",
       "      <td>62.456106</td>\n",
       "      <td>62.331443</td>\n",
       "      <td>61.886219</td>\n",
       "      <td>61.440995</td>\n",
       "      <td>60.995770</td>\n",
       "      <td>60.550546</td>\n",
       "      <td>60.105322</td>\n",
       "      <td>59.660098</td>\n",
       "      <td>...</td>\n",
       "      <td>56.988751</td>\n",
       "      <td>56.543526</td>\n",
       "      <td>56.098301</td>\n",
       "      <td>55.653076</td>\n",
       "      <td>55.207845</td>\n",
       "      <td>54.762629</td>\n",
       "      <td>54.317406</td>\n",
       "      <td>53.872175</td>\n",
       "      <td>53.426951</td>\n",
       "      <td>52.981722</td>\n",
       "    </tr>\n",
       "  </tbody>\n",
       "</table>\n",
       "<p>5 rows × 25 columns</p>\n",
       "</div>"
      ],
      "text/plain": [
       "                  Country Name Country Code       1999       2000       2001  \\\n",
       "0                        Aruba          ABW   2.333333   2.333333   2.333333   \n",
       "1  Africa Eastern and Southern          AFE  34.868726  34.717473  34.537463   \n",
       "2                  Afghanistan          AFG   1.852782   1.852782   1.852782   \n",
       "3   Africa Western and Central          AFW  21.713446  21.595284  21.503156   \n",
       "4                       Angola          AGO  62.456106  62.331443  61.886219   \n",
       "\n",
       "        2002       2003       2004       2005       2006  ...       2012  \\\n",
       "0   2.333333   2.333333   2.333333   2.333333   2.333333  ...   2.333333   \n",
       "1  34.357452  34.177441  33.654274  33.475977  33.297802  ...  31.890654   \n",
       "2   1.852782   1.852782   1.852782   1.852782   1.852782  ...   1.852782   \n",
       "3  21.411029  21.318902  21.226775  21.134648  21.042520  ...  20.498099   \n",
       "4  61.440995  60.995770  60.550546  60.105322  59.660098  ...  56.988751   \n",
       "\n",
       "        2013       2014       2015       2016       2017       2018  \\\n",
       "0   2.333333   2.333333   2.333333   2.333333   2.333333   2.333333   \n",
       "1  31.680635  31.470634  31.260420  31.039682  30.824316  30.611512   \n",
       "2   1.852782   1.852782   1.852782   1.852782   1.852782   1.852782   \n",
       "3  20.410143  20.322187  20.234231  20.152610  20.071327  19.986100   \n",
       "4  56.543526  56.098301  55.653076  55.207845  54.762629  54.317406   \n",
       "\n",
       "        2019       2020       2021  \n",
       "0   2.333333   2.333333   2.333333  \n",
       "1  30.391626  30.174253  29.955194  \n",
       "2   1.852782   1.852782   1.852782  \n",
       "3  19.901215  19.816777  19.732037  \n",
       "4  53.872175  53.426951  52.981722  \n",
       "\n",
       "[5 rows x 25 columns]"
      ]
     },
     "execution_count": 271,
     "metadata": {},
     "output_type": "execute_result"
    }
   ],
   "source": [
    "all_missing_columns = deforest_data[year_columns].isnull().all()\n",
    "# Filter out the columns that are entirely missing\n",
    "columns_with_all_missing = all_missing_columns[all_missing_columns].index.tolist()\n",
    "# Result: We don't have data for the years: 1960-1989 & 2022,2023\n",
    "\n",
    "# Drop the columns that have all  \n",
    "deforest_data = deforest_data.drop(columns_with_all_missing ,axis = 1)\n",
    "\n",
    "#Converting the years to integers\n",
    "deforest_data.rename(columns={col: int(col) for col in year_columns}, inplace=True)\n",
    "\n",
    "#We want the data starting from 1999\n",
    "columns_from_1999 = [col for col in deforest_data.columns if isinstance(col, int) and col >= 1999]\n",
    "\n",
    "# Filter the DataFrame to include only the columns from the year 2000 onwards\n",
    "data_with_desired_years = deforest_data[columns_from_1999]\n",
    "\n",
    "#Joining the dataframes\n",
    "final_deforest_data = deforest_data[[\"Country Name\",\"Country Code\"]].join(data_with_desired_years)\n",
    "final_deforest_data.head()"
   ]
  },
  {
   "cell_type": "code",
   "execution_count": 272,
   "metadata": {},
   "outputs": [
    {
     "data": {
      "text/html": [
       "<div>\n",
       "<style scoped>\n",
       "    .dataframe tbody tr th:only-of-type {\n",
       "        vertical-align: middle;\n",
       "    }\n",
       "\n",
       "    .dataframe tbody tr th {\n",
       "        vertical-align: top;\n",
       "    }\n",
       "\n",
       "    .dataframe thead th {\n",
       "        text-align: right;\n",
       "    }\n",
       "</style>\n",
       "<table border=\"1\" class=\"dataframe\">\n",
       "  <thead>\n",
       "    <tr style=\"text-align: right;\">\n",
       "      <th></th>\n",
       "      <th>Country Name</th>\n",
       "      <th>Country Code</th>\n",
       "      <th>Year</th>\n",
       "      <th>Values</th>\n",
       "    </tr>\n",
       "  </thead>\n",
       "  <tbody>\n",
       "    <tr>\n",
       "      <th>0</th>\n",
       "      <td>Aruba</td>\n",
       "      <td>ABW</td>\n",
       "      <td>1999</td>\n",
       "      <td>2.333333</td>\n",
       "    </tr>\n",
       "    <tr>\n",
       "      <th>1</th>\n",
       "      <td>Africa Eastern and Southern</td>\n",
       "      <td>AFE</td>\n",
       "      <td>1999</td>\n",
       "      <td>34.868726</td>\n",
       "    </tr>\n",
       "    <tr>\n",
       "      <th>2</th>\n",
       "      <td>Afghanistan</td>\n",
       "      <td>AFG</td>\n",
       "      <td>1999</td>\n",
       "      <td>1.852782</td>\n",
       "    </tr>\n",
       "    <tr>\n",
       "      <th>3</th>\n",
       "      <td>Africa Western and Central</td>\n",
       "      <td>AFW</td>\n",
       "      <td>1999</td>\n",
       "      <td>21.713446</td>\n",
       "    </tr>\n",
       "    <tr>\n",
       "      <th>4</th>\n",
       "      <td>Angola</td>\n",
       "      <td>AGO</td>\n",
       "      <td>1999</td>\n",
       "      <td>62.456106</td>\n",
       "    </tr>\n",
       "  </tbody>\n",
       "</table>\n",
       "</div>"
      ],
      "text/plain": [
       "                  Country Name Country Code  Year     Values\n",
       "0                        Aruba          ABW  1999   2.333333\n",
       "1  Africa Eastern and Southern          AFE  1999  34.868726\n",
       "2                  Afghanistan          AFG  1999   1.852782\n",
       "3   Africa Western and Central          AFW  1999  21.713446\n",
       "4                       Angola          AGO  1999  62.456106"
      ]
     },
     "execution_count": 272,
     "metadata": {},
     "output_type": "execute_result"
    }
   ],
   "source": [
    "#Preliminary cleaning\n",
    "final_deforest_data[\"Country Name\"] = final_deforest_data[\"Country Name\"] + \" \" + final_deforest_data[\"Country Code\"]\n",
    "final_deforest_data.reset_index(drop = True, inplace = True)\n",
    "\n",
    "#Dropping some of the columns for clearer structure\n",
    "df_cleaned = final_deforest_data.drop(columns='Country Code')\n",
    "\n",
    "# Reshape the data using the melt function to create a long format\n",
    "df_long = df_cleaned.melt(id_vars=['Country Name'], var_name='Year', value_name='Values')\n",
    "\n",
    "# Convert 'Year' column to numeric if necessary (remove '.0' from the years)\n",
    "df_long['Year'] = pd.to_numeric(df_long['Year'], errors='coerce')\n",
    "\n",
    "#Adding the country code\n",
    "df_long[\"Country Code\"] = df_long[\"Country Name\"].apply(lambda val:val.split(\" \")[-1])\n",
    "df_long[\"Country Name\"] = df_long[\"Country Name\"].apply(lambda val: \" \".join(val.split(\" \")[:-1]))\n",
    "\n",
    "#Ordering the columns\n",
    "df_long = df_long[[\"Country Name\",\"Country Code\",\"Year\",\"Values\"]]\n",
    "\n",
    "df_long.head()"
   ]
  },
  {
   "cell_type": "code",
   "execution_count": 273,
   "metadata": {},
   "outputs": [
    {
     "name": "stderr",
     "output_type": "stream",
     "text": [
      "C:\\Users\\Mert\\AppData\\Local\\Temp\\ipykernel_25644\\3049588538.py:5: DeprecationWarning:\n",
      "\n",
      "DataFrameGroupBy.apply operated on the grouping columns. This behavior is deprecated, and in a future version of pandas the grouping columns will be excluded from the operation. Either pass `include_groups=False` to exclude the groupings or explicitly select the grouping columns after groupby to silence this warning.\n",
      "\n"
     ]
    },
    {
     "data": {
      "image/png": "[encoded data removed]",
      "text/plain": [
       "<Figure size 640x480 with 1 Axes>"
      ]
     },
     "metadata": {},
     "output_type": "display_data"
    }
   ],
   "source": [
    "#Number of data points per each country\n",
    "len_country = len(df_long[df_long[\"Country Name\"] == \"Switzerland\"])\n",
    "\n",
    "# Count the number of NaN values for each country\n",
    "nan_count_per_country = df_long.groupby('Country Name').apply(lambda x: x.isna().sum())[\"Values\"]\n",
    "\n",
    "# Plot a bar plot of the 'nan_count_per_country' DataFrame\n",
    "nan_count_per_country[nan_count_per_country > 0].plot(kind = 'bar', xlabel='Country', ylabel='Missing Values')\n",
    "\n",
    "#These countries can be dropped\n",
    "countries_dropped = nan_count_per_country[nan_count_per_country > 0].index\n"
   ]
  },
  {
   "cell_type": "code",
   "execution_count": 274,
   "metadata": {},
   "outputs": [
    {
     "data": {
      "text/html": [
       "<div>\n",
       "<style scoped>\n",
       "    .dataframe tbody tr th:only-of-type {\n",
       "        vertical-align: middle;\n",
       "    }\n",
       "\n",
       "    .dataframe tbody tr th {\n",
       "        vertical-align: top;\n",
       "    }\n",
       "\n",
       "    .dataframe thead th {\n",
       "        text-align: right;\n",
       "    }\n",
       "</style>\n",
       "<table border=\"1\" class=\"dataframe\">\n",
       "  <thead>\n",
       "    <tr style=\"text-align: right;\">\n",
       "      <th></th>\n",
       "      <th>Country Name</th>\n",
       "      <th>Year</th>\n",
       "      <th>Differenced_Value</th>\n",
       "    </tr>\n",
       "  </thead>\n",
       "  <tbody>\n",
       "    <tr>\n",
       "      <th>0</th>\n",
       "      <td>Aruba</td>\n",
       "      <td>2000</td>\n",
       "      <td>0.000000</td>\n",
       "    </tr>\n",
       "    <tr>\n",
       "      <th>1</th>\n",
       "      <td>Africa Eastern and Southern</td>\n",
       "      <td>2000</td>\n",
       "      <td>-0.151253</td>\n",
       "    </tr>\n",
       "    <tr>\n",
       "      <th>2</th>\n",
       "      <td>Afghanistan</td>\n",
       "      <td>2000</td>\n",
       "      <td>0.000000</td>\n",
       "    </tr>\n",
       "    <tr>\n",
       "      <th>3</th>\n",
       "      <td>Africa Western and Central</td>\n",
       "      <td>2000</td>\n",
       "      <td>-0.118162</td>\n",
       "    </tr>\n",
       "    <tr>\n",
       "      <th>4</th>\n",
       "      <td>Angola</td>\n",
       "      <td>2000</td>\n",
       "      <td>-0.124663</td>\n",
       "    </tr>\n",
       "    <tr>\n",
       "      <th>...</th>\n",
       "      <td>...</td>\n",
       "      <td>...</td>\n",
       "      <td>...</td>\n",
       "    </tr>\n",
       "    <tr>\n",
       "      <th>5495</th>\n",
       "      <td>Samoa</td>\n",
       "      <td>2021</td>\n",
       "      <td>-0.172662</td>\n",
       "    </tr>\n",
       "    <tr>\n",
       "      <th>5496</th>\n",
       "      <td>Yemen, Rep.</td>\n",
       "      <td>2021</td>\n",
       "      <td>0.000000</td>\n",
       "    </tr>\n",
       "    <tr>\n",
       "      <th>5497</th>\n",
       "      <td>South Africa</td>\n",
       "      <td>2021</td>\n",
       "      <td>-0.030006</td>\n",
       "    </tr>\n",
       "    <tr>\n",
       "      <th>5498</th>\n",
       "      <td>Zambia</td>\n",
       "      <td>2021</td>\n",
       "      <td>-0.253187</td>\n",
       "    </tr>\n",
       "    <tr>\n",
       "      <th>5499</th>\n",
       "      <td>Zimbabwe</td>\n",
       "      <td>2021</td>\n",
       "      <td>-0.119090</td>\n",
       "    </tr>\n",
       "  </tbody>\n",
       "</table>\n",
       "<p>5500 rows × 3 columns</p>\n",
       "</div>"
      ],
      "text/plain": [
       "                     Country Name  Year  Differenced_Value\n",
       "0                           Aruba  2000           0.000000\n",
       "1     Africa Eastern and Southern  2000          -0.151253\n",
       "2                     Afghanistan  2000           0.000000\n",
       "3      Africa Western and Central  2000          -0.118162\n",
       "4                          Angola  2000          -0.124663\n",
       "...                           ...   ...                ...\n",
       "5495                        Samoa  2021          -0.172662\n",
       "5496                  Yemen, Rep.  2021           0.000000\n",
       "5497                 South Africa  2021          -0.030006\n",
       "5498                       Zambia  2021          -0.253187\n",
       "5499                     Zimbabwe  2021          -0.119090\n",
       "\n",
       "[5500 rows x 3 columns]"
      ]
     },
     "execution_count": 274,
     "metadata": {},
     "output_type": "execute_result"
    }
   ],
   "source": [
    "country_lst = nan_count_per_country[nan_count_per_country > 0].index.to_list()\n",
    "\n",
    "#Dropping all the data related to countries above\n",
    "df_cleaned = df_long[~df_long['Country Name'].isin(country_lst)]\n",
    "#Some countries have missing values but not that much, drop the rows with missing values\n",
    "df_cleaned = df_cleaned.dropna()\n",
    "\n",
    "df_cleaned['Differenced_Value'] = df_cleaned.groupby('Country Name')['Values'].diff()\n",
    "\n",
    "# Ensure that the 'Year' column is included for context\n",
    "df_cleaned = df_cleaned[['Country Name', 'Year', 'Differenced_Value']]\n",
    "\n",
    "#Remove the year 1999\n",
    "df_cleaned = df_cleaned[~(df_cleaned[\"Year\"] == 1999)]\n",
    "df_cleaned = df_cleaned.reset_index(drop = True)\n",
    "df_cleaned"
   ]
  },
  {
   "cell_type": "code",
   "execution_count": 275,
   "metadata": {},
   "outputs": [
    {
     "data": {
      "image/png": "[encoded data removed]",
      "text/plain": [
       "<Figure size 1000x600 with 1 Axes>"
      ]
     },
     "metadata": {},
     "output_type": "display_data"
    }
   ],
   "source": [
    "#Outlier analysis\n",
    "#Calcualte the spread of deforestation rate for countries (max  - min)\n",
    "spread_df = df_cleaned.groupby(\"Country Name\")[\"Differenced_Value\"].agg(lambda x: x.max() - x.min())\n",
    "#Therefore it is reasonable to take the average per country\n",
    "\n",
    "\n",
    "plt.figure(figsize=(10, 6))\n",
    "spread_df.plot(kind = \"bar\")\n",
    "plt.xticks(fontsize=0.4)  # Set the font size as desired (e.g., 6)\n",
    "plt.ylabel('Spread of Percentage Change')\n",
    "#plt.axhline(y=2, color='red', linestyle='--')\n",
    "plt.show()\n"
   ]
  },
  {
   "cell_type": "code",
   "execution_count": 276,
   "metadata": {},
   "outputs": [
    {
     "name": "stdout",
     "output_type": "stream",
     "text": [
      "Country Name\n",
      "Bhutan                       3.183103\n",
      "Estonia                      2.337298\n",
      "Ethiopia                     2.087149\n",
      "French Polynesia             2.322601\n",
      "Guam                         5.555556\n",
      "Indonesia                    3.046724\n",
      "Northern Mariana Islands    11.152174\n",
      "Viet Nam                     2.301372\n",
      "Name: Differenced_Value, dtype: float64\n"
     ]
    }
   ],
   "source": [
    "spread_df[spread_df>2] #The difference between maximum percentage change and minimum percentage is larger than %2\n",
    "countries_with_large_spread = (spread_df[spread_df>2]).index.to_list()\n",
    "df_filtered = df_cleaned[~df_cleaned['Country Name'].isin(countries_with_large_spread)]#Removing those countries\n",
    "print(spread_df[spread_df>2])"
   ]
  },
  {
   "cell_type": "code",
   "execution_count": 277,
   "metadata": {},
   "outputs": [
    {
     "data": {
      "text/plain": [
       "Country Name         0\n",
       "Year                 0\n",
       "Differenced_Value    0\n",
       "dtype: int64"
      ]
     },
     "execution_count": 277,
     "metadata": {},
     "output_type": "execute_result"
    }
   ],
   "source": [
    "df_cleaned.isna().sum()"
   ]
  },
  {
   "cell_type": "markdown",
   "metadata": {},
   "source": [
    "# Poteantial explanations for the outliers?"
   ]
  },
  {
   "cell_type": "code",
   "execution_count": 278,
   "metadata": {},
   "outputs": [
    {
     "data": {
      "text/html": [
       "<div>\n",
       "<style scoped>\n",
       "    .dataframe tbody tr th:only-of-type {\n",
       "        vertical-align: middle;\n",
       "    }\n",
       "\n",
       "    .dataframe tbody tr th {\n",
       "        vertical-align: top;\n",
       "    }\n",
       "\n",
       "    .dataframe thead th {\n",
       "        text-align: right;\n",
       "    }\n",
       "</style>\n",
       "<table border=\"1\" class=\"dataframe\">\n",
       "  <thead>\n",
       "    <tr style=\"text-align: right;\">\n",
       "      <th></th>\n",
       "      <th>Country Name</th>\n",
       "      <th>Year</th>\n",
       "      <th>Differenced_Value</th>\n",
       "    </tr>\n",
       "  </thead>\n",
       "  <tbody>\n",
       "    <tr>\n",
       "      <th>154</th>\n",
       "      <td>Northern Mariana Islands</td>\n",
       "      <td>2000</td>\n",
       "      <td>-0.358696</td>\n",
       "    </tr>\n",
       "    <tr>\n",
       "      <th>404</th>\n",
       "      <td>Northern Mariana Islands</td>\n",
       "      <td>2001</td>\n",
       "      <td>-0.356522</td>\n",
       "    </tr>\n",
       "    <tr>\n",
       "      <th>654</th>\n",
       "      <td>Northern Mariana Islands</td>\n",
       "      <td>2002</td>\n",
       "      <td>-0.356522</td>\n",
       "    </tr>\n",
       "    <tr>\n",
       "      <th>904</th>\n",
       "      <td>Northern Mariana Islands</td>\n",
       "      <td>2003</td>\n",
       "      <td>-0.356522</td>\n",
       "    </tr>\n",
       "    <tr>\n",
       "      <th>1154</th>\n",
       "      <td>Northern Mariana Islands</td>\n",
       "      <td>2004</td>\n",
       "      <td>-0.356522</td>\n",
       "    </tr>\n",
       "    <tr>\n",
       "      <th>1404</th>\n",
       "      <td>Northern Mariana Islands</td>\n",
       "      <td>2005</td>\n",
       "      <td>-0.356522</td>\n",
       "    </tr>\n",
       "    <tr>\n",
       "      <th>1654</th>\n",
       "      <td>Northern Mariana Islands</td>\n",
       "      <td>2006</td>\n",
       "      <td>-0.356522</td>\n",
       "    </tr>\n",
       "    <tr>\n",
       "      <th>1904</th>\n",
       "      <td>Northern Mariana Islands</td>\n",
       "      <td>2007</td>\n",
       "      <td>-0.356522</td>\n",
       "    </tr>\n",
       "    <tr>\n",
       "      <th>2154</th>\n",
       "      <td>Northern Mariana Islands</td>\n",
       "      <td>2008</td>\n",
       "      <td>-0.356522</td>\n",
       "    </tr>\n",
       "    <tr>\n",
       "      <th>2404</th>\n",
       "      <td>Northern Mariana Islands</td>\n",
       "      <td>2009</td>\n",
       "      <td>-0.356522</td>\n",
       "    </tr>\n",
       "    <tr>\n",
       "      <th>2654</th>\n",
       "      <td>Northern Mariana Islands</td>\n",
       "      <td>2010</td>\n",
       "      <td>-0.356522</td>\n",
       "    </tr>\n",
       "    <tr>\n",
       "      <th>2904</th>\n",
       "      <td>Northern Mariana Islands</td>\n",
       "      <td>2011</td>\n",
       "      <td>-0.360870</td>\n",
       "    </tr>\n",
       "    <tr>\n",
       "      <th>3154</th>\n",
       "      <td>Northern Mariana Islands</td>\n",
       "      <td>2012</td>\n",
       "      <td>-0.360870</td>\n",
       "    </tr>\n",
       "    <tr>\n",
       "      <th>3404</th>\n",
       "      <td>Northern Mariana Islands</td>\n",
       "      <td>2013</td>\n",
       "      <td>-0.360870</td>\n",
       "    </tr>\n",
       "    <tr>\n",
       "      <th>3654</th>\n",
       "      <td>Northern Mariana Islands</td>\n",
       "      <td>2014</td>\n",
       "      <td>-0.360870</td>\n",
       "    </tr>\n",
       "    <tr>\n",
       "      <th>3904</th>\n",
       "      <td>Northern Mariana Islands</td>\n",
       "      <td>2015</td>\n",
       "      <td>-0.360870</td>\n",
       "    </tr>\n",
       "    <tr>\n",
       "      <th>4154</th>\n",
       "      <td>Northern Mariana Islands</td>\n",
       "      <td>2016</td>\n",
       "      <td>-11.152174</td>\n",
       "    </tr>\n",
       "    <tr>\n",
       "      <th>4404</th>\n",
       "      <td>Northern Mariana Islands</td>\n",
       "      <td>2017</td>\n",
       "      <td>0.000000</td>\n",
       "    </tr>\n",
       "    <tr>\n",
       "      <th>4654</th>\n",
       "      <td>Northern Mariana Islands</td>\n",
       "      <td>2018</td>\n",
       "      <td>0.000000</td>\n",
       "    </tr>\n",
       "    <tr>\n",
       "      <th>4904</th>\n",
       "      <td>Northern Mariana Islands</td>\n",
       "      <td>2019</td>\n",
       "      <td>0.000000</td>\n",
       "    </tr>\n",
       "    <tr>\n",
       "      <th>5154</th>\n",
       "      <td>Northern Mariana Islands</td>\n",
       "      <td>2020</td>\n",
       "      <td>0.000000</td>\n",
       "    </tr>\n",
       "    <tr>\n",
       "      <th>5404</th>\n",
       "      <td>Northern Mariana Islands</td>\n",
       "      <td>2021</td>\n",
       "      <td>0.000000</td>\n",
       "    </tr>\n",
       "  </tbody>\n",
       "</table>\n",
       "</div>"
      ],
      "text/plain": [
       "                  Country Name  Year  Differenced_Value\n",
       "154   Northern Mariana Islands  2000          -0.358696\n",
       "404   Northern Mariana Islands  2001          -0.356522\n",
       "654   Northern Mariana Islands  2002          -0.356522\n",
       "904   Northern Mariana Islands  2003          -0.356522\n",
       "1154  Northern Mariana Islands  2004          -0.356522\n",
       "1404  Northern Mariana Islands  2005          -0.356522\n",
       "1654  Northern Mariana Islands  2006          -0.356522\n",
       "1904  Northern Mariana Islands  2007          -0.356522\n",
       "2154  Northern Mariana Islands  2008          -0.356522\n",
       "2404  Northern Mariana Islands  2009          -0.356522\n",
       "2654  Northern Mariana Islands  2010          -0.356522\n",
       "2904  Northern Mariana Islands  2011          -0.360870\n",
       "3154  Northern Mariana Islands  2012          -0.360870\n",
       "3404  Northern Mariana Islands  2013          -0.360870\n",
       "3654  Northern Mariana Islands  2014          -0.360870\n",
       "3904  Northern Mariana Islands  2015          -0.360870\n",
       "4154  Northern Mariana Islands  2016         -11.152174\n",
       "4404  Northern Mariana Islands  2017           0.000000\n",
       "4654  Northern Mariana Islands  2018           0.000000\n",
       "4904  Northern Mariana Islands  2019           0.000000\n",
       "5154  Northern Mariana Islands  2020           0.000000\n",
       "5404  Northern Mariana Islands  2021           0.000000"
      ]
     },
     "execution_count": 278,
     "metadata": {},
     "output_type": "execute_result"
    }
   ],
   "source": [
    "df_cleaned[df_cleaned[\"Country Name\"] == \"Northern Mariana Islands\"] #Just tot look at the forest rate coverage "
   ]
  },
  {
   "cell_type": "code",
   "execution_count": 279,
   "metadata": {},
   "outputs": [
    {
     "data": {
      "text/plain": [
       "Country Name\n",
       "Afghanistan                    0.000000\n",
       "Africa Eastern and Southern   -0.223342\n",
       "Africa Western and Central    -0.090064\n",
       "Albania                        0.029280\n",
       "Algeria                        0.007071\n",
       "                                 ...   \n",
       "West Bank and Gaza             0.007940\n",
       "World                         -0.041150\n",
       "Yemen, Rep.                    0.000000\n",
       "Zambia                        -0.150660\n",
       "Zimbabwe                      -0.119090\n",
       "Name: Differenced_Value, Length: 242, dtype: float64"
      ]
     },
     "execution_count": 279,
     "metadata": {},
     "output_type": "execute_result"
    }
   ],
   "source": [
    "average_deforestation = df_filtered.groupby(\"Country Name\")[\"Differenced_Value\"].mean()  #Taking the average\n",
    "#Now this becomes the average percentage change at the last 20 years (For example: For Albania the average deforestation rate is 0.035%)\n",
    "average_deforestation"
   ]
  },
  {
   "cell_type": "code",
   "execution_count": 280,
   "metadata": {},
   "outputs": [
    {
     "name": "stderr",
     "output_type": "stream",
     "text": [
      "c:\\Users\\Mert\\anaconda3\\Lib\\site-packages\\seaborn\\_oldcore.py:1119: FutureWarning:\n",
      "\n",
      "use_inf_as_na option is deprecated and will be removed in a future version. Convert inf values to NaN before operating instead.\n",
      "\n"
     ]
    },
    {
     "data": {
      "image/png": "[encoded data removed]",
      "text/plain": [
       "<Figure size 1000x600 with 1 Axes>"
      ]
     },
     "metadata": {},
     "output_type": "display_data"
    }
   ],
   "source": [
    "plt.figure(figsize=(10,6))\n",
    "sns.histplot(average_deforestation, bins=20, kde=False, edgecolor='black')\n",
    "\n",
    "# Add labels and title\n",
    "plt.xlabel('Differenced_Value')\n",
    "plt.ylabel('Frequency')\n",
    "plt.title('Empirical Distribution of Average Deforestation rate for countries')\n",
    "\n",
    "# Show the plot\n",
    "plt.show()"
   ]
  },
  {
   "cell_type": "markdown",
   "metadata": {},
   "source": [
    "### **Research Question**: What is the effect of agricultural land expansion rate of corn fields on deforestation rate of countries by controlling for land size of countries?     "
   ]
  },
  {
   "cell_type": "code",
   "execution_count": 281,
   "metadata": {},
   "outputs": [
    {
     "data": {
      "text/html": [
       "<div>\n",
       "<style scoped>\n",
       "    .dataframe tbody tr th:only-of-type {\n",
       "        vertical-align: middle;\n",
       "    }\n",
       "\n",
       "    .dataframe tbody tr th {\n",
       "        vertical-align: top;\n",
       "    }\n",
       "\n",
       "    .dataframe thead th {\n",
       "        text-align: right;\n",
       "    }\n",
       "</style>\n",
       "<table border=\"1\" class=\"dataframe\">\n",
       "  <thead>\n",
       "    <tr style=\"text-align: right;\">\n",
       "      <th></th>\n",
       "      <th>Domain Code</th>\n",
       "      <th>Domain</th>\n",
       "      <th>Area Code (M49)</th>\n",
       "      <th>Area</th>\n",
       "      <th>Element Code</th>\n",
       "      <th>Element</th>\n",
       "      <th>Item Code (CPC)</th>\n",
       "      <th>Item</th>\n",
       "      <th>Year Code</th>\n",
       "      <th>Year</th>\n",
       "      <th>Unit</th>\n",
       "      <th>Value</th>\n",
       "      <th>Flag</th>\n",
       "      <th>Flag Description</th>\n",
       "      <th>Note</th>\n",
       "    </tr>\n",
       "  </thead>\n",
       "  <tbody>\n",
       "    <tr>\n",
       "      <th>0</th>\n",
       "      <td>QCL</td>\n",
       "      <td>Crops and livestock products</td>\n",
       "      <td>4</td>\n",
       "      <td>Afghanistan</td>\n",
       "      <td>5312</td>\n",
       "      <td>Area harvested</td>\n",
       "      <td>112</td>\n",
       "      <td>Maize (corn)</td>\n",
       "      <td>1961</td>\n",
       "      <td>1961</td>\n",
       "      <td>ha</td>\n",
       "      <td>500000</td>\n",
       "      <td>A</td>\n",
       "      <td>Official figure</td>\n",
       "      <td>NaN</td>\n",
       "    </tr>\n",
       "    <tr>\n",
       "      <th>1</th>\n",
       "      <td>QCL</td>\n",
       "      <td>Crops and livestock products</td>\n",
       "      <td>4</td>\n",
       "      <td>Afghanistan</td>\n",
       "      <td>5312</td>\n",
       "      <td>Area harvested</td>\n",
       "      <td>112</td>\n",
       "      <td>Maize (corn)</td>\n",
       "      <td>1962</td>\n",
       "      <td>1962</td>\n",
       "      <td>ha</td>\n",
       "      <td>500000</td>\n",
       "      <td>A</td>\n",
       "      <td>Official figure</td>\n",
       "      <td>NaN</td>\n",
       "    </tr>\n",
       "    <tr>\n",
       "      <th>2</th>\n",
       "      <td>QCL</td>\n",
       "      <td>Crops and livestock products</td>\n",
       "      <td>4</td>\n",
       "      <td>Afghanistan</td>\n",
       "      <td>5312</td>\n",
       "      <td>Area harvested</td>\n",
       "      <td>112</td>\n",
       "      <td>Maize (corn)</td>\n",
       "      <td>1963</td>\n",
       "      <td>1963</td>\n",
       "      <td>ha</td>\n",
       "      <td>500000</td>\n",
       "      <td>A</td>\n",
       "      <td>Official figure</td>\n",
       "      <td>NaN</td>\n",
       "    </tr>\n",
       "    <tr>\n",
       "      <th>3</th>\n",
       "      <td>QCL</td>\n",
       "      <td>Crops and livestock products</td>\n",
       "      <td>4</td>\n",
       "      <td>Afghanistan</td>\n",
       "      <td>5312</td>\n",
       "      <td>Area harvested</td>\n",
       "      <td>112</td>\n",
       "      <td>Maize (corn)</td>\n",
       "      <td>1964</td>\n",
       "      <td>1964</td>\n",
       "      <td>ha</td>\n",
       "      <td>505000</td>\n",
       "      <td>A</td>\n",
       "      <td>Official figure</td>\n",
       "      <td>NaN</td>\n",
       "    </tr>\n",
       "    <tr>\n",
       "      <th>4</th>\n",
       "      <td>QCL</td>\n",
       "      <td>Crops and livestock products</td>\n",
       "      <td>4</td>\n",
       "      <td>Afghanistan</td>\n",
       "      <td>5312</td>\n",
       "      <td>Area harvested</td>\n",
       "      <td>112</td>\n",
       "      <td>Maize (corn)</td>\n",
       "      <td>1965</td>\n",
       "      <td>1965</td>\n",
       "      <td>ha</td>\n",
       "      <td>500000</td>\n",
       "      <td>A</td>\n",
       "      <td>Official figure</td>\n",
       "      <td>NaN</td>\n",
       "    </tr>\n",
       "  </tbody>\n",
       "</table>\n",
       "</div>"
      ],
      "text/plain": [
       "  Domain Code                        Domain  Area Code (M49)         Area  \\\n",
       "0         QCL  Crops and livestock products                4  Afghanistan   \n",
       "1         QCL  Crops and livestock products                4  Afghanistan   \n",
       "2         QCL  Crops and livestock products                4  Afghanistan   \n",
       "3         QCL  Crops and livestock products                4  Afghanistan   \n",
       "4         QCL  Crops and livestock products                4  Afghanistan   \n",
       "\n",
       "   Element Code         Element  Item Code (CPC)          Item  Year Code  \\\n",
       "0          5312  Area harvested              112  Maize (corn)       1961   \n",
       "1          5312  Area harvested              112  Maize (corn)       1962   \n",
       "2          5312  Area harvested              112  Maize (corn)       1963   \n",
       "3          5312  Area harvested              112  Maize (corn)       1964   \n",
       "4          5312  Area harvested              112  Maize (corn)       1965   \n",
       "\n",
       "   Year Unit   Value Flag Flag Description Note  \n",
       "0  1961   ha  500000    A  Official figure  NaN  \n",
       "1  1962   ha  500000    A  Official figure  NaN  \n",
       "2  1963   ha  500000    A  Official figure  NaN  \n",
       "3  1964   ha  505000    A  Official figure  NaN  \n",
       "4  1965   ha  500000    A  Official figure  NaN  "
      ]
     },
     "execution_count": 281,
     "metadata": {},
     "output_type": "execute_result"
    }
   ],
   "source": [
    "corn_field_data = pd.read_csv('./Data/FAOSTAT_data_en_10-2-2024.csv')\n",
    "corn_field_data.head()"
   ]
  },
  {
   "cell_type": "code",
   "execution_count": 282,
   "metadata": {},
   "outputs": [
    {
     "data": {
      "text/plain": [
       "Domain Code            0\n",
       "Domain                 0\n",
       "Area Code (M49)        0\n",
       "Area                   0\n",
       "Element Code           0\n",
       "Element                0\n",
       "Item Code (CPC)        0\n",
       "Item                   0\n",
       "Year Code              0\n",
       "Year                   0\n",
       "Unit                   0\n",
       "Value                  0\n",
       "Flag                   0\n",
       "Flag Description       0\n",
       "Note                9209\n",
       "dtype: int64"
      ]
     },
     "execution_count": 282,
     "metadata": {},
     "output_type": "execute_result"
    }
   ],
   "source": [
    "corn_field_data.isna().sum()"
   ]
  },
  {
   "cell_type": "code",
   "execution_count": 283,
   "metadata": {},
   "outputs": [],
   "source": [
    "#Filtering the data between 2000 and 2021\n",
    "corn_field_data = corn_field_data[(corn_field_data['Year'] >= 2000) & (corn_field_data['Year'] <= 2021)]"
   ]
  },
  {
   "cell_type": "code",
   "execution_count": 284,
   "metadata": {},
   "outputs": [
    {
     "data": {
      "text/plain": [
       "(3669, 15)"
      ]
     },
     "execution_count": 284,
     "metadata": {},
     "output_type": "execute_result"
    }
   ],
   "source": [
    "#Shape of the data\n",
    "corn_field_data.shape"
   ]
  },
  {
   "cell_type": "code",
   "execution_count": 285,
   "metadata": {},
   "outputs": [
    {
     "data": {
      "text/plain": [
       "array([nan, 'Unofficial figure'], dtype=object)"
      ]
     },
     "execution_count": 285,
     "metadata": {},
     "output_type": "execute_result"
    }
   ],
   "source": [
    "corn_field_data[\"Note\"].unique()"
   ]
  },
  {
   "cell_type": "code",
   "execution_count": 286,
   "metadata": {},
   "outputs": [
    {
     "data": {
      "text/plain": [
       "array(['Official figure', 'Estimated value', 'Imputed value',\n",
       "       'Figure from international organizations',\n",
       "       'Missing value (data cannot exist, not applicable)'], dtype=object)"
      ]
     },
     "execution_count": 286,
     "metadata": {},
     "output_type": "execute_result"
    }
   ],
   "source": [
    "corn_field_data[\"Flag Description\"].unique()"
   ]
  },
  {
   "cell_type": "code",
   "execution_count": 287,
   "metadata": {},
   "outputs": [],
   "source": [
    "corn_field_data = corn_field_data[(corn_field_data[\"Flag Description\"] == \"Official figure\") & (corn_field_data[\"Note\"] != \"Unofficial figure\")]"
   ]
  },
  {
   "cell_type": "code",
   "execution_count": 288,
   "metadata": {},
   "outputs": [
    {
     "name": "stdout",
     "output_type": "stream",
     "text": [
      "Number of countries in the corn field dataset:  162\n"
     ]
    }
   ],
   "source": [
    "#Unique country amount: Does the number of countires in this data match with deforestation data?\n",
    "print(\"Number of countries in the corn field dataset: \",len(corn_field_data[\"Area\"].unique()))"
   ]
  },
  {
   "cell_type": "code",
   "execution_count": 289,
   "metadata": {},
   "outputs": [
    {
     "name": "stdout",
     "output_type": "stream",
     "text": [
      "True\n",
      "Crops and livestock products\n",
      "Area harvested\n",
      "Maize (corn)\n"
     ]
    },
    {
     "data": {
      "text/html": [
       "<div>\n",
       "<style scoped>\n",
       "    .dataframe tbody tr th:only-of-type {\n",
       "        vertical-align: middle;\n",
       "    }\n",
       "\n",
       "    .dataframe tbody tr th {\n",
       "        vertical-align: top;\n",
       "    }\n",
       "\n",
       "    .dataframe thead th {\n",
       "        text-align: right;\n",
       "    }\n",
       "</style>\n",
       "<table border=\"1\" class=\"dataframe\">\n",
       "  <thead>\n",
       "    <tr style=\"text-align: right;\">\n",
       "      <th></th>\n",
       "      <th>Area</th>\n",
       "      <th>Value</th>\n",
       "    </tr>\n",
       "  </thead>\n",
       "  <tbody>\n",
       "    <tr>\n",
       "      <th>39</th>\n",
       "      <td>Afghanistan</td>\n",
       "      <td>96000</td>\n",
       "    </tr>\n",
       "    <tr>\n",
       "      <th>40</th>\n",
       "      <td>Afghanistan</td>\n",
       "      <td>80000</td>\n",
       "    </tr>\n",
       "    <tr>\n",
       "      <th>41</th>\n",
       "      <td>Afghanistan</td>\n",
       "      <td>100000</td>\n",
       "    </tr>\n",
       "    <tr>\n",
       "      <th>42</th>\n",
       "      <td>Afghanistan</td>\n",
       "      <td>250000</td>\n",
       "    </tr>\n",
       "    <tr>\n",
       "      <th>43</th>\n",
       "      <td>Afghanistan</td>\n",
       "      <td>250000</td>\n",
       "    </tr>\n",
       "    <tr>\n",
       "      <th>44</th>\n",
       "      <td>Afghanistan</td>\n",
       "      <td>261000</td>\n",
       "    </tr>\n",
       "    <tr>\n",
       "      <th>45</th>\n",
       "      <td>Afghanistan</td>\n",
       "      <td>137000</td>\n",
       "    </tr>\n",
       "    <tr>\n",
       "      <th>46</th>\n",
       "      <td>Afghanistan</td>\n",
       "      <td>137000</td>\n",
       "    </tr>\n",
       "    <tr>\n",
       "      <th>47</th>\n",
       "      <td>Afghanistan</td>\n",
       "      <td>137000</td>\n",
       "    </tr>\n",
       "    <tr>\n",
       "      <th>48</th>\n",
       "      <td>Afghanistan</td>\n",
       "      <td>140000</td>\n",
       "    </tr>\n",
       "    <tr>\n",
       "      <th>49</th>\n",
       "      <td>Afghanistan</td>\n",
       "      <td>183000</td>\n",
       "    </tr>\n",
       "    <tr>\n",
       "      <th>50</th>\n",
       "      <td>Afghanistan</td>\n",
       "      <td>183000</td>\n",
       "    </tr>\n",
       "    <tr>\n",
       "      <th>51</th>\n",
       "      <td>Afghanistan</td>\n",
       "      <td>141000</td>\n",
       "    </tr>\n",
       "    <tr>\n",
       "      <th>52</th>\n",
       "      <td>Afghanistan</td>\n",
       "      <td>142000</td>\n",
       "    </tr>\n",
       "    <tr>\n",
       "      <th>53</th>\n",
       "      <td>Afghanistan</td>\n",
       "      <td>127000</td>\n",
       "    </tr>\n",
       "    <tr>\n",
       "      <th>54</th>\n",
       "      <td>Afghanistan</td>\n",
       "      <td>147273</td>\n",
       "    </tr>\n",
       "    <tr>\n",
       "      <th>55</th>\n",
       "      <td>Afghanistan</td>\n",
       "      <td>151900</td>\n",
       "    </tr>\n",
       "    <tr>\n",
       "      <th>56</th>\n",
       "      <td>Afghanistan</td>\n",
       "      <td>134225</td>\n",
       "    </tr>\n",
       "    <tr>\n",
       "      <th>57</th>\n",
       "      <td>Afghanistan</td>\n",
       "      <td>72433</td>\n",
       "    </tr>\n",
       "    <tr>\n",
       "      <th>58</th>\n",
       "      <td>Afghanistan</td>\n",
       "      <td>94910</td>\n",
       "    </tr>\n",
       "    <tr>\n",
       "      <th>59</th>\n",
       "      <td>Afghanistan</td>\n",
       "      <td>140498</td>\n",
       "    </tr>\n",
       "    <tr>\n",
       "      <th>60</th>\n",
       "      <td>Afghanistan</td>\n",
       "      <td>139080</td>\n",
       "    </tr>\n",
       "    <tr>\n",
       "      <th>101</th>\n",
       "      <td>Albania</td>\n",
       "      <td>53000</td>\n",
       "    </tr>\n",
       "    <tr>\n",
       "      <th>102</th>\n",
       "      <td>Albania</td>\n",
       "      <td>52000</td>\n",
       "    </tr>\n",
       "    <tr>\n",
       "      <th>103</th>\n",
       "      <td>Albania</td>\n",
       "      <td>50000</td>\n",
       "    </tr>\n",
       "    <tr>\n",
       "      <th>104</th>\n",
       "      <td>Albania</td>\n",
       "      <td>48336</td>\n",
       "    </tr>\n",
       "    <tr>\n",
       "      <th>105</th>\n",
       "      <td>Albania</td>\n",
       "      <td>46800</td>\n",
       "    </tr>\n",
       "    <tr>\n",
       "      <th>106</th>\n",
       "      <td>Albania</td>\n",
       "      <td>48391</td>\n",
       "    </tr>\n",
       "    <tr>\n",
       "      <th>107</th>\n",
       "      <td>Albania</td>\n",
       "      <td>48971</td>\n",
       "    </tr>\n",
       "    <tr>\n",
       "      <th>108</th>\n",
       "      <td>Albania</td>\n",
       "      <td>46200</td>\n",
       "    </tr>\n",
       "  </tbody>\n",
       "</table>\n",
       "</div>"
      ],
      "text/plain": [
       "            Area   Value\n",
       "39   Afghanistan   96000\n",
       "40   Afghanistan   80000\n",
       "41   Afghanistan  100000\n",
       "42   Afghanistan  250000\n",
       "43   Afghanistan  250000\n",
       "44   Afghanistan  261000\n",
       "45   Afghanistan  137000\n",
       "46   Afghanistan  137000\n",
       "47   Afghanistan  137000\n",
       "48   Afghanistan  140000\n",
       "49   Afghanistan  183000\n",
       "50   Afghanistan  183000\n",
       "51   Afghanistan  141000\n",
       "52   Afghanistan  142000\n",
       "53   Afghanistan  127000\n",
       "54   Afghanistan  147273\n",
       "55   Afghanistan  151900\n",
       "56   Afghanistan  134225\n",
       "57   Afghanistan   72433\n",
       "58   Afghanistan   94910\n",
       "59   Afghanistan  140498\n",
       "60   Afghanistan  139080\n",
       "101      Albania   53000\n",
       "102      Albania   52000\n",
       "103      Albania   50000\n",
       "104      Albania   48336\n",
       "105      Albania   46800\n",
       "106      Albania   48391\n",
       "107      Albania   48971\n",
       "108      Albania   46200"
      ]
     },
     "execution_count": 289,
     "metadata": {},
     "output_type": "execute_result"
    }
   ],
   "source": [
    "#The two columns are the same\n",
    "print(len(corn_field_data[\"Year Code\"] == corn_field_data[\"Year\"]) == len(corn_field_data))\n",
    "print(corn_field_data[\"Domain\"].unique()[0])\n",
    "print(corn_field_data[\"Element\"].unique()[0])\n",
    "print(corn_field_data[\"Item\"].unique()[0])\n",
    "\n",
    "corn_field_data = corn_field_data[[\"Area\",\"Value\"]] #extracting the necessary columns\n",
    "corn_field_data.head(30)"
   ]
  },
  {
   "cell_type": "code",
   "execution_count": 290,
   "metadata": {},
   "outputs": [
    {
     "data": {
      "text/html": [
       "<div>\n",
       "<style scoped>\n",
       "    .dataframe tbody tr th:only-of-type {\n",
       "        vertical-align: middle;\n",
       "    }\n",
       "\n",
       "    .dataframe tbody tr th {\n",
       "        vertical-align: top;\n",
       "    }\n",
       "\n",
       "    .dataframe thead th {\n",
       "        text-align: right;\n",
       "    }\n",
       "</style>\n",
       "<table border=\"1\" class=\"dataframe\">\n",
       "  <thead>\n",
       "    <tr style=\"text-align: right;\">\n",
       "      <th></th>\n",
       "      <th>Area</th>\n",
       "      <th>Value</th>\n",
       "    </tr>\n",
       "  </thead>\n",
       "  <tbody>\n",
       "    <tr>\n",
       "      <th>39</th>\n",
       "      <td>Afghanistan</td>\n",
       "      <td>96000</td>\n",
       "    </tr>\n",
       "    <tr>\n",
       "      <th>40</th>\n",
       "      <td>Afghanistan</td>\n",
       "      <td>80000</td>\n",
       "    </tr>\n",
       "    <tr>\n",
       "      <th>41</th>\n",
       "      <td>Afghanistan</td>\n",
       "      <td>100000</td>\n",
       "    </tr>\n",
       "    <tr>\n",
       "      <th>42</th>\n",
       "      <td>Afghanistan</td>\n",
       "      <td>250000</td>\n",
       "    </tr>\n",
       "    <tr>\n",
       "      <th>43</th>\n",
       "      <td>Afghanistan</td>\n",
       "      <td>250000</td>\n",
       "    </tr>\n",
       "  </tbody>\n",
       "</table>\n",
       "</div>"
      ],
      "text/plain": [
       "           Area   Value\n",
       "39  Afghanistan   96000\n",
       "40  Afghanistan   80000\n",
       "41  Afghanistan  100000\n",
       "42  Afghanistan  250000\n",
       "43  Afghanistan  250000"
      ]
     },
     "execution_count": 290,
     "metadata": {},
     "output_type": "execute_result"
    }
   ],
   "source": [
    "areas_to_exclude = corn_field_data[corn_field_data[\"Value\"] == 0][\"Area\"].unique() #These countries include 0 values\n",
    "#Exclude these countries completely\n",
    "corn_field_data = corn_field_data[~corn_field_data['Area'].isin(areas_to_exclude)]\n",
    "corn_field_data.head()"
   ]
  },
  {
   "cell_type": "code",
   "execution_count": 291,
   "metadata": {},
   "outputs": [
    {
     "data": {
      "text/plain": [
       "Area     object\n",
       "Value     int64\n",
       "dtype: object"
      ]
     },
     "execution_count": 291,
     "metadata": {},
     "output_type": "execute_result"
    }
   ],
   "source": [
    "corn_field_data.dtypes #No need to convert the year column"
   ]
  },
  {
   "cell_type": "code",
   "execution_count": 292,
   "metadata": {},
   "outputs": [
    {
     "data": {
      "text/plain": [
       "Area     0\n",
       "Value    0\n",
       "dtype: int64"
      ]
     },
     "execution_count": 292,
     "metadata": {},
     "output_type": "execute_result"
    }
   ],
   "source": [
    "#Missing values\n",
    "corn_field_data.isna().sum()"
   ]
  },
  {
   "cell_type": "code",
   "execution_count": 293,
   "metadata": {},
   "outputs": [],
   "source": [
    "#Calculating the corn field expansion rate\n",
    "corn_field_exp_rt= corn_field_data.groupby(\"Area\")[\"Value\"].apply(lambda x: x.pct_change()*100)\n",
    "corn_field_exp_rt_df = pd.DataFrame(corn_field_exp_rt).reset_index().drop(\"level_1\", axis = 1)\n",
    "#Dropping na values due to percentange change calculation\n",
    "corn_field_exp_rt_df = corn_field_exp_rt_df.dropna()"
   ]
  },
  {
   "cell_type": "code",
   "execution_count": 294,
   "metadata": {},
   "outputs": [
    {
     "name": "stderr",
     "output_type": "stream",
     "text": [
      "C:\\Users\\Mert\\AppData\\Local\\Temp\\ipykernel_25644\\1974753527.py:2: FutureWarning:\n",
      "\n",
      "The provided callable <built-in function max> is currently using SeriesGroupBy.max. In a future version of pandas, the provided callable will be used directly. To keep current behavior pass the string \"max\" instead.\n",
      "\n",
      "C:\\Users\\Mert\\AppData\\Local\\Temp\\ipykernel_25644\\1974753527.py:2: FutureWarning:\n",
      "\n",
      "The provided callable <built-in function min> is currently using SeriesGroupBy.min. In a future version of pandas, the provided callable will be used directly. To keep current behavior pass the string \"min\" instead.\n",
      "\n"
     ]
    },
    {
     "data": {
      "image/png": "[encoded data removed]",
      "text/plain": [
       "<Figure size 1000x600 with 1 Axes>"
      ]
     },
     "metadata": {},
     "output_type": "display_data"
    }
   ],
   "source": [
    "#Calcualtin gthe max-min percentage changes in corn field expansion rate\n",
    "max_min_values = corn_field_exp_rt_df.groupby(\"Area\")[\"Value\"].agg([max, min])\n",
    "\n",
    "\n",
    "# Plotting the max and min values for each country\n",
    "plt.figure(figsize=(10, 6))\n",
    "\n",
    "# Plot the max values\n",
    "plt.bar(max_min_values.index, max_min_values['max'], label='Max Values', alpha=0.6)\n",
    "\n",
    "# Plot the min values\n",
    "plt.bar(max_min_values.index, max_min_values['min'], label='Min Values', alpha=0.6)\n",
    "\n",
    "plt.xticks(fontsize=0.4)\n",
    "# Add labels and title\n",
    "plt.xlabel('Country')\n",
    "plt.ylabel('Value (%)')\n",
    "plt.title('Max Percentage Change and Min Percentage Change Values for Each Country')\n",
    "plt.xticks(rotation=90)\n",
    "plt.axhline(y=500, color='red', linestyle='--')\n",
    "plt.legend()\n",
    "\n",
    "# Show the plot\n",
    "plt.tight_layout()\n",
    "plt.show()"
   ]
  },
  {
   "cell_type": "code",
   "execution_count": 295,
   "metadata": {},
   "outputs": [
    {
     "data": {
      "text/plain": [
       "Index(['Algeria', 'Cameroon', 'Fiji', 'Niger', 'United Arab Emirates'], dtype='object', name='Area')"
      ]
     },
     "execution_count": 295,
     "metadata": {},
     "output_type": "execute_result"
    }
   ],
   "source": [
    "#Excluding the outliers (Excluding %500 times expansion)\n",
    "outlier_countries = max_min_values[(max_min_values[\"max\"] > 500)].index\n",
    "outlier_countries"
   ]
  },
  {
   "cell_type": "code",
   "execution_count": 296,
   "metadata": {},
   "outputs": [
    {
     "data": {
      "text/plain": [
       "Area\n",
       "Afghanistan                            7.371932\n",
       "Albania                                0.633505\n",
       "Angola                                13.779700\n",
       "Antigua and Barbuda                   66.666667\n",
       "Argentina                              5.916717\n",
       "                                        ...    \n",
       "Venezuela (Bolivarian Republic of)    -0.365623\n",
       "Viet Nam                               1.495423\n",
       "Yemen                                  1.898018\n",
       "Zambia                                 8.643074\n",
       "Zimbabwe                              -1.037873\n",
       "Name: Value, Length: 148, dtype: float64"
      ]
     },
     "execution_count": 296,
     "metadata": {},
     "output_type": "execute_result"
    }
   ],
   "source": [
    "#Calculating the average corn field expansion rate\n",
    "avg_cornf_field_exp = corn_field_exp_rt_df.groupby(\"Area\")[\"Value\"].mean()\n",
    "#Excluding outliers\n",
    "cleaned_cornf_field_exp = avg_cornf_field_exp[~avg_cornf_field_exp.index.isin(outlier_countries)]\n",
    "cleaned_cornf_field_exp"
   ]
  },
  {
   "cell_type": "code",
   "execution_count": 297,
   "metadata": {},
   "outputs": [
    {
     "name": "stderr",
     "output_type": "stream",
     "text": [
      "c:\\Users\\Mert\\anaconda3\\Lib\\site-packages\\seaborn\\_oldcore.py:1119: FutureWarning:\n",
      "\n",
      "use_inf_as_na option is deprecated and will be removed in a future version. Convert inf values to NaN before operating instead.\n",
      "\n"
     ]
    },
    {
     "data": {
      "text/plain": [
       "<Axes: xlabel='Value', ylabel='Count'>"
      ]
     },
     "execution_count": 297,
     "metadata": {},
     "output_type": "execute_result"
    },
    {
     "data": {
      "image/png": "[encoded data removed]",
      "text/plain": [
       "<Figure size 640x480 with 1 Axes>"
      ]
     },
     "metadata": {},
     "output_type": "display_data"
    }
   ],
   "source": [
    "sns.histplot(cleaned_cornf_field_exp, bins=20, kde=False, edgecolor='black')"
   ]
  },
  {
   "cell_type": "markdown",
   "metadata": {},
   "source": [
    "# Land Size"
   ]
  },
  {
   "cell_type": "code",
   "execution_count": 298,
   "metadata": {},
   "outputs": [
    {
     "data": {
      "text/html": [
       "<div>\n",
       "<style scoped>\n",
       "    .dataframe tbody tr th:only-of-type {\n",
       "        vertical-align: middle;\n",
       "    }\n",
       "\n",
       "    .dataframe tbody tr th {\n",
       "        vertical-align: top;\n",
       "    }\n",
       "\n",
       "    .dataframe thead th {\n",
       "        text-align: right;\n",
       "    }\n",
       "</style>\n",
       "<table border=\"1\" class=\"dataframe\">\n",
       "  <thead>\n",
       "    <tr style=\"text-align: right;\">\n",
       "      <th></th>\n",
       "      <th>country</th>\n",
       "      <th>date</th>\n",
       "      <th>Land area (sq. km)</th>\n",
       "    </tr>\n",
       "  </thead>\n",
       "  <tbody>\n",
       "    <tr>\n",
       "      <th>0</th>\n",
       "      <td>Africa Eastern and Southern</td>\n",
       "      <td>2023</td>\n",
       "      <td>NaN</td>\n",
       "    </tr>\n",
       "    <tr>\n",
       "      <th>1</th>\n",
       "      <td>Africa Eastern and Southern</td>\n",
       "      <td>2022</td>\n",
       "      <td>NaN</td>\n",
       "    </tr>\n",
       "    <tr>\n",
       "      <th>2</th>\n",
       "      <td>Africa Eastern and Southern</td>\n",
       "      <td>2021</td>\n",
       "      <td>1.484509e+07</td>\n",
       "    </tr>\n",
       "    <tr>\n",
       "      <th>3</th>\n",
       "      <td>Africa Eastern and Southern</td>\n",
       "      <td>2020</td>\n",
       "      <td>1.484509e+07</td>\n",
       "    </tr>\n",
       "    <tr>\n",
       "      <th>4</th>\n",
       "      <td>Africa Eastern and Southern</td>\n",
       "      <td>2019</td>\n",
       "      <td>1.484513e+07</td>\n",
       "    </tr>\n",
       "  </tbody>\n",
       "</table>\n",
       "</div>"
      ],
      "text/plain": [
       "                       country  date  Land area (sq. km)\n",
       "0  Africa Eastern and Southern  2023                 NaN\n",
       "1  Africa Eastern and Southern  2022                 NaN\n",
       "2  Africa Eastern and Southern  2021        1.484509e+07\n",
       "3  Africa Eastern and Southern  2020        1.484509e+07\n",
       "4  Africa Eastern and Southern  2019        1.484513e+07"
      ]
     },
     "execution_count": 298,
     "metadata": {},
     "output_type": "execute_result"
    }
   ],
   "source": [
    "# Get data for 'Land area (sq. km)' for all countries\n",
    "indicators = {'AG.LND.TOTL.K2': 'Land area (sq. km)'}\n",
    "data = wbdata.get_dataframe(indicators)\n",
    "\n",
    "# Display the land area for all countries\n",
    "org_data = data.reset_index()\n",
    "\n",
    "#Converting the year column to integer\n",
    "org_data['date'] = org_data['date'].astype(int)\n",
    "\n",
    "org_data.head()\n"
   ]
  },
  {
   "cell_type": "code",
   "execution_count": 299,
   "metadata": {},
   "outputs": [
    {
     "data": {
      "text/html": [
       "<div>\n",
       "<style scoped>\n",
       "    .dataframe tbody tr th:only-of-type {\n",
       "        vertical-align: middle;\n",
       "    }\n",
       "\n",
       "    .dataframe tbody tr th {\n",
       "        vertical-align: top;\n",
       "    }\n",
       "\n",
       "    .dataframe thead th {\n",
       "        text-align: right;\n",
       "    }\n",
       "</style>\n",
       "<table border=\"1\" class=\"dataframe\">\n",
       "  <thead>\n",
       "    <tr style=\"text-align: right;\">\n",
       "      <th></th>\n",
       "      <th>Average_Land_Size</th>\n",
       "    </tr>\n",
       "    <tr>\n",
       "      <th>country</th>\n",
       "      <th></th>\n",
       "    </tr>\n",
       "  </thead>\n",
       "  <tbody>\n",
       "    <tr>\n",
       "      <th>Afghanistan</th>\n",
       "      <td>6.522300e+05</td>\n",
       "    </tr>\n",
       "    <tr>\n",
       "      <th>Africa Eastern and Southern</th>\n",
       "      <td>1.475005e+07</td>\n",
       "    </tr>\n",
       "    <tr>\n",
       "      <th>Africa Western and Central</th>\n",
       "      <td>9.045779e+06</td>\n",
       "    </tr>\n",
       "    <tr>\n",
       "      <th>Albania</th>\n",
       "      <td>2.740000e+04</td>\n",
       "    </tr>\n",
       "    <tr>\n",
       "      <th>Algeria</th>\n",
       "      <td>2.381740e+06</td>\n",
       "    </tr>\n",
       "    <tr>\n",
       "      <th>...</th>\n",
       "      <td>...</td>\n",
       "    </tr>\n",
       "    <tr>\n",
       "      <th>West Bank and Gaza</th>\n",
       "      <td>6.020227e+03</td>\n",
       "    </tr>\n",
       "    <tr>\n",
       "      <th>World</th>\n",
       "      <td>1.298152e+08</td>\n",
       "    </tr>\n",
       "    <tr>\n",
       "      <th>Yemen, Rep.</th>\n",
       "      <td>5.279700e+05</td>\n",
       "    </tr>\n",
       "    <tr>\n",
       "      <th>Zambia</th>\n",
       "      <td>7.433900e+05</td>\n",
       "    </tr>\n",
       "    <tr>\n",
       "      <th>Zimbabwe</th>\n",
       "      <td>3.868500e+05</td>\n",
       "    </tr>\n",
       "  </tbody>\n",
       "</table>\n",
       "<p>266 rows × 1 columns</p>\n",
       "</div>"
      ],
      "text/plain": [
       "                             Average_Land_Size\n",
       "country                                       \n",
       "Afghanistan                       6.522300e+05\n",
       "Africa Eastern and Southern       1.475005e+07\n",
       "Africa Western and Central        9.045779e+06\n",
       "Albania                           2.740000e+04\n",
       "Algeria                           2.381740e+06\n",
       "...                                        ...\n",
       "West Bank and Gaza                6.020227e+03\n",
       "World                             1.298152e+08\n",
       "Yemen, Rep.                       5.279700e+05\n",
       "Zambia                            7.433900e+05\n",
       "Zimbabwe                          3.868500e+05\n",
       "\n",
       "[266 rows x 1 columns]"
      ]
     },
     "execution_count": 299,
     "metadata": {},
     "output_type": "execute_result"
    }
   ],
   "source": [
    "filtered_data = org_data[(org_data['date'] >= 2000) & (org_data['date'] <= 2021)]\n",
    "avg_land_size_df = filtered_data.groupby('country').agg(  # Count of unique values per country\n",
    "    Average_Land_Size=('Land area (sq. km)', 'mean')     # Average of the values per country\n",
    ")\n",
    "avg_land_size_df"
   ]
  },
  {
   "cell_type": "markdown",
   "metadata": {},
   "source": [
    "# Result"
   ]
  },
  {
   "cell_type": "code",
   "execution_count": 300,
   "metadata": {},
   "outputs": [
    {
     "data": {
      "text/html": [
       "<div>\n",
       "<style scoped>\n",
       "    .dataframe tbody tr th:only-of-type {\n",
       "        vertical-align: middle;\n",
       "    }\n",
       "\n",
       "    .dataframe tbody tr th {\n",
       "        vertical-align: top;\n",
       "    }\n",
       "\n",
       "    .dataframe thead th {\n",
       "        text-align: right;\n",
       "    }\n",
       "</style>\n",
       "<table border=\"1\" class=\"dataframe\">\n",
       "  <thead>\n",
       "    <tr style=\"text-align: right;\">\n",
       "      <th></th>\n",
       "      <th>country</th>\n",
       "      <th>Average_Land_Size</th>\n",
       "    </tr>\n",
       "  </thead>\n",
       "  <tbody>\n",
       "    <tr>\n",
       "      <th>0</th>\n",
       "      <td>Afghanistan</td>\n",
       "      <td>6.522300e+05</td>\n",
       "    </tr>\n",
       "    <tr>\n",
       "      <th>1</th>\n",
       "      <td>Africa Eastern and Southern</td>\n",
       "      <td>1.475005e+07</td>\n",
       "    </tr>\n",
       "    <tr>\n",
       "      <th>2</th>\n",
       "      <td>Africa Western and Central</td>\n",
       "      <td>9.045779e+06</td>\n",
       "    </tr>\n",
       "    <tr>\n",
       "      <th>3</th>\n",
       "      <td>Albania</td>\n",
       "      <td>2.740000e+04</td>\n",
       "    </tr>\n",
       "    <tr>\n",
       "      <th>4</th>\n",
       "      <td>Algeria</td>\n",
       "      <td>2.381740e+06</td>\n",
       "    </tr>\n",
       "  </tbody>\n",
       "</table>\n",
       "</div>"
      ],
      "text/plain": [
       "                       country  Average_Land_Size\n",
       "0                  Afghanistan       6.522300e+05\n",
       "1  Africa Eastern and Southern       1.475005e+07\n",
       "2   Africa Western and Central       9.045779e+06\n",
       "3                      Albania       2.740000e+04\n",
       "4                      Algeria       2.381740e+06"
      ]
     },
     "execution_count": 300,
     "metadata": {},
     "output_type": "execute_result"
    }
   ],
   "source": [
    "avg_land_size_df= avg_land_size_df.reset_index()\n",
    "avg_land_size_df.head()"
   ]
  },
  {
   "cell_type": "code",
   "execution_count": 301,
   "metadata": {},
   "outputs": [
    {
     "data": {
      "text/html": [
       "<div>\n",
       "<style scoped>\n",
       "    .dataframe tbody tr th:only-of-type {\n",
       "        vertical-align: middle;\n",
       "    }\n",
       "\n",
       "    .dataframe tbody tr th {\n",
       "        vertical-align: top;\n",
       "    }\n",
       "\n",
       "    .dataframe thead th {\n",
       "        text-align: right;\n",
       "    }\n",
       "</style>\n",
       "<table border=\"1\" class=\"dataframe\">\n",
       "  <thead>\n",
       "    <tr style=\"text-align: right;\">\n",
       "      <th></th>\n",
       "      <th>Area</th>\n",
       "      <th>Value</th>\n",
       "    </tr>\n",
       "  </thead>\n",
       "  <tbody>\n",
       "    <tr>\n",
       "      <th>0</th>\n",
       "      <td>Afghanistan</td>\n",
       "      <td>7.371932</td>\n",
       "    </tr>\n",
       "    <tr>\n",
       "      <th>1</th>\n",
       "      <td>Albania</td>\n",
       "      <td>0.633505</td>\n",
       "    </tr>\n",
       "    <tr>\n",
       "      <th>2</th>\n",
       "      <td>Angola</td>\n",
       "      <td>13.779700</td>\n",
       "    </tr>\n",
       "    <tr>\n",
       "      <th>3</th>\n",
       "      <td>Antigua and Barbuda</td>\n",
       "      <td>66.666667</td>\n",
       "    </tr>\n",
       "    <tr>\n",
       "      <th>4</th>\n",
       "      <td>Argentina</td>\n",
       "      <td>5.916717</td>\n",
       "    </tr>\n",
       "  </tbody>\n",
       "</table>\n",
       "</div>"
      ],
      "text/plain": [
       "                  Area      Value\n",
       "0          Afghanistan   7.371932\n",
       "1              Albania   0.633505\n",
       "2               Angola  13.779700\n",
       "3  Antigua and Barbuda  66.666667\n",
       "4            Argentina   5.916717"
      ]
     },
     "execution_count": 301,
     "metadata": {},
     "output_type": "execute_result"
    }
   ],
   "source": [
    "cleaned_corn_df = pd.DataFrame(cleaned_cornf_field_exp).reset_index()\n",
    "cleaned_corn_df.head()"
   ]
  },
  {
   "cell_type": "code",
   "execution_count": 302,
   "metadata": {},
   "outputs": [
    {
     "data": {
      "text/html": [
       "<div>\n",
       "<style scoped>\n",
       "    .dataframe tbody tr th:only-of-type {\n",
       "        vertical-align: middle;\n",
       "    }\n",
       "\n",
       "    .dataframe tbody tr th {\n",
       "        vertical-align: top;\n",
       "    }\n",
       "\n",
       "    .dataframe thead th {\n",
       "        text-align: right;\n",
       "    }\n",
       "</style>\n",
       "<table border=\"1\" class=\"dataframe\">\n",
       "  <thead>\n",
       "    <tr style=\"text-align: right;\">\n",
       "      <th></th>\n",
       "      <th>Country Name</th>\n",
       "      <th>Differenced_Value</th>\n",
       "    </tr>\n",
       "  </thead>\n",
       "  <tbody>\n",
       "    <tr>\n",
       "      <th>0</th>\n",
       "      <td>Afghanistan</td>\n",
       "      <td>0.000000</td>\n",
       "    </tr>\n",
       "    <tr>\n",
       "      <th>1</th>\n",
       "      <td>Africa Eastern and Southern</td>\n",
       "      <td>-0.223342</td>\n",
       "    </tr>\n",
       "    <tr>\n",
       "      <th>2</th>\n",
       "      <td>Africa Western and Central</td>\n",
       "      <td>-0.090064</td>\n",
       "    </tr>\n",
       "    <tr>\n",
       "      <th>3</th>\n",
       "      <td>Albania</td>\n",
       "      <td>0.029280</td>\n",
       "    </tr>\n",
       "    <tr>\n",
       "      <th>4</th>\n",
       "      <td>Algeria</td>\n",
       "      <td>0.007071</td>\n",
       "    </tr>\n",
       "  </tbody>\n",
       "</table>\n",
       "</div>"
      ],
      "text/plain": [
       "                  Country Name  Differenced_Value\n",
       "0                  Afghanistan           0.000000\n",
       "1  Africa Eastern and Southern          -0.223342\n",
       "2   Africa Western and Central          -0.090064\n",
       "3                      Albania           0.029280\n",
       "4                      Algeria           0.007071"
      ]
     },
     "execution_count": 302,
     "metadata": {},
     "output_type": "execute_result"
    }
   ],
   "source": [
    "cleaned_def = pd.DataFrame(average_deforestation).reset_index()\n",
    "cleaned_def.head()"
   ]
  },
  {
   "cell_type": "code",
   "execution_count": 303,
   "metadata": {},
   "outputs": [
    {
     "data": {
      "text/html": [
       "<div>\n",
       "<style scoped>\n",
       "    .dataframe tbody tr th:only-of-type {\n",
       "        vertical-align: middle;\n",
       "    }\n",
       "\n",
       "    .dataframe tbody tr th {\n",
       "        vertical-align: top;\n",
       "    }\n",
       "\n",
       "    .dataframe thead th {\n",
       "        text-align: right;\n",
       "    }\n",
       "</style>\n",
       "<table border=\"1\" class=\"dataframe\">\n",
       "  <thead>\n",
       "    <tr style=\"text-align: right;\">\n",
       "      <th></th>\n",
       "      <th>Country</th>\n",
       "      <th>Average_Land_Size</th>\n",
       "      <th>Value</th>\n",
       "      <th>Differenced_Value</th>\n",
       "    </tr>\n",
       "  </thead>\n",
       "  <tbody>\n",
       "    <tr>\n",
       "      <th>0</th>\n",
       "      <td>Afghanistan</td>\n",
       "      <td>6.522300e+05</td>\n",
       "      <td>7.371932</td>\n",
       "      <td>0.000000</td>\n",
       "    </tr>\n",
       "    <tr>\n",
       "      <th>1</th>\n",
       "      <td>Albania</td>\n",
       "      <td>2.740000e+04</td>\n",
       "      <td>0.633505</td>\n",
       "      <td>0.029280</td>\n",
       "    </tr>\n",
       "    <tr>\n",
       "      <th>2</th>\n",
       "      <td>Algeria</td>\n",
       "      <td>2.381740e+06</td>\n",
       "      <td>NaN</td>\n",
       "      <td>0.007071</td>\n",
       "    </tr>\n",
       "    <tr>\n",
       "      <th>3</th>\n",
       "      <td>American Samoa</td>\n",
       "      <td>2.000000e+02</td>\n",
       "      <td>NaN</td>\n",
       "      <td>-0.150909</td>\n",
       "    </tr>\n",
       "    <tr>\n",
       "      <th>4</th>\n",
       "      <td>Andorra</td>\n",
       "      <td>4.700000e+02</td>\n",
       "      <td>NaN</td>\n",
       "      <td>0.000000</td>\n",
       "    </tr>\n",
       "    <tr>\n",
       "      <th>...</th>\n",
       "      <td>...</td>\n",
       "      <td>...</td>\n",
       "      <td>...</td>\n",
       "      <td>...</td>\n",
       "    </tr>\n",
       "    <tr>\n",
       "      <th>284</th>\n",
       "      <td>World</td>\n",
       "      <td>1.298152e+08</td>\n",
       "      <td>NaN</td>\n",
       "      <td>-0.041150</td>\n",
       "    </tr>\n",
       "    <tr>\n",
       "      <th>285</th>\n",
       "      <td>Yemen</td>\n",
       "      <td>NaN</td>\n",
       "      <td>1.898018</td>\n",
       "      <td>NaN</td>\n",
       "    </tr>\n",
       "    <tr>\n",
       "      <th>286</th>\n",
       "      <td>Yemen, Rep.</td>\n",
       "      <td>5.279700e+05</td>\n",
       "      <td>NaN</td>\n",
       "      <td>0.000000</td>\n",
       "    </tr>\n",
       "    <tr>\n",
       "      <th>287</th>\n",
       "      <td>Zambia</td>\n",
       "      <td>7.433900e+05</td>\n",
       "      <td>8.643074</td>\n",
       "      <td>-0.150660</td>\n",
       "    </tr>\n",
       "    <tr>\n",
       "      <th>288</th>\n",
       "      <td>Zimbabwe</td>\n",
       "      <td>3.868500e+05</td>\n",
       "      <td>-1.037873</td>\n",
       "      <td>-0.119090</td>\n",
       "    </tr>\n",
       "  </tbody>\n",
       "</table>\n",
       "<p>289 rows × 4 columns</p>\n",
       "</div>"
      ],
      "text/plain": [
       "            Country  Average_Land_Size     Value  Differenced_Value\n",
       "0       Afghanistan       6.522300e+05  7.371932           0.000000\n",
       "1           Albania       2.740000e+04  0.633505           0.029280\n",
       "2           Algeria       2.381740e+06       NaN           0.007071\n",
       "3    American Samoa       2.000000e+02       NaN          -0.150909\n",
       "4           Andorra       4.700000e+02       NaN           0.000000\n",
       "..              ...                ...       ...                ...\n",
       "284           World       1.298152e+08       NaN          -0.041150\n",
       "285           Yemen                NaN  1.898018                NaN\n",
       "286     Yemen, Rep.       5.279700e+05       NaN           0.000000\n",
       "287          Zambia       7.433900e+05  8.643074          -0.150660\n",
       "288        Zimbabwe       3.868500e+05 -1.037873          -0.119090\n",
       "\n",
       "[289 rows x 4 columns]"
      ]
     },
     "execution_count": 303,
     "metadata": {},
     "output_type": "execute_result"
    }
   ],
   "source": [
    "# Reverting to previous data before dropping and then manually resolving country mismatches\n",
    "country_mapping = {\n",
    "    'United Republic of Tanzania': 'Tanzania',\n",
    "    'United States of America': 'United States',\n",
    "    'Venezuela (Bolivarian Republic of)': 'Venezuela',\n",
    "    'Türkiye': 'Turkey',\n",
    "    'Africa Eastern and Southern': 'Eastern and Southern Africa',\n",
    "    'Africa Western and Central': 'Western and Central Africa',\n",
    "    # You can add more mappings if necessary\n",
    "}\n",
    "\n",
    "# Rename columns again to 'Country'\n",
    "avg_land_size_df.rename(columns={'country': 'Country'}, inplace=True)\n",
    "cleaned_corn_df.rename(columns={'Area': 'Country'}, inplace=True)\n",
    "cleaned_def.rename(columns={'Country Name': 'Country'}, inplace=True)\n",
    "\n",
    "avg_land_size_df['Country'] = avg_land_size_df['Country'].replace(country_mapping)\n",
    "cleaned_corn_df['Country'] = cleaned_corn_df['Country'].replace(country_mapping)\n",
    "cleaned_def['Country'] = cleaned_def['Country'].replace(country_mapping)\n",
    "\n",
    "\n",
    "# Merging dataframes without dropping any countries, and will handle missing data\n",
    "final_merged_df = pd.merge(avg_land_size_df, cleaned_corn_df, on='Country', how='outer')\n",
    "final_merged_df = pd.merge(final_merged_df, cleaned_def, on='Country', how='outer')\n",
    "\n",
    "final_merged_df\n"
   ]
  },
  {
   "cell_type": "code",
   "execution_count": 304,
   "metadata": {},
   "outputs": [
    {
     "data": {
      "text/html": [
       "<div>\n",
       "<style scoped>\n",
       "    .dataframe tbody tr th:only-of-type {\n",
       "        vertical-align: middle;\n",
       "    }\n",
       "\n",
       "    .dataframe tbody tr th {\n",
       "        vertical-align: top;\n",
       "    }\n",
       "\n",
       "    .dataframe thead th {\n",
       "        text-align: right;\n",
       "    }\n",
       "</style>\n",
       "<table border=\"1\" class=\"dataframe\">\n",
       "  <thead>\n",
       "    <tr style=\"text-align: right;\">\n",
       "      <th></th>\n",
       "      <th>Country</th>\n",
       "      <th>Average_Land_Size</th>\n",
       "      <th>Value</th>\n",
       "      <th>Differenced_Value</th>\n",
       "    </tr>\n",
       "  </thead>\n",
       "  <tbody>\n",
       "    <tr>\n",
       "      <th>0</th>\n",
       "      <td>Afghanistan</td>\n",
       "      <td>6.522300e+05</td>\n",
       "      <td>7.371932</td>\n",
       "      <td>0.000000</td>\n",
       "    </tr>\n",
       "    <tr>\n",
       "      <th>1</th>\n",
       "      <td>Albania</td>\n",
       "      <td>2.740000e+04</td>\n",
       "      <td>0.633505</td>\n",
       "      <td>0.029280</td>\n",
       "    </tr>\n",
       "    <tr>\n",
       "      <th>2</th>\n",
       "      <td>Algeria</td>\n",
       "      <td>2.381740e+06</td>\n",
       "      <td>NaN</td>\n",
       "      <td>0.007071</td>\n",
       "    </tr>\n",
       "    <tr>\n",
       "      <th>3</th>\n",
       "      <td>American Samoa</td>\n",
       "      <td>2.000000e+02</td>\n",
       "      <td>NaN</td>\n",
       "      <td>-0.150909</td>\n",
       "    </tr>\n",
       "    <tr>\n",
       "      <th>4</th>\n",
       "      <td>Andorra</td>\n",
       "      <td>4.700000e+02</td>\n",
       "      <td>NaN</td>\n",
       "      <td>0.000000</td>\n",
       "    </tr>\n",
       "  </tbody>\n",
       "</table>\n",
       "</div>"
      ],
      "text/plain": [
       "          Country  Average_Land_Size     Value  Differenced_Value\n",
       "0     Afghanistan       6.522300e+05  7.371932           0.000000\n",
       "1         Albania       2.740000e+04  0.633505           0.029280\n",
       "2         Algeria       2.381740e+06       NaN           0.007071\n",
       "3  American Samoa       2.000000e+02       NaN          -0.150909\n",
       "4         Andorra       4.700000e+02       NaN           0.000000"
      ]
     },
     "execution_count": 304,
     "metadata": {},
     "output_type": "execute_result"
    }
   ],
   "source": [
    "# Define the function to detect duplicates, group by partition, fill values with zeros, and sum them up\n",
    "def consolidate_duplicates(df, country_column):\n",
    "    # Make a copy of the dataframe to avoid modifying the original one\n",
    "    df_copy = df.copy()\n",
    "    \n",
    "    # Standardize country names for consistency (can extend this part to include more mappings if necessary)\n",
    "    df_copy[country_column] = df_copy[country_column].replace({\n",
    "        \"Cote d'Ivoire\": \"Côte d'Ivoire\",\n",
    "        \"Democratic Republic of the Congo\": \"Congo, Dem. Rep.\",\n",
    "        \"Korea, Rep.\": \"South Korea\",\n",
    "        \"Korea, Dem. People's Rep.\": \"North Korea\",\n",
    "        \"Egypt, Arab Rep.\": \"Egypt\",\n",
    "        \"Iran (Islamic Republic of)\": \"Iran, Islamic Rep.\",\n",
    "        \"Netherlands (Kingdom of the)\" : \"Netherlands\",\n",
    "        \"Slovak Republic\" : \"Slovakia\",\n",
    "        \"Turkiye\" : \"Turkey\",\n",
    "        \"Venezuela, RB\" : \"Veneuzela\",\n",
    "        \"Yemen, Rep.\" : \"Yemen\",\n",
    "        \"Republic of Korea\": \"South Korea\",\n",
    "        \"Republic of Moldova\":\"Moldova\",\n",
    "        \"Kyrgyz Republic\" : \"Kyrgyzstan\"\n",
    "    })\n",
    "    \n",
    "    # Get the list of unique countries\n",
    "    unique_countries = df_copy[country_column].unique()\n",
    "    \n",
    "    # Loop through unique countries\n",
    "    result_list = []\n",
    "    \n",
    "    for country in unique_countries:\n",
    "        # Filter the rows for the current country\n",
    "        partition = df_copy[df_copy[country_column] == country]\n",
    "        \n",
    "        # If there are duplicates, group them by the country and sum the numeric values\n",
    "        if len(partition) > 1:\n",
    "            # Replace NaNs with zeros for aggregation\n",
    "            partition = partition.fillna(0)\n",
    "            \n",
    "            # Sum the rows and keep the country name intact\n",
    "            summed_partition = partition.groupby(country_column).sum().reset_index()\n",
    "            \n",
    "            # Append the result to the list\n",
    "            result_list.append(summed_partition)\n",
    "        else:\n",
    "            # If there are no duplicates, keep the partition as it is\n",
    "            result_list.append(partition)\n",
    "    \n",
    "    # Concatenate all results into a final dataframe\n",
    "    final_df = pd.concat(result_list, ignore_index=True)\n",
    "    \n",
    "    return final_df\n",
    "\n",
    "# Applying the function to the example data\n",
    "final_grouped_df = consolidate_duplicates(final_merged_df, 'Country')\n",
    "\n",
    "final_grouped_df[\"Country\"] = final_grouped_df[\"Country\"].replace({\n",
    "        \"Turkey\": \"Türkiye\",\n",
    "        \"Congo, Dem. Rep.\": \"Congo\",\n",
    "        \"Iran, Islamic Rep.\": \"Iran\",\n",
    "\n",
    "    })\n",
    "\n",
    "final_grouped_df.head()\n"
   ]
  },
  {
   "cell_type": "code",
   "execution_count": 305,
   "metadata": {},
   "outputs": [],
   "source": [
    "#Now drop the rows with missing data\n",
    "last_df = final_grouped_df.dropna()\n",
    "last_df = last_df.reset_index(drop = True)"
   ]
  },
  {
   "cell_type": "code",
   "execution_count": 306,
   "metadata": {},
   "outputs": [
    {
     "data": {
      "text/html": [
       "<div>\n",
       "<style scoped>\n",
       "    .dataframe tbody tr th:only-of-type {\n",
       "        vertical-align: middle;\n",
       "    }\n",
       "\n",
       "    .dataframe tbody tr th {\n",
       "        vertical-align: top;\n",
       "    }\n",
       "\n",
       "    .dataframe thead th {\n",
       "        text-align: right;\n",
       "    }\n",
       "</style>\n",
       "<table border=\"1\" class=\"dataframe\">\n",
       "  <thead>\n",
       "    <tr style=\"text-align: right;\">\n",
       "      <th></th>\n",
       "      <th>Country</th>\n",
       "      <th>Average_Land_Size</th>\n",
       "      <th>Average_Corn_Field_Expansion_Rate(%)</th>\n",
       "      <th>Average_Deforestation_Rate(%)</th>\n",
       "    </tr>\n",
       "  </thead>\n",
       "  <tbody>\n",
       "    <tr>\n",
       "      <th>0</th>\n",
       "      <td>Afghanistan</td>\n",
       "      <td>652230.0</td>\n",
       "      <td>7.371932</td>\n",
       "      <td>0.000000</td>\n",
       "    </tr>\n",
       "    <tr>\n",
       "      <th>1</th>\n",
       "      <td>Albania</td>\n",
       "      <td>27400.0</td>\n",
       "      <td>0.633505</td>\n",
       "      <td>0.029280</td>\n",
       "    </tr>\n",
       "    <tr>\n",
       "      <th>2</th>\n",
       "      <td>Angola</td>\n",
       "      <td>1246700.0</td>\n",
       "      <td>13.779700</td>\n",
       "      <td>-0.430654</td>\n",
       "    </tr>\n",
       "    <tr>\n",
       "      <th>3</th>\n",
       "      <td>Antigua and Barbuda</td>\n",
       "      <td>440.0</td>\n",
       "      <td>66.666667</td>\n",
       "      <td>-0.151105</td>\n",
       "    </tr>\n",
       "    <tr>\n",
       "      <th>4</th>\n",
       "      <td>Argentina</td>\n",
       "      <td>2736690.0</td>\n",
       "      <td>5.916717</td>\n",
       "      <td>-0.084657</td>\n",
       "    </tr>\n",
       "    <tr>\n",
       "      <th>...</th>\n",
       "      <td>...</td>\n",
       "      <td>...</td>\n",
       "      <td>...</td>\n",
       "      <td>...</td>\n",
       "    </tr>\n",
       "    <tr>\n",
       "      <th>121</th>\n",
       "      <td>Uruguay</td>\n",
       "      <td>175020.0</td>\n",
       "      <td>8.683997</td>\n",
       "      <td>0.192212</td>\n",
       "    </tr>\n",
       "    <tr>\n",
       "      <th>122</th>\n",
       "      <td>Uzbekistan</td>\n",
       "      <td>437382.5</td>\n",
       "      <td>2.430806</td>\n",
       "      <td>0.071231</td>\n",
       "    </tr>\n",
       "    <tr>\n",
       "      <th>123</th>\n",
       "      <td>Yemen</td>\n",
       "      <td>527970.0</td>\n",
       "      <td>1.898018</td>\n",
       "      <td>0.000000</td>\n",
       "    </tr>\n",
       "    <tr>\n",
       "      <th>124</th>\n",
       "      <td>Zambia</td>\n",
       "      <td>743390.0</td>\n",
       "      <td>8.643074</td>\n",
       "      <td>-0.150660</td>\n",
       "    </tr>\n",
       "    <tr>\n",
       "      <th>125</th>\n",
       "      <td>Zimbabwe</td>\n",
       "      <td>386850.0</td>\n",
       "      <td>-1.037873</td>\n",
       "      <td>-0.119090</td>\n",
       "    </tr>\n",
       "  </tbody>\n",
       "</table>\n",
       "<p>126 rows × 4 columns</p>\n",
       "</div>"
      ],
      "text/plain": [
       "                 Country  Average_Land_Size  \\\n",
       "0            Afghanistan           652230.0   \n",
       "1                Albania            27400.0   \n",
       "2                 Angola          1246700.0   \n",
       "3    Antigua and Barbuda              440.0   \n",
       "4              Argentina          2736690.0   \n",
       "..                   ...                ...   \n",
       "121              Uruguay           175020.0   \n",
       "122           Uzbekistan           437382.5   \n",
       "123                Yemen           527970.0   \n",
       "124               Zambia           743390.0   \n",
       "125             Zimbabwe           386850.0   \n",
       "\n",
       "     Average_Corn_Field_Expansion_Rate(%)  Average_Deforestation_Rate(%)  \n",
       "0                                7.371932                       0.000000  \n",
       "1                                0.633505                       0.029280  \n",
       "2                               13.779700                      -0.430654  \n",
       "3                               66.666667                      -0.151105  \n",
       "4                                5.916717                      -0.084657  \n",
       "..                                    ...                            ...  \n",
       "121                              8.683997                       0.192212  \n",
       "122                              2.430806                       0.071231  \n",
       "123                              1.898018                       0.000000  \n",
       "124                              8.643074                      -0.150660  \n",
       "125                             -1.037873                      -0.119090  \n",
       "\n",
       "[126 rows x 4 columns]"
      ]
     },
     "execution_count": 306,
     "metadata": {},
     "output_type": "execute_result"
    }
   ],
   "source": [
    "#Renaming the columns\n",
    "last_df = last_df.rename({\"Value\":\"Average_Corn_Field_Expansion_Rate(%)\",\n",
    "                          \"Differenced_Value\":\"Average_Deforestation_Rate(%)\"},axis = 1)\n",
    "last_df"
   ]
  },
  {
   "cell_type": "code",
   "execution_count": 307,
   "metadata": {},
   "outputs": [
    {
     "data": {
      "text/html": [
       "<div>\n",
       "<style scoped>\n",
       "    .dataframe tbody tr th:only-of-type {\n",
       "        vertical-align: middle;\n",
       "    }\n",
       "\n",
       "    .dataframe tbody tr th {\n",
       "        vertical-align: top;\n",
       "    }\n",
       "\n",
       "    .dataframe thead th {\n",
       "        text-align: right;\n",
       "    }\n",
       "</style>\n",
       "<table border=\"1\" class=\"dataframe\">\n",
       "  <thead>\n",
       "    <tr style=\"text-align: right;\">\n",
       "      <th></th>\n",
       "      <th>Country</th>\n",
       "      <th>Average_Land_Size</th>\n",
       "      <th>Average_Corn_Field_Expansion_Rate(%)</th>\n",
       "      <th>Average_Deforestation_Rate(%)</th>\n",
       "      <th>iso3</th>\n",
       "    </tr>\n",
       "  </thead>\n",
       "  <tbody>\n",
       "    <tr>\n",
       "      <th>0</th>\n",
       "      <td>Afghanistan</td>\n",
       "      <td>652230.0</td>\n",
       "      <td>7.371932</td>\n",
       "      <td>0.000000</td>\n",
       "      <td>AFG</td>\n",
       "    </tr>\n",
       "    <tr>\n",
       "      <th>1</th>\n",
       "      <td>Albania</td>\n",
       "      <td>27400.0</td>\n",
       "      <td>0.633505</td>\n",
       "      <td>0.029280</td>\n",
       "      <td>ALB</td>\n",
       "    </tr>\n",
       "    <tr>\n",
       "      <th>2</th>\n",
       "      <td>Angola</td>\n",
       "      <td>1246700.0</td>\n",
       "      <td>13.779700</td>\n",
       "      <td>-0.430654</td>\n",
       "      <td>AGO</td>\n",
       "    </tr>\n",
       "    <tr>\n",
       "      <th>3</th>\n",
       "      <td>Antigua and Barbuda</td>\n",
       "      <td>440.0</td>\n",
       "      <td>66.666667</td>\n",
       "      <td>-0.151105</td>\n",
       "      <td>ATG</td>\n",
       "    </tr>\n",
       "    <tr>\n",
       "      <th>4</th>\n",
       "      <td>Argentina</td>\n",
       "      <td>2736690.0</td>\n",
       "      <td>5.916717</td>\n",
       "      <td>-0.084657</td>\n",
       "      <td>ARG</td>\n",
       "    </tr>\n",
       "    <tr>\n",
       "      <th>...</th>\n",
       "      <td>...</td>\n",
       "      <td>...</td>\n",
       "      <td>...</td>\n",
       "      <td>...</td>\n",
       "      <td>...</td>\n",
       "    </tr>\n",
       "    <tr>\n",
       "      <th>121</th>\n",
       "      <td>Uruguay</td>\n",
       "      <td>175020.0</td>\n",
       "      <td>8.683997</td>\n",
       "      <td>0.192212</td>\n",
       "      <td>URY</td>\n",
       "    </tr>\n",
       "    <tr>\n",
       "      <th>122</th>\n",
       "      <td>Uzbekistan</td>\n",
       "      <td>437382.5</td>\n",
       "      <td>2.430806</td>\n",
       "      <td>0.071231</td>\n",
       "      <td>UZB</td>\n",
       "    </tr>\n",
       "    <tr>\n",
       "      <th>123</th>\n",
       "      <td>Yemen</td>\n",
       "      <td>527970.0</td>\n",
       "      <td>1.898018</td>\n",
       "      <td>0.000000</td>\n",
       "      <td>YEM</td>\n",
       "    </tr>\n",
       "    <tr>\n",
       "      <th>124</th>\n",
       "      <td>Zambia</td>\n",
       "      <td>743390.0</td>\n",
       "      <td>8.643074</td>\n",
       "      <td>-0.150660</td>\n",
       "      <td>ZMB</td>\n",
       "    </tr>\n",
       "    <tr>\n",
       "      <th>125</th>\n",
       "      <td>Zimbabwe</td>\n",
       "      <td>386850.0</td>\n",
       "      <td>-1.037873</td>\n",
       "      <td>-0.119090</td>\n",
       "      <td>ZWE</td>\n",
       "    </tr>\n",
       "  </tbody>\n",
       "</table>\n",
       "<p>126 rows × 5 columns</p>\n",
       "</div>"
      ],
      "text/plain": [
       "                 Country  Average_Land_Size  \\\n",
       "0            Afghanistan           652230.0   \n",
       "1                Albania            27400.0   \n",
       "2                 Angola          1246700.0   \n",
       "3    Antigua and Barbuda              440.0   \n",
       "4              Argentina          2736690.0   \n",
       "..                   ...                ...   \n",
       "121              Uruguay           175020.0   \n",
       "122           Uzbekistan           437382.5   \n",
       "123                Yemen           527970.0   \n",
       "124               Zambia           743390.0   \n",
       "125             Zimbabwe           386850.0   \n",
       "\n",
       "     Average_Corn_Field_Expansion_Rate(%)  Average_Deforestation_Rate(%) iso3  \n",
       "0                                7.371932                       0.000000  AFG  \n",
       "1                                0.633505                       0.029280  ALB  \n",
       "2                               13.779700                      -0.430654  AGO  \n",
       "3                               66.666667                      -0.151105  ATG  \n",
       "4                                5.916717                      -0.084657  ARG  \n",
       "..                                    ...                            ...  ...  \n",
       "121                              8.683997                       0.192212  URY  \n",
       "122                              2.430806                       0.071231  UZB  \n",
       "123                              1.898018                       0.000000  YEM  \n",
       "124                              8.643074                      -0.150660  ZMB  \n",
       "125                             -1.037873                      -0.119090  ZWE  \n",
       "\n",
       "[126 rows x 5 columns]"
      ]
     },
     "execution_count": 307,
     "metadata": {},
     "output_type": "execute_result"
    }
   ],
   "source": [
    "# Function to get ISO3 code from country name\n",
    "def get_iso3(country_name):\n",
    "    try:\n",
    "        return pycountry.countries.lookup(country_name).alpha_3\n",
    "    except LookupError:\n",
    "        return None  # Return None if country is not found\n",
    "\n",
    "# Apply the function to add a new column 'iso3'\n",
    "last_df['iso3'] = last_df['Country'].apply(get_iso3)\n",
    "last_df"
   ]
  },
  {
   "cell_type": "code",
   "execution_count": 308,
   "metadata": {},
   "outputs": [
    {
     "name": "stderr",
     "output_type": "stream",
     "text": [
      "c:\\Users\\Mert\\anaconda3\\Lib\\site-packages\\seaborn\\_oldcore.py:1119: FutureWarning:\n",
      "\n",
      "use_inf_as_na option is deprecated and will be removed in a future version. Convert inf values to NaN before operating instead.\n",
      "\n",
      "c:\\Users\\Mert\\anaconda3\\Lib\\site-packages\\seaborn\\_oldcore.py:1119: FutureWarning:\n",
      "\n",
      "use_inf_as_na option is deprecated and will be removed in a future version. Convert inf values to NaN before operating instead.\n",
      "\n",
      "c:\\Users\\Mert\\anaconda3\\Lib\\site-packages\\seaborn\\_oldcore.py:1119: FutureWarning:\n",
      "\n",
      "use_inf_as_na option is deprecated and will be removed in a future version. Convert inf values to NaN before operating instead.\n",
      "\n"
     ]
    },
    {
     "data": {
      "image/png": "[encoded data removed]",
      "text/plain": [
       "<Figure size 2500x800 with 3 Axes>"
      ]
     },
     "metadata": {},
     "output_type": "display_data"
    }
   ],
   "source": [
    "# Set up the matplotlib figure with two subplots next to each other\n",
    "fig, axes = plt.subplots(1, 3, figsize=(25, 8))\n",
    "\n",
    "# Plot the distribution of Corn Field Expansion Rate in the first subplot\n",
    "sns.histplot(last_df['Average_Corn_Field_Expansion_Rate(%)'], kde=True, color=\"blue\", label=\"Corn Field Expansion Rate\", stat=\"density\", ax=axes[0])\n",
    "axes[0].set_title(\"Distribution of Corn Field Expansion Rate\")\n",
    "axes[0].set_xlabel(\"Rate (%)\")\n",
    "axes[0].set_ylabel(\"Density\")\n",
    "\n",
    "# Plot the distribution of Deforestation Rate in the second subplot\n",
    "sns.histplot(last_df['Average_Deforestation_Rate(%)'], kde=True, color=\"green\", label=\"Deforestation Rate\", stat=\"density\", ax=axes[1])\n",
    "axes[1].set_title(\"Distribution of Deforestation Rate\")\n",
    "axes[1].set_xlabel(\"Rate (%)\")\n",
    "axes[1].set_ylabel(\"Density\")\n",
    "\n",
    "sns.histplot(last_df[\"Average_Land_Size\"], kde=True, color=\"red\", label=\"Deforestation Rate\", stat=\"density\", ax=axes[2])\n",
    "axes[2].set_title(\"Distribution of Land Size\")\n",
    "axes[2].set_xlabel(\"Land Size (km**2)\")\n",
    "axes[2].set_ylabel(\"Density\")\n",
    "\n",
    "# Adjust layout\n",
    "plt.tight_layout()\n",
    "\n",
    "# Display the plots\n",
    "plt.show()\n"
   ]
  },
  {
   "cell_type": "code",
   "execution_count": 309,
   "metadata": {},
   "outputs": [
    {
     "data": {
      "text/plain": [
       "Index(['Country', 'Average_Land_Size', 'Average_Corn_Field_Expansion_Rate(%)',\n",
       "       'Average_Deforestation_Rate(%)', 'iso3'],\n",
       "      dtype='object')"
      ]
     },
     "execution_count": 309,
     "metadata": {},
     "output_type": "execute_result"
    }
   ],
   "source": [
    "last_df.columns"
   ]
  },
  {
   "cell_type": "code",
   "execution_count": 310,
   "metadata": {},
   "outputs": [
    {
     "data": {
      "application/vnd.plotly.v1+json": {
       "config": {
        "plotlyServerURL": "https://plot.ly"
       },
       "data": [
        {
         "coloraxis": "coloraxis",
         "geo": "geo",
         "hovertemplate": "<b>%{hovertext}</b><br><br>iso3=%{location}<br>Average_Deforestation_Rate(%)=%{z}<extra></extra>",
         "hovertext": [
          "Afghanistan",
          "Albania",
          "Angola",
          "Antigua and Barbuda",
          "Argentina",
          "Armenia",
          "Australia",
          "Austria",
          "Azerbaijan",
          "Bangladesh",
          "Belarus",
          "Belize",
          "Benin",
          "Bosnia and Herzegovina",
          "Botswana",
          "Brazil",
          "Bulgaria",
          "Burkina Faso",
          "Burundi",
          "Cabo Verde",
          "Cambodia",
          "Canada",
          "Central African Republic",
          "Chad",
          "Chile",
          "China",
          "Colombia",
          "Congo",
          "Costa Rica",
          "Côte d'Ivoire",
          "Croatia",
          "Cuba",
          "Czechia",
          "Denmark",
          "Dominican Republic",
          "Ecuador",
          "Egypt",
          "El Salvador",
          "Eritrea",
          "Eswatini",
          "France",
          "Georgia",
          "Germany",
          "Ghana",
          "Greece",
          "Guatemala",
          "Guinea",
          "Guinea-Bissau",
          "Haiti",
          "Honduras",
          "Hungary",
          "India",
          "Iran",
          "Iraq",
          "Israel",
          "Italy",
          "Jamaica",
          "Japan",
          "Kazakhstan",
          "Kenya",
          "South Korea",
          "Kuwait",
          "Kyrgyzstan",
          "Lebanon",
          "Lesotho",
          "Libya",
          "Lithuania",
          "Madagascar",
          "Malawi",
          "Malaysia",
          "Mali",
          "Mauritania",
          "Mauritius",
          "Mexico",
          "Moldova",
          "Morocco",
          "Mozambique",
          "Myanmar",
          "Namibia",
          "Nepal",
          "Netherlands",
          "New Caledonia",
          "New Zealand",
          "Nicaragua",
          "Nigeria",
          "North Macedonia",
          "Oman",
          "Pakistan",
          "Panama",
          "Paraguay",
          "Peru",
          "Philippines",
          "Poland",
          "Portugal",
          "Puerto Rico",
          "Romania",
          "Russian Federation",
          "Rwanda",
          "Saudi Arabia",
          "Senegal",
          "Sierra Leone",
          "Slovakia",
          "Slovenia",
          "South Africa",
          "Spain",
          "Sri Lanka",
          "Sudan",
          "Suriname",
          "Sweden",
          "Switzerland",
          "Syrian Arab Republic",
          "Tajikistan",
          "Tanzania",
          "Thailand",
          "Timor-Leste",
          "Togo",
          "Türkiye",
          "Turkmenistan",
          "Uganda",
          "Ukraine",
          "United States",
          "Uruguay",
          "Uzbekistan",
          "Yemen",
          "Zambia",
          "Zimbabwe"
         ],
         "locationmode": "ISO-3",
         "locations": [
          "AFG",
          "ALB",
          "AGO",
          "ATG",
          "ARG",
          "ARM",
          "AUS",
          "AUT",
          "AZE",
          "BGD",
          "BLR",
          "BLZ",
          "BEN",
          "BIH",
          "BWA",
          "BRA",
          "BGR",
          "BFA",
          "BDI",
          "CPV",
          "KHM",
          "CAN",
          "CAF",
          "TCD",
          "CHL",
          "CHN",
          "COL",
          "COG",
          "CRI",
          "CIV",
          "HRV",
          "CUB",
          "CZE",
          "DNK",
          "DOM",
          "ECU",
          "EGY",
          "SLV",
          "ERI",
          "SWZ",
          "FRA",
          "GEO",
          "DEU",
          "GHA",
          "GRC",
          "GTM",
          "GIN",
          "GNB",
          "HTI",
          "HND",
          "HUN",
          "IND",
          "IRN",
          "IRQ",
          "ISR",
          "ITA",
          "JAM",
          "JPN",
          "KAZ",
          "KEN",
          "KOR",
          "KWT",
          "KGZ",
          "LBN",
          "LSO",
          "LBY",
          "LTU",
          "MDG",
          "MWI",
          "MYS",
          "MLI",
          "MRT",
          "MUS",
          "MEX",
          "MDA",
          "MAR",
          "MOZ",
          "MMR",
          "NAM",
          "NPL",
          "NLD",
          "NCL",
          "NZL",
          "NIC",
          "NGA",
          "MKD",
          "OMN",
          "PAK",
          "PAN",
          "PRY",
          "PER",
          "PHL",
          "POL",
          "PRT",
          "PRI",
          "ROU",
          "RUS",
          "RWA",
          "SAU",
          "SEN",
          "SLE",
          "SVK",
          "SVN",
          "ZAF",
          "ESP",
          "LKA",
          "SDN",
          "SUR",
          "SWE",
          "CHE",
          "SYR",
          "TJK",
          "TZA",
          "THA",
          "TLS",
          "TGO",
          "TUR",
          "TKM",
          "UGA",
          "UKR",
          "USA",
          "URY",
          "UZB",
          "YEM",
          "ZMB",
          "ZWE"
         ],
         "name": "",
         "type": "choropleth",
         "z": [
          0,
          0.029280026542800094,
          -0.4306537878180217,
          -0.15110537190082643,
          -0.0846565691998861,
          -0.00732669157326688,
          0.010738112417235192,
          0.03902469924646371,
          0.08853236008645592,
          -0.01289513014449631,
          0.12402012675502921,
          -0.4134610019528912,
          -0.45148182785642904,
          0.05897105823863636,
          -0.20874137596386272,
          -0.3234635136308064,
          0.2507452415337458,
          -0.18276681286549715,
          0.13708227131124326,
          0.09851116625310179,
          -0.744365562490987,
          0.030540596318129977,
          -0.04815563902532977,
          -0.07903166151669168,
          0.15733632299496314,
          0.22680075637534405,
          -0.16449413331148383,
          -0.39134030207458276,
          0.16825303564434016,
          -0.3782539022298456,
          0.04745872464355181,
          0.4050868911284839,
          0.02663832610233124,
          0.07022272727272737,
          0.23781157279155837,
          -0.25386736994685094,
          -0.0005794547007063964,
          -0.21718146718146755,
          -0.10968364402280342,
          0.07057082452431276,
          0.17713804465012165,
          0.04096730726461605,
          0.007424247161431519,
          -0.19237292928713565,
          0.11698226250088178,
          -0.31821575214632314,
          -0.15070738312639664,
          -0.3002634811845336,
          -0.06050765272463385,
          -0.1872419340423632,
          0.05481493706009711,
          0.07950903055151347,
          0.04204164298575104,
          0.0015132778111599016,
          -0.022895311712317238,
          0.19726120476629624,
          0.33469864853521386,
          0.006434717545828825,
          0.0054965955813272216,
          -0.027141029368073652,
          -0.13185749063803473,
          0.003928170594837261,
          0.0372470613328278,
          0.02487336710210601,
          0,
          0,
          0.13969176222349652,
          -0.05361158147892311,
          -0.4454815443360202,
          -0.0996354505333353,
          0,
          -0.005279434982403839,
          -0.0535753024969607,
          -0.0710377254371957,
          0.05965654258105812,
          0.025313354246022837,
          -0.28377417001727134,
          -0.4876452281166095,
          -0.08625054244665802,
          0.056449220374070824,
          0.01796622992416832,
          0.0018450368012730548,
          0.018281890340110477,
          -0.8278778309940019,
          -0.17930357629458402,
          0.10158748014434335,
          -8.322808048171534e-05,
          -0.051549881599305625,
          -0.1511350964741599,
          -0.8493861176578263,
          -0.11560254616477295,
          -0.020234795891300325,
          0.06820536422729133,
          0.007641347510926589,
          0.4025417648867476,
          0.10850776091763334,
          0.018456527474981176,
          -0.023952537126432475,
          0,
          -0.20539892248197458,
          -0.2733110405803675,
          0.023799020155093456,
          0.01695909544644084,
          -0.03000601769036089,
          0.16296036228580135,
          -0.03331354759579403,
          -0.11524620454266898,
          -0.04676652097902043,
          -0.01887433603131683,
          0.09329769998533553,
          0.023849282804460466,
          0.0060345374386908575,
          -0.44982501693384497,
          0.07141725936378407,
          -0.09414929388029591,
          -0.05973156830299702,
          0.1337417743827319,
          0,
          -0.20830940317603092,
          0.016379113924751755,
          0.03354104679409273,
          0.19221179917100384,
          0.07123111768317104,
          0,
          -0.15066034713211837,
          -0.11909008659687198
         ]
        }
       ],
       "layout": {
        "coloraxis": {
         "colorbar": {
          "title": {
           "text": "Average_Deforestation_Rate(%)"
          }
         },
         "colorscale": [
          [
           0,
           "#0d0887"
          ],
          [
           0.1111111111111111,
           "#46039f"
          ],
          [
           0.2222222222222222,
           "#7201a8"
          ],
          [
           0.3333333333333333,
           "#9c179e"
          ],
          [
           0.4444444444444444,
           "#bd3786"
          ],
          [
           0.5555555555555556,
           "#d8576b"
          ],
          [
           0.6666666666666666,
           "#ed7953"
          ],
          [
           0.7777777777777778,
           "#fb9f3a"
          ],
          [
           0.8888888888888888,
           "#fdca26"
          ],
          [
           1,
           "#f0f921"
          ]
         ]
        },
        "geo": {
         "center": {},
         "domain": {
          "x": [
           0,
           1
          ],
          "y": [
           0,
           1
          ]
         }
        },
        "legend": {
         "tracegroupgap": 0
        },
        "template": {
         "data": {
          "bar": [
           {
            "error_x": {
             "color": "#2a3f5f"
            },
            "error_y": {
             "color": "#2a3f5f"
            },
            "marker": {
             "line": {
              "color": "#E5ECF6",
              "width": 0.5
             },
             "pattern": {
              "fillmode": "overlay",
              "size": 10,
              "solidity": 0.2
             }
            },
            "type": "bar"
           }
          ],
          "barpolar": [
           {
            "marker": {
             "line": {
              "color": "#E5ECF6",
              "width": 0.5
             },
             "pattern": {
              "fillmode": "overlay",
              "size": 10,
              "solidity": 0.2
             }
            },
            "type": "barpolar"
           }
          ],
          "carpet": [
           {
            "aaxis": {
             "endlinecolor": "#2a3f5f",
             "gridcolor": "white",
             "linecolor": "white",
             "minorgridcolor": "white",
             "startlinecolor": "#2a3f5f"
            },
            "baxis": {
             "endlinecolor": "#2a3f5f",
             "gridcolor": "white",
             "linecolor": "white",
             "minorgridcolor": "white",
             "startlinecolor": "#2a3f5f"
            },
            "type": "carpet"
           }
          ],
          "choropleth": [
           {
            "colorbar": {
             "outlinewidth": 0,
             "ticks": ""
            },
            "type": "choropleth"
           }
          ],
          "contour": [
           {
            "colorbar": {
             "outlinewidth": 0,
             "ticks": ""
            },
            "colorscale": [
             [
              0,
              "#0d0887"
             ],
             [
              0.1111111111111111,
              "#46039f"
             ],
             [
              0.2222222222222222,
              "#7201a8"
             ],
             [
              0.3333333333333333,
              "#9c179e"
             ],
             [
              0.4444444444444444,
              "#bd3786"
             ],
             [
              0.5555555555555556,
              "#d8576b"
             ],
             [
              0.6666666666666666,
              "#ed7953"
             ],
             [
              0.7777777777777778,
              "#fb9f3a"
             ],
             [
              0.8888888888888888,
              "#fdca26"
             ],
             [
              1,
              "#f0f921"
             ]
            ],
            "type": "contour"
           }
          ],
          "contourcarpet": [
           {
            "colorbar": {
             "outlinewidth": 0,
             "ticks": ""
            },
            "type": "contourcarpet"
           }
          ],
          "heatmap": [
           {
            "colorbar": {
             "outlinewidth": 0,
             "ticks": ""
            },
            "colorscale": [
             [
              0,
              "#0d0887"
             ],
             [
              0.1111111111111111,
              "#46039f"
             ],
             [
              0.2222222222222222,
              "#7201a8"
             ],
             [
              0.3333333333333333,
              "#9c179e"
             ],
             [
              0.4444444444444444,
              "#bd3786"
             ],
             [
              0.5555555555555556,
              "#d8576b"
             ],
             [
              0.6666666666666666,
              "#ed7953"
             ],
             [
              0.7777777777777778,
              "#fb9f3a"
             ],
             [
              0.8888888888888888,
              "#fdca26"
             ],
             [
              1,
              "#f0f921"
             ]
            ],
            "type": "heatmap"
           }
          ],
          "heatmapgl": [
           {
            "colorbar": {
             "outlinewidth": 0,
             "ticks": ""
            },
            "colorscale": [
             [
              0,
              "#0d0887"
             ],
             [
              0.1111111111111111,
              "#46039f"
             ],
             [
              0.2222222222222222,
              "#7201a8"
             ],
             [
              0.3333333333333333,
              "#9c179e"
             ],
             [
              0.4444444444444444,
              "#bd3786"
             ],
             [
              0.5555555555555556,
              "#d8576b"
             ],
             [
              0.6666666666666666,
              "#ed7953"
             ],
             [
              0.7777777777777778,
              "#fb9f3a"
             ],
             [
              0.8888888888888888,
              "#fdca26"
             ],
             [
              1,
              "#f0f921"
             ]
            ],
            "type": "heatmapgl"
           }
          ],
          "histogram": [
           {
            "marker": {
             "pattern": {
              "fillmode": "overlay",
              "size": 10,
              "solidity": 0.2
             }
            },
            "type": "histogram"
           }
          ],
          "histogram2d": [
           {
            "colorbar": {
             "outlinewidth": 0,
             "ticks": ""
            },
            "colorscale": [
             [
              0,
              "#0d0887"
             ],
             [
              0.1111111111111111,
              "#46039f"
             ],
             [
              0.2222222222222222,
              "#7201a8"
             ],
             [
              0.3333333333333333,
              "#9c179e"
             ],
             [
              0.4444444444444444,
              "#bd3786"
             ],
             [
              0.5555555555555556,
              "#d8576b"
             ],
             [
              0.6666666666666666,
              "#ed7953"
             ],
             [
              0.7777777777777778,
              "#fb9f3a"
             ],
             [
              0.8888888888888888,
              "#fdca26"
             ],
             [
              1,
              "#f0f921"
             ]
            ],
            "type": "histogram2d"
           }
          ],
          "histogram2dcontour": [
           {
            "colorbar": {
             "outlinewidth": 0,
             "ticks": ""
            },
            "colorscale": [
             [
              0,
              "#0d0887"
             ],
             [
              0.1111111111111111,
              "#46039f"
             ],
             [
              0.2222222222222222,
              "#7201a8"
             ],
             [
              0.3333333333333333,
              "#9c179e"
             ],
             [
              0.4444444444444444,
              "#bd3786"
             ],
             [
              0.5555555555555556,
              "#d8576b"
             ],
             [
              0.6666666666666666,
              "#ed7953"
             ],
             [
              0.7777777777777778,
              "#fb9f3a"
             ],
             [
              0.8888888888888888,
              "#fdca26"
             ],
             [
              1,
              "#f0f921"
             ]
            ],
            "type": "histogram2dcontour"
           }
          ],
          "mesh3d": [
           {
            "colorbar": {
             "outlinewidth": 0,
             "ticks": ""
            },
            "type": "mesh3d"
           }
          ],
          "parcoords": [
           {
            "line": {
             "colorbar": {
              "outlinewidth": 0,
              "ticks": ""
             }
            },
            "type": "parcoords"
           }
          ],
          "pie": [
           {
            "automargin": true,
            "type": "pie"
           }
          ],
          "scatter": [
           {
            "fillpattern": {
             "fillmode": "overlay",
             "size": 10,
             "solidity": 0.2
            },
            "type": "scatter"
           }
          ],
          "scatter3d": [
           {
            "line": {
             "colorbar": {
              "outlinewidth": 0,
              "ticks": ""
             }
            },
            "marker": {
             "colorbar": {
              "outlinewidth": 0,
              "ticks": ""
             }
            },
            "type": "scatter3d"
           }
          ],
          "scattercarpet": [
           {
            "marker": {
             "colorbar": {
              "outlinewidth": 0,
              "ticks": ""
             }
            },
            "type": "scattercarpet"
           }
          ],
          "scattergeo": [
           {
            "marker": {
             "colorbar": {
              "outlinewidth": 0,
              "ticks": ""
             }
            },
            "type": "scattergeo"
           }
          ],
          "scattergl": [
           {
            "marker": {
             "colorbar": {
              "outlinewidth": 0,
              "ticks": ""
             }
            },
            "type": "scattergl"
           }
          ],
          "scattermapbox": [
           {
            "marker": {
             "colorbar": {
              "outlinewidth": 0,
              "ticks": ""
             }
            },
            "type": "scattermapbox"
           }
          ],
          "scatterpolar": [
           {
            "marker": {
             "colorbar": {
              "outlinewidth": 0,
              "ticks": ""
             }
            },
            "type": "scatterpolar"
           }
          ],
          "scatterpolargl": [
           {
            "marker": {
             "colorbar": {
              "outlinewidth": 0,
              "ticks": ""
             }
            },
            "type": "scatterpolargl"
           }
          ],
          "scatterternary": [
           {
            "marker": {
             "colorbar": {
              "outlinewidth": 0,
              "ticks": ""
             }
            },
            "type": "scatterternary"
           }
          ],
          "surface": [
           {
            "colorbar": {
             "outlinewidth": 0,
             "ticks": ""
            },
            "colorscale": [
             [
              0,
              "#0d0887"
             ],
             [
              0.1111111111111111,
              "#46039f"
             ],
             [
              0.2222222222222222,
              "#7201a8"
             ],
             [
              0.3333333333333333,
              "#9c179e"
             ],
             [
              0.4444444444444444,
              "#bd3786"
             ],
             [
              0.5555555555555556,
              "#d8576b"
             ],
             [
              0.6666666666666666,
              "#ed7953"
             ],
             [
              0.7777777777777778,
              "#fb9f3a"
             ],
             [
              0.8888888888888888,
              "#fdca26"
             ],
             [
              1,
              "#f0f921"
             ]
            ],
            "type": "surface"
           }
          ],
          "table": [
           {
            "cells": {
             "fill": {
              "color": "#EBF0F8"
             },
             "line": {
              "color": "white"
             }
            },
            "header": {
             "fill": {
              "color": "#C8D4E3"
             },
             "line": {
              "color": "white"
             }
            },
            "type": "table"
           }
          ]
         },
         "layout": {
          "annotationdefaults": {
           "arrowcolor": "#2a3f5f",
           "arrowhead": 0,
           "arrowwidth": 1
          },
          "autotypenumbers": "strict",
          "coloraxis": {
           "colorbar": {
            "outlinewidth": 0,
            "ticks": ""
           }
          },
          "colorscale": {
           "diverging": [
            [
             0,
             "#8e0152"
            ],
            [
             0.1,
             "#c51b7d"
            ],
            [
             0.2,
             "#de77ae"
            ],
            [
             0.3,
             "#f1b6da"
            ],
            [
             0.4,
             "#fde0ef"
            ],
            [
             0.5,
             "#f7f7f7"
            ],
            [
             0.6,
             "#e6f5d0"
            ],
            [
             0.7,
             "#b8e186"
            ],
            [
             0.8,
             "#7fbc41"
            ],
            [
             0.9,
             "#4d9221"
            ],
            [
             1,
             "#276419"
            ]
           ],
           "sequential": [
            [
             0,
             "#0d0887"
            ],
            [
             0.1111111111111111,
             "#46039f"
            ],
            [
             0.2222222222222222,
             "#7201a8"
            ],
            [
             0.3333333333333333,
             "#9c179e"
            ],
            [
             0.4444444444444444,
             "#bd3786"
            ],
            [
             0.5555555555555556,
             "#d8576b"
            ],
            [
             0.6666666666666666,
             "#ed7953"
            ],
            [
             0.7777777777777778,
             "#fb9f3a"
            ],
            [
             0.8888888888888888,
             "#fdca26"
            ],
            [
             1,
             "#f0f921"
            ]
           ],
           "sequentialminus": [
            [
             0,
             "#0d0887"
            ],
            [
             0.1111111111111111,
             "#46039f"
            ],
            [
             0.2222222222222222,
             "#7201a8"
            ],
            [
             0.3333333333333333,
             "#9c179e"
            ],
            [
             0.4444444444444444,
             "#bd3786"
            ],
            [
             0.5555555555555556,
             "#d8576b"
            ],
            [
             0.6666666666666666,
             "#ed7953"
            ],
            [
             0.7777777777777778,
             "#fb9f3a"
            ],
            [
             0.8888888888888888,
             "#fdca26"
            ],
            [
             1,
             "#f0f921"
            ]
           ]
          },
          "colorway": [
           "#636efa",
           "#EF553B",
           "#00cc96",
           "#ab63fa",
           "#FFA15A",
           "#19d3f3",
           "#FF6692",
           "#B6E880",
           "#FF97FF",
           "#FECB52"
          ],
          "font": {
           "color": "#2a3f5f"
          },
          "geo": {
           "bgcolor": "white",
           "lakecolor": "white",
           "landcolor": "#E5ECF6",
           "showlakes": true,
           "showland": true,
           "subunitcolor": "white"
          },
          "hoverlabel": {
           "align": "left"
          },
          "hovermode": "closest",
          "mapbox": {
           "style": "light"
          },
          "paper_bgcolor": "white",
          "plot_bgcolor": "#E5ECF6",
          "polar": {
           "angularaxis": {
            "gridcolor": "white",
            "linecolor": "white",
            "ticks": ""
           },
           "bgcolor": "#E5ECF6",
           "radialaxis": {
            "gridcolor": "white",
            "linecolor": "white",
            "ticks": ""
           }
          },
          "scene": {
           "xaxis": {
            "backgroundcolor": "#E5ECF6",
            "gridcolor": "white",
            "gridwidth": 2,
            "linecolor": "white",
            "showbackground": true,
            "ticks": "",
            "zerolinecolor": "white"
           },
           "yaxis": {
            "backgroundcolor": "#E5ECF6",
            "gridcolor": "white",
            "gridwidth": 2,
            "linecolor": "white",
            "showbackground": true,
            "ticks": "",
            "zerolinecolor": "white"
           },
           "zaxis": {
            "backgroundcolor": "#E5ECF6",
            "gridcolor": "white",
            "gridwidth": 2,
            "linecolor": "white",
            "showbackground": true,
            "ticks": "",
            "zerolinecolor": "white"
           }
          },
          "shapedefaults": {
           "line": {
            "color": "#2a3f5f"
           }
          },
          "ternary": {
           "aaxis": {
            "gridcolor": "white",
            "linecolor": "white",
            "ticks": ""
           },
           "baxis": {
            "gridcolor": "white",
            "linecolor": "white",
            "ticks": ""
           },
           "bgcolor": "#E5ECF6",
           "caxis": {
            "gridcolor": "white",
            "linecolor": "white",
            "ticks": ""
           }
          },
          "title": {
           "x": 0.05
          },
          "xaxis": {
           "automargin": true,
           "gridcolor": "white",
           "linecolor": "white",
           "ticks": "",
           "title": {
            "standoff": 15
           },
           "zerolinecolor": "white",
           "zerolinewidth": 2
          },
          "yaxis": {
           "automargin": true,
           "gridcolor": "white",
           "linecolor": "white",
           "ticks": "",
           "title": {
            "standoff": 15
           },
           "zerolinecolor": "white",
           "zerolinewidth": 2
          }
         }
        },
        "title": {
         "text": "Average Deforestation Rate (%) per Country"
        }
       }
      }
     },
     "metadata": {},
     "output_type": "display_data"
    }
   ],
   "source": [
    "fig = px.choropleth(last_df, \n",
    "                    locations='iso3',  # ISO-3 country codes\n",
    "                    locationmode='ISO-3',\n",
    "                    color='Average_Deforestation_Rate(%)',  # Average deforestation rates\n",
    "                    hover_name='Country',\n",
    "                    title = 'Average Deforestation Rate (%) per Country',\n",
    "                    color_continuous_scale=px.colors.sequential.Plasma)\n",
    "\n",
    "fig.show()"
   ]
  },
  {
   "cell_type": "code",
   "execution_count": 311,
   "metadata": {},
   "outputs": [
    {
     "data": {
      "application/vnd.plotly.v1+json": {
       "config": {
        "plotlyServerURL": "https://plot.ly"
       },
       "data": [
        {
         "coloraxis": "coloraxis",
         "geo": "geo",
         "hovertemplate": "<b>%{hovertext}</b><br><br>iso3=%{location}<br>Average_Corn_Field_Expansion_Rate(%)=%{z}<extra></extra>",
         "hovertext": [
          "Afghanistan",
          "Albania",
          "Angola",
          "Antigua and Barbuda",
          "Argentina",
          "Armenia",
          "Australia",
          "Austria",
          "Azerbaijan",
          "Bangladesh",
          "Belarus",
          "Belize",
          "Benin",
          "Bosnia and Herzegovina",
          "Botswana",
          "Brazil",
          "Bulgaria",
          "Burkina Faso",
          "Burundi",
          "Cabo Verde",
          "Cambodia",
          "Canada",
          "Central African Republic",
          "Chad",
          "Chile",
          "China",
          "Colombia",
          "Congo",
          "Costa Rica",
          "Côte d'Ivoire",
          "Croatia",
          "Cuba",
          "Czechia",
          "Denmark",
          "Dominican Republic",
          "Ecuador",
          "Egypt",
          "El Salvador",
          "Eritrea",
          "Eswatini",
          "France",
          "Georgia",
          "Germany",
          "Ghana",
          "Greece",
          "Guatemala",
          "Guinea",
          "Guinea-Bissau",
          "Haiti",
          "Honduras",
          "Hungary",
          "India",
          "Iran",
          "Iraq",
          "Israel",
          "Italy",
          "Jamaica",
          "Japan",
          "Kazakhstan",
          "Kenya",
          "South Korea",
          "Kuwait",
          "Kyrgyzstan",
          "Lebanon",
          "Lesotho",
          "Libya",
          "Lithuania",
          "Madagascar",
          "Malawi",
          "Malaysia",
          "Mali",
          "Mauritania",
          "Mauritius",
          "Mexico",
          "Moldova",
          "Morocco",
          "Mozambique",
          "Myanmar",
          "Namibia",
          "Nepal",
          "Netherlands",
          "New Caledonia",
          "New Zealand",
          "Nicaragua",
          "Nigeria",
          "North Macedonia",
          "Oman",
          "Pakistan",
          "Panama",
          "Paraguay",
          "Peru",
          "Philippines",
          "Poland",
          "Portugal",
          "Puerto Rico",
          "Romania",
          "Russian Federation",
          "Rwanda",
          "Saudi Arabia",
          "Senegal",
          "Sierra Leone",
          "Slovakia",
          "Slovenia",
          "South Africa",
          "Spain",
          "Sri Lanka",
          "Sudan",
          "Suriname",
          "Sweden",
          "Switzerland",
          "Syrian Arab Republic",
          "Tajikistan",
          "Tanzania",
          "Thailand",
          "Timor-Leste",
          "Togo",
          "Türkiye",
          "Turkmenistan",
          "Uganda",
          "Ukraine",
          "United States",
          "Uruguay",
          "Uzbekistan",
          "Yemen",
          "Zambia",
          "Zimbabwe"
         ],
         "locationmode": "ISO-3",
         "locations": [
          "AFG",
          "ALB",
          "AGO",
          "ATG",
          "ARG",
          "ARM",
          "AUS",
          "AUT",
          "AZE",
          "BGD",
          "BLR",
          "BLZ",
          "BEN",
          "BIH",
          "BWA",
          "BRA",
          "BGR",
          "BFA",
          "BDI",
          "CPV",
          "KHM",
          "CAN",
          "CAF",
          "TCD",
          "CHL",
          "CHN",
          "COL",
          "COG",
          "CRI",
          "CIV",
          "HRV",
          "CUB",
          "CZE",
          "DNK",
          "DOM",
          "ECU",
          "EGY",
          "SLV",
          "ERI",
          "SWZ",
          "FRA",
          "GEO",
          "DEU",
          "GHA",
          "GRC",
          "GTM",
          "GIN",
          "GNB",
          "HTI",
          "HND",
          "HUN",
          "IND",
          "IRN",
          "IRQ",
          "ISR",
          "ITA",
          "JAM",
          "JPN",
          "KAZ",
          "KEN",
          "KOR",
          "KWT",
          "KGZ",
          "LBN",
          "LSO",
          "LBY",
          "LTU",
          "MDG",
          "MWI",
          "MYS",
          "MLI",
          "MRT",
          "MUS",
          "MEX",
          "MDA",
          "MAR",
          "MOZ",
          "MMR",
          "NAM",
          "NPL",
          "NLD",
          "NCL",
          "NZL",
          "NIC",
          "NGA",
          "MKD",
          "OMN",
          "PAK",
          "PAN",
          "PRY",
          "PER",
          "PHL",
          "POL",
          "PRT",
          "PRI",
          "ROU",
          "RUS",
          "RWA",
          "SAU",
          "SEN",
          "SLE",
          "SVK",
          "SVN",
          "ZAF",
          "ESP",
          "LKA",
          "SDN",
          "SUR",
          "SWE",
          "CHE",
          "SYR",
          "TJK",
          "TZA",
          "THA",
          "TLS",
          "TGO",
          "TUR",
          "TKM",
          "UGA",
          "UKR",
          "USA",
          "URY",
          "UZB",
          "YEM",
          "ZMB",
          "ZWE"
         ],
         "name": "",
         "type": "choropleth",
         "z": [
          7.37193247441421,
          0.6335047395218,
          13.77969962801782,
          66.66666666666667,
          5.916717027578375,
          -1.6324861577601792,
          -0.027037537720629314,
          0.8988779841199973,
          0.19655386366369693,
          33.90363818840907,
          28.16685563466105,
          3.546867083682448,
          3.973892947608443,
          0.11162634168399854,
          55.428216493249046,
          2.4684676585362486,
          3.3743069166554185,
          8.929009383670083,
          12.84488566037026,
          -0.10012565225721148,
          7.8335046950532785,
          1.793323504077354,
          7.706752705624321,
          10.884689586515657,
          0.6749475825610534,
          3.1620835820430555,
          -1.381214222858797,
          0.02167618906942087,
          0.8490718909408675,
          0.7524212885142813,
          0.09011661445485836,
          1.5583098257127228,
          4.609406442865313,
          -1.8742400814127138,
          3.3292660558485325,
          0.45140920747717095,
          4.205599821894639,
          0.3025060819366709,
          12.209487112457566,
          -0.373188839912022,
          -0.28185833006987887,
          -2.875142724927571,
          1.2134388527809676,
          3.517682644460411,
          -2.426909578676554,
          2.7747777381664096,
          5.028269335404302,
          -0.5724940921847177,
          5.131001708958979,
          -0.5007984713819745,
          -0.35163705006835416,
          2.0242027262304303,
          -4.7933361284050005,
          4.36173254532276,
          -0.26530322715333854,
          -2.6088203559918464,
          1.5492230891391205,
          -6.849315068493156,
          4.822227022494077,
          2.2805995949176365,
          0.5932386747192194,
          21.19429416236779,
          3.1982061535828707,
          6.296601959982076,
          12.334230539594811,
          0.6383269160957095,
          17.599509023791835,
          -1.5317639070703757,
          1.8281447370186392,
          3.7780016073038785,
          14.793182961482458,
          27.204255307045358,
          17.847827313710937,
          0.38304103237587384,
          1.3219064041787707,
          -1.7068390953630403,
          2.840076236934371,
          5.244325772347175,
          2.7942971411120596,
          0.9007943839741582,
          0.8817797805301006,
          11.545508549596983,
          0.6516214217617569,
          0.13656057709237646,
          3.9017607922775666,
          -0.700313161452363,
          25.10732510064805,
          2.823996445936619,
          0.4730755729884141,
          6.472638801632793,
          -0.5884248468340759,
          0.14269417319565184,
          11.346650372091872,
          -3.0778611608849116,
          2.7777777777777763,
          -0.1474467338664843,
          9.181571884823212,
          7.181530609214046,
          21.371403768376457,
          9.109589323279462,
          8.502534269245217,
          1.9748475534442995,
          -0.5377975219259897,
          0.3345781659235029,
          -0.4521979642354195,
          8.373481760237643,
          -3.059888567426413,
          3.696364566804422,
          18.06584362139918,
          -1.658332957530947,
          6.000010031620186,
          4.416624655661844,
          11.508537653424703,
          -0.5675169735771513,
          11.608625124690517,
          3.5130149377034443,
          1.7639217209173619,
          8.277886308428275,
          4.169786243693438,
          8.846920472631526,
          0.9641705313262783,
          8.683996810682155,
          2.4308055691195696,
          1.898018368048581,
          8.643074104931104,
          -1.0378729538756375
         ]
        }
       ],
       "layout": {
        "coloraxis": {
         "colorbar": {
          "title": {
           "text": "Average_Corn_Field_Expansion_Rate(%)"
          }
         },
         "colorscale": [
          [
           0,
           "#0d0887"
          ],
          [
           0.1111111111111111,
           "#46039f"
          ],
          [
           0.2222222222222222,
           "#7201a8"
          ],
          [
           0.3333333333333333,
           "#9c179e"
          ],
          [
           0.4444444444444444,
           "#bd3786"
          ],
          [
           0.5555555555555556,
           "#d8576b"
          ],
          [
           0.6666666666666666,
           "#ed7953"
          ],
          [
           0.7777777777777778,
           "#fb9f3a"
          ],
          [
           0.8888888888888888,
           "#fdca26"
          ],
          [
           1,
           "#f0f921"
          ]
         ]
        },
        "geo": {
         "center": {},
         "domain": {
          "x": [
           0,
           1
          ],
          "y": [
           0,
           1
          ]
         }
        },
        "legend": {
         "tracegroupgap": 0
        },
        "template": {
         "data": {
          "bar": [
           {
            "error_x": {
             "color": "#2a3f5f"
            },
            "error_y": {
             "color": "#2a3f5f"
            },
            "marker": {
             "line": {
              "color": "#E5ECF6",
              "width": 0.5
             },
             "pattern": {
              "fillmode": "overlay",
              "size": 10,
              "solidity": 0.2
             }
            },
            "type": "bar"
           }
          ],
          "barpolar": [
           {
            "marker": {
             "line": {
              "color": "#E5ECF6",
              "width": 0.5
             },
             "pattern": {
              "fillmode": "overlay",
              "size": 10,
              "solidity": 0.2
             }
            },
            "type": "barpolar"
           }
          ],
          "carpet": [
           {
            "aaxis": {
             "endlinecolor": "#2a3f5f",
             "gridcolor": "white",
             "linecolor": "white",
             "minorgridcolor": "white",
             "startlinecolor": "#2a3f5f"
            },
            "baxis": {
             "endlinecolor": "#2a3f5f",
             "gridcolor": "white",
             "linecolor": "white",
             "minorgridcolor": "white",
             "startlinecolor": "#2a3f5f"
            },
            "type": "carpet"
           }
          ],
          "choropleth": [
           {
            "colorbar": {
             "outlinewidth": 0,
             "ticks": ""
            },
            "type": "choropleth"
           }
          ],
          "contour": [
           {
            "colorbar": {
             "outlinewidth": 0,
             "ticks": ""
            },
            "colorscale": [
             [
              0,
              "#0d0887"
             ],
             [
              0.1111111111111111,
              "#46039f"
             ],
             [
              0.2222222222222222,
              "#7201a8"
             ],
             [
              0.3333333333333333,
              "#9c179e"
             ],
             [
              0.4444444444444444,
              "#bd3786"
             ],
             [
              0.5555555555555556,
              "#d8576b"
             ],
             [
              0.6666666666666666,
              "#ed7953"
             ],
             [
              0.7777777777777778,
              "#fb9f3a"
             ],
             [
              0.8888888888888888,
              "#fdca26"
             ],
             [
              1,
              "#f0f921"
             ]
            ],
            "type": "contour"
           }
          ],
          "contourcarpet": [
           {
            "colorbar": {
             "outlinewidth": 0,
             "ticks": ""
            },
            "type": "contourcarpet"
           }
          ],
          "heatmap": [
           {
            "colorbar": {
             "outlinewidth": 0,
             "ticks": ""
            },
            "colorscale": [
             [
              0,
              "#0d0887"
             ],
             [
              0.1111111111111111,
              "#46039f"
             ],
             [
              0.2222222222222222,
              "#7201a8"
             ],
             [
              0.3333333333333333,
              "#9c179e"
             ],
             [
              0.4444444444444444,
              "#bd3786"
             ],
             [
              0.5555555555555556,
              "#d8576b"
             ],
             [
              0.6666666666666666,
              "#ed7953"
             ],
             [
              0.7777777777777778,
              "#fb9f3a"
             ],
             [
              0.8888888888888888,
              "#fdca26"
             ],
             [
              1,
              "#f0f921"
             ]
            ],
            "type": "heatmap"
           }
          ],
          "heatmapgl": [
           {
            "colorbar": {
             "outlinewidth": 0,
             "ticks": ""
            },
            "colorscale": [
             [
              0,
              "#0d0887"
             ],
             [
              0.1111111111111111,
              "#46039f"
             ],
             [
              0.2222222222222222,
              "#7201a8"
             ],
             [
              0.3333333333333333,
              "#9c179e"
             ],
             [
              0.4444444444444444,
              "#bd3786"
             ],
             [
              0.5555555555555556,
              "#d8576b"
             ],
             [
              0.6666666666666666,
              "#ed7953"
             ],
             [
              0.7777777777777778,
              "#fb9f3a"
             ],
             [
              0.8888888888888888,
              "#fdca26"
             ],
             [
              1,
              "#f0f921"
             ]
            ],
            "type": "heatmapgl"
           }
          ],
          "histogram": [
           {
            "marker": {
             "pattern": {
              "fillmode": "overlay",
              "size": 10,
              "solidity": 0.2
             }
            },
            "type": "histogram"
           }
          ],
          "histogram2d": [
           {
            "colorbar": {
             "outlinewidth": 0,
             "ticks": ""
            },
            "colorscale": [
             [
              0,
              "#0d0887"
             ],
             [
              0.1111111111111111,
              "#46039f"
             ],
             [
              0.2222222222222222,
              "#7201a8"
             ],
             [
              0.3333333333333333,
              "#9c179e"
             ],
             [
              0.4444444444444444,
              "#bd3786"
             ],
             [
              0.5555555555555556,
              "#d8576b"
             ],
             [
              0.6666666666666666,
              "#ed7953"
             ],
             [
              0.7777777777777778,
              "#fb9f3a"
             ],
             [
              0.8888888888888888,
              "#fdca26"
             ],
             [
              1,
              "#f0f921"
             ]
            ],
            "type": "histogram2d"
           }
          ],
          "histogram2dcontour": [
           {
            "colorbar": {
             "outlinewidth": 0,
             "ticks": ""
            },
            "colorscale": [
             [
              0,
              "#0d0887"
             ],
             [
              0.1111111111111111,
              "#46039f"
             ],
             [
              0.2222222222222222,
              "#7201a8"
             ],
             [
              0.3333333333333333,
              "#9c179e"
             ],
             [
              0.4444444444444444,
              "#bd3786"
             ],
             [
              0.5555555555555556,
              "#d8576b"
             ],
             [
              0.6666666666666666,
              "#ed7953"
             ],
             [
              0.7777777777777778,
              "#fb9f3a"
             ],
             [
              0.8888888888888888,
              "#fdca26"
             ],
             [
              1,
              "#f0f921"
             ]
            ],
            "type": "histogram2dcontour"
           }
          ],
          "mesh3d": [
           {
            "colorbar": {
             "outlinewidth": 0,
             "ticks": ""
            },
            "type": "mesh3d"
           }
          ],
          "parcoords": [
           {
            "line": {
             "colorbar": {
              "outlinewidth": 0,
              "ticks": ""
             }
            },
            "type": "parcoords"
           }
          ],
          "pie": [
           {
            "automargin": true,
            "type": "pie"
           }
          ],
          "scatter": [
           {
            "fillpattern": {
             "fillmode": "overlay",
             "size": 10,
             "solidity": 0.2
            },
            "type": "scatter"
           }
          ],
          "scatter3d": [
           {
            "line": {
             "colorbar": {
              "outlinewidth": 0,
              "ticks": ""
             }
            },
            "marker": {
             "colorbar": {
              "outlinewidth": 0,
              "ticks": ""
             }
            },
            "type": "scatter3d"
           }
          ],
          "scattercarpet": [
           {
            "marker": {
             "colorbar": {
              "outlinewidth": 0,
              "ticks": ""
             }
            },
            "type": "scattercarpet"
           }
          ],
          "scattergeo": [
           {
            "marker": {
             "colorbar": {
              "outlinewidth": 0,
              "ticks": ""
             }
            },
            "type": "scattergeo"
           }
          ],
          "scattergl": [
           {
            "marker": {
             "colorbar": {
              "outlinewidth": 0,
              "ticks": ""
             }
            },
            "type": "scattergl"
           }
          ],
          "scattermapbox": [
           {
            "marker": {
             "colorbar": {
              "outlinewidth": 0,
              "ticks": ""
             }
            },
            "type": "scattermapbox"
           }
          ],
          "scatterpolar": [
           {
            "marker": {
             "colorbar": {
              "outlinewidth": 0,
              "ticks": ""
             }
            },
            "type": "scatterpolar"
           }
          ],
          "scatterpolargl": [
           {
            "marker": {
             "colorbar": {
              "outlinewidth": 0,
              "ticks": ""
             }
            },
            "type": "scatterpolargl"
           }
          ],
          "scatterternary": [
           {
            "marker": {
             "colorbar": {
              "outlinewidth": 0,
              "ticks": ""
             }
            },
            "type": "scatterternary"
           }
          ],
          "surface": [
           {
            "colorbar": {
             "outlinewidth": 0,
             "ticks": ""
            },
            "colorscale": [
             [
              0,
              "#0d0887"
             ],
             [
              0.1111111111111111,
              "#46039f"
             ],
             [
              0.2222222222222222,
              "#7201a8"
             ],
             [
              0.3333333333333333,
              "#9c179e"
             ],
             [
              0.4444444444444444,
              "#bd3786"
             ],
             [
              0.5555555555555556,
              "#d8576b"
             ],
             [
              0.6666666666666666,
              "#ed7953"
             ],
             [
              0.7777777777777778,
              "#fb9f3a"
             ],
             [
              0.8888888888888888,
              "#fdca26"
             ],
             [
              1,
              "#f0f921"
             ]
            ],
            "type": "surface"
           }
          ],
          "table": [
           {
            "cells": {
             "fill": {
              "color": "#EBF0F8"
             },
             "line": {
              "color": "white"
             }
            },
            "header": {
             "fill": {
              "color": "#C8D4E3"
             },
             "line": {
              "color": "white"
             }
            },
            "type": "table"
           }
          ]
         },
         "layout": {
          "annotationdefaults": {
           "arrowcolor": "#2a3f5f",
           "arrowhead": 0,
           "arrowwidth": 1
          },
          "autotypenumbers": "strict",
          "coloraxis": {
           "colorbar": {
            "outlinewidth": 0,
            "ticks": ""
           }
          },
          "colorscale": {
           "diverging": [
            [
             0,
             "#8e0152"
            ],
            [
             0.1,
             "#c51b7d"
            ],
            [
             0.2,
             "#de77ae"
            ],
            [
             0.3,
             "#f1b6da"
            ],
            [
             0.4,
             "#fde0ef"
            ],
            [
             0.5,
             "#f7f7f7"
            ],
            [
             0.6,
             "#e6f5d0"
            ],
            [
             0.7,
             "#b8e186"
            ],
            [
             0.8,
             "#7fbc41"
            ],
            [
             0.9,
             "#4d9221"
            ],
            [
             1,
             "#276419"
            ]
           ],
           "sequential": [
            [
             0,
             "#0d0887"
            ],
            [
             0.1111111111111111,
             "#46039f"
            ],
            [
             0.2222222222222222,
             "#7201a8"
            ],
            [
             0.3333333333333333,
             "#9c179e"
            ],
            [
             0.4444444444444444,
             "#bd3786"
            ],
            [
             0.5555555555555556,
             "#d8576b"
            ],
            [
             0.6666666666666666,
             "#ed7953"
            ],
            [
             0.7777777777777778,
             "#fb9f3a"
            ],
            [
             0.8888888888888888,
             "#fdca26"
            ],
            [
             1,
             "#f0f921"
            ]
           ],
           "sequentialminus": [
            [
             0,
             "#0d0887"
            ],
            [
             0.1111111111111111,
             "#46039f"
            ],
            [
             0.2222222222222222,
             "#7201a8"
            ],
            [
             0.3333333333333333,
             "#9c179e"
            ],
            [
             0.4444444444444444,
             "#bd3786"
            ],
            [
             0.5555555555555556,
             "#d8576b"
            ],
            [
             0.6666666666666666,
             "#ed7953"
            ],
            [
             0.7777777777777778,
             "#fb9f3a"
            ],
            [
             0.8888888888888888,
             "#fdca26"
            ],
            [
             1,
             "#f0f921"
            ]
           ]
          },
          "colorway": [
           "#636efa",
           "#EF553B",
           "#00cc96",
           "#ab63fa",
           "#FFA15A",
           "#19d3f3",
           "#FF6692",
           "#B6E880",
           "#FF97FF",
           "#FECB52"
          ],
          "font": {
           "color": "#2a3f5f"
          },
          "geo": {
           "bgcolor": "white",
           "lakecolor": "white",
           "landcolor": "#E5ECF6",
           "showlakes": true,
           "showland": true,
           "subunitcolor": "white"
          },
          "hoverlabel": {
           "align": "left"
          },
          "hovermode": "closest",
          "mapbox": {
           "style": "light"
          },
          "paper_bgcolor": "white",
          "plot_bgcolor": "#E5ECF6",
          "polar": {
           "angularaxis": {
            "gridcolor": "white",
            "linecolor": "white",
            "ticks": ""
           },
           "bgcolor": "#E5ECF6",
           "radialaxis": {
            "gridcolor": "white",
            "linecolor": "white",
            "ticks": ""
           }
          },
          "scene": {
           "xaxis": {
            "backgroundcolor": "#E5ECF6",
            "gridcolor": "white",
            "gridwidth": 2,
            "linecolor": "white",
            "showbackground": true,
            "ticks": "",
            "zerolinecolor": "white"
           },
           "yaxis": {
            "backgroundcolor": "#E5ECF6",
            "gridcolor": "white",
            "gridwidth": 2,
            "linecolor": "white",
            "showbackground": true,
            "ticks": "",
            "zerolinecolor": "white"
           },
           "zaxis": {
            "backgroundcolor": "#E5ECF6",
            "gridcolor": "white",
            "gridwidth": 2,
            "linecolor": "white",
            "showbackground": true,
            "ticks": "",
            "zerolinecolor": "white"
           }
          },
          "shapedefaults": {
           "line": {
            "color": "#2a3f5f"
           }
          },
          "ternary": {
           "aaxis": {
            "gridcolor": "white",
            "linecolor": "white",
            "ticks": ""
           },
           "baxis": {
            "gridcolor": "white",
            "linecolor": "white",
            "ticks": ""
           },
           "bgcolor": "#E5ECF6",
           "caxis": {
            "gridcolor": "white",
            "linecolor": "white",
            "ticks": ""
           }
          },
          "title": {
           "x": 0.05
          },
          "xaxis": {
           "automargin": true,
           "gridcolor": "white",
           "linecolor": "white",
           "ticks": "",
           "title": {
            "standoff": 15
           },
           "zerolinecolor": "white",
           "zerolinewidth": 2
          },
          "yaxis": {
           "automargin": true,
           "gridcolor": "white",
           "linecolor": "white",
           "ticks": "",
           "title": {
            "standoff": 15
           },
           "zerolinecolor": "white",
           "zerolinewidth": 2
          }
         }
        },
        "title": {
         "text": "Average Corn Field Expansion Rate per Country"
        }
       }
      }
     },
     "metadata": {},
     "output_type": "display_data"
    }
   ],
   "source": [
    "# Now plot the map with Plotly Express\n",
    "fig = px.choropleth(last_df, \n",
    "                    locations='iso3',  # ISO-3 country codes\n",
    "                    locationmode='ISO-3',\n",
    "                    color='Average_Corn_Field_Expansion_Rate(%)',  # Average deforestation rates\n",
    "                    hover_name='Country',\n",
    "                    title = 'Average Corn Field Expansion Rate per Country',\n",
    "                    color_continuous_scale=px.colors.sequential.Plasma)\n",
    "\n",
    "fig.show()"
   ]
  },
  {
   "cell_type": "code",
   "execution_count": 312,
   "metadata": {},
   "outputs": [
    {
     "data": {
      "text/html": [
       "<div>\n",
       "<style scoped>\n",
       "    .dataframe tbody tr th:only-of-type {\n",
       "        vertical-align: middle;\n",
       "    }\n",
       "\n",
       "    .dataframe tbody tr th {\n",
       "        vertical-align: top;\n",
       "    }\n",
       "\n",
       "    .dataframe thead th {\n",
       "        text-align: right;\n",
       "    }\n",
       "</style>\n",
       "<table border=\"1\" class=\"dataframe\">\n",
       "  <thead>\n",
       "    <tr style=\"text-align: right;\">\n",
       "      <th></th>\n",
       "      <th>Country</th>\n",
       "      <th>Average_Land_Size</th>\n",
       "      <th>Average_Corn_Field_Expansion_Rate(%)</th>\n",
       "      <th>Average_Deforestation_Rate(%)</th>\n",
       "      <th>iso3</th>\n",
       "      <th>Higher_Than_Median</th>\n",
       "    </tr>\n",
       "  </thead>\n",
       "  <tbody>\n",
       "    <tr>\n",
       "      <th>0</th>\n",
       "      <td>Afghanistan</td>\n",
       "      <td>652230.0</td>\n",
       "      <td>7.371932</td>\n",
       "      <td>0.000000</td>\n",
       "      <td>AFG</td>\n",
       "      <td>1</td>\n",
       "    </tr>\n",
       "    <tr>\n",
       "      <th>1</th>\n",
       "      <td>Albania</td>\n",
       "      <td>27400.0</td>\n",
       "      <td>0.633505</td>\n",
       "      <td>0.029280</td>\n",
       "      <td>ALB</td>\n",
       "      <td>0</td>\n",
       "    </tr>\n",
       "    <tr>\n",
       "      <th>2</th>\n",
       "      <td>Angola</td>\n",
       "      <td>1246700.0</td>\n",
       "      <td>13.779700</td>\n",
       "      <td>-0.430654</td>\n",
       "      <td>AGO</td>\n",
       "      <td>1</td>\n",
       "    </tr>\n",
       "    <tr>\n",
       "      <th>3</th>\n",
       "      <td>Antigua and Barbuda</td>\n",
       "      <td>440.0</td>\n",
       "      <td>66.666667</td>\n",
       "      <td>-0.151105</td>\n",
       "      <td>ATG</td>\n",
       "      <td>0</td>\n",
       "    </tr>\n",
       "    <tr>\n",
       "      <th>4</th>\n",
       "      <td>Argentina</td>\n",
       "      <td>2736690.0</td>\n",
       "      <td>5.916717</td>\n",
       "      <td>-0.084657</td>\n",
       "      <td>ARG</td>\n",
       "      <td>1</td>\n",
       "    </tr>\n",
       "  </tbody>\n",
       "</table>\n",
       "</div>"
      ],
      "text/plain": [
       "               Country  Average_Land_Size  \\\n",
       "0          Afghanistan           652230.0   \n",
       "1              Albania            27400.0   \n",
       "2               Angola          1246700.0   \n",
       "3  Antigua and Barbuda              440.0   \n",
       "4            Argentina          2736690.0   \n",
       "\n",
       "   Average_Corn_Field_Expansion_Rate(%)  Average_Deforestation_Rate(%) iso3  \\\n",
       "0                              7.371932                       0.000000  AFG   \n",
       "1                              0.633505                       0.029280  ALB   \n",
       "2                             13.779700                      -0.430654  AGO   \n",
       "3                             66.666667                      -0.151105  ATG   \n",
       "4                              5.916717                      -0.084657  ARG   \n",
       "\n",
       "   Higher_Than_Median  \n",
       "0                   1  \n",
       "1                   0  \n",
       "2                   1  \n",
       "3                   0  \n",
       "4                   1  "
      ]
     },
     "execution_count": 312,
     "metadata": {},
     "output_type": "execute_result"
    }
   ],
   "source": [
    "# Finding the median of Average_Land_Size\n",
    "median_land_size = last_df['Average_Land_Size'].median()\n",
    "\n",
    "# Creating a dummy variable for whether the land size is higher than the median\n",
    "last_df['Higher_Than_Median'] = last_df['Average_Land_Size'].apply(lambda val: 1 if (val>median_land_size) else 0)\n",
    "\n",
    "last_df.head()"
   ]
  },
  {
   "cell_type": "code",
   "execution_count": 313,
   "metadata": {},
   "outputs": [
    {
     "data": {
      "image/png": "[encoded data removed]",
      "text/plain": [
       "<Figure size 1000x600 with 1 Axes>"
      ]
     },
     "metadata": {},
     "output_type": "display_data"
    }
   ],
   "source": [
    "plt.figure(figsize=(10, 6))\n",
    "sns.scatterplot(data=last_df, \n",
    "                x='Average_Corn_Field_Expansion_Rate(%)', \n",
    "                y='Average_Deforestation_Rate(%)', \n",
    "                hue='Higher_Than_Median', \n",
    "                palette='coolwarm', \n",
    "                s=100)\n",
    "\n",
    "# Adding labels and title\n",
    "plt.title('Corn Field Expansion vs. Deforestation Rate')\n",
    "plt.xlabel('Average Corn Field Expansion Rate (%)')\n",
    "plt.ylabel('Average Deforestation Rate (%)')\n",
    "\n",
    "# Display the plot\n",
    "plt.show()"
   ]
  },
  {
   "cell_type": "code",
   "execution_count": 329,
   "metadata": {},
   "outputs": [
    {
     "name": "stderr",
     "output_type": "stream",
     "text": [
      "c:\\Users\\Mert\\anaconda3\\Lib\\site-packages\\pandas\\core\\arraylike.py:399: RuntimeWarning:\n",
      "\n",
      "invalid value encountered in log\n",
      "\n",
      "C:\\Users\\Mert\\AppData\\Local\\Temp\\ipykernel_25644\\3124195915.py:3: SettingWithCopyWarning:\n",
      "\n",
      "\n",
      "A value is trying to be set on a copy of a slice from a DataFrame.\n",
      "Try using .loc[row_indexer,col_indexer] = value instead\n",
      "\n",
      "See the caveats in the documentation: https://pandas.pydata.org/pandas-docs/stable/user_guide/indexing.html#returning-a-view-versus-a-copy\n",
      "\n",
      "c:\\Users\\Mert\\anaconda3\\Lib\\site-packages\\pandas\\core\\arraylike.py:399: RuntimeWarning:\n",
      "\n",
      "divide by zero encountered in log\n",
      "\n",
      "c:\\Users\\Mert\\anaconda3\\Lib\\site-packages\\pandas\\core\\arraylike.py:399: RuntimeWarning:\n",
      "\n",
      "invalid value encountered in log\n",
      "\n",
      "C:\\Users\\Mert\\AppData\\Local\\Temp\\ipykernel_25644\\3124195915.py:4: SettingWithCopyWarning:\n",
      "\n",
      "\n",
      "A value is trying to be set on a copy of a slice from a DataFrame.\n",
      "Try using .loc[row_indexer,col_indexer] = value instead\n",
      "\n",
      "See the caveats in the documentation: https://pandas.pydata.org/pandas-docs/stable/user_guide/indexing.html#returning-a-view-versus-a-copy\n",
      "\n"
     ]
    },
    {
     "data": {
      "text/html": [
       "<div>\n",
       "<style scoped>\n",
       "    .dataframe tbody tr th:only-of-type {\n",
       "        vertical-align: middle;\n",
       "    }\n",
       "\n",
       "    .dataframe tbody tr th {\n",
       "        vertical-align: top;\n",
       "    }\n",
       "\n",
       "    .dataframe thead th {\n",
       "        text-align: right;\n",
       "    }\n",
       "</style>\n",
       "<table border=\"1\" class=\"dataframe\">\n",
       "  <thead>\n",
       "    <tr style=\"text-align: right;\">\n",
       "      <th></th>\n",
       "      <th>Country</th>\n",
       "      <th>Average_Land_Size</th>\n",
       "      <th>Average_Corn_Field_Expansion_Rate(%)</th>\n",
       "      <th>Average_Deforestation_Rate(%)</th>\n",
       "      <th>iso3</th>\n",
       "      <th>Higher_Than_Median</th>\n",
       "      <th>log_corn</th>\n",
       "      <th>log_forest</th>\n",
       "    </tr>\n",
       "  </thead>\n",
       "  <tbody>\n",
       "    <tr>\n",
       "      <th>1</th>\n",
       "      <td>Albania</td>\n",
       "      <td>27400.000000</td>\n",
       "      <td>0.633505</td>\n",
       "      <td>0.029280</td>\n",
       "      <td>ALB</td>\n",
       "      <td>0</td>\n",
       "      <td>-0.456488</td>\n",
       "      <td>-3.530850</td>\n",
       "    </tr>\n",
       "    <tr>\n",
       "      <th>7</th>\n",
       "      <td>Austria</td>\n",
       "      <td>82520.000000</td>\n",
       "      <td>0.898878</td>\n",
       "      <td>0.039025</td>\n",
       "      <td>AUT</td>\n",
       "      <td>0</td>\n",
       "      <td>-0.106608</td>\n",
       "      <td>-3.243561</td>\n",
       "    </tr>\n",
       "    <tr>\n",
       "      <th>8</th>\n",
       "      <td>Azerbaijan</td>\n",
       "      <td>82646.318182</td>\n",
       "      <td>0.196554</td>\n",
       "      <td>0.088532</td>\n",
       "      <td>AZE</td>\n",
       "      <td>0</td>\n",
       "      <td>-1.626819</td>\n",
       "      <td>-2.424387</td>\n",
       "    </tr>\n",
       "    <tr>\n",
       "      <th>10</th>\n",
       "      <td>Belarus</td>\n",
       "      <td>202910.045455</td>\n",
       "      <td>28.166856</td>\n",
       "      <td>0.124020</td>\n",
       "      <td>BLR</td>\n",
       "      <td>0</td>\n",
       "      <td>3.338146</td>\n",
       "      <td>-2.087311</td>\n",
       "    </tr>\n",
       "    <tr>\n",
       "      <th>13</th>\n",
       "      <td>Bosnia and Herzegovina</td>\n",
       "      <td>51200.000000</td>\n",
       "      <td>0.111626</td>\n",
       "      <td>0.058971</td>\n",
       "      <td>BIH</td>\n",
       "      <td>0</td>\n",
       "      <td>-2.192598</td>\n",
       "      <td>-2.830708</td>\n",
       "    </tr>\n",
       "  </tbody>\n",
       "</table>\n",
       "</div>"
      ],
      "text/plain": [
       "                   Country  Average_Land_Size  \\\n",
       "1                  Albania       27400.000000   \n",
       "7                  Austria       82520.000000   \n",
       "8               Azerbaijan       82646.318182   \n",
       "10                 Belarus      202910.045455   \n",
       "13  Bosnia and Herzegovina       51200.000000   \n",
       "\n",
       "    Average_Corn_Field_Expansion_Rate(%)  Average_Deforestation_Rate(%) iso3  \\\n",
       "1                               0.633505                       0.029280  ALB   \n",
       "7                               0.898878                       0.039025  AUT   \n",
       "8                               0.196554                       0.088532  AZE   \n",
       "10                             28.166856                       0.124020  BLR   \n",
       "13                              0.111626                       0.058971  BIH   \n",
       "\n",
       "    Higher_Than_Median  log_corn  log_forest  \n",
       "1                    0 -0.456488   -3.530850  \n",
       "7                    0 -0.106608   -3.243561  \n",
       "8                    0 -1.626819   -2.424387  \n",
       "10                   0  3.338146   -2.087311  \n",
       "13                   0 -2.192598   -2.830708  "
      ]
     },
     "execution_count": 329,
     "metadata": {},
     "output_type": "execute_result"
    }
   ],
   "source": [
    "#Filtered data (only positive values)\n",
    "positive_df = last_df[(last_df[\"Average_Deforestation_Rate(%)\"]>0) &(last_df[\"Average_Corn_Field_Expansion_Rate(%)\"]>0) ]\n",
    "positive_df[\"log_corn\"] = np.log(last_df[\"Average_Corn_Field_Expansion_Rate(%)\"])\n",
    "positive_df[\"log_forest\"] = np.log(last_df[\"Average_Deforestation_Rate(%)\"])\n",
    "positive_df.head()\n"
   ]
  },
  {
   "cell_type": "code",
   "execution_count": 315,
   "metadata": {},
   "outputs": [
    {
     "data": {
      "image/png": "[encoded data removed]",
      "text/plain": [
       "<Figure size 1000x600 with 1 Axes>"
      ]
     },
     "metadata": {},
     "output_type": "display_data"
    }
   ],
   "source": [
    "\n",
    "plt.figure(figsize=(10, 6))\n",
    "sns.scatterplot(data=positive_df, \n",
    "                x='Average_Corn_Field_Expansion_Rate(%)', \n",
    "                y='Average_Deforestation_Rate(%)', \n",
    "                hue='Higher_Than_Median', \n",
    "                palette='coolwarm', \n",
    "                s=100)\n",
    "\n",
    "# Adding labels and title\n",
    "plt.title('Corn Field Expansion vs. Deforestation Rate')\n",
    "plt.xlabel('Average Corn Field Expansion Rate (%)')\n",
    "plt.ylabel('Average Deforestation Rate (%)')\n",
    "\n",
    "# Display the plot\n",
    "plt.show()"
   ]
  },
  {
   "cell_type": "code",
   "execution_count": 316,
   "metadata": {},
   "outputs": [
    {
     "data": {
      "application/vnd.plotly.v1+json": {
       "config": {
        "plotlyServerURL": "https://plot.ly"
       },
       "data": [
        {
         "hovertemplate": "<b>%{hovertext}</b><br><br>Corn Field Expansion Rate (%)=%{x}<br>Deforestation Rate (%)=%{y}<br>Higher_Than_Median=%{marker.color}<extra></extra>",
         "hovertext": [
          "Albania",
          "Austria",
          "Azerbaijan",
          "Belarus",
          "Bosnia and Herzegovina",
          "Bulgaria",
          "Burundi",
          "Canada",
          "Chile",
          "China",
          "Costa Rica",
          "Croatia",
          "Cuba",
          "Czechia",
          "Dominican Republic",
          "Germany",
          "India",
          "Iraq",
          "Jamaica",
          "Kazakhstan",
          "Kuwait",
          "Kyrgyzstan",
          "Lebanon",
          "Lithuania",
          "Moldova",
          "Nepal",
          "Netherlands",
          "New Caledonia",
          "New Zealand",
          "Poland",
          "Puerto Rico",
          "Russian Federation",
          "Slovakia",
          "Syrian Arab Republic",
          "Tajikistan",
          "Türkiye",
          "Ukraine",
          "United States",
          "Uruguay",
          "Uzbekistan"
         ],
         "legendgroup": "",
         "marker": {
          "color": [
           0,
           0,
           0,
           0,
           0,
           0,
           0,
           1,
           1,
           1,
           0,
           0,
           0,
           0,
           0,
           1,
           1,
           1,
           0,
           1,
           0,
           0,
           0,
           0,
           0,
           0,
           0,
           0,
           1,
           1,
           0,
           1,
           0,
           0,
           0,
           1,
           1,
           1,
           0,
           1
          ],
          "coloraxis": "coloraxis",
          "symbol": "circle"
         },
         "mode": "markers",
         "name": "",
         "orientation": "v",
         "showlegend": false,
         "type": "scatter",
         "x": [
          0.6335047395218,
          0.8988779841199973,
          0.19655386366369693,
          28.16685563466105,
          0.11162634168399854,
          3.3743069166554185,
          12.84488566037026,
          1.793323504077354,
          0.6749475825610534,
          3.1620835820430555,
          0.8490718909408675,
          0.09011661445485836,
          1.5583098257127228,
          4.609406442865313,
          3.3292660558485325,
          1.2134388527809676,
          2.0242027262304303,
          4.36173254532276,
          1.5492230891391205,
          4.822227022494077,
          21.19429416236779,
          3.1982061535828707,
          6.296601959982076,
          17.599509023791835,
          1.3219064041787707,
          0.9007943839741582,
          0.8817797805301006,
          11.545508549596983,
          0.6516214217617569,
          11.346650372091872,
          2.7777777777777763,
          9.181571884823212,
          1.9748475534442995,
          6.000010031620186,
          4.416624655661844,
          1.7639217209173619,
          8.846920472631526,
          0.9641705313262783,
          8.683996810682155,
          2.4308055691195696
         ],
         "xaxis": "x",
         "y": [
          0.029280026542800094,
          0.03902469924646371,
          0.08853236008645592,
          0.12402012675502921,
          0.05897105823863636,
          0.2507452415337458,
          0.13708227131124326,
          0.030540596318129977,
          0.15733632299496314,
          0.22680075637534405,
          0.16825303564434016,
          0.04745872464355181,
          0.4050868911284839,
          0.02663832610233124,
          0.23781157279155837,
          0.007424247161431519,
          0.07950903055151347,
          0.0015132778111599016,
          0.33469864853521386,
          0.0054965955813272216,
          0.003928170594837261,
          0.0372470613328278,
          0.02487336710210601,
          0.13969176222349652,
          0.05965654258105812,
          0.056449220374070824,
          0.01796622992416832,
          0.0018450368012730548,
          0.018281890340110477,
          0.06820536422729133,
          0.4025417648867476,
          0.018456527474981176,
          0.023799020155093456,
          0.023849282804460466,
          0.0060345374386908575,
          0.1337417743827319,
          0.016379113924751755,
          0.03354104679409273,
          0.19221179917100384,
          0.07123111768317104
         ],
         "yaxis": "y"
        }
       ],
       "layout": {
        "coloraxis": {
         "colorbar": {
          "title": {
           "text": "Higher_Than_Median"
          }
         },
         "colorscale": [
          [
           0,
           "#0d0887"
          ],
          [
           0.1111111111111111,
           "#46039f"
          ],
          [
           0.2222222222222222,
           "#7201a8"
          ],
          [
           0.3333333333333333,
           "#9c179e"
          ],
          [
           0.4444444444444444,
           "#bd3786"
          ],
          [
           0.5555555555555556,
           "#d8576b"
          ],
          [
           0.6666666666666666,
           "#ed7953"
          ],
          [
           0.7777777777777778,
           "#fb9f3a"
          ],
          [
           0.8888888888888888,
           "#fdca26"
          ],
          [
           1,
           "#f0f921"
          ]
         ]
        },
        "legend": {
         "tracegroupgap": 0
        },
        "template": {
         "data": {
          "bar": [
           {
            "error_x": {
             "color": "#2a3f5f"
            },
            "error_y": {
             "color": "#2a3f5f"
            },
            "marker": {
             "line": {
              "color": "white",
              "width": 0.5
             },
             "pattern": {
              "fillmode": "overlay",
              "size": 10,
              "solidity": 0.2
             }
            },
            "type": "bar"
           }
          ],
          "barpolar": [
           {
            "marker": {
             "line": {
              "color": "white",
              "width": 0.5
             },
             "pattern": {
              "fillmode": "overlay",
              "size": 10,
              "solidity": 0.2
             }
            },
            "type": "barpolar"
           }
          ],
          "carpet": [
           {
            "aaxis": {
             "endlinecolor": "#2a3f5f",
             "gridcolor": "#C8D4E3",
             "linecolor": "#C8D4E3",
             "minorgridcolor": "#C8D4E3",
             "startlinecolor": "#2a3f5f"
            },
            "baxis": {
             "endlinecolor": "#2a3f5f",
             "gridcolor": "#C8D4E3",
             "linecolor": "#C8D4E3",
             "minorgridcolor": "#C8D4E3",
             "startlinecolor": "#2a3f5f"
            },
            "type": "carpet"
           }
          ],
          "choropleth": [
           {
            "colorbar": {
             "outlinewidth": 0,
             "ticks": ""
            },
            "type": "choropleth"
           }
          ],
          "contour": [
           {
            "colorbar": {
             "outlinewidth": 0,
             "ticks": ""
            },
            "colorscale": [
             [
              0,
              "#0d0887"
             ],
             [
              0.1111111111111111,
              "#46039f"
             ],
             [
              0.2222222222222222,
              "#7201a8"
             ],
             [
              0.3333333333333333,
              "#9c179e"
             ],
             [
              0.4444444444444444,
              "#bd3786"
             ],
             [
              0.5555555555555556,
              "#d8576b"
             ],
             [
              0.6666666666666666,
              "#ed7953"
             ],
             [
              0.7777777777777778,
              "#fb9f3a"
             ],
             [
              0.8888888888888888,
              "#fdca26"
             ],
             [
              1,
              "#f0f921"
             ]
            ],
            "type": "contour"
           }
          ],
          "contourcarpet": [
           {
            "colorbar": {
             "outlinewidth": 0,
             "ticks": ""
            },
            "type": "contourcarpet"
           }
          ],
          "heatmap": [
           {
            "colorbar": {
             "outlinewidth": 0,
             "ticks": ""
            },
            "colorscale": [
             [
              0,
              "#0d0887"
             ],
             [
              0.1111111111111111,
              "#46039f"
             ],
             [
              0.2222222222222222,
              "#7201a8"
             ],
             [
              0.3333333333333333,
              "#9c179e"
             ],
             [
              0.4444444444444444,
              "#bd3786"
             ],
             [
              0.5555555555555556,
              "#d8576b"
             ],
             [
              0.6666666666666666,
              "#ed7953"
             ],
             [
              0.7777777777777778,
              "#fb9f3a"
             ],
             [
              0.8888888888888888,
              "#fdca26"
             ],
             [
              1,
              "#f0f921"
             ]
            ],
            "type": "heatmap"
           }
          ],
          "heatmapgl": [
           {
            "colorbar": {
             "outlinewidth": 0,
             "ticks": ""
            },
            "colorscale": [
             [
              0,
              "#0d0887"
             ],
             [
              0.1111111111111111,
              "#46039f"
             ],
             [
              0.2222222222222222,
              "#7201a8"
             ],
             [
              0.3333333333333333,
              "#9c179e"
             ],
             [
              0.4444444444444444,
              "#bd3786"
             ],
             [
              0.5555555555555556,
              "#d8576b"
             ],
             [
              0.6666666666666666,
              "#ed7953"
             ],
             [
              0.7777777777777778,
              "#fb9f3a"
             ],
             [
              0.8888888888888888,
              "#fdca26"
             ],
             [
              1,
              "#f0f921"
             ]
            ],
            "type": "heatmapgl"
           }
          ],
          "histogram": [
           {
            "marker": {
             "pattern": {
              "fillmode": "overlay",
              "size": 10,
              "solidity": 0.2
             }
            },
            "type": "histogram"
           }
          ],
          "histogram2d": [
           {
            "colorbar": {
             "outlinewidth": 0,
             "ticks": ""
            },
            "colorscale": [
             [
              0,
              "#0d0887"
             ],
             [
              0.1111111111111111,
              "#46039f"
             ],
             [
              0.2222222222222222,
              "#7201a8"
             ],
             [
              0.3333333333333333,
              "#9c179e"
             ],
             [
              0.4444444444444444,
              "#bd3786"
             ],
             [
              0.5555555555555556,
              "#d8576b"
             ],
             [
              0.6666666666666666,
              "#ed7953"
             ],
             [
              0.7777777777777778,
              "#fb9f3a"
             ],
             [
              0.8888888888888888,
              "#fdca26"
             ],
             [
              1,
              "#f0f921"
             ]
            ],
            "type": "histogram2d"
           }
          ],
          "histogram2dcontour": [
           {
            "colorbar": {
             "outlinewidth": 0,
             "ticks": ""
            },
            "colorscale": [
             [
              0,
              "#0d0887"
             ],
             [
              0.1111111111111111,
              "#46039f"
             ],
             [
              0.2222222222222222,
              "#7201a8"
             ],
             [
              0.3333333333333333,
              "#9c179e"
             ],
             [
              0.4444444444444444,
              "#bd3786"
             ],
             [
              0.5555555555555556,
              "#d8576b"
             ],
             [
              0.6666666666666666,
              "#ed7953"
             ],
             [
              0.7777777777777778,
              "#fb9f3a"
             ],
             [
              0.8888888888888888,
              "#fdca26"
             ],
             [
              1,
              "#f0f921"
             ]
            ],
            "type": "histogram2dcontour"
           }
          ],
          "mesh3d": [
           {
            "colorbar": {
             "outlinewidth": 0,
             "ticks": ""
            },
            "type": "mesh3d"
           }
          ],
          "parcoords": [
           {
            "line": {
             "colorbar": {
              "outlinewidth": 0,
              "ticks": ""
             }
            },
            "type": "parcoords"
           }
          ],
          "pie": [
           {
            "automargin": true,
            "type": "pie"
           }
          ],
          "scatter": [
           {
            "fillpattern": {
             "fillmode": "overlay",
             "size": 10,
             "solidity": 0.2
            },
            "type": "scatter"
           }
          ],
          "scatter3d": [
           {
            "line": {
             "colorbar": {
              "outlinewidth": 0,
              "ticks": ""
             }
            },
            "marker": {
             "colorbar": {
              "outlinewidth": 0,
              "ticks": ""
             }
            },
            "type": "scatter3d"
           }
          ],
          "scattercarpet": [
           {
            "marker": {
             "colorbar": {
              "outlinewidth": 0,
              "ticks": ""
             }
            },
            "type": "scattercarpet"
           }
          ],
          "scattergeo": [
           {
            "marker": {
             "colorbar": {
              "outlinewidth": 0,
              "ticks": ""
             }
            },
            "type": "scattergeo"
           }
          ],
          "scattergl": [
           {
            "marker": {
             "colorbar": {
              "outlinewidth": 0,
              "ticks": ""
             }
            },
            "type": "scattergl"
           }
          ],
          "scattermapbox": [
           {
            "marker": {
             "colorbar": {
              "outlinewidth": 0,
              "ticks": ""
             }
            },
            "type": "scattermapbox"
           }
          ],
          "scatterpolar": [
           {
            "marker": {
             "colorbar": {
              "outlinewidth": 0,
              "ticks": ""
             }
            },
            "type": "scatterpolar"
           }
          ],
          "scatterpolargl": [
           {
            "marker": {
             "colorbar": {
              "outlinewidth": 0,
              "ticks": ""
             }
            },
            "type": "scatterpolargl"
           }
          ],
          "scatterternary": [
           {
            "marker": {
             "colorbar": {
              "outlinewidth": 0,
              "ticks": ""
             }
            },
            "type": "scatterternary"
           }
          ],
          "surface": [
           {
            "colorbar": {
             "outlinewidth": 0,
             "ticks": ""
            },
            "colorscale": [
             [
              0,
              "#0d0887"
             ],
             [
              0.1111111111111111,
              "#46039f"
             ],
             [
              0.2222222222222222,
              "#7201a8"
             ],
             [
              0.3333333333333333,
              "#9c179e"
             ],
             [
              0.4444444444444444,
              "#bd3786"
             ],
             [
              0.5555555555555556,
              "#d8576b"
             ],
             [
              0.6666666666666666,
              "#ed7953"
             ],
             [
              0.7777777777777778,
              "#fb9f3a"
             ],
             [
              0.8888888888888888,
              "#fdca26"
             ],
             [
              1,
              "#f0f921"
             ]
            ],
            "type": "surface"
           }
          ],
          "table": [
           {
            "cells": {
             "fill": {
              "color": "#EBF0F8"
             },
             "line": {
              "color": "white"
             }
            },
            "header": {
             "fill": {
              "color": "#C8D4E3"
             },
             "line": {
              "color": "white"
             }
            },
            "type": "table"
           }
          ]
         },
         "layout": {
          "annotationdefaults": {
           "arrowcolor": "#2a3f5f",
           "arrowhead": 0,
           "arrowwidth": 1
          },
          "autotypenumbers": "strict",
          "coloraxis": {
           "colorbar": {
            "outlinewidth": 0,
            "ticks": ""
           }
          },
          "colorscale": {
           "diverging": [
            [
             0,
             "#8e0152"
            ],
            [
             0.1,
             "#c51b7d"
            ],
            [
             0.2,
             "#de77ae"
            ],
            [
             0.3,
             "#f1b6da"
            ],
            [
             0.4,
             "#fde0ef"
            ],
            [
             0.5,
             "#f7f7f7"
            ],
            [
             0.6,
             "#e6f5d0"
            ],
            [
             0.7,
             "#b8e186"
            ],
            [
             0.8,
             "#7fbc41"
            ],
            [
             0.9,
             "#4d9221"
            ],
            [
             1,
             "#276419"
            ]
           ],
           "sequential": [
            [
             0,
             "#0d0887"
            ],
            [
             0.1111111111111111,
             "#46039f"
            ],
            [
             0.2222222222222222,
             "#7201a8"
            ],
            [
             0.3333333333333333,
             "#9c179e"
            ],
            [
             0.4444444444444444,
             "#bd3786"
            ],
            [
             0.5555555555555556,
             "#d8576b"
            ],
            [
             0.6666666666666666,
             "#ed7953"
            ],
            [
             0.7777777777777778,
             "#fb9f3a"
            ],
            [
             0.8888888888888888,
             "#fdca26"
            ],
            [
             1,
             "#f0f921"
            ]
           ],
           "sequentialminus": [
            [
             0,
             "#0d0887"
            ],
            [
             0.1111111111111111,
             "#46039f"
            ],
            [
             0.2222222222222222,
             "#7201a8"
            ],
            [
             0.3333333333333333,
             "#9c179e"
            ],
            [
             0.4444444444444444,
             "#bd3786"
            ],
            [
             0.5555555555555556,
             "#d8576b"
            ],
            [
             0.6666666666666666,
             "#ed7953"
            ],
            [
             0.7777777777777778,
             "#fb9f3a"
            ],
            [
             0.8888888888888888,
             "#fdca26"
            ],
            [
             1,
             "#f0f921"
            ]
           ]
          },
          "colorway": [
           "#636efa",
           "#EF553B",
           "#00cc96",
           "#ab63fa",
           "#FFA15A",
           "#19d3f3",
           "#FF6692",
           "#B6E880",
           "#FF97FF",
           "#FECB52"
          ],
          "font": {
           "color": "#2a3f5f"
          },
          "geo": {
           "bgcolor": "white",
           "lakecolor": "white",
           "landcolor": "white",
           "showlakes": true,
           "showland": true,
           "subunitcolor": "#C8D4E3"
          },
          "hoverlabel": {
           "align": "left"
          },
          "hovermode": "closest",
          "mapbox": {
           "style": "light"
          },
          "paper_bgcolor": "white",
          "plot_bgcolor": "white",
          "polar": {
           "angularaxis": {
            "gridcolor": "#EBF0F8",
            "linecolor": "#EBF0F8",
            "ticks": ""
           },
           "bgcolor": "white",
           "radialaxis": {
            "gridcolor": "#EBF0F8",
            "linecolor": "#EBF0F8",
            "ticks": ""
           }
          },
          "scene": {
           "xaxis": {
            "backgroundcolor": "white",
            "gridcolor": "#DFE8F3",
            "gridwidth": 2,
            "linecolor": "#EBF0F8",
            "showbackground": true,
            "ticks": "",
            "zerolinecolor": "#EBF0F8"
           },
           "yaxis": {
            "backgroundcolor": "white",
            "gridcolor": "#DFE8F3",
            "gridwidth": 2,
            "linecolor": "#EBF0F8",
            "showbackground": true,
            "ticks": "",
            "zerolinecolor": "#EBF0F8"
           },
           "zaxis": {
            "backgroundcolor": "white",
            "gridcolor": "#DFE8F3",
            "gridwidth": 2,
            "linecolor": "#EBF0F8",
            "showbackground": true,
            "ticks": "",
            "zerolinecolor": "#EBF0F8"
           }
          },
          "shapedefaults": {
           "line": {
            "color": "#2a3f5f"
           }
          },
          "ternary": {
           "aaxis": {
            "gridcolor": "#DFE8F3",
            "linecolor": "#A2B1C6",
            "ticks": ""
           },
           "baxis": {
            "gridcolor": "#DFE8F3",
            "linecolor": "#A2B1C6",
            "ticks": ""
           },
           "bgcolor": "white",
           "caxis": {
            "gridcolor": "#DFE8F3",
            "linecolor": "#A2B1C6",
            "ticks": ""
           }
          },
          "title": {
           "x": 0.05
          },
          "xaxis": {
           "automargin": true,
           "gridcolor": "#EBF0F8",
           "linecolor": "#EBF0F8",
           "ticks": "",
           "title": {
            "standoff": 15
           },
           "zerolinecolor": "#EBF0F8",
           "zerolinewidth": 2
          },
          "yaxis": {
           "automargin": true,
           "gridcolor": "#EBF0F8",
           "linecolor": "#EBF0F8",
           "ticks": "",
           "title": {
            "standoff": 15
           },
           "zerolinecolor": "#EBF0F8",
           "zerolinewidth": 2
          }
         }
        },
        "title": {
         "text": "Corn Field Expansion vs. Deforestation Rate"
        },
        "xaxis": {
         "anchor": "y",
         "domain": [
          0,
          1
         ],
         "title": {
          "text": "Corn Field Expansion Rate (%)"
         }
        },
        "yaxis": {
         "anchor": "x",
         "domain": [
          0,
          1
         ],
         "title": {
          "text": "Deforestation Rate (%)"
         }
        }
       }
      }
     },
     "metadata": {},
     "output_type": "display_data"
    }
   ],
   "source": [
    "\n",
    "# Assuming you have your 'positive_df' DataFrame with 'Country', 'Average_Corn_Field_Expansion_Rate(%)',\n",
    "# 'Average_Deforestation_Rate(%)', and 'Higher_Than_Median'\n",
    "\n",
    "# Create an interactive scatter plot\n",
    "fig = px.scatter(\n",
    "    positive_df, \n",
    "    x='Average_Corn_Field_Expansion_Rate(%)', \n",
    "    y='Average_Deforestation_Rate(%)', \n",
    "    color='Higher_Than_Median', \n",
    "    hover_name='Country',  # Display country name on hover\n",
    "    title='Corn Field Expansion vs. Deforestation Rate',\n",
    "    labels={\n",
    "        'Average_Corn_Field_Expansion_Rate(%)': 'Corn Field Expansion Rate (%)',\n",
    "        'Average_Deforestation_Rate(%)': 'Deforestation Rate (%)'\n",
    "    },\n",
    "    size_max=100,\n",
    "    template=\"plotly_white\"\n",
    ")\n",
    "\n",
    "# Show the interactive plot\n",
    "fig.show()\n"
   ]
  },
  {
   "cell_type": "code",
   "execution_count": 330,
   "metadata": {},
   "outputs": [
    {
     "data": {
      "application/vnd.plotly.v1+json": {
       "config": {
        "plotlyServerURL": "https://plot.ly"
       },
       "data": [
        {
         "hovertemplate": "<b>%{hovertext}</b><br><br>log_corn=%{x}<br>log_forest=%{y}<br>Higher_Than_Median=%{marker.color}<extra></extra>",
         "hovertext": [
          "Albania",
          "Austria",
          "Azerbaijan",
          "Belarus",
          "Bosnia and Herzegovina",
          "Bulgaria",
          "Burundi",
          "Canada",
          "Chile",
          "China",
          "Costa Rica",
          "Croatia",
          "Cuba",
          "Czechia",
          "Dominican Republic",
          "Germany",
          "India",
          "Iraq",
          "Jamaica",
          "Kazakhstan",
          "Kuwait",
          "Kyrgyzstan",
          "Lebanon",
          "Lithuania",
          "Moldova",
          "Nepal",
          "Netherlands",
          "New Caledonia",
          "New Zealand",
          "Poland",
          "Puerto Rico",
          "Russian Federation",
          "Slovakia",
          "Syrian Arab Republic",
          "Tajikistan",
          "Türkiye",
          "Ukraine",
          "United States",
          "Uruguay",
          "Uzbekistan"
         ],
         "legendgroup": "",
         "marker": {
          "color": [
           0,
           0,
           0,
           0,
           0,
           0,
           0,
           1,
           1,
           1,
           0,
           0,
           0,
           0,
           0,
           1,
           1,
           1,
           0,
           1,
           0,
           0,
           0,
           0,
           0,
           0,
           0,
           0,
           1,
           1,
           0,
           1,
           0,
           0,
           0,
           1,
           1,
           1,
           0,
           1
          ],
          "coloraxis": "coloraxis",
          "symbol": "circle"
         },
         "mode": "markers",
         "name": "",
         "orientation": "v",
         "showlegend": false,
         "type": "scatter",
         "x": [
          -0.4564877977622681,
          -0.10660797772630533,
          -1.6268187698986858,
          3.338145954595391,
          -2.192598220292212,
          1.216189945207622,
          2.5529457290329534,
          0.5840706044928047,
          -0.3931202465900551,
          1.151231171721626,
          -0.16361141905797744,
          -2.406650731202556,
          0.4436017888546242,
          1.528099094459865,
          1.2027518760508094,
          0.19345835577688658,
          0.7051759075904656,
          1.4728693512097388,
          0.4377535724585266,
          1.5732358592177247,
          3.053732002167875,
          1.162590075618294,
          1.8400101164529739,
          2.867871005279531,
          0.2790749402686664,
          -0.10447825610309251,
          -0.12581293608973185,
          2.4462964911734293,
          -0.4282915271627221,
          2.428922578968924,
          1.0216512475319808,
          2.217198419257913,
          0.6804912072444597,
          1.791761141163355,
          1.4853757517932626,
          0.5675395807027732,
          2.180069429270332,
          -0.03648710030044488,
          2.1614818847522925,
          0.8882227123409316
         ],
         "xaxis": "x",
         "y": [
          -3.5308496833730403,
          -3.2435605192992885,
          -2.4243871431077597,
          -2.087311414007797,
          -2.830708493757901,
          -1.3833178292543706,
          -1.9871740128742807,
          -3.488698453575794,
          -1.8493695801585985,
          -1.4836833721458116,
          -1.7822862681574174,
          -3.0478949005742737,
          -0.9036536888910424,
          -3.625404269280662,
          -1.4362766298391378,
          -4.903003991833726,
          -2.531884671929979,
          -6.493477244930894,
          -1.0945247086122258,
          -5.203626363607381,
          -5.539581458975442,
          -3.290182227662464,
          -3.693957642228593,
          -1.9683169820778041,
          -2.8191514536187663,
          -2.8744137993928947,
          -4.0192613985186,
          -6.295256055199115,
          -4.001844308012101,
          -2.685232062866702,
          -0.9099564238128158,
          -3.992337178383568,
          -3.7381108691062703,
          -3.7360011331917353,
          -5.1102560738173795,
          -2.0118443950394114,
          -4.111748296968399,
          -3.394985312755301,
          -1.6491573942625801,
          -2.6418255099290886
         ],
         "yaxis": "y"
        }
       ],
       "layout": {
        "coloraxis": {
         "colorbar": {
          "title": {
           "text": "Higher_Than_Median"
          }
         },
         "colorscale": [
          [
           0,
           "#0d0887"
          ],
          [
           0.1111111111111111,
           "#46039f"
          ],
          [
           0.2222222222222222,
           "#7201a8"
          ],
          [
           0.3333333333333333,
           "#9c179e"
          ],
          [
           0.4444444444444444,
           "#bd3786"
          ],
          [
           0.5555555555555556,
           "#d8576b"
          ],
          [
           0.6666666666666666,
           "#ed7953"
          ],
          [
           0.7777777777777778,
           "#fb9f3a"
          ],
          [
           0.8888888888888888,
           "#fdca26"
          ],
          [
           1,
           "#f0f921"
          ]
         ]
        },
        "legend": {
         "tracegroupgap": 0
        },
        "template": {
         "data": {
          "bar": [
           {
            "error_x": {
             "color": "#2a3f5f"
            },
            "error_y": {
             "color": "#2a3f5f"
            },
            "marker": {
             "line": {
              "color": "white",
              "width": 0.5
             },
             "pattern": {
              "fillmode": "overlay",
              "size": 10,
              "solidity": 0.2
             }
            },
            "type": "bar"
           }
          ],
          "barpolar": [
           {
            "marker": {
             "line": {
              "color": "white",
              "width": 0.5
             },
             "pattern": {
              "fillmode": "overlay",
              "size": 10,
              "solidity": 0.2
             }
            },
            "type": "barpolar"
           }
          ],
          "carpet": [
           {
            "aaxis": {
             "endlinecolor": "#2a3f5f",
             "gridcolor": "#C8D4E3",
             "linecolor": "#C8D4E3",
             "minorgridcolor": "#C8D4E3",
             "startlinecolor": "#2a3f5f"
            },
            "baxis": {
             "endlinecolor": "#2a3f5f",
             "gridcolor": "#C8D4E3",
             "linecolor": "#C8D4E3",
             "minorgridcolor": "#C8D4E3",
             "startlinecolor": "#2a3f5f"
            },
            "type": "carpet"
           }
          ],
          "choropleth": [
           {
            "colorbar": {
             "outlinewidth": 0,
             "ticks": ""
            },
            "type": "choropleth"
           }
          ],
          "contour": [
           {
            "colorbar": {
             "outlinewidth": 0,
             "ticks": ""
            },
            "colorscale": [
             [
              0,
              "#0d0887"
             ],
             [
              0.1111111111111111,
              "#46039f"
             ],
             [
              0.2222222222222222,
              "#7201a8"
             ],
             [
              0.3333333333333333,
              "#9c179e"
             ],
             [
              0.4444444444444444,
              "#bd3786"
             ],
             [
              0.5555555555555556,
              "#d8576b"
             ],
             [
              0.6666666666666666,
              "#ed7953"
             ],
             [
              0.7777777777777778,
              "#fb9f3a"
             ],
             [
              0.8888888888888888,
              "#fdca26"
             ],
             [
              1,
              "#f0f921"
             ]
            ],
            "type": "contour"
           }
          ],
          "contourcarpet": [
           {
            "colorbar": {
             "outlinewidth": 0,
             "ticks": ""
            },
            "type": "contourcarpet"
           }
          ],
          "heatmap": [
           {
            "colorbar": {
             "outlinewidth": 0,
             "ticks": ""
            },
            "colorscale": [
             [
              0,
              "#0d0887"
             ],
             [
              0.1111111111111111,
              "#46039f"
             ],
             [
              0.2222222222222222,
              "#7201a8"
             ],
             [
              0.3333333333333333,
              "#9c179e"
             ],
             [
              0.4444444444444444,
              "#bd3786"
             ],
             [
              0.5555555555555556,
              "#d8576b"
             ],
             [
              0.6666666666666666,
              "#ed7953"
             ],
             [
              0.7777777777777778,
              "#fb9f3a"
             ],
             [
              0.8888888888888888,
              "#fdca26"
             ],
             [
              1,
              "#f0f921"
             ]
            ],
            "type": "heatmap"
           }
          ],
          "heatmapgl": [
           {
            "colorbar": {
             "outlinewidth": 0,
             "ticks": ""
            },
            "colorscale": [
             [
              0,
              "#0d0887"
             ],
             [
              0.1111111111111111,
              "#46039f"
             ],
             [
              0.2222222222222222,
              "#7201a8"
             ],
             [
              0.3333333333333333,
              "#9c179e"
             ],
             [
              0.4444444444444444,
              "#bd3786"
             ],
             [
              0.5555555555555556,
              "#d8576b"
             ],
             [
              0.6666666666666666,
              "#ed7953"
             ],
             [
              0.7777777777777778,
              "#fb9f3a"
             ],
             [
              0.8888888888888888,
              "#fdca26"
             ],
             [
              1,
              "#f0f921"
             ]
            ],
            "type": "heatmapgl"
           }
          ],
          "histogram": [
           {
            "marker": {
             "pattern": {
              "fillmode": "overlay",
              "size": 10,
              "solidity": 0.2
             }
            },
            "type": "histogram"
           }
          ],
          "histogram2d": [
           {
            "colorbar": {
             "outlinewidth": 0,
             "ticks": ""
            },
            "colorscale": [
             [
              0,
              "#0d0887"
             ],
             [
              0.1111111111111111,
              "#46039f"
             ],
             [
              0.2222222222222222,
              "#7201a8"
             ],
             [
              0.3333333333333333,
              "#9c179e"
             ],
             [
              0.4444444444444444,
              "#bd3786"
             ],
             [
              0.5555555555555556,
              "#d8576b"
             ],
             [
              0.6666666666666666,
              "#ed7953"
             ],
             [
              0.7777777777777778,
              "#fb9f3a"
             ],
             [
              0.8888888888888888,
              "#fdca26"
             ],
             [
              1,
              "#f0f921"
             ]
            ],
            "type": "histogram2d"
           }
          ],
          "histogram2dcontour": [
           {
            "colorbar": {
             "outlinewidth": 0,
             "ticks": ""
            },
            "colorscale": [
             [
              0,
              "#0d0887"
             ],
             [
              0.1111111111111111,
              "#46039f"
             ],
             [
              0.2222222222222222,
              "#7201a8"
             ],
             [
              0.3333333333333333,
              "#9c179e"
             ],
             [
              0.4444444444444444,
              "#bd3786"
             ],
             [
              0.5555555555555556,
              "#d8576b"
             ],
             [
              0.6666666666666666,
              "#ed7953"
             ],
             [
              0.7777777777777778,
              "#fb9f3a"
             ],
             [
              0.8888888888888888,
              "#fdca26"
             ],
             [
              1,
              "#f0f921"
             ]
            ],
            "type": "histogram2dcontour"
           }
          ],
          "mesh3d": [
           {
            "colorbar": {
             "outlinewidth": 0,
             "ticks": ""
            },
            "type": "mesh3d"
           }
          ],
          "parcoords": [
           {
            "line": {
             "colorbar": {
              "outlinewidth": 0,
              "ticks": ""
             }
            },
            "type": "parcoords"
           }
          ],
          "pie": [
           {
            "automargin": true,
            "type": "pie"
           }
          ],
          "scatter": [
           {
            "fillpattern": {
             "fillmode": "overlay",
             "size": 10,
             "solidity": 0.2
            },
            "type": "scatter"
           }
          ],
          "scatter3d": [
           {
            "line": {
             "colorbar": {
              "outlinewidth": 0,
              "ticks": ""
             }
            },
            "marker": {
             "colorbar": {
              "outlinewidth": 0,
              "ticks": ""
             }
            },
            "type": "scatter3d"
           }
          ],
          "scattercarpet": [
           {
            "marker": {
             "colorbar": {
              "outlinewidth": 0,
              "ticks": ""
             }
            },
            "type": "scattercarpet"
           }
          ],
          "scattergeo": [
           {
            "marker": {
             "colorbar": {
              "outlinewidth": 0,
              "ticks": ""
             }
            },
            "type": "scattergeo"
           }
          ],
          "scattergl": [
           {
            "marker": {
             "colorbar": {
              "outlinewidth": 0,
              "ticks": ""
             }
            },
            "type": "scattergl"
           }
          ],
          "scattermapbox": [
           {
            "marker": {
             "colorbar": {
              "outlinewidth": 0,
              "ticks": ""
             }
            },
            "type": "scattermapbox"
           }
          ],
          "scatterpolar": [
           {
            "marker": {
             "colorbar": {
              "outlinewidth": 0,
              "ticks": ""
             }
            },
            "type": "scatterpolar"
           }
          ],
          "scatterpolargl": [
           {
            "marker": {
             "colorbar": {
              "outlinewidth": 0,
              "ticks": ""
             }
            },
            "type": "scatterpolargl"
           }
          ],
          "scatterternary": [
           {
            "marker": {
             "colorbar": {
              "outlinewidth": 0,
              "ticks": ""
             }
            },
            "type": "scatterternary"
           }
          ],
          "surface": [
           {
            "colorbar": {
             "outlinewidth": 0,
             "ticks": ""
            },
            "colorscale": [
             [
              0,
              "#0d0887"
             ],
             [
              0.1111111111111111,
              "#46039f"
             ],
             [
              0.2222222222222222,
              "#7201a8"
             ],
             [
              0.3333333333333333,
              "#9c179e"
             ],
             [
              0.4444444444444444,
              "#bd3786"
             ],
             [
              0.5555555555555556,
              "#d8576b"
             ],
             [
              0.6666666666666666,
              "#ed7953"
             ],
             [
              0.7777777777777778,
              "#fb9f3a"
             ],
             [
              0.8888888888888888,
              "#fdca26"
             ],
             [
              1,
              "#f0f921"
             ]
            ],
            "type": "surface"
           }
          ],
          "table": [
           {
            "cells": {
             "fill": {
              "color": "#EBF0F8"
             },
             "line": {
              "color": "white"
             }
            },
            "header": {
             "fill": {
              "color": "#C8D4E3"
             },
             "line": {
              "color": "white"
             }
            },
            "type": "table"
           }
          ]
         },
         "layout": {
          "annotationdefaults": {
           "arrowcolor": "#2a3f5f",
           "arrowhead": 0,
           "arrowwidth": 1
          },
          "autotypenumbers": "strict",
          "coloraxis": {
           "colorbar": {
            "outlinewidth": 0,
            "ticks": ""
           }
          },
          "colorscale": {
           "diverging": [
            [
             0,
             "#8e0152"
            ],
            [
             0.1,
             "#c51b7d"
            ],
            [
             0.2,
             "#de77ae"
            ],
            [
             0.3,
             "#f1b6da"
            ],
            [
             0.4,
             "#fde0ef"
            ],
            [
             0.5,
             "#f7f7f7"
            ],
            [
             0.6,
             "#e6f5d0"
            ],
            [
             0.7,
             "#b8e186"
            ],
            [
             0.8,
             "#7fbc41"
            ],
            [
             0.9,
             "#4d9221"
            ],
            [
             1,
             "#276419"
            ]
           ],
           "sequential": [
            [
             0,
             "#0d0887"
            ],
            [
             0.1111111111111111,
             "#46039f"
            ],
            [
             0.2222222222222222,
             "#7201a8"
            ],
            [
             0.3333333333333333,
             "#9c179e"
            ],
            [
             0.4444444444444444,
             "#bd3786"
            ],
            [
             0.5555555555555556,
             "#d8576b"
            ],
            [
             0.6666666666666666,
             "#ed7953"
            ],
            [
             0.7777777777777778,
             "#fb9f3a"
            ],
            [
             0.8888888888888888,
             "#fdca26"
            ],
            [
             1,
             "#f0f921"
            ]
           ],
           "sequentialminus": [
            [
             0,
             "#0d0887"
            ],
            [
             0.1111111111111111,
             "#46039f"
            ],
            [
             0.2222222222222222,
             "#7201a8"
            ],
            [
             0.3333333333333333,
             "#9c179e"
            ],
            [
             0.4444444444444444,
             "#bd3786"
            ],
            [
             0.5555555555555556,
             "#d8576b"
            ],
            [
             0.6666666666666666,
             "#ed7953"
            ],
            [
             0.7777777777777778,
             "#fb9f3a"
            ],
            [
             0.8888888888888888,
             "#fdca26"
            ],
            [
             1,
             "#f0f921"
            ]
           ]
          },
          "colorway": [
           "#636efa",
           "#EF553B",
           "#00cc96",
           "#ab63fa",
           "#FFA15A",
           "#19d3f3",
           "#FF6692",
           "#B6E880",
           "#FF97FF",
           "#FECB52"
          ],
          "font": {
           "color": "#2a3f5f"
          },
          "geo": {
           "bgcolor": "white",
           "lakecolor": "white",
           "landcolor": "white",
           "showlakes": true,
           "showland": true,
           "subunitcolor": "#C8D4E3"
          },
          "hoverlabel": {
           "align": "left"
          },
          "hovermode": "closest",
          "mapbox": {
           "style": "light"
          },
          "paper_bgcolor": "white",
          "plot_bgcolor": "white",
          "polar": {
           "angularaxis": {
            "gridcolor": "#EBF0F8",
            "linecolor": "#EBF0F8",
            "ticks": ""
           },
           "bgcolor": "white",
           "radialaxis": {
            "gridcolor": "#EBF0F8",
            "linecolor": "#EBF0F8",
            "ticks": ""
           }
          },
          "scene": {
           "xaxis": {
            "backgroundcolor": "white",
            "gridcolor": "#DFE8F3",
            "gridwidth": 2,
            "linecolor": "#EBF0F8",
            "showbackground": true,
            "ticks": "",
            "zerolinecolor": "#EBF0F8"
           },
           "yaxis": {
            "backgroundcolor": "white",
            "gridcolor": "#DFE8F3",
            "gridwidth": 2,
            "linecolor": "#EBF0F8",
            "showbackground": true,
            "ticks": "",
            "zerolinecolor": "#EBF0F8"
           },
           "zaxis": {
            "backgroundcolor": "white",
            "gridcolor": "#DFE8F3",
            "gridwidth": 2,
            "linecolor": "#EBF0F8",
            "showbackground": true,
            "ticks": "",
            "zerolinecolor": "#EBF0F8"
           }
          },
          "shapedefaults": {
           "line": {
            "color": "#2a3f5f"
           }
          },
          "ternary": {
           "aaxis": {
            "gridcolor": "#DFE8F3",
            "linecolor": "#A2B1C6",
            "ticks": ""
           },
           "baxis": {
            "gridcolor": "#DFE8F3",
            "linecolor": "#A2B1C6",
            "ticks": ""
           },
           "bgcolor": "white",
           "caxis": {
            "gridcolor": "#DFE8F3",
            "linecolor": "#A2B1C6",
            "ticks": ""
           }
          },
          "title": {
           "x": 0.05
          },
          "xaxis": {
           "automargin": true,
           "gridcolor": "#EBF0F8",
           "linecolor": "#EBF0F8",
           "ticks": "",
           "title": {
            "standoff": 15
           },
           "zerolinecolor": "#EBF0F8",
           "zerolinewidth": 2
          },
          "yaxis": {
           "automargin": true,
           "gridcolor": "#EBF0F8",
           "linecolor": "#EBF0F8",
           "ticks": "",
           "title": {
            "standoff": 15
           },
           "zerolinecolor": "#EBF0F8",
           "zerolinewidth": 2
          }
         }
        },
        "title": {
         "text": "Corn Field Expansion vs. Deforestation Rate"
        },
        "xaxis": {
         "anchor": "y",
         "domain": [
          0,
          1
         ],
         "title": {
          "text": "log_corn"
         }
        },
        "yaxis": {
         "anchor": "x",
         "domain": [
          0,
          1
         ],
         "title": {
          "text": "log_forest"
         }
        }
       }
      }
     },
     "metadata": {},
     "output_type": "display_data"
    }
   ],
   "source": [
    "# Create an interactive scatter plot\n",
    "fig = px.scatter(\n",
    "    positive_df, \n",
    "    x='log_corn', \n",
    "    y='log_forest', \n",
    "    color='Higher_Than_Median', \n",
    "    hover_name='Country',  # Display country name on hover\n",
    "    title='Corn Field Expansion vs. Deforestation Rate',\n",
    "    labels={\n",
    "        'Average_Corn_Field_Expansion_Rate(%)': 'Corn Field Expansion Rate (%)',\n",
    "        'Average_Deforestation_Rate(%)': 'Deforestation Rate (%)'\n",
    "    },\n",
    "    size_max=100,\n",
    "    template=\"plotly_white\"\n",
    ")\n",
    "\n",
    "# Show the interactive plot\n",
    "fig.show()"
   ]
  },
  {
   "cell_type": "code",
   "execution_count": 317,
   "metadata": {},
   "outputs": [
    {
     "data": {
      "image/png": "[encoded data removed]",
      "text/plain": [
       "<Figure size 800x600 with 2 Axes>"
      ]
     },
     "metadata": {},
     "output_type": "display_data"
    }
   ],
   "source": [
    "df_features = positive_df[['Higher_Than_Median','Average_Corn_Field_Expansion_Rate(%)', 'Average_Deforestation_Rate(%)']]\n",
    "\n",
    "# Calculating the correlation matrix\n",
    "correlation_matrix = df_features.corr()\n",
    "\n",
    "# Plotting the heatmap\n",
    "plt.figure(figsize=(8, 6))\n",
    "sns.heatmap(correlation_matrix, annot=True, cmap=\"coolwarm\", linewidths=0.5)\n",
    "\n",
    "# Display the plot\n",
    "plt.title('Correlation Heatmap between Corn Field Expansion and Deforestation Rates')\n",
    "plt.show()"
   ]
  },
  {
   "cell_type": "code",
   "execution_count": 318,
   "metadata": {},
   "outputs": [
    {
     "data": {
      "text/plain": [
       "Index(['Country', 'Average_Land_Size', 'Average_Corn_Field_Expansion_Rate(%)',\n",
       "       'Average_Deforestation_Rate(%)', 'iso3', 'Higher_Than_Median'],\n",
       "      dtype='object')"
      ]
     },
     "execution_count": 318,
     "metadata": {},
     "output_type": "execute_result"
    }
   ],
   "source": [
    "last_df.columns"
   ]
  },
  {
   "cell_type": "code",
   "execution_count": 319,
   "metadata": {},
   "outputs": [
    {
     "data": {
      "text/html": [
       "<style>\n",
       "        .bk-notebook-logo {\n",
       "            display: block;\n",
       "            width: 20px;\n",
       "            height: 20px;\n",
       "            background-image: url(data:image/png;base64,iVBORw0KGgoAAAANSUhEUgAAABQAAAAUCAYAAACNiR0NAAAABHNCSVQICAgIfAhkiAAAAAlwSFlzAAALEgAACxIB0t1+/AAAABx0RVh0U29mdHdhcmUAQWRvYmUgRmlyZXdvcmtzIENTNui8sowAAAOkSURBVDiNjZRtaJVlGMd/1/08zzln5zjP1LWcU9N0NkN8m2CYjpgQYQXqSs0I84OLIC0hkEKoPtiH3gmKoiJDU7QpLgoLjLIQCpEsNJ1vqUOdO7ppbuec5+V+rj4ctwzd8IIbbi6u+8f1539dt3A78eXC7QizUF7gyV1fD1Yqg4JWz84yffhm0qkFqBogB9rM8tZdtwVsPUhWhGcFJngGeWrPzHm5oaMmkfEg1usvLFyc8jLRqDOMru7AyC8saQr7GG7f5fvDeH7Ej8CM66nIF+8yngt6HWaKh7k49Soy9nXurCi1o3qUbS3zWfrYeQDTB/Qj6kX6Ybhw4B+bOYoLKCC9H3Nu/leUTZ1JdRWkkn2ldcCamzrcf47KKXdAJllSlxAOkRgyHsGC/zRday5Qld9DyoM4/q/rUoy/CXh3jzOu3bHUVZeU+DEn8FInkPBFlu3+nW3Nw0mk6vCDiWg8CeJaxEwuHS3+z5RgY+YBR6V1Z1nxSOfoaPa4LASWxxdNp+VWTk7+4vzaou8v8PN+xo+KY2xsw6une2frhw05CTYOmQvsEhjhWjn0bmXPjpE1+kplmmkP3suftwTubK9Vq22qKmrBhpY4jvd5afdRA3wGjFAgcnTK2s4hY0/GPNIb0nErGMCRxWOOX64Z8RAC4oCXdklmEvcL8o0BfkNK4lUg9HTl+oPlQxdNo3Mg4Nv175e/1LDGzZen30MEjRUtmXSfiTVu1kK8W4txyV6BMKlbgk3lMwYCiusNy9fVfvvwMxv8Ynl6vxoByANLTWplvuj/nF9m2+PDtt1eiHPBr1oIfhCChQMBw6Aw0UulqTKZdfVvfG7VcfIqLG9bcldL/+pdWTLxLUy8Qq38heUIjh4XlzZxzQm19lLFlr8vdQ97rjZVOLf8nclzckbcD4wxXMidpX30sFd37Fv/GtwwhzhxGVAprjbg0gCAEeIgwCZyTV2Z1REEW8O4py0wsjeloKoMr6iCY6dP92H6Vw/oTyICIthibxjm/DfN9lVz8IqtqKYLUXfoKVMVQVVJOElGjrnnUt9T9wbgp8AyYKaGlqingHZU/uG2NTZSVqwHQTWkx9hxjkpWDaCg6Ckj5qebgBVbT3V3NNXMSiWSDdGV3hrtzla7J+duwPOToIg42ChPQOQjspnSlp1V+Gjdged7+8UN5CRAV7a5EdFNwCjEaBR27b3W890TE7g24NAP/mMDXRWrGoFPQI9ls/MWO2dWFAar/xcOIImbbpA3zgAAAABJRU5ErkJggg==);\n",
       "        }\n",
       "    </style>\n",
       "    <div>\n",
       "        <a href=\"https://bokeh.org\" target=\"_blank\" class=\"bk-notebook-logo\"></a>\n",
       "        <span id=\"e1149f9d-fdc3-4c20-b970-fb0f0d01e5b8\">Loading BokehJS ...</span>\n",
       "    </div>\n"
      ]
     },
     "metadata": {},
     "output_type": "display_data"
    },
    {
     "data": {
      "application/javascript": [
       "(function(root) {\n",
       "  function now() {\n",
       "    return new Date();\n",
       "  }\n",
       "\n",
       "  const force = true;\n",
       "\n",
       "  if (typeof root._bokeh_onload_callbacks === \"undefined\" || force === true) {\n",
       "    root._bokeh_onload_callbacks = [];\n",
       "    root._bokeh_is_loading = undefined;\n",
       "  }\n",
       "\n",
       "const JS_MIME_TYPE = 'application/javascript';\n",
       "  const HTML_MIME_TYPE = 'text/html';\n",
       "  const EXEC_MIME_TYPE = 'application/vnd.bokehjs_exec.v0+json';\n",
       "  const CLASS_NAME = 'output_bokeh rendered_html';\n",
       "\n",
       "  /**\n",
       "   * Render data to the DOM node\n",
       "   */\n",
       "  function render(props, node) {\n",
       "    const script = document.createElement(\"script\");\n",
       "    node.appendChild(script);\n",
       "  }\n",
       "\n",
       "  /**\n",
       "   * Handle when an output is cleared or removed\n",
       "   */\n",
       "  function handleClearOutput(event, handle) {\n",
       "    const cell = handle.cell;\n",
       "\n",
       "    const id = cell.output_area._bokeh_element_id;\n",
       "    const server_id = cell.output_area._bokeh_server_id;\n",
       "    // Clean up Bokeh references\n",
       "    if (id != null && id in Bokeh.index) {\n",
       "      Bokeh.index[id].model.document.clear();\n",
       "      delete Bokeh.index[id];\n",
       "    }\n",
       "\n",
       "    if (server_id !== undefined) {\n",
       "      // Clean up Bokeh references\n",
       "      const cmd_clean = \"from bokeh.io.state import curstate; print(curstate().uuid_to_server['\" + server_id + \"'].get_sessions()[0].document.roots[0]._id)\";\n",
       "      cell.notebook.kernel.execute(cmd_clean, {\n",
       "        iopub: {\n",
       "          output: function(msg) {\n",
       "            const id = msg.content.text.trim();\n",
       "            if (id in Bokeh.index) {\n",
       "              Bokeh.index[id].model.document.clear();\n",
       "              delete Bokeh.index[id];\n",
       "            }\n",
       "          }\n",
       "        }\n",
       "      });\n",
       "      // Destroy server and session\n",
       "      const cmd_destroy = \"import bokeh.io.notebook as ion; ion.destroy_server('\" + server_id + \"')\";\n",
       "      cell.notebook.kernel.execute(cmd_destroy);\n",
       "    }\n",
       "  }\n",
       "\n",
       "  /**\n",
       "   * Handle when a new output is added\n",
       "   */\n",
       "  function handleAddOutput(event, handle) {\n",
       "    const output_area = handle.output_area;\n",
       "    const output = handle.output;\n",
       "\n",
       "    // limit handleAddOutput to display_data with EXEC_MIME_TYPE content only\n",
       "    if ((output.output_type != \"display_data\") || (!Object.prototype.hasOwnProperty.call(output.data, EXEC_MIME_TYPE))) {\n",
       "      return\n",
       "    }\n",
       "\n",
       "    const toinsert = output_area.element.find(\".\" + CLASS_NAME.split(' ')[0]);\n",
       "\n",
       "    if (output.metadata[EXEC_MIME_TYPE][\"id\"] !== undefined) {\n",
       "      toinsert[toinsert.length - 1].firstChild.textContent = output.data[JS_MIME_TYPE];\n",
       "      // store reference to embed id on output_area\n",
       "      output_area._bokeh_element_id = output.metadata[EXEC_MIME_TYPE][\"id\"];\n",
       "    }\n",
       "    if (output.metadata[EXEC_MIME_TYPE][\"server_id\"] !== undefined) {\n",
       "      const bk_div = document.createElement(\"div\");\n",
       "      bk_div.innerHTML = output.data[HTML_MIME_TYPE];\n",
       "      const script_attrs = bk_div.children[0].attributes;\n",
       "      for (let i = 0; i < script_attrs.length; i++) {\n",
       "        toinsert[toinsert.length - 1].firstChild.setAttribute(script_attrs[i].name, script_attrs[i].value);\n",
       "        toinsert[toinsert.length - 1].firstChild.textContent = bk_div.children[0].textContent\n",
       "      }\n",
       "      // store reference to server id on output_area\n",
       "      output_area._bokeh_server_id = output.metadata[EXEC_MIME_TYPE][\"server_id\"];\n",
       "    }\n",
       "  }\n",
       "\n",
       "  function register_renderer(events, OutputArea) {\n",
       "\n",
       "    function append_mime(data, metadata, element) {\n",
       "      // create a DOM node to render to\n",
       "      const toinsert = this.create_output_subarea(\n",
       "        metadata,\n",
       "        CLASS_NAME,\n",
       "        EXEC_MIME_TYPE\n",
       "      );\n",
       "      this.keyboard_manager.register_events(toinsert);\n",
       "      // Render to node\n",
       "      const props = {data: data, metadata: metadata[EXEC_MIME_TYPE]};\n",
       "      render(props, toinsert[toinsert.length - 1]);\n",
       "      element.append(toinsert);\n",
       "      return toinsert\n",
       "    }\n",
       "\n",
       "    /* Handle when an output is cleared or removed */\n",
       "    events.on('clear_output.CodeCell', handleClearOutput);\n",
       "    events.on('delete.Cell', handleClearOutput);\n",
       "\n",
       "    /* Handle when a new output is added */\n",
       "    events.on('output_added.OutputArea', handleAddOutput);\n",
       "\n",
       "    /**\n",
       "     * Register the mime type and append_mime function with output_area\n",
       "     */\n",
       "    OutputArea.prototype.register_mime_type(EXEC_MIME_TYPE, append_mime, {\n",
       "      /* Is output safe? */\n",
       "      safe: true,\n",
       "      /* Index of renderer in `output_area.display_order` */\n",
       "      index: 0\n",
       "    });\n",
       "  }\n",
       "\n",
       "  // register the mime type if in Jupyter Notebook environment and previously unregistered\n",
       "  if (root.Jupyter !== undefined) {\n",
       "    const events = require('base/js/events');\n",
       "    const OutputArea = require('notebook/js/outputarea').OutputArea;\n",
       "\n",
       "    if (OutputArea.prototype.mime_types().indexOf(EXEC_MIME_TYPE) == -1) {\n",
       "      register_renderer(events, OutputArea);\n",
       "    }\n",
       "  }\n",
       "  if (typeof (root._bokeh_timeout) === \"undefined\" || force === true) {\n",
       "    root._bokeh_timeout = Date.now() + 5000;\n",
       "    root._bokeh_failed_load = false;\n",
       "  }\n",
       "\n",
       "  const NB_LOAD_WARNING = {'data': {'text/html':\n",
       "     \"<div style='background-color: #fdd'>\\n\"+\n",
       "     \"<p>\\n\"+\n",
       "     \"BokehJS does not appear to have successfully loaded. If loading BokehJS from CDN, this \\n\"+\n",
       "     \"may be due to a slow or bad network connection. Possible fixes:\\n\"+\n",
       "     \"</p>\\n\"+\n",
       "     \"<ul>\\n\"+\n",
       "     \"<li>re-rerun `output_notebook()` to attempt to load from CDN again, or</li>\\n\"+\n",
       "     \"<li>use INLINE resources instead, as so:</li>\\n\"+\n",
       "     \"</ul>\\n\"+\n",
       "     \"<code>\\n\"+\n",
       "     \"from bokeh.resources import INLINE\\n\"+\n",
       "     \"output_notebook(resources=INLINE)\\n\"+\n",
       "     \"</code>\\n\"+\n",
       "     \"</div>\"}};\n",
       "\n",
       "  function display_loaded() {\n",
       "    const el = document.getElementById(\"e1149f9d-fdc3-4c20-b970-fb0f0d01e5b8\");\n",
       "    if (el != null) {\n",
       "      el.textContent = \"BokehJS is loading...\";\n",
       "    }\n",
       "    if (root.Bokeh !== undefined) {\n",
       "      if (el != null) {\n",
       "        el.textContent = \"BokehJS \" + root.Bokeh.version + \" successfully loaded.\";\n",
       "      }\n",
       "    } else if (Date.now() < root._bokeh_timeout) {\n",
       "      setTimeout(display_loaded, 100)\n",
       "    }\n",
       "  }\n",
       "\n",
       "  function run_callbacks() {\n",
       "    try {\n",
       "      root._bokeh_onload_callbacks.forEach(function(callback) {\n",
       "        if (callback != null)\n",
       "          callback();\n",
       "      });\n",
       "    } finally {\n",
       "      delete root._bokeh_onload_callbacks\n",
       "    }\n",
       "    console.debug(\"Bokeh: all callbacks have finished\");\n",
       "  }\n",
       "\n",
       "  function load_libs(css_urls, js_urls, callback) {\n",
       "    if (css_urls == null) css_urls = [];\n",
       "    if (js_urls == null) js_urls = [];\n",
       "\n",
       "    root._bokeh_onload_callbacks.push(callback);\n",
       "    if (root._bokeh_is_loading > 0) {\n",
       "      console.debug(\"Bokeh: BokehJS is being loaded, scheduling callback at\", now());\n",
       "      return null;\n",
       "    }\n",
       "    if (js_urls == null || js_urls.length === 0) {\n",
       "      run_callbacks();\n",
       "      return null;\n",
       "    }\n",
       "    console.debug(\"Bokeh: BokehJS not loaded, scheduling load and callback at\", now());\n",
       "    root._bokeh_is_loading = css_urls.length + js_urls.length;\n",
       "\n",
       "    function on_load() {\n",
       "      root._bokeh_is_loading--;\n",
       "      if (root._bokeh_is_loading === 0) {\n",
       "        console.debug(\"Bokeh: all BokehJS libraries/stylesheets loaded\");\n",
       "        run_callbacks()\n",
       "      }\n",
       "    }\n",
       "\n",
       "    function on_error(url) {\n",
       "      console.error(\"failed to load \" + url);\n",
       "    }\n",
       "\n",
       "    for (let i = 0; i < css_urls.length; i++) {\n",
       "      const url = css_urls[i];\n",
       "      const element = document.createElement(\"link\");\n",
       "      element.onload = on_load;\n",
       "      element.onerror = on_error.bind(null, url);\n",
       "      element.rel = \"stylesheet\";\n",
       "      element.type = \"text/css\";\n",
       "      element.href = url;\n",
       "      console.debug(\"Bokeh: injecting link tag for BokehJS stylesheet: \", url);\n",
       "      document.body.appendChild(element);\n",
       "    }\n",
       "\n",
       "    for (let i = 0; i < js_urls.length; i++) {\n",
       "      const url = js_urls[i];\n",
       "      const element = document.createElement('script');\n",
       "      element.onload = on_load;\n",
       "      element.onerror = on_error.bind(null, url);\n",
       "      element.async = false;\n",
       "      element.src = url;\n",
       "      console.debug(\"Bokeh: injecting script tag for BokehJS library: \", url);\n",
       "      document.head.appendChild(element);\n",
       "    }\n",
       "  };\n",
       "\n",
       "  function inject_raw_css(css) {\n",
       "    const element = document.createElement(\"style\");\n",
       "    element.appendChild(document.createTextNode(css));\n",
       "    document.body.appendChild(element);\n",
       "  }\n",
       "\n",
       "  const js_urls = [\"https://cdn.bokeh.org/bokeh/release/bokeh-3.2.1.min.js\", \"https://cdn.bokeh.org/bokeh/release/bokeh-gl-3.2.1.min.js\", \"https://cdn.bokeh.org/bokeh/release/bokeh-widgets-3.2.1.min.js\", \"https://cdn.bokeh.org/bokeh/release/bokeh-tables-3.2.1.min.js\", \"https://cdn.bokeh.org/bokeh/release/bokeh-mathjax-3.2.1.min.js\"];\n",
       "  const css_urls = [];\n",
       "\n",
       "  const inline_js = [    function(Bokeh) {\n",
       "      Bokeh.set_log_level(\"info\");\n",
       "    },\n",
       "function(Bokeh) {\n",
       "    }\n",
       "  ];\n",
       "\n",
       "  function run_inline_js() {\n",
       "    if (root.Bokeh !== undefined || force === true) {\n",
       "          for (let i = 0; i < inline_js.length; i++) {\n",
       "      inline_js[i].call(root, root.Bokeh);\n",
       "    }\n",
       "if (force === true) {\n",
       "        display_loaded();\n",
       "      }} else if (Date.now() < root._bokeh_timeout) {\n",
       "      setTimeout(run_inline_js, 100);\n",
       "    } else if (!root._bokeh_failed_load) {\n",
       "      console.log(\"Bokeh: BokehJS failed to load within specified timeout.\");\n",
       "      root._bokeh_failed_load = true;\n",
       "    } else if (force !== true) {\n",
       "      const cell = $(document.getElementById(\"e1149f9d-fdc3-4c20-b970-fb0f0d01e5b8\")).parents('.cell').data().cell;\n",
       "      cell.output_area.append_execute_result(NB_LOAD_WARNING)\n",
       "    }\n",
       "  }\n",
       "\n",
       "  if (root._bokeh_is_loading === 0) {\n",
       "    console.debug(\"Bokeh: BokehJS loaded, going straight to plotting\");\n",
       "    run_inline_js();\n",
       "  } else {\n",
       "    load_libs(css_urls, js_urls, function() {\n",
       "      console.debug(\"Bokeh: BokehJS plotting callback run at\", now());\n",
       "      run_inline_js();\n",
       "    });\n",
       "  }\n",
       "}(window));"
      ],
      "application/vnd.bokehjs_load.v0+json": ""
     },
     "metadata": {},
     "output_type": "display_data"
    },
    {
     "data": {
      "text/html": [
       "\n",
       "  <div id=\"fc401188-6be6-4265-96b7-5c32bbffdc47\" data-root-id=\"p1095\" style=\"display: contents;\"></div>\n"
      ]
     },
     "metadata": {},
     "output_type": "display_data"
    },
    {
     "data": {
      "application/javascript": [
       "(function(root) {\n",
       "  function embed_document(root) {\n",
       "  const docs_json = {\"9c27ef43-7448-4c0c-a6c9-aeac524a8a21\":{\"version\":\"3.2.1\",\"title\":\"Bokeh Application\",\"roots\":[{\"type\":\"object\",\"name\":\"Figure\",\"id\":\"p1095\",\"attributes\":{\"x_range\":{\"type\":\"object\",\"name\":\"DataRange1d\",\"id\":\"p1097\",\"attributes\":{\"start\":0}},\"y_range\":{\"type\":\"object\",\"name\":\"FactorRange\",\"id\":\"p1104\",\"attributes\":{\"factors\":[\"Antigua and Barbuda\",\"Mauritius\",\"Cabo Verde\",\"Puerto Rico\",\"Lebanon\",\"Jamaica\",\"Timor-Leste\",\"Eswatini\",\"Kuwait\",\"New Caledonia\",\"Slovenia\",\"El Salvador\",\"Israel\",\"Belize\",\"Rwanda\",\"North Macedonia\",\"Burundi\",\"Albania\",\"Haiti\",\"Guinea-Bissau\",\"Armenia\",\"Lesotho\",\"Moldova\",\"Netherlands\",\"Switzerland\",\"Denmark\",\"Slovakia\",\"Dominican Republic\",\"Costa Rica\",\"Bosnia and Herzegovina\",\"Togo\",\"Croatia\",\"Sri Lanka\",\"Lithuania\",\"Georgia\",\"Sierra Leone\",\"Panama\",\"Czechia\",\"Austria\",\"Azerbaijan\",\"Hungary\",\"Portugal\",\"Malawi\",\"South Korea\",\"Cuba\",\"Guatemala\",\"Bulgaria\",\"Honduras\",\"Benin\",\"Eritrea\",\"Nicaragua\",\"Greece\",\"Bangladesh\",\"Tajikistan\",\"Nepal\",\"Suriname\",\"Uruguay\",\"Cambodia\",\"Syrian Arab Republic\",\"Kyrgyzstan\",\"Senegal\",\"Uganda\",\"Belarus\",\"Ghana\",\"Romania\",\"Guinea\",\"Ecuador\",\"New Zealand\",\"Burkina Faso\",\"Italy\",\"Philippines\",\"Poland\",\"Oman\",\"C\\u00f4te d'Ivoire\",\"Malaysia\",\"Germany\",\"Japan\",\"Zimbabwe\",\"Paraguay\",\"Sweden\",\"Iraq\",\"Uzbekistan\",\"Morocco\",\"Turkmenistan\",\"Spain\",\"Thailand\",\"Yemen\",\"France\",\"Botswana\",\"Kenya\",\"Ukraine\",\"Madagascar\",\"Central African Republic\",\"Afghanistan\",\"Myanmar\",\"Zambia\",\"Chile\",\"T\\u00fcrkiye\",\"Pakistan\",\"Mozambique\",\"Namibia\",\"Tanzania\",\"Nigeria\",\"Egypt\",\"Mauritania\",\"Colombia\",\"South Africa\",\"Mali\",\"Angola\",\"Chad\",\"Peru\",\"Iran\",\"Libya\",\"Mexico\",\"Sudan\",\"Saudi Arabia\",\"Congo\",\"Kazakhstan\",\"Argentina\",\"India\",\"Australia\",\"Brazil\",\"Canada\",\"United States\",\"China\",\"Russian Federation\"]}},\"x_scale\":{\"type\":\"object\",\"name\":\"LinearScale\",\"id\":\"p1105\"},\"y_scale\":{\"type\":\"object\",\"name\":\"CategoricalScale\",\"id\":\"p1106\"},\"title\":{\"type\":\"object\",\"name\":\"Title\",\"id\":\"p1102\"},\"renderers\":[{\"type\":\"object\",\"name\":\"GlyphRenderer\",\"id\":\"p1133\",\"attributes\":{\"data_source\":{\"type\":\"object\",\"name\":\"ColumnDataSource\",\"id\":\"p1124\",\"attributes\":{\"selected\":{\"type\":\"object\",\"name\":\"Selection\",\"id\":\"p1125\",\"attributes\":{\"indices\":[],\"line_indices\":[]}},\"selection_policy\":{\"type\":\"object\",\"name\":\"UnionRenderers\",\"id\":\"p1126\"},\"data\":{\"type\":\"map\",\"entries\":[[\"index\",{\"type\":\"ndarray\",\"array\":{\"type\":\"bytes\",\"data\":\"YAAAABkAAAB4AAAAFQAAAA8AAAAGAAAAMwAAAAQAAAA6AAAAGwAAAGIAAABqAAAASQAAAEEAAAA0AAAAWgAAABcAAAACAAAARgAAAGcAAAAaAAAARwAAACQAAABUAAAAcAAAAE4AAABMAAAAVwAAAHQAAAAYAAAAfAAAAE0AAAAAAAAAFgAAAEMAAAB3AAAAOwAAAA4AAAAoAAAAewAAAHEAAABoAAAAdQAAAEsAAAB6AAAANQAAAGwAAABZAAAAfQAAADkAAAAqAAAARQAAAB0AAABWAAAAXAAAAFsAAAA3AAAAEQAAAFIAAAAjAAAALgAAAF8AAAArAAAACgAAAHYAAABjAAAAPgAAAG4AAAAUAAAAeQAAAGsAAABPAAAAbwAAAAkAAAAsAAAAUwAAACYAAAAMAAAAMQAAABAAAAAtAAAAHwAAADwAAABEAAAAXQAAADIAAAAIAAAABwAAACAAAABYAAAAZAAAACkAAABCAAAAaQAAAB4AAABzAAAADQAAABwAAAAiAAAAZQAAACEAAABtAAAAUAAAAEoAAABAAAAABQAAAC8AAAAwAAAAAQAAABIAAABVAAAAYQAAAAsAAAA2AAAAJQAAAGYAAABRAAAAPQAAACcAAAByAAAAOAAAAD8AAABeAAAAEwAAAEgAAAADAAAA\"},\"shape\":[126],\"dtype\":\"int32\",\"order\":\"little\"}],[\"Country\",{\"type\":\"ndarray\",\"array\":[\"Russian Federation\",\"China\",\"United States\",\"Canada\",\"Brazil\",\"Australia\",\"India\",\"Argentina\",\"Kazakhstan\",\"Congo\",\"Saudi Arabia\",\"Sudan\",\"Mexico\",\"Libya\",\"Iran\",\"Peru\",\"Chad\",\"Angola\",\"Mali\",\"South Africa\",\"Colombia\",\"Mauritania\",\"Egypt\",\"Nigeria\",\"Tanzania\",\"Namibia\",\"Mozambique\",\"Pakistan\",\"T\\u00fcrkiye\",\"Chile\",\"Zambia\",\"Myanmar\",\"Afghanistan\",\"Central African Republic\",\"Madagascar\",\"Ukraine\",\"Kenya\",\"Botswana\",\"France\",\"Yemen\",\"Thailand\",\"Spain\",\"Turkmenistan\",\"Morocco\",\"Uzbekistan\",\"Iraq\",\"Sweden\",\"Paraguay\",\"Zimbabwe\",\"Japan\",\"Germany\",\"Malaysia\",\"C\\u00f4te d'Ivoire\",\"Oman\",\"Poland\",\"Philippines\",\"Italy\",\"Burkina Faso\",\"New Zealand\",\"Ecuador\",\"Guinea\",\"Romania\",\"Ghana\",\"Belarus\",\"Uganda\",\"Senegal\",\"Kyrgyzstan\",\"Syrian Arab Republic\",\"Cambodia\",\"Uruguay\",\"Suriname\",\"Nepal\",\"Tajikistan\",\"Bangladesh\",\"Greece\",\"Nicaragua\",\"Eritrea\",\"Benin\",\"Honduras\",\"Bulgaria\",\"Guatemala\",\"Cuba\",\"South Korea\",\"Malawi\",\"Portugal\",\"Hungary\",\"Azerbaijan\",\"Austria\",\"Czechia\",\"Panama\",\"Sierra Leone\",\"Georgia\",\"Lithuania\",\"Sri Lanka\",\"Croatia\",\"Togo\",\"Bosnia and Herzegovina\",\"Costa Rica\",\"Dominican Republic\",\"Slovakia\",\"Denmark\",\"Switzerland\",\"Netherlands\",\"Moldova\",\"Lesotho\",\"Armenia\",\"Guinea-Bissau\",\"Haiti\",\"Albania\",\"Burundi\",\"North Macedonia\",\"Rwanda\",\"Belize\",\"Israel\",\"El Salvador\",\"Slovenia\",\"New Caledonia\",\"Kuwait\",\"Eswatini\",\"Timor-Leste\",\"Jamaica\",\"Lebanon\",\"Puerto Rico\",\"Cabo Verde\",\"Mauritius\",\"Antigua and Barbuda\"],\"shape\":[126],\"dtype\":\"object\",\"order\":\"little\"}],[\"Average_Land_Size\",{\"type\":\"ndarray\",\"array\":{\"type\":\"bytes\",\"data\":\"AAAAQB09b0EhTwlyFuhhQXTRRZcWdWFBF110sc0VYUEAAAAAP+JfQaOLLrrVUF1BAAAAAAOvRkEAAAAAGeFEQQAAAADamERBAAAAANVLQUEAAAAAnWZAQUYXXXShXUBBAAAAAI6pPUEAAAAANNk6QV100UXJ1DhBAAAAAACIM0EAAAAAwDYzQQAAAADsBTNBAAAAAF6eMkEAAAAAooIyQQAAAAD87TBBAAAAAFh0L0EAAAAA9GAuQQAAAABkyytBAAAAAFAIK0EAAAAA9B8pQQAAAACY/ydBAAAAAICGJ0EAAAAAvHwnQQAAAADYsCZBAAAAALyvJkGMLrro5O4jQQAAAACM5yNBAAAAAAgDI0F00UUXS8AhQQAAAAAYriFBAAAAAGheIUEAAAAAlEshQRdddNHptSBBAAAAAMQcIEEAAAAAqC4fQUA1XjqDex5BAAAAAKiuHEEAAAAAcD0bQQAAAAAashpBo4suuoSUGkFzRVUKe9wYQQAAAADQPxhBAAAAAIicF0EAAAAAUD8WQUYXXXTlSxVBAAAAAJgNFEEAAAAAwGgTQQAAAADw4xJBRhdddPGwEkEAAAAA6DISQUYXXXSXDBJBAAAAAACzEEEAAAAAOBIQQQAAAABAUQ5BAAAAAMD+DUFGF110cRMMQYwuuuiaxgtB0UUXXfDECEHpoosuKnAIQQAAAACQgAdBAAAAAMBpB0HRRRdd5GoGQQAAAABAjAVBAAAAAGBdBUEAAAAAAAsDQQAAAACwfwFBjC666HIIAUEAAAAAoMf/QAAAAABAeP9AAAAAAEBh/UAgCZEr/Kn8QAAAAACAh/tAAAAAACBR+0BGF110UY/6QAAAAACAKfpAL7roojvD+UAAAAAA0Lj3QAAAAACABPdARhdddCFa9kAXXXTRVRP2QHTRRRdlLfRAAAAAAIAl9EDrbKnOGtvyQLrooovuIfJAAAAAAECf8UAAAAAAIPfwQHTRRRetmO5AZJxIxo197kBGF110kVLrQAAAAADAjupAAAAAAAAA6UAAAAAAgO7oQKOLLrp4iedAo4suulh750AAAAAAAIjjQC8bUhlES+NA0UUXXdR24EAT5ClBbg7gQAAAAAAApt1AAAAAAIDN20AAAAAAAHbbQAAAAAAA6tpAAAAAAADC2kAAAAAAABTZQLrooovusdhAAAAAAIAX2EAAAAAAgEbWQAAAAAAAItVAAAAAAAA81EAhTwnyNKvTQAAAAAAA2tFAAAAAAABn0UAAAAAAAMzQQAAAAAAAC81AAAAAAAAnxUAAAAAAAPvDQAAAAAAAU8FAAAAAAAB8r0AAAAAAAHafQAAAAAAAgHtA\"},\"shape\":[126],\"dtype\":\"float64\",\"order\":\"little\"}],[\"Average_Corn_Field_Expansion_Rate(%)\",{\"type\":\"ndarray\",\"array\":{\"type\":\"bytes\",\"data\":\"p2B2/fZcIkBmvyB68ksJQKAGeih82u4/1JCS/HOx/D/RLMX4a78DQHoOGXG6r5u/5hHtMpExAEC0ilTet6oXQIH/beH1SRNAEMyebEgylj+9yT5RFF81QIEBdNumegjALibFiL6D2D8WNJmRLG3kP17wWE5gLBPAG8wpWGDU4r+dZJII9sQlQG4UJso0jytAiJ++ExyWLUD/NiaKumnVP2stvxV0Gfa/VMtnE0o0O0BSZ3zCiNIQQHYtvVzONg9AxHwcDF8EJ0CND6N1uFoGQC093uN5uAZASYvacouXBkCrtID7BTn8P8KlM6wrmeU/ySpTAkFJIUBINAeJMPoUQLK3193bfB1AWxA0+7bTHkCX9+DeGoL4v9GHaI+fsSFAaokbAKs+AkBlDk3Mz7ZLQONWcIX3CdK/ep0fgkhe/j9UCi5bGSniv7Fe7brP8Ny/Rmk9HUeOIEBP5eGCNk/7v/5ssjBKcgNAiT0wBGpyEUBHj6gg2xAyQHtVD2374xlAzcekqyCb8L9htmzZsmUbwIA9xts+avM/Qdgc6Fg5DkDjdF/P1RPoP8NSZah5GzlAyI9WKHyxJkA1QJp7zUPCPxL+8DTd3gTAixQxHqfbIUBi3/oqFdrkPxiTznHj49w/Hyr8ovIcFEB75e3ZiN/Cv2hQXcw2JAxAxQUGDbcqPEBh5e9x3K0QQL7zfhccOCJA+gicG+2VCUAp7DWhAgAYQOBDOUGCVR9AdeV41DReIUBGJQSWJ5INQP3ccr5O0+w/ehlbp5+qEUAbUYlqqvNAQJgetpFPagPANG9EJtF6wT+g4BHlQWsoQDVEvmKIyg9ArR0PhIoG4L/rnO2flP4KQKe/uKu+MgZAsYunSNbu+D+XhlSsz/viP92XHbIUQP0/yQgdrHWfCMBxwIavOIHWv0ZEK1CtKMk/NXkcw5vD7D8XUBg+CHASQIZjocTeRt4/EA73K0wBIUCBKzfUSgAHwMPXYmx5mTFAE79TADm/IEBs7Ojn4RG3P71dXpOnGgxAOKfnPouTvD+rZ3HQmCvrPzpr7D1WogpA4w+Kv/mY/z/aUegq4/z9vwmXpyOIiPq/rtP0Ooo37D/oIWVUhyb1P6/E6UMgqyhA7Aoszqke+r8yxWIh31Hiv7PL3k8lhhRAm21Du6tF5D+cTHDalLApQDiurCX3aOa/azD3KOO5HEBrZn3Z+18MQPZlCWO6+tC/D5UweEJc0z/PVxEmozXhvzVqiOVMFydAYiwhQ70xNUBI4KlxU+LXv68jXLadNydASPhgJp7J+D/HNZhsuC8ZQIvjOI7jOAZA2HXvsdWhub9EC/k1C9kxQKuqqqqqqlBA\"},\"shape\":[126],\"dtype\":\"float64\",\"order\":\"little\"}],[\"Average_Deforestation_Rate(%)\",{\"type\":\"ndarray\",\"array\":{\"type\":\"bytes\",\"data\":\"o2+cl0Tmkj+RiqujzgfNP4zEG8ZKLKE/uvyLuQhGnz+Mlh9PoLPUv3TtOA3d/YU/F5b0LbRatD/65RqMDay1v5efLSSZg3Y/ERjBMbgL2b8AAAAAAAAAAEC3f3fGgL2/o/SIQ4cvsr8AAAAAAAAAAPpHY3N7hqU/AK4c4yCYvb89D5BBazu0v13spOfUj9u/AAAAAAAAAAB0N6fC5bmev7p0es0kDsW/sdhzieOfdb9GG5l+0fxCv6/bHmpr88a/HdMp3u7J3L+DFhL7gxS2v0we6yJbKdK/QNMp/75kqr+jmopRcx7BP8A93ryYI8Q/L0Tel9ZIw79M7LNUlDXfvwAAAAAAAAAA6ap2HdunqL+jEkcq+nKrv7q6k7qvxZA/DAcQptvKm79GHYuTCbjKvxEoU551rMY/AAAAAAAAAAAAYFbJZkiyPwDqR5ni28Q/AAAAAAAAAAB0D45yvuuZP5Eg6NgzPLI/Fz9brSXLWD8A8PM/y1OTv2aJoMsrLuu/jBw2G7B8vr8XfbFWSlt6P3ShFyzjaH4/RhqQebWBub8jV+raTzXYv8AN/YhX0RW/o5rEIOh1sT+MomAqbriUv5fSnuvaP8k/UZYGJudkx790tXrkfLiSP1de3OxcP9C/NJXlKGFKw79G4IAkKse7P5dE9hetn8i/dGh1dMi/vz/6jwvt4anKv9HLWAuDSsq/KdyX/AsSoz9vfbZG8muYP51bZbrX0ee/zCGsb2WayD9dIE4MyPGnv4xcyIbp5qw/dHEhz6u3eD/Rd/wRw2iKv4xDp6+M8r0/I3wmpvl96r966vsvOhS8vzFtWAkU5dy/L2yTL4v3x7+69gDFNQzQP4yXIpqlXdS/g9lbkfHs2T8v8QLNtODAvxdE+QXFgty/dEGCmohMfz/RxQIUtBCsP5eCNYcOqrY/dOX/nQv7oz8vArjNE0ebP3QxURRlWMO/Bms7l+190b8vPNC5qvmkP5egIm9r4cE/6RbgKnkOob9dAoKMgkyoPxfizNgila6/0UUXXXQxrj/px8XCUInFPy8C4A+ccM4/dM34NMVemD+vgRLdHfqxPxeiOqpb4rc/Rq7TR71lkj8vk8FmTYuuPwAAAAAAAAAARvcey5cCfr9GufdRhDfTv4xVOOvb+q6/L5i1UZX7nT8DVBJw6YvBP0Yr5xijAbo/0f50jgOHmL+jx2MiJXbav9H+JFzecZe/17xrMZrMy7/psj+huV2RP7ooKy6lOl4/1JTOQ/wWcD+6OGL37RCyPwBJKAorGri/V1he4bNr1T+M0/poZ3iZP+mc3Yg+w9k/Yw9ZHQc4uT+6DDLYOG6rvxEwSLtrV8O/\"},\"shape\":[126],\"dtype\":\"float64\",\"order\":\"little\"}],[\"iso3\",{\"type\":\"ndarray\",\"array\":[\"RUS\",\"CHN\",\"USA\",\"CAN\",\"BRA\",\"AUS\",\"IND\",\"ARG\",\"KAZ\",\"COG\",\"SAU\",\"SDN\",\"MEX\",\"LBY\",\"IRN\",\"PER\",\"TCD\",\"AGO\",\"MLI\",\"ZAF\",\"COL\",\"MRT\",\"EGY\",\"NGA\",\"TZA\",\"NAM\",\"MOZ\",\"PAK\",\"TUR\",\"CHL\",\"ZMB\",\"MMR\",\"AFG\",\"CAF\",\"MDG\",\"UKR\",\"KEN\",\"BWA\",\"FRA\",\"YEM\",\"THA\",\"ESP\",\"TKM\",\"MAR\",\"UZB\",\"IRQ\",\"SWE\",\"PRY\",\"ZWE\",\"JPN\",\"DEU\",\"MYS\",\"CIV\",\"OMN\",\"POL\",\"PHL\",\"ITA\",\"BFA\",\"NZL\",\"ECU\",\"GIN\",\"ROU\",\"GHA\",\"BLR\",\"UGA\",\"SEN\",\"KGZ\",\"SYR\",\"KHM\",\"URY\",\"SUR\",\"NPL\",\"TJK\",\"BGD\",\"GRC\",\"NIC\",\"ERI\",\"BEN\",\"HND\",\"BGR\",\"GTM\",\"CUB\",\"KOR\",\"MWI\",\"PRT\",\"HUN\",\"AZE\",\"AUT\",\"CZE\",\"PAN\",\"SLE\",\"GEO\",\"LTU\",\"LKA\",\"HRV\",\"TGO\",\"BIH\",\"CRI\",\"DOM\",\"SVK\",\"DNK\",\"CHE\",\"NLD\",\"MDA\",\"LSO\",\"ARM\",\"GNB\",\"HTI\",\"ALB\",\"BDI\",\"MKD\",\"RWA\",\"BLZ\",\"ISR\",\"SLV\",\"SVN\",\"NCL\",\"KWT\",\"SWZ\",\"TLS\",\"JAM\",\"LBN\",\"PRI\",\"CPV\",\"MUS\",\"ATG\"],\"shape\":[126],\"dtype\":\"object\",\"order\":\"little\"}],[\"Higher_Than_Median\",{\"type\":\"ndarray\",\"array\":{\"type\":\"bytes\",\"data\":\"AQAAAAEAAAABAAAAAQAAAAEAAAABAAAAAQAAAAEAAAABAAAAAQAAAAEAAAABAAAAAQAAAAEAAAABAAAAAQAAAAEAAAABAAAAAQAAAAEAAAABAAAAAQAAAAEAAAABAAAAAQAAAAEAAAABAAAAAQAAAAEAAAABAAAAAQAAAAEAAAABAAAAAQAAAAEAAAABAAAAAQAAAAEAAAABAAAAAQAAAAEAAAABAAAAAQAAAAEAAAABAAAAAQAAAAEAAAABAAAAAQAAAAEAAAABAAAAAQAAAAEAAAABAAAAAQAAAAEAAAABAAAAAQAAAAEAAAABAAAAAQAAAAEAAAABAAAAAAAAAAAAAAAAAAAAAAAAAAAAAAAAAAAAAAAAAAAAAAAAAAAAAAAAAAAAAAAAAAAAAAAAAAAAAAAAAAAAAAAAAAAAAAAAAAAAAAAAAAAAAAAAAAAAAAAAAAAAAAAAAAAAAAAAAAAAAAAAAAAAAAAAAAAAAAAAAAAAAAAAAAAAAAAAAAAAAAAAAAAAAAAAAAAAAAAAAAAAAAAAAAAAAAAAAAAAAAAAAAAAAAAAAAAAAAAAAAAAAAAAAAAAAAAAAAAAAAAAAAAAAAAAAAAAAAAAAAAAAAAAAAAAAAAAAAAAAAAAAAAAAAAAAAAAAAAAAAAAAAAAAAAAAAAAAAAA\"},\"shape\":[126],\"dtype\":\"int32\",\"order\":\"little\"}]]}}},\"view\":{\"type\":\"object\",\"name\":\"CDSView\",\"id\":\"p1134\",\"attributes\":{\"filter\":{\"type\":\"object\",\"name\":\"AllIndices\",\"id\":\"p1135\"}}},\"glyph\":{\"type\":\"object\",\"name\":\"HBar\",\"id\":\"p1130\",\"attributes\":{\"y\":{\"type\":\"field\",\"field\":\"Country\"},\"height\":{\"type\":\"value\",\"value\":0.6},\"right\":{\"type\":\"field\",\"field\":\"Average_Land_Size\"},\"line_color\":{\"type\":\"value\",\"value\":\"#1f77b4\"},\"fill_color\":{\"type\":\"value\",\"value\":\"#1f77b4\"}}},\"nonselection_glyph\":{\"type\":\"object\",\"name\":\"HBar\",\"id\":\"p1131\",\"attributes\":{\"y\":{\"type\":\"field\",\"field\":\"Country\"},\"height\":{\"type\":\"value\",\"value\":0.6},\"right\":{\"type\":\"field\",\"field\":\"Average_Land_Size\"},\"line_color\":{\"type\":\"value\",\"value\":\"#1f77b4\"},\"line_alpha\":{\"type\":\"value\",\"value\":0.1},\"fill_color\":{\"type\":\"value\",\"value\":\"#1f77b4\"},\"fill_alpha\":{\"type\":\"value\",\"value\":0.1},\"hatch_alpha\":{\"type\":\"value\",\"value\":0.1}}},\"muted_glyph\":{\"type\":\"object\",\"name\":\"HBar\",\"id\":\"p1132\",\"attributes\":{\"y\":{\"type\":\"field\",\"field\":\"Country\"},\"height\":{\"type\":\"value\",\"value\":0.6},\"right\":{\"type\":\"field\",\"field\":\"Average_Land_Size\"},\"line_color\":{\"type\":\"value\",\"value\":\"#1f77b4\"},\"line_alpha\":{\"type\":\"value\",\"value\":0.2},\"fill_color\":{\"type\":\"value\",\"value\":\"#1f77b4\"},\"fill_alpha\":{\"type\":\"value\",\"value\":0.2},\"hatch_alpha\":{\"type\":\"value\",\"value\":0.2}}}}}],\"toolbar\":{\"type\":\"object\",\"name\":\"Toolbar\",\"id\":\"p1103\",\"attributes\":{\"tools\":[{\"type\":\"object\",\"name\":\"PanTool\",\"id\":\"p1117\"},{\"type\":\"object\",\"name\":\"WheelZoomTool\",\"id\":\"p1118\"},{\"type\":\"object\",\"name\":\"BoxZoomTool\",\"id\":\"p1119\",\"attributes\":{\"overlay\":{\"type\":\"object\",\"name\":\"BoxAnnotation\",\"id\":\"p1120\",\"attributes\":{\"syncable\":false,\"level\":\"overlay\",\"visible\":false,\"left_units\":\"canvas\",\"right_units\":\"canvas\",\"bottom_units\":\"canvas\",\"top_units\":\"canvas\",\"line_color\":\"black\",\"line_alpha\":1.0,\"line_width\":2,\"line_dash\":[4,4],\"fill_color\":\"lightgrey\",\"fill_alpha\":0.5}}}},{\"type\":\"object\",\"name\":\"SaveTool\",\"id\":\"p1121\"},{\"type\":\"object\",\"name\":\"ResetTool\",\"id\":\"p1122\"},{\"type\":\"object\",\"name\":\"HelpTool\",\"id\":\"p1123\"}]}},\"left\":[{\"type\":\"object\",\"name\":\"CategoricalAxis\",\"id\":\"p1112\",\"attributes\":{\"ticker\":{\"type\":\"object\",\"name\":\"CategoricalTicker\",\"id\":\"p1113\"},\"formatter\":{\"type\":\"object\",\"name\":\"CategoricalTickFormatter\",\"id\":\"p1114\"},\"major_label_policy\":{\"type\":\"object\",\"name\":\"AllLabels\",\"id\":\"p1115\"}}}],\"below\":[{\"type\":\"object\",\"name\":\"LinearAxis\",\"id\":\"p1107\",\"attributes\":{\"ticker\":{\"type\":\"object\",\"name\":\"BasicTicker\",\"id\":\"p1108\",\"attributes\":{\"mantissas\":[1,2,5]}},\"formatter\":{\"type\":\"object\",\"name\":\"BasicTickFormatter\",\"id\":\"p1109\"},\"axis_label\":\"Average_Land_Size\",\"major_label_policy\":{\"type\":\"object\",\"name\":\"AllLabels\",\"id\":\"p1110\"}}}],\"center\":[{\"type\":\"object\",\"name\":\"Grid\",\"id\":\"p1111\",\"attributes\":{\"axis\":{\"id\":\"p1107\"}}},{\"type\":\"object\",\"name\":\"Grid\",\"id\":\"p1116\",\"attributes\":{\"dimension\":1,\"axis\":{\"id\":\"p1112\"},\"grid_line_color\":null}}],\"frame_width\":800,\"frame_height\":1200}}]}};\n",
       "  const render_items = [{\"docid\":\"9c27ef43-7448-4c0c-a6c9-aeac524a8a21\",\"roots\":{\"p1095\":\"fc401188-6be6-4265-96b7-5c32bbffdc47\"},\"root_ids\":[\"p1095\"]}];\n",
       "  root.Bokeh.embed.embed_items_notebook(docs_json, render_items);\n",
       "  }\n",
       "  if (root.Bokeh !== undefined) {\n",
       "    embed_document(root);\n",
       "  } else {\n",
       "    let attempts = 0;\n",
       "    const timer = setInterval(function(root) {\n",
       "      if (root.Bokeh !== undefined) {\n",
       "        clearInterval(timer);\n",
       "        embed_document(root);\n",
       "      } else {\n",
       "        attempts++;\n",
       "        if (attempts > 100) {\n",
       "          clearInterval(timer);\n",
       "          console.log(\"Bokeh: ERROR: Unable to run BokehJS code because BokehJS library is missing\");\n",
       "        }\n",
       "      }\n",
       "    }, 10, root)\n",
       "  }\n",
       "})(window);"
      ],
      "application/vnd.bokehjs_exec.v0+json": ""
     },
     "metadata": {
      "application/vnd.bokehjs_exec.v0+json": {
       "id": "p1095"
      }
     },
     "output_type": "display_data"
    }
   ],
   "source": [
    "# Enable viewing Bokeh plots in the notebook\n",
    "bokeh.io.output_notebook()\n",
    "\n",
    "# Sorting the data by 'Average_Land_Size' before plotting\n",
    "last_df_sorted = last_df.sort_values(by='Average_Land_Size', ascending=False)\n",
    "\n",
    "# Updating the bar plot with the sorted data\n",
    "bar_grdp_sorted = bokeh.plotting.figure(\n",
    "    frame_height=1200,\n",
    "    frame_width=800,\n",
    "    x_axis_label='Average_Land_Size',\n",
    "    y_range = last_df_sorted[\"Country\"][::-1],  # Sorting the y-axis based on the sorted data\n",
    ")\n",
    "\n",
    "bar_grdp_sorted.hbar(\n",
    "    source=last_df_sorted,        # our sorted data\n",
    "    y=\"Country\",                  # Country on the y-axis\n",
    "    right='Average_Land_Size',    # Average_Land_Size on the x-axis, to the right\n",
    "    height=0.6                    # height of bars\n",
    ")\n",
    "\n",
    "# Turn off gridlines on categorical axis\n",
    "bar_grdp_sorted.ygrid.grid_line_color = None\n",
    "\n",
    "# Start axes at origin on quantitative axis\n",
    "bar_grdp_sorted.x_range.start = 0\n",
    "\n",
    "# Display the updated sorted plot\n",
    "bokeh.io.show(bar_grdp_sorted)\n"
   ]
  },
  {
   "cell_type": "code",
   "execution_count": 320,
   "metadata": {},
   "outputs": [
    {
     "name": "stderr",
     "output_type": "stream",
     "text": [
      "c:\\Users\\Mert\\anaconda3\\Lib\\site-packages\\plotly\\express\\_core.py:1979: FutureWarning:\n",
      "\n",
      "When grouping with a length-1 list-like, you will need to pass a length-1 tuple to get_group in a future version of pandas. Pass `(name,)` instead of `name` to silence this warning.\n",
      "\n"
     ]
    },
    {
     "data": {
      "application/vnd.plotly.v1+json": {
       "config": {
        "plotlyServerURL": "https://plot.ly"
       },
       "data": [
        {
         "alignmentgroup": "True",
         "boxpoints": "all",
         "hovertemplate": "Higher_Than_Median=1<br>variable=%{x}<br>value=%{y}<extra></extra>",
         "legendgroup": "1",
         "marker": {
          "color": "#636efa"
         },
         "name": "1",
         "notched": false,
         "offsetgroup": "1",
         "orientation": "v",
         "showlegend": true,
         "type": "box",
         "x": [
          "Average_Corn_Field_Expansion_Rate(%)",
          "Average_Corn_Field_Expansion_Rate(%)",
          "Average_Corn_Field_Expansion_Rate(%)",
          "Average_Corn_Field_Expansion_Rate(%)",
          "Average_Corn_Field_Expansion_Rate(%)",
          "Average_Corn_Field_Expansion_Rate(%)",
          "Average_Corn_Field_Expansion_Rate(%)",
          "Average_Corn_Field_Expansion_Rate(%)",
          "Average_Corn_Field_Expansion_Rate(%)",
          "Average_Corn_Field_Expansion_Rate(%)",
          "Average_Corn_Field_Expansion_Rate(%)",
          "Average_Corn_Field_Expansion_Rate(%)",
          "Average_Corn_Field_Expansion_Rate(%)",
          "Average_Corn_Field_Expansion_Rate(%)",
          "Average_Corn_Field_Expansion_Rate(%)",
          "Average_Corn_Field_Expansion_Rate(%)",
          "Average_Corn_Field_Expansion_Rate(%)",
          "Average_Corn_Field_Expansion_Rate(%)",
          "Average_Corn_Field_Expansion_Rate(%)",
          "Average_Corn_Field_Expansion_Rate(%)",
          "Average_Corn_Field_Expansion_Rate(%)",
          "Average_Corn_Field_Expansion_Rate(%)",
          "Average_Corn_Field_Expansion_Rate(%)",
          "Average_Corn_Field_Expansion_Rate(%)",
          "Average_Corn_Field_Expansion_Rate(%)",
          "Average_Corn_Field_Expansion_Rate(%)",
          "Average_Corn_Field_Expansion_Rate(%)",
          "Average_Corn_Field_Expansion_Rate(%)",
          "Average_Corn_Field_Expansion_Rate(%)",
          "Average_Corn_Field_Expansion_Rate(%)",
          "Average_Corn_Field_Expansion_Rate(%)",
          "Average_Corn_Field_Expansion_Rate(%)",
          "Average_Corn_Field_Expansion_Rate(%)",
          "Average_Corn_Field_Expansion_Rate(%)",
          "Average_Corn_Field_Expansion_Rate(%)",
          "Average_Corn_Field_Expansion_Rate(%)",
          "Average_Corn_Field_Expansion_Rate(%)",
          "Average_Corn_Field_Expansion_Rate(%)",
          "Average_Corn_Field_Expansion_Rate(%)",
          "Average_Corn_Field_Expansion_Rate(%)",
          "Average_Corn_Field_Expansion_Rate(%)",
          "Average_Corn_Field_Expansion_Rate(%)",
          "Average_Corn_Field_Expansion_Rate(%)",
          "Average_Corn_Field_Expansion_Rate(%)",
          "Average_Corn_Field_Expansion_Rate(%)",
          "Average_Corn_Field_Expansion_Rate(%)",
          "Average_Corn_Field_Expansion_Rate(%)",
          "Average_Corn_Field_Expansion_Rate(%)",
          "Average_Corn_Field_Expansion_Rate(%)",
          "Average_Corn_Field_Expansion_Rate(%)",
          "Average_Corn_Field_Expansion_Rate(%)",
          "Average_Corn_Field_Expansion_Rate(%)",
          "Average_Corn_Field_Expansion_Rate(%)",
          "Average_Corn_Field_Expansion_Rate(%)",
          "Average_Corn_Field_Expansion_Rate(%)",
          "Average_Corn_Field_Expansion_Rate(%)",
          "Average_Corn_Field_Expansion_Rate(%)",
          "Average_Corn_Field_Expansion_Rate(%)",
          "Average_Corn_Field_Expansion_Rate(%)",
          "Average_Corn_Field_Expansion_Rate(%)",
          "Average_Corn_Field_Expansion_Rate(%)",
          "Average_Corn_Field_Expansion_Rate(%)",
          "Average_Corn_Field_Expansion_Rate(%)"
         ],
         "x0": " ",
         "xaxis": "x",
         "y": [
          7.37193247441421,
          13.77969962801782,
          5.916717027578375,
          -0.027037537720629314,
          55.428216493249046,
          2.4684676585362486,
          8.929009383670083,
          1.793323504077354,
          7.706752705624321,
          10.884689586515657,
          0.6749475825610534,
          3.1620835820430555,
          -1.381214222858797,
          0.02167618906942087,
          0.7524212885142813,
          0.45140920747717095,
          4.205599821894639,
          -0.28185833006987887,
          1.2134388527809676,
          3.517682644460411,
          5.028269335404302,
          2.0242027262304303,
          -4.7933361284050005,
          4.36173254532276,
          -2.6088203559918464,
          -6.849315068493156,
          4.822227022494077,
          2.2805995949176365,
          0.6383269160957095,
          -1.5317639070703757,
          3.7780016073038785,
          14.793182961482458,
          27.204255307045358,
          0.38304103237587384,
          -1.7068390953630403,
          2.840076236934371,
          5.244325772347175,
          2.7942971411120596,
          0.6516214217617569,
          3.9017607922775666,
          25.10732510064805,
          2.823996445936619,
          6.472638801632793,
          -0.5884248468340759,
          0.14269417319565184,
          11.346650372091872,
          -0.1474467338664843,
          9.181571884823212,
          21.371403768376457,
          0.3345781659235029,
          -0.4521979642354195,
          -3.059888567426413,
          18.06584362139918,
          11.508537653424703,
          -0.5675169735771513,
          1.7639217209173619,
          8.277886308428275,
          8.846920472631526,
          0.9641705313262783,
          2.4308055691195696,
          1.898018368048581,
          8.643074104931104,
          -1.0378729538756375
         ],
         "y0": " ",
         "yaxis": "y"
        },
        {
         "alignmentgroup": "True",
         "boxpoints": "all",
         "hovertemplate": "Higher_Than_Median=0<br>variable=%{x}<br>value=%{y}<extra></extra>",
         "legendgroup": "0",
         "marker": {
          "color": "#EF553B"
         },
         "name": "0",
         "notched": false,
         "offsetgroup": "0",
         "orientation": "v",
         "showlegend": true,
         "type": "box",
         "x": [
          "Average_Corn_Field_Expansion_Rate(%)",
          "Average_Corn_Field_Expansion_Rate(%)",
          "Average_Corn_Field_Expansion_Rate(%)",
          "Average_Corn_Field_Expansion_Rate(%)",
          "Average_Corn_Field_Expansion_Rate(%)",
          "Average_Corn_Field_Expansion_Rate(%)",
          "Average_Corn_Field_Expansion_Rate(%)",
          "Average_Corn_Field_Expansion_Rate(%)",
          "Average_Corn_Field_Expansion_Rate(%)",
          "Average_Corn_Field_Expansion_Rate(%)",
          "Average_Corn_Field_Expansion_Rate(%)",
          "Average_Corn_Field_Expansion_Rate(%)",
          "Average_Corn_Field_Expansion_Rate(%)",
          "Average_Corn_Field_Expansion_Rate(%)",
          "Average_Corn_Field_Expansion_Rate(%)",
          "Average_Corn_Field_Expansion_Rate(%)",
          "Average_Corn_Field_Expansion_Rate(%)",
          "Average_Corn_Field_Expansion_Rate(%)",
          "Average_Corn_Field_Expansion_Rate(%)",
          "Average_Corn_Field_Expansion_Rate(%)",
          "Average_Corn_Field_Expansion_Rate(%)",
          "Average_Corn_Field_Expansion_Rate(%)",
          "Average_Corn_Field_Expansion_Rate(%)",
          "Average_Corn_Field_Expansion_Rate(%)",
          "Average_Corn_Field_Expansion_Rate(%)",
          "Average_Corn_Field_Expansion_Rate(%)",
          "Average_Corn_Field_Expansion_Rate(%)",
          "Average_Corn_Field_Expansion_Rate(%)",
          "Average_Corn_Field_Expansion_Rate(%)",
          "Average_Corn_Field_Expansion_Rate(%)",
          "Average_Corn_Field_Expansion_Rate(%)",
          "Average_Corn_Field_Expansion_Rate(%)",
          "Average_Corn_Field_Expansion_Rate(%)",
          "Average_Corn_Field_Expansion_Rate(%)",
          "Average_Corn_Field_Expansion_Rate(%)",
          "Average_Corn_Field_Expansion_Rate(%)",
          "Average_Corn_Field_Expansion_Rate(%)",
          "Average_Corn_Field_Expansion_Rate(%)",
          "Average_Corn_Field_Expansion_Rate(%)",
          "Average_Corn_Field_Expansion_Rate(%)",
          "Average_Corn_Field_Expansion_Rate(%)",
          "Average_Corn_Field_Expansion_Rate(%)",
          "Average_Corn_Field_Expansion_Rate(%)",
          "Average_Corn_Field_Expansion_Rate(%)",
          "Average_Corn_Field_Expansion_Rate(%)",
          "Average_Corn_Field_Expansion_Rate(%)",
          "Average_Corn_Field_Expansion_Rate(%)",
          "Average_Corn_Field_Expansion_Rate(%)",
          "Average_Corn_Field_Expansion_Rate(%)",
          "Average_Corn_Field_Expansion_Rate(%)",
          "Average_Corn_Field_Expansion_Rate(%)",
          "Average_Corn_Field_Expansion_Rate(%)",
          "Average_Corn_Field_Expansion_Rate(%)",
          "Average_Corn_Field_Expansion_Rate(%)",
          "Average_Corn_Field_Expansion_Rate(%)",
          "Average_Corn_Field_Expansion_Rate(%)",
          "Average_Corn_Field_Expansion_Rate(%)",
          "Average_Corn_Field_Expansion_Rate(%)",
          "Average_Corn_Field_Expansion_Rate(%)",
          "Average_Corn_Field_Expansion_Rate(%)",
          "Average_Corn_Field_Expansion_Rate(%)",
          "Average_Corn_Field_Expansion_Rate(%)",
          "Average_Corn_Field_Expansion_Rate(%)"
         ],
         "x0": " ",
         "xaxis": "x",
         "y": [
          0.6335047395218,
          66.66666666666667,
          -1.6324861577601792,
          0.8988779841199973,
          0.19655386366369693,
          33.90363818840907,
          28.16685563466105,
          3.546867083682448,
          3.973892947608443,
          0.11162634168399854,
          3.3743069166554185,
          12.84488566037026,
          -0.10012565225721148,
          7.8335046950532785,
          0.8490718909408675,
          0.09011661445485836,
          1.5583098257127228,
          4.609406442865313,
          -1.8742400814127138,
          3.3292660558485325,
          0.3025060819366709,
          12.209487112457566,
          -0.373188839912022,
          -2.875142724927571,
          -2.426909578676554,
          2.7747777381664096,
          -0.5724940921847177,
          5.131001708958979,
          -0.5007984713819745,
          -0.35163705006835416,
          -0.26530322715333854,
          1.5492230891391205,
          0.5932386747192194,
          21.19429416236779,
          3.1982061535828707,
          6.296601959982076,
          12.334230539594811,
          17.599509023791835,
          1.8281447370186392,
          17.847827313710937,
          1.3219064041787707,
          0.9007943839741582,
          0.8817797805301006,
          11.545508549596983,
          0.13656057709237646,
          -0.700313161452363,
          0.4730755729884141,
          -3.0778611608849116,
          2.7777777777777763,
          7.181530609214046,
          9.109589323279462,
          8.502534269245217,
          1.9748475534442995,
          -0.5377975219259897,
          8.373481760237643,
          3.696364566804422,
          -1.658332957530947,
          6.000010031620186,
          4.416624655661844,
          11.608625124690517,
          3.5130149377034443,
          4.169786243693438,
          8.683996810682155
         ],
         "y0": " ",
         "yaxis": "y"
        }
       ],
       "layout": {
        "autosize": false,
        "boxmode": "group",
        "legend": {
         "title": {
          "text": "Higher_Than_Median"
         },
         "tracegroupgap": 0
        },
        "template": {
         "data": {
          "bar": [
           {
            "error_x": {
             "color": "#2a3f5f"
            },
            "error_y": {
             "color": "#2a3f5f"
            },
            "marker": {
             "line": {
              "color": "#E5ECF6",
              "width": 0.5
             },
             "pattern": {
              "fillmode": "overlay",
              "size": 10,
              "solidity": 0.2
             }
            },
            "type": "bar"
           }
          ],
          "barpolar": [
           {
            "marker": {
             "line": {
              "color": "#E5ECF6",
              "width": 0.5
             },
             "pattern": {
              "fillmode": "overlay",
              "size": 10,
              "solidity": 0.2
             }
            },
            "type": "barpolar"
           }
          ],
          "carpet": [
           {
            "aaxis": {
             "endlinecolor": "#2a3f5f",
             "gridcolor": "white",
             "linecolor": "white",
             "minorgridcolor": "white",
             "startlinecolor": "#2a3f5f"
            },
            "baxis": {
             "endlinecolor": "#2a3f5f",
             "gridcolor": "white",
             "linecolor": "white",
             "minorgridcolor": "white",
             "startlinecolor": "#2a3f5f"
            },
            "type": "carpet"
           }
          ],
          "choropleth": [
           {
            "colorbar": {
             "outlinewidth": 0,
             "ticks": ""
            },
            "type": "choropleth"
           }
          ],
          "contour": [
           {
            "colorbar": {
             "outlinewidth": 0,
             "ticks": ""
            },
            "colorscale": [
             [
              0,
              "#0d0887"
             ],
             [
              0.1111111111111111,
              "#46039f"
             ],
             [
              0.2222222222222222,
              "#7201a8"
             ],
             [
              0.3333333333333333,
              "#9c179e"
             ],
             [
              0.4444444444444444,
              "#bd3786"
             ],
             [
              0.5555555555555556,
              "#d8576b"
             ],
             [
              0.6666666666666666,
              "#ed7953"
             ],
             [
              0.7777777777777778,
              "#fb9f3a"
             ],
             [
              0.8888888888888888,
              "#fdca26"
             ],
             [
              1,
              "#f0f921"
             ]
            ],
            "type": "contour"
           }
          ],
          "contourcarpet": [
           {
            "colorbar": {
             "outlinewidth": 0,
             "ticks": ""
            },
            "type": "contourcarpet"
           }
          ],
          "heatmap": [
           {
            "colorbar": {
             "outlinewidth": 0,
             "ticks": ""
            },
            "colorscale": [
             [
              0,
              "#0d0887"
             ],
             [
              0.1111111111111111,
              "#46039f"
             ],
             [
              0.2222222222222222,
              "#7201a8"
             ],
             [
              0.3333333333333333,
              "#9c179e"
             ],
             [
              0.4444444444444444,
              "#bd3786"
             ],
             [
              0.5555555555555556,
              "#d8576b"
             ],
             [
              0.6666666666666666,
              "#ed7953"
             ],
             [
              0.7777777777777778,
              "#fb9f3a"
             ],
             [
              0.8888888888888888,
              "#fdca26"
             ],
             [
              1,
              "#f0f921"
             ]
            ],
            "type": "heatmap"
           }
          ],
          "heatmapgl": [
           {
            "colorbar": {
             "outlinewidth": 0,
             "ticks": ""
            },
            "colorscale": [
             [
              0,
              "#0d0887"
             ],
             [
              0.1111111111111111,
              "#46039f"
             ],
             [
              0.2222222222222222,
              "#7201a8"
             ],
             [
              0.3333333333333333,
              "#9c179e"
             ],
             [
              0.4444444444444444,
              "#bd3786"
             ],
             [
              0.5555555555555556,
              "#d8576b"
             ],
             [
              0.6666666666666666,
              "#ed7953"
             ],
             [
              0.7777777777777778,
              "#fb9f3a"
             ],
             [
              0.8888888888888888,
              "#fdca26"
             ],
             [
              1,
              "#f0f921"
             ]
            ],
            "type": "heatmapgl"
           }
          ],
          "histogram": [
           {
            "marker": {
             "pattern": {
              "fillmode": "overlay",
              "size": 10,
              "solidity": 0.2
             }
            },
            "type": "histogram"
           }
          ],
          "histogram2d": [
           {
            "colorbar": {
             "outlinewidth": 0,
             "ticks": ""
            },
            "colorscale": [
             [
              0,
              "#0d0887"
             ],
             [
              0.1111111111111111,
              "#46039f"
             ],
             [
              0.2222222222222222,
              "#7201a8"
             ],
             [
              0.3333333333333333,
              "#9c179e"
             ],
             [
              0.4444444444444444,
              "#bd3786"
             ],
             [
              0.5555555555555556,
              "#d8576b"
             ],
             [
              0.6666666666666666,
              "#ed7953"
             ],
             [
              0.7777777777777778,
              "#fb9f3a"
             ],
             [
              0.8888888888888888,
              "#fdca26"
             ],
             [
              1,
              "#f0f921"
             ]
            ],
            "type": "histogram2d"
           }
          ],
          "histogram2dcontour": [
           {
            "colorbar": {
             "outlinewidth": 0,
             "ticks": ""
            },
            "colorscale": [
             [
              0,
              "#0d0887"
             ],
             [
              0.1111111111111111,
              "#46039f"
             ],
             [
              0.2222222222222222,
              "#7201a8"
             ],
             [
              0.3333333333333333,
              "#9c179e"
             ],
             [
              0.4444444444444444,
              "#bd3786"
             ],
             [
              0.5555555555555556,
              "#d8576b"
             ],
             [
              0.6666666666666666,
              "#ed7953"
             ],
             [
              0.7777777777777778,
              "#fb9f3a"
             ],
             [
              0.8888888888888888,
              "#fdca26"
             ],
             [
              1,
              "#f0f921"
             ]
            ],
            "type": "histogram2dcontour"
           }
          ],
          "mesh3d": [
           {
            "colorbar": {
             "outlinewidth": 0,
             "ticks": ""
            },
            "type": "mesh3d"
           }
          ],
          "parcoords": [
           {
            "line": {
             "colorbar": {
              "outlinewidth": 0,
              "ticks": ""
             }
            },
            "type": "parcoords"
           }
          ],
          "pie": [
           {
            "automargin": true,
            "type": "pie"
           }
          ],
          "scatter": [
           {
            "fillpattern": {
             "fillmode": "overlay",
             "size": 10,
             "solidity": 0.2
            },
            "type": "scatter"
           }
          ],
          "scatter3d": [
           {
            "line": {
             "colorbar": {
              "outlinewidth": 0,
              "ticks": ""
             }
            },
            "marker": {
             "colorbar": {
              "outlinewidth": 0,
              "ticks": ""
             }
            },
            "type": "scatter3d"
           }
          ],
          "scattercarpet": [
           {
            "marker": {
             "colorbar": {
              "outlinewidth": 0,
              "ticks": ""
             }
            },
            "type": "scattercarpet"
           }
          ],
          "scattergeo": [
           {
            "marker": {
             "colorbar": {
              "outlinewidth": 0,
              "ticks": ""
             }
            },
            "type": "scattergeo"
           }
          ],
          "scattergl": [
           {
            "marker": {
             "colorbar": {
              "outlinewidth": 0,
              "ticks": ""
             }
            },
            "type": "scattergl"
           }
          ],
          "scattermapbox": [
           {
            "marker": {
             "colorbar": {
              "outlinewidth": 0,
              "ticks": ""
             }
            },
            "type": "scattermapbox"
           }
          ],
          "scatterpolar": [
           {
            "marker": {
             "colorbar": {
              "outlinewidth": 0,
              "ticks": ""
             }
            },
            "type": "scatterpolar"
           }
          ],
          "scatterpolargl": [
           {
            "marker": {
             "colorbar": {
              "outlinewidth": 0,
              "ticks": ""
             }
            },
            "type": "scatterpolargl"
           }
          ],
          "scatterternary": [
           {
            "marker": {
             "colorbar": {
              "outlinewidth": 0,
              "ticks": ""
             }
            },
            "type": "scatterternary"
           }
          ],
          "surface": [
           {
            "colorbar": {
             "outlinewidth": 0,
             "ticks": ""
            },
            "colorscale": [
             [
              0,
              "#0d0887"
             ],
             [
              0.1111111111111111,
              "#46039f"
             ],
             [
              0.2222222222222222,
              "#7201a8"
             ],
             [
              0.3333333333333333,
              "#9c179e"
             ],
             [
              0.4444444444444444,
              "#bd3786"
             ],
             [
              0.5555555555555556,
              "#d8576b"
             ],
             [
              0.6666666666666666,
              "#ed7953"
             ],
             [
              0.7777777777777778,
              "#fb9f3a"
             ],
             [
              0.8888888888888888,
              "#fdca26"
             ],
             [
              1,
              "#f0f921"
             ]
            ],
            "type": "surface"
           }
          ],
          "table": [
           {
            "cells": {
             "fill": {
              "color": "#EBF0F8"
             },
             "line": {
              "color": "white"
             }
            },
            "header": {
             "fill": {
              "color": "#C8D4E3"
             },
             "line": {
              "color": "white"
             }
            },
            "type": "table"
           }
          ]
         },
         "layout": {
          "annotationdefaults": {
           "arrowcolor": "#2a3f5f",
           "arrowhead": 0,
           "arrowwidth": 1
          },
          "autotypenumbers": "strict",
          "coloraxis": {
           "colorbar": {
            "outlinewidth": 0,
            "ticks": ""
           }
          },
          "colorscale": {
           "diverging": [
            [
             0,
             "#8e0152"
            ],
            [
             0.1,
             "#c51b7d"
            ],
            [
             0.2,
             "#de77ae"
            ],
            [
             0.3,
             "#f1b6da"
            ],
            [
             0.4,
             "#fde0ef"
            ],
            [
             0.5,
             "#f7f7f7"
            ],
            [
             0.6,
             "#e6f5d0"
            ],
            [
             0.7,
             "#b8e186"
            ],
            [
             0.8,
             "#7fbc41"
            ],
            [
             0.9,
             "#4d9221"
            ],
            [
             1,
             "#276419"
            ]
           ],
           "sequential": [
            [
             0,
             "#0d0887"
            ],
            [
             0.1111111111111111,
             "#46039f"
            ],
            [
             0.2222222222222222,
             "#7201a8"
            ],
            [
             0.3333333333333333,
             "#9c179e"
            ],
            [
             0.4444444444444444,
             "#bd3786"
            ],
            [
             0.5555555555555556,
             "#d8576b"
            ],
            [
             0.6666666666666666,
             "#ed7953"
            ],
            [
             0.7777777777777778,
             "#fb9f3a"
            ],
            [
             0.8888888888888888,
             "#fdca26"
            ],
            [
             1,
             "#f0f921"
            ]
           ],
           "sequentialminus": [
            [
             0,
             "#0d0887"
            ],
            [
             0.1111111111111111,
             "#46039f"
            ],
            [
             0.2222222222222222,
             "#7201a8"
            ],
            [
             0.3333333333333333,
             "#9c179e"
            ],
            [
             0.4444444444444444,
             "#bd3786"
            ],
            [
             0.5555555555555556,
             "#d8576b"
            ],
            [
             0.6666666666666666,
             "#ed7953"
            ],
            [
             0.7777777777777778,
             "#fb9f3a"
            ],
            [
             0.8888888888888888,
             "#fdca26"
            ],
            [
             1,
             "#f0f921"
            ]
           ]
          },
          "colorway": [
           "#636efa",
           "#EF553B",
           "#00cc96",
           "#ab63fa",
           "#FFA15A",
           "#19d3f3",
           "#FF6692",
           "#B6E880",
           "#FF97FF",
           "#FECB52"
          ],
          "font": {
           "color": "#2a3f5f"
          },
          "geo": {
           "bgcolor": "white",
           "lakecolor": "white",
           "landcolor": "#E5ECF6",
           "showlakes": true,
           "showland": true,
           "subunitcolor": "white"
          },
          "hoverlabel": {
           "align": "left"
          },
          "hovermode": "closest",
          "mapbox": {
           "style": "light"
          },
          "paper_bgcolor": "white",
          "plot_bgcolor": "#E5ECF6",
          "polar": {
           "angularaxis": {
            "gridcolor": "white",
            "linecolor": "white",
            "ticks": ""
           },
           "bgcolor": "#E5ECF6",
           "radialaxis": {
            "gridcolor": "white",
            "linecolor": "white",
            "ticks": ""
           }
          },
          "scene": {
           "xaxis": {
            "backgroundcolor": "#E5ECF6",
            "gridcolor": "white",
            "gridwidth": 2,
            "linecolor": "white",
            "showbackground": true,
            "ticks": "",
            "zerolinecolor": "white"
           },
           "yaxis": {
            "backgroundcolor": "#E5ECF6",
            "gridcolor": "white",
            "gridwidth": 2,
            "linecolor": "white",
            "showbackground": true,
            "ticks": "",
            "zerolinecolor": "white"
           },
           "zaxis": {
            "backgroundcolor": "#E5ECF6",
            "gridcolor": "white",
            "gridwidth": 2,
            "linecolor": "white",
            "showbackground": true,
            "ticks": "",
            "zerolinecolor": "white"
           }
          },
          "shapedefaults": {
           "line": {
            "color": "#2a3f5f"
           }
          },
          "ternary": {
           "aaxis": {
            "gridcolor": "white",
            "linecolor": "white",
            "ticks": ""
           },
           "baxis": {
            "gridcolor": "white",
            "linecolor": "white",
            "ticks": ""
           },
           "bgcolor": "#E5ECF6",
           "caxis": {
            "gridcolor": "white",
            "linecolor": "white",
            "ticks": ""
           }
          },
          "title": {
           "x": 0.05
          },
          "xaxis": {
           "automargin": true,
           "gridcolor": "white",
           "linecolor": "white",
           "ticks": "",
           "title": {
            "standoff": 15
           },
           "zerolinecolor": "white",
           "zerolinewidth": 2
          },
          "yaxis": {
           "automargin": true,
           "gridcolor": "white",
           "linecolor": "white",
           "ticks": "",
           "title": {
            "standoff": 15
           },
           "zerolinecolor": "white",
           "zerolinewidth": 2
          }
         }
        },
        "title": {
         "text": "Average Corn Field Expansion Rate for land size bigger than median \n                 <br>(Higher than median: 1.0; Lower than median: 0.0)"
        },
        "width": 800,
        "xaxis": {
         "anchor": "y",
         "domain": [
          0,
          1
         ],
         "title": {
          "text": "variable"
         }
        },
        "yaxis": {
         "anchor": "x",
         "domain": [
          0,
          1
         ],
         "title": {
          "text": "value"
         }
        }
       }
      }
     },
     "metadata": {},
     "output_type": "display_data"
    }
   ],
   "source": [
    "fig_box = px.box(last_df,                                           # Specify data frame\n",
    "                 y=[\"Average_Corn_Field_Expansion_Rate(%)\"],                       # Select posrecip and negrecip variables\n",
    "                 points=\"all\",                                     # Include all observations as data points\n",
    "                 color = 'Higher_Than_Median',                                # Color (and group by) column \"Cluster\"\n",
    "                 labels = {\"Cluster\": \"Altruism\"},                 # Rename \"Cluster\" as \"Altruism\" in our legend\n",
    "                 title = \"\"\"Average Corn Field Expansion Rate for land size bigger than median \n",
    "                 <br>(Higher than median: 1.0; Lower than median: 0.0)\"\"\")       # Always add a title!\n",
    "fig_box.update_layout(autosize=False, width = 800)                # Specify width (by default, full notebook cell)\n",
    "fig_box"
   ]
  },
  {
   "cell_type": "code",
   "execution_count": 321,
   "metadata": {},
   "outputs": [
    {
     "name": "stderr",
     "output_type": "stream",
     "text": [
      "c:\\Users\\Mert\\anaconda3\\Lib\\site-packages\\plotly\\express\\_core.py:1979: FutureWarning:\n",
      "\n",
      "When grouping with a length-1 list-like, you will need to pass a length-1 tuple to get_group in a future version of pandas. Pass `(name,)` instead of `name` to silence this warning.\n",
      "\n"
     ]
    },
    {
     "data": {
      "application/vnd.plotly.v1+json": {
       "config": {
        "plotlyServerURL": "https://plot.ly"
       },
       "data": [
        {
         "alignmentgroup": "True",
         "boxpoints": "all",
         "hovertemplate": "Higher_Than_Median=1<br>variable=%{x}<br>value=%{y}<extra></extra>",
         "legendgroup": "1",
         "marker": {
          "color": "#636efa"
         },
         "name": "1",
         "notched": false,
         "offsetgroup": "1",
         "orientation": "v",
         "showlegend": true,
         "type": "box",
         "x": [
          "Average_Deforestation_Rate(%)",
          "Average_Deforestation_Rate(%)",
          "Average_Deforestation_Rate(%)",
          "Average_Deforestation_Rate(%)",
          "Average_Deforestation_Rate(%)",
          "Average_Deforestation_Rate(%)",
          "Average_Deforestation_Rate(%)",
          "Average_Deforestation_Rate(%)",
          "Average_Deforestation_Rate(%)",
          "Average_Deforestation_Rate(%)",
          "Average_Deforestation_Rate(%)",
          "Average_Deforestation_Rate(%)",
          "Average_Deforestation_Rate(%)",
          "Average_Deforestation_Rate(%)",
          "Average_Deforestation_Rate(%)",
          "Average_Deforestation_Rate(%)",
          "Average_Deforestation_Rate(%)",
          "Average_Deforestation_Rate(%)",
          "Average_Deforestation_Rate(%)",
          "Average_Deforestation_Rate(%)",
          "Average_Deforestation_Rate(%)",
          "Average_Deforestation_Rate(%)",
          "Average_Deforestation_Rate(%)",
          "Average_Deforestation_Rate(%)",
          "Average_Deforestation_Rate(%)",
          "Average_Deforestation_Rate(%)",
          "Average_Deforestation_Rate(%)",
          "Average_Deforestation_Rate(%)",
          "Average_Deforestation_Rate(%)",
          "Average_Deforestation_Rate(%)",
          "Average_Deforestation_Rate(%)",
          "Average_Deforestation_Rate(%)",
          "Average_Deforestation_Rate(%)",
          "Average_Deforestation_Rate(%)",
          "Average_Deforestation_Rate(%)",
          "Average_Deforestation_Rate(%)",
          "Average_Deforestation_Rate(%)",
          "Average_Deforestation_Rate(%)",
          "Average_Deforestation_Rate(%)",
          "Average_Deforestation_Rate(%)",
          "Average_Deforestation_Rate(%)",
          "Average_Deforestation_Rate(%)",
          "Average_Deforestation_Rate(%)",
          "Average_Deforestation_Rate(%)",
          "Average_Deforestation_Rate(%)",
          "Average_Deforestation_Rate(%)",
          "Average_Deforestation_Rate(%)",
          "Average_Deforestation_Rate(%)",
          "Average_Deforestation_Rate(%)",
          "Average_Deforestation_Rate(%)",
          "Average_Deforestation_Rate(%)",
          "Average_Deforestation_Rate(%)",
          "Average_Deforestation_Rate(%)",
          "Average_Deforestation_Rate(%)",
          "Average_Deforestation_Rate(%)",
          "Average_Deforestation_Rate(%)",
          "Average_Deforestation_Rate(%)",
          "Average_Deforestation_Rate(%)",
          "Average_Deforestation_Rate(%)",
          "Average_Deforestation_Rate(%)",
          "Average_Deforestation_Rate(%)",
          "Average_Deforestation_Rate(%)",
          "Average_Deforestation_Rate(%)"
         ],
         "x0": " ",
         "xaxis": "x",
         "y": [
          0,
          -0.4306537878180217,
          -0.0846565691998861,
          0.010738112417235192,
          -0.20874137596386272,
          -0.3234635136308064,
          -0.18276681286549715,
          0.030540596318129977,
          -0.04815563902532977,
          -0.07903166151669168,
          0.15733632299496314,
          0.22680075637534405,
          -0.16449413331148383,
          -0.39134030207458276,
          -0.3782539022298456,
          -0.25386736994685094,
          -0.0005794547007063964,
          0.17713804465012165,
          0.007424247161431519,
          -0.19237292928713565,
          -0.15070738312639664,
          0.07950903055151347,
          0.04204164298575104,
          0.0015132778111599016,
          0.19726120476629624,
          0.006434717545828825,
          0.0054965955813272216,
          -0.027141029368073652,
          0,
          -0.05361158147892311,
          -0.0996354505333353,
          0,
          -0.005279434982403839,
          -0.0710377254371957,
          0.025313354246022837,
          -0.28377417001727134,
          -0.4876452281166095,
          -0.08625054244665802,
          0.018281890340110477,
          -0.17930357629458402,
          -8.322808048171534e-05,
          -0.051549881599305625,
          -0.8493861176578263,
          -0.11560254616477295,
          -0.020234795891300325,
          0.06820536422729133,
          0.10850776091763334,
          0.018456527474981176,
          0,
          -0.03000601769036089,
          0.16296036228580135,
          -0.11524620454266898,
          -0.01887433603131683,
          -0.44982501693384497,
          0.07141725936378407,
          0.1337417743827319,
          0,
          0.016379113924751755,
          0.03354104679409273,
          0.07123111768317104,
          0,
          -0.15066034713211837,
          -0.11909008659687198
         ],
         "y0": " ",
         "yaxis": "y"
        },
        {
         "alignmentgroup": "True",
         "boxpoints": "all",
         "hovertemplate": "Higher_Than_Median=0<br>variable=%{x}<br>value=%{y}<extra></extra>",
         "legendgroup": "0",
         "marker": {
          "color": "#EF553B"
         },
         "name": "0",
         "notched": false,
         "offsetgroup": "0",
         "orientation": "v",
         "showlegend": true,
         "type": "box",
         "x": [
          "Average_Deforestation_Rate(%)",
          "Average_Deforestation_Rate(%)",
          "Average_Deforestation_Rate(%)",
          "Average_Deforestation_Rate(%)",
          "Average_Deforestation_Rate(%)",
          "Average_Deforestation_Rate(%)",
          "Average_Deforestation_Rate(%)",
          "Average_Deforestation_Rate(%)",
          "Average_Deforestation_Rate(%)",
          "Average_Deforestation_Rate(%)",
          "Average_Deforestation_Rate(%)",
          "Average_Deforestation_Rate(%)",
          "Average_Deforestation_Rate(%)",
          "Average_Deforestation_Rate(%)",
          "Average_Deforestation_Rate(%)",
          "Average_Deforestation_Rate(%)",
          "Average_Deforestation_Rate(%)",
          "Average_Deforestation_Rate(%)",
          "Average_Deforestation_Rate(%)",
          "Average_Deforestation_Rate(%)",
          "Average_Deforestation_Rate(%)",
          "Average_Deforestation_Rate(%)",
          "Average_Deforestation_Rate(%)",
          "Average_Deforestation_Rate(%)",
          "Average_Deforestation_Rate(%)",
          "Average_Deforestation_Rate(%)",
          "Average_Deforestation_Rate(%)",
          "Average_Deforestation_Rate(%)",
          "Average_Deforestation_Rate(%)",
          "Average_Deforestation_Rate(%)",
          "Average_Deforestation_Rate(%)",
          "Average_Deforestation_Rate(%)",
          "Average_Deforestation_Rate(%)",
          "Average_Deforestation_Rate(%)",
          "Average_Deforestation_Rate(%)",
          "Average_Deforestation_Rate(%)",
          "Average_Deforestation_Rate(%)",
          "Average_Deforestation_Rate(%)",
          "Average_Deforestation_Rate(%)",
          "Average_Deforestation_Rate(%)",
          "Average_Deforestation_Rate(%)",
          "Average_Deforestation_Rate(%)",
          "Average_Deforestation_Rate(%)",
          "Average_Deforestation_Rate(%)",
          "Average_Deforestation_Rate(%)",
          "Average_Deforestation_Rate(%)",
          "Average_Deforestation_Rate(%)",
          "Average_Deforestation_Rate(%)",
          "Average_Deforestation_Rate(%)",
          "Average_Deforestation_Rate(%)",
          "Average_Deforestation_Rate(%)",
          "Average_Deforestation_Rate(%)",
          "Average_Deforestation_Rate(%)",
          "Average_Deforestation_Rate(%)",
          "Average_Deforestation_Rate(%)",
          "Average_Deforestation_Rate(%)",
          "Average_Deforestation_Rate(%)",
          "Average_Deforestation_Rate(%)",
          "Average_Deforestation_Rate(%)",
          "Average_Deforestation_Rate(%)",
          "Average_Deforestation_Rate(%)",
          "Average_Deforestation_Rate(%)",
          "Average_Deforestation_Rate(%)"
         ],
         "x0": " ",
         "xaxis": "x",
         "y": [
          0.029280026542800094,
          -0.15110537190082643,
          -0.00732669157326688,
          0.03902469924646371,
          0.08853236008645592,
          -0.01289513014449631,
          0.12402012675502921,
          -0.4134610019528912,
          -0.45148182785642904,
          0.05897105823863636,
          0.2507452415337458,
          0.13708227131124326,
          0.09851116625310179,
          -0.744365562490987,
          0.16825303564434016,
          0.04745872464355181,
          0.4050868911284839,
          0.02663832610233124,
          0.07022272727272737,
          0.23781157279155837,
          -0.21718146718146755,
          -0.10968364402280342,
          0.07057082452431276,
          0.04096730726461605,
          0.11698226250088178,
          -0.31821575214632314,
          -0.3002634811845336,
          -0.06050765272463385,
          -0.1872419340423632,
          0.05481493706009711,
          -0.022895311712317238,
          0.33469864853521386,
          -0.13185749063803473,
          0.003928170594837261,
          0.0372470613328278,
          0.02487336710210601,
          0,
          0.13969176222349652,
          -0.4454815443360202,
          -0.0535753024969607,
          0.05965654258105812,
          0.056449220374070824,
          0.01796622992416832,
          0.0018450368012730548,
          -0.8278778309940019,
          0.10158748014434335,
          -0.1511350964741599,
          0.007641347510926589,
          0.4025417648867476,
          -0.023952537126432475,
          -0.20539892248197458,
          -0.2733110405803675,
          0.023799020155093456,
          0.01695909544644084,
          -0.03331354759579403,
          -0.04676652097902043,
          0.09329769998533553,
          0.023849282804460466,
          0.0060345374386908575,
          -0.09414929388029591,
          -0.05973156830299702,
          -0.20830940317603092,
          0.19221179917100384
         ],
         "y0": " ",
         "yaxis": "y"
        }
       ],
       "layout": {
        "autosize": false,
        "boxmode": "group",
        "legend": {
         "title": {
          "text": "Higher_Than_Median"
         },
         "tracegroupgap": 0
        },
        "template": {
         "data": {
          "bar": [
           {
            "error_x": {
             "color": "#2a3f5f"
            },
            "error_y": {
             "color": "#2a3f5f"
            },
            "marker": {
             "line": {
              "color": "#E5ECF6",
              "width": 0.5
             },
             "pattern": {
              "fillmode": "overlay",
              "size": 10,
              "solidity": 0.2
             }
            },
            "type": "bar"
           }
          ],
          "barpolar": [
           {
            "marker": {
             "line": {
              "color": "#E5ECF6",
              "width": 0.5
             },
             "pattern": {
              "fillmode": "overlay",
              "size": 10,
              "solidity": 0.2
             }
            },
            "type": "barpolar"
           }
          ],
          "carpet": [
           {
            "aaxis": {
             "endlinecolor": "#2a3f5f",
             "gridcolor": "white",
             "linecolor": "white",
             "minorgridcolor": "white",
             "startlinecolor": "#2a3f5f"
            },
            "baxis": {
             "endlinecolor": "#2a3f5f",
             "gridcolor": "white",
             "linecolor": "white",
             "minorgridcolor": "white",
             "startlinecolor": "#2a3f5f"
            },
            "type": "carpet"
           }
          ],
          "choropleth": [
           {
            "colorbar": {
             "outlinewidth": 0,
             "ticks": ""
            },
            "type": "choropleth"
           }
          ],
          "contour": [
           {
            "colorbar": {
             "outlinewidth": 0,
             "ticks": ""
            },
            "colorscale": [
             [
              0,
              "#0d0887"
             ],
             [
              0.1111111111111111,
              "#46039f"
             ],
             [
              0.2222222222222222,
              "#7201a8"
             ],
             [
              0.3333333333333333,
              "#9c179e"
             ],
             [
              0.4444444444444444,
              "#bd3786"
             ],
             [
              0.5555555555555556,
              "#d8576b"
             ],
             [
              0.6666666666666666,
              "#ed7953"
             ],
             [
              0.7777777777777778,
              "#fb9f3a"
             ],
             [
              0.8888888888888888,
              "#fdca26"
             ],
             [
              1,
              "#f0f921"
             ]
            ],
            "type": "contour"
           }
          ],
          "contourcarpet": [
           {
            "colorbar": {
             "outlinewidth": 0,
             "ticks": ""
            },
            "type": "contourcarpet"
           }
          ],
          "heatmap": [
           {
            "colorbar": {
             "outlinewidth": 0,
             "ticks": ""
            },
            "colorscale": [
             [
              0,
              "#0d0887"
             ],
             [
              0.1111111111111111,
              "#46039f"
             ],
             [
              0.2222222222222222,
              "#7201a8"
             ],
             [
              0.3333333333333333,
              "#9c179e"
             ],
             [
              0.4444444444444444,
              "#bd3786"
             ],
             [
              0.5555555555555556,
              "#d8576b"
             ],
             [
              0.6666666666666666,
              "#ed7953"
             ],
             [
              0.7777777777777778,
              "#fb9f3a"
             ],
             [
              0.8888888888888888,
              "#fdca26"
             ],
             [
              1,
              "#f0f921"
             ]
            ],
            "type": "heatmap"
           }
          ],
          "heatmapgl": [
           {
            "colorbar": {
             "outlinewidth": 0,
             "ticks": ""
            },
            "colorscale": [
             [
              0,
              "#0d0887"
             ],
             [
              0.1111111111111111,
              "#46039f"
             ],
             [
              0.2222222222222222,
              "#7201a8"
             ],
             [
              0.3333333333333333,
              "#9c179e"
             ],
             [
              0.4444444444444444,
              "#bd3786"
             ],
             [
              0.5555555555555556,
              "#d8576b"
             ],
             [
              0.6666666666666666,
              "#ed7953"
             ],
             [
              0.7777777777777778,
              "#fb9f3a"
             ],
             [
              0.8888888888888888,
              "#fdca26"
             ],
             [
              1,
              "#f0f921"
             ]
            ],
            "type": "heatmapgl"
           }
          ],
          "histogram": [
           {
            "marker": {
             "pattern": {
              "fillmode": "overlay",
              "size": 10,
              "solidity": 0.2
             }
            },
            "type": "histogram"
           }
          ],
          "histogram2d": [
           {
            "colorbar": {
             "outlinewidth": 0,
             "ticks": ""
            },
            "colorscale": [
             [
              0,
              "#0d0887"
             ],
             [
              0.1111111111111111,
              "#46039f"
             ],
             [
              0.2222222222222222,
              "#7201a8"
             ],
             [
              0.3333333333333333,
              "#9c179e"
             ],
             [
              0.4444444444444444,
              "#bd3786"
             ],
             [
              0.5555555555555556,
              "#d8576b"
             ],
             [
              0.6666666666666666,
              "#ed7953"
             ],
             [
              0.7777777777777778,
              "#fb9f3a"
             ],
             [
              0.8888888888888888,
              "#fdca26"
             ],
             [
              1,
              "#f0f921"
             ]
            ],
            "type": "histogram2d"
           }
          ],
          "histogram2dcontour": [
           {
            "colorbar": {
             "outlinewidth": 0,
             "ticks": ""
            },
            "colorscale": [
             [
              0,
              "#0d0887"
             ],
             [
              0.1111111111111111,
              "#46039f"
             ],
             [
              0.2222222222222222,
              "#7201a8"
             ],
             [
              0.3333333333333333,
              "#9c179e"
             ],
             [
              0.4444444444444444,
              "#bd3786"
             ],
             [
              0.5555555555555556,
              "#d8576b"
             ],
             [
              0.6666666666666666,
              "#ed7953"
             ],
             [
              0.7777777777777778,
              "#fb9f3a"
             ],
             [
              0.8888888888888888,
              "#fdca26"
             ],
             [
              1,
              "#f0f921"
             ]
            ],
            "type": "histogram2dcontour"
           }
          ],
          "mesh3d": [
           {
            "colorbar": {
             "outlinewidth": 0,
             "ticks": ""
            },
            "type": "mesh3d"
           }
          ],
          "parcoords": [
           {
            "line": {
             "colorbar": {
              "outlinewidth": 0,
              "ticks": ""
             }
            },
            "type": "parcoords"
           }
          ],
          "pie": [
           {
            "automargin": true,
            "type": "pie"
           }
          ],
          "scatter": [
           {
            "fillpattern": {
             "fillmode": "overlay",
             "size": 10,
             "solidity": 0.2
            },
            "type": "scatter"
           }
          ],
          "scatter3d": [
           {
            "line": {
             "colorbar": {
              "outlinewidth": 0,
              "ticks": ""
             }
            },
            "marker": {
             "colorbar": {
              "outlinewidth": 0,
              "ticks": ""
             }
            },
            "type": "scatter3d"
           }
          ],
          "scattercarpet": [
           {
            "marker": {
             "colorbar": {
              "outlinewidth": 0,
              "ticks": ""
             }
            },
            "type": "scattercarpet"
           }
          ],
          "scattergeo": [
           {
            "marker": {
             "colorbar": {
              "outlinewidth": 0,
              "ticks": ""
             }
            },
            "type": "scattergeo"
           }
          ],
          "scattergl": [
           {
            "marker": {
             "colorbar": {
              "outlinewidth": 0,
              "ticks": ""
             }
            },
            "type": "scattergl"
           }
          ],
          "scattermapbox": [
           {
            "marker": {
             "colorbar": {
              "outlinewidth": 0,
              "ticks": ""
             }
            },
            "type": "scattermapbox"
           }
          ],
          "scatterpolar": [
           {
            "marker": {
             "colorbar": {
              "outlinewidth": 0,
              "ticks": ""
             }
            },
            "type": "scatterpolar"
           }
          ],
          "scatterpolargl": [
           {
            "marker": {
             "colorbar": {
              "outlinewidth": 0,
              "ticks": ""
             }
            },
            "type": "scatterpolargl"
           }
          ],
          "scatterternary": [
           {
            "marker": {
             "colorbar": {
              "outlinewidth": 0,
              "ticks": ""
             }
            },
            "type": "scatterternary"
           }
          ],
          "surface": [
           {
            "colorbar": {
             "outlinewidth": 0,
             "ticks": ""
            },
            "colorscale": [
             [
              0,
              "#0d0887"
             ],
             [
              0.1111111111111111,
              "#46039f"
             ],
             [
              0.2222222222222222,
              "#7201a8"
             ],
             [
              0.3333333333333333,
              "#9c179e"
             ],
             [
              0.4444444444444444,
              "#bd3786"
             ],
             [
              0.5555555555555556,
              "#d8576b"
             ],
             [
              0.6666666666666666,
              "#ed7953"
             ],
             [
              0.7777777777777778,
              "#fb9f3a"
             ],
             [
              0.8888888888888888,
              "#fdca26"
             ],
             [
              1,
              "#f0f921"
             ]
            ],
            "type": "surface"
           }
          ],
          "table": [
           {
            "cells": {
             "fill": {
              "color": "#EBF0F8"
             },
             "line": {
              "color": "white"
             }
            },
            "header": {
             "fill": {
              "color": "#C8D4E3"
             },
             "line": {
              "color": "white"
             }
            },
            "type": "table"
           }
          ]
         },
         "layout": {
          "annotationdefaults": {
           "arrowcolor": "#2a3f5f",
           "arrowhead": 0,
           "arrowwidth": 1
          },
          "autotypenumbers": "strict",
          "coloraxis": {
           "colorbar": {
            "outlinewidth": 0,
            "ticks": ""
           }
          },
          "colorscale": {
           "diverging": [
            [
             0,
             "#8e0152"
            ],
            [
             0.1,
             "#c51b7d"
            ],
            [
             0.2,
             "#de77ae"
            ],
            [
             0.3,
             "#f1b6da"
            ],
            [
             0.4,
             "#fde0ef"
            ],
            [
             0.5,
             "#f7f7f7"
            ],
            [
             0.6,
             "#e6f5d0"
            ],
            [
             0.7,
             "#b8e186"
            ],
            [
             0.8,
             "#7fbc41"
            ],
            [
             0.9,
             "#4d9221"
            ],
            [
             1,
             "#276419"
            ]
           ],
           "sequential": [
            [
             0,
             "#0d0887"
            ],
            [
             0.1111111111111111,
             "#46039f"
            ],
            [
             0.2222222222222222,
             "#7201a8"
            ],
            [
             0.3333333333333333,
             "#9c179e"
            ],
            [
             0.4444444444444444,
             "#bd3786"
            ],
            [
             0.5555555555555556,
             "#d8576b"
            ],
            [
             0.6666666666666666,
             "#ed7953"
            ],
            [
             0.7777777777777778,
             "#fb9f3a"
            ],
            [
             0.8888888888888888,
             "#fdca26"
            ],
            [
             1,
             "#f0f921"
            ]
           ],
           "sequentialminus": [
            [
             0,
             "#0d0887"
            ],
            [
             0.1111111111111111,
             "#46039f"
            ],
            [
             0.2222222222222222,
             "#7201a8"
            ],
            [
             0.3333333333333333,
             "#9c179e"
            ],
            [
             0.4444444444444444,
             "#bd3786"
            ],
            [
             0.5555555555555556,
             "#d8576b"
            ],
            [
             0.6666666666666666,
             "#ed7953"
            ],
            [
             0.7777777777777778,
             "#fb9f3a"
            ],
            [
             0.8888888888888888,
             "#fdca26"
            ],
            [
             1,
             "#f0f921"
            ]
           ]
          },
          "colorway": [
           "#636efa",
           "#EF553B",
           "#00cc96",
           "#ab63fa",
           "#FFA15A",
           "#19d3f3",
           "#FF6692",
           "#B6E880",
           "#FF97FF",
           "#FECB52"
          ],
          "font": {
           "color": "#2a3f5f"
          },
          "geo": {
           "bgcolor": "white",
           "lakecolor": "white",
           "landcolor": "#E5ECF6",
           "showlakes": true,
           "showland": true,
           "subunitcolor": "white"
          },
          "hoverlabel": {
           "align": "left"
          },
          "hovermode": "closest",
          "mapbox": {
           "style": "light"
          },
          "paper_bgcolor": "white",
          "plot_bgcolor": "#E5ECF6",
          "polar": {
           "angularaxis": {
            "gridcolor": "white",
            "linecolor": "white",
            "ticks": ""
           },
           "bgcolor": "#E5ECF6",
           "radialaxis": {
            "gridcolor": "white",
            "linecolor": "white",
            "ticks": ""
           }
          },
          "scene": {
           "xaxis": {
            "backgroundcolor": "#E5ECF6",
            "gridcolor": "white",
            "gridwidth": 2,
            "linecolor": "white",
            "showbackground": true,
            "ticks": "",
            "zerolinecolor": "white"
           },
           "yaxis": {
            "backgroundcolor": "#E5ECF6",
            "gridcolor": "white",
            "gridwidth": 2,
            "linecolor": "white",
            "showbackground": true,
            "ticks": "",
            "zerolinecolor": "white"
           },
           "zaxis": {
            "backgroundcolor": "#E5ECF6",
            "gridcolor": "white",
            "gridwidth": 2,
            "linecolor": "white",
            "showbackground": true,
            "ticks": "",
            "zerolinecolor": "white"
           }
          },
          "shapedefaults": {
           "line": {
            "color": "#2a3f5f"
           }
          },
          "ternary": {
           "aaxis": {
            "gridcolor": "white",
            "linecolor": "white",
            "ticks": ""
           },
           "baxis": {
            "gridcolor": "white",
            "linecolor": "white",
            "ticks": ""
           },
           "bgcolor": "#E5ECF6",
           "caxis": {
            "gridcolor": "white",
            "linecolor": "white",
            "ticks": ""
           }
          },
          "title": {
           "x": 0.05
          },
          "xaxis": {
           "automargin": true,
           "gridcolor": "white",
           "linecolor": "white",
           "ticks": "",
           "title": {
            "standoff": 15
           },
           "zerolinecolor": "white",
           "zerolinewidth": 2
          },
          "yaxis": {
           "automargin": true,
           "gridcolor": "white",
           "linecolor": "white",
           "ticks": "",
           "title": {
            "standoff": 15
           },
           "zerolinecolor": "white",
           "zerolinewidth": 2
          }
         }
        },
        "title": {
         "text": "Average Deforestation Rate for land size bigger than median \n                 <br>(Higher than median: 1.0; Lower than median: 0.0)"
        },
        "width": 800,
        "xaxis": {
         "anchor": "y",
         "domain": [
          0,
          1
         ],
         "title": {
          "text": "variable"
         }
        },
        "yaxis": {
         "anchor": "x",
         "domain": [
          0,
          1
         ],
         "title": {
          "text": "value"
         }
        }
       }
      }
     },
     "metadata": {},
     "output_type": "display_data"
    }
   ],
   "source": [
    "fig_box = px.box(last_df,                                           # Specify data frame\n",
    "                 y=[\"Average_Deforestation_Rate(%)\"],                       # Select posrecip and negrecip variables\n",
    "                 points=\"all\",                                     # Include all observations as data points\n",
    "                 color = 'Higher_Than_Median',                                # Color (and group by) column \"Cluster\"\n",
    "                 labels = {\"Cluster\": \"Altruism\"},                 # Rename \"Cluster\" as \"Altruism\" in our legend\n",
    "                 title = \"\"\"Average Deforestation Rate for land size bigger than median \n",
    "                 <br>(Higher than median: 1.0; Lower than median: 0.0)\"\"\")       # Always add a title!\n",
    "fig_box.update_layout(autosize=False, width = 800)                # Specify width (by default, full notebook cell)\n",
    "fig_box"
   ]
  },
  {
   "cell_type": "markdown",
   "metadata": {},
   "source": [
    "# Stat"
   ]
  },
  {
   "cell_type": "markdown",
   "metadata": {},
   "source": [
    "**Null Hypothesis (H₀)**:\n",
    "The sample data comes from the specified theoretical distribution\n",
    "\n",
    "**Alternative Hypothesis (H₁)**:\n",
    "The sample data does not come from the specified theoretical distribution.\n",
    "\n",
    "#### Test Statistic for the K-S Test\n",
    "\n",
    "The **K-S statistic** is defined as the maximum absolute difference between the empirical cumulative distribution function (ECDF) of the sample data and the cumulative distribution function (CDF) of the theoretical distribution:\n",
    "\n",
    "$$\n",
    "D_n = \\sup_x \\left| F_n(x) - F(x) \\right|\n",
    "$$\n",
    "\n",
    "where:\n",
    "\n",
    "- $ D_n $ is the **Kolmogorov-Smirnov test statistic**.\n",
    "- $ F_n(x) $ is the **empirical distribution function** (ECDF) of the sample.\n",
    "- $ F(x) $ is the **cumulative distribution function** (CDF) of the theoretical distribution.\n",
    "- $ \\sup_x $ means the **supremum** (i.e., the maximum value over all $ x $).\n"
   ]
  },
  {
   "cell_type": "code",
   "execution_count": 322,
   "metadata": {},
   "outputs": [
    {
     "name": "stderr",
     "output_type": "stream",
     "text": [
      "c:\\Users\\Mert\\anaconda3\\Lib\\site-packages\\scipy\\stats\\_continuous_distns.py:6471: RuntimeWarning:\n",
      "\n",
      "invalid value encountered in log\n",
      "\n",
      "c:\\Users\\Mert\\anaconda3\\Lib\\site-packages\\scipy\\stats\\_continuous_distns.py:718: RuntimeWarning:\n",
      "\n",
      "invalid value encountered in sqrt\n",
      "\n",
      "c:\\Users\\Mert\\anaconda3\\Lib\\site-packages\\scipy\\stats\\_continuous_distns.py:723: RuntimeWarning:\n",
      "\n",
      "The iteration is not making good progress, as measured by the \n",
      "  improvement from the last ten iterations.\n",
      "\n"
     ]
    },
    {
     "data": {
      "text/html": [
       "<div>\n",
       "<style scoped>\n",
       "    .dataframe tbody tr th:only-of-type {\n",
       "        vertical-align: middle;\n",
       "    }\n",
       "\n",
       "    .dataframe tbody tr th {\n",
       "        vertical-align: top;\n",
       "    }\n",
       "\n",
       "    .dataframe thead th {\n",
       "        text-align: right;\n",
       "    }\n",
       "</style>\n",
       "<table border=\"1\" class=\"dataframe\">\n",
       "  <thead>\n",
       "    <tr style=\"text-align: right;\">\n",
       "      <th></th>\n",
       "      <th>K-S Statistic</th>\n",
       "      <th>p-value</th>\n",
       "      <th>params</th>\n",
       "    </tr>\n",
       "  </thead>\n",
       "  <tbody>\n",
       "    <tr>\n",
       "      <th>norm</th>\n",
       "      <td>0.20361</td>\n",
       "      <td>0.000047</td>\n",
       "      <td>(5.372524369229271, 9.840374833193911)</td>\n",
       "    </tr>\n",
       "    <tr>\n",
       "      <th>expon</th>\n",
       "      <td>0.284245</td>\n",
       "      <td>0.0</td>\n",
       "      <td>(-6.849315068493156, 12.221839437722426)</td>\n",
       "    </tr>\n",
       "    <tr>\n",
       "      <th>lognorm</th>\n",
       "      <td>0.097135</td>\n",
       "      <td>0.173632</td>\n",
       "      <td>(0.5205023306690594, -8.49320935691167, 11.895...</td>\n",
       "    </tr>\n",
       "    <tr>\n",
       "      <th>gamma</th>\n",
       "      <td>0.976266</td>\n",
       "      <td>0.0</td>\n",
       "      <td>(0.1537612526795012, -6.849315068493157, 1.765...</td>\n",
       "    </tr>\n",
       "    <tr>\n",
       "      <th>beta</th>\n",
       "      <td>0.130634</td>\n",
       "      <td>0.024635</td>\n",
       "      <td>(2.683367145077997, 19997249548101.973, -7.249...</td>\n",
       "    </tr>\n",
       "  </tbody>\n",
       "</table>\n",
       "</div>"
      ],
      "text/plain": [
       "        K-S Statistic   p-value  \\\n",
       "norm          0.20361  0.000047   \n",
       "expon        0.284245       0.0   \n",
       "lognorm      0.097135  0.173632   \n",
       "gamma        0.976266       0.0   \n",
       "beta         0.130634  0.024635   \n",
       "\n",
       "                                                    params  \n",
       "norm                (5.372524369229271, 9.840374833193911)  \n",
       "expon             (-6.849315068493156, 12.221839437722426)  \n",
       "lognorm  (0.5205023306690594, -8.49320935691167, 11.895...  \n",
       "gamma    (0.1537612526795012, -6.849315068493157, 1.765...  \n",
       "beta     (2.683367145077997, 19997249548101.973, -7.249...  "
      ]
     },
     "execution_count": 322,
     "metadata": {},
     "output_type": "execute_result"
    }
   ],
   "source": [
    "def fit_distributions_and_ks_test(data_column):\n",
    "    \n",
    "    # Drop NaN values from the column\n",
    "    data = data_column.dropna()\n",
    "\n",
    "    # Define a list of distributions to check\n",
    "    distributions = ['norm', 'expon', 'lognorm', 'gamma', 'beta']\n",
    "\n",
    "    # Initialize a dictionary to store the K-S test results\n",
    "    ks_results = {}\n",
    "\n",
    "    # Iterate over each distribution and perform the K-S test\n",
    "    for distribution in distributions:\n",
    "        # Get the distribution object from scipy.stats\n",
    "        dist = getattr(stats, distribution)\n",
    "        \n",
    "        # Fit the distribution parameters to the data\n",
    "        params = dist.fit(data)\n",
    "        \n",
    "        # Perform the K-S test\n",
    "        ks_stat, p_value = stats.kstest(data, distribution, args=params)\n",
    "        \n",
    "        # Store the K-S test results\n",
    "        ks_results[distribution] = {'K-S Statistic': ks_stat, 'p-value': p_value, 'params': params}\n",
    "\n",
    "    # Convert the results to a DataFrame for better presentation\n",
    "    ks_results_df = pd.DataFrame(ks_results).T\n",
    "\n",
    "    return ks_results_df\n",
    "\n",
    "\n",
    "result_df = fit_distributions_and_ks_test(last_df['Average_Corn_Field_Expansion_Rate(%)'])\n",
    "result_df\n",
    "\n"
   ]
  },
  {
   "cell_type": "code",
   "execution_count": 323,
   "metadata": {},
   "outputs": [],
   "source": [
    "def plot_empirical_vs_fitted(data_column, distribution_name, params):\n",
    "    \"\"\"\n",
    "    Plot the empirical distribution of the data and the fitted theoretical distribution.\n",
    "\n",
    "    Parameters:\n",
    "    - data_column: pandas Series containing the data.\n",
    "    - distribution_name: name of the distribution to plot (e.g., 'lognorm').\n",
    "    - params: parameters of the fitted distribution.\n",
    "    \"\"\"\n",
    "    # Drop NaN values from the data\n",
    "    data = data_column.dropna()\n",
    "\n",
    "    # Set up the figure\n",
    "    plt.figure(figsize=(10, 6))\n",
    "\n",
    "    # Plot the empirical distribution\n",
    "    sns.histplot(data, bins=30, kde=False, stat='density', label='Empirical', color='blue')\n",
    "\n",
    "    # Get the fitted distribution\n",
    "    dist = getattr(stats, distribution_name)\n",
    "    \n",
    "    # Create a range of values from the data\n",
    "    x = np.linspace(data.min(), data.max(), 1000)\n",
    "    \n",
    "    # Get the probability density function (PDF) for the fitted distribution\n",
    "    fitted_pdf = dist.pdf(x, *params)\n",
    "    \n",
    "    # Plot the fitted distribution\n",
    "    plt.plot(x, fitted_pdf, label=f'{distribution_name.capitalize()} Fitted', color='red')\n",
    "\n",
    "    # Add titles and labels\n",
    "    plt.title(f'Empirical vs Fitted {distribution_name.capitalize()} Distribution')\n",
    "    plt.xlabel('Value')\n",
    "    plt.ylabel('Density')\n",
    "    plt.legend()\n",
    "\n",
    "    # Show the plot\n",
    "    plt.show()"
   ]
  },
  {
   "cell_type": "code",
   "execution_count": 324,
   "metadata": {},
   "outputs": [
    {
     "name": "stderr",
     "output_type": "stream",
     "text": [
      "C:\\Users\\Mert\\AppData\\Local\\Temp\\ipykernel_25644\\2223818991.py:1: FutureWarning:\n",
      "\n",
      "Series.__getitem__ treating keys as positions is deprecated. In a future version, integer keys will always be treated as labels (consistent with DataFrame behavior). To access a value by position, use `ser.iloc[pos]`\n",
      "\n",
      "c:\\Users\\Mert\\anaconda3\\Lib\\site-packages\\seaborn\\_oldcore.py:1119: FutureWarning:\n",
      "\n",
      "use_inf_as_na option is deprecated and will be removed in a future version. Convert inf values to NaN before operating instead.\n",
      "\n"
     ]
    },
    {
     "data": {
      "image/png": "[encoded data removed]",
      "text/plain": [
       "<Figure size 1000x600 with 1 Axes>"
      ]
     },
     "metadata": {},
     "output_type": "display_data"
    }
   ],
   "source": [
    "lognorm_params = result_df[result_df.index == \"lognorm\"][\"params\"][0]  # From your dataframe\n",
    "plot_empirical_vs_fitted(last_df['Average_Corn_Field_Expansion_Rate(%)'], 'lognorm', lognorm_params)\n"
   ]
  },
  {
   "cell_type": "code",
   "execution_count": 325,
   "metadata": {},
   "outputs": [
    {
     "name": "stderr",
     "output_type": "stream",
     "text": [
      "c:\\Users\\Mert\\anaconda3\\Lib\\site-packages\\scipy\\stats\\_continuous_distns.py:6471: RuntimeWarning:\n",
      "\n",
      "invalid value encountered in log\n",
      "\n",
      "c:\\Users\\Mert\\anaconda3\\Lib\\site-packages\\scipy\\stats\\_continuous_distns.py:718: RuntimeWarning:\n",
      "\n",
      "invalid value encountered in sqrt\n",
      "\n",
      "c:\\Users\\Mert\\anaconda3\\Lib\\site-packages\\scipy\\stats\\_continuous_distns.py:723: RuntimeWarning:\n",
      "\n",
      "The iteration is not making good progress, as measured by the \n",
      "  improvement from the last ten iterations.\n",
      "\n"
     ]
    },
    {
     "data": {
      "text/html": [
       "<div>\n",
       "<style scoped>\n",
       "    .dataframe tbody tr th:only-of-type {\n",
       "        vertical-align: middle;\n",
       "    }\n",
       "\n",
       "    .dataframe tbody tr th {\n",
       "        vertical-align: top;\n",
       "    }\n",
       "\n",
       "    .dataframe thead th {\n",
       "        text-align: right;\n",
       "    }\n",
       "</style>\n",
       "<table border=\"1\" class=\"dataframe\">\n",
       "  <thead>\n",
       "    <tr style=\"text-align: right;\">\n",
       "      <th></th>\n",
       "      <th>K-S Statistic</th>\n",
       "      <th>p-value</th>\n",
       "      <th>params</th>\n",
       "    </tr>\n",
       "  </thead>\n",
       "  <tbody>\n",
       "    <tr>\n",
       "      <th>norm</th>\n",
       "      <td>0.155171</td>\n",
       "      <td>0.004084</td>\n",
       "      <td>(-0.050597502642670676, 0.20337346127641226)</td>\n",
       "    </tr>\n",
       "    <tr>\n",
       "      <th>expon</th>\n",
       "      <td>0.411894</td>\n",
       "      <td>0.0</td>\n",
       "      <td>(-0.8493861176578263, 0.7987886150151556)</td>\n",
       "    </tr>\n",
       "    <tr>\n",
       "      <th>lognorm</th>\n",
       "      <td>0.156702</td>\n",
       "      <td>0.003613</td>\n",
       "      <td>(0.0018136049871709274, -112.18558935555927, 1...</td>\n",
       "    </tr>\n",
       "    <tr>\n",
       "      <th>gamma</th>\n",
       "      <td>0.173244</td>\n",
       "      <td>0.00089</td>\n",
       "      <td>(250.90708354118385, -3.46161214317259, 0.0135...</td>\n",
       "    </tr>\n",
       "    <tr>\n",
       "      <th>beta</th>\n",
       "      <td>1.0</td>\n",
       "      <td>0.0</td>\n",
       "      <td>(4938383.818112783, 2.1473905757808662, -1.640...</td>\n",
       "    </tr>\n",
       "  </tbody>\n",
       "</table>\n",
       "</div>"
      ],
      "text/plain": [
       "        K-S Statistic   p-value  \\\n",
       "norm         0.155171  0.004084   \n",
       "expon        0.411894       0.0   \n",
       "lognorm      0.156702  0.003613   \n",
       "gamma        0.173244   0.00089   \n",
       "beta              1.0       0.0   \n",
       "\n",
       "                                                    params  \n",
       "norm          (-0.050597502642670676, 0.20337346127641226)  \n",
       "expon            (-0.8493861176578263, 0.7987886150151556)  \n",
       "lognorm  (0.0018136049871709274, -112.18558935555927, 1...  \n",
       "gamma    (250.90708354118385, -3.46161214317259, 0.0135...  \n",
       "beta     (4938383.818112783, 2.1473905757808662, -1.640...  "
      ]
     },
     "execution_count": 325,
     "metadata": {},
     "output_type": "execute_result"
    }
   ],
   "source": [
    "res_df = fit_distributions_and_ks_test(last_df['Average_Deforestation_Rate(%)'])\n",
    "res_df"
   ]
  },
  {
   "cell_type": "code",
   "execution_count": 326,
   "metadata": {},
   "outputs": [
    {
     "name": "stderr",
     "output_type": "stream",
     "text": [
      "C:\\Users\\Mert\\AppData\\Local\\Temp\\ipykernel_25644\\4267838316.py:1: FutureWarning:\n",
      "\n",
      "Series.__getitem__ treating keys as positions is deprecated. In a future version, integer keys will always be treated as labels (consistent with DataFrame behavior). To access a value by position, use `ser.iloc[pos]`\n",
      "\n",
      "c:\\Users\\Mert\\anaconda3\\Lib\\site-packages\\seaborn\\_oldcore.py:1119: FutureWarning:\n",
      "\n",
      "use_inf_as_na option is deprecated and will be removed in a future version. Convert inf values to NaN before operating instead.\n",
      "\n"
     ]
    },
    {
     "data": {
      "image/png": "[encoded data removed]",
      "text/plain": [
       "<Figure size 1000x600 with 1 Axes>"
      ]
     },
     "metadata": {},
     "output_type": "display_data"
    }
   ],
   "source": [
    "lognorm_params = res_df[res_df.index == \"lognorm\"][\"params\"][0]  # From your dataframe\n",
    "plot_empirical_vs_fitted(last_df['Average_Deforestation_Rate(%)'], 'lognorm', lognorm_params)"
   ]
  },
  {
   "cell_type": "markdown",
   "metadata": {},
   "source": [
    "### Skewness and Curtosis"
   ]
  },
  {
   "cell_type": "code",
   "execution_count": 332,
   "metadata": {},
   "outputs": [
    {
     "data": {
      "text/html": [
       "<div>\n",
       "<style scoped>\n",
       "    .dataframe tbody tr th:only-of-type {\n",
       "        vertical-align: middle;\n",
       "    }\n",
       "\n",
       "    .dataframe tbody tr th {\n",
       "        vertical-align: top;\n",
       "    }\n",
       "\n",
       "    .dataframe thead th {\n",
       "        text-align: right;\n",
       "    }\n",
       "</style>\n",
       "<table border=\"1\" class=\"dataframe\">\n",
       "  <thead>\n",
       "    <tr style=\"text-align: right;\">\n",
       "      <th></th>\n",
       "      <th>Skewness</th>\n",
       "      <th>Kurtosis</th>\n",
       "    </tr>\n",
       "  </thead>\n",
       "  <tbody>\n",
       "    <tr>\n",
       "      <th>Average_Deforestation_Rate(%)</th>\n",
       "      <td>-1.357330</td>\n",
       "      <td>3.497001</td>\n",
       "    </tr>\n",
       "    <tr>\n",
       "      <th>Average_Corn_Field_Expansion_Rate(%)</th>\n",
       "      <td>3.479456</td>\n",
       "      <td>16.339781</td>\n",
       "    </tr>\n",
       "  </tbody>\n",
       "</table>\n",
       "</div>"
      ],
      "text/plain": [
       "                                      Skewness   Kurtosis\n",
       "Average_Deforestation_Rate(%)        -1.357330   3.497001\n",
       "Average_Corn_Field_Expansion_Rate(%)  3.479456  16.339781"
      ]
     },
     "execution_count": 332,
     "metadata": {},
     "output_type": "execute_result"
    }
   ],
   "source": [
    "# Calculate skewness and kurtosis for the two columns\n",
    "skewness_deforestation = last_df['Average_Deforestation_Rate(%)'].skew()\n",
    "kurtosis_deforestation = last_df['Average_Deforestation_Rate(%)'].kurtosis()\n",
    "\n",
    "skewness_corn_expansion = last_df['Average_Corn_Field_Expansion_Rate(%)'].skew()\n",
    "kurtosis_corn_expansion = last_df['Average_Corn_Field_Expansion_Rate(%)'].kurtosis()\n",
    "\n",
    "# Create a DataFrame to store the results\n",
    "stats_df = pd.DataFrame({\n",
    "    'Skewness': {\n",
    "        'Average_Deforestation_Rate(%)': skewness_deforestation,\n",
    "        'Average_Corn_Field_Expansion_Rate(%)': skewness_corn_expansion\n",
    "    },\n",
    "    'Kurtosis': {\n",
    "        'Average_Deforestation_Rate(%)': kurtosis_deforestation,\n",
    "        'Average_Corn_Field_Expansion_Rate(%)': kurtosis_corn_expansion\n",
    "    }\n",
    "})\n",
    "\n",
    "stats_df"
   ]
  },
  {
   "cell_type": "code",
   "execution_count": 327,
   "metadata": {},
   "outputs": [
    {
     "name": "stderr",
     "output_type": "stream",
     "text": [
      "c:\\Users\\Mert\\anaconda3\\Lib\\site-packages\\statsmodels\\regression\\linear_model.py:1965: RuntimeWarning:\n",
      "\n",
      "divide by zero encountered in scalar divide\n",
      "\n"
     ]
    },
    {
     "data": {
      "text/html": [
       "<table class=\"simpletable\">\n",
       "<caption>OLS Regression Results</caption>\n",
       "<tr>\n",
       "  <th>Dep. Variable:</th>    <td>Average_Deforestation_Rate(%)</td> <th>  R-squared (uncentered):</th>      <td>   0.318</td>\n",
       "</tr>\n",
       "<tr>\n",
       "  <th>Model:</th>                         <td>OLS</td>              <th>  Adj. R-squared (uncentered):</th> <td>   0.300</td>\n",
       "</tr>\n",
       "<tr>\n",
       "  <th>Method:</th>                   <td>Least Squares</td>         <th>  F-statistic:       </th>          <td>   18.18</td>\n",
       "</tr>\n",
       "<tr>\n",
       "  <th>Date:</th>                   <td>Wed, 16 Oct 2024</td>        <th>  Prob (F-statistic):</th>          <td>0.000124</td>\n",
       "</tr>\n",
       "<tr>\n",
       "  <th>Time:</th>                       <td>02:06:07</td>            <th>  Log-Likelihood:    </th>          <td> -98.018</td>\n",
       "</tr>\n",
       "<tr>\n",
       "  <th>No. Observations:</th>            <td>    40</td>             <th>  AIC:               </th>          <td>   198.0</td>\n",
       "</tr>\n",
       "<tr>\n",
       "  <th>Df Residuals:</th>                <td>    39</td>             <th>  BIC:               </th>          <td>   199.7</td>\n",
       "</tr>\n",
       "<tr>\n",
       "  <th>Df Model:</th>                    <td>     1</td>             <th>                     </th>              <td> </td>   \n",
       "</tr>\n",
       "<tr>\n",
       "  <th>Covariance Type:</th>            <td>nonrobust</td>           <th>                     </th>              <td> </td>   \n",
       "</tr>\n",
       "</table>\n",
       "<table class=\"simpletable\">\n",
       "<tr>\n",
       "                    <td></td>                      <th>coef</th>     <th>std err</th>      <th>t</th>      <th>P>|t|</th>  <th>[0.025</th>    <th>0.975]</th>  \n",
       "</tr>\n",
       "<tr>\n",
       "  <th>const</th>                                <td>         0</td> <td>        0</td> <td>      nan</td> <td>   nan</td> <td>        0</td> <td>        0</td>\n",
       "</tr>\n",
       "<tr>\n",
       "  <th>Average_Corn_Field_Expansion_Rate(%)</th> <td>   -1.2074</td> <td>    0.283</td> <td>   -4.263</td> <td> 0.000</td> <td>   -1.780</td> <td>   -0.635</td>\n",
       "</tr>\n",
       "</table>\n",
       "<table class=\"simpletable\">\n",
       "<tr>\n",
       "  <th>Omnibus:</th>       <td> 0.961</td> <th>  Durbin-Watson:     </th> <td>   1.164</td>\n",
       "</tr>\n",
       "<tr>\n",
       "  <th>Prob(Omnibus):</th> <td> 0.618</td> <th>  Jarque-Bera (JB):  </th> <td>   0.849</td>\n",
       "</tr>\n",
       "<tr>\n",
       "  <th>Skew:</th>          <td> 0.072</td> <th>  Prob(JB):          </th> <td>   0.654</td>\n",
       "</tr>\n",
       "<tr>\n",
       "  <th>Kurtosis:</th>      <td> 2.301</td> <th>  Cond. No.          </th> <td>     inf</td>\n",
       "</tr>\n",
       "</table><br/><br/>Notes:<br/>[1] R² is computed without centering (uncentered) since the model does not contain a constant.<br/>[2] Standard Errors assume that the covariance matrix of the errors is correctly specified.<br/>[3] The smallest eigenvalue is      0. This might indicate that there are<br/>strong multicollinearity problems or that the design matrix is singular."
      ],
      "text/latex": [
       "\\begin{center}\n",
       "\\begin{tabular}{lclc}\n",
       "\\toprule\n",
       "\\textbf{Dep. Variable:}                            & Average\\_Deforestation\\_Rate(\\%) & \\textbf{  R-squared (uncentered):}      &     0.318   \\\\\n",
       "\\textbf{Model:}                                    &               OLS                & \\textbf{  Adj. R-squared (uncentered):} &     0.300   \\\\\n",
       "\\textbf{Method:}                                   &          Least Squares           & \\textbf{  F-statistic:       }          &     18.18   \\\\\n",
       "\\textbf{Date:}                                     &         Wed, 16 Oct 2024         & \\textbf{  Prob (F-statistic):}          &  0.000124   \\\\\n",
       "\\textbf{Time:}                                     &             02:06:07             & \\textbf{  Log-Likelihood:    }          &   -98.018   \\\\\n",
       "\\textbf{No. Observations:}                         &                  40              & \\textbf{  AIC:               }          &     198.0   \\\\\n",
       "\\textbf{Df Residuals:}                             &                  39              & \\textbf{  BIC:               }          &     199.7   \\\\\n",
       "\\textbf{Df Model:}                                 &                   1              & \\textbf{                     }          &             \\\\\n",
       "\\textbf{Covariance Type:}                          &            nonrobust             & \\textbf{                     }          &             \\\\\n",
       "\\bottomrule\n",
       "\\end{tabular}\n",
       "\\begin{tabular}{lcccccc}\n",
       "                                                   & \\textbf{coef} & \\textbf{std err} & \\textbf{t} & \\textbf{P$> |$t$|$} & \\textbf{[0.025} & \\textbf{0.975]}  \\\\\n",
       "\\midrule\n",
       "\\textbf{const}                                     &            0  &            0     &       nan  &           nan        &            0    &            0     \\\\\n",
       "\\textbf{Average\\_Corn\\_Field\\_Expansion\\_Rate(\\%)} &      -1.2074  &        0.283     &    -4.263  &         0.000        &       -1.780    &       -0.635     \\\\\n",
       "\\bottomrule\n",
       "\\end{tabular}\n",
       "\\begin{tabular}{lclc}\n",
       "\\textbf{Omnibus:}       &  0.961 & \\textbf{  Durbin-Watson:     } &    1.164  \\\\\n",
       "\\textbf{Prob(Omnibus):} &  0.618 & \\textbf{  Jarque-Bera (JB):  } &    0.849  \\\\\n",
       "\\textbf{Skew:}          &  0.072 & \\textbf{  Prob(JB):          } &    0.654  \\\\\n",
       "\\textbf{Kurtosis:}      &  2.301 & \\textbf{  Cond. No.          } &      inf  \\\\\n",
       "\\bottomrule\n",
       "\\end{tabular}\n",
       "%\\caption{OLS Regression Results}\n",
       "\\end{center}\n",
       "\n",
       "Notes: \\newline\n",
       " [1] R² is computed without centering (uncentered) since the model does not contain a constant. \\newline\n",
       " [2] Standard Errors assume that the covariance matrix of the errors is correctly specified. \\newline\n",
       " [3] The smallest eigenvalue is      0. This might indicate that there are \\newline\n",
       " strong multicollinearity problems or that the design matrix is singular."
      ],
      "text/plain": [
       "<class 'statsmodels.iolib.summary.Summary'>\n",
       "\"\"\"\n",
       "                                      OLS Regression Results                                      \n",
       "==================================================================================================\n",
       "Dep. Variable:     Average_Deforestation_Rate(%)   R-squared (uncentered):                   0.318\n",
       "Model:                                       OLS   Adj. R-squared (uncentered):              0.300\n",
       "Method:                            Least Squares   F-statistic:                              18.18\n",
       "Date:                           Wed, 16 Oct 2024   Prob (F-statistic):                    0.000124\n",
       "Time:                                   02:06:07   Log-Likelihood:                         -98.018\n",
       "No. Observations:                             40   AIC:                                      198.0\n",
       "Df Residuals:                                 39   BIC:                                      199.7\n",
       "Df Model:                                      1                                                  \n",
       "Covariance Type:                       nonrobust                                                  \n",
       "========================================================================================================\n",
       "                                           coef    std err          t      P>|t|      [0.025      0.975]\n",
       "--------------------------------------------------------------------------------------------------------\n",
       "const                                         0          0        nan        nan           0           0\n",
       "Average_Corn_Field_Expansion_Rate(%)    -1.2074      0.283     -4.263      0.000      -1.780      -0.635\n",
       "==============================================================================\n",
       "Omnibus:                        0.961   Durbin-Watson:                   1.164\n",
       "Prob(Omnibus):                  0.618   Jarque-Bera (JB):                0.849\n",
       "Skew:                           0.072   Prob(JB):                        0.654\n",
       "Kurtosis:                       2.301   Cond. No.                          inf\n",
       "==============================================================================\n",
       "\n",
       "Notes:\n",
       "[1] R² is computed without centering (uncentered) since the model does not contain a constant.\n",
       "[2] Standard Errors assume that the covariance matrix of the errors is correctly specified.\n",
       "[3] The smallest eigenvalue is      0. This might indicate that there are\n",
       "strong multicollinearity problems or that the design matrix is singular.\n",
       "\"\"\""
      ]
     },
     "execution_count": 327,
     "metadata": {},
     "output_type": "execute_result"
    }
   ],
   "source": [
    "X = sm.add_constant(positive_df[[\"Average_Corn_Field_Expansion_Rate(%)\"]])\n",
    "\n",
    "# Dependent variable (Y)\n",
    "Y = positive_df[\"Average_Deforestation_Rate(%)\"]\n",
    "\n",
    "# Fit the OLS regression model\n",
    "ols_model = sm.OLS(np.log(Y), np.log(X)).fit()\n",
    "\n",
    "# Display the OLS regression results\n",
    "ols_results_extended = ols_model.summary()\n",
    "ols_results_extended"
   ]
  },
  {
   "cell_type": "code",
   "execution_count": null,
   "metadata": {},
   "outputs": [],
   "source": []
  }
 ],
 "metadata": {
  "kernelspec": {
   "display_name": "Python 3 (ipykernel)",
   "language": "python",
   "name": "python3"
  },
  "language_info": {
   "codemirror_mode": {
    "name": "ipython",
    "version": 3
   },
   "file_extension": ".py",
   "mimetype": "text/x-python",
   "name": "python",
   "nbconvert_exporter": "python",
   "pygments_lexer": "ipython3",
   "version": "3.11.5"
  }
 },
 "nbformat": 4,
 "nbformat_minor": 2
}
